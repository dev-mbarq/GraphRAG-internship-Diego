{
 "cells": [
  {
   "cell_type": "code",
   "execution_count": 1,
   "metadata": {},
   "outputs": [],
   "source": [
    "import json\n",
    "import os\n",
    "import pandas as pd"
   ]
  },
  {
   "cell_type": "code",
   "execution_count": 2,
   "metadata": {},
   "outputs": [],
   "source": [
    "# Path to corpus file\n",
    "multihop_corpus_path = os.path.join(\"..\", \"data\", \"Multi-hop_RAG_dataset\", \"corpus.json\")\n",
    "\n",
    "# Read JSON\n",
    "with open(multihop_corpus_path, \"r\", encoding=\"utf-8\") as f:\n",
    "    corpus = json.load(f)"
   ]
  },
  {
   "cell_type": "code",
   "execution_count": 3,
   "metadata": {},
   "outputs": [
    {
     "data": {
      "text/html": [
       "<div>\n",
       "<style scoped>\n",
       "    .dataframe tbody tr th:only-of-type {\n",
       "        vertical-align: middle;\n",
       "    }\n",
       "\n",
       "    .dataframe tbody tr th {\n",
       "        vertical-align: top;\n",
       "    }\n",
       "\n",
       "    .dataframe thead th {\n",
       "        text-align: right;\n",
       "    }\n",
       "</style>\n",
       "<table border=\"1\" class=\"dataframe\">\n",
       "  <thead>\n",
       "    <tr style=\"text-align: right;\">\n",
       "      <th></th>\n",
       "      <th>title</th>\n",
       "      <th>author</th>\n",
       "      <th>source</th>\n",
       "      <th>published_at</th>\n",
       "      <th>category</th>\n",
       "      <th>url</th>\n",
       "      <th>body</th>\n",
       "    </tr>\n",
       "  </thead>\n",
       "  <tbody>\n",
       "    <tr>\n",
       "      <th>count</th>\n",
       "      <td>609</td>\n",
       "      <td>545</td>\n",
       "      <td>609</td>\n",
       "      <td>609</td>\n",
       "      <td>609</td>\n",
       "      <td>609</td>\n",
       "      <td>609</td>\n",
       "    </tr>\n",
       "    <tr>\n",
       "      <th>unique</th>\n",
       "      <td>609</td>\n",
       "      <td>300</td>\n",
       "      <td>49</td>\n",
       "      <td>606</td>\n",
       "      <td>6</td>\n",
       "      <td>609</td>\n",
       "      <td>609</td>\n",
       "    </tr>\n",
       "    <tr>\n",
       "      <th>top</th>\n",
       "      <td>Meta to offer ad-free subscription in Europe i...</td>\n",
       "      <td>Natasha Lomas</td>\n",
       "      <td>Sporting News</td>\n",
       "      <td>2023-11-17T21:47:19+00:00</td>\n",
       "      <td>sports</td>\n",
       "      <td>https://techcrunch.com/2023/10/30/meta-ad-free...</td>\n",
       "      <td>Meta is to offer an ad-free subscription versi...</td>\n",
       "    </tr>\n",
       "    <tr>\n",
       "      <th>freq</th>\n",
       "      <td>1</td>\n",
       "      <td>14</td>\n",
       "      <td>101</td>\n",
       "      <td>2</td>\n",
       "      <td>211</td>\n",
       "      <td>1</td>\n",
       "      <td>1</td>\n",
       "    </tr>\n",
       "  </tbody>\n",
       "</table>\n",
       "</div>"
      ],
      "text/plain": [
       "                                                    title         author  \\\n",
       "count                                                 609            545   \n",
       "unique                                                609            300   \n",
       "top     Meta to offer ad-free subscription in Europe i...  Natasha Lomas   \n",
       "freq                                                    1             14   \n",
       "\n",
       "               source               published_at category  \\\n",
       "count             609                        609      609   \n",
       "unique             49                        606        6   \n",
       "top     Sporting News  2023-11-17T21:47:19+00:00   sports   \n",
       "freq              101                          2      211   \n",
       "\n",
       "                                                      url  \\\n",
       "count                                                 609   \n",
       "unique                                                609   \n",
       "top     https://techcrunch.com/2023/10/30/meta-ad-free...   \n",
       "freq                                                    1   \n",
       "\n",
       "                                                     body  \n",
       "count                                                 609  \n",
       "unique                                                609  \n",
       "top     Meta is to offer an ad-free subscription versi...  \n",
       "freq                                                    1  "
      ]
     },
     "execution_count": 3,
     "metadata": {},
     "output_type": "execute_result"
    }
   ],
   "source": [
    "# Convert corpus data into df\n",
    "corpus_as_df = pd.DataFrame(corpus)\n",
    "# Get descriptive stats\n",
    "corpus_as_df.describe()"
   ]
  },
  {
   "cell_type": "markdown",
   "metadata": {},
   "source": [
    "This corpus comprises 609 articles from 300 different authors, 49 different sources and 6 different categories."
   ]
  },
  {
   "cell_type": "code",
   "execution_count": null,
   "metadata": {},
   "outputs": [
    {
     "data": {
      "text/plain": [
       "array([None, 'Stan Choe', 'Colum Dell, Yardbarker', 'Dan Treacy',\n",
       "       'Ian Valentino', 'Rob Miech', 'Arunima Bhanot',\n",
       "       'The New York Times', 'Morgan Little', 'Jacquelyn Melinek',\n",
       "       'Kyle Wiggers', 'Robert Calcutt', 'Will Unwin', 'David Pierce',\n",
       "       'Rebecca Bellan', 'Jeffrey Parkin', 'Johnny Yu',\n",
       "       'Laura Hampson and Meredith Clark', 'Dilvin Yasa', 'Amber Raiken',\n",
       "       'Christy Doran', 'Catherine Shu', 'Natasha Lomas', 'Sarah Perez',\n",
       "       'Cade Metz, Karen Weise, Nico Grant and Mike Isaac',\n",
       "       'Ingrid Lunden', 'Ben Weiss', 'Tim Biggs', 'David Suggs',\n",
       "       'Bryan Murphy', 'Kyle Irving', 'Romain Dillet', 'Vinnie Iyer',\n",
       "       'Kyle Bonn', 'Haje Jan Kamps', 'Nell Geraets', 'Chelsea Ritschel',\n",
       "       'Alyssa Stringer', 'Jessica Conditt', 'Laura Snapes',\n",
       "       'Elizabeth Lopatto', 'Paul Sawers', 'Pete Volk',\n",
       "       'Nick Brinkerhoff', 'Dave Richard', 'Shanna McCarriston',\n",
       "       'Martin Derbyshire', 'Sam Eggleston', 'James Wallace', 'Rob Smyth',\n",
       "       '', 'Sheena Vasani', 'CBS Sports Staff', 'Martin Harris',\n",
       "       'Roi Weinberger', 'STAN CHOE', 'Christine Hall', 'Sam Rutherford',\n",
       "       'Assaf Gilead', 'Bill Bender', 'Edward Sutelan', 'Tasha Robinson',\n",
       "       'Mintu Tomar', 'Rebecca Owen', 'Murray Stassen', 'Jamie Jackson',\n",
       "       'Antonio G. Di Benedetto', 'Amy Skorheim', 'Andy Hunter',\n",
       "       'Reuters', 'Natalie Weiner', 'Paolo Confino', 'Devin Coldewey',\n",
       "       'Andrew Tarantola', 'Ed Aarons at Stamford Bridge', 'Tony Mejia',\n",
       "       'Morgan Sung', 'David Hytner', 'Will Daniel', 'Cody Benjamin',\n",
       "       'Nick Musial', 'Amanda Chicago Lewis',\n",
       "       'Anthony Franco, MLB Trade Rumors', 'Ryan Gilliam',\n",
       "       'Hezi Sternlicht', 'Mia Sato', 'Brad Cox',\n",
       "       'Serina DeSalvio, Texas A&M University', 'The Roar',\n",
       "       'zee business', 'Topher L. McDougal, The Conversation',\n",
       "       'Erika Hayasaki', 'Brian Campbell', 'Paige Hagy',\n",
       "       'Maria Rugenstein, Mark Zelinka, Kristopher B. Karnauskas, Paulo Ceppi and Timothy Andrews',\n",
       "       'News', 'Travis Pulver', 'Heath Cummings', 'Sarah Berry',\n",
       "       'Associated Press', 'James Gregory', 'Andy Hunter at Anfield',\n",
       "       'Craig Mathieson', 'Derek Decloet, Bloomberg', 'Ron Miller',\n",
       "       'Alex Wilhelm', 'Toussaint Egan', 'Connor Andrews',\n",
       "       'Jonathan Burnett', 'wwos', 'Sean Hollister', 'Sarah-Jane Collins',\n",
       "       'Tony Harper', 'Lindsey Bahr, The Associated Press',\n",
       "       'Meredith Clark', 'Josh Edwards', 'Rita Liao',\n",
       "       'Suzanne Wrack at Hampden Park', 'Priyank Mithani',\n",
       "       'Dominic Booth', 'David Swan', 'Tim Stevens', 'IoT.Business.News',\n",
       "       'Abe Beame', 'Sudeep Sinha', 'Sloan Piva', 'Sporting News Betting',\n",
       "       'Ben Miller', 'Jennifer Pattison Tuohy',\n",
       "       'Jonathan Liew at Wembley', 'Joanna Guelas', 'Jack Snape',\n",
       "       'Tim Ingham', 'Mike Mahardy', 'Jagmeet Singh', 'Anat-Daniely Lev',\n",
       "       'Mirette Magdy, Bloomberg', 'Richard Jolly', 'Peter Ryan',\n",
       "       'Robert Moran', 'Jeff Dunn,Valentina Palladino,Amy Skorheim',\n",
       "       'Lisa Mascaro, Farnoush Amiri, Stephen Groves, Kevin Freking, The Associated Press',\n",
       "       'Emily Dozier', 'Michael Benson', 'Katie Malone', 'Matt Burns',\n",
       "       'Kieran Francis', 'Cameron Faulkner', 'Victoria Song',\n",
       "       'Jonathan Liew at Old Trafford', 'Anna Heim', 'Andreas Hale',\n",
       "       'Shi En Kim', 'Mike DeCourcy', 'Engadget',\n",
       "       'Adriana Morga, The Associated Press', 'Taylor Hatmaker',\n",
       "       'Dean Straka', 'Moumita Dutta', 'Maria Temming',\n",
       "       'David Keyton, Christina Larson, Rodrique Ngowi, The Associated Press',\n",
       "       'Isobel Lewis', 'Amy Beth Hanson, The Associated Press',\n",
       "       'Daniel Tencer', 'Tom Gray', 'Chirag Radhyan', 'Jake Lambourne',\n",
       "       'Daniel Dockery', 'Dushyant Singh', 'Jacqueline Maley',\n",
       "       'Walter Marsh', 'Laura Allen', 'Robert Lea', 'Kris Holt',\n",
       "       'Tyler Sullivan', 'Gilbert McGregor', 'Nicole Clark',\n",
       "       'Ansuman Abhisek', 'Rita Nazareth and Sinéad Carew', 'Uma Gurav',\n",
       "       'Ivan Mehta', 'Puja Molpariya', 'BusinessWorld', 'Swati Bhatia',\n",
       "       'Alice Newcome-Beill', 'Maanya Sachdeva', 'Harri Weber',\n",
       "       'Andrew J. Hawkins', 'Matt Jancer',\n",
       "       'Brendan Murray, Tara Patel, Bloomberg',\n",
       "       'Faiza Saqib and Amber Raiken', 'Charles Pulliam-Moore',\n",
       "       \"Matt O'Brien, The Associated Press\", 'Johana Bhuiyan',\n",
       "       'Kirsten Korosec', 'Joanna Whitehead',\n",
       "       'Josh Erickson, Pro Hockey Rumors', 'Tom Naghten', 'Pete Prisco',\n",
       "       'Jakso James', 'Robin Buller in Oakland, California',\n",
       "       'Alicia Haddick', 'Wenlei Ma', 'Shaikh Aerajuddin', 'Chris Plante',\n",
       "       'Nick Igbokwe', 'Damian Mannion', 'Barney Ronay at Old Trafford',\n",
       "       'Simon Burnton at the Brian Lara Stadium', 'Isaac Thorn',\n",
       "       'Lisa Mascaro, Farnoush Amiri, Stephen Groves, The Associated Press',\n",
       "       'Grayson Morley', 'Jesse Hassenger', 'Autumn Wright',\n",
       "       'Bradley van Paridon', 'Petrana Radulovic', 'Joel Sritharan',\n",
       "       'Ellie Muir', 'Barbara Krasnoff', 'Jeff Dunn',\n",
       "       'Vishakha Deshpande', 'Melissa Murphy, The Associated Press',\n",
       "       'Ela Levi-Weinreb', 'Luke McLaughlin at OL Stadium',\n",
       "       'Kanishka Prakash', 'James Trew',\n",
       "       'Jake Coyle, The Associated Press', 'Brian Heater',\n",
       "       'Shrabana Sengupta', 'Robin McKie, Science Editor',\n",
       "       'Saurabh Saini', 'Mary Ann Azevedo', 'Kris Johnson',\n",
       "       'Saleah Blancaflor', 'Tina Hesman Saey', 'Yardbarker Staff',\n",
       "       'Nilavro Ghosh', 'Crissy Froyd', 'Ian Chadband', 'Zach Rabiroff',\n",
       "       'Joshua Rivera', 'Sarah Thwaites', 'Tage Kene-Okafor',\n",
       "       'sascha.pare@futurenet.com (Sascha Pare)', 'Ariel Shapiro',\n",
       "       'Kayti Burt', 'Jesús Victorino', 'Joseph Hostetler', 'Kat Tretina',\n",
       "       'Jacob Camenker', 'Aidan Wohl, GoAZCATS.com',\n",
       "       'Sid Lowe at the Ramón Sánchez Pizjuán Stadium',\n",
       "       'Ava Benny-Morrison, Bloomberg', 'Sydney Lake', 'Ryan Fagan',\n",
       "       'Veerendra Vikram Singh', 'Rita Nazareth', 'Ela Levi-Weinrib',\n",
       "       'Steven Taranto', 'Amanda Silberling', 'Parnab Bhattacharya',\n",
       "       'Carrie Andrews', 'Jon Porter', 'Matthew Reynolds',\n",
       "       'Jana Randow, Bloomberg', 'Igor Bonifacic', 'Howard Mustoe',\n",
       "       'Hunter Felt', 'Yardbarker', 'Cass Marshall', 'Scott Gilbertson',\n",
       "       'Wes Goldberg, RealGM', 'Gyan Yankovich',\n",
       "       'Jessica Conditt,Aaron Souppouris', 'Eric Ravenscraft',\n",
       "       'Michael R. Sisak, The Associated Press', 'Tom Maloney',\n",
       "       'Luke Baker', 'Nilay Patel', 'Mike Meehall Wood',\n",
       "       'Patricia Hernandez', 'Simon Peach', 'Kazuma Hashimoto',\n",
       "       'Matt Lutovsky', 'Chris Wilson', 'Trina Paul', 'Kaleigh Werner',\n",
       "       'Michael Idato', 'Natalie Wilson', 'Brenda Stolyar',\n",
       "       'Brent Brookhouse', 'Richard Jinman', 'Barry Divola',\n",
       "       'Jason Steger', 'Christaline Meyers', 'Susana Polo',\n",
       "       'Matt Patches', 'Charlie Hall', 'Mike Butcher', 'Justine Calma',\n",
       "       'Annabel Streets'], dtype=object)"
      ]
     },
     "execution_count": 7,
     "metadata": {},
     "output_type": "execute_result"
    }
   ],
   "source": [
    "# Detail on authors\n",
    "corpus_as_df[\"author\"].unique()"
   ]
  },
  {
   "cell_type": "code",
   "execution_count": null,
   "metadata": {},
   "outputs": [
    {
     "data": {
      "text/plain": [
       "array(['Mashable', 'The Sydney Morning Herald',\n",
       "       'Cnbc | World Business News Leader', 'Yardbarker', 'Sporting News',\n",
       "       'Essentially Sports', 'The New York Times', 'TechCrunch',\n",
       "       'TalkSport', 'The Guardian', 'The Verge', 'Polygon',\n",
       "       'The Independent - Life and Style', 'FOX News - Entertainment',\n",
       "       'The Age', 'The Roar | Sports Writers Blog', 'Fortune', 'Engadget',\n",
       "       'CBSSports.com', 'FOX News - Health', 'FOX News - Lifestyle',\n",
       "       'Globes English | Israel Business Arena', 'Hacker News',\n",
       "       'Eos: Earth And Space Science News', 'Music Business Worldwide',\n",
       "       'Sky Sports', 'Business Line',\n",
       "       'Scitechdaily | Science Space And Technology News 2017',\n",
       "       'Zee Business',\n",
       "       'Business Today | Latest Stock Market And Economy News India',\n",
       "       'Sport Grill', 'Wide World Of Sports', 'Financial Times',\n",
       "       'Iot Business News', 'BBC News - Technology',\n",
       "       'The Independent - Sports', 'Yahoo News',\n",
       "       'Live Science: The Most Interesting Articles',\n",
       "       'Science News For Students', 'BBC News - Entertainment & Arts',\n",
       "       'Insidesport', 'Advanced Science News', 'Revyuh Media',\n",
       "       'Business World', 'Wired', 'Seeking Alpha', 'Sportskeeda',\n",
       "       'Rivals', 'The Independent - Travel'], dtype=object)"
      ]
     },
     "execution_count": 8,
     "metadata": {},
     "output_type": "execute_result"
    }
   ],
   "source": [
    "# Detail on sources\n",
    "corpus_as_df[\"source\"].unique()"
   ]
  },
  {
   "cell_type": "code",
   "execution_count": null,
   "metadata": {},
   "outputs": [
    {
     "data": {
      "text/plain": [
       "array(['entertainment', 'business', 'sports', 'technology', 'health',\n",
       "       'science'], dtype=object)"
      ]
     },
     "execution_count": 5,
     "metadata": {},
     "output_type": "execute_result"
    }
   ],
   "source": [
    "# Detail on category\n",
    "corpus_as_df[\"category\"].unique()"
   ]
  },
  {
   "cell_type": "code",
   "execution_count": null,
   "metadata": {},
   "outputs": [
    {
     "data": {
      "text/plain": [
       "count      609.000000\n",
       "mean      1746.008210\n",
       "std       1338.843744\n",
       "min        839.000000\n",
       "25%       1036.000000\n",
       "50%       1298.000000\n",
       "75%       1938.000000\n",
       "max      12387.000000\n",
       "Name: body_wordcount, dtype: float64"
      ]
     },
     "execution_count": 4,
     "metadata": {},
     "output_type": "execute_result"
    }
   ],
   "source": [
    "# Detail on article's wordcount\n",
    "\n",
    "# Add new feature with word count of each article\n",
    "corpus_as_df[\"body_wordcount\"] = corpus_as_df[\"body\"].str.split().str.len()\n",
    "# Get descriptive stats\n",
    "corpus_as_df[\"body_wordcount\"].describe()\n",
    "\n"
   ]
  },
  {
   "cell_type": "markdown",
   "metadata": {},
   "source": [
    "The median wordcount is ~1300 words, roughly equivalent to between 3.5 and 5 pages depending on the particular format."
   ]
  },
  {
   "cell_type": "code",
   "execution_count": null,
   "metadata": {},
   "outputs": [],
   "source": []
  }
 ],
 "metadata": {
  "kernelspec": {
   "display_name": "Python 3",
   "language": "python",
   "name": "python3"
  },
  "language_info": {
   "codemirror_mode": {
    "name": "ipython",
    "version": 3
   },
   "file_extension": ".py",
   "mimetype": "text/x-python",
   "name": "python",
   "nbconvert_exporter": "python",
   "pygments_lexer": "ipython3",
   "version": "3.11.9"
  }
 },
 "nbformat": 4,
 "nbformat_minor": 2
}
