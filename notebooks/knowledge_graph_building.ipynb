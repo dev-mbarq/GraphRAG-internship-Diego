{
 "cells": [
  {
   "cell_type": "code",
   "execution_count": 1,
   "metadata": {},
   "outputs": [
    {
     "ename": "KeyError",
     "evalue": "'\\n  \"entities\"'",
     "output_type": "error",
     "traceback": [
      "\u001b[31m---------------------------------------------------------------------------\u001b[39m",
      "\u001b[31mKeyError\u001b[39m                                  Traceback (most recent call last)",
      "\u001b[36mCell\u001b[39m\u001b[36m \u001b[39m\u001b[32mIn[1]\u001b[39m\u001b[32m, line 25\u001b[39m\n\u001b[32m     16\u001b[39m sample_text = \u001b[33m\"\"\"\u001b[39m\n\u001b[32m     17\u001b[39m \u001b[33mApple announced its new iPhone 15 on September 12, 2023. \u001b[39m\n\u001b[32m     18\u001b[39m \u001b[33mTim Cook presented the event at Apple Park in Cupertino, California. \u001b[39m\n\u001b[32m     19\u001b[39m \u001b[33mThe event was also streamed live on YouTube, where millions of viewers tuned in.\u001b[39m\n\u001b[32m     20\u001b[39m \u001b[33m\"\"\"\u001b[39m\n\u001b[32m     22\u001b[39m \u001b[38;5;66;03m# Prepare the message with the prompt template\u001b[39;00m\n\u001b[32m     23\u001b[39m message = {\n\u001b[32m     24\u001b[39m     \u001b[33m'\u001b[39m\u001b[33mrole\u001b[39m\u001b[33m'\u001b[39m: \u001b[33m'\u001b[39m\u001b[33muser\u001b[39m\u001b[33m'\u001b[39m, \n\u001b[32m---> \u001b[39m\u001b[32m25\u001b[39m     \u001b[33m'\u001b[39m\u001b[33mcontent\u001b[39m\u001b[33m'\u001b[39m: \u001b[43mprompt_config\u001b[49m\u001b[43m[\u001b[49m\u001b[33;43m'\u001b[39;49m\u001b[33;43msystem_prompt\u001b[39;49m\u001b[33;43m'\u001b[39;49m\u001b[43m]\u001b[49m\u001b[43m.\u001b[49m\u001b[43mformat\u001b[49m\u001b[43m(\u001b[49m\u001b[43mtext_to_process\u001b[49m\u001b[43m=\u001b[49m\u001b[43msample_text\u001b[49m\u001b[43m)\u001b[49m\n\u001b[32m     26\u001b[39m }\n\u001b[32m     28\u001b[39m \u001b[38;5;66;03m# Call Ollama API\u001b[39;00m\n\u001b[32m     29\u001b[39m response = client.chat(\n\u001b[32m     30\u001b[39m     model=prompt_config[\u001b[33m'\u001b[39m\u001b[33mmodel\u001b[39m\u001b[33m'\u001b[39m],\n\u001b[32m     31\u001b[39m     messages=[message]\n\u001b[32m     32\u001b[39m )\n",
      "\u001b[31mKeyError\u001b[39m: '\\n  \"entities\"'"
     ]
    }
   ],
   "source": [
    "import yaml\n",
    "from pathlib import Path\n",
    "from ollama import Client\n",
    "import json\n",
    "\n",
    "# Initialize Ollama client\n",
    "client = Client(host='http://localhost:11434')\n",
    "\n",
    "# Load the prompt template\n",
    "prompt_path = Path('../prompts') / 'entity_extraction.yaml'\n",
    "with open(prompt_path, 'r', encoding='utf-8') as file:\n",
    "    prompt_content = yaml.safe_load(file)\n",
    "prompt = prompt_content['entity_extraction']\n",
    "\n",
    "# Example text to process\n",
    "sample_text = \"\"\"\n",
    "Apple announced its new iPhone 15 on September 12, 2023. \n",
    "Tim Cook presented the event at Apple Park in Cupertino, California. \n",
    "The event was also streamed live on YouTube, where millions of viewers tuned in.\n",
    "\"\"\"\n",
    "\n",
    "# Prepare the messages with both system and user prompts\n",
    "messages = [\n",
    "    {\n",
    "        'role': 'system',\n",
    "        'content': prompt['system_prompt']\n",
    "    },\n",
    "    {\n",
    "        'role': 'user',\n",
    "        'content': prompt['user_prompt_template'].format(text_to_process=sample_text)\n",
    "    }\n",
    "]\n",
    "\n",
    "# Call Ollama API\n",
    "response = client.chat(\n",
    "    model=prompt['model'],\n",
    "    messages=messages\n",
    ")\n",
    "\n",
    "# Get the raw response content\n",
    "result = response['message']['content']\n",
    "\n",
    "## Try to parse as JSON if possible\n",
    "#try:\n",
    "#    result = json.loads(result)\n",
    "#    print(json.dumps(result, indent=2))\n",
    "#except json.JSONDecodeError:\n",
    "#    # If JSON parsing fails, print the raw response\n",
    "#    print(\"Raw model response:\")\n",
    "#    print(result)"
   ]
  }
 ],
 "metadata": {
  "kernelspec": {
   "display_name": "Python 3",
   "language": "python",
   "name": "python3"
  },
  "language_info": {
   "codemirror_mode": {
    "name": "ipython",
    "version": 3
   },
   "file_extension": ".py",
   "mimetype": "text/x-python",
   "name": "python",
   "nbconvert_exporter": "python",
   "pygments_lexer": "ipython3",
   "version": "3.12.9"
  }
 },
 "nbformat": 4,
 "nbformat_minor": 2
}
