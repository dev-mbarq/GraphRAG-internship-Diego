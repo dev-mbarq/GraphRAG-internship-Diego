{
 "cells": [
  {
   "cell_type": "markdown",
   "metadata": {},
   "source": [
    "### A. Import relevant dependencies"
   ]
  },
  {
   "cell_type": "code",
   "execution_count": 1,
   "metadata": {},
   "outputs": [],
   "source": [
    "import os\n",
    "import pickle\n",
    "import sys\n",
    "\n",
    "import numpy as np\n",
    "import torch\n",
    "import yaml\n",
    "import matplotlib.pyplot as plt\n",
    "from torch_geometric.loader import NeighborLoader\n",
    "from torch_geometric.utils import to_undirected\n",
    "from torch_geometric.utils.convert import from_networkx\n",
    "from torch.optim.lr_scheduler import LinearLR, CosineAnnealingLR\n",
    "\n",
    "try:\n",
    "    # This will work in scripts where __file__ is defined\n",
    "    current_dir = os.path.dirname(os.path.abspath(__file__))\n",
    "    # Assuming \"src\" is parallel to the script folder\n",
    "    project_root = os.path.abspath(os.path.join(current_dir, \"..\"))\n",
    "except NameError:\n",
    "    # In notebooks __file__ is not defined: assume we're in notebooks/\n",
    "    project_root = os.path.abspath(os.path.join(os.getcwd(), \"..\"))\n",
    "\n",
    "src_path = os.path.join(project_root, \"src\")\n",
    "if src_path not in sys.path:\n",
    "    sys.path.append(src_path)\n",
    "\n",
    "from main.graph_formatting_utils import prepare_graph_for_gnn\n",
    "from main.loss_functions import unsupervised_loss_V0, unsupervised_loss_V1\n",
    "from main.node_embedding_models import GraphSAGE, GraphSAGE_V2\n",
    "from main.training_utils import train_in_cpu, train_in_gpu"
   ]
  },
  {
   "cell_type": "markdown",
   "metadata": {},
   "source": [
    "### B. Check CUDA status"
   ]
  },
  {
   "cell_type": "code",
   "execution_count": 2,
   "metadata": {},
   "outputs": [
    {
     "name": "stdout",
     "output_type": "stream",
     "text": [
      "CUDA Available: True\n",
      "GPU Name: NVIDIA L40S\n",
      "CUDA Device Count: 1\n"
     ]
    }
   ],
   "source": [
    "print(\"CUDA Available:\", torch.cuda.is_available())\n",
    "print(\"GPU Name:\", torch.cuda.get_device_name(0) if torch.cuda.is_available() else \"No GPU detected\")\n",
    "print(\"CUDA Device Count:\", torch.cuda.device_count())"
   ]
  },
  {
   "cell_type": "markdown",
   "metadata": {},
   "source": [
    "### C. Load config data"
   ]
  },
  {
   "cell_type": "code",
   "execution_count": 3,
   "metadata": {},
   "outputs": [
    {
     "name": "stdout",
     "output_type": "stream",
     "text": [
      "{'model_params': {'channels': [1024, 768, 512]}, 'loader_params': {'num_neighbors': [15, 15], 'batch_size': 256, 'shuffle': True}, 'input_data': {'graph_file_name': 'RIZIV_hackathon_main/RIZIV_base_hybrid_graph_wsem.pkl'}, 'optimizer_params': {'learning_rate': 0.0005}, 'training_params': {'num_epochs': 10}, 'bundle_tag': 'RIZIV_test'}\n"
     ]
    }
   ],
   "source": [
    "# Load GraphSAGE config file\n",
    "config_file_path = os.path.join(\n",
    "    project_root, \"config\", \"graphsage_config.yaml\"\n",
    "    )\n",
    "\n",
    "with open(config_file_path, \"r\") as f:\n",
    "    config = yaml.safe_load(f)\n",
    "\n",
    "print(config)\n",
    "\n",
    "input_graph_file_name = config['input_data']['graph_file_name']\n",
    "input_graph_embedding_dim = config['model_params']['channels'][0] \n",
    "\n",
    "graphsage_channels = config['model_params']['channels']\n",
    "\n",
    "loader_num_neighbors = config['loader_params']['num_neighbors']\n",
    "loader_batch_size = config['loader_params']['batch_size']\n",
    "loader_shuffle = config['loader_params']['shuffle']\n",
    "\n",
    "training_num_epochs = config['training_params']['num_epochs']\n",
    "optimizer_learning_rate = config['optimizer_params']['learning_rate']\n",
    "\n",
    "bundle_tag = config[\"bundle_tag\"]"
   ]
  },
  {
   "cell_type": "markdown",
   "metadata": {},
   "source": [
    "### D. Load data and train embedding model"
   ]
  },
  {
   "cell_type": "code",
   "execution_count": null,
   "metadata": {},
   "outputs": [
    {
     "name": "stderr",
     "output_type": "stream",
     "text": [
      "/home/diomedea/.pyenv/versions/3.11.6/envs/graphsage/lib/python3.11/site-packages/torch_geometric/sampler/neighbor_sampler.py:61: UserWarning: Using 'NeighborSampler' without a 'pyg-lib' installation is deprecated and will be removed soon. Please install 'pyg-lib' for accelerated neighborhood sampling\n",
      "  warnings.warn(f\"Using '{self.__class__.__name__}' without a \"\n",
      "Training epochs:   0%|          | 0/10 [00:00<?, ?it/s]"
     ]
    }
   ],
   "source": [
    "# Load and format graph\n",
    "graph_path = os.path.join(project_root, \"data\", input_graph_file_name)\n",
    "with open(graph_path, \"rb\") as f:\n",
    "    G = pickle.load(f)\n",
    "\n",
    "formatted_G, incidences = prepare_graph_for_gnn(G, embedding_dim=input_graph_embedding_dim)\n",
    "\n",
    "# Convert the NetworkX graph to a PyTorch Geometric Data object\n",
    "data = from_networkx(formatted_G)\n",
    "\n",
    "# Ensure the graph is undirected\n",
    "data.edge_index = to_undirected(data.edge_index)\n",
    "\n",
    "# Create data attribute \"x\" containing the embeddings of each node complying with the PyTorch Geometric API\n",
    "data.x = data.embedding\n",
    "del data.embedding\n",
    "\n",
    "# Instantiate the GraphSAGE model\n",
    "model = GraphSAGE_V2(\n",
    "    channels=graphsage_channels\n",
    ")\n",
    "\n",
    "# Set device for model training\n",
    "device = torch.device(\"cuda\" if torch.cuda.is_available() else \"cpu\")\n",
    "\n",
    "# Move the model to the device\n",
    "model = model.to(device)\n",
    "\n",
    "# Instantiate the NeighborLoader for mini-batch training\n",
    "train_loader = NeighborLoader(\n",
    "    data,\n",
    "    num_neighbors=loader_num_neighbors,  #  neighbors for the first layer, 15 for the second\n",
    "    batch_size=loader_batch_size,  # Batch size\n",
    "    shuffle=loader_shuffle\n",
    ")\n",
    "\n",
    "# Define optimizer\n",
    "optimizer = torch.optim.Adam(model.parameters(), lr=optimizer_learning_rate) # (old optimizer)\n",
    "\n",
    "# # 1) Instantiate the optimizer with weight decay regularization\n",
    "# optimizer = torch.optim.Adam(\n",
    "#     model.parameters(),\n",
    "#     lr=optimizer_learning_rate,  # e.g. 5e-4\n",
    "#     weight_decay=1e-6            # L2 regularization coefficient\n",
    "# )\n",
    "# \n",
    "# # 2) Compute total number of optimization steps and warm‑up steps\n",
    "# num_epochs   = training_num_epochs         # from your config\n",
    "# steps_per_ep = len(train_loader)           # number of batches per epoch\n",
    "# total_steps  = num_epochs * steps_per_ep\n",
    "# warmup_steps = int(0.05 * total_steps)      # e.g. 10% of all training steps\n",
    "# \n",
    "# # 3) Define two schedulers: a linear warm‑up, then cosine decay\n",
    "# warmup_scheduler = LinearLR(\n",
    "#     optimizer,\n",
    "#     start_factor=0.1,    # start at 0% of target LR\n",
    "#     end_factor=1.0,      # end at 100% of target LR\n",
    "#     total_iters=warmup_steps\n",
    "# )\n",
    "# \n",
    "# decay_scheduler = CosineAnnealingLR(\n",
    "#     optimizer,\n",
    "#     T_max=total_steps - warmup_steps,  # remaining steps after warm‑up\n",
    "#     eta_min=1e-6                       # minimum LR at end of decay\n",
    "# )\n",
    "\n",
    "# Define scaler if GPU is available\n",
    "scaler = torch.cuda.amp.GradScaler() if torch.cuda.is_available() else None\n",
    "\n",
    "if not torch.cuda.is_available():\n",
    "    training_outputs = train_in_cpu(model, train_loader, optimizer, num_epochs=training_num_epochs, loss_fn=unsupervised_loss_V1, debug=False, plot_eval=True)\n",
    "\n",
    "elif torch.cuda.is_available():\n",
    "    training_outputs = train_in_gpu(model, train_loader, optimizer, num_epochs=training_num_epochs, loss_fn=unsupervised_loss_V1, debug=False, plot_eval=True)\n"
   ]
  },
  {
   "cell_type": "markdown",
   "metadata": {},
   "source": [
    "### E. Save embeddings, models weights and config"
   ]
  },
  {
   "cell_type": "code",
   "execution_count": null,
   "metadata": {},
   "outputs": [],
   "source": [
    "#  Add Graph_SAGE embeddings to the baseline graph\n",
    "\n",
    "## -> Move data to the same device as the model\n",
    "device = next(model.parameters()).device\n",
    "data_x = data.x.to(device)\n",
    "data_edge_index = data.edge_index.to(device)\n",
    "\n",
    "## -> Obtain final embeddings from the trained model\n",
    "with torch.no_grad():\n",
    "    final_emb = model(data_x, data_edge_index)  # shape [num_nodes, embedding_dim]\n",
    "    final_emb_np = final_emb.cpu().numpy()\n",
    "\n",
    "## -> Add them back to the cleaned_G graph\n",
    "list_of_nodes = list(G.nodes())  # Must match the node ordering in data\n",
    "for i, node in enumerate(list_of_nodes):\n",
    "    # Store as a NumPy array (or you could store as a list if you prefer)\n",
    "    G.nodes[node][\"hybrid_embedding\"] = final_emb_np[i]\n",
    "\n",
    "# Define tags for the output files\n",
    "training_n_hops = len(graphsage_channels)-1\n",
    "channels_str = \"-\".join([str(i) for i in graphsage_channels])\n",
    "training_num_epochs\n",
    "\n",
    "# Check if retrieval_bundles directory exists\n",
    "retrieval_bundles_dir = os.path.join(project_root, \"data\", \"retrieval_bundles\")\n",
    "os.makedirs(retrieval_bundles_dir, exist_ok=True)\n",
    "\n",
    "# Create bundle directory\n",
    "bundle_directory = os.path.join(\n",
    "    retrieval_bundles_dir, f\"{bundle_tag}_{training_n_hops}hop_{training_num_epochs}epochs_{channels_str}\"\n",
    ")\n",
    "\n",
    "os.makedirs(bundle_directory, exist_ok=True)\n",
    "\n",
    "# Save the processed graph\n",
    "output_graph_bundle_path = os.path.join(bundle_directory, \"graph.pkl\")\n",
    "with open(output_graph_bundle_path, \"wb\") as f:\n",
    "    pickle.dump(G, f)\n",
    "\n",
    "# Save the trained model\n",
    "output_model_bundle_path = os.path.join(bundle_directory, \"graphsage.pth\")\n",
    "torch.save(model.state_dict(), output_model_bundle_path)\n",
    "\n",
    "# Save config dictionary\n",
    "config_bundle_path = os.path.join(bundle_directory, \"config.yaml\")\n",
    "with open(config_bundle_path, \"w\") as f:\n",
    "    yaml.dump(config, f)\n",
    "\n",
    "# Extract figures from dictionary\n",
    "loss_fig = training_outputs.pop('loss_fig')\n",
    "norm_fig = training_outputs.pop('norm_fig')\n",
    "\n",
    "# Save figures\n",
    "loss_fig.savefig(os.path.join(bundle_directory, 'loss_evolution.jpg'))\n",
    "norm_fig.savefig(os.path.join(bundle_directory, 'norm_evolution.jpg'))\n",
    "plt.close('all')\n",
    "\n",
    "# Save metrics dictionary (now without figures)\n",
    "metrics_path = os.path.join(bundle_directory, \"training_metrics.pkl\")\n",
    "with open(metrics_path, \"wb\") as f:\n",
    "    pickle.dump(training_outputs, f)"
   ]
  },
  {
   "cell_type": "code",
   "execution_count": null,
   "metadata": {},
   "outputs": [],
   "source": [
    "#def get_new_node_embedding(model, new_feature, device, self_loop=True):\n",
    "#    \"\"\"\n",
    "#    Generate an embedding for a new node using the trained GraphSAGE model.\n",
    "#    \n",
    "#    Parameters:\n",
    "#      model (torch.nn.Module): The trained GraphSAGE model.\n",
    "#      new_feature (torch.Tensor): The new node's initial features of shape (1024,).\n",
    "#      device (torch.device): The device (e.g., cuda) on which the model is located.\n",
    "#      self_loop (bool, default=True): If True, adds a self-loop edge (node connected to itself).\n",
    "#                                      This simulates neighbor aggregation when no neighbors exist.\n",
    "#    \n",
    "#    Returns:\n",
    "#      torch.Tensor: The new node's embedding of shape (out_channels,).\n",
    "#    \"\"\"\n",
    "#    # Set the model to evaluation mode.\n",
    "#    model.eval()\n",
    "#    \n",
    "#    # Move the new node's features to the correct device.\n",
    "#    new_feature = new_feature.to(device)\n",
    "#    \n",
    "#    if self_loop:\n",
    "#        # Create a self-loop edge_index. This indicates that the node is connected to itself.\n",
    "#        # The edge_index tensor must have shape [2, num_edges]; here we create a single edge (0,0).\n",
    "#        edge_index = torch.tensor([[0], [0]], dtype=torch.long, device=device)\n",
    "#    else:\n",
    "#        # Alternatively, if you prefer no edges, you can pass an empty edge_index.\n",
    "#        # Note: Without a self-loop, the model may not transform the features as intended.\n",
    "#        edge_index = torch.empty((2, 0), dtype=torch.long, device=device)\n",
    "#    \n",
    "#    # GraphSAGE expects a batch dimension, so unsqueeze new_feature to shape [1, 1024].\n",
    "#    with torch.no_grad():\n",
    "#        new_embedding = model(new_feature.unsqueeze(0), edge_index)\n",
    "#    \n",
    "#    # Remove the batch dimension to return a tensor of shape [out_channels].\n",
    "#    return new_embedding.squeeze(0)\n",
    "#\n",
    "## Example usage:\n",
    "## Assuming 'model' is your trained GraphSAGE and you have a new node feature vector of size 1024.\n",
    "#new_feature = torch.randn(1024)  # Replace with the actual feature vector for the new node.\n",
    "#device = next(model.parameters()).device  # Get the device from the model.\n",
    "#new_node_embedding = get_new_node_embedding(model, new_feature, device, self_loop=True)\n",
    "#print(\"New node embedding shape:\", new_node_embedding.shape)\n",
    "#"
   ]
  }
 ],
 "metadata": {
  "kernelspec": {
   "display_name": "python311_graphsage",
   "language": "python",
   "name": "python3"
  },
  "language_info": {
   "codemirror_mode": {
    "name": "ipython",
    "version": 3
   },
   "file_extension": ".py",
   "mimetype": "text/x-python",
   "name": "python",
   "nbconvert_exporter": "python",
   "pygments_lexer": "ipython3",
   "version": "3.11.6"
  }
 },
 "nbformat": 4,
 "nbformat_minor": 2
}
