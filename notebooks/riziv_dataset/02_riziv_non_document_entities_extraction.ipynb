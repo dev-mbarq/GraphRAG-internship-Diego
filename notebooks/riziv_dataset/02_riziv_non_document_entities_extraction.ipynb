{
 "cells": [
  {
   "cell_type": "markdown",
   "metadata": {},
   "source": [
    "# Introduction"
   ]
  },
  {
   "cell_type": "markdown",
   "metadata": {},
   "source": [
    "This notebook details the extraction of additional relevant entities and relationships from the DOCLEG database to enrich the base document graph. The extraction is automated using LLMs and focuses on two main elements:\n",
    "\n",
    "- _Legal Concepts_: Identifying legally relevant concepts within the document texts. These concepts are added as new nodes in the graph, with edges linking them to the texts where they appear, thereby interconnecting different sub-graphs within the overall document graph.\n",
    "\n",
    "- _Document References_: Detecting references to other legal documents within the texts. These references are incorporated as new edges, connecting texts that mention other documents.\n",
    "\n",
    "The primary motivation for adding these entities is to enhance the graph’s ability to represent the comprehensive information contained in the DOCLEG database, ultimately facilitating more accurate and robust responses to user queries."
   ]
  },
  {
   "cell_type": "markdown",
   "metadata": {},
   "source": [
    "## 0. Import dependencies"
   ]
  },
  {
   "cell_type": "code",
   "execution_count": 1,
   "metadata": {},
   "outputs": [],
   "source": [
    "# Standard library imports\n",
    "import os\n",
    "import pickle\n",
    "import random\n",
    "import sys\n",
    "\n",
    "# Third party imports\n",
    "import pandas as pd\n",
    "from dotenv import load_dotenv\n",
    "from openai import AzureOpenAI\n",
    "from pydantic import BaseModel\n",
    "from tqdm import tqdm\n",
    "from collections import defaultdict\n",
    "\n",
    "# Determine the project root directory for relative imports\n",
    "try:\n",
    "    # This will work in scripts where __file__ is defined\n",
    "    current_dir = os.path.dirname(os.path.abspath(__file__))\n",
    "    # Assuming \"src\" is parallel to the script folder\n",
    "    project_root = os.path.abspath(os.path.join(current_dir, \"..\"))\n",
    "except NameError:\n",
    "    # In notebooks __file__ is not defined: assume we're in notebooks/riziv_dataset/\n",
    "    project_root = os.path.abspath(os.path.join(os.getcwd(), \"../..\"))\n",
    "\n",
    "src_path = os.path.join(project_root, \"src\")\n",
    "if src_path not in sys.path:\n",
    "    sys.path.append(src_path)\n",
    "\n",
    "from riziv.riziv_structured_output_schemas import ConceptExtraction, CitationExtraction"
   ]
  },
  {
   "cell_type": "markdown",
   "metadata": {},
   "source": [
    "## 1. Loading the data"
   ]
  },
  {
   "cell_type": "code",
   "execution_count": 2,
   "metadata": {},
   "outputs": [
    {
     "data": {
      "text/plain": [
       "True"
      ]
     },
     "execution_count": 2,
     "metadata": {},
     "output_type": "execute_result"
    }
   ],
   "source": [
    "# Define the path to the RIZIV dataset files\n",
    "RIZIV_data_path = os.path.join(project_root, \"data\", \"RIZIV_hackathon_main\")\n",
    "\n",
    "# Load the base document graph\n",
    "with open(os.path.join(RIZIV_data_path,'intermediate','base_document_graph.pkl'), 'rb') as f:\n",
    "    G = pickle.load(f)\n",
    "\n",
    "# Load the chunks DataFrame from CSV\n",
    "chunks_df = pd.read_csv(os.path.join(RIZIV_data_path,'intermediate', 'df_sequence_text_chunks.csv'))\n",
    "\n",
    "# Resolve .env path relative to this notebook\n",
    "env_path = os.path.join(RIZIV_data_path, '.env')\n",
    "\n",
    "# Load environment variables from the .env file\n",
    "load_dotenv(dotenv_path=env_path)"
   ]
  },
  {
   "cell_type": "markdown",
   "metadata": {},
   "source": [
    "## 2. Extraction of legal concepts"
   ]
  },
  {
   "cell_type": "markdown",
   "metadata": {},
   "source": [
    "For the extraction of relevant concepts an LLM was employed to sequentially analyze the texts within the based document graph and extract at most 10 relevant legal concepts from each one. Alongside the concepts themselves, the LLM is also instructed to return a category within a pre-defined list of categories for each relevant concept (see prompt template in code below) as well as a relevance score  to proxy the global relevance of each extracted concept within its text fragment as perceived by the LLM. The category is meant to be employed during the filtering and pre-processing of the relevant terms prior to their inclusion in the document graph as new nodes. Meanwhile, the relevance score is included in the output for similar reasons as well as an attempt to further steer the LLM's behaviour into including only concepts which appear to be globally relevant within a provided text fragment and minimize the appearence of \"noisy concepts\".\n",
    "\n",
    "Due to the time constrains faced during the hackathon, the extension of the DOCLEG database, and the potential computational and monetary costs associated with employing the presented approach at scale, extraction of legal concepts was only conducted over a sample of 3% of all text chunks within the base document graph. Applied at this level, the inclussion of these relevant legal concepts in the base document graph has a merely illustrative impact and is considered to have a negligible influence at the time of improving the quality of answers to the user's queries. The different constraints of the hackathon format prevented a further extension and refinement of this apporach which could lead to the realization of its proposed advantages.\n",
    "\n",
    "Following the flow of the code presented below, after the final dictionary of relevant legal concepts was extracted, it is converted into a DataFrame and stored to be used in subsequent notebooks to add these to the base document graph."
   ]
  },
  {
   "cell_type": "code",
   "execution_count": null,
   "metadata": {},
   "outputs": [
    {
     "name": "stdout",
     "output_type": "stream",
     "text": [
      "Found 43436 chunks in total\n",
      "Processing 13 chunks (0.03% of total)\n"
     ]
    },
    {
     "name": "stderr",
     "output_type": "stream",
     "text": [
      "Processing chunks:   8%|▊         | 1/13 [00:06<01:14,  6.22s/it]"
     ]
    },
    {
     "name": "stdout",
     "output_type": "stream",
     "text": [
      "\n",
      "Iteration 1:\n",
      "Tokens used: 833 (prompt) + 829 (completion) = 1662 total\n"
     ]
    },
    {
     "name": "stderr",
     "output_type": "stream",
     "text": [
      "Processing chunks:  15%|█▌        | 2/13 [00:24<02:24, 13.15s/it]"
     ]
    },
    {
     "name": "stdout",
     "output_type": "stream",
     "text": [
      "\n",
      "Iteration 2:\n",
      "Tokens used: 1908 (prompt) + 2492 (completion) = 4400 total\n"
     ]
    },
    {
     "name": "stderr",
     "output_type": "stream",
     "text": [
      "Processing chunks:  23%|██▎       | 3/13 [00:44<02:43, 16.32s/it]"
     ]
    },
    {
     "name": "stdout",
     "output_type": "stream",
     "text": [
      "\n",
      "Iteration 3:\n",
      "Tokens used: 1340 (prompt) + 2852 (completion) = 4192 total\n"
     ]
    },
    {
     "name": "stderr",
     "output_type": "stream",
     "text": [
      "Processing chunks:  31%|███       | 4/13 [00:57<02:16, 15.14s/it]"
     ]
    },
    {
     "name": "stdout",
     "output_type": "stream",
     "text": [
      "\n",
      "Iteration 4:\n",
      "Tokens used: 884 (prompt) + 1631 (completion) = 2515 total\n"
     ]
    },
    {
     "name": "stderr",
     "output_type": "stream",
     "text": [
      "Processing chunks:  38%|███▊      | 5/13 [01:19<02:20, 17.54s/it]"
     ]
    },
    {
     "name": "stdout",
     "output_type": "stream",
     "text": [
      "\n",
      "Iteration 5:\n",
      "Tokens used: 1369 (prompt) + 1810 (completion) = 3179 total\n"
     ]
    },
    {
     "name": "stderr",
     "output_type": "stream",
     "text": [
      "Processing chunks:  46%|████▌     | 6/13 [01:39<02:08, 18.40s/it]"
     ]
    },
    {
     "name": "stdout",
     "output_type": "stream",
     "text": [
      "\n",
      "Iteration 6:\n",
      "Tokens used: 1049 (prompt) + 1527 (completion) = 2576 total\n"
     ]
    },
    {
     "name": "stderr",
     "output_type": "stream",
     "text": [
      "Processing chunks:  54%|█████▍    | 7/13 [01:51<01:38, 16.47s/it]"
     ]
    },
    {
     "name": "stdout",
     "output_type": "stream",
     "text": [
      "\n",
      "Iteration 7:\n",
      "Tokens used: 974 (prompt) + 1651 (completion) = 2625 total\n"
     ]
    },
    {
     "name": "stderr",
     "output_type": "stream",
     "text": [
      "Processing chunks:  62%|██████▏   | 8/13 [02:08<01:21, 16.35s/it]"
     ]
    },
    {
     "name": "stdout",
     "output_type": "stream",
     "text": [
      "\n",
      "Iteration 8:\n",
      "Tokens used: 844 (prompt) + 1360 (completion) = 2204 total\n"
     ]
    },
    {
     "name": "stderr",
     "output_type": "stream",
     "text": [
      "Processing chunks:  69%|██████▉   | 9/13 [02:28<01:10, 17.51s/it]"
     ]
    },
    {
     "name": "stdout",
     "output_type": "stream",
     "text": [
      "\n",
      "Iteration 9:\n",
      "Tokens used: 833 (prompt) + 2059 (completion) = 2892 total\n"
     ]
    },
    {
     "name": "stderr",
     "output_type": "stream",
     "text": [
      "Processing chunks:  77%|███████▋  | 10/13 [02:47<00:54, 18.12s/it]"
     ]
    },
    {
     "name": "stdout",
     "output_type": "stream",
     "text": [
      "\n",
      "Iteration 10:\n",
      "Tokens used: 1118 (prompt) + 2576 (completion) = 3694 total\n"
     ]
    },
    {
     "name": "stderr",
     "output_type": "stream",
     "text": [
      "Processing chunks:  85%|████████▍ | 11/13 [03:07<00:37, 18.77s/it]"
     ]
    },
    {
     "name": "stdout",
     "output_type": "stream",
     "text": [
      "\n",
      "Iteration 11:\n",
      "Tokens used: 1708 (prompt) + 2760 (completion) = 4468 total\n"
     ]
    },
    {
     "name": "stderr",
     "output_type": "stream",
     "text": [
      "Processing chunks:  92%|█████████▏| 12/13 [03:30<00:20, 20.07s/it]"
     ]
    },
    {
     "name": "stdout",
     "output_type": "stream",
     "text": [
      "\n",
      "Iteration 12:\n",
      "Tokens used: 1083 (prompt) + 1873 (completion) = 2956 total\n"
     ]
    },
    {
     "name": "stderr",
     "output_type": "stream",
     "text": [
      "Processing chunks: 100%|██████████| 13/13 [03:41<00:00, 17.04s/it]"
     ]
    },
    {
     "name": "stdout",
     "output_type": "stream",
     "text": [
      "\n",
      "Iteration 13:\n",
      "Tokens used: 834 (prompt) + 1373 (completion) = 2207 total\n",
      "\n",
      "Final Statistics:\n",
      "Successfully processed 13 chunks\n",
      "Final results saved to chunk_concepts.pkl\n",
      "Found 56 unique concepts\n",
      "\n",
      "First few rows of the DataFrame:\n",
      "                                        concept_name  \\\n",
      "0  Contribution compensatoire pour firmes pharmac...   \n",
      "1                  Cotisation sur primes d'assurance   \n",
      "2               Formule de demande de renouvellement   \n",
      "3              Délai prescrit pour le renouvellement   \n",
      "4          Communication immédiate des modifications   \n",
      "\n",
      "              category_list relevance_list           chunk_list  \n",
      "0          [Financial Term]         [10.0]  [chunk_12044868_25]  \n",
      "1              [Obligation]          [9.0]  [chunk_12044868_25]  \n",
      "2  [Administrative Process]          [8.0]   [chunk_12004230_0]  \n",
      "3              [Obligation]          [7.0]   [chunk_12004230_0]  \n",
      "4              [Obligation]          [7.0]   [chunk_12004230_0]  \n"
     ]
    },
    {
     "name": "stderr",
     "output_type": "stream",
     "text": [
      "\n"
     ]
    }
   ],
   "source": [
    "########################################################################################\n",
    "# Extraction of relevant legal concepts\n",
    "########################################################################################\n",
    "\n",
    "# Note (1): For testing purposes, the sample size was set to 0.03% of the total number of chunks in the \n",
    "# base document graph instead of the original 3% employed during the hackathon.\n",
    "\n",
    "# Note (2): All code segments related to tracking the costs of the API calls have been commented/disabled\n",
    "\n",
    "# Instantiate Azure OpenAI client\n",
    "client = AzureOpenAI(\n",
    "    api_version=os.getenv(\"AZURE_OPENAI_API_VERSION\"),\n",
    "    azure_endpoint=os.getenv(\"AZURE_OPENAI_ENDPOINT\"),\n",
    "    api_key=os.getenv(\"AZURE_OPENAI_API_KEY\"),\n",
    ")\n",
    "\n",
    "# Dictionary to store all results\n",
    "all_concepts = {}\n",
    "\n",
    "# Note: All code segments related to tracking the costs of the API calls have been commented/disabled\n",
    "\n",
    "## Counters for tokens and cost\n",
    "#total_prompt_tokens = 0\n",
    "#total_completion_tokens = 0\n",
    "#total_cost = 0\n",
    "\n",
    "# Get list of chunk nodes from the graph\n",
    "chunk_nodes = [node for node in G.nodes() if G.nodes[node].get('type_node') == 'text_chunk']\n",
    "total_chunks = len(chunk_nodes)\n",
    "print(f\"Found {total_chunks} chunks in total\")\n",
    "\n",
    "# Calculate 0.03% sample size and get random sample\n",
    "sample_size = int(total_chunks * 0.0003)\n",
    "sampled_chunks = random.sample(chunk_nodes, sample_size)\n",
    "print(f\"Processing {sample_size} chunks ({0.03}% of total)\")\n",
    "\n",
    "# Iterate over sampled chunks with progress bar\n",
    "for idx, chunk_id in enumerate(tqdm(sampled_chunks, desc=\"Processing chunks\")):\n",
    "    # Get text from chunk\n",
    "    chunk_text = G.nodes[chunk_id]['text']\n",
    "    \n",
    "    try:\n",
    "        # Call API for concept extraction\n",
    "        completion = client.beta.chat.completions.parse(\n",
    "            model=os.getenv(\"AZURE_OPENAI_DEPLOYMENT\"), \n",
    "            messages=[\n",
    "                {\"role\": \"system\", \"content\": \"\"\"You are an expert legal analyst specialized in Belgian legal texts from the RIZIV/INAMI corpus. \n",
    "                 Your task is to extract only the most relevant legal concepts from legal text fragments in French, focusing on abstract legal ideas, \n",
    "                 doctrines, and specialized terminology that are specific to the healthcare and social security domain covered by RIZIV/INAMI. \n",
    "                 You may encounter text fragments of varying length make sure to extract only the most relevant concepts\n",
    "                 within the global context of the presented text. Also, assign each extracted concept one category from the following list: \n",
    "                 [Obligation, Legal Principle, Regulation, Financial Term, Administrative Process, Institution, Key Terminology, Other].\n",
    "                 Do not include citations, dates, locations, or extraneous details. \n",
    "\n",
    "                Your output must strictly follow the JSON schema below, contain no additional commentary, and be limited to a maximum of 10 concepts, \n",
    "                 ordered from highest to lowest relevance. If no relevant legal concepts are identified, return an empty \"concepts\" list.\"\"\"},\n",
    "\n",
    "                {\"role\": \"user\", \"content\": f\"\"\"Extract the key legal concepts from the following French legal text fragment, \n",
    "                 which comes from the RIZIV/INAMI corpus. Only include legal concepts that are highly relevant and specific to healthcare \n",
    "                 legislation and social security in Belgium. Limit your output to a maximum of 10 concepts, ordered by relevance, \n",
    "                 and if there are no relevant legal concepts, return an empty \"concepts\" list.\n",
    "                 Text: {chunk_text}\"\"\"},\n",
    "            ],\n",
    "            response_format=ConceptExtraction,\n",
    "        )\n",
    "        \n",
    "        # Update token counters and calculate costs\n",
    "        prompt_tokens = completion.usage.prompt_tokens\n",
    "        completion_tokens = completion.usage.completion_tokens\n",
    "        \n",
    "        #total_prompt_tokens += prompt_tokens\n",
    "        #total_completion_tokens += completion_tokens\n",
    "        \n",
    "        ## Calculate costs in euros\n",
    "        #prompt_cost = (prompt_tokens * 1.047) / 1000000\n",
    "        #completion_cost = (completion_tokens * 4.19) / 1000000\n",
    "        #total_cost += prompt_cost + completion_cost\n",
    "        \n",
    "        # Process API response and create concept dictionary\n",
    "        concepts = completion.choices[0].message.parsed\n",
    "        concept_dict = {}\n",
    "        \n",
    "        for i in range(1, 11):\n",
    "            concept_dict[i] = {\n",
    "                \"concept_name\": getattr(concepts, f\"concept{i}_name\"),\n",
    "                \"category\": getattr(concepts, f\"concept{i}_category\"),\n",
    "                \"relevance\": getattr(concepts, f\"concept{i}_relevance\")\n",
    "            }\n",
    "        \n",
    "        # Store in global dictionary\n",
    "        all_concepts[chunk_id] = concept_dict\n",
    "        \n",
    "        # Print token usage and cost for this iteration\n",
    "        print(f\"\\nIteration {idx + 1}:\")\n",
    "        print(f\"Tokens used: {prompt_tokens} (prompt) + {completion_tokens} (completion) = {prompt_tokens + completion_tokens} total\")\n",
    "        #print(f\"Accumulated cost: {total_cost:.6f} EUR\")\n",
    "        \n",
    "        # Save intermediate results every 100 iterations\n",
    "        if (idx + 1) % 100 == 0:\n",
    "            with open(os.path.join(RIZIV_data_path, 'chunk_concepts_checkpoint.pkl'), 'wb') as f:\n",
    "                pickle.dump(all_concepts, f)\n",
    "            print(f\"Checkpoint saved at {idx + 1} chunks\")\n",
    "        \n",
    "    except Exception as e:\n",
    "        print(f\"Error processing chunk {chunk_id}: {str(e)}\")\n",
    "        continue\n",
    "\n",
    "print(f\"\\nFinal Statistics:\")\n",
    "print(f\"Successfully processed {len(all_concepts)} chunks\")\n",
    "#print(f\"Total tokens used: {total_prompt_tokens} (prompt) + {total_completion_tokens} (completion) = {total_prompt_tokens + total_completion_tokens} total\")\n",
    "#print(f\"Total cost: {total_cost:.6f} EUR\")\n",
    "\n",
    "# Save final results' dictionary to pickle file\n",
    "with open(os.path.join(RIZIV_data_path,'intermediate','chunk_concepts.pkl'), 'wb') as f:\n",
    "    pickle.dump(all_concepts, f)\n",
    "print(\"Final results saved to chunk_concepts.pkl\")\n",
    "\n",
    "########################################################################################\n",
    "# Converting the dictionary of concepts into a DataFrame\n",
    "########################################################################################    \n",
    "\n",
    "# Dictionary to store the concepts information\n",
    "concept_info = defaultdict(lambda: {'categories': set(), 'relevances': set(), 'chunks': set()})\n",
    "\n",
    "# Iterate through all chunks and their concepts\n",
    "for chunk_id, concepts in all_concepts.items():\n",
    "    for concept_dict in concepts.values():\n",
    "        # Skip empty concepts (where concept_name is empty)\n",
    "        if not concept_dict['concept_name']:\n",
    "            continue\n",
    "            \n",
    "        concept_name = concept_dict['concept_name']\n",
    "        concept_info[concept_name]['categories'].add(concept_dict['category'])\n",
    "        concept_info[concept_name]['relevances'].add(concept_dict['relevance'])\n",
    "        concept_info[concept_name]['chunks'].add(chunk_id)\n",
    "\n",
    "# Convert to DataFrame format\n",
    "df_data = []\n",
    "for concept, info in concept_info.items():\n",
    "    df_data.append({\n",
    "        'concept_name': concept,\n",
    "        'category_list': sorted(list(info['categories'])),\n",
    "        'relevance_list': sorted(list(info['relevances']), reverse=True),\n",
    "        'chunk_list': sorted(list(info['chunks']))\n",
    "    })\n",
    "\n",
    "# Create DataFrame\n",
    "concepts_df = pd.DataFrame(df_data)\n",
    "\n",
    "# Sort by frequency (length of chunk_list)\n",
    "concepts_df['freq'] = concepts_df['chunk_list'].str.len()\n",
    "concepts_df = concepts_df.sort_values('freq', ascending=False)\n",
    "concepts_df = concepts_df.drop('freq', axis=1)\n",
    "\n",
    "# Reset index for clean display\n",
    "concepts_df = concepts_df.reset_index(drop=True)\n",
    "\n",
    "print(f\"Found {len(concepts_df)} unique concepts\")\n",
    "print(\"\\nFirst few rows of the DataFrame:\")\n",
    "print(concepts_df.head())\n",
    "\n",
    "# Save concepts DataFrame to pickle file\n",
    "concepts_df.to_pickle(os.path.join(RIZIV_data_path,'intermediate', 'df_concepts.pkl'))"
   ]
  },
  {
   "cell_type": "markdown",
   "metadata": {},
   "source": [
    "### 2.1 Basic exploration of the dataframe of relevant concepts"
   ]
  },
  {
   "cell_type": "code",
   "execution_count": 4,
   "metadata": {},
   "outputs": [
    {
     "name": "stdout",
     "output_type": "stream",
     "text": [
      "Descriptive statistics of mentions per concept:\n",
      "------------------------------------------------\n",
      "Minimum: 1\n",
      "Maximum: 1\n",
      "Mean: 1.00\n",
      "Median: 1.0\n",
      "Standard deviation: 0.00\n",
      "\n",
      "Percentiles:\n",
      "25%: 1.0\n",
      "50%: 1.0\n",
      "75%: 1.0\n",
      "90%: 1.0\n",
      "95%: 1.0\n",
      "99%: 1.0\n"
     ]
    },
    {
     "data": {
      "image/png": "[encoded data removed]",
      "text/plain": [
       "<Figure size 1000x600 with 1 Axes>"
      ]
     },
     "metadata": {},
     "output_type": "display_data"
    },
    {
     "name": "stdout",
     "output_type": "stream",
     "text": [
      "\n",
      "Top 10 most mentioned concepts:\n",
      "--------------------------------\n",
      "                                         concept_name  n_mentions\n",
      "0   Contribution compensatoire pour firmes pharmac...           1\n",
      "1                   Cotisation sur primes d'assurance           1\n",
      "2                Formule de demande de renouvellement           1\n",
      "3               Délai prescrit pour le renouvellement           1\n",
      "4           Communication immédiate des modifications           1\n",
      "5    Institut national d'assurance maladie-invalidité           1\n",
      "6                   Budget des frais d'administration           1\n",
      "7                                          Abrogation           1\n",
      "8                                              Arrêté           1\n",
      "9       Agrément spécial maisons de repos et de soins           1\n",
      "10                   Heures de formation obligatoires           1\n",
      "11          Formule de calcul des heures de formation           1\n",
      "12             Critères de conformité de l'article 22           1\n",
      "13  Période de facturation et de référence pour l'...           1\n",
      "14                             Nouvelles institutions           1\n",
      "15                 Classification des patients B et C           1\n",
      "16        Commission de remboursement des médicaments           1\n",
      "17                               Révision par groupes           1\n",
      "18                              Base de remboursement           1\n",
      "19                         Catégorie de remboursement           1\n"
     ]
    }
   ],
   "source": [
    "# Create a series with chunk_list lengths\n",
    "lengths = concepts_df['chunk_list'].str.len()\n",
    "\n",
    "# Get descriptive statistics\n",
    "print(\"Descriptive statistics of mentions per concept:\")\n",
    "print(\"------------------------------------------------\")\n",
    "print(f\"Minimum: {lengths.min()}\")\n",
    "print(f\"Maximum: {lengths.max()}\")\n",
    "print(f\"Mean: {lengths.mean():.2f}\")\n",
    "print(f\"Median: {lengths.median()}\")\n",
    "print(f\"Standard deviation: {lengths.std():.2f}\")\n",
    "print(\"\\nPercentiles:\")\n",
    "print(f\"25%: {lengths.quantile(0.25)}\")\n",
    "print(f\"50%: {lengths.quantile(0.50)}\")\n",
    "print(f\"75%: {lengths.quantile(0.75)}\")\n",
    "print(f\"90%: {lengths.quantile(0.90)}\")\n",
    "print(f\"95%: {lengths.quantile(0.95)}\")\n",
    "print(f\"99%: {lengths.quantile(0.99)}\")\n",
    "\n",
    "# Frequency histogram\n",
    "import matplotlib.pyplot as plt\n",
    "\n",
    "plt.figure(figsize=(10, 6))\n",
    "plt.hist(lengths, bins=50, edgecolor='black')\n",
    "plt.title('Distribution of mentions per concept')\n",
    "plt.xlabel('Number of mentions')\n",
    "plt.ylabel('Frequency')\n",
    "plt.grid(True, alpha=0.3)\n",
    "plt.show()\n",
    "\n",
    "# Top 10 most mentioned concepts\n",
    "print(\"\\nTop 10 most mentioned concepts:\")\n",
    "print(\"--------------------------------\")\n",
    "top_20 = concepts_df.head(20)[['concept_name', 'chunk_list']].copy()\n",
    "top_20['n_mentions'] = top_20['chunk_list'].str.len()\n",
    "print(top_20[['concept_name', 'n_mentions']])"
   ]
  },
  {
   "cell_type": "markdown",
   "metadata": {},
   "source": [
    "## 3. Extraction of citations"
   ]
  },
  {
   "cell_type": "markdown",
   "metadata": {},
   "source": [
    "The proposed approach for extracting references to other legal documents within the texts of the DOCLEG database follows the same logic as the one used for detecting relevant legal concepts, that is, sequentially prompting an LLM over text fragments to identify and return such references.\n",
    "\n",
    "However, despite having the code ready to carry out this task, the time constraints imposed by the hackathon led to the decision to discard the inclusion of citation edges in the graph used for the Q&A retrieval prototype. Additionally, adding these citation edges was considered to require a higher level of attention during pre-processing, in order to detect potential artifacts in the extracted citations or to avoid introducing inaccurate edges into the graph. Without careful handling, which is a time-consuming process in itself, including these edges was evaluated as unfeasible within the timeframe of the hackathon, even for illustrative purposes, and even less so for having any meaningful impact on the quality of answers to user queries.\n",
    "\n",
    "Below, a series of functional code blocks are presented for the extraction of citations from DOCLEG texts. As previously mentioned, however, these were not used for building the graph employed in the final prototype presented at the end of the hackathon."
   ]
  },
  {
   "cell_type": "code",
   "execution_count": 5,
   "metadata": {},
   "outputs": [
    {
     "name": "stdout",
     "output_type": "stream",
     "text": [
      "Sample text:\n",
      "Art. 46.\n",
      "Pour l'année [:W]2015[:w], il est instauré une contribution compensatoire à charge des distributeurs visés à l'[:C 1]article 33, § 1er, alinéa 1er, 3°[:c].\n",
      "Le montant de cette contribution s'élève à [:W]0,13 p.c.[:w] du chiffre d'affaires, tel que pris en compte pour l'application de l'[:C 1]article 34[:c], qui a été réalisé en [:W]2015[:w] et est versé par le biais d'un acompte, fixé à [:W]0,13 p.c.[:w] du chiffre d'affaires réalisé en [:w]2014[:w], et d'un solde. Ce solde est la différence entre la contribution même et l'acompte payé.\n",
      "La contribution visée à l'alinéa 1er est perçue par l'AFMPS pour le compte de l'Institut national d'assurance maladie-invalidité.\n",
      "Les articles [:C 1]36[:c] à [:C 2]41[:c] s'appliquent pour l'établissement et le recouvrement de la contribution compensatoire prévu à l'alinéa premier.\n",
      "\n",
      "Extracting citations...\n",
      "\n",
      "Extracted citations:\n",
      "\n",
      "Tokens used: 612 (prompt) + 727 (completion) = 1339 total\n"
     ]
    }
   ],
   "source": [
    "########################################################################################\n",
    "# Testing citations extration\n",
    "########################################################################################\n",
    "\n",
    "# Set up the Azure OpenAI client\n",
    "client = AzureOpenAI(\n",
    "    api_version=os.getenv(\"AZURE_OPENAI_API_VERSION\"),\n",
    "    azure_endpoint=os.getenv(\"AZURE_OPENAI_ENDPOINT\"),\n",
    "    api_key=os.getenv(\"AZURE_OPENAI_API_KEY\"),\n",
    ")\n",
    "\n",
    "# Random text testing example for citations extraction (A single random text chunk)\n",
    "sample_text = chunks_df.sample(1)['text'].values[0]\n",
    "print(\"Sample text:\")\n",
    "print(sample_text)\n",
    "print(\"\\nExtracting citations...\")\n",
    "\n",
    "completion = client.beta.chat.completions.parse(\n",
    "    model=os.getenv(\"AZURE_OPENAI_DEPLOYMENT\"), \n",
    "    messages=[\n",
    "        {\"role\": \"system\", \"content\": \"\"\"You are an expert legal analyst specialized in Belgian legal texts. \n",
    "         Your task is to extract only the legal citations that reference other laws, or legal texts, \n",
    "        from a given legal text fragment in French. Focus solely on these citations—do not include dates, \n",
    "         locations, or any other commentary. These citations should reference legal texts other than the\n",
    "         ones from which the provided fragments were originally extracted. To make sure this is the case do not\n",
    "         extract references to articles unless it is explicit and clear in the text that they belong to a different piece\n",
    "         of legislation/act.\n",
    "\n",
    "        Assign each extracted citation exactly one field \"citation\". You must limit your output to a maximum of 2 citations, \n",
    "         ordered by their relevance if applicable. If no legal citations are identified, return an empty \"citations\" list.\"\"\"},\n",
    "\n",
    "        {\"role\": \"user\", \"content\": f\"\"\"Extract the legal citations from the following French legal text fragment. \n",
    "         Only include citations that reference other laws or legal texts (i.e., legal references that do not belong to the source document). \n",
    "         If a reference to an article appears, include it only if it is explicitly clear that it belongs to a different piece of legislation \n",
    "         or act. Return your output strictly following the JSON schema provided, with a maximum of 2 citations ordered by relevance. \n",
    "         If no legal citations are identified, return an empty \"citations\" list.\n",
    "\n",
    "         Text: {sample_text}\"\"\"},\n",
    "    ],\n",
    "    response_format=CitationExtraction,\n",
    ")\n",
    "\n",
    "# Access result as Python object\n",
    "citations = completion.choices[0].message.parsed\n",
    "\n",
    "print(\"\\nExtracted citations:\")\n",
    "for i in range(1, 3):  # Maximum of 2 citations\n",
    "    citation = getattr(citations, f\"citation{i}\", None)\n",
    "    if citation:\n",
    "        print(f\"Citation {i}: {citation}\")\n",
    "\n",
    "# Print token usage\n",
    "print(f\"\\nTokens used: {completion.usage.prompt_tokens} (prompt) + {completion.usage.completion_tokens} (completion) = {completion.usage.total_tokens} total\")"
   ]
  },
  {
   "cell_type": "code",
   "execution_count": 6,
   "metadata": {},
   "outputs": [
    {
     "name": "stdout",
     "output_type": "stream",
     "text": [
      "Found 43436 chunks in total\n",
      "Processing 13 chunks (0.03% of total)\n"
     ]
    },
    {
     "name": "stderr",
     "output_type": "stream",
     "text": [
      "Processing chunks:  77%|███████▋  | 10/13 [01:36<00:32, 10.68s/it]"
     ]
    },
    {
     "name": "stdout",
     "output_type": "stream",
     "text": [
      "\n",
      "Iteration 10:\n",
      "Tokens used: 1270 (prompt) + 838 (completion) = 2108 total\n"
     ]
    },
    {
     "name": "stderr",
     "output_type": "stream",
     "text": [
      "Processing chunks: 100%|██████████| 13/13 [01:56<00:00,  8.92s/it]"
     ]
    },
    {
     "name": "stdout",
     "output_type": "stream",
     "text": [
      "\n",
      "Final Statistics:\n",
      "Successfully processed 8 chunks with citations\n",
      "Total tokens used: 8976 (prompt) + 13719 (completion) = 22695 total\n",
      "Final results saved to chunk_citations.pkl\n"
     ]
    },
    {
     "name": "stderr",
     "output_type": "stream",
     "text": [
      "\n"
     ]
    }
   ],
   "source": [
    "########################################################################################\n",
    "# Serial citations extraction\n",
    "########################################################################################\n",
    "\n",
    "# Set up the Azure OpenAI client\n",
    "client = AzureOpenAI(\n",
    "    api_version=os.getenv(\"AZURE_OPENAI_API_VERSION\"),\n",
    "    azure_endpoint=os.getenv(\"AZURE_OPENAI_ENDPOINT\"),\n",
    "    api_key=os.getenv(\"AZURE_OPENAI_API_KEY\"),\n",
    ")\n",
    "\n",
    "# Define dictionary to store all citations\n",
    "all_citations = {}\n",
    "\n",
    "# Counters for tokens and cost\n",
    "total_prompt_tokens = 0\n",
    "total_completion_tokens = 0\n",
    "total_cost = 0\n",
    "\n",
    "# Get list of chunk nodes from the graph\n",
    "chunk_nodes = [node for node in G.nodes() if G.nodes[node].get('type_node') == 'text_chunk']\n",
    "total_chunks = len(chunk_nodes)\n",
    "\n",
    "# Calculate 0.03% sample size and get random sample\n",
    "sample_size = int(total_chunks * 0.0003)\n",
    "sampled_chunks = random.sample(chunk_nodes, sample_size)\n",
    "print(f\"Found {total_chunks} chunks in total\")\n",
    "print(f\"Processing {sample_size} chunks ({0.03}% of total)\")\n",
    "\n",
    "# Iterate over sampled chunks with progress bar\n",
    "for idx, chunk_id in enumerate(tqdm(sampled_chunks, desc=\"Processing chunks\")):\n",
    "    # Get text from chunk\n",
    "    chunk_text = G.nodes[chunk_id]['text']\n",
    "    \n",
    "    try:\n",
    "        # Call API for citation extraction\n",
    "        completion = client.beta.chat.completions.parse(\n",
    "            model=os.getenv(\"AZURE_OPENAI_DEPLOYMENT\"), \n",
    "            messages=[\n",
    "                {\"role\": \"system\", \"content\": \"\"\"You are an expert legal analyst specialized in Belgian legal texts. \n",
    "                 Your task is to extract only the legal citations that reference other laws, or legal texts, \n",
    "                from a given legal text fragment in French. Focus solely on these citations—do not include dates, \n",
    "                 locations, or any other commentary. These citations should reference legal texts other than the\n",
    "                 ones from which the provided fragments were originally extracted. To make sure this is the case do not\n",
    "                 extract references to articles unless it is explicit and clear in the text that they belong to a different piece\n",
    "                 of legislation/act.\n",
    "\n",
    "                Assign each extracted citation exactly one field \"citation\". You must limit your output to a maximum of 2 citations, \n",
    "                 ordered by their relevance if applicable. If no legal citations are identified, return an empty \"citations\" list.\"\"\"},\n",
    "\n",
    "                {\"role\": \"user\", \"content\": f\"\"\"Extract the legal citations from the following French legal text fragment. \n",
    "                 Only include citations that reference other laws or legal texts (i.e., legal references that do not belong to the source document). \n",
    "                 If a reference to an article appears, include it only if it is explicitly clear that it belongs to a different piece of legislation \n",
    "                 or act. Return your output strictly following the JSON schema provided, with a maximum of 2 citations ordered by relevance. \n",
    "                 If no legal citations are identified, return an empty \"citations\" list.\n",
    "\n",
    "                 Text: {chunk_text}\"\"\"},\n",
    "            ],\n",
    "            response_format=CitationExtraction,\n",
    "        )\n",
    "        \n",
    "        # Update token counters and calculate costs\n",
    "        prompt_tokens = completion.usage.prompt_tokens\n",
    "        completion_tokens = completion.usage.completion_tokens\n",
    "        \n",
    "        total_prompt_tokens += prompt_tokens\n",
    "        total_completion_tokens += completion_tokens\n",
    "        \n",
    "        # Calculate costs in euros\n",
    "        #prompt_cost = (prompt_tokens * 1.047) / 1000000\n",
    "        #completion_cost = (completion_tokens * 4.19) / 1000000\n",
    "        #total_cost += prompt_cost + completion_cost\n",
    "        \n",
    "        # Process API response and create citations dictionary\n",
    "        citations = completion.choices[0].message.parsed\n",
    "        citations_dict = {}\n",
    "        \n",
    "        for i in range(1, 3):  # Maximum of 2 citations\n",
    "            citation = getattr(citations, f\"citation{i}\", None)\n",
    "            if citation:\n",
    "                citations_dict[i] = citation\n",
    "        \n",
    "        # Store in global dictionary only if citations were found\n",
    "        if citations_dict:\n",
    "            all_citations[chunk_id] = citations_dict\n",
    "        \n",
    "        # Print token usage and cost for this iteration\n",
    "        if (idx + 1) % 10 == 0:  # Print every 10 iterations to reduce output\n",
    "            print(f\"\\nIteration {idx + 1}:\")\n",
    "            print(f\"Tokens used: {prompt_tokens} (prompt) + {completion_tokens} (completion) = {prompt_tokens + completion_tokens} total\")\n",
    "            #print(f\"Accumulated cost: {total_cost:.6f} EUR\")\n",
    "        \n",
    "        # Save intermediate results every 100 iterations\n",
    "        if (idx + 1) % 100 == 0:\n",
    "            with open('chunk_citations_checkpoint.pkl', 'wb') as f:\n",
    "                pickle.dump(all_citations, f)\n",
    "            print(f\"Checkpoint saved at {idx + 1} chunks\")\n",
    "        \n",
    "    except Exception as e:\n",
    "        print(f\"Error processing chunk {chunk_id}: {str(e)}\")\n",
    "        continue\n",
    "\n",
    "print(f\"\\nFinal Statistics:\")\n",
    "print(f\"Successfully processed {len(all_citations)} chunks with citations\")\n",
    "print(f\"Total tokens used: {total_prompt_tokens} (prompt) + {total_completion_tokens} (completion) = {total_prompt_tokens + total_completion_tokens} total\")\n",
    "#print(f\"Total cost: {total_cost:.6f} EUR\")\n",
    "\n",
    "# Save final results to pickle file\n",
    "with open(os.path.join(RIZIV_data_path,'intermediate', 'chunk_citations.pkl'), 'wb') as f:\n",
    "    pickle.dump(all_citations, f)\n",
    "print(\"Final results saved to chunk_citations.pkl\")"
   ]
  }
 ],
 "metadata": {
  "kernelspec": {
   "display_name": "python311_graphsage",
   "language": "python",
   "name": "python3"
  },
  "language_info": {
   "codemirror_mode": {
    "name": "ipython",
    "version": 3
   },
   "file_extension": ".py",
   "mimetype": "text/x-python",
   "name": "python",
   "nbconvert_exporter": "python",
   "pygments_lexer": "ipython3",
   "version": "3.11.6"
  }
 },
 "nbformat": 4,
 "nbformat_minor": 2
}
