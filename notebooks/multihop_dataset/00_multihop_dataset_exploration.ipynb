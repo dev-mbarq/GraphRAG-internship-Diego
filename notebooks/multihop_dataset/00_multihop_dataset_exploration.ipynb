{
 "cells": [
  {
   "cell_type": "markdown",
   "metadata": {},
   "source": [
    "Note: Notebook not updated after major changes to the project structure. Some errors could arise from incorrectly specified relative paths for data loading, dependencies imports etc."
   ]
  },
  {
   "cell_type": "markdown",
   "metadata": {},
   "source": [
    "### A. Import relevant dependencies"
   ]
  },
  {
   "cell_type": "code",
   "execution_count": 18,
   "metadata": {},
   "outputs": [],
   "source": [
    "import json\n",
    "import os\n",
    "import pickle\n",
    "import sys\n",
    "\n",
    "import numpy as np\n",
    "import pandas as pd\n",
    "import torch\n",
    "import yaml\n",
    "from torch_geometric.loader import NeighborLoader\n",
    "from torch_geometric.utils import to_undirected\n",
    "from torch_geometric.utils.convert import from_networkx\n",
    "\n",
    "try:\n",
    "    # This will work in scripts where __file__ is defined\n",
    "    current_dir = os.path.dirname(os.path.abspath(__file__))\n",
    "    # Assuming \"src\" is parallel to the script folder\n",
    "    project_root = os.path.abspath(os.path.join(current_dir, \"..\"))\n",
    "except NameError:\n",
    "    # In notebooks __file__ is not defined: assume we're in notebooks/multihop_dataset/\n",
    "    project_root = os.path.abspath(os.path.join(os.getcwd(), \"../..\"))\n",
    "\n",
    "src_path = os.path.join(project_root, \"src\")\n",
    "if src_path not in sys.path:\n",
    "    sys.path.append(src_path)"
   ]
  },
  {
   "cell_type": "markdown",
   "metadata": {},
   "source": [
    "### B. Corpus"
   ]
  },
  {
   "cell_type": "code",
   "execution_count": 19,
   "metadata": {},
   "outputs": [],
   "source": [
    "# Define path to corpus file and load it\n",
    "multihop_corpus_path = os.path.join(project_root, \"data\", \"Multi-hop_RAG_dataset\", \"corpus.json\")\n",
    "\n",
    "with open(multihop_corpus_path, \"r\", encoding=\"utf-8\") as f:\n",
    "    corpus = json.load(f)"
   ]
  },
  {
   "cell_type": "code",
   "execution_count": 20,
   "metadata": {},
   "outputs": [
    {
     "data": {
      "text/html": [
       "<div>\n",
       "<style scoped>\n",
       "    .dataframe tbody tr th:only-of-type {\n",
       "        vertical-align: middle;\n",
       "    }\n",
       "\n",
       "    .dataframe tbody tr th {\n",
       "        vertical-align: top;\n",
       "    }\n",
       "\n",
       "    .dataframe thead th {\n",
       "        text-align: right;\n",
       "    }\n",
       "</style>\n",
       "<table border=\"1\" class=\"dataframe\">\n",
       "  <thead>\n",
       "    <tr style=\"text-align: right;\">\n",
       "      <th></th>\n",
       "      <th>title</th>\n",
       "      <th>author</th>\n",
       "      <th>source</th>\n",
       "      <th>published_at</th>\n",
       "      <th>category</th>\n",
       "      <th>url</th>\n",
       "      <th>body</th>\n",
       "    </tr>\n",
       "  </thead>\n",
       "  <tbody>\n",
       "    <tr>\n",
       "      <th>count</th>\n",
       "      <td>609</td>\n",
       "      <td>545</td>\n",
       "      <td>609</td>\n",
       "      <td>609</td>\n",
       "      <td>609</td>\n",
       "      <td>609</td>\n",
       "      <td>609</td>\n",
       "    </tr>\n",
       "    <tr>\n",
       "      <th>unique</th>\n",
       "      <td>609</td>\n",
       "      <td>300</td>\n",
       "      <td>49</td>\n",
       "      <td>606</td>\n",
       "      <td>6</td>\n",
       "      <td>609</td>\n",
       "      <td>609</td>\n",
       "    </tr>\n",
       "    <tr>\n",
       "      <th>top</th>\n",
       "      <td>200+ of the best deals from Amazon's Cyber Mon...</td>\n",
       "      <td>Natasha Lomas</td>\n",
       "      <td>Sporting News</td>\n",
       "      <td>2023-10-20T21:30:28+00:00</td>\n",
       "      <td>sports</td>\n",
       "      <td>https://mashable.com/article/cyber-monday-deal...</td>\n",
       "      <td>Table of Contents Table of Contents Echo, Fire...</td>\n",
       "    </tr>\n",
       "    <tr>\n",
       "      <th>freq</th>\n",
       "      <td>1</td>\n",
       "      <td>14</td>\n",
       "      <td>101</td>\n",
       "      <td>2</td>\n",
       "      <td>211</td>\n",
       "      <td>1</td>\n",
       "      <td>1</td>\n",
       "    </tr>\n",
       "  </tbody>\n",
       "</table>\n",
       "</div>"
      ],
      "text/plain": [
       "                                                    title         author  \\\n",
       "count                                                 609            545   \n",
       "unique                                                609            300   \n",
       "top     200+ of the best deals from Amazon's Cyber Mon...  Natasha Lomas   \n",
       "freq                                                    1             14   \n",
       "\n",
       "               source               published_at category  \\\n",
       "count             609                        609      609   \n",
       "unique             49                        606        6   \n",
       "top     Sporting News  2023-10-20T21:30:28+00:00   sports   \n",
       "freq              101                          2      211   \n",
       "\n",
       "                                                      url  \\\n",
       "count                                                 609   \n",
       "unique                                                609   \n",
       "top     https://mashable.com/article/cyber-monday-deal...   \n",
       "freq                                                    1   \n",
       "\n",
       "                                                     body  \n",
       "count                                                 609  \n",
       "unique                                                609  \n",
       "top     Table of Contents Table of Contents Echo, Fire...  \n",
       "freq                                                    1  "
      ]
     },
     "execution_count": 20,
     "metadata": {},
     "output_type": "execute_result"
    }
   ],
   "source": [
    "# Convert corpus data into df\n",
    "corpus_as_df = pd.DataFrame(corpus)\n",
    "# Get descriptive stats\n",
    "corpus_as_df.describe()"
   ]
  },
  {
   "cell_type": "markdown",
   "metadata": {},
   "source": [
    "This corpus comprises 609 articles from 300 different authors, 49 different sources and 6 different categories."
   ]
  },
  {
   "cell_type": "code",
   "execution_count": 21,
   "metadata": {},
   "outputs": [
    {
     "data": {
      "text/plain": [
       "array([None, 'Stan Choe', 'Colum Dell, Yardbarker', 'Dan Treacy',\n",
       "       'Ian Valentino', 'Rob Miech', 'Arunima Bhanot',\n",
       "       'The New York Times', 'Morgan Little', 'Jacquelyn Melinek',\n",
       "       'Kyle Wiggers', 'Robert Calcutt', 'Will Unwin', 'David Pierce',\n",
       "       'Rebecca Bellan', 'Jeffrey Parkin', 'Johnny Yu',\n",
       "       'Laura Hampson and Meredith Clark', 'Dilvin Yasa', 'Amber Raiken',\n",
       "       'Christy Doran', 'Catherine Shu', 'Natasha Lomas', 'Sarah Perez',\n",
       "       'Cade Metz, Karen Weise, Nico Grant and Mike Isaac',\n",
       "       'Ingrid Lunden', 'Ben Weiss', 'Tim Biggs', 'David Suggs',\n",
       "       'Bryan Murphy', 'Kyle Irving', 'Romain Dillet', 'Vinnie Iyer',\n",
       "       'Kyle Bonn', 'Haje Jan Kamps', 'Nell Geraets', 'Chelsea Ritschel',\n",
       "       'Alyssa Stringer', 'Jessica Conditt', 'Laura Snapes',\n",
       "       'Elizabeth Lopatto', 'Paul Sawers', 'Pete Volk',\n",
       "       'Nick Brinkerhoff', 'Dave Richard', 'Shanna McCarriston',\n",
       "       'Martin Derbyshire', 'Sam Eggleston', 'James Wallace', 'Rob Smyth',\n",
       "       '', 'Sheena Vasani', 'CBS Sports Staff', 'Martin Harris',\n",
       "       'Roi Weinberger', 'STAN CHOE', 'Christine Hall', 'Sam Rutherford',\n",
       "       'Assaf Gilead', 'Bill Bender', 'Edward Sutelan', 'Tasha Robinson',\n",
       "       'Mintu Tomar', 'Rebecca Owen', 'Murray Stassen', 'Jamie Jackson',\n",
       "       'Antonio G. Di Benedetto', 'Amy Skorheim', 'Andy Hunter',\n",
       "       'Reuters', 'Natalie Weiner', 'Paolo Confino', 'Devin Coldewey',\n",
       "       'Andrew Tarantola', 'Ed Aarons at Stamford Bridge', 'Tony Mejia',\n",
       "       'Morgan Sung', 'David Hytner', 'Will Daniel', 'Cody Benjamin',\n",
       "       'Nick Musial', 'Amanda Chicago Lewis',\n",
       "       'Anthony Franco, MLB Trade Rumors', 'Ryan Gilliam',\n",
       "       'Hezi Sternlicht', 'Mia Sato', 'Brad Cox',\n",
       "       'Serina DeSalvio, Texas A&M University', 'The Roar',\n",
       "       'zee business', 'Topher L. McDougal, The Conversation',\n",
       "       'Erika Hayasaki', 'Brian Campbell', 'Paige Hagy',\n",
       "       'Maria Rugenstein, Mark Zelinka, Kristopher B. Karnauskas, Paulo Ceppi and Timothy Andrews',\n",
       "       'News', 'Travis Pulver', 'Heath Cummings', 'Sarah Berry',\n",
       "       'Associated Press', 'James Gregory', 'Andy Hunter at Anfield',\n",
       "       'Craig Mathieson', 'Derek Decloet, Bloomberg', 'Ron Miller',\n",
       "       'Alex Wilhelm', 'Toussaint Egan', 'Connor Andrews',\n",
       "       'Jonathan Burnett', 'wwos', 'Sean Hollister', 'Sarah-Jane Collins',\n",
       "       'Tony Harper', 'Lindsey Bahr, The Associated Press',\n",
       "       'Meredith Clark', 'Josh Edwards', 'Rita Liao',\n",
       "       'Suzanne Wrack at Hampden Park', 'Priyank Mithani',\n",
       "       'Dominic Booth', 'David Swan', 'Tim Stevens', 'IoT.Business.News',\n",
       "       'Abe Beame', 'Sudeep Sinha', 'Sloan Piva', 'Sporting News Betting',\n",
       "       'Ben Miller', 'Jennifer Pattison Tuohy',\n",
       "       'Jonathan Liew at Wembley', 'Joanna Guelas', 'Jack Snape',\n",
       "       'Tim Ingham', 'Mike Mahardy', 'Jagmeet Singh', 'Anat-Daniely Lev',\n",
       "       'Mirette Magdy, Bloomberg', 'Richard Jolly', 'Peter Ryan',\n",
       "       'Robert Moran', 'Jeff Dunn,Valentina Palladino,Amy Skorheim',\n",
       "       'Lisa Mascaro, Farnoush Amiri, Stephen Groves, Kevin Freking, The Associated Press',\n",
       "       'Emily Dozier', 'Michael Benson', 'Katie Malone', 'Matt Burns',\n",
       "       'Kieran Francis', 'Cameron Faulkner', 'Victoria Song',\n",
       "       'Jonathan Liew at Old Trafford', 'Anna Heim', 'Andreas Hale',\n",
       "       'Shi En Kim', 'Mike DeCourcy', 'Engadget',\n",
       "       'Adriana Morga, The Associated Press', 'Taylor Hatmaker',\n",
       "       'Dean Straka', 'Moumita Dutta', 'Maria Temming',\n",
       "       'David Keyton, Christina Larson, Rodrique Ngowi, The Associated Press',\n",
       "       'Isobel Lewis', 'Amy Beth Hanson, The Associated Press',\n",
       "       'Daniel Tencer', 'Tom Gray', 'Chirag Radhyan', 'Jake Lambourne',\n",
       "       'Daniel Dockery', 'Dushyant Singh', 'Jacqueline Maley',\n",
       "       'Walter Marsh', 'Laura Allen', 'Robert Lea', 'Kris Holt',\n",
       "       'Tyler Sullivan', 'Gilbert McGregor', 'Nicole Clark',\n",
       "       'Ansuman Abhisek', 'Rita Nazareth and Sinéad Carew', 'Uma Gurav',\n",
       "       'Ivan Mehta', 'Puja Molpariya', 'BusinessWorld', 'Swati Bhatia',\n",
       "       'Alice Newcome-Beill', 'Maanya Sachdeva', 'Harri Weber',\n",
       "       'Andrew J. Hawkins', 'Matt Jancer',\n",
       "       'Brendan Murray, Tara Patel, Bloomberg',\n",
       "       'Faiza Saqib and Amber Raiken', 'Charles Pulliam-Moore',\n",
       "       \"Matt O'Brien, The Associated Press\", 'Johana Bhuiyan',\n",
       "       'Kirsten Korosec', 'Joanna Whitehead',\n",
       "       'Josh Erickson, Pro Hockey Rumors', 'Tom Naghten', 'Pete Prisco',\n",
       "       'Jakso James', 'Robin Buller in Oakland, California',\n",
       "       'Alicia Haddick', 'Wenlei Ma', 'Shaikh Aerajuddin', 'Chris Plante',\n",
       "       'Nick Igbokwe', 'Damian Mannion', 'Barney Ronay at Old Trafford',\n",
       "       'Simon Burnton at the Brian Lara Stadium', 'Isaac Thorn',\n",
       "       'Lisa Mascaro, Farnoush Amiri, Stephen Groves, The Associated Press',\n",
       "       'Grayson Morley', 'Jesse Hassenger', 'Autumn Wright',\n",
       "       'Bradley van Paridon', 'Petrana Radulovic', 'Joel Sritharan',\n",
       "       'Ellie Muir', 'Barbara Krasnoff', 'Jeff Dunn',\n",
       "       'Vishakha Deshpande', 'Melissa Murphy, The Associated Press',\n",
       "       'Ela Levi-Weinreb', 'Luke McLaughlin at OL Stadium',\n",
       "       'Kanishka Prakash', 'James Trew',\n",
       "       'Jake Coyle, The Associated Press', 'Brian Heater',\n",
       "       'Shrabana Sengupta', 'Robin McKie, Science Editor',\n",
       "       'Saurabh Saini', 'Mary Ann Azevedo', 'Kris Johnson',\n",
       "       'Saleah Blancaflor', 'Tina Hesman Saey', 'Yardbarker Staff',\n",
       "       'Nilavro Ghosh', 'Crissy Froyd', 'Ian Chadband', 'Zach Rabiroff',\n",
       "       'Joshua Rivera', 'Sarah Thwaites', 'Tage Kene-Okafor',\n",
       "       'sascha.pare@futurenet.com (Sascha Pare)', 'Ariel Shapiro',\n",
       "       'Kayti Burt', 'Jesús Victorino', 'Joseph Hostetler', 'Kat Tretina',\n",
       "       'Jacob Camenker', 'Aidan Wohl, GoAZCATS.com',\n",
       "       'Sid Lowe at the Ramón Sánchez Pizjuán Stadium',\n",
       "       'Ava Benny-Morrison, Bloomberg', 'Sydney Lake', 'Ryan Fagan',\n",
       "       'Veerendra Vikram Singh', 'Rita Nazareth', 'Ela Levi-Weinrib',\n",
       "       'Steven Taranto', 'Amanda Silberling', 'Parnab Bhattacharya',\n",
       "       'Carrie Andrews', 'Jon Porter', 'Matthew Reynolds',\n",
       "       'Jana Randow, Bloomberg', 'Igor Bonifacic', 'Howard Mustoe',\n",
       "       'Hunter Felt', 'Yardbarker', 'Cass Marshall', 'Scott Gilbertson',\n",
       "       'Wes Goldberg, RealGM', 'Gyan Yankovich',\n",
       "       'Jessica Conditt,Aaron Souppouris', 'Eric Ravenscraft',\n",
       "       'Michael R. Sisak, The Associated Press', 'Tom Maloney',\n",
       "       'Luke Baker', 'Nilay Patel', 'Mike Meehall Wood',\n",
       "       'Patricia Hernandez', 'Simon Peach', 'Kazuma Hashimoto',\n",
       "       'Matt Lutovsky', 'Chris Wilson', 'Trina Paul', 'Kaleigh Werner',\n",
       "       'Michael Idato', 'Natalie Wilson', 'Brenda Stolyar',\n",
       "       'Brent Brookhouse', 'Richard Jinman', 'Barry Divola',\n",
       "       'Jason Steger', 'Christaline Meyers', 'Susana Polo',\n",
       "       'Matt Patches', 'Charlie Hall', 'Mike Butcher', 'Justine Calma',\n",
       "       'Annabel Streets'], dtype=object)"
      ]
     },
     "execution_count": 21,
     "metadata": {},
     "output_type": "execute_result"
    }
   ],
   "source": [
    "# Detail on authors\n",
    "corpus_as_df[\"author\"].unique()"
   ]
  },
  {
   "cell_type": "code",
   "execution_count": 22,
   "metadata": {},
   "outputs": [
    {
     "data": {
      "text/plain": [
       "array(['Mashable', 'The Sydney Morning Herald',\n",
       "       'Cnbc | World Business News Leader', 'Yardbarker', 'Sporting News',\n",
       "       'Essentially Sports', 'The New York Times', 'TechCrunch',\n",
       "       'TalkSport', 'The Guardian', 'The Verge', 'Polygon',\n",
       "       'The Independent - Life and Style', 'FOX News - Entertainment',\n",
       "       'The Age', 'The Roar | Sports Writers Blog', 'Fortune', 'Engadget',\n",
       "       'CBSSports.com', 'FOX News - Health', 'FOX News - Lifestyle',\n",
       "       'Globes English | Israel Business Arena', 'Hacker News',\n",
       "       'Eos: Earth And Space Science News', 'Music Business Worldwide',\n",
       "       'Sky Sports', 'Business Line',\n",
       "       'Scitechdaily | Science Space And Technology News 2017',\n",
       "       'Zee Business',\n",
       "       'Business Today | Latest Stock Market And Economy News India',\n",
       "       'Sport Grill', 'Wide World Of Sports', 'Financial Times',\n",
       "       'Iot Business News', 'BBC News - Technology',\n",
       "       'The Independent - Sports', 'Yahoo News',\n",
       "       'Live Science: The Most Interesting Articles',\n",
       "       'Science News For Students', 'BBC News - Entertainment & Arts',\n",
       "       'Insidesport', 'Advanced Science News', 'Revyuh Media',\n",
       "       'Business World', 'Wired', 'Seeking Alpha', 'Sportskeeda',\n",
       "       'Rivals', 'The Independent - Travel'], dtype=object)"
      ]
     },
     "execution_count": 22,
     "metadata": {},
     "output_type": "execute_result"
    }
   ],
   "source": [
    "# Detail on sources\n",
    "corpus_as_df[\"source\"].unique()"
   ]
  },
  {
   "cell_type": "code",
   "execution_count": 23,
   "metadata": {},
   "outputs": [
    {
     "data": {
      "text/plain": [
       "array(['entertainment', 'business', 'sports', 'technology', 'health',\n",
       "       'science'], dtype=object)"
      ]
     },
     "execution_count": 23,
     "metadata": {},
     "output_type": "execute_result"
    }
   ],
   "source": [
    "# Detail on category\n",
    "corpus_as_df[\"category\"].unique()"
   ]
  },
  {
   "cell_type": "code",
   "execution_count": 24,
   "metadata": {},
   "outputs": [
    {
     "data": {
      "text/plain": [
       "count      609.000000\n",
       "mean      1746.008210\n",
       "std       1338.843744\n",
       "min        839.000000\n",
       "25%       1036.000000\n",
       "50%       1298.000000\n",
       "75%       1938.000000\n",
       "max      12387.000000\n",
       "Name: body_wordcount, dtype: float64"
      ]
     },
     "execution_count": 24,
     "metadata": {},
     "output_type": "execute_result"
    }
   ],
   "source": [
    "# Detail on article's word count\n",
    "\n",
    "# Add new feature with word count of each article\n",
    "corpus_as_df[\"body_wordcount\"] = corpus_as_df[\"body\"].str.split().str.len()\n",
    "# Get descriptive stats\n",
    "corpus_as_df[\"body_wordcount\"].describe()\n",
    "\n"
   ]
  },
  {
   "cell_type": "code",
   "execution_count": 25,
   "metadata": {},
   "outputs": [
    {
     "data": {
      "text/plain": [
       "count      609.000000\n",
       "mean     10340.182266\n",
       "std       7809.231296\n",
       "min       4770.000000\n",
       "25%       6112.000000\n",
       "50%       7836.000000\n",
       "75%      11471.000000\n",
       "max      71034.000000\n",
       "Name: body_charcount, dtype: float64"
      ]
     },
     "execution_count": 25,
     "metadata": {},
     "output_type": "execute_result"
    }
   ],
   "source": [
    "# Detail on article's character count\n",
    "\n",
    "# Add new feature with character count of each article\n",
    "corpus_as_df[\"body_charcount\"] = corpus_as_df[\"body\"].str.len()\n",
    "# Get descriptive stats\n",
    "corpus_as_df[\"body_charcount\"].describe()"
   ]
  },
  {
   "cell_type": "markdown",
   "metadata": {},
   "source": [
    "The median wordcount is ~1300 words, roughly equivalent to between 3.5 and 5 pages depending on the particular format."
   ]
  },
  {
   "cell_type": "code",
   "execution_count": 26,
   "metadata": {},
   "outputs": [
    {
     "data": {
      "text/html": [
       "<div>\n",
       "<style scoped>\n",
       "    .dataframe tbody tr th:only-of-type {\n",
       "        vertical-align: middle;\n",
       "    }\n",
       "\n",
       "    .dataframe tbody tr th {\n",
       "        vertical-align: top;\n",
       "    }\n",
       "\n",
       "    .dataframe thead th {\n",
       "        text-align: right;\n",
       "    }\n",
       "</style>\n",
       "<table border=\"1\" class=\"dataframe\">\n",
       "  <thead>\n",
       "    <tr style=\"text-align: right;\">\n",
       "      <th></th>\n",
       "      <th>title</th>\n",
       "      <th>author</th>\n",
       "      <th>source</th>\n",
       "      <th>published_at</th>\n",
       "      <th>category</th>\n",
       "      <th>url</th>\n",
       "      <th>body</th>\n",
       "      <th>body_wordcount</th>\n",
       "      <th>body_charcount</th>\n",
       "    </tr>\n",
       "  </thead>\n",
       "  <tbody>\n",
       "    <tr>\n",
       "      <th>0</th>\n",
       "      <td>200+ of the best deals from Amazon's Cyber Mon...</td>\n",
       "      <td>None</td>\n",
       "      <td>Mashable</td>\n",
       "      <td>2023-11-27T08:45:59+00:00</td>\n",
       "      <td>entertainment</td>\n",
       "      <td>https://mashable.com/article/cyber-monday-deal...</td>\n",
       "      <td>Table of Contents Table of Contents Echo, Fire...</td>\n",
       "      <td>987</td>\n",
       "      <td>5813</td>\n",
       "    </tr>\n",
       "    <tr>\n",
       "      <th>1</th>\n",
       "      <td>ASX set to drop as Wall Street’s September slu...</td>\n",
       "      <td>Stan Choe</td>\n",
       "      <td>The Sydney Morning Herald</td>\n",
       "      <td>2023-09-26T19:11:30+00:00</td>\n",
       "      <td>business</td>\n",
       "      <td>https://www.smh.com.au/business/markets/asx-se...</td>\n",
       "      <td>ETF provider Betashares, which manages $30 bil...</td>\n",
       "      <td>952</td>\n",
       "      <td>5649</td>\n",
       "    </tr>\n",
       "    <tr>\n",
       "      <th>2</th>\n",
       "      <td>Amazon sellers sound off on the FTC's 'long-ov...</td>\n",
       "      <td>None</td>\n",
       "      <td>Cnbc | World Business News Leader</td>\n",
       "      <td>2023-10-06T21:31:00+00:00</td>\n",
       "      <td>business</td>\n",
       "      <td>https://www.cnbc.com/2023/10/06/amazon-sellers...</td>\n",
       "      <td>A worker sorts out parcels in the outbound doc...</td>\n",
       "      <td>1626</td>\n",
       "      <td>9801</td>\n",
       "    </tr>\n",
       "    <tr>\n",
       "      <th>3</th>\n",
       "      <td>Christmas Day preview: 49ers, Ravens square of...</td>\n",
       "      <td>Colum Dell, Yardbarker</td>\n",
       "      <td>Yardbarker</td>\n",
       "      <td>2023-12-24T23:34:39+00:00</td>\n",
       "      <td>sports</td>\n",
       "      <td>https://www.yardbarker.com/nfl/articles/christ...</td>\n",
       "      <td>Christmas Day isn't just for the NBA, as the N...</td>\n",
       "      <td>1101</td>\n",
       "      <td>6625</td>\n",
       "    </tr>\n",
       "    <tr>\n",
       "      <th>4</th>\n",
       "      <td>Raiders vs. Lions live score, updates, highlig...</td>\n",
       "      <td>Dan Treacy</td>\n",
       "      <td>Sporting News</td>\n",
       "      <td>2023-10-30T22:20:03+00:00</td>\n",
       "      <td>sports</td>\n",
       "      <td>https://www.sportingnews.com/us/nfl/news/raide...</td>\n",
       "      <td>The Lions just needed to get themselves back i...</td>\n",
       "      <td>2766</td>\n",
       "      <td>15385</td>\n",
       "    </tr>\n",
       "    <tr>\n",
       "      <th>...</th>\n",
       "      <td>...</td>\n",
       "      <td>...</td>\n",
       "      <td>...</td>\n",
       "      <td>...</td>\n",
       "      <td>...</td>\n",
       "      <td>...</td>\n",
       "      <td>...</td>\n",
       "      <td>...</td>\n",
       "      <td>...</td>\n",
       "    </tr>\n",
       "    <tr>\n",
       "      <th>604</th>\n",
       "      <td>Cannabis use in pregnancy linked to small birt...</td>\n",
       "      <td>None</td>\n",
       "      <td>Live Science: The Most Interesting Articles</td>\n",
       "      <td>2023-12-13T17:21:53+00:00</td>\n",
       "      <td>science</td>\n",
       "      <td>https://www.livescience.com/health/fertility-p...</td>\n",
       "      <td>Using cannabis during pregnancy may come with ...</td>\n",
       "      <td>934</td>\n",
       "      <td>5800</td>\n",
       "    </tr>\n",
       "    <tr>\n",
       "      <th>605</th>\n",
       "      <td>Walks, tech and protein: how to parent your ow...</td>\n",
       "      <td>Annabel Streets</td>\n",
       "      <td>The Guardian</td>\n",
       "      <td>2023-10-10T09:00:35+00:00</td>\n",
       "      <td>entertainment</td>\n",
       "      <td>https://www.theguardian.com/lifeandstyle/2023/...</td>\n",
       "      <td>Parenting no longer starts and stops with our ...</td>\n",
       "      <td>1075</td>\n",
       "      <td>6557</td>\n",
       "    </tr>\n",
       "    <tr>\n",
       "      <th>606</th>\n",
       "      <td>Super Mario Bros. Wonder is a perfect end for ...</td>\n",
       "      <td>Chris Plante</td>\n",
       "      <td>Polygon</td>\n",
       "      <td>2023-10-18T13:00:00+00:00</td>\n",
       "      <td>entertainment</td>\n",
       "      <td>https://www.polygon.com/reviews/23920680/super...</td>\n",
       "      <td>The second level of Super Mario Bros. Wonder i...</td>\n",
       "      <td>1664</td>\n",
       "      <td>9857</td>\n",
       "    </tr>\n",
       "    <tr>\n",
       "      <th>607</th>\n",
       "      <td>The best apps and tools for managing your mone...</td>\n",
       "      <td>David Pierce</td>\n",
       "      <td>The Verge</td>\n",
       "      <td>2023-11-12T13:00:00+00:00</td>\n",
       "      <td>technology</td>\n",
       "      <td>https://www.theverge.com/2023/11/12/23955681/b...</td>\n",
       "      <td>Hi, friends! Welcome to Installer No. 14, your...</td>\n",
       "      <td>2585</td>\n",
       "      <td>14259</td>\n",
       "    </tr>\n",
       "    <tr>\n",
       "      <th>608</th>\n",
       "      <td>Meta to offer ad-free subscription in Europe i...</td>\n",
       "      <td>Natasha Lomas</td>\n",
       "      <td>TechCrunch</td>\n",
       "      <td>2023-10-30T13:52:00+00:00</td>\n",
       "      <td>technology</td>\n",
       "      <td>https://techcrunch.com/2023/10/30/meta-ad-free...</td>\n",
       "      <td>Meta is to offer an ad-free subscription versi...</td>\n",
       "      <td>1256</td>\n",
       "      <td>7493</td>\n",
       "    </tr>\n",
       "  </tbody>\n",
       "</table>\n",
       "<p>609 rows × 9 columns</p>\n",
       "</div>"
      ],
      "text/plain": [
       "                                                 title  \\\n",
       "0    200+ of the best deals from Amazon's Cyber Mon...   \n",
       "1    ASX set to drop as Wall Street’s September slu...   \n",
       "2    Amazon sellers sound off on the FTC's 'long-ov...   \n",
       "3    Christmas Day preview: 49ers, Ravens square of...   \n",
       "4    Raiders vs. Lions live score, updates, highlig...   \n",
       "..                                                 ...   \n",
       "604  Cannabis use in pregnancy linked to small birt...   \n",
       "605  Walks, tech and protein: how to parent your ow...   \n",
       "606  Super Mario Bros. Wonder is a perfect end for ...   \n",
       "607  The best apps and tools for managing your mone...   \n",
       "608  Meta to offer ad-free subscription in Europe i...   \n",
       "\n",
       "                     author                                       source  \\\n",
       "0                      None                                     Mashable   \n",
       "1                 Stan Choe                    The Sydney Morning Herald   \n",
       "2                      None            Cnbc | World Business News Leader   \n",
       "3    Colum Dell, Yardbarker                                   Yardbarker   \n",
       "4                Dan Treacy                                Sporting News   \n",
       "..                      ...                                          ...   \n",
       "604                    None  Live Science: The Most Interesting Articles   \n",
       "605         Annabel Streets                                 The Guardian   \n",
       "606            Chris Plante                                      Polygon   \n",
       "607            David Pierce                                    The Verge   \n",
       "608           Natasha Lomas                                   TechCrunch   \n",
       "\n",
       "                  published_at       category  \\\n",
       "0    2023-11-27T08:45:59+00:00  entertainment   \n",
       "1    2023-09-26T19:11:30+00:00       business   \n",
       "2    2023-10-06T21:31:00+00:00       business   \n",
       "3    2023-12-24T23:34:39+00:00         sports   \n",
       "4    2023-10-30T22:20:03+00:00         sports   \n",
       "..                         ...            ...   \n",
       "604  2023-12-13T17:21:53+00:00        science   \n",
       "605  2023-10-10T09:00:35+00:00  entertainment   \n",
       "606  2023-10-18T13:00:00+00:00  entertainment   \n",
       "607  2023-11-12T13:00:00+00:00     technology   \n",
       "608  2023-10-30T13:52:00+00:00     technology   \n",
       "\n",
       "                                                   url  \\\n",
       "0    https://mashable.com/article/cyber-monday-deal...   \n",
       "1    https://www.smh.com.au/business/markets/asx-se...   \n",
       "2    https://www.cnbc.com/2023/10/06/amazon-sellers...   \n",
       "3    https://www.yardbarker.com/nfl/articles/christ...   \n",
       "4    https://www.sportingnews.com/us/nfl/news/raide...   \n",
       "..                                                 ...   \n",
       "604  https://www.livescience.com/health/fertility-p...   \n",
       "605  https://www.theguardian.com/lifeandstyle/2023/...   \n",
       "606  https://www.polygon.com/reviews/23920680/super...   \n",
       "607  https://www.theverge.com/2023/11/12/23955681/b...   \n",
       "608  https://techcrunch.com/2023/10/30/meta-ad-free...   \n",
       "\n",
       "                                                  body  body_wordcount  \\\n",
       "0    Table of Contents Table of Contents Echo, Fire...             987   \n",
       "1    ETF provider Betashares, which manages $30 bil...             952   \n",
       "2    A worker sorts out parcels in the outbound doc...            1626   \n",
       "3    Christmas Day isn't just for the NBA, as the N...            1101   \n",
       "4    The Lions just needed to get themselves back i...            2766   \n",
       "..                                                 ...             ...   \n",
       "604  Using cannabis during pregnancy may come with ...             934   \n",
       "605  Parenting no longer starts and stops with our ...            1075   \n",
       "606  The second level of Super Mario Bros. Wonder i...            1664   \n",
       "607  Hi, friends! Welcome to Installer No. 14, your...            2585   \n",
       "608  Meta is to offer an ad-free subscription versi...            1256   \n",
       "\n",
       "     body_charcount  \n",
       "0              5813  \n",
       "1              5649  \n",
       "2              9801  \n",
       "3              6625  \n",
       "4             15385  \n",
       "..              ...  \n",
       "604            5800  \n",
       "605            6557  \n",
       "606            9857  \n",
       "607           14259  \n",
       "608            7493  \n",
       "\n",
       "[609 rows x 9 columns]"
      ]
     },
     "execution_count": 26,
     "metadata": {},
     "output_type": "execute_result"
    }
   ],
   "source": [
    "corpus_as_df"
   ]
  },
  {
   "cell_type": "code",
   "execution_count": 33,
   "metadata": {},
   "outputs": [
    {
     "name": "stdout",
     "output_type": "stream",
     "text": [
      "Several would-be antidotes to the supersized and high-priced EV trend kicked the bucket this year. That’s bad news for everyone, even if you’d pick a beefy Cybertruck over something resembling a teeny Kei car.\n",
      "\n",
      "Cars in general are no substitute for more efficient modes of transportation, including trains and bikes. But the last thing the climate and most budgets need is another tank-like truck or SUV. Large, heavy electric vehicles demand more materials and energy than smaller EVs; that means more avoidable greenhouse gas emissions during and after production. Despite these downsides, automakers build big because big sells.\n",
      "\n",
      "Numerous vehicles from startups and some legacy automakers challenge the “bigger is better” notion via compact designs and smaller price tags. Yet, little typically comes of their resistance. We observed as much with several ill-fated EVs this year, including the ElectraMeccanica Solo, Sono Sion and Mazda MX-30.\n",
      "\n",
      "Here we’ll take a look at the small and low(er)-priced EVs that didn’t make it — the flops, the failures to launch, the u-turns and holdouts of North America’s size- and range-obsessed EV market.\n",
      "\n",
      "ElectraMeccanica Solo\n",
      "\n",
      "Legally a motorcycle, ElectraMeccanica’s tiny EV featured one seat, 100 miles of range and an $18,500 price tag. The automaker pitched the three-wheeled vehicle to city dwellers and delivery fleet managers alike. I never got to drive a Solo, but I sat inside one of these cuties last year and found it claustrophobic with the doors shut.\n",
      "\n",
      "In April, ElectraMeccanica recalled every Solo over power failure issues. At the time, the company said it was pivoting to four-wheeled vehicles. ElectraMeccanica soon entered into a plan to merge with electric truck maker Tevva. In October, ElectraMeccanica inexplicably pulled the plug on that exit.\n",
      "\n",
      "Honda e\n",
      "\n",
      "The Honda e debuted in Europe and Japan in 2020 with a 100-mile range and a $36,000-$43,000 price tag. The vehicle charmed reviewers with its city-friendly size and sweet-yet-vacant stare. Yet, as far as sales went it proved to be a total flop, thanks in no small part to its weak price-to-range ratio. Honda never brought the e to other locales, and by December this year, the automaker said it would cease production of the little buggy in January 2024.\n",
      "\n",
      "Sono Sion\n",
      "\n",
      "German automaker Sono once led the charge to bring solar panels to electric cars with the five-seater Sono Sion hatchback. Sono priced the Sion (unrelated to Toyota’s Scion badge) at $25,000 and intended to kick off production in 2023.\n",
      "\n",
      "Instead, Sono pivoted to selling to third-party automakers and laid off 300 workers. No longer an automaker, Sono now focuses on embedding its solar tech into other vehicles.\n",
      "\n",
      "GM, Honda’s affordable EVs\n",
      "\n",
      "General Motors and Honda said in April 2022 that they’d co-develop millions of small and affordable EVs. They teased sub-$30,000 electrics for North America, aiming to deliver them in 2027.\n",
      "\n",
      "Yet by October 2023, they canned the collaboration, vaguely citing “extensive studies and analysis” to explain the move. The announcement came as GM slowed its transition to EVs and Honda teased a “new global EV series” of its own.\n",
      "\n",
      "Mazda MX-30 (U.S.)\n",
      "\n",
      "The Mazda MX-30 is small by Cybertruck standards (Tesla’s vehicle is 25% longer and wider), but the only truly diminutive thing about the MX-30 is its 100-mile range and availability. Stateside, Mazda exclusively sold the MX-30 in California, the state with the most EV chargers by a factor of five.\n",
      "\n",
      "Mazda said in July that it planned to discontinue the EV in the U.S. at the end of 2023. However, the automaker will continue selling the EV in Japan and the EU.\n",
      "\n",
      "Revel mopeds\n",
      "\n",
      "Revel — the Blackrock- and Shell-backed moped-sharing business — dumped its two-wheeled EVs this year in favor of regular-old electric cars. Revel said its moped ridership peaked in July 2020, at nearly 600,000 rides that month. In the years that followed, the company’s moped ridership collapsed amid several deaths involving Revel mopeds, as e-bikes gained ground in cities like New York and San Francisco.\n",
      "\n",
      "VanMoof\n",
      "\n",
      "Dutch e-bike startup VanMoof rode the high of the COVID-19-era bike boom into a $128 million Series C funding round. VanMoof proclaimed at the time that it was the “most funded e-bike company in the world,” and co-founder Taco Carlier boasted the company was “reinventing, redesigning, and re-engineering every component of the bicycle.”\n",
      "\n",
      "VanMoof’s rapid growth and focus on proprietary parts led to its downfall. By 2023, the company reportedly lost money on each bike due to costly repairs, and struggled to raise additional funds to stay afloat. This past summer, VanMoof paused sales and Taco Carlier left as the firm declared bankruptcy.\n",
      "\n",
      "Electric scooter maker Lavoie acquired what was left of VanMoof in August for “tens of millions,” pulling it out of bankruptcy. Months later, it seems the acquirer has yet to restart VanMoof production or resume repairs.\n",
      "\n",
      "On the other hand\n",
      "\n",
      "It’s been a bummer year for fans of small EVs, but all is not lost. For one, city bike-sharing programs are booming and increasingly electric. D.C.’s Capitol Bikeshare notched a record 428,000 rides in the month of may. That same month, New York’s Citi Bike recorded 867,838 rides in a single week — and the program continues to expand.\n",
      "\n",
      "Beyond e-bikes, Arcimoto lives on as the rare, three-wheeled EV holdout in the U.S. The Fiat 500e is coming to North America in 2024 (in limited quantities), several years after its debut in the EU. A startup called Telo Trucks is attempting to prove that Americans will buy small trucks again, and it’s developing a pickup with the footprint of a two-door Mini Cooper. Plus, while GM said it would kill the Chevy Bolt and larger Bolt EUV, the automaker now says it will keep the latter Bolt around.\n"
     ]
    }
   ],
   "source": [
    "print(corpus_as_df.sample().body.values[0])"
   ]
  },
  {
   "cell_type": "markdown",
   "metadata": {},
   "source": [
    "### C. Queries"
   ]
  },
  {
   "cell_type": "code",
   "execution_count": 13,
   "metadata": {},
   "outputs": [],
   "source": [
    "# Define path to queries file and load it\n",
    "multihop_queries_path = os.path.join(project_root, \"data\", \"Multi-hop_RAG_dataset\", \"MultiHopRAG.json\")\n",
    "\n",
    "with open(multihop_queries_path, \"r\", encoding=\"utf-8\") as f:\n",
    "    queries = json.load(f)"
   ]
  },
  {
   "cell_type": "code",
   "execution_count": 14,
   "metadata": {},
   "outputs": [
    {
     "data": {
      "text/plain": [
       "{'query': 'Who is the individual associated with the cryptocurrency industry facing a criminal trial on fraud and conspiracy charges, as reported by both The Verge and TechCrunch, and is accused by prosecutors of committing fraud for personal gain?',\n",
       " 'answer': 'Sam Bankman-Fried',\n",
       " 'question_type': 'inference_query',\n",
       " 'evidence_list': [{'title': 'The FTX trial is bigger than Sam Bankman-Fried',\n",
       "   'author': 'Elizabeth Lopatto',\n",
       "   'url': 'https://www.theverge.com/2023/9/28/23893269/ftx-sam-bankman-fried-trial-evidence-crypto',\n",
       "   'source': 'The Verge',\n",
       "   'category': 'technology',\n",
       "   'published_at': '2023-09-28T12:00:00+00:00',\n",
       "   'fact': 'Before his fall, Bankman-Fried made himself out to be the Good Boy of crypto — the trustworthy face of a sometimes-shady industry.'},\n",
       "  {'title': 'SBF’s trial starts soon, but how did he — and FTX — get here?',\n",
       "   'author': 'Jacquelyn Melinek',\n",
       "   'url': 'https://techcrunch.com/2023/10/01/ftx-lawsuit-timeline/',\n",
       "   'source': 'TechCrunch',\n",
       "   'category': 'technology',\n",
       "   'published_at': '2023-10-01T14:00:29+00:00',\n",
       "   'fact': 'The highly anticipated criminal trial for Sam Bankman-Fried, former CEO of bankrupt crypto exchange FTX, started Tuesday to determine whether he’s guilty of seven counts of fraud and conspiracy.'},\n",
       "  {'title': 'Sam Altman backs teens’ startup, Google unveils the Pixel 8 and TikTok tests an ad-free tier',\n",
       "   'author': 'Kyle Wiggers',\n",
       "   'url': 'https://techcrunch.com/2023/10/07/sam-altman-backs-a-teens-startup-google-unveils-the-pixel-8-and-tiktok-tests-an-ad-free-tier/',\n",
       "   'source': 'TechCrunch',\n",
       "   'category': 'technology',\n",
       "   'published_at': '2023-10-07T20:15:26+00:00',\n",
       "   'fact': 'The prosecution painted Bankman-Fried as someone who knowingly committed fraud to achieve great wealth, power and influence, while the defense countered that the FTX founder acted in good faith, never meant to commit fraud or steal and basically got in over his head.'}]}"
      ]
     },
     "execution_count": 14,
     "metadata": {},
     "output_type": "execute_result"
    }
   ],
   "source": [
    "queries[0]"
   ]
  },
  {
   "cell_type": "code",
   "execution_count": 15,
   "metadata": {},
   "outputs": [],
   "source": [
    "# Convert corpus data into df\n",
    "queries_as_df = pd.DataFrame(queries)"
   ]
  },
  {
   "cell_type": "code",
   "execution_count": 16,
   "metadata": {},
   "outputs": [
    {
     "data": {
      "text/html": [
       "<div>\n",
       "<style scoped>\n",
       "    .dataframe tbody tr th:only-of-type {\n",
       "        vertical-align: middle;\n",
       "    }\n",
       "\n",
       "    .dataframe tbody tr th {\n",
       "        vertical-align: top;\n",
       "    }\n",
       "\n",
       "    .dataframe thead th {\n",
       "        text-align: right;\n",
       "    }\n",
       "</style>\n",
       "<table border=\"1\" class=\"dataframe\">\n",
       "  <thead>\n",
       "    <tr style=\"text-align: right;\">\n",
       "      <th></th>\n",
       "      <th>query</th>\n",
       "      <th>answer</th>\n",
       "      <th>question_type</th>\n",
       "      <th>evidence_list</th>\n",
       "    </tr>\n",
       "  </thead>\n",
       "  <tbody>\n",
       "    <tr>\n",
       "      <th>0</th>\n",
       "      <td>Who is the individual associated with the cryp...</td>\n",
       "      <td>Sam Bankman-Fried</td>\n",
       "      <td>inference_query</td>\n",
       "      <td>[{'title': 'The FTX trial is bigger than Sam B...</td>\n",
       "    </tr>\n",
       "    <tr>\n",
       "      <th>1</th>\n",
       "      <td>Which individual is implicated in both inflati...</td>\n",
       "      <td>Donald Trump</td>\n",
       "      <td>inference_query</td>\n",
       "      <td>[{'title': 'Donald Trump defrauded banks with ...</td>\n",
       "    </tr>\n",
       "    <tr>\n",
       "      <th>2</th>\n",
       "      <td>Who is the figure associated with generative A...</td>\n",
       "      <td>Sam Altman</td>\n",
       "      <td>inference_query</td>\n",
       "      <td>[{'title': 'OpenAI's ex-chairman accuses board...</td>\n",
       "    </tr>\n",
       "    <tr>\n",
       "      <th>3</th>\n",
       "      <td>Do the TechCrunch article on software companie...</td>\n",
       "      <td>Yes</td>\n",
       "      <td>comparison_query</td>\n",
       "      <td>[{'title': 'Here’s how Rainforest, a budding S...</td>\n",
       "    </tr>\n",
       "    <tr>\n",
       "      <th>4</th>\n",
       "      <td>Which online betting platform provides a welco...</td>\n",
       "      <td>Caesars Sportsbook</td>\n",
       "      <td>inference_query</td>\n",
       "      <td>[{'title': '2023 Kentucky online sports bettin...</td>\n",
       "    </tr>\n",
       "    <tr>\n",
       "      <th>...</th>\n",
       "      <td>...</td>\n",
       "      <td>...</td>\n",
       "      <td>...</td>\n",
       "      <td>...</td>\n",
       "    </tr>\n",
       "    <tr>\n",
       "      <th>2551</th>\n",
       "      <td>Who is the individual associated with using FT...</td>\n",
       "      <td>Sam Bankman-Fried</td>\n",
       "      <td>inference_query</td>\n",
       "      <td>[{'title': 'Sam Bankman-Fried was a terrible b...</td>\n",
       "    </tr>\n",
       "    <tr>\n",
       "      <th>2552</th>\n",
       "      <td>Who is the individual that was once likened to...</td>\n",
       "      <td>Sam Bankman-Fried</td>\n",
       "      <td>inference_query</td>\n",
       "      <td>[{'title': 'SBF’s trial starts soon, but how d...</td>\n",
       "    </tr>\n",
       "    <tr>\n",
       "      <th>2553</th>\n",
       "      <td>Who, according to articles in Sporting News, s...</td>\n",
       "      <td>Bettors</td>\n",
       "      <td>inference_query</td>\n",
       "      <td>[{'title': 'Moneyline Betting - What is the Mo...</td>\n",
       "    </tr>\n",
       "    <tr>\n",
       "      <th>2554</th>\n",
       "      <td>Does the Cnbc | World Business News Leader art...</td>\n",
       "      <td>Yes</td>\n",
       "      <td>comparison_query</td>\n",
       "      <td>[{'title': 'Sex, Signal messages, and sabotagi...</td>\n",
       "    </tr>\n",
       "    <tr>\n",
       "      <th>2555</th>\n",
       "      <td>Between the report by Business Today | Latest ...</td>\n",
       "      <td>Yes</td>\n",
       "      <td>temporal_query</td>\n",
       "      <td>[{'title': 'Israel's blockade of Gaza means th...</td>\n",
       "    </tr>\n",
       "  </tbody>\n",
       "</table>\n",
       "<p>2556 rows × 4 columns</p>\n",
       "</div>"
      ],
      "text/plain": [
       "                                                  query              answer  \\\n",
       "0     Who is the individual associated with the cryp...   Sam Bankman-Fried   \n",
       "1     Which individual is implicated in both inflati...        Donald Trump   \n",
       "2     Who is the figure associated with generative A...          Sam Altman   \n",
       "3     Do the TechCrunch article on software companie...                 Yes   \n",
       "4     Which online betting platform provides a welco...  Caesars Sportsbook   \n",
       "...                                                 ...                 ...   \n",
       "2551  Who is the individual associated with using FT...   Sam Bankman-Fried   \n",
       "2552  Who is the individual that was once likened to...   Sam Bankman-Fried   \n",
       "2553  Who, according to articles in Sporting News, s...             Bettors   \n",
       "2554  Does the Cnbc | World Business News Leader art...                 Yes   \n",
       "2555  Between the report by Business Today | Latest ...                 Yes   \n",
       "\n",
       "         question_type                                      evidence_list  \n",
       "0      inference_query  [{'title': 'The FTX trial is bigger than Sam B...  \n",
       "1      inference_query  [{'title': 'Donald Trump defrauded banks with ...  \n",
       "2      inference_query  [{'title': 'OpenAI's ex-chairman accuses board...  \n",
       "3     comparison_query  [{'title': 'Here’s how Rainforest, a budding S...  \n",
       "4      inference_query  [{'title': '2023 Kentucky online sports bettin...  \n",
       "...                ...                                                ...  \n",
       "2551   inference_query  [{'title': 'Sam Bankman-Fried was a terrible b...  \n",
       "2552   inference_query  [{'title': 'SBF’s trial starts soon, but how d...  \n",
       "2553   inference_query  [{'title': 'Moneyline Betting - What is the Mo...  \n",
       "2554  comparison_query  [{'title': 'Sex, Signal messages, and sabotagi...  \n",
       "2555    temporal_query  [{'title': 'Israel's blockade of Gaza means th...  \n",
       "\n",
       "[2556 rows x 4 columns]"
      ]
     },
     "execution_count": 16,
     "metadata": {},
     "output_type": "execute_result"
    }
   ],
   "source": [
    "queries_as_df"
   ]
  },
  {
   "cell_type": "code",
   "execution_count": 17,
   "metadata": {},
   "outputs": [
    {
     "data": {
      "text/plain": [
       "array(['inference_query', 'comparison_query', 'null_query',\n",
       "       'temporal_query'], dtype=object)"
      ]
     },
     "execution_count": 17,
     "metadata": {},
     "output_type": "execute_result"
    }
   ],
   "source": [
    "queries_as_df[\"question_type\"].unique()"
   ]
  },
  {
   "cell_type": "code",
   "execution_count": 45,
   "metadata": {},
   "outputs": [
    {
     "data": {
      "text/plain": [
       "\"Does the Engadget article claim that CyberGhost's cybersecurity measures exclude an independent security audit, a vulnerability disclosure program, and transparency reporting, while the TechCrunch article suggests that Keep Labs employs automated tools for code vulnerability assessments, indicating different approaches to product security?\""
      ]
     },
     "execution_count": 45,
     "metadata": {},
     "output_type": "execute_result"
    }
   ],
   "source": [
    "sample_query['query'].values[0]"
   ]
  },
  {
   "cell_type": "code",
   "execution_count": 51,
   "metadata": {},
   "outputs": [
    {
     "name": "stdout",
     "output_type": "stream",
     "text": [
      "Query: Which company recently underwent a leadership strategy allowing Ryan Petersen to focus more on customer relations, faced workforce reductions by the same individual, and had its internal affairs publicly described as \"deeply concerning\" by Dave Clark, as reported by Cnbc | World Business News Leader and TechCrunch?\n",
      "Answer: Flexport\n"
     ]
    },
    {
     "data": {
      "text/plain": [
       "[{'title': \"The inside story of Dave Clark's tumultuous last days at Flexport\",\n",
       "  'author': None,\n",
       "  'url': 'https://www.cnbc.com/2023/10/02/the-inside-story-of-dave-clarks-tumultuous-last-days-at-flexport.html',\n",
       "  'source': 'Cnbc | World Business News Leader',\n",
       "  'category': 'business',\n",
       "  'published_at': '2023-10-02T17:46:00+00:00',\n",
       "  'fact': 'The co-CEO arrangement would free Petersen up to do what he loved – \"getting beers with customers,\" in the words of two former Flexport employees.'},\n",
       " {'title': 'Cruise hits the brakes on driverless, UAW makes progress and more EV backpedaling',\n",
       "  'author': 'Kirsten Korosec',\n",
       "  'url': 'https://techcrunch.com/2023/10/30/cruise-hits-the-brakes-on-driverless-uaw-makes-progress-and-more-ev-backpedaling/',\n",
       "  'source': 'TechCrunch',\n",
       "  'category': 'technology',\n",
       "  'published_at': '2023-10-30T10:15:24+00:00',\n",
       "  'fact': 'Petersen has spent the past month cutting costs, including laying off about 20% of its workers, or about 600 people.'},\n",
       " {'title': 'Sam Altman backs teens’ startup, Google unveils the Pixel 8 and TikTok tests an ad-free tier',\n",
       "  'author': 'Kyle Wiggers',\n",
       "  'url': 'https://techcrunch.com/2023/10/07/sam-altman-backs-a-teens-startup-google-unveils-the-pixel-8-and-tiktok-tests-an-ad-free-tier/',\n",
       "  'source': 'TechCrunch',\n",
       "  'category': 'technology',\n",
       "  'published_at': '2023-10-07T20:15:26+00:00',\n",
       "  'fact': 'Turmoil at Flexport: Dave Clark, the former Amazon executive who was ousted as CEO of Flexport just a year into the job, fired back at its founder and board, calling recent reporting on the logistics company “deeply concerning.” Clark made the comments Monday in a lengthy post on social media site X following a report from CNBC that provided new information about his last days at Flexport, a freight forwarding and customs brokerage startup valued at $8 billion.'}]"
      ]
     },
     "execution_count": 51,
     "metadata": {},
     "output_type": "execute_result"
    }
   ],
   "source": [
    "sample_query = queries_as_df.sample()\n",
    "\n",
    "query = sample_query['query'].values[0]\n",
    "answer = sample_query['answer'].values[0]\n",
    "\n",
    "print(f\"Query: {query}\")\n",
    "print(f\"Answer: {answer}\")\n",
    "\n",
    "sample_query['evidence_list'].values[0]\n"
   ]
  },
  {
   "cell_type": "markdown",
   "metadata": {},
   "source": [
    "### D. Mapping queries to relevant evidence"
   ]
  },
  {
   "cell_type": "code",
   "execution_count": 54,
   "metadata": {},
   "outputs": [
    {
     "data": {
      "text/plain": [
       "[{'title': 'The FTX trial is bigger than Sam Bankman-Fried',\n",
       "  'author': 'Elizabeth Lopatto',\n",
       "  'url': 'https://www.theverge.com/2023/9/28/23893269/ftx-sam-bankman-fried-trial-evidence-crypto',\n",
       "  'source': 'The Verge',\n",
       "  'category': 'technology',\n",
       "  'published_at': '2023-09-28T12:00:00+00:00',\n",
       "  'fact': 'Before his fall, Bankman-Fried made himself out to be the Good Boy of crypto — the trustworthy face of a sometimes-shady industry.'},\n",
       " {'title': 'SBF’s trial starts soon, but how did he — and FTX — get here?',\n",
       "  'author': 'Jacquelyn Melinek',\n",
       "  'url': 'https://techcrunch.com/2023/10/01/ftx-lawsuit-timeline/',\n",
       "  'source': 'TechCrunch',\n",
       "  'category': 'technology',\n",
       "  'published_at': '2023-10-01T14:00:29+00:00',\n",
       "  'fact': 'The highly anticipated criminal trial for Sam Bankman-Fried, former CEO of bankrupt crypto exchange FTX, started Tuesday to determine whether he’s guilty of seven counts of fraud and conspiracy.'},\n",
       " {'title': 'Sam Altman backs teens’ startup, Google unveils the Pixel 8 and TikTok tests an ad-free tier',\n",
       "  'author': 'Kyle Wiggers',\n",
       "  'url': 'https://techcrunch.com/2023/10/07/sam-altman-backs-a-teens-startup-google-unveils-the-pixel-8-and-tiktok-tests-an-ad-free-tier/',\n",
       "  'source': 'TechCrunch',\n",
       "  'category': 'technology',\n",
       "  'published_at': '2023-10-07T20:15:26+00:00',\n",
       "  'fact': 'The prosecution painted Bankman-Fried as someone who knowingly committed fraud to achieve great wealth, power and influence, while the defense countered that the FTX founder acted in good faith, never meant to commit fraud or steal and basically got in over his head.'}]"
      ]
     },
     "execution_count": 54,
     "metadata": {},
     "output_type": "execute_result"
    }
   ],
   "source": [
    "queries_as_df.iloc[i]\n",
    "queries_as_df.iloc[0]['evidence_list']"
   ]
  },
  {
   "cell_type": "code",
   "execution_count": 56,
   "metadata": {},
   "outputs": [
    {
     "data": {
      "text/plain": [
       "'The FTX trial is bigger than Sam Bankman-Fried'"
      ]
     },
     "execution_count": 56,
     "metadata": {},
     "output_type": "execute_result"
    }
   ],
   "source": [
    "queries_as_df.iloc[0]['evidence_list'][0]['title']"
   ]
  },
  {
   "cell_type": "code",
   "execution_count": 60,
   "metadata": {},
   "outputs": [
    {
     "data": {
      "text/plain": [
       "175"
      ]
     },
     "execution_count": 60,
     "metadata": {},
     "output_type": "execute_result"
    }
   ],
   "source": [
    "corpus_as_df[corpus_as_df['title'] == queries_as_df.iloc[0]['evidence_list'][0]['title']].index[0]"
   ]
  },
  {
   "cell_type": "code",
   "execution_count": 65,
   "metadata": {},
   "outputs": [
    {
     "data": {
      "text/html": [
       "<div>\n",
       "<style scoped>\n",
       "    .dataframe tbody tr th:only-of-type {\n",
       "        vertical-align: middle;\n",
       "    }\n",
       "\n",
       "    .dataframe tbody tr th {\n",
       "        vertical-align: top;\n",
       "    }\n",
       "\n",
       "    .dataframe thead th {\n",
       "        text-align: right;\n",
       "    }\n",
       "</style>\n",
       "<table border=\"1\" class=\"dataframe\">\n",
       "  <thead>\n",
       "    <tr style=\"text-align: right;\">\n",
       "      <th></th>\n",
       "      <th>query</th>\n",
       "      <th>answer</th>\n",
       "      <th>question_type</th>\n",
       "      <th>evidence_list</th>\n",
       "    </tr>\n",
       "  </thead>\n",
       "  <tbody>\n",
       "    <tr>\n",
       "      <th>0</th>\n",
       "      <td>Who is the individual associated with the cryp...</td>\n",
       "      <td>Sam Bankman-Fried</td>\n",
       "      <td>inference_query</td>\n",
       "      <td>[{'title': 'The FTX trial is bigger than Sam B...</td>\n",
       "    </tr>\n",
       "    <tr>\n",
       "      <th>1</th>\n",
       "      <td>Which individual is implicated in both inflati...</td>\n",
       "      <td>Donald Trump</td>\n",
       "      <td>inference_query</td>\n",
       "      <td>[{'title': 'Donald Trump defrauded banks with ...</td>\n",
       "    </tr>\n",
       "    <tr>\n",
       "      <th>2</th>\n",
       "      <td>Who is the figure associated with generative A...</td>\n",
       "      <td>Sam Altman</td>\n",
       "      <td>inference_query</td>\n",
       "      <td>[{'title': 'OpenAI's ex-chairman accuses board...</td>\n",
       "    </tr>\n",
       "    <tr>\n",
       "      <th>3</th>\n",
       "      <td>Do the TechCrunch article on software companie...</td>\n",
       "      <td>Yes</td>\n",
       "      <td>comparison_query</td>\n",
       "      <td>[{'title': 'Here’s how Rainforest, a budding S...</td>\n",
       "    </tr>\n",
       "    <tr>\n",
       "      <th>4</th>\n",
       "      <td>Which online betting platform provides a welco...</td>\n",
       "      <td>Caesars Sportsbook</td>\n",
       "      <td>inference_query</td>\n",
       "      <td>[{'title': '2023 Kentucky online sports bettin...</td>\n",
       "    </tr>\n",
       "    <tr>\n",
       "      <th>...</th>\n",
       "      <td>...</td>\n",
       "      <td>...</td>\n",
       "      <td>...</td>\n",
       "      <td>...</td>\n",
       "    </tr>\n",
       "    <tr>\n",
       "      <th>2551</th>\n",
       "      <td>Who is the individual associated with using FT...</td>\n",
       "      <td>Sam Bankman-Fried</td>\n",
       "      <td>inference_query</td>\n",
       "      <td>[{'title': 'Sam Bankman-Fried was a terrible b...</td>\n",
       "    </tr>\n",
       "    <tr>\n",
       "      <th>2552</th>\n",
       "      <td>Who is the individual that was once likened to...</td>\n",
       "      <td>Sam Bankman-Fried</td>\n",
       "      <td>inference_query</td>\n",
       "      <td>[{'title': 'SBF’s trial starts soon, but how d...</td>\n",
       "    </tr>\n",
       "    <tr>\n",
       "      <th>2553</th>\n",
       "      <td>Who, according to articles in Sporting News, s...</td>\n",
       "      <td>Bettors</td>\n",
       "      <td>inference_query</td>\n",
       "      <td>[{'title': 'Moneyline Betting - What is the Mo...</td>\n",
       "    </tr>\n",
       "    <tr>\n",
       "      <th>2554</th>\n",
       "      <td>Does the Cnbc | World Business News Leader art...</td>\n",
       "      <td>Yes</td>\n",
       "      <td>comparison_query</td>\n",
       "      <td>[{'title': 'Sex, Signal messages, and sabotagi...</td>\n",
       "    </tr>\n",
       "    <tr>\n",
       "      <th>2555</th>\n",
       "      <td>Between the report by Business Today | Latest ...</td>\n",
       "      <td>Yes</td>\n",
       "      <td>temporal_query</td>\n",
       "      <td>[{'title': 'Israel's blockade of Gaza means th...</td>\n",
       "    </tr>\n",
       "  </tbody>\n",
       "</table>\n",
       "<p>2556 rows × 4 columns</p>\n",
       "</div>"
      ],
      "text/plain": [
       "                                                  query              answer  \\\n",
       "0     Who is the individual associated with the cryp...   Sam Bankman-Fried   \n",
       "1     Which individual is implicated in both inflati...        Donald Trump   \n",
       "2     Who is the figure associated with generative A...          Sam Altman   \n",
       "3     Do the TechCrunch article on software companie...                 Yes   \n",
       "4     Which online betting platform provides a welco...  Caesars Sportsbook   \n",
       "...                                                 ...                 ...   \n",
       "2551  Who is the individual associated with using FT...   Sam Bankman-Fried   \n",
       "2552  Who is the individual that was once likened to...   Sam Bankman-Fried   \n",
       "2553  Who, according to articles in Sporting News, s...             Bettors   \n",
       "2554  Does the Cnbc | World Business News Leader art...                 Yes   \n",
       "2555  Between the report by Business Today | Latest ...                 Yes   \n",
       "\n",
       "         question_type                                      evidence_list  \n",
       "0      inference_query  [{'title': 'The FTX trial is bigger than Sam B...  \n",
       "1      inference_query  [{'title': 'Donald Trump defrauded banks with ...  \n",
       "2      inference_query  [{'title': 'OpenAI's ex-chairman accuses board...  \n",
       "3     comparison_query  [{'title': 'Here’s how Rainforest, a budding S...  \n",
       "4      inference_query  [{'title': '2023 Kentucky online sports bettin...  \n",
       "...                ...                                                ...  \n",
       "2551   inference_query  [{'title': 'Sam Bankman-Fried was a terrible b...  \n",
       "2552   inference_query  [{'title': 'SBF’s trial starts soon, but how d...  \n",
       "2553   inference_query  [{'title': 'Moneyline Betting - What is the Mo...  \n",
       "2554  comparison_query  [{'title': 'Sex, Signal messages, and sabotagi...  \n",
       "2555    temporal_query  [{'title': 'Israel's blockade of Gaza means th...  \n",
       "\n",
       "[2556 rows x 4 columns]"
      ]
     },
     "execution_count": 65,
     "metadata": {},
     "output_type": "execute_result"
    }
   ],
   "source": [
    "queries_as_df"
   ]
  },
  {
   "cell_type": "code",
   "execution_count": 70,
   "metadata": {},
   "outputs": [
    {
     "data": {
      "text/plain": [
       "{'title': \"OpenAI's ex-chairman accuses board of going rogue in firing Altman: 'Sam and I are shocked and saddened by what the board did'\",\n",
       " 'author': \"Matt O'Brien, The Associated Press\",\n",
       " 'url': 'https://fortune.com/2023/11/18/how-did-openai-fire-sam-altman-greg-brockman-rogue-board/',\n",
       " 'source': 'Fortune',\n",
       " 'category': 'business',\n",
       " 'published_at': '2023-11-18T15:33:09+00:00',\n",
       " 'fact': 'Altman’s exit “is indeed shocking as he has been the face of” generative AI technology, said Gartner analyst Arun Chandrasekaran.'}"
      ]
     },
     "execution_count": 70,
     "metadata": {},
     "output_type": "execute_result"
    }
   ],
   "source": [
    "queries_as_df.iloc[2]['evidence_list'][0]"
   ]
  },
  {
   "cell_type": "code",
   "execution_count": 68,
   "metadata": {},
   "outputs": [],
   "source": [
    "#heyhey\n",
    "all_evidences = []\n",
    "for i in range(queries_as_df.shape[0]):\n",
    "    evidence_index_list = []\n",
    "    for evidence in queries_as_df.iloc[i]['evidence_list']:\n",
    "        evidence_index_list.append(corpus_as_df[corpus_as_df['title'] == evidence['title']].index[0])\n",
    "    all_evidences.append(evidence_index_list)\n",
    "\n",
    "queries_as_df['evidence_index'] = all_evidences"
   ]
  },
  {
   "cell_type": "code",
   "execution_count": 74,
   "metadata": {},
   "outputs": [
    {
     "data": {
      "text/plain": [
       "[{'title': 'SBF’s trial starts soon, but how did he — and FTX — get here?',\n",
       "  'author': 'Jacquelyn Melinek',\n",
       "  'url': 'https://techcrunch.com/2023/10/01/ftx-lawsuit-timeline/',\n",
       "  'source': 'TechCrunch',\n",
       "  'category': 'technology',\n",
       "  'published_at': '2023-10-01T14:00:29+00:00',\n",
       "  'fact': 'Bankman-Fried was even compared to Warren Buffet and many called him the white horse of crypto (TechCrunch never did, for what it’s worth).'},\n",
       " {'title': \"Sex, Signal messages, and sabotaging FTX's code: SBF execs and Bahamas roommates tell all in court\",\n",
       "  'author': None,\n",
       "  'url': 'https://www.cnbc.com/2023/10/06/sex-signal-messages-and-sabotaging-ftxs-code-sbf-criminal-trial.html',\n",
       "  'source': 'Cnbc | World Business News Leader',\n",
       "  'category': 'business',\n",
       "  'published_at': '2023-10-06T20:17:00+00:00',\n",
       "  'fact': \"During cross-examination, Huang said Paradigm pressed Bankman-Fried on the board issue and was told he didn't want investors as directors but he did plan on having a board with experts.\"},\n",
       " {'title': 'The jury finally hears from Sam Bankman-Fried',\n",
       "  'author': 'Elizabeth Lopatto',\n",
       "  'url': 'https://www.theverge.com/2023/10/27/23935683/sam-bankman-fried-ftx-fraud-direct-testimony-jury',\n",
       "  'source': 'The Verge',\n",
       "  'category': 'technology',\n",
       "  'published_at': '2023-10-28T00:12:41+00:00',\n",
       "  'fact': 'Because FTX had grown so much, he could no longer run both companies, he said.'},\n",
       " {'title': 'Sam Altman backs teens’ startup, Google unveils the Pixel 8 and TikTok tests an ad-free tier',\n",
       "  'author': 'Kyle Wiggers',\n",
       "  'url': 'https://techcrunch.com/2023/10/07/sam-altman-backs-a-teens-startup-google-unveils-the-pixel-8-and-tiktok-tests-an-ad-free-tier/',\n",
       "  'source': 'TechCrunch',\n",
       "  'category': 'technology',\n",
       "  'published_at': '2023-10-07T20:15:26+00:00',\n",
       "  'fact': 'The prosecution painted Bankman-Fried as someone who knowingly committed fraud to achieve great wealth, power and influence, while the defense countered that the FTX founder acted in good faith, never meant to commit fraud or steal and basically got in over his head.'}]"
      ]
     },
     "execution_count": 74,
     "metadata": {},
     "output_type": "execute_result"
    }
   ],
   "source": [
    "queries_as_df.iloc[2552]['evidence_list']"
   ]
  },
  {
   "cell_type": "code",
   "execution_count": 71,
   "metadata": {},
   "outputs": [],
   "source": [
    "queries_processed_path = os.path.join(project_root, \"data\", \"multihop_queries_processed.pkl\")\n",
    "\n",
    "queries_as_df.to_pickle(queries_processed_path)"
   ]
  }
 ],
 "metadata": {
  "kernelspec": {
   "display_name": "python311_graphsage",
   "language": "python",
   "name": "python3"
  },
  "language_info": {
   "codemirror_mode": {
    "name": "ipython",
    "version": 3
   },
   "file_extension": ".py",
   "mimetype": "text/x-python",
   "name": "python",
   "nbconvert_exporter": "python",
   "pygments_lexer": "ipython3",
   "version": "3.11.6"
  }
 },
 "nbformat": 4,
 "nbformat_minor": 2
}
