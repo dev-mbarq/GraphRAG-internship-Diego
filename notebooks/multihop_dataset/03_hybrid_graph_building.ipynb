{
 "cells": [
  {
   "cell_type": "code",
   "execution_count": 1,
   "metadata": {},
   "outputs": [],
   "source": [
    "import networkx as nx\n",
    "import pandas as pd\n",
    "import pickle\n",
    "import numpy as np"
   ]
  },
  {
   "cell_type": "code",
   "execution_count": 2,
   "metadata": {},
   "outputs": [],
   "source": [
    "# Load base document graph\n",
    "with open('../data/base_document_graph.pkl', 'rb') as f:\n",
    "    G = pickle.load(f)\n",
    "\n",
    "\n",
    "# Load entites' dictionary\n",
    "with open('../data/multihop_dataset_filtered_entities.pkl', 'rb') as f:\n",
    "    entities = pickle.load(f)"
   ]
  },
  {
   "cell_type": "code",
   "execution_count": 3,
   "metadata": {},
   "outputs": [
    {
     "name": "stdout",
     "output_type": "stream",
     "text": [
      "\n",
      "=== GRAPH STATISTICS ===\n",
      "1. Total nodes: 2624\n",
      "2. Total edges: 10427\n",
      "\n",
      "3. Nodes by type:\n",
      "   - category: 6 nodes\n",
      "   - chunk: 1660 nodes\n",
      "   - article: 609 nodes\n",
      "   - author: 300 nodes\n",
      "   - source: 49 nodes\n",
      "\n",
      "4. Edges by relation:\n",
      "   - WRITES_ABOUT: 308 edges\n",
      "   - COVERED_BY_SOURCE: 58 edges\n",
      "   - CONTRIBUTED_BY: 319 edges\n",
      "   - COVERED_BY_AUTHOR: 308 edges\n",
      "   - PUBLISHES: 609 edges\n",
      "   - WRITTEN_BY: 600 edges\n",
      "   - COVERS: 58 edges\n",
      "   - NEXT_CHUNK: 1051 edges\n",
      "   - PREVIOUS_CHUNK: 1051 edges\n",
      "   - CONTRIBUTES_TO: 318 edges\n",
      "   - BELONGS_TO: 1660 edges\n",
      "   - COVERED_IN: 609 edges\n",
      "   - PUBLISHED_IN: 609 edges\n",
      "   - CONTAINS: 1660 edges\n",
      "   - CLASSIFIED_WITHIN: 609 edges\n",
      "   - AUTHORED: 600 edges\n"
     ]
    }
   ],
   "source": [
    "# Get node types and edge relations counts\n",
    "node_types = [G.nodes[node]['type'] for node in G.nodes()]\n",
    "edge_relations = [G.edges[edge]['relation'] for edge in G.edges()]\n",
    "\n",
    "print(\"\\n=== GRAPH STATISTICS ===\")\n",
    "print(f\"1. Total nodes: {G.number_of_nodes()}\")\n",
    "print(f\"2. Total edges: {G.number_of_edges()}\")\n",
    "\n",
    "print(\"\\n3. Nodes by type:\")\n",
    "for node_type in set(node_types):\n",
    "    count = node_types.count(node_type)\n",
    "    print(f\"   - {node_type}: {count} nodes\")\n",
    "\n",
    "print(\"\\n4. Edges by relation:\")\n",
    "for relation in set(edge_relations):\n",
    "    count = edge_relations.count(relation)\n",
    "    print(f\"   - {relation}: {count} edges\")"
   ]
  },
  {
   "cell_type": "code",
   "execution_count": 4,
   "metadata": {},
   "outputs": [],
   "source": [
    "# Iterate through each entity tuple in the entities list\n",
    "for entity_name, entity_type, article_ids in entities:\n",
    "    # Create a new node for the entity with its type attribute\n",
    "    # The node ID will be the entity name\n",
    "    # The type attribute will be formatted as \"entity_{entity_type}\"\n",
    "    entity_node_name = f\"{entity_name}_{entity_type}\"\n",
    "    G.add_node(entity_node_name, type=f\"entity_{entity_type}\")\n",
    "    \n",
    "    # For each article ID where this entity is referenced\n",
    "    for article_id in article_ids:\n",
    "        # Add a directed edge from the entity to the article\n",
    "        # This represents that the entity is referenced in this article\n",
    "        G.add_edge(entity_node_name, article_id, relation=\"REFERENCED_IN\")\n",
    "        \n",
    "        # Add a directed edge from the article to the entity\n",
    "        # This represents that the article references this entity\n",
    "        G.add_edge(article_id, entity_node_name, relation=\"REFERENCES\")"
   ]
  },
  {
   "cell_type": "code",
   "execution_count": 5,
   "metadata": {},
   "outputs": [
    {
     "name": "stdout",
     "output_type": "stream",
     "text": [
      "\n",
      "=== GRAPH STATISTICS ===\n",
      "1. Total nodes: 3367\n",
      "2. Total edges: 15831\n",
      "\n",
      "3. Nodes by type:\n",
      "   - entity_ORG: 314 nodes\n",
      "   - entity_PER: 339 nodes\n",
      "   - category: 6 nodes\n",
      "   - entity_LOC: 90 nodes\n",
      "   - chunk: 1660 nodes\n",
      "   - article: 609 nodes\n",
      "   - author: 300 nodes\n",
      "   - source: 49 nodes\n",
      "\n",
      "4. Edges by relation:\n",
      "   - WRITES_ABOUT: 308 edges\n",
      "   - COVERED_BY_SOURCE: 58 edges\n",
      "   - CONTRIBUTED_BY: 319 edges\n",
      "   - COVERED_BY_AUTHOR: 308 edges\n",
      "   - REFERENCED_IN: 2702 edges\n",
      "   - PUBLISHES: 609 edges\n",
      "   - WRITTEN_BY: 600 edges\n",
      "   - COVERS: 58 edges\n",
      "   - NEXT_CHUNK: 1051 edges\n",
      "   - PREVIOUS_CHUNK: 1051 edges\n",
      "   - CONTRIBUTES_TO: 318 edges\n",
      "   - BELONGS_TO: 1660 edges\n",
      "   - COVERED_IN: 609 edges\n",
      "   - PUBLISHED_IN: 609 edges\n",
      "   - CONTAINS: 1660 edges\n",
      "   - CLASSIFIED_WITHIN: 609 edges\n",
      "   - AUTHORED: 600 edges\n",
      "   - REFERENCES: 2702 edges\n"
     ]
    }
   ],
   "source": [
    "# Get node types and edge relations counts\n",
    "node_types = [G.nodes[node]['type'] for node in G.nodes()]\n",
    "edge_relations = [G.edges[edge]['relation'] for edge in G.edges()]\n",
    "\n",
    "print(\"\\n=== GRAPH STATISTICS ===\")\n",
    "print(f\"1. Total nodes: {G.number_of_nodes()}\")\n",
    "print(f\"2. Total edges: {G.number_of_edges()}\")\n",
    "\n",
    "print(\"\\n3. Nodes by type:\")\n",
    "for node_type in set(node_types):\n",
    "    count = node_types.count(node_type)\n",
    "    print(f\"   - {node_type}: {count} nodes\")\n",
    "\n",
    "print(\"\\n4. Edges by relation:\")\n",
    "for relation in set(edge_relations):\n",
    "    count = edge_relations.count(relation)\n",
    "    print(f\"   - {relation}: {count} edges\")"
   ]
  },
  {
   "cell_type": "code",
   "execution_count": 6,
   "metadata": {},
   "outputs": [
    {
     "name": "stdout",
     "output_type": "stream",
     "text": [
      "Graph saved!\n"
     ]
    }
   ],
   "source": [
    "with open(\"../data/base_hybrid_graph.pkl\", \"wb\") as f:\n",
    "    pickle.dump(G, f)\n",
    "    print(\"Graph saved!\")"
   ]
  },
  {
   "cell_type": "markdown",
   "metadata": {},
   "source": [
    "## Exploring the graph"
   ]
  },
  {
   "cell_type": "code",
   "execution_count": 7,
   "metadata": {},
   "outputs": [],
   "source": [
    "import matplotlib.pyplot as plt"
   ]
  },
  {
   "cell_type": "code",
   "execution_count": 8,
   "metadata": {},
   "outputs": [],
   "source": [
    "def visualize_node_neighbors(G, node_id):\n",
    "    \"\"\"\n",
    "    Visualizes the neighborhood of a given node in a NetworkX graph.\n",
    "\n",
    "    This function extracts a subgraph containing the specified node and all its directly \n",
    "    connected neighbors, then visualizes it using Matplotlib. The selected node is highlighted \n",
    "    in red, while its neighbors are displayed in light blue. If the graph is directed, \n",
    "    arrows indicate edge direction.\n",
    "\n",
    "    Parameters:\n",
    "    -----------\n",
    "    G : networkx.Graph or networkx.DiGraph\n",
    "        The input graph where the node and its neighbors exist.\n",
    "    node_id : str or int\n",
    "        The identifier of the node whose neighborhood is to be visualized.\n",
    "\n",
    "    Returns:\n",
    "    --------\n",
    "    None\n",
    "        Displays a Matplotlib plot of the subgraph.\n",
    "    \"\"\"\n",
    "    if node_id not in G:\n",
    "        print(f\"Node '{node_id}' not found in the graph.\")\n",
    "        return\n",
    "    \n",
    "    # Create a subgraph with the node and its neighbors\n",
    "    neighbors = list(G.neighbors(node_id))  # Get all connected nodes\n",
    "    subgraph_nodes = [node_id] + neighbors  # Include the target node\n",
    "    subgraph = G.subgraph(subgraph_nodes)   # Create subgraph\n",
    "\n",
    "    # Draw the subgraph\n",
    "    plt.figure(figsize=(6, 6))\n",
    "    pos = nx.spring_layout(subgraph, seed=42)  # Layout for better visualization\n",
    "    nx.draw(subgraph, pos, with_labels=True, node_size=800, node_color=\"lightblue\", edge_color=\"gray\", font_size=8)\n",
    "    nx.draw_networkx_edges(subgraph, pos, arrowstyle=\"->\", arrowsize=15)\n",
    "\n",
    "    # Highlight the selected node in red\n",
    "    nx.draw_networkx_nodes(subgraph, pos, nodelist=[node_id], node_color=\"red\", node_size=1000)\n",
    "\n",
    "    plt.title(f\"Neighborhood of Node: {node_id}\")\n",
    "    plt.show()"
   ]
  },
  {
   "cell_type": "code",
   "execution_count": 9,
   "metadata": {},
   "outputs": [
    {
     "name": "stdout",
     "output_type": "stream",
     "text": [
      "Node 'Espinoza' not found in the graph.\n"
     ]
    }
   ],
   "source": [
    "# Example 1: Visualize neighborhood.\n",
    "visualize_node_neighbors(G, \"Espinoza\") "
   ]
  },
  {
   "cell_type": "code",
   "execution_count": 10,
   "metadata": {},
   "outputs": [
    {
     "name": "stdout",
     "output_type": "stream",
     "text": [
      "\n",
      "=== EDGES CONNECTED TO NODE: Engadget ===\n",
      "\n",
      "Outgoing edges:\n",
      "  Engadget -> 50 (relation: PUBLISHES)\n",
      "  Engadget -> 77 (relation: PUBLISHES)\n",
      "  Engadget -> 91 (relation: PUBLISHES)\n",
      "  Engadget -> 99 (relation: PUBLISHES)\n",
      "  Engadget -> 104 (relation: PUBLISHES)\n",
      "  Engadget -> 169 (relation: PUBLISHES)\n",
      "  Engadget -> 222 (relation: PUBLISHES)\n",
      "  Engadget -> 229 (relation: PUBLISHES)\n",
      "  Engadget -> 234 (relation: PUBLISHES)\n",
      "  Engadget -> 250 (relation: PUBLISHES)\n",
      "  Engadget -> 287 (relation: PUBLISHES)\n",
      "  Engadget -> 312 (relation: PUBLISHES)\n",
      "  Engadget -> 313 (relation: PUBLISHES)\n",
      "  Engadget -> 404 (relation: PUBLISHES)\n",
      "  Engadget -> 417 (relation: PUBLISHES)\n",
      "  Engadget -> 505 (relation: PUBLISHES)\n",
      "  Engadget -> 524 (relation: PUBLISHES)\n",
      "  Engadget -> 567 (relation: PUBLISHES)\n",
      "  Engadget -> 595 (relation: PUBLISHES)\n",
      "  Engadget -> Amy Skorheim (relation: CONTRIBUTED_BY)\n",
      "  Engadget -> Andrew Tarantola (relation: CONTRIBUTED_BY)\n",
      "  Engadget -> Engadget team (relation: CONTRIBUTED_BY)\n",
      "  Engadget -> Igor Bonifacic (relation: CONTRIBUTED_BY)\n",
      "  Engadget -> James Trew (relation: CONTRIBUTED_BY)\n",
      "  Engadget -> Jeff Dunn (relation: CONTRIBUTED_BY)\n",
      "  Engadget -> Jeff Dunn,Valentina Palladino,Amy Skorheim (relation: CONTRIBUTED_BY)\n",
      "  Engadget -> Jessica Conditt (relation: CONTRIBUTED_BY)\n",
      "  Engadget -> Jessica Conditt,Aaron Souppouris (relation: CONTRIBUTED_BY)\n",
      "  Engadget -> Katie Malone (relation: CONTRIBUTED_BY)\n",
      "  Engadget -> Kris Holt (relation: CONTRIBUTED_BY)\n",
      "  Engadget -> Sam Rutherford (relation: CONTRIBUTED_BY)\n",
      "  Engadget -> technology (relation: COVERS)\n",
      "\n",
      "Incoming edges:\n",
      "  50 -> Engadget (relation: PUBLISHED_IN)\n",
      "  77 -> Engadget (relation: PUBLISHED_IN)\n",
      "  91 -> Engadget (relation: PUBLISHED_IN)\n",
      "  99 -> Engadget (relation: PUBLISHED_IN)\n",
      "  104 -> Engadget (relation: PUBLISHED_IN)\n",
      "  169 -> Engadget (relation: PUBLISHED_IN)\n",
      "  222 -> Engadget (relation: PUBLISHED_IN)\n",
      "  229 -> Engadget (relation: PUBLISHED_IN)\n",
      "  234 -> Engadget (relation: PUBLISHED_IN)\n",
      "  250 -> Engadget (relation: PUBLISHED_IN)\n",
      "  287 -> Engadget (relation: PUBLISHED_IN)\n",
      "  312 -> Engadget (relation: PUBLISHED_IN)\n",
      "  313 -> Engadget (relation: PUBLISHED_IN)\n",
      "  404 -> Engadget (relation: PUBLISHED_IN)\n",
      "  417 -> Engadget (relation: PUBLISHED_IN)\n",
      "  505 -> Engadget (relation: PUBLISHED_IN)\n",
      "  524 -> Engadget (relation: PUBLISHED_IN)\n",
      "  567 -> Engadget (relation: PUBLISHED_IN)\n",
      "  595 -> Engadget (relation: PUBLISHED_IN)\n",
      "  Amy Skorheim -> Engadget (relation: CONTRIBUTES_TO)\n",
      "  Andrew Tarantola -> Engadget (relation: CONTRIBUTES_TO)\n",
      "  Engadget team -> Engadget (relation: CONTRIBUTES_TO)\n",
      "  Igor Bonifacic -> Engadget (relation: CONTRIBUTES_TO)\n",
      "  James Trew -> Engadget (relation: CONTRIBUTES_TO)\n",
      "  Jeff Dunn -> Engadget (relation: CONTRIBUTES_TO)\n",
      "  Jeff Dunn,Valentina Palladino,Amy Skorheim -> Engadget (relation: CONTRIBUTES_TO)\n",
      "  Jessica Conditt -> Engadget (relation: CONTRIBUTES_TO)\n",
      "  Jessica Conditt,Aaron Souppouris -> Engadget (relation: CONTRIBUTES_TO)\n",
      "  Katie Malone -> Engadget (relation: CONTRIBUTES_TO)\n",
      "  Kris Holt -> Engadget (relation: CONTRIBUTES_TO)\n",
      "  Sam Rutherford -> Engadget (relation: CONTRIBUTES_TO)\n",
      "  technology -> Engadget (relation: COVERED_BY_SOURCE)\n",
      "\n",
      "Summary: 32 outgoing, 32 incoming edges\n"
     ]
    }
   ],
   "source": [
    "# Replace 'node_name' with the actual node you want to inspect\n",
    "node_name = \"Engadget\"\n",
    "\n",
    "print(f\"\\n=== EDGES CONNECTED TO NODE: {node_name} ===\")\n",
    "print(\"\\nOutgoing edges:\")\n",
    "for edge in G.out_edges(node_name):\n",
    "    print(f\"  {node_name} -> {edge[1]} (relation: {G.edges[edge]['relation']})\")\n",
    "\n",
    "print(\"\\nIncoming edges:\")\n",
    "for edge in G.in_edges(node_name):\n",
    "    print(f\"  {edge[0]} -> {node_name} (relation: {G.edges[edge]['relation']})\")\n",
    "\n",
    "# Optional: Print summary counts\n",
    "print(f\"\\nSummary: {len(list(G.out_edges(node_name)))} outgoing, {len(list(G.in_edges(node_name)))} incoming edges\")"
   ]
  }
 ],
 "metadata": {
  "kernelspec": {
   "display_name": "Python 3",
   "language": "python",
   "name": "python3"
  },
  "language_info": {
   "codemirror_mode": {
    "name": "ipython",
    "version": 3
   },
   "file_extension": ".py",
   "mimetype": "text/x-python",
   "name": "python",
   "nbconvert_exporter": "python",
   "pygments_lexer": "ipython3",
   "version": "3.12.9"
  }
 },
 "nbformat": 4,
 "nbformat_minor": 2
}
