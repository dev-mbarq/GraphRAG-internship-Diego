{
 "cells": [
  {
   "cell_type": "markdown",
   "metadata": {},
   "source": [
    "https://www.bentoml.com/blog/a-guide-to-open-source-embedding-models"
   ]
  },
  {
   "cell_type": "code",
   "execution_count": 16,
   "metadata": {},
   "outputs": [],
   "source": [
    "import os\n",
    "import sys\n",
    "import json\n",
    "import pickle\n",
    "import requests\n",
    "\n",
    "import networkx as nx\n",
    "import numpy as np\n",
    "import pandas as pd\n",
    "import requests\n",
    "\n",
    "import pynvml\n",
    "import time\n",
    "import subprocess\n",
    "\n",
    "# Add \"src\" path to Python path\n",
    "sys.path.append(os.path.abspath(\"../src\"))\n",
    "\n",
    "# Import custom embedding function\n",
    "from embedding_utils import get_ollama_embedding\n",
    "\n"
   ]
  },
  {
   "cell_type": "code",
   "execution_count": null,
   "metadata": {},
   "outputs": [],
   "source": [
    "def get_gpu_temperature():\n",
    "    # Run nvidia-smi to query GPU temperature\n",
    "    result = subprocess.run(\n",
    "        [\"nvidia-smi\", \"--query-gpu=temperature.gpu\", \"--format=csv,noheader\"],\n",
    "        stdout=subprocess.PIPE,\n",
    "        text=True\n",
    "    )\n",
    "    # Parse and return temperature of GPU 0\n",
    "    return int(result.stdout.strip().split('\\n')[0])\n",
    "\n",
    "def gpu_temperature_rest_time():\n",
    "    if get_gpu_temperature() >= 80:\n",
    "        return 100\n",
    "    else:\n",
    "        return 0"
   ]
  },
  {
   "cell_type": "code",
   "execution_count": 17,
   "metadata": {},
   "outputs": [],
   "source": [
    "# Load graph\n",
    "with open(\"../data/base_hybrid_graph.pkl\", \"rb\") as f:\n",
    "    G = pickle.load(f)\n",
    "\n",
    "# Load corpus\n",
    "with open(\"../data/Multi-hop_RAG_dataset/corpus.json\", \"r\", encoding=\"utf-8\") as f:\n",
    "    corpus = json.load(f)\n",
    "\n",
    "# Load raw entities (for summary embeddings)\n",
    "with open('../data/multihop_dataset_raw_entities.pkl', 'rb') as f:\n",
    "    raw_entities = pickle.load(f)\n",
    "\n",
    "# Convert corpus data into df\n",
    "corpus_as_df = pd.DataFrame(corpus)"
   ]
  },
  {
   "cell_type": "code",
   "execution_count": 18,
   "metadata": {},
   "outputs": [
    {
     "name": "stdout",
     "output_type": "stream",
     "text": [
      "Error fetching embedding: HTTPConnectionPool(host='localhost', port=11434): Max retries exceeded with url: /api/embeddings (Caused by NewConnectionError('<urllib3.connection.HTTPConnection object at 0x7fbfdef66b10>: Failed to establish a new connection: [Errno 111] Connection refused'))\n",
      "None\n"
     ]
    }
   ],
   "source": [
    "# Test embedding generation\n",
    "embedding = get_ollama_embedding(\"Embedding generation test\", )\n",
    "print(embedding)"
   ]
  },
  {
   "cell_type": "code",
   "execution_count": 19,
   "metadata": {},
   "outputs": [
    {
     "name": "stdout",
     "output_type": "stream",
     "text": [
      "Error fetching embedding: HTTPConnectionPool(host='localhost', port=11434): Max retries exceeded with url: /api/embeddings (Caused by NewConnectionError('<urllib3.connection.HTTPConnection object at 0x7fbfdf134920>: Failed to establish a new connection: [Errno 111] Connection refused'))\n"
     ]
    },
    {
     "ename": "TypeError",
     "evalue": "'NoneType' object is not subscriptable",
     "output_type": "error",
     "traceback": [
      "\u001b[31m---------------------------------------------------------------------------\u001b[39m",
      "\u001b[31mTypeError\u001b[39m                                 Traceback (most recent call last)",
      "\u001b[36mCell\u001b[39m\u001b[36m \u001b[39m\u001b[32mIn[19]\u001b[39m\u001b[32m, line 4\u001b[39m\n\u001b[32m      2\u001b[39m \u001b[38;5;28;01mfor\u001b[39;00m node, data \u001b[38;5;129;01min\u001b[39;00m G.nodes(data=\u001b[38;5;28;01mTrue\u001b[39;00m):\n\u001b[32m      3\u001b[39m     \u001b[38;5;28;01mif\u001b[39;00m data.get(\u001b[33m\"\u001b[39m\u001b[33mtype\u001b[39m\u001b[33m\"\u001b[39m) == \u001b[33m\"\u001b[39m\u001b[33mchunk\u001b[39m\u001b[33m\"\u001b[39m \u001b[38;5;129;01mand\u001b[39;00m \u001b[33m\"\u001b[39m\u001b[33mtext\u001b[39m\u001b[33m\"\u001b[39m \u001b[38;5;129;01min\u001b[39;00m data:\n\u001b[32m----> \u001b[39m\u001b[32m4\u001b[39m         data[\u001b[33m\"\u001b[39m\u001b[33membedding\u001b[39m\u001b[33m\"\u001b[39m] = \u001b[43mget_ollama_embedding\u001b[49m\u001b[43m(\u001b[49m\u001b[43mdata\u001b[49m\u001b[43m[\u001b[49m\u001b[33;43m\"\u001b[39;49m\u001b[33;43mtext\u001b[39;49m\u001b[33;43m\"\u001b[39;49m\u001b[43m]\u001b[49m\u001b[43m)\u001b[49m\u001b[43m[\u001b[49m\u001b[33;43m\"\u001b[39;49m\u001b[33;43membedding\u001b[39;49m\u001b[33;43m\"\u001b[39;49m\u001b[43m]\u001b[49m\n",
      "\u001b[31mTypeError\u001b[39m: 'NoneType' object is not subscriptable"
     ]
    }
   ],
   "source": [
    "# Generate and assign embeddings for each chunk in the graph (Expected execution time ~ 6-7min)\n",
    "for node, data in G.nodes(data=True):\n",
    "    if data.get(\"type\") == \"chunk\" and \"text\" in data:\n",
    "        data[\"embedding\"] = get_ollama_embedding(data[\"text\"])[\"embedding\"]"
   ]
  },
  {
   "cell_type": "code",
   "execution_count": 5,
   "metadata": {},
   "outputs": [
    {
     "data": {
      "text/plain": [
       "'Amazon is holding an 11-day shopping event, beginning November 17th and continuing through Cyber Monday, November 27th, with both Black Friday and Cyber Monday deals available. The article highlights deals across various categories including Amazon devices (Echo, Fire TV, Kindle), Apple products, TVs, laptops, headphones, tablets, gaming, speakers, vacuums, kitchen appliances, smart home devices, fitness tech, beauty tech, drones, cameras, Lego, and gift cards. \\n\\nSpecific deals mentioned include the Echo Show for under $40, the 10th generation 64GB iPad for $349, a 65-inch Fire TV at a record low price, the Microsoft Surface Laptop Go 3 for $599.99, Bose QuietComfort 45 headphones for under $200, and the Meta Quest 2 with a $50 credit. Many deals are marked as all-time lows (🔥) or exclusive to Prime members (📨). The article will be updated continuously as new deals become available.'"
      ]
     },
     "execution_count": 5,
     "metadata": {},
     "output_type": "execute_result"
    }
   ],
   "source": [
    "# Generate and assign embeddings for each article in the graph based on the summary \n",
    "for node, data in G.nodes(data=True):\n",
    "    if data.get(\"type\") == \"article\":\n",
    "        data[\"embedding\"] = get_ollama_embedding(raw_entities[node][\"summary\"])[\"embedding\"]"
   ]
  },
  {
   "cell_type": "code",
   "execution_count": 5,
   "metadata": {},
   "outputs": [],
   "source": [
    "#with open(\"../data/graph_w_embeddings.pkl\", \"rb\") as f:\n",
    "#    G = pickle.load(f)"
   ]
  },
  {
   "cell_type": "markdown",
   "metadata": {},
   "source": [
    "For this first \"test version\" of the graph, the base semantic node embedding in the graph will be computed in the following manner:\n",
    "\n",
    "- __*Chunk embeddings*__: Embedding of the chunk itself\n",
    "- __*Article embeddings*__: Average of the article summary embedding and the avergae of all chunk embeddings within the article\n",
    "- __*Author embeddings*__: Average of all article embeddings of articles written by the author\n",
    "- __*Category embeddings*__: Average of all article embeddings comprised within the category\n",
    "- __*Source embedding*__: Average of all article embeddings published by the source\n",
    "- __*Entity_LOC embedding*__: \n",
    "- __*Entity_PER embedding*__: \n",
    "- __*Entity_ORG embedding*__: "
   ]
  },
  {
   "cell_type": "markdown",
   "metadata": {},
   "source": [
    "### Entity embeddings [WIP] -----------------------------------"
   ]
  },
  {
   "cell_type": "code",
   "execution_count": 13,
   "metadata": {},
   "outputs": [
    {
     "name": "stdout",
     "output_type": "stream",
     "text": [
      "Argentina hosts Paraguay in a CONMEBOL 2026 World Cup qualifying match on October 12th at Estadio Monumental. Lionel Messi is on the roster and expected to play in the second half despite recent fitness concerns. Argentina’s starting lineup features E. Martinez, Molina, Romero, Otamendi, Tagliafico, De Paul, Mac Allister, E. Fernandez, J. Alvarez, L. Martinez, and N. Gonzalez.\n",
      "\n",
      "Paraguay, under new head coach Daniel Garnero, has made five changes to their starting lineup following a loss to Venezuela. Their lineup includes C. Coronel, I. Ramirez, G. Gomez, Balbuena, Alonso, Espinoza, R Sanchez, Campuzano, Almiron, Bareiro, and Sosa. Miguel Almiron is Paraguay’s main goal threat.\n",
      "\n",
      "The match will be broadcast on Universo in the USA, with streaming on Fubo. It is not currently available in the UK, Australia, or Canada, but is available for free on FIFA+ in select territories. Kick-off is at 7 p.m. ET in the USA/Canada and 12 a.m. BST in the UK.\n"
     ]
    }
   ],
   "source": [
    "print(raw_entities[105][\"summary\"])"
   ]
  },
  {
   "cell_type": "code",
   "execution_count": null,
   "metadata": {},
   "outputs": [
    {
     "data": {
      "text/plain": [
       "[['Amazon', 'ORG'],\n",
       " ['Apple', 'ORG'],\n",
       " ['Bendigo', 'ORG'],\n",
       " ['Adelaide Bank', 'ORG'],\n",
       " ['Wall Street', 'LOC'],\n",
       " ['Dow Jones', 'ORG'],\n",
       " ['US', 'ORG'],\n",
       " ['UAW', 'ORG'],\n",
       " ['France', 'LOC'],\n",
       " ['Germany', 'LOC'],\n",
       " ['Qantas', 'ORG'],\n",
       " ['Senate', 'ORG'],\n",
       " ['Federal Trade Commission', 'ORG'],\n",
       " ['F', 'ORG'],\n",
       " ['FTC', 'ORG'],\n",
       " ['NFL', 'ORG'],\n",
       " ['Raiders', 'ORG'],\n",
       " ['Chiefs', 'ORG'],\n",
       " ['Giants', 'ORG'],\n",
       " ['Eagles', 'ORG'],\n",
       " ['Ravens', 'ORG'],\n",
       " ['49ers', 'ORG'],\n",
       " ['Patrick Mahomes', 'PER'],\n",
       " ['Maxx Crosby', 'PER'],\n",
       " ['Travis Kelce', 'PER'],\n",
       " ['Taylor Swift', 'PER'],\n",
       " ['Philadelphia', 'ORG'],\n",
       " ['Brock Purdy', 'PER'],\n",
       " ['Lamar Jackson', 'PER'],\n",
       " ['Christian McCaffrey', 'PER'],\n",
       " ['Josh Jacobs', 'PER'],\n",
       " ['Lions', 'ORG'],\n",
       " [\"Aidan O ' Connell\", 'PER'],\n",
       " ['Sam LaPorta', 'PER'],\n",
       " ['Jahmyr Gibbs', 'PER'],\n",
       " ['Gibbs', 'PER'],\n",
       " ['Houston Astros', 'ORG'],\n",
       " ['MLB', 'ORG'],\n",
       " ['Astros', 'ORG'],\n",
       " ['Dodgers', 'ORG'],\n",
       " ['Arizona Diamondbacks', 'ORG'],\n",
       " ['Chase Field', 'LOC'],\n",
       " ['Phillies', 'ORG'],\n",
       " ['Bryce Harper', 'PER'],\n",
       " ['Los Angeles Dodgers', 'ORG'],\n",
       " ['A', 'ORG'],\n",
       " ['Sam Bankman - Fried', 'PER'],\n",
       " ['SBF', 'ORG'],\n",
       " ['FTX', 'ORG'],\n",
       " ['Alameda Research', 'ORG'],\n",
       " ['Caroline Ellison', 'PER'],\n",
       " ['Gary Wang', 'PER'],\n",
       " ['Alameda', 'ORG'],\n",
       " ['Sam Bankman', 'PER'],\n",
       " ['Fried', 'PER'],\n",
       " ['FTT', 'ORG'],\n",
       " ['Binance', 'ORG'],\n",
       " ['U. S.', 'LOC'],\n",
       " ['BlockFi', 'ORG'],\n",
       " ['Sam Altman', 'PER'],\n",
       " ['Google', 'ORG'],\n",
       " ['Flexport', 'ORG'],\n",
       " ['Dave Clark', 'PER'],\n",
       " ['Michael Lewis', 'PER'],\n",
       " ['Donald Trump', 'PER'],\n",
       " ['TikTok', 'ORG'],\n",
       " ['Manchester United', 'ORG'],\n",
       " ['Galatasaray', 'ORG'],\n",
       " ['United', 'ORG'],\n",
       " ['Bayern Munich', 'ORG'],\n",
       " ['FC Copenhagen', 'ORG'],\n",
       " ['Bruno Fernandes', 'PER'],\n",
       " ['Erik ten Hag', 'PER'],\n",
       " ['Alejandro Garnacho', 'PER'],\n",
       " ['US', 'LOC'],\n",
       " ['Department of Justice', 'ORG'],\n",
       " ['Mozilla', 'ORG'],\n",
       " ['Jada Pinkett Smith', 'PER'],\n",
       " ['Will Smith', 'PER'],\n",
       " ['Jada', 'PER'],\n",
       " ['Will', 'PER'],\n",
       " ['Kansas City Chiefs', 'ORG'],\n",
       " ['Swift', 'PER'],\n",
       " ['Kelce', 'PER'],\n",
       " ['South Africa', 'LOC'],\n",
       " ['New Zealand', 'LOC'],\n",
       " ['Springboks', 'ORG'],\n",
       " ['All Blacks', 'ORG'],\n",
       " ['Argentina', 'LOC'],\n",
       " ['Ireland', 'LOC'],\n",
       " ['Ian Foster', 'PER'],\n",
       " ['European Union', 'ORG'],\n",
       " ['X', 'ORG'],\n",
       " ['EU Commission', 'ORG'],\n",
       " ['EU', 'ORG'],\n",
       " ['Meta', 'ORG'],\n",
       " ['Elon Musk', 'PER'],\n",
       " ['Musk', 'PER'],\n",
       " ['Iran', 'LOC'],\n",
       " ['DeepMind', 'ORG'],\n",
       " ['Greg Brockman', 'PER'],\n",
       " ['OpenAI', 'ORG'],\n",
       " ['Microsoft', 'ORG'],\n",
       " ['Treasury', 'ORG'],\n",
       " ['S & P', 'ORG'],\n",
       " ['Nasdaq', 'ORG'],\n",
       " ['China', 'LOC'],\n",
       " ['Federal Reserve', 'ORG'],\n",
       " ['Bitcoin', 'ORG'],\n",
       " ['Kevin McCarthy', 'PER'],\n",
       " ['Trump', 'PER'],\n",
       " ['Biden', 'PER'],\n",
       " ['Bankman - Fried', 'PER'],\n",
       " ['Marc - Antoine Julliard', 'PER'],\n",
       " ['Adam Yedidia', 'PER'],\n",
       " ['Matt Huang', 'PER'],\n",
       " ['Alphabet', 'ORG'],\n",
       " ['Epic Games', 'ORG'],\n",
       " ['Packers', 'ORG'],\n",
       " ['Jordan Love', 'PER'],\n",
       " ['A. J. Dillon', 'PER'],\n",
       " ['Christian Watson', 'PER'],\n",
       " ['Romeo Doubs', 'PER'],\n",
       " ['Rashee Rice', 'PER'],\n",
       " ['Luke Musgrave', 'PER'],\n",
       " ['NBC', 'ORG'],\n",
       " ['Jaguars', 'ORG'],\n",
       " ['Saints', 'ORG'],\n",
       " ['Trevor Lawrence', 'PER'],\n",
       " ['Ja', 'PER'],\n",
       " ['Smith', 'PER'],\n",
       " ['Vikings', 'ORG'],\n",
       " ['Broncos', 'ORG'],\n",
       " ['Joshua Dobbs', 'PER'],\n",
       " ['Do', 'PER'],\n",
       " ['AI', 'ORG'],\n",
       " ['Miami Dolphins', 'ORG'],\n",
       " ['Baltimore Ravens', 'ORG'],\n",
       " ['Pittsburgh Steelers', 'ORG'],\n",
       " ['Indianapolis Colts', 'ORG'],\n",
       " ['Cleveland Browns', 'ORG'],\n",
       " ['Denver Broncos', 'ORG'],\n",
       " ['Buffalo Bills', 'ORG'],\n",
       " ['Cincinnati Bengals', 'ORG'],\n",
       " ['Los Angeles Chargers', 'ORG'],\n",
       " ['Las Vegas Raiders', 'ORG'],\n",
       " ['New York Jets', 'ORG'],\n",
       " ['Tennessee Titans', 'ORG'],\n",
       " ['Philadelphia Eagles', 'ORG'],\n",
       " ['San Francisco 49ers', 'ORG'],\n",
       " ['Detroit Lions', 'ORG'],\n",
       " ['Atlanta Falcons', 'ORG'],\n",
       " ['Dallas Cowboys', 'ORG'],\n",
       " ['Minnesota Vikings', 'ORG'],\n",
       " ['Green Bay Packers', 'ORG'],\n",
       " ['Los Angeles Rams', 'ORG'],\n",
       " ['Seattle Seahawks', 'ORG'],\n",
       " ['Tampa Bay Buccaneers', 'ORG'],\n",
       " ['New Orleans Saints', 'ORG'],\n",
       " ['New York Giants', 'ORG'],\n",
       " ['Chicago Bears', 'ORG'],\n",
       " ['Washington Commanders', 'ORG'],\n",
       " ['Inter Miami', 'ORG'],\n",
       " ['Apple TV', 'ORG'],\n",
       " ['Team', 'ORG'],\n",
       " ['Torres', 'PER'],\n",
       " ['Yedlin', 'PER'],\n",
       " ['Kryvtsov', 'PER'],\n",
       " ['Miller', 'PER'],\n",
       " ['Allen', 'PER'],\n",
       " ['Arroyo', 'PER'],\n",
       " ['Busquets', 'PER'],\n",
       " ['Cremaschi', 'PER'],\n",
       " ['Farias', 'PER'],\n",
       " ['Martinez', 'PER'],\n",
       " ['Taylor', 'PER'],\n",
       " ['Dos Santos', 'PER'],\n",
       " ['Sailor', 'PER'],\n",
       " ['Ulloa', 'PER'],\n",
       " ['Stefanelli', 'PER'],\n",
       " ['Jordi Alba', 'PER'],\n",
       " ['Leonardo Campana', 'PER'],\n",
       " ['Lionel Messi', 'PER'],\n",
       " ['G', 'PER'],\n",
       " ['Epic', 'ORG'],\n",
       " ['Samsung', 'ORG'],\n",
       " ['Activision Blizzard', 'ORG'],\n",
       " ['Reddit', 'ORG'],\n",
       " ['Mas', 'ORG'],\n",
       " ['India', 'LOC'],\n",
       " ['Time', 'ORG'],\n",
       " ['Salesforce', 'ORG'],\n",
       " ['Coinbase', 'ORG'],\n",
       " ['Clearco', 'ORG'],\n",
       " ['Sony', 'ORG'],\n",
       " ['Ubisoft', 'ORG'],\n",
       " ['Britney Spears', 'PER'],\n",
       " ['Spears', 'PER'],\n",
       " ['Sam Asghari', 'PER'],\n",
       " ['Bankman', 'PER'],\n",
       " ['Singh', 'PER'],\n",
       " ['Wang', 'PER'],\n",
       " ['Ellison', 'PER'],\n",
       " ['Altman', 'PER'],\n",
       " ['Anthropic', 'ORG'],\n",
       " ['Daily', 'ORG'],\n",
       " ['Sports', 'ORG'],\n",
       " ['Rams', 'ORG'],\n",
       " ['Matthew Stafford', 'PER'],\n",
       " ['Puka Nacua', 'PER'],\n",
       " ['Rachaad White', 'PER'],\n",
       " ['Buccaneers', 'ORG'],\n",
       " ['Bijan Robinson', 'PER'],\n",
       " ['Falcons', 'ORG'],\n",
       " ['Derrick Henry', 'PER'],\n",
       " ['Titans', 'ORG'],\n",
       " ['Deebo Samuel', 'PER'],\n",
       " ['Jayden Reed', 'PER'],\n",
       " ['Jets', 'ORG'],\n",
       " ['Jalen Hurts', 'PER'],\n",
       " ['Isiah Pacheco', 'PER'],\n",
       " [\"D ' Andre Swift\", 'PER'],\n",
       " ['Travis Etienne', 'PER'],\n",
       " ['A. J. Brown', 'PER'],\n",
       " ['Bears', 'ORG'],\n",
       " ['Justin Fields', 'PER'],\n",
       " ['Sam Howell', 'PER'],\n",
       " ['Dak Prescott', 'PER'],\n",
       " ['Joe Burrow', 'PER'],\n",
       " ['Terry McLaurin', 'PER'],\n",
       " ['Drake London', 'PER'],\n",
       " ['Jahan Dotson', 'PER'],\n",
       " ['Howell', 'PER'],\n",
       " ['Fields', 'PER'],\n",
       " ['Goff', 'PER'],\n",
       " ['Jared Goff', 'PER'],\n",
       " ['Cowboys', 'ORG'],\n",
       " ['Travis', 'PER'],\n",
       " ['Jason Kelce', 'PER'],\n",
       " ['Al Michaels', 'PER'],\n",
       " ['Las Vegas', 'LOC'],\n",
       " ['Tiger Woods', 'PER'],\n",
       " ['Rory McIlroy', 'PER'],\n",
       " ['West Indies', 'LOC'],\n",
       " ['England', 'LOC'],\n",
       " ['Andre Russell', 'PER'],\n",
       " ['Brandon King', 'PER'],\n",
       " ['Livingstone', 'PER'],\n",
       " ['Russell', 'PER'],\n",
       " ['Rashid', 'PER'],\n",
       " ['King', 'PER'],\n",
       " ['West', 'LOC'],\n",
       " ['Indies', 'ORG'],\n",
       " ['Adil Rashid', 'PER'],\n",
       " ['Shai Hope', 'PER'],\n",
       " ['Novo Nordisk', 'ORG'],\n",
       " ['Kentucky', 'LOC'],\n",
       " ['Group', 'ORG'],\n",
       " ['Northern Star', 'ORG'],\n",
       " ['S & P 500', 'ORG'],\n",
       " ['Gaza', 'LOC'],\n",
       " ['NBC News', 'ORG'],\n",
       " ['Israel', 'LOC'],\n",
       " ['Michigan', 'ORG'],\n",
       " ['Sherrone Moore', 'PER'],\n",
       " ['Moore', 'PER'],\n",
       " ['Harbaugh', 'PER'],\n",
       " ['Blake Corum', 'PER'],\n",
       " ['Jim Harbaugh', 'PER'],\n",
       " ['NCAA', 'ORG'],\n",
       " ['Big Ten', 'ORG'],\n",
       " ['SEC', 'ORG'],\n",
       " ['Ohio State', 'ORG'],\n",
       " ['Browns', 'ORG'],\n",
       " ['Cleveland', 'ORG'],\n",
       " ['Chicago', 'ORG'],\n",
       " ['Matt Eberflus', 'PER'],\n",
       " ['DC', 'ORG'],\n",
       " ['Marvel', 'ORG'],\n",
       " ['Peter Parker', 'PER'],\n",
       " ['Miles Morales', 'PER'],\n",
       " ['Bank', 'ORG'],\n",
       " ['Fr', 'PER'],\n",
       " ['Alameda', 'LOC'],\n",
       " ['Africa', 'LOC'],\n",
       " ['Ghana', 'LOC'],\n",
       " ['UK', 'LOC'],\n",
       " ['New York', 'LOC'],\n",
       " ['UN', 'ORG'],\n",
       " ['Robinhood', 'ORG'],\n",
       " ['US Treasury', 'ORG'],\n",
       " ['US Federal Reserve', 'ORG'],\n",
       " ['Nike', 'ORG'],\n",
       " ['Woolworths', 'ORG'],\n",
       " ['Robinson', 'PER'],\n",
       " ['Messi', 'PER'],\n",
       " ['Ha', 'PER'],\n",
       " ['Vazquez', 'PER'],\n",
       " ['Jim Ratcliffe', 'PER'],\n",
       " ['Ratcliffe', 'PER'],\n",
       " ['Casemiro', 'PER'],\n",
       " ['Old Trafford', 'LOC'],\n",
       " ['Glazer', 'ORG'],\n",
       " ['Glazers', 'ORG'],\n",
       " ['Buy', 'ORG'],\n",
       " ['Everton', 'ORG'],\n",
       " ['Premier League', 'ORG'],\n",
       " ['Bayern', 'ORG'],\n",
       " ['Joshua Kimmich', 'PER'],\n",
       " ['RB Leipzig', 'ORG'],\n",
       " ['Borussia Dortmund', 'ORG'],\n",
       " ['Real Madrid', 'ORG'],\n",
       " ['Milan', 'ORG'],\n",
       " ['Paris Saint - Germain', 'ORG'],\n",
       " ['Martin Scorsese', 'PER'],\n",
       " ['Supreme Court', 'ORG'],\n",
       " ['U. K.', 'LOC'],\n",
       " ['Port Vale', 'ORG'],\n",
       " ['Ipswich Town', 'ORG'],\n",
       " ['USA', 'LOC'],\n",
       " ['Canada', 'LOC'],\n",
       " ['DAZN', 'ORG'],\n",
       " ['Australia', 'LOC'],\n",
       " ['football', 'ORG'],\n",
       " ['One', 'ORG'],\n",
       " ['Chelsea', 'ORG'],\n",
       " ['Newcastle', 'ORG'],\n",
       " ['Raheem Sterling', 'PER'],\n",
       " ['Cole Palmer', 'PER'],\n",
       " ['Reece James', 'PER'],\n",
       " ['Mauricio Pochettino', 'PER'],\n",
       " ['Fulham', 'ORG'],\n",
       " ['Liverpool', 'ORG'],\n",
       " ['West Ham', 'ORG'],\n",
       " ['Connor Bedard', 'PER'],\n",
       " ['NHL', 'ORG'],\n",
       " ['Blackhawks', 'ORG'],\n",
       " ['LeBron James', 'PER'],\n",
       " ['USC', 'ORG'],\n",
       " ['Arizona', 'ORG'],\n",
       " ['Pac - 12', 'ORG'],\n",
       " ['UCLA', 'ORG'],\n",
       " ['Target', 'ORG'],\n",
       " ['Best Buy', 'ORG'],\n",
       " ['Paraguay', 'LOC'],\n",
       " ['E. Martinez', 'PER'],\n",
       " ['Molina', 'PER'],\n",
       " ['Romero', 'PER'],\n",
       " ['De Paul', 'PER'],\n",
       " ['Mac Allister', 'PER'],\n",
       " ['E. Fernandez', 'PER'],\n",
       " ['J. Alvarez', 'PER'],\n",
       " ['L. Martinez', 'PER'],\n",
       " ['N. Gonzalez', 'PER'],\n",
       " ['Daniel Garnero', 'PER'],\n",
       " ['C. Coronel', 'PER'],\n",
       " ['I. Ramirez', 'PER'],\n",
       " ['G. Gomez', 'PER'],\n",
       " ['Balbuena', 'PER'],\n",
       " ['Alonso', 'PER'],\n",
       " ['Espinoza', 'PER'],\n",
       " ['R Sanchez', 'PER'],\n",
       " ['Campuzano', 'PER'],\n",
       " ['Almiron', 'PER'],\n",
       " ['Bareiro', 'PER'],\n",
       " ['Sosa', 'PER'],\n",
       " ['Miguel Almiron', 'PER'],\n",
       " ['Fubo', 'ORG'],\n",
       " ['Palestine', 'LOC'],\n",
       " ['Norway', 'LOC'],\n",
       " ['ED', 'ORG'],\n",
       " ['James', 'PER'],\n",
       " ['Aston Villa', 'ORG'],\n",
       " ['Pochettino', 'PER'],\n",
       " ['Mikel Arteta', 'PER'],\n",
       " ['Arteta', 'PER'],\n",
       " ['Arsenal', 'ORG'],\n",
       " ['Stamford Bridge', 'LOC'],\n",
       " ['Axel Disasi', 'PER'],\n",
       " ['Nicolas Jackson', 'PER'],\n",
       " ['Bukayo Saka', 'PER'],\n",
       " ['William Saliba', 'PER'],\n",
       " ['Hamas', 'ORG'],\n",
       " ['C. J. Stroud', 'PER'],\n",
       " ['Aaron Jones', 'PER'],\n",
       " [\"De ' Von Achane\", 'PER'],\n",
       " ['Kenneth Walker III', 'PER'],\n",
       " [\"D ' Onta Foreman\", 'PER'],\n",
       " ['Tyreek Hill', 'PER'],\n",
       " ['Cooper Kupp', 'PER'],\n",
       " ['Jones', 'PER'],\n",
       " ['CeeDee Lamb', 'PER'],\n",
       " ['Amon - Ra St. Brown', 'PER'],\n",
       " ['Keenan Allen', 'PER'],\n",
       " ['Mike Evans', 'PER'],\n",
       " ['Michael Pittman Jr.', 'PER'],\n",
       " [\"Ja ' Marr Chase\", 'PER'],\n",
       " ['Jaylen Waddle', 'PER'],\n",
       " ['Brandon Aiyuk', 'PER'],\n",
       " ['Garrett Wilson', 'PER'],\n",
       " ['DeVonta Smith', 'PER'],\n",
       " ['DK Metcalf', 'PER'],\n",
       " ['Ford', 'ORG'],\n",
       " ['WeWork', 'ORG'],\n",
       " ['Mets', 'ORG'],\n",
       " ['NFC', 'ORG'],\n",
       " ['Bills', 'ORG'],\n",
       " ['Russell Wilson', 'PER'],\n",
       " ['Baker Mayfield', 'PER'],\n",
       " ['Arizona Cardinals', 'ORG'],\n",
       " ['Kyler Murray', 'PER'],\n",
       " ['Aaron Rodgers', 'PER'],\n",
       " ['Zach Wilson', 'PER'],\n",
       " ['New England Patriots', 'ORG'],\n",
       " ['Chargers', 'ORG'],\n",
       " ['Colts', 'ORG'],\n",
       " ['Shohei Ohtani', 'PER'],\n",
       " ['Ohtani', 'PER'],\n",
       " ['Rangers', 'ORG'],\n",
       " ['Red Sox', 'ORG'],\n",
       " ['Cubs', 'ORG'],\n",
       " ['Blue Jays', 'ORG'],\n",
       " ['Angels', 'ORG'],\n",
       " ['Yankees', 'ORG'],\n",
       " ['Braves', 'ORG'],\n",
       " ['Associated Press', 'ORG'],\n",
       " ['Ukraine', 'LOC'],\n",
       " ['Tel Aviv', 'LOC'],\n",
       " ['Scott McTominay', 'PER'],\n",
       " ['Garnacho', 'PER'],\n",
       " ['McTominay', 'PER'],\n",
       " ['Colwill', 'PER'],\n",
       " ['Palmer', 'PER'],\n",
       " ['Massachusetts', 'LOC'],\n",
       " ['Sri Lanka', 'LOC'],\n",
       " ['Egypt', 'LOC'],\n",
       " ['United States', 'LOC'],\n",
       " ['S', 'PER'],\n",
       " ['Saudi Arabia', 'LOC'],\n",
       " ['Anthony Joshua', 'PER'],\n",
       " ['Otto Wallin', 'PER'],\n",
       " ['Deontay Wilder', 'PER'],\n",
       " ['Joseph Parker', 'PER'],\n",
       " ['Joshua', 'PER'],\n",
       " ['European Court of Justice', 'ORG'],\n",
       " ['Commission', 'ORG'],\n",
       " ['Manchester City', 'ORG'],\n",
       " ['City', 'ORG'],\n",
       " ['Erling Haaland', 'PER'],\n",
       " ['Brentford', 'ORG'],\n",
       " ['Sheffield United', 'ORG'],\n",
       " ['Brighton', 'ORG'],\n",
       " ['Nottingham Forest', 'ORG'],\n",
       " ['Dolphins', 'ORG'],\n",
       " ['Pennsylvania', 'LOC'],\n",
       " ['Mike Tirico', 'PER'],\n",
       " ['Cris Collinsworth', 'PER'],\n",
       " ['Melissa Stark', 'PER'],\n",
       " ['Peacock', 'ORG'],\n",
       " ['NBCSports. com', 'ORG'],\n",
       " ['T. J. Hockenson', 'PER'],\n",
       " ['Justin Jefferson', 'PER'],\n",
       " ['Texans', 'ORG'],\n",
       " ['Hill', 'PER'],\n",
       " ['Myles Garrett', 'PER'],\n",
       " ['T. J. Watt', 'PER'],\n",
       " ['Curtis Samuel', 'PER'],\n",
       " ['Adam Grant', 'PER'],\n",
       " ['Wilson', 'PER'],\n",
       " ['Darren Waller', 'PER'],\n",
       " ['Buffalo', 'ORG'],\n",
       " ['Evan Engram', 'PER'],\n",
       " ['Steelers', 'ORG'],\n",
       " ['Cardinals', 'ORG'],\n",
       " ['Pittsburgh', 'LOC'],\n",
       " ['Joe Flacco', 'PER'],\n",
       " ['Carolina Panthers', 'ORG'],\n",
       " ['AFC', 'ORG'],\n",
       " ['Belgium', 'LOC'],\n",
       " ['Netherlands', 'LOC'],\n",
       " ['Scotland', 'LOC'],\n",
       " ['Darwin Núñez', 'PER'],\n",
       " ['Mohamed Salah', 'PER'],\n",
       " ['Bill Kenwright', 'PER'],\n",
       " ['Anfield', 'LOC'],\n",
       " ['European Commission', 'ORG'],\n",
       " ['Amazon Prime Video', 'ORG'],\n",
       " ['Netflix', 'ORG'],\n",
       " ['Disney', 'ORG'],\n",
       " ['Washington', 'ORG'],\n",
       " ['Texas', 'ORG'],\n",
       " ['Alabama', 'ORG'],\n",
       " ['Florida State', 'ORG'],\n",
       " ['Jamaica', 'LOC'],\n",
       " ['Reid', 'PER'],\n",
       " ['Hong Kong', 'LOC'],\n",
       " ['California', 'LOC'],\n",
       " ['Italy', 'LOC'],\n",
       " ['Sheikh Jassim', 'PER'],\n",
       " ['Mitchell', 'PER'],\n",
       " ['Tottenham', 'ORG'],\n",
       " ['Leipzig', 'ORG'],\n",
       " ['Heung - Min Son', 'PER'],\n",
       " ['Eddie Jones', 'PER'],\n",
       " ['Fiji', 'LOC'],\n",
       " ['Portugal', 'LOC'],\n",
       " ['Valve', 'ORG'],\n",
       " ['Tim Sweeney', 'PER'],\n",
       " ['Europe', 'LOC'],\n",
       " ['Beyoncé', 'PER'],\n",
       " ['Georgia', 'LOC'],\n",
       " ['Bangladesh', 'LOC'],\n",
       " ['Qatar', 'LOC'],\n",
       " ['Asia', 'LOC'],\n",
       " ['Melbourne', 'LOC'],\n",
       " ['New York City', 'LOC'],\n",
       " ['Purdue', 'ORG'],\n",
       " ['Japan', 'LOC'],\n",
       " ['Silicon Valley', 'LOC'],\n",
       " ['NFC North', 'ORG'],\n",
       " ['Love', 'PER'],\n",
       " ['Lauren James', 'PER'],\n",
       " ['Jess Carter', 'PER'],\n",
       " ['NASCAR', 'ORG'],\n",
       " ['Lazio', 'ORG'],\n",
       " ['Barcelona', 'ORG'],\n",
       " ['PSG', 'ORG'],\n",
       " ['Copenhagen', 'ORG'],\n",
       " ['Switzerland', 'LOC'],\n",
       " ['North America', 'LOC'],\n",
       " ['Scorsese', 'PER'],\n",
       " ['Canelo Alvarez', 'PER'],\n",
       " ['Floyd Mayweather', 'PER'],\n",
       " ['Canelo', 'PER'],\n",
       " ['Philippines', 'LOC'],\n",
       " ['Stefon Diggs', 'PER'],\n",
       " ['Davante Adams', 'PER'],\n",
       " ['DJ Moore', 'PER'],\n",
       " ['Austin Ekeler', 'PER'],\n",
       " ['David Montgomery', 'PER'],\n",
       " ['Raheem Mostert', 'PER'],\n",
       " ['Breece Hall', 'PER'],\n",
       " ['Alvin Kamara', 'PER'],\n",
       " ['Saquon Barkley', 'PER'],\n",
       " ['Tyjae Spears', 'PER'],\n",
       " ['Zack Moss', 'PER'],\n",
       " ['Roschon Johnson', 'PER'],\n",
       " ['Br', 'PER'],\n",
       " ['NBA', 'ORG'],\n",
       " ['MLS', 'ORG'],\n",
       " ['Seahawks', 'ORG'],\n",
       " ['Bet', 'ORG'],\n",
       " ['European', 'ORG'],\n",
       " ['Alex Ferguson', 'PER'],\n",
       " ['AFLW', 'ORG'],\n",
       " ['Brisbane Lions', 'ORG'],\n",
       " ['Adelaide', 'ORG'],\n",
       " ['Gold Coast', 'ORG'],\n",
       " ['AFL', 'ORG'],\n",
       " ['Brisbane', 'ORG'],\n",
       " ['Collingwood', 'ORG'],\n",
       " ['RA', 'ORG'],\n",
       " ['Taiwan', 'LOC'],\n",
       " ['Raphael Varane', 'PER'],\n",
       " ['Ten Hag', 'PER'],\n",
       " ['McRae', 'PER'],\n",
       " ['Jim Jordan', 'PER'],\n",
       " ['House', 'ORG'],\n",
       " ['Jordan', 'PER'],\n",
       " ['Patrick McHenry', 'PER'],\n",
       " ['Colorado', 'ORG'],\n",
       " ['Pasadena', 'LOC'],\n",
       " ['Bankman', 'ORG'],\n",
       " ['Williams', 'PER'],\n",
       " ['P', 'ORG'],\n",
       " ['Julian Nagelsmann', 'PER'],\n",
       " ['Gregg Berhalter', 'PER'],\n",
       " ['Gio Reyna', 'PER'],\n",
       " ['Berhalter', 'PER'],\n",
       " ['Tyler Adams', 'PER'],\n",
       " ['Antonee Robinson', 'PER'],\n",
       " ['Reyna', 'PER'],\n",
       " ['Maine', 'LOC'],\n",
       " ['Sundar Pichai', 'PER'],\n",
       " ['Justice Department', 'ORG'],\n",
       " ['NBL', 'ORG'],\n",
       " ['Sydney Kings', 'ORG'],\n",
       " ['Kings', 'ORG'],\n",
       " ['Adelaide 36ers', 'ORG'],\n",
       " ['Dejan Vasiljevic', 'PER'],\n",
       " ['Cairns Taipans', 'ORG'],\n",
       " ['Brisbane Bullets', 'ORG'],\n",
       " ['WBC', 'ORG'],\n",
       " ['Frank Sanchez', 'PER'],\n",
       " ['Virat Kohli', 'PER'],\n",
       " ['Adams', 'PER'],\n",
       " ['U', 'LOC'],\n",
       " ['Christian Pulisic', 'PER'],\n",
       " ['Hollywood', 'LOC'],\n",
       " ['Kevin Federline', 'PER'],\n",
       " ['Florida', 'LOC'],\n",
       " ['Texas', 'LOC'],\n",
       " ['Alabama', 'LOC'],\n",
       " ['Oregon', 'ORG'],\n",
       " ['Missouri', 'LOC'],\n",
       " ['Notre Dame', 'ORG'],\n",
       " ['Newcastle United', 'ORG'],\n",
       " ['Moungi Bawendi', 'PER'],\n",
       " ['Louis Brus', 'PER'],\n",
       " ['Alexei Ekimov', 'PER'],\n",
       " ['Ekimov', 'PER'],\n",
       " ['Brus', 'PER'],\n",
       " ['Bawendi', 'PER'],\n",
       " ['HSF', 'ORG'],\n",
       " ['Hipgnosis Song Management', 'ORG'],\n",
       " ['HSM', 'ORG'],\n",
       " ['Diana', 'PER'],\n",
       " ['Dodi', 'PER'],\n",
       " ['Paris', 'LOC'],\n",
       " ['William', 'PER'],\n",
       " ['Alliance', 'ORG'],\n",
       " ['AMD', 'ORG'],\n",
       " ['Intel', 'ORG'],\n",
       " ['Nvidia', 'ORG'],\n",
       " ['Jesus', 'PER'],\n",
       " ['Universal Music Group', 'ORG'],\n",
       " ['Congress', 'LOC'],\n",
       " ['Purdy', 'ORG'],\n",
       " ['Gardner Minshew', 'PER'],\n",
       " ['Joe Mixon', 'PER'],\n",
       " ['Gerald Everett', 'PER'],\n",
       " ['Dameon Pierce', 'PER'],\n",
       " ['Cristiano Ronaldo', 'PER'],\n",
       " ['Harry Kane', 'PER'],\n",
       " ['Kane', 'PER'],\n",
       " ['Ti', 'ORG'],\n",
       " ['Stephen Curry', 'PER'],\n",
       " ['Giannis Antetokounmpo', 'PER'],\n",
       " ['MIT', 'ORG'],\n",
       " ['Bengals', 'ORG'],\n",
       " ['Commanders', 'ORG'],\n",
       " ['Tee Higgins', 'PER'],\n",
       " ['Panthers', 'ORG'],\n",
       " ['Daniel Jones', 'PER'],\n",
       " ['Geno Smith', 'PER'],\n",
       " ['Josh Allen', 'PER'],\n",
       " ['James Cook', 'PER'],\n",
       " ['Dalton Kincaid', 'PER'],\n",
       " ['Chris Buescher', 'PER'],\n",
       " ['Westpac', 'ORG'],\n",
       " ['University of Michigan', 'ORG'],\n",
       " ['Andy Robertson', 'PER'],\n",
       " ['Crystal Palace', 'ORG'],\n",
       " ['London', 'LOC'],\n",
       " ['Dubai', 'LOC'],\n",
       " ['Walmart', 'ORG'],\n",
       " ['Patriots', 'ORG'],\n",
       " ['Rice', 'PER'],\n",
       " ['Gareth Southgate', 'PER'],\n",
       " ['Lionel Scaloni', 'PER'],\n",
       " ['Tony Pollard', 'PER'],\n",
       " ['Kyren Williams', 'PER'],\n",
       " ['Javonte Williams', 'PER'],\n",
       " ['Honda', 'ORG'],\n",
       " ['GM', 'ORG'],\n",
       " ['Midwest', 'LOC'],\n",
       " ['Costco', 'ORG'],\n",
       " ['Northern Lights', 'LOC'],\n",
       " ['Iceland', 'LOC'],\n",
       " ['Mira Murati', 'PER'],\n",
       " ['Ilya Sutskever', 'PER'],\n",
       " ['Spotify', 'ORG'],\n",
       " ['West Bank', 'LOC'],\n",
       " ['Uber', 'ORG'],\n",
       " ['Wall Street', 'ORG'],\n",
       " ['European Parliament', 'ORG'],\n",
       " ['San Francisco', 'LOC'],\n",
       " ['Novak Djokovic', 'PER'],\n",
       " ['Lleyton Hewitt', 'PER'],\n",
       " ['Chicago', 'LOC'],\n",
       " ['Aurélien Tchouaméni', 'PER'],\n",
       " ['Folarin Balogun', 'PER'],\n",
       " ['EU', 'LOC'],\n",
       " ['Kenny Pickett', 'PER'],\n",
       " ['Desmond Ridder', 'PER'],\n",
       " ['Kingsley Coman', 'PER'],\n",
       " ['Palo Alto Networks', 'ORG'],\n",
       " ['Changpeng Zhao', 'PER'],\n",
       " ['Securities and Exchange Commission', 'ORG'],\n",
       " ['JPMorgan', 'ORG'],\n",
       " ['Destiny Udogie', 'PER'],\n",
       " ['Cristian Romero', 'PER'],\n",
       " ['Sony Music', 'ORG'],\n",
       " ['YouTube', 'ORG'],\n",
       " ['Nicolas Cage', 'PER'],\n",
       " ['NFC East', 'ORG'],\n",
       " ['Noah Fant', 'PER'],\n",
       " ['Dallas Goedert', 'PER'],\n",
       " ['Zach Charbonnet', 'PER'],\n",
       " ['Brandin Cooks', 'PER'],\n",
       " ['Wolves', 'ORG'],\n",
       " ['Austria', 'LOC'],\n",
       " ['Spain', 'LOC'],\n",
       " ['Pe', 'ORG'],\n",
       " ['Wallabies', 'ORG'],\n",
       " ['Rugby Australia', 'ORG'],\n",
       " ['Diamondbacks', 'ORG'],\n",
       " ['Fox', 'ORG'],\n",
       " ['American League', 'ORG'],\n",
       " ['National League', 'ORG'],\n",
       " ['NL', 'ORG'],\n",
       " ['New York Mets', 'ORG'],\n",
       " ['Los Angeles Angels', 'ORG'],\n",
       " ['Boston Dynamics', 'ORG'],\n",
       " ['Tesla', 'ORG'],\n",
       " ['Yoshinobu Yamamoto', 'PER'],\n",
       " ['New York Yankees', 'ORG'],\n",
       " ['Boston Red Sox', 'ORG'],\n",
       " ['Mike Maignan', 'PER'],\n",
       " ['Alexander Mattison', 'PER'],\n",
       " ['Jarrod Bowen', 'PER'],\n",
       " ['Golden State Warriors', 'ORG'],\n",
       " ['Warriors', 'ORG'],\n",
       " ['Kyle Larson', 'PER'],\n",
       " ['Chad Ryland', 'PER'],\n",
       " ['Finland', 'LOC'],\n",
       " ['Walmart Plus', 'ORG'],\n",
       " ['Bryce Young', 'PER'],\n",
       " ['Young', 'PER'],\n",
       " ['Arizona State', 'ORG'],\n",
       " ['Ange Postecoglou', 'PER'],\n",
       " ['Ryan Blaney', 'PER'],\n",
       " ['Turkey', 'LOC'],\n",
       " ['Rhamondre Stevenson', 'PER'],\n",
       " ['Jonathan Taylor', 'PER'],\n",
       " ['Ezekiel Elliott', 'PER'],\n",
       " ['Phoenix', 'LOC'],\n",
       " ['Jesse Bradley', 'PER'],\n",
       " ['Toyota', 'ORG'],\n",
       " ['Stellantis', 'ORG'],\n",
       " ['NHTSA', 'ORG'],\n",
       " ['Waymo', 'ORG'],\n",
       " ['God', 'PER']]"
      ]
     },
     "execution_count": 23,
     "metadata": {},
     "output_type": "execute_result"
    }
   ],
   "source": [
    "# Find all nodes with type \"Entity_LOC\"\n",
    "entity_nodes = [node.split(\"_\") for node in G.nodes() if G.nodes[node]['type'] in ['entity_PER', 'entity_LOC', 'entity_ORG']]\n",
    "\n",
    "#print(\"\\n=== LOCATION ENTITIES ===\")\n",
    "#print(f\"Found {len(loc_entities)} location entities:\")\n",
    "#for entity in loc_entities:\n",
    "#    print(f\"- {entity}\")\n",
    "\n",
    "response_tracking = {}\n",
    "\n",
    "for i, entity_node in enumerate(entity_nodes):\n",
    "    # Print progress\n",
    "    print(f\"Processing {entity_node[0]} ({i+1}/{len(entity_nodes)} - {((i+1)/len(entity_nodes)*100):.1f}%)\")\n",
    "\n",
    "    # Check GPU temperature and wait if necessary \n",
    "    while gpu_temperature_rest_time() != 0:\n",
    "        print(f\"== Pausing code execution to cool down GPU... ({get_gpu_temperature()}) ==\")\n",
    "        time.sleep(gpu_temperature_rest_time())\n",
    "    \n",
    "    # Get entity name and type\n",
    "    entity_name = entity_node[0]\n",
    "    entity_type = entity_node[1]\n",
    "\n",
    "    prompt = f\"\"\"\n",
    "    {entity_name} is an entity of type {entity_type} extracted from a text by an NER algorithm. \n",
    "    Your task is to assess withouth further context whether this entity is widely recognizable and return your answer in a JSON format. \n",
    "    In this JSON first provide again {entity_name} in the field \"entity name\" and then {entity_type} in the field \"entity_type\"\n",
    "    Finally, in the filed \"widely_recognizable\" indicate with a boolean value your decision about whether this is a widely recognizable entity without further context.\n",
    "    Additionally, if you determine this entity is widely recognizable, provide one short sentence of context about this entity in the field \"short_context\", otherwise leave it blank.\n",
    "    As a final remark, consider that these entites has been extracted from a corpus of news articles covering topics in Science, Business, Entertainment, Sports, Technology and Health.\n",
    "    It is very unlikely that widely recognizable entities of the type \"organization\" or \"person\" unrelated to these domains appear in the corpus.\n",
    "    \"\"\"\n",
    "    url = \"http://localhost:11434/api/chat\"\n",
    "    headers = {\"Content-Type\": \"application/json\"}\n",
    "\n",
    "    data = {\n",
    "        \"model\": \"gemma3:27b-it-q8_0\",\n",
    "        \"messages\": [{\"role\": \"user\", \"content\": prompt}],\n",
    "        \"stream\": False,\n",
    "        \"format\": {\n",
    "            \"type\": \"object\",\n",
    "            \"properties\": {\n",
    "                \"entity_name\": {\"type\": \"string\"},\n",
    "                \"entity_type\": {\"type\": \"string\"},\n",
    "                \"widely_recognizable\": {\"type\" : \"boolean\"},\n",
    "                \"short_context\":{\"type\": \"string\"}  \n",
    "                }\n",
    "            },\n",
    "            \"required\": [\"entity_name\", \"entity_type\", \"widely_recognizable\", \"short_context\"]\n",
    "        }\n",
    "\n",
    "\n",
    "    response = requests.post(url, headers=headers, data=json.dumps(data))\n",
    "\n",
    "    response_json =json.loads(response.json()['message']['content'])\n",
    "\n",
    "    print(response.json()['message']['content']) # CEGAR\n",
    "\n",
    "    # If the entity is widely recognizable, use the short context to generate an embedding\n",
    "    if response_json[\"widely_recognizable\"]:\n",
    "        entity_base_embedding = get_ollama_embedding(response_json[\"short_context\"])[\"embedding\"]\n",
    "        response_json[\"embedding\"] = entity_base_embedding\n",
    "        # Assign the embedding to the entity node\n",
    "        G.nodes[entity_node][\"embedding\"] = entity_base_embedding\n",
    "        print(f\"---> SUCCESS: Entity {entity_node[0]} ({entity_node[1]}) is widely recognizable. Embedding assigned.\")\n",
    "    else:\n",
    "        # Create default zero embedding for non-recognizable entities\n",
    "        default_embedding = np.zeros(1024, dtype=np.float32)\n",
    "        response_json[\"embedding\"] = default_embedding\n",
    "        # Assign the default embedding to the entity node\n",
    "        G.nodes[entity_node][\"embedding\"] = default_embedding\n",
    "        print(f\"---> DEFAULT EMBEDDING: Entity {entity_node[0]} ({entity_node[1]}) is not widely recognizable. Default embedding assigned.\")\n",
    "    response_tracking[entity_node] = response_json\n",
    "\n",
    "\n",
    "# Save response_tracking to pickle file\n",
    "with open('../data/response_tracking.pkl', 'wb') as f:\n",
    "    pickle.dump(response_tracking, f)\n",
    "\n",
    "# Mostrar el resultado\n",
    "#print(response.status_code)\n",
    "#print(response.json())\n",
    "#print(response.json()['message']['content'])\n"
   ]
  },
  {
   "cell_type": "code",
   "execution_count": 6,
   "metadata": {},
   "outputs": [],
   "source": [
    "# Helper function to average a list of embeddings (assumed to be list of floats)\n",
    "def average_embeddings(embeddings):\n",
    "    \"\"\"\n",
    "    Given a list of embedding vectors, compute the element-wise average.\n",
    "    Returns the average embedding as a list.\n",
    "    \"\"\"\n",
    "    return np.mean(np.array(embeddings), axis=0).tolist()"
   ]
  },
  {
   "cell_type": "code",
   "execution_count": 7,
   "metadata": {},
   "outputs": [],
   "source": [
    "# -------------------------------\n",
    "# Step 1: Generate Article Embeddings\n",
    "# For each article, average the embeddings of all its associated chunks.\n",
    "# -------------------------------\n",
    "for node, data in G.nodes(data=True):\n",
    "    if data.get(\"type\") == \"article\":\n",
    "        chunk_embeddings = []\n",
    "        # Iterate over all successors of the article (neighbors in the graph)\n",
    "        for neighbor in G.successors(node):\n",
    "            # Get the edge data from article to neighbor\n",
    "            edge_data = G.get_edge_data(node, neighbor)\n",
    "            # Check if the relation is \"CONTAINS\" (i.e., the article contains the chunk)\n",
    "            if edge_data and edge_data.get(\"relation\") == \"CONTAINS\":\n",
    "                neighbor_data = G.nodes[neighbor]\n",
    "                # Ensure that the chunk has an embedding\n",
    "                if \"embedding\" in neighbor_data:\n",
    "                    chunk_embeddings.append(neighbor_data[\"embedding\"])\n",
    "        # If there are chunk embeddings available, compute their average and assign to the article node\n",
    "        if chunk_embeddings:\n",
    "            data[\"embedding\"] = average_embeddings(chunk_embeddings)\n",
    "\n",
    "# -------------------------------\n",
    "# Step 2: Generate Embeddings for Authors, Categories, and Sources\n",
    "# For each of these node types, average the embeddings of all connected article nodes.\n",
    "# -------------------------------\n",
    "\n",
    "# For author nodes: use the \"AUTHORED\" edge from author to article.\n",
    "for node, data in G.nodes(data=True):\n",
    "    if data.get(\"type\") == \"author\":\n",
    "        article_embeddings = []\n",
    "        # Iterate over outgoing edges from the author node\n",
    "        for _, target, edge_data in G.out_edges(node, data=True):\n",
    "            if edge_data.get(\"relation\") == \"AUTHORED\":\n",
    "                target_data = G.nodes[target]\n",
    "                if \"embedding\" in target_data:\n",
    "                    article_embeddings.append(target_data[\"embedding\"])\n",
    "        if article_embeddings:\n",
    "            data[\"embedding\"] = average_embeddings(article_embeddings)\n",
    "\n",
    "# For category nodes: use the \"COVERED_IN\" edge from category to article.\n",
    "for node, data in G.nodes(data=True):\n",
    "    if data.get(\"type\") == \"category\":\n",
    "        article_embeddings = []\n",
    "        # Iterate over outgoing edges from the category node\n",
    "        for _, target, edge_data in G.out_edges(node, data=True):\n",
    "            if edge_data.get(\"relation\") == \"COVERED_IN\":\n",
    "                target_data = G.nodes[target]\n",
    "                if \"embedding\" in target_data:\n",
    "                    article_embeddings.append(target_data[\"embedding\"])\n",
    "        if article_embeddings:\n",
    "            data[\"embedding\"] = average_embeddings(article_embeddings)\n",
    "\n",
    "# For source nodes: use the \"PUBLISHES\" edge from source to article.\n",
    "for node, data in G.nodes(data=True):\n",
    "    if data.get(\"type\") == \"source\":\n",
    "        article_embeddings = []\n",
    "        # Iterate over outgoing edges from the source node\n",
    "        for _, target, edge_data in G.out_edges(node, data=True):\n",
    "            if edge_data.get(\"relation\") == \"PUBLISHES\":\n",
    "                target_data = G.nodes[target]\n",
    "                if \"embedding\" in target_data:\n",
    "                    article_embeddings.append(target_data[\"embedding\"])\n",
    "        if article_embeddings:\n",
    "            data[\"embedding\"] = average_embeddings(article_embeddings)"
   ]
  },
  {
   "cell_type": "code",
   "execution_count": 8,
   "metadata": {},
   "outputs": [
    {
     "name": "stdout",
     "output_type": "stream",
     "text": [
      "Nodes missing embeddings: ['Yardbarker', 'Engadget']\n"
     ]
    }
   ],
   "source": [
    "# Ensure every node has an embedding assigned.\n",
    "# If missing, report the node and assign a default zero embedding.\n",
    "\n",
    "missing_nodes = []\n",
    "default_embedding = None\n",
    "\n",
    "# Determine the embedding dimension from an existing node with an embedding\n",
    "for node, data in G.nodes(data=True):\n",
    "    if \"embedding\" in data:\n",
    "        # If the embedding is a dict (for \"chunk\" nodes), extract the list from key \"embedding\"\n",
    "        if isinstance(data[\"embedding\"], dict):\n",
    "            emb_list = data[\"embedding\"].get(\"embedding\")\n",
    "            if emb_list is not None:\n",
    "                default_dim = len(emb_list)\n",
    "                # For chunk nodes, we expect the embedding to be a dict\n",
    "                default_embedding = {\"embedding\": [0.0] * default_dim}\n",
    "                break\n",
    "        # Otherwise, if it's a list (as for aggregated embeddings)\n",
    "        elif isinstance(data[\"embedding\"], list):\n",
    "            default_dim = len(data[\"embedding\"])\n",
    "            default_embedding = [0.0] * default_dim\n",
    "            break\n",
    "\n",
    "if default_embedding is None:\n",
    "    print(\"Could not determine the embedding dimension. No node with an assigned embedding was found.\")\n",
    "else:\n",
    "    # Iterate over all nodes to ensure each has an embedding\n",
    "    for node, data in G.nodes(data=True):\n",
    "        if \"embedding\" not in data:\n",
    "            missing_nodes.append(node)\n",
    "            # For \"chunk\" type nodes, assign a dict structure; otherwise, assign a simple list.\n",
    "            if data.get(\"type\") == \"chunk\":\n",
    "                data[\"embedding\"] = {\"embedding\": [0.0] * default_dim}\n",
    "            else:\n",
    "                data[\"embedding\"] = [0.0] * default_dim\n",
    "\n",
    "    print(\"Nodes missing embeddings:\", missing_nodes)\n"
   ]
  },
  {
   "cell_type": "code",
   "execution_count": 9,
   "metadata": {},
   "outputs": [
    {
     "name": "stdout",
     "output_type": "stream",
     "text": [
      "Network Summary:\n",
      "Total nodes: 2622\n",
      "Nodes by type:\n",
      "  article: 609\n",
      "  author: 300\n",
      "  source: 47\n",
      "  category: 6\n",
      "  chunk: 1660\n",
      "Total edges: 9052\n",
      "Graph density: 0.0013\n",
      "Average degree: 6.90\n",
      "Number of strongly connected components: 1\n",
      "Number of weakly connected components: 1\n"
     ]
    }
   ],
   "source": [
    "# -------------------------------\n",
    "# Graph Summary Statistics\n",
    "# -------------------------------\n",
    "\n",
    "# Total number of nodes and edges\n",
    "total_nodes = G.number_of_nodes()\n",
    "total_edges = G.number_of_edges()\n",
    "\n",
    "# Count nodes by type\n",
    "node_type_counts = {}\n",
    "for node, data in G.nodes(data=True):\n",
    "    node_type = data.get(\"type\", \"unknown\")\n",
    "    node_type_counts[node_type] = node_type_counts.get(node_type, 0) + 1\n",
    "\n",
    "# Calculate graph density\n",
    "density = nx.density(G)\n",
    "\n",
    "# Calculate average degree (using overall degree: sum of in-degree and out-degree)\n",
    "degrees = dict(G.degree())\n",
    "avg_degree = sum(degrees.values()) / total_nodes if total_nodes > 0 else 0\n",
    "\n",
    "# Calculate the number of strongly and weakly connected components\n",
    "num_strongly_connected = nx.number_strongly_connected_components(G)\n",
    "num_weakly_connected = nx.number_weakly_connected_components(G)\n",
    "\n",
    "# Print the network summary\n",
    "print(\"Network Summary:\")\n",
    "print(f\"Total nodes: {total_nodes}\")\n",
    "print(\"Nodes by type:\")\n",
    "for node_type, count in node_type_counts.items():\n",
    "    print(f\"  {node_type}: {count}\")\n",
    "print(f\"Total edges: {total_edges}\")\n",
    "print(f\"Graph density: {density:.4f}\")\n",
    "print(f\"Average degree: {avg_degree:.2f}\")\n",
    "print(f\"Number of strongly connected components: {num_strongly_connected}\")\n",
    "print(f\"Number of weakly connected components: {num_weakly_connected}\")"
   ]
  },
  {
   "cell_type": "code",
   "execution_count": 13,
   "metadata": {},
   "outputs": [
    {
     "name": "stdout",
     "output_type": "stream",
     "text": [
      "Graph saved!\n"
     ]
    }
   ],
   "source": [
    "with open(\"../data/MultiHop_graph_w_sem_embeddings.pkl\", \"wb\") as f:\n",
    "    pickle.dump(G, f)\n",
    "print(\"Graph saved!\")"
   ]
  },
  {
   "cell_type": "markdown",
   "metadata": {},
   "source": [
    "## Visualizing the embedding space with TSNE"
   ]
  },
  {
   "cell_type": "code",
   "execution_count": 11,
   "metadata": {},
   "outputs": [],
   "source": [
    "from sklearn.manifold import TSNE\n",
    "import plotly.express as px"
   ]
  },
  {
   "cell_type": "code",
   "execution_count": 12,
   "metadata": {},
   "outputs": [
    {
     "name": "stdout",
     "output_type": "stream",
     "text": [
      "Extracted embeddings from 2622 nodes.\n",
      "Embeddings array shape: (2622, 1024)\n",
      "t-SNE transformation complete.\n"
     ]
    },
    {
     "data": {
      "application/vnd.plotly.v1+json": {
       "config": {
        "plotlyServerURL": "https://plot.ly"
       },
       "data": [
        {
         "customdata": [
          [
           0,
           "article",
           "entertainment",
           "unknown",
           "Mashable"
          ],
          [
           1,
           "article",
           "business",
           "Stan Choe",
           "The Sydney Morning Herald"
          ],
          [
           2,
           "article",
           "business",
           "unknown",
           "Cnbc | World Business News Leader"
          ],
          [
           3,
           "article",
           "sports",
           "Colum Dell, Yardbarker",
           "Yardbarker"
          ],
          [
           4,
           "article",
           "sports",
           "Dan Treacy",
           "Sporting News"
          ],
          [
           5,
           "article",
           "sports",
           "Ian Valentino",
           "Sporting News"
          ],
          [
           6,
           "article",
           "sports",
           "Rob Miech",
           "Sporting News"
          ],
          [
           7,
           "article",
           "sports",
           "Arunima Bhanot",
           "Essentially Sports"
          ],
          [
           8,
           "article",
           "sports",
           "The New York Times",
           "The New York Times"
          ],
          [
           9,
           "article",
           "technology",
           "Morgan Little",
           "TechCrunch"
          ],
          [
           10,
           "article",
           "technology",
           "Jacquelyn Melinek",
           "TechCrunch"
          ],
          [
           11,
           "article",
           "technology",
           "Kyle Wiggers",
           "TechCrunch"
          ],
          [
           12,
           "article",
           "sports",
           "Robert Calcutt",
           "TalkSport"
          ],
          [
           13,
           "article",
           "sports",
           "Will Unwin",
           "The Guardian"
          ],
          [
           14,
           "article",
           "technology",
           "David Pierce",
           "The Verge"
          ],
          [
           15,
           "article",
           "technology",
           "Rebecca Bellan",
           "TechCrunch"
          ],
          [
           16,
           "article",
           "entertainment",
           "Jeffrey Parkin",
           "Polygon"
          ],
          [
           17,
           "article",
           "entertainment",
           "Johnny Yu",
           "Polygon"
          ],
          [
           18,
           "article",
           "entertainment",
           "Laura Hampson and Meredith Clark",
           "The Independent - Life and Style"
          ],
          [
           19,
           "article",
           "entertainment",
           "unknown",
           "FOX News - Entertainment"
          ],
          [
           20,
           "article",
           "entertainment",
           "Dilvin Yasa",
           "The Age"
          ],
          [
           21,
           "article",
           "entertainment",
           "Amber Raiken",
           "The Independent - Life and Style"
          ],
          [
           22,
           "article",
           "sports",
           "Christy Doran",
           "The Roar | Sports Writers Blog"
          ],
          [
           23,
           "article",
           "sports",
           "Christy Doran",
           "The Roar | Sports Writers Blog"
          ],
          [
           24,
           "article",
           "technology",
           "Catherine Shu",
           "TechCrunch"
          ],
          [
           25,
           "article",
           "technology",
           "Natasha Lomas",
           "TechCrunch"
          ],
          [
           26,
           "article",
           "technology",
           "Sarah Perez",
           "TechCrunch"
          ],
          [
           27,
           "article",
           "business",
           "Cade Metz, Karen Weise, Nico Grant and Mike Isaac",
           "The Age"
          ],
          [
           28,
           "article",
           "business",
           "Stan Choe",
           "The Sydney Morning Herald"
          ],
          [
           29,
           "article",
           "business",
           "Stan Choe",
           "The Age"
          ],
          [
           30,
           "article",
           "technology",
           "Ingrid Lunden",
           "TechCrunch"
          ],
          [
           31,
           "article",
           "business",
           "Ben Weiss",
           "Fortune"
          ],
          [
           32,
           "article",
           "technology",
           "Tim Biggs",
           "The Age"
          ],
          [
           33,
           "article",
           "technology",
           "Sarah Perez",
           "TechCrunch"
          ],
          [
           34,
           "article",
           "sports",
           "David Suggs",
           "Sporting News"
          ],
          [
           35,
           "article",
           "sports",
           "Bryan Murphy",
           "Sporting News"
          ],
          [
           36,
           "article",
           "entertainment",
           "Amber Raiken",
           "The Independent - Life and Style"
          ],
          [
           37,
           "article",
           "sports",
           "Kyle Irving",
           "Sporting News"
          ],
          [
           38,
           "article",
           "technology",
           "Romain Dillet",
           "TechCrunch"
          ],
          [
           39,
           "article",
           "technology",
           "Natasha Lomas",
           "TechCrunch"
          ],
          [
           40,
           "article",
           "sports",
           "Vinnie Iyer",
           "Sporting News"
          ],
          [
           41,
           "article",
           "sports",
           "Kyle Bonn",
           "Sporting News"
          ],
          [
           42,
           "article",
           "technology",
           "Sarah Perez",
           "TechCrunch"
          ],
          [
           43,
           "article",
           "technology",
           "Haje Jan Kamps",
           "TechCrunch"
          ],
          [
           44,
           "article",
           "entertainment",
           "Nell Geraets",
           "The Age"
          ],
          [
           45,
           "article",
           "entertainment",
           "Amber Raiken",
           "The Independent - Life and Style"
          ],
          [
           46,
           "article",
           "entertainment",
           "Chelsea Ritschel",
           "The Independent - Life and Style"
          ],
          [
           47,
           "article",
           "technology",
           "Kyle Wiggers",
           "TechCrunch"
          ],
          [
           48,
           "article",
           "technology",
           "Alyssa Stringer",
           "TechCrunch"
          ],
          [
           49,
           "article",
           "technology",
           "Alyssa Stringer",
           "TechCrunch"
          ],
          [
           50,
           "article",
           "technology",
           "Jessica Conditt",
           "Engadget"
          ],
          [
           51,
           "article",
           "entertainment",
           "Amber Raiken",
           "The Independent - Life and Style"
          ],
          [
           52,
           "article",
           "entertainment",
           "Laura Snapes",
           "The Guardian"
          ],
          [
           53,
           "article",
           "technology",
           "Elizabeth Lopatto",
           "The Verge"
          ],
          [
           54,
           "article",
           "technology",
           "Paul Sawers",
           "TechCrunch"
          ],
          [
           55,
           "article",
           "entertainment",
           "Pete Volk",
           "Polygon"
          ],
          [
           56,
           "article",
           "sports",
           "Nick Brinkerhoff",
           "Sporting News"
          ],
          [
           57,
           "article",
           "sports",
           "Dave Richard",
           "CBSSports.com"
          ],
          [
           58,
           "article",
           "sports",
           "Dave Richard",
           "CBSSports.com"
          ],
          [
           59,
           "article",
           "sports",
           "Shanna McCarriston",
           "CBSSports.com"
          ],
          [
           60,
           "article",
           "sports",
           "Martin Derbyshire",
           "Sporting News"
          ],
          [
           61,
           "article",
           "sports",
           "Sam Eggleston",
           "Sporting News"
          ],
          [
           62,
           "article",
           "sports",
           "Sam Eggleston",
           "Sporting News"
          ],
          [
           63,
           "article",
           "sports",
           "James Wallace",
           "The Guardian"
          ],
          [
           64,
           "article",
           "sports",
           "Rob Smyth",
           "The Guardian"
          ],
          [
           65,
           "article",
           "health",
           "unknown",
           "FOX News - Health"
          ],
          [
           66,
           "article",
           "health",
           "unknown",
           "FOX News - Health"
          ],
          [
           67,
           "article",
           "entertainment",
           "unknown",
           "FOX News - Lifestyle"
          ],
          [
           68,
           "article",
           "entertainment",
           "",
           "The Independent - Life and Style"
          ],
          [
           69,
           "article",
           "technology",
           "Sheena Vasani",
           "The Verge"
          ],
          [
           70,
           "article",
           "entertainment",
           "Amber Raiken",
           "The Independent - Life and Style"
          ],
          [
           71,
           "article",
           "sports",
           "CBS Sports Staff",
           "CBSSports.com"
          ],
          [
           72,
           "article",
           "sports",
           "Martin Harris",
           "Sporting News"
          ],
          [
           73,
           "article",
           "business",
           "Roi Weinberger",
           "Globes English | Israel Business Arena"
          ],
          [
           74,
           "article",
           "business",
           "STAN CHOE",
           "The Age"
          ],
          [
           75,
           "article",
           "technology",
           "Christine Hall",
           "TechCrunch"
          ],
          [
           76,
           "article",
           "technology",
           "unknown",
           "Hacker News"
          ],
          [
           77,
           "article",
           "technology",
           "Sam Rutherford",
           "Engadget"
          ],
          [
           78,
           "article",
           "business",
           "Assaf Gilead",
           "Globes English | Israel Business Arena"
          ],
          [
           79,
           "article",
           "sports",
           "Bill Bender",
           "Sporting News"
          ],
          [
           80,
           "article",
           "sports",
           "Edward Sutelan",
           "Sporting News"
          ],
          [
           81,
           "article",
           "entertainment",
           "Tasha Robinson",
           "Polygon"
          ],
          [
           82,
           "article",
           "sports",
           "Mintu Tomar",
           "Essentially Sports"
          ],
          [
           83,
           "article",
           "technology",
           "Elizabeth Lopatto",
           "The Verge"
          ],
          [
           84,
           "article",
           "science",
           "Rebecca Owen",
           "Eos: Earth And Space Science News"
          ],
          [
           85,
           "article",
           "business",
           "Murray Stassen",
           "Music Business Worldwide"
          ],
          [
           86,
           "article",
           "technology",
           "Elizabeth Lopatto",
           "The Verge"
          ],
          [
           87,
           "article",
           "business",
           "Stan Choe",
           "The Sydney Morning Herald"
          ],
          [
           88,
           "article",
           "sports",
           "Kyle Bonn",
           "Sporting News"
          ],
          [
           89,
           "article",
           "business",
           "Jamie Jackson",
           "The Guardian"
          ],
          [
           90,
           "article",
           "technology",
           "Antonio G. Di Benedetto",
           "The Verge"
          ],
          [
           91,
           "article",
           "technology",
           "Amy Skorheim",
           "Engadget"
          ],
          [
           92,
           "article",
           "sports",
           "Andy Hunter",
           "The Guardian"
          ],
          [
           93,
           "article",
           "sports",
           "Reuters",
           "The Guardian"
          ],
          [
           94,
           "article",
           "entertainment",
           "Pete Volk",
           "Polygon"
          ],
          [
           95,
           "article",
           "entertainment",
           "Amber Raiken",
           "The Independent - Life and Style"
          ],
          [
           96,
           "article",
           "technology",
           "Natalie Weiner",
           "The Verge"
          ],
          [
           97,
           "article",
           "business",
           "Paolo Confino",
           "Fortune"
          ],
          [
           98,
           "article",
           "technology",
           "Devin Coldewey",
           "TechCrunch"
          ],
          [
           99,
           "article",
           "technology",
           "Andrew Tarantola",
           "Engadget"
          ],
          [
           100,
           "article",
           "sports",
           "Kyle Bonn",
           "Sporting News"
          ],
          [
           101,
           "article",
           "sports",
           "Ed Aarons at Stamford Bridge",
           "The Guardian"
          ],
          [
           102,
           "article",
           "sports",
           "The New York Times",
           "The New York Times"
          ],
          [
           103,
           "article",
           "sports",
           "Tony Mejia",
           "Sporting News"
          ],
          [
           104,
           "article",
           "technology",
           "Amy Skorheim",
           "Engadget"
          ],
          [
           105,
           "article",
           "sports",
           "Kyle Bonn",
           "Sporting News"
          ],
          [
           106,
           "article",
           "technology",
           "Morgan Sung",
           "TechCrunch"
          ],
          [
           107,
           "article",
           "technology",
           "Natasha Lomas",
           "TechCrunch"
          ],
          [
           108,
           "article",
           "sports",
           "The New York Times",
           "The New York Times"
          ],
          [
           109,
           "article",
           "sports",
           "David Hytner",
           "The Guardian"
          ],
          [
           110,
           "article",
           "sports",
           "unknown",
           "Sky Sports"
          ],
          [
           111,
           "article",
           "business",
           "unknown",
           "Business Line"
          ],
          [
           112,
           "article",
           "business",
           "Will Daniel",
           "Fortune"
          ],
          [
           113,
           "article",
           "sports",
           "Cody Benjamin",
           "CBSSports.com"
          ],
          [
           114,
           "article",
           "sports",
           "Nick Musial",
           "Sporting News"
          ],
          [
           115,
           "article",
           "technology",
           "Amanda Chicago Lewis",
           "The Verge"
          ],
          [
           116,
           "article",
           "technology",
           "Kyle Wiggers",
           "TechCrunch"
          ],
          [
           117,
           "article",
           "technology",
           "Devin Coldewey",
           "TechCrunch"
          ],
          [
           118,
           "article",
           "sports",
           "Anthony Franco, MLB Trade Rumors",
           "Yardbarker"
          ],
          [
           119,
           "article",
           "sports",
           "Vinnie Iyer",
           "Sporting News"
          ],
          [
           120,
           "article",
           "sports",
           "Edward Sutelan",
           "Sporting News"
          ],
          [
           121,
           "article",
           "technology",
           "Elizabeth Lopatto",
           "The Verge"
          ],
          [
           122,
           "article",
           "entertainment",
           "Ryan Gilliam",
           "Polygon"
          ],
          [
           123,
           "article",
           "entertainment",
           "Ryan Gilliam",
           "Polygon"
          ],
          [
           124,
           "article",
           "technology",
           "Morgan Sung",
           "TechCrunch"
          ],
          [
           125,
           "article",
           "business",
           "Hezi Sternlicht",
           "Globes English | Israel Business Arena"
          ],
          [
           126,
           "article",
           "technology",
           "Kyle Wiggers",
           "TechCrunch"
          ],
          [
           127,
           "article",
           "technology",
           "Mia Sato",
           "The Verge"
          ],
          [
           128,
           "article",
           "entertainment",
           "unknown",
           "FOX News - Lifestyle"
          ],
          [
           129,
           "article",
           "sports",
           "Brad Cox",
           "Sporting News"
          ],
          [
           130,
           "article",
           "entertainment",
           "unknown",
           "FOX News - Lifestyle"
          ],
          [
           131,
           "article",
           "science",
           "Serina DeSalvio, Texas A&M University",
           "Scitechdaily | Science Space And Technology News 2017"
          ],
          [
           132,
           "article",
           "sports",
           "The Roar",
           "The Roar | Sports Writers Blog"
          ],
          [
           133,
           "article",
           "business",
           "zee business",
           "Zee Business"
          ],
          [
           134,
           "article",
           "business",
           "unknown",
           "Business Today | Latest Stock Market And Economy News India"
          ],
          [
           135,
           "article",
           "business",
           "Topher L. McDougal, The Conversation",
           "Fortune"
          ],
          [
           136,
           "article",
           "technology",
           "Erika Hayasaki",
           "The Verge"
          ],
          [
           137,
           "article",
           "sports",
           "Brian Campbell",
           "CBSSports.com"
          ],
          [
           138,
           "article",
           "business",
           "Paige Hagy",
           "Fortune"
          ],
          [
           139,
           "article",
           "science",
           "Maria Rugenstein, Mark Zelinka, Kristopher B. Karnauskas, Paulo Ceppi and Timothy Andrews",
           "Eos: Earth And Space Science News"
          ],
          [
           140,
           "article",
           "technology",
           "Natasha Lomas",
           "TechCrunch"
          ],
          [
           141,
           "article",
           "technology",
           "Sarah Perez",
           "TechCrunch"
          ],
          [
           142,
           "article",
           "sports",
           "News",
           "The Roar | Sports Writers Blog"
          ],
          [
           143,
           "article",
           "sports",
           "Dan Treacy",
           "Sporting News"
          ],
          [
           144,
           "article",
           "sports",
           "Dan Treacy",
           "Sporting News"
          ],
          [
           145,
           "article",
           "sports",
           "Travis Pulver",
           "Sporting News"
          ],
          [
           146,
           "article",
           "sports",
           "Heath Cummings",
           "CBSSports.com"
          ],
          [
           147,
           "article",
           "entertainment",
           "Sarah Berry",
           "The Age"
          ],
          [
           148,
           "article",
           "entertainment",
           "unknown",
           "FOX News - Lifestyle"
          ],
          [
           149,
           "article",
           "sports",
           "Dave Richard",
           "CBSSports.com"
          ],
          [
           150,
           "article",
           "sports",
           "Associated Press",
           "The Guardian"
          ],
          [
           151,
           "article",
           "sports",
           "James Gregory",
           "Sport Grill"
          ],
          [
           152,
           "article",
           "sports",
           "Andy Hunter at Anfield",
           "The Guardian"
          ],
          [
           153,
           "article",
           "technology",
           "Natasha Lomas",
           "TechCrunch"
          ],
          [
           154,
           "article",
           "entertainment",
           "Craig Mathieson",
           "The Sydney Morning Herald"
          ],
          [
           155,
           "article",
           "sports",
           "The New York Times",
           "The New York Times"
          ],
          [
           156,
           "article",
           "business",
           "Derek Decloet, Bloomberg",
           "Fortune"
          ],
          [
           157,
           "article",
           "sports",
           "Kyle Bonn",
           "Sporting News"
          ],
          [
           158,
           "article",
           "health",
           "unknown",
           "FOX News - Health"
          ],
          [
           159,
           "article",
           "entertainment",
           "Amber Raiken",
           "The Independent - Life and Style"
          ],
          [
           160,
           "article",
           "technology",
           "Ron Miller",
           "TechCrunch"
          ],
          [
           161,
           "article",
           "technology",
           "Alex Wilhelm",
           "TechCrunch"
          ],
          [
           162,
           "article",
           "technology",
           "Elizabeth Lopatto",
           "The Verge"
          ],
          [
           163,
           "article",
           "health",
           "unknown",
           "FOX News - Health"
          ],
          [
           164,
           "article",
           "technology",
           "Natasha Lomas",
           "TechCrunch"
          ],
          [
           165,
           "article",
           "entertainment",
           "Toussaint Egan",
           "Polygon"
          ],
          [
           166,
           "article",
           "sports",
           "Connor Andrews",
           "TalkSport"
          ],
          [
           167,
           "article",
           "sports",
           "Jonathan Burnett",
           "Sporting News"
          ],
          [
           168,
           "article",
           "sports",
           "wwos",
           "Wide World Of Sports"
          ],
          [
           169,
           "article",
           "technology",
           "Jessica Conditt",
           "Engadget"
          ],
          [
           170,
           "article",
           "technology",
           "Sean Hollister",
           "The Verge"
          ],
          [
           171,
           "article",
           "entertainment",
           "Sarah-Jane Collins",
           "The Age"
          ],
          [
           172,
           "article",
           "sports",
           "Tony Harper",
           "The Roar | Sports Writers Blog"
          ],
          [
           173,
           "article",
           "business",
           "Lindsey Bahr, The Associated Press",
           "Fortune"
          ],
          [
           174,
           "article",
           "entertainment",
           "Amber Raiken",
           "The Independent - Life and Style"
          ],
          [
           175,
           "article",
           "technology",
           "Elizabeth Lopatto",
           "The Verge"
          ],
          [
           176,
           "article",
           "sports",
           "Christy Doran",
           "The Roar | Sports Writers Blog"
          ],
          [
           177,
           "article",
           "entertainment",
           "unknown",
           "FOX News - Entertainment"
          ],
          [
           178,
           "article",
           "entertainment",
           "Meredith Clark",
           "The Independent - Life and Style"
          ],
          [
           179,
           "article",
           "sports",
           "Josh Edwards",
           "CBSSports.com"
          ],
          [
           180,
           "article",
           "sports",
           "Dan Treacy",
           "Sporting News"
          ],
          [
           181,
           "article",
           "technology",
           "Rita Liao",
           "TechCrunch"
          ],
          [
           182,
           "article",
           "business",
           "unknown",
           "Financial Times"
          ],
          [
           183,
           "article",
           "sports",
           "Nick Brinkerhoff",
           "Sporting News"
          ],
          [
           184,
           "article",
           "sports",
           "Suzanne Wrack at Hampden Park",
           "The Guardian"
          ],
          [
           185,
           "article",
           "entertainment",
           "Toussaint Egan",
           "Polygon"
          ],
          [
           186,
           "article",
           "sports",
           "Priyank Mithani",
           "Essentially Sports"
          ],
          [
           187,
           "article",
           "sports",
           "Dominic Booth",
           "Sporting News"
          ],
          [
           188,
           "article",
           "technology",
           "Sarah Perez",
           "TechCrunch"
          ],
          [
           189,
           "article",
           "technology",
           "David Swan",
           "The Age"
          ],
          [
           190,
           "article",
           "technology",
           "Tim Stevens",
           "The Verge"
          ],
          [
           191,
           "article",
           "business",
           "IoT.Business.News",
           "Iot Business News"
          ],
          [
           192,
           "article",
           "entertainment",
           "Abe Beame",
           "Polygon"
          ],
          [
           193,
           "article",
           "entertainment",
           "Meredith Clark",
           "The Independent - Life and Style"
          ],
          [
           194,
           "article",
           "sports",
           "Sudeep Sinha",
           "Essentially Sports"
          ],
          [
           195,
           "article",
           "technology",
           "Sarah Perez",
           "TechCrunch"
          ],
          [
           196,
           "article",
           "technology",
           "Romain Dillet",
           "TechCrunch"
          ],
          [
           197,
           "article",
           "sports",
           "Nick Musial",
           "Sporting News"
          ],
          [
           198,
           "article",
           "sports",
           "Sloan Piva",
           "Sporting News"
          ],
          [
           199,
           "article",
           "technology",
           "Haje Jan Kamps",
           "TechCrunch"
          ],
          [
           200,
           "article",
           "sports",
           "Kyle Irving",
           "Sporting News"
          ],
          [
           201,
           "article",
           "sports",
           "Martin Derbyshire",
           "Sporting News"
          ],
          [
           202,
           "article",
           "sports",
           "Sporting News Betting",
           "Sporting News"
          ],
          [
           203,
           "article",
           "sports",
           "Kyle Bonn",
           "Sporting News"
          ],
          [
           204,
           "article",
           "sports",
           "Ben Miller",
           "Sporting News"
          ],
          [
           205,
           "article",
           "technology",
           "Jennifer Pattison Tuohy",
           "The Verge"
          ],
          [
           206,
           "article",
           "sports",
           "Jonathan Liew at Wembley",
           "The Guardian"
          ],
          [
           207,
           "article",
           "sports",
           "Sam Eggleston",
           "Sporting News"
          ],
          [
           208,
           "article",
           "sports",
           "",
           "The Age"
          ],
          [
           209,
           "article",
           "sports",
           "Joanna Guelas",
           "The Age"
          ],
          [
           210,
           "article",
           "sports",
           "Jack Snape",
           "The Guardian"
          ],
          [
           211,
           "article",
           "business",
           "Tim Ingham",
           "Music Business Worldwide"
          ],
          [
           212,
           "article",
           "business",
           "Tim Ingham",
           "Music Business Worldwide"
          ],
          [
           213,
           "article",
           "entertainment",
           "Mike Mahardy",
           "Polygon"
          ],
          [
           214,
           "article",
           "technology",
           "unknown",
           "BBC News - Technology"
          ],
          [
           215,
           "article",
           "business",
           "unknown",
           "Cnbc | World Business News Leader"
          ],
          [
           216,
           "article",
           "technology",
           "Jagmeet Singh",
           "TechCrunch"
          ],
          [
           217,
           "article",
           "business",
           "Anat-Daniely Lev",
           "Globes English | Israel Business Arena"
          ],
          [
           218,
           "article",
           "business",
           "Mirette Magdy, Bloomberg",
           "Fortune"
          ],
          [
           219,
           "article",
           "sports",
           "Richard Jolly",
           "The Independent - Sports"
          ],
          [
           220,
           "article",
           "sports",
           "Peter Ryan",
           "The Sydney Morning Herald"
          ],
          [
           221,
           "article",
           "entertainment",
           "Robert Moran",
           "The Age"
          ],
          [
           222,
           "article",
           "technology",
           "Jeff Dunn,Valentina Palladino,Amy Skorheim",
           "Engadget"
          ],
          [
           223,
           "article",
           "business",
           "Lisa Mascaro, Farnoush Amiri, Stephen Groves, Kevin Freking, The Associated Press",
           "Fortune"
          ],
          [
           224,
           "article",
           "sports",
           "Bill Bender",
           "Sporting News"
          ],
          [
           225,
           "article",
           "sports",
           "Emily Dozier",
           "Sporting News"
          ],
          [
           226,
           "article",
           "business",
           "unknown",
           "Cnbc | World Business News Leader"
          ],
          [
           227,
           "article",
           "entertainment",
           "unknown",
           "FOX News - Entertainment"
          ],
          [
           228,
           "article",
           "sports",
           "Michael Benson",
           "TalkSport"
          ],
          [
           229,
           "article",
           "technology",
           "Katie Malone",
           "Engadget"
          ],
          [
           230,
           "article",
           "technology",
           "Matt Burns",
           "TechCrunch"
          ],
          [
           231,
           "article",
           "sports",
           "Kyle Bonn",
           "Sporting News"
          ],
          [
           232,
           "article",
           "sports",
           "Kieran Francis",
           "Sporting News"
          ],
          [
           233,
           "article",
           "science",
           "unknown",
           "Yahoo News"
          ],
          [
           234,
           "article",
           "technology",
           "Andrew Tarantola",
           "Engadget"
          ],
          [
           235,
           "article",
           "technology",
           "Antonio G. Di Benedetto",
           "The Verge"
          ],
          [
           236,
           "article",
           "entertainment",
           "Cameron Faulkner",
           "Polygon"
          ],
          [
           237,
           "article",
           "technology",
           "Rebecca Bellan",
           "TechCrunch"
          ],
          [
           238,
           "article",
           "science",
           "unknown",
           "Live Science: The Most Interesting Articles"
          ],
          [
           239,
           "article",
           "business",
           "unknown",
           "Business Line"
          ],
          [
           240,
           "article",
           "sports",
           "The Roar",
           "The Roar | Sports Writers Blog"
          ],
          [
           241,
           "article",
           "technology",
           "Victoria Song",
           "The Verge"
          ],
          [
           242,
           "article",
           "sports",
           "Jonathan Liew at Old Trafford",
           "The Guardian"
          ],
          [
           243,
           "article",
           "technology",
           "Anna Heim",
           "TechCrunch"
          ],
          [
           244,
           "article",
           "sports",
           "The Roar",
           "The Roar | Sports Writers Blog"
          ],
          [
           245,
           "article",
           "sports",
           "Andreas Hale",
           "Sporting News"
          ],
          [
           246,
           "article",
           "business",
           "zee business",
           "Zee Business"
          ],
          [
           247,
           "article",
           "science",
           "Shi En Kim",
           "Science News For Students"
          ],
          [
           248,
           "article",
           "technology",
           "Natasha Lomas",
           "TechCrunch"
          ],
          [
           249,
           "article",
           "sports",
           "Mike DeCourcy",
           "Sporting News"
          ],
          [
           250,
           "article",
           "technology",
           "Engadget",
           "Engadget"
          ],
          [
           251,
           "article",
           "business",
           "Adriana Morga, The Associated Press",
           "Fortune"
          ],
          [
           252,
           "article",
           "business",
           "unknown",
           "Business Line"
          ],
          [
           253,
           "article",
           "business",
           "unknown",
           "Business Line"
          ],
          [
           254,
           "article",
           "entertainment",
           "Amber Raiken",
           "The Independent - Life and Style"
          ],
          [
           255,
           "article",
           "entertainment",
           "unknown",
           "FOX News - Entertainment"
          ],
          [
           256,
           "article",
           "technology",
           "Taylor Hatmaker",
           "TechCrunch"
          ],
          [
           257,
           "article",
           "entertainment",
           "unknown",
           "BBC News - Entertainment & Arts"
          ],
          [
           258,
           "article",
           "sports",
           "Bill Bender",
           "Sporting News"
          ],
          [
           259,
           "article",
           "sports",
           "Dean Straka",
           "CBSSports.com"
          ],
          [
           260,
           "article",
           "sports",
           "Moumita Dutta",
           "Insidesport"
          ],
          [
           261,
           "article",
           "science",
           "Maria Temming",
           "Science News For Students"
          ],
          [
           262,
           "article",
           "business",
           "David Keyton, Christina Larson, Rodrique Ngowi, The Associated Press",
           "Fortune"
          ],
          [
           263,
           "article",
           "business",
           "Tim Ingham",
           "Music Business Worldwide"
          ],
          [
           264,
           "article",
           "sports",
           "Sam Eggleston",
           "Sporting News"
          ],
          [
           265,
           "article",
           "entertainment",
           "Isobel Lewis",
           "The Independent - Life and Style"
          ],
          [
           266,
           "article",
           "entertainment",
           "Meredith Clark",
           "The Independent - Life and Style"
          ],
          [
           267,
           "article",
           "technology",
           "Ingrid Lunden",
           "TechCrunch"
          ],
          [
           268,
           "article",
           "technology",
           "Kyle Wiggers",
           "TechCrunch"
          ],
          [
           269,
           "article",
           "business",
           "Amy Beth Hanson, The Associated Press",
           "Fortune"
          ],
          [
           270,
           "article",
           "entertainment",
           "unknown",
           "FOX News - Lifestyle"
          ],
          [
           271,
           "article",
           "business",
           "Daniel Tencer",
           "Music Business Worldwide"
          ],
          [
           272,
           "article",
           "technology",
           "Taylor Hatmaker",
           "TechCrunch"
          ],
          [
           273,
           "article",
           "sports",
           "Tom Gray",
           "Sporting News"
          ],
          [
           274,
           "article",
           "sports",
           "Chirag Radhyan",
           "Essentially Sports"
          ],
          [
           275,
           "article",
           "sports",
           "Dan Treacy",
           "Sporting News"
          ],
          [
           276,
           "article",
           "sports",
           "Nick Brinkerhoff",
           "Sporting News"
          ],
          [
           277,
           "article",
           "sports",
           "Jake Lambourne",
           "TalkSport"
          ],
          [
           278,
           "article",
           "technology",
           "Sarah Perez",
           "TechCrunch"
          ],
          [
           279,
           "article",
           "entertainment",
           "Daniel Dockery",
           "Polygon"
          ],
          [
           280,
           "article",
           "entertainment",
           "Chelsea Ritschel",
           "The Independent - Life and Style"
          ],
          [
           281,
           "article",
           "sports",
           "Dushyant Singh",
           "Essentially Sports"
          ],
          [
           282,
           "article",
           "sports",
           "David Suggs",
           "Sporting News"
          ],
          [
           283,
           "article",
           "entertainment",
           "Jacqueline Maley",
           "The Age"
          ],
          [
           284,
           "article",
           "entertainment",
           "Walter Marsh",
           "The Guardian"
          ],
          [
           285,
           "article",
           "science",
           "Laura Allen",
           "Science News For Students"
          ],
          [
           286,
           "article",
           "science",
           "Robert Lea",
           "Advanced Science News"
          ],
          [
           287,
           "article",
           "technology",
           "Kris Holt",
           "Engadget"
          ],
          [
           288,
           "article",
           "sports",
           "Nick Brinkerhoff",
           "Sporting News"
          ],
          [
           289,
           "article",
           "sports",
           "Tyler Sullivan",
           "CBSSports.com"
          ],
          [
           290,
           "article",
           "sports",
           "Gilbert McGregor",
           "Sporting News"
          ],
          [
           291,
           "article",
           "technology",
           "Sheena Vasani",
           "The Verge"
          ],
          [
           292,
           "article",
           "entertainment",
           "Nicole Clark",
           "Polygon"
          ],
          [
           293,
           "article",
           "technology",
           "Elizabeth Lopatto",
           "The Verge"
          ],
          [
           294,
           "article",
           "sports",
           "Edward Sutelan",
           "Sporting News"
          ],
          [
           295,
           "article",
           "entertainment",
           "Amber Raiken",
           "The Independent - Life and Style"
          ],
          [
           296,
           "article",
           "sports",
           "Nick Brinkerhoff",
           "Sporting News"
          ],
          [
           297,
           "article",
           "sports",
           "Ansuman Abhisek",
           "Essentially Sports"
          ],
          [
           298,
           "article",
           "business",
           "Rita Nazareth and Sinéad Carew",
           "The Sydney Morning Herald"
          ],
          [
           299,
           "article",
           "technology",
           "Sean Hollister",
           "The Verge"
          ],
          [
           300,
           "article",
           "sports",
           "Uma Gurav",
           "TalkSport"
          ],
          [
           301,
           "article",
           "technology",
           "Ivan Mehta",
           "TechCrunch"
          ],
          [
           302,
           "article",
           "business",
           "Puja Molpariya",
           "Revyuh Media"
          ],
          [
           303,
           "article",
           "entertainment",
           "unknown",
           "FOX News - Lifestyle"
          ],
          [
           304,
           "article",
           "technology",
           "Devin Coldewey",
           "TechCrunch"
          ],
          [
           305,
           "article",
           "technology",
           "Elizabeth Lopatto",
           "The Verge"
          ],
          [
           306,
           "article",
           "business",
           "BusinessWorld",
           "Business World"
          ],
          [
           307,
           "article",
           "sports",
           "Swati Bhatia",
           "Insidesport"
          ],
          [
           308,
           "article",
           "entertainment",
           "Alice Newcome-Beill",
           "Polygon"
          ],
          [
           309,
           "article",
           "health",
           "unknown",
           "FOX News - Health"
          ],
          [
           310,
           "article",
           "entertainment",
           "Maanya Sachdeva",
           "The Independent - Life and Style"
          ],
          [
           311,
           "article",
           "sports",
           "Nick Brinkerhoff",
           "Sporting News"
          ],
          [
           312,
           "article",
           "technology",
           "Andrew Tarantola",
           "Engadget"
          ],
          [
           313,
           "article",
           "technology",
           "Andrew Tarantola",
           "Engadget"
          ],
          [
           314,
           "article",
           "sports",
           "Sloan Piva",
           "Sporting News"
          ],
          [
           315,
           "article",
           "sports",
           "Kyle Bonn",
           "Sporting News"
          ],
          [
           316,
           "article",
           "sports",
           "The New York Times",
           "The New York Times"
          ],
          [
           317,
           "article",
           "sports",
           "Sloan Piva",
           "Sporting News"
          ],
          [
           318,
           "article",
           "technology",
           "Harri Weber",
           "TechCrunch"
          ],
          [
           319,
           "article",
           "technology",
           "Andrew J. Hawkins",
           "The Verge"
          ],
          [
           320,
           "article",
           "technology",
           "Matt Jancer",
           "Wired"
          ],
          [
           321,
           "article",
           "business",
           "Brendan Murray, Tara Patel, Bloomberg",
           "Fortune"
          ],
          [
           322,
           "article",
           "sports",
           "The New York Times",
           "The New York Times"
          ],
          [
           323,
           "article",
           "entertainment",
           "Faiza Saqib and Amber Raiken",
           "The Independent - Life and Style"
          ],
          [
           324,
           "article",
           "entertainment",
           "Amber Raiken",
           "The Independent - Life and Style"
          ],
          [
           325,
           "article",
           "science",
           "unknown",
           "Live Science: The Most Interesting Articles"
          ],
          [
           326,
           "article",
           "entertainment",
           "unknown",
           "FOX News - Lifestyle"
          ],
          [
           327,
           "article",
           "entertainment",
           "Tasha Robinson",
           "Polygon"
          ],
          [
           328,
           "article",
           "sports",
           "Edward Sutelan",
           "Sporting News"
          ],
          [
           329,
           "article",
           "technology",
           "Charles Pulliam-Moore",
           "The Verge"
          ],
          [
           330,
           "article",
           "sports",
           "Jamie Jackson",
           "The Guardian"
          ],
          [
           331,
           "article",
           "sports",
           "Nick Brinkerhoff",
           "Sporting News"
          ],
          [
           332,
           "article",
           "business",
           "Matt O'Brien, The Associated Press",
           "Fortune"
          ],
          [
           333,
           "article",
           "technology",
           "Devin Coldewey",
           "TechCrunch"
          ],
          [
           334,
           "article",
           "technology",
           "Kyle Wiggers",
           "TechCrunch"
          ],
          [
           335,
           "article",
           "technology",
           "Natasha Lomas",
           "TechCrunch"
          ],
          [
           336,
           "article",
           "technology",
           "Johana Bhuiyan",
           "The Guardian"
          ],
          [
           337,
           "article",
           "technology",
           "Kirsten Korosec",
           "TechCrunch"
          ],
          [
           338,
           "article",
           "business",
           "unknown",
           "Seeking Alpha"
          ],
          [
           339,
           "article",
           "entertainment",
           "Joanna Whitehead",
           "The Independent - Life and Style"
          ],
          [
           340,
           "article",
           "sports",
           "Josh Erickson, Pro Hockey Rumors",
           "Yardbarker"
          ],
          [
           341,
           "article",
           "sports",
           "Tom Naghten",
           "Sporting News"
          ],
          [
           342,
           "article",
           "sports",
           "Tony Harper",
           "The Roar | Sports Writers Blog"
          ],
          [
           343,
           "article",
           "sports",
           "Pete Prisco",
           "CBSSports.com"
          ],
          [
           344,
           "article",
           "sports",
           "Jakso James",
           "Essentially Sports"
          ],
          [
           345,
           "article",
           "technology",
           "Robin Buller in Oakland, California",
           "The Guardian"
          ],
          [
           346,
           "article",
           "technology",
           "Alicia Haddick",
           "The Verge"
          ],
          [
           347,
           "article",
           "entertainment",
           "Wenlei Ma",
           "The Guardian"
          ],
          [
           348,
           "article",
           "entertainment",
           "unknown",
           "FOX News - Entertainment"
          ],
          [
           349,
           "article",
           "sports",
           "Shaikh Aerajuddin",
           "Essentially Sports"
          ],
          [
           350,
           "article",
           "technology",
           "Antonio G. Di Benedetto",
           "The Verge"
          ],
          [
           351,
           "article",
           "technology",
           "Antonio G. Di Benedetto",
           "The Verge"
          ],
          [
           352,
           "article",
           "sports",
           "Reuters",
           "The Guardian"
          ],
          [
           353,
           "article",
           "sports",
           "Bill Bender",
           "Sporting News"
          ],
          [
           354,
           "article",
           "entertainment",
           "Chris Plante",
           "Polygon"
          ],
          [
           355,
           "article",
           "technology",
           "Sean Hollister",
           "The Verge"
          ],
          [
           356,
           "article",
           "sports",
           "Bryan Murphy",
           "Sporting News"
          ],
          [
           357,
           "article",
           "business",
           "",
           "The Sydney Morning Herald"
          ],
          [
           358,
           "article",
           "entertainment",
           "Meredith Clark",
           "The Independent - Life and Style"
          ],
          [
           359,
           "article",
           "sports",
           "Sam Eggleston",
           "Sporting News"
          ],
          [
           360,
           "article",
           "entertainment",
           "Amber Raiken",
           "The Independent - Life and Style"
          ],
          [
           361,
           "article",
           "business",
           "Daniel Tencer",
           "Music Business Worldwide"
          ],
          [
           362,
           "article",
           "sports",
           "Nick Igbokwe",
           "Sportskeeda"
          ],
          [
           363,
           "article",
           "business",
           "Daniel Tencer",
           "Music Business Worldwide"
          ],
          [
           364,
           "article",
           "technology",
           "Victoria Song",
           "The Verge"
          ],
          [
           365,
           "article",
           "technology",
           "Devin Coldewey",
           "TechCrunch"
          ],
          [
           366,
           "article",
           "sports",
           "Damian Mannion",
           "TalkSport"
          ],
          [
           367,
           "article",
           "technology",
           "Rebecca Bellan",
           "TechCrunch"
          ],
          [
           368,
           "article",
           "sports",
           "Sam Eggleston",
           "Sporting News"
          ],
          [
           369,
           "article",
           "technology",
           "Sheena Vasani",
           "The Verge"
          ],
          [
           370,
           "article",
           "sports",
           "Barney Ronay at Old Trafford",
           "The Guardian"
          ],
          [
           371,
           "article",
           "sports",
           "Simon Burnton at the Brian Lara Stadium",
           "The Guardian"
          ],
          [
           372,
           "article",
           "technology",
           "Ingrid Lunden",
           "TechCrunch"
          ],
          [
           373,
           "article",
           "business",
           "unknown",
           "Seeking Alpha"
          ],
          [
           374,
           "article",
           "technology",
           "Jacquelyn Melinek",
           "TechCrunch"
          ],
          [
           375,
           "article",
           "business",
           "unknown",
           "Cnbc | World Business News Leader"
          ],
          [
           376,
           "article",
           "sports",
           "Isaac Thorn",
           "Sporting News"
          ],
          [
           377,
           "article",
           "business",
           "Lisa Mascaro, Farnoush Amiri, Stephen Groves, The Associated Press",
           "Fortune"
          ],
          [
           378,
           "article",
           "sports",
           "Edward Sutelan",
           "Sporting News"
          ],
          [
           379,
           "article",
           "sports",
           "Kyle Bonn",
           "Sporting News"
          ],
          [
           380,
           "article",
           "business",
           "Murray Stassen",
           "Music Business Worldwide"
          ],
          [
           381,
           "article",
           "business",
           "Tim Ingham",
           "Music Business Worldwide"
          ],
          [
           382,
           "article",
           "entertainment",
           "Pete Volk",
           "Polygon"
          ],
          [
           383,
           "article",
           "entertainment",
           "Grayson Morley",
           "Polygon"
          ],
          [
           384,
           "article",
           "technology",
           "Sarah Perez",
           "TechCrunch"
          ],
          [
           385,
           "article",
           "business",
           "unknown",
           "Cnbc | World Business News Leader"
          ],
          [
           386,
           "article",
           "sports",
           "Nick Brinkerhoff",
           "Sporting News"
          ],
          [
           387,
           "article",
           "entertainment",
           "Jesse Hassenger",
           "Polygon"
          ],
          [
           388,
           "article",
           "entertainment",
           "unknown",
           "FOX News - Lifestyle"
          ],
          [
           389,
           "article",
           "entertainment",
           "Autumn Wright",
           "Polygon"
          ],
          [
           390,
           "article",
           "health",
           "unknown",
           "FOX News - Health"
          ],
          [
           391,
           "article",
           "science",
           "Bradley van Paridon",
           "Advanced Science News"
          ],
          [
           392,
           "article",
           "entertainment",
           "Petrana Radulovic",
           "Polygon"
          ],
          [
           393,
           "article",
           "entertainment",
           "unknown",
           "FOX News - Lifestyle"
          ],
          [
           394,
           "article",
           "sports",
           "Vinnie Iyer",
           "Sporting News"
          ],
          [
           395,
           "article",
           "sports",
           "Joel Sritharan",
           "Sporting News"
          ],
          [
           396,
           "article",
           "technology",
           "Natasha Lomas",
           "TechCrunch"
          ],
          [
           397,
           "article",
           "entertainment",
           "Ellie Muir",
           "The Independent - Life and Style"
          ],
          [
           398,
           "article",
           "technology",
           "Ingrid Lunden",
           "TechCrunch"
          ],
          [
           399,
           "article",
           "entertainment",
           "Ryan Gilliam",
           "Polygon"
          ],
          [
           400,
           "article",
           "sports",
           "The New York Times",
           "The New York Times"
          ],
          [
           401,
           "article",
           "technology",
           "Morgan Sung",
           "TechCrunch"
          ],
          [
           402,
           "article",
           "technology",
           "Sarah Perez",
           "TechCrunch"
          ],
          [
           403,
           "article",
           "technology",
           "Barbara Krasnoff",
           "The Verge"
          ],
          [
           404,
           "article",
           "technology",
           "Jeff Dunn",
           "Engadget"
          ],
          [
           405,
           "article",
           "technology",
           "Morgan Sung",
           "TechCrunch"
          ],
          [
           406,
           "article",
           "sports",
           "The Roar",
           "The Roar | Sports Writers Blog"
          ],
          [
           407,
           "article",
           "sports",
           "Tony Harper",
           "The Roar | Sports Writers Blog"
          ],
          [
           408,
           "article",
           "sports",
           "Dan Treacy",
           "Sporting News"
          ],
          [
           409,
           "article",
           "sports",
           "Vishakha Deshpande",
           "Sporting News"
          ],
          [
           410,
           "article",
           "business",
           "BusinessWorld",
           "Business World"
          ],
          [
           411,
           "article",
           "sports",
           "Dean Straka",
           "CBSSports.com"
          ],
          [
           412,
           "article",
           "business",
           "Melissa Murphy, The Associated Press",
           "Fortune"
          ],
          [
           413,
           "article",
           "business",
           "Ela Levi-Weinreb",
           "Globes English | Israel Business Arena"
          ],
          [
           414,
           "article",
           "sports",
           "Luke McLaughlin at OL Stadium",
           "The Guardian"
          ],
          [
           415,
           "article",
           "technology",
           "Kyle Wiggers",
           "TechCrunch"
          ],
          [
           416,
           "article",
           "sports",
           "Kanishka Prakash",
           "Essentially Sports"
          ],
          [
           417,
           "article",
           "technology",
           "James Trew",
           "Engadget"
          ],
          [
           418,
           "article",
           "business",
           "unknown",
           "Business Line"
          ],
          [
           419,
           "article",
           "business",
           "Jake Coyle, The Associated Press",
           "Fortune"
          ],
          [
           420,
           "article",
           "technology",
           "Brian Heater",
           "TechCrunch"
          ],
          [
           421,
           "article",
           "business",
           "Matt O'Brien, The Associated Press",
           "Fortune"
          ],
          [
           422,
           "article",
           "sports",
           "Dan Treacy",
           "Sporting News"
          ],
          [
           423,
           "article",
           "sports",
           "Shrabana Sengupta",
           "Essentially Sports"
          ],
          [
           424,
           "article",
           "technology",
           "Antonio G. Di Benedetto",
           "The Verge"
          ],
          [
           425,
           "article",
           "sports",
           "Richard Jolly",
           "The Independent - Sports"
          ],
          [
           426,
           "article",
           "sports",
           "Edward Sutelan",
           "Sporting News"
          ],
          [
           427,
           "article",
           "science",
           "Robin McKie, Science Editor",
           "The Guardian"
          ],
          [
           428,
           "article",
           "entertainment",
           "Nicole Clark",
           "Polygon"
          ],
          [
           429,
           "article",
           "sports",
           "Saurabh Saini",
           "Essentially Sports"
          ],
          [
           430,
           "article",
           "technology",
           "Mary Ann Azevedo",
           "TechCrunch"
          ],
          [
           431,
           "article",
           "technology",
           "Victoria Song",
           "The Verge"
          ],
          [
           432,
           "article",
           "sports",
           "Kris Johnson",
           "Sporting News"
          ],
          [
           433,
           "article",
           "sports",
           "Travis Pulver",
           "Sporting News"
          ],
          [
           434,
           "article",
           "entertainment",
           "Petrana Radulovic",
           "Polygon"
          ],
          [
           435,
           "article",
           "entertainment",
           "Saleah Blancaflor",
           "Polygon"
          ],
          [
           436,
           "article",
           "science",
           "Tina Hesman Saey",
           "Science News For Students"
          ],
          [
           437,
           "article",
           "sports",
           "Yardbarker Staff",
           "Yardbarker"
          ],
          [
           438,
           "article",
           "sports",
           "The Roar",
           "The Roar | Sports Writers Blog"
          ],
          [
           439,
           "article",
           "sports",
           "Edward Sutelan",
           "Sporting News"
          ],
          [
           440,
           "article",
           "sports",
           "News",
           "The Roar | Sports Writers Blog"
          ],
          [
           441,
           "article",
           "sports",
           "Dushyant Singh",
           "Essentially Sports"
          ],
          [
           442,
           "article",
           "business",
           "unknown",
           "Cnbc | World Business News Leader"
          ],
          [
           443,
           "article",
           "sports",
           "Nilavro Ghosh",
           "Essentially Sports"
          ],
          [
           444,
           "article",
           "sports",
           "Kyle Bonn",
           "Sporting News"
          ],
          [
           445,
           "article",
           "sports",
           "Richard Jolly",
           "The Independent - Sports"
          ],
          [
           446,
           "article",
           "sports",
           "Brian Campbell",
           "CBSSports.com"
          ],
          [
           447,
           "article",
           "sports",
           "David Suggs",
           "Sporting News"
          ],
          [
           448,
           "article",
           "technology",
           "Ingrid Lunden",
           "TechCrunch"
          ],
          [
           449,
           "article",
           "sports",
           "Crissy Froyd",
           "Sporting News"
          ],
          [
           450,
           "article",
           "technology",
           "Ingrid Lunden",
           "TechCrunch"
          ],
          [
           451,
           "article",
           "sports",
           "Ian Chadband",
           "The Age"
          ],
          [
           452,
           "article",
           "entertainment",
           "Zach Rabiroff",
           "Polygon"
          ],
          [
           453,
           "article",
           "entertainment",
           "Joshua Rivera",
           "Polygon"
          ],
          [
           454,
           "article",
           "entertainment",
           "Sarah Thwaites",
           "Polygon"
          ],
          [
           455,
           "article",
           "business",
           "Daniel Tencer",
           "Music Business Worldwide"
          ],
          [
           456,
           "article",
           "technology",
           "Tage Kene-Okafor",
           "TechCrunch"
          ],
          [
           457,
           "article",
           "technology",
           "Natasha Lomas",
           "TechCrunch"
          ],
          [
           458,
           "article",
           "technology",
           "Catherine Shu",
           "TechCrunch"
          ],
          [
           459,
           "article",
           "science",
           "sascha.pare@futurenet.com (Sascha Pare)",
           "Live Science: The Most Interesting Articles"
          ],
          [
           460,
           "article",
           "science",
           "unknown",
           "Live Science: The Most Interesting Articles"
          ],
          [
           461,
           "article",
           "technology",
           "Ariel Shapiro",
           "The Verge"
          ],
          [
           462,
           "article",
           "entertainment",
           "Kayti Burt",
           "Polygon"
          ],
          [
           463,
           "article",
           "business",
           "BusinessWorld",
           "Business World"
          ],
          [
           464,
           "article",
           "business",
           "Tim Ingham",
           "Music Business Worldwide"
          ],
          [
           465,
           "article",
           "technology",
           "Jacquelyn Melinek",
           "TechCrunch"
          ],
          [
           466,
           "article",
           "science",
           "Jesús Victorino",
           "Advanced Science News"
          ],
          [
           467,
           "article",
           "health",
           "unknown",
           "FOX News - Health"
          ],
          [
           468,
           "article",
           "technology",
           "Morgan Sung",
           "TechCrunch"
          ],
          [
           469,
           "article",
           "technology",
           "Morgan Sung",
           "TechCrunch"
          ],
          [
           470,
           "article",
           "business",
           "Joseph Hostetler",
           "Fortune"
          ],
          [
           471,
           "article",
           "business",
           "Kat Tretina",
           "Fortune"
          ],
          [
           472,
           "article",
           "science",
           "unknown",
           "Live Science: The Most Interesting Articles"
          ],
          [
           473,
           "article",
           "technology",
           "Sheena Vasani",
           "The Verge"
          ],
          [
           474,
           "article",
           "sports",
           "Jacob Camenker",
           "Sporting News"
          ],
          [
           475,
           "article",
           "sports",
           "Aidan Wohl, GoAZCATS.com",
           "Rivals"
          ],
          [
           476,
           "article",
           "sports",
           "Sid Lowe at the Ramón Sánchez Pizjuán Stadium",
           "The Guardian"
          ],
          [
           477,
           "article",
           "business",
           "Ava Benny-Morrison, Bloomberg",
           "Fortune"
          ],
          [
           478,
           "article",
           "sports",
           "James Gregory",
           "Sport Grill"
          ],
          [
           479,
           "article",
           "business",
           "Sydney Lake",
           "Fortune"
          ],
          [
           480,
           "article",
           "sports",
           "Ryan Fagan",
           "Sporting News"
          ],
          [
           481,
           "article",
           "sports",
           "Veerendra Vikram Singh",
           "Essentially Sports"
          ],
          [
           482,
           "article",
           "business",
           "zee business",
           "Zee Business"
          ],
          [
           483,
           "article",
           "sports",
           "Bryan Murphy",
           "Sporting News"
          ],
          [
           484,
           "article",
           "sports",
           "Emily Dozier",
           "Sporting News"
          ],
          [
           485,
           "article",
           "business",
           "Rita Nazareth",
           "The Sydney Morning Herald"
          ],
          [
           486,
           "article",
           "business",
           "Ela Levi-Weinrib",
           "Globes English | Israel Business Arena"
          ],
          [
           487,
           "article",
           "sports",
           "Steven Taranto",
           "CBSSports.com"
          ],
          [
           488,
           "article",
           "technology",
           "Amanda Silberling",
           "TechCrunch"
          ],
          [
           489,
           "article",
           "sports",
           "Dan Treacy",
           "Sporting News"
          ],
          [
           490,
           "article",
           "sports",
           "Parnab Bhattacharya",
           "Essentially Sports"
          ],
          [
           491,
           "article",
           "technology",
           "Victoria Song",
           "The Verge"
          ],
          [
           492,
           "article",
           "sports",
           "Christy Doran",
           "The Roar | Sports Writers Blog"
          ],
          [
           493,
           "article",
           "sports",
           "Christy Doran",
           "The Roar | Sports Writers Blog"
          ],
          [
           494,
           "article",
           "sports",
           "Sloan Piva",
           "Sporting News"
          ],
          [
           495,
           "article",
           "sports",
           "Kyle Irving",
           "Sporting News"
          ],
          [
           496,
           "article",
           "technology",
           "Carrie Andrews",
           "TechCrunch"
          ],
          [
           497,
           "article",
           "sports",
           "Sam Eggleston",
           "Sporting News"
          ],
          [
           498,
           "article",
           "technology",
           "Jon Porter",
           "The Verge"
          ],
          [
           499,
           "article",
           "entertainment",
           "Matthew Reynolds",
           "Polygon"
          ],
          [
           500,
           "article",
           "sports",
           "Jacob Camenker",
           "Sporting News"
          ],
          [
           501,
           "article",
           "entertainment",
           "unknown",
           "FOX News - Lifestyle"
          ],
          [
           502,
           "article",
           "entertainment",
           "Meredith Clark",
           "The Independent - Life and Style"
          ],
          [
           503,
           "article",
           "business",
           "Jana Randow, Bloomberg",
           "Fortune"
          ],
          [
           504,
           "article",
           "sports",
           "The New York Times",
           "The New York Times"
          ],
          [
           505,
           "article",
           "technology",
           "Igor Bonifacic",
           "Engadget"
          ],
          [
           506,
           "article",
           "business",
           "Howard Mustoe",
           "The Sydney Morning Herald"
          ],
          [
           507,
           "article",
           "technology",
           "Sarah Perez",
           "TechCrunch"
          ],
          [
           508,
           "article",
           "technology",
           "David Pierce",
           "The Verge"
          ],
          [
           509,
           "article",
           "technology",
           "Amanda Silberling",
           "TechCrunch"
          ],
          [
           510,
           "article",
           "technology",
           "Ingrid Lunden",
           "TechCrunch"
          ],
          [
           511,
           "article",
           "technology",
           "Brian Heater",
           "TechCrunch"
          ],
          [
           512,
           "article",
           "sports",
           "Hunter Felt",
           "The Guardian"
          ],
          [
           513,
           "article",
           "entertainment",
           "",
           "The Independent - Travel"
          ],
          [
           514,
           "article",
           "technology",
           "Rebecca Bellan",
           "TechCrunch"
          ],
          [
           515,
           "article",
           "sports",
           "Yardbarker",
           "Yardbarker"
          ],
          [
           516,
           "article",
           "technology",
           "Kyle Wiggers",
           "TechCrunch"
          ],
          [
           517,
           "article",
           "entertainment",
           "Cass Marshall",
           "Polygon"
          ],
          [
           518,
           "article",
           "health",
           "unknown",
           "FOX News - Health"
          ],
          [
           519,
           "article",
           "entertainment",
           "Cameron Faulkner",
           "Polygon"
          ],
          [
           520,
           "article",
           "technology",
           "Scott Gilbertson",
           "Wired"
          ],
          [
           521,
           "article",
           "technology",
           "Sheena Vasani",
           "The Verge"
          ],
          [
           522,
           "article",
           "sports",
           "Wes Goldberg, RealGM",
           "Yardbarker"
          ],
          [
           523,
           "article",
           "entertainment",
           "Gyan Yankovich",
           "The Age"
          ],
          [
           524,
           "article",
           "technology",
           "Jessica Conditt,Aaron Souppouris",
           "Engadget"
          ],
          [
           525,
           "article",
           "technology",
           "Natasha Lomas",
           "TechCrunch"
          ],
          [
           526,
           "article",
           "technology",
           "Brian Heater",
           "TechCrunch"
          ],
          [
           527,
           "article",
           "technology",
           "Eric Ravenscraft",
           "Wired"
          ],
          [
           528,
           "article",
           "technology",
           "Brian Heater",
           "TechCrunch"
          ],
          [
           529,
           "article",
           "business",
           "Michael R. Sisak, The Associated Press",
           "Fortune"
          ],
          [
           530,
           "article",
           "business",
           "Tom Maloney",
           "The Age"
          ],
          [
           531,
           "article",
           "sports",
           "The New York Times",
           "The New York Times"
          ],
          [
           532,
           "article",
           "business",
           "zee business",
           "Zee Business"
          ],
          [
           533,
           "article",
           "entertainment",
           "Ryan Gilliam",
           "Polygon"
          ],
          [
           534,
           "article",
           "sports",
           "Kyle Bonn",
           "Sporting News"
          ],
          [
           535,
           "article",
           "sports",
           "Kyle Bonn",
           "Sporting News"
          ],
          [
           536,
           "article",
           "business",
           "unknown",
           "Cnbc | World Business News Leader"
          ],
          [
           537,
           "article",
           "technology",
           "Kirsten Korosec",
           "TechCrunch"
          ],
          [
           538,
           "article",
           "sports",
           "Luke Baker",
           "The Independent - Sports"
          ],
          [
           539,
           "article",
           "technology",
           "Nilay Patel",
           "The Verge"
          ],
          [
           540,
           "article",
           "technology",
           "Sarah Perez",
           "TechCrunch"
          ],
          [
           541,
           "article",
           "sports",
           "Mike Meehall Wood",
           "The Roar | Sports Writers Blog"
          ],
          [
           542,
           "article",
           "sports",
           "Andy Hunter",
           "The Guardian"
          ],
          [
           543,
           "article",
           "entertainment",
           "unknown",
           "BBC News - Entertainment & Arts"
          ],
          [
           544,
           "article",
           "sports",
           "Sloan Piva",
           "Sporting News"
          ],
          [
           545,
           "article",
           "entertainment",
           "Patricia Hernandez",
           "Polygon"
          ],
          [
           546,
           "article",
           "sports",
           "Simon Peach",
           "The Independent - Sports"
          ],
          [
           547,
           "article",
           "technology",
           "Harri Weber",
           "TechCrunch"
          ],
          [
           548,
           "article",
           "technology",
           "Andrew J. Hawkins",
           "The Verge"
          ],
          [
           549,
           "article",
           "technology",
           "Taylor Hatmaker",
           "TechCrunch"
          ],
          [
           550,
           "article",
           "entertainment",
           "Kazuma Hashimoto",
           "Polygon"
          ],
          [
           551,
           "article",
           "technology",
           "Morgan Sung",
           "TechCrunch"
          ],
          [
           552,
           "article",
           "sports",
           "Matt Lutovsky",
           "Sporting News"
          ],
          [
           553,
           "article",
           "sports",
           "Nick Musial",
           "Sporting News"
          ],
          [
           554,
           "article",
           "sports",
           "Sam Eggleston",
           "Sporting News"
          ],
          [
           555,
           "article",
           "entertainment",
           "Chris Wilson",
           "The Independent - Travel"
          ],
          [
           556,
           "article",
           "science",
           "unknown",
           "Live Science: The Most Interesting Articles"
          ],
          [
           557,
           "article",
           "business",
           "Trina Paul",
           "Fortune"
          ],
          [
           558,
           "article",
           "entertainment",
           "unknown",
           "Mashable"
          ],
          [
           559,
           "article",
           "entertainment",
           "Kaleigh Werner",
           "The Independent - Life and Style"
          ],
          [
           560,
           "article",
           "entertainment",
           "Michael Idato",
           "The Sydney Morning Herald"
          ],
          [
           561,
           "article",
           "sports",
           "News",
           "The Roar | Sports Writers Blog"
          ],
          [
           562,
           "article",
           "entertainment",
           "unknown",
           "FOX News - Lifestyle"
          ],
          [
           563,
           "article",
           "entertainment",
           "Toussaint Egan",
           "Polygon"
          ],
          [
           564,
           "article",
           "technology",
           "Natasha Lomas",
           "TechCrunch"
          ],
          [
           565,
           "article",
           "science",
           "unknown",
           "Yahoo News"
          ],
          [
           566,
           "article",
           "science",
           "unknown",
           "Live Science: The Most Interesting Articles"
          ],
          [
           567,
           "article",
           "technology",
           "Engadget",
           "Engadget"
          ],
          [
           568,
           "article",
           "sports",
           "Emily Dozier",
           "Sporting News"
          ],
          [
           569,
           "article",
           "entertainment",
           "unknown",
           "FOX News - Lifestyle"
          ],
          [
           570,
           "article",
           "entertainment",
           "unknown",
           "FOX News - Lifestyle"
          ],
          [
           571,
           "article",
           "sports",
           "unknown",
           "Sky Sports"
          ],
          [
           572,
           "article",
           "entertainment",
           "Chris Wilson",
           "The Independent - Travel"
          ],
          [
           573,
           "article",
           "entertainment",
           "Natalie Wilson",
           "The Independent - Travel"
          ],
          [
           574,
           "article",
           "entertainment",
           "Cameron Faulkner",
           "Polygon"
          ],
          [
           575,
           "article",
           "technology",
           "Barbara Krasnoff",
           "The Verge"
          ],
          [
           576,
           "article",
           "technology",
           "Brenda Stolyar",
           "Wired"
          ],
          [
           577,
           "article",
           "sports",
           "Brent Brookhouse",
           "CBSSports.com"
          ],
          [
           578,
           "article",
           "entertainment",
           "Richard Jinman",
           "The Sydney Morning Herald"
          ],
          [
           579,
           "article",
           "entertainment",
           "Barry Divola",
           "The Age"
          ],
          [
           580,
           "article",
           "technology",
           "Ingrid Lunden",
           "TechCrunch"
          ],
          [
           581,
           "article",
           "business",
           "unknown",
           "Seeking Alpha"
          ],
          [
           582,
           "article",
           "entertainment",
           "Jason Steger",
           "The Sydney Morning Herald"
          ],
          [
           583,
           "article",
           "sports",
           "Nick Brinkerhoff",
           "Sporting News"
          ],
          [
           584,
           "article",
           "technology",
           "Sheena Vasani",
           "The Verge"
          ],
          [
           585,
           "article",
           "sports",
           "Christaline Meyers",
           "Essentially Sports"
          ],
          [
           586,
           "article",
           "entertainment",
           "Susana Polo",
           "Polygon"
          ],
          [
           587,
           "article",
           "entertainment",
           "Matt Patches",
           "Polygon"
          ],
          [
           588,
           "article",
           "sports",
           "Kyle Bonn",
           "Sporting News"
          ],
          [
           589,
           "article",
           "sports",
           "Sam Eggleston",
           "Sporting News"
          ],
          [
           590,
           "article",
           "health",
           "unknown",
           "FOX News - Health"
          ],
          [
           591,
           "article",
           "entertainment",
           "Charlie Hall",
           "Polygon"
          ],
          [
           592,
           "article",
           "entertainment",
           "Cass Marshall",
           "Polygon"
          ],
          [
           593,
           "article",
           "technology",
           "Sarah Perez",
           "TechCrunch"
          ],
          [
           594,
           "article",
           "health",
           "unknown",
           "FOX News - Health"
          ],
          [
           595,
           "article",
           "technology",
           "Jeff Dunn",
           "Engadget"
          ],
          [
           596,
           "article",
           "entertainment",
           "unknown",
           "FOX News - Lifestyle"
          ],
          [
           597,
           "article",
           "entertainment",
           "Toussaint Egan",
           "Polygon"
          ],
          [
           598,
           "article",
           "technology",
           "Mike Butcher",
           "TechCrunch"
          ],
          [
           599,
           "article",
           "technology",
           "Carrie Andrews",
           "TechCrunch"
          ],
          [
           600,
           "article",
           "technology",
           "Brenda Stolyar",
           "Wired"
          ],
          [
           601,
           "article",
           "business",
           "unknown",
           "Business Line"
          ],
          [
           602,
           "article",
           "technology",
           "Justine Calma",
           "The Verge"
          ],
          [
           603,
           "article",
           "technology",
           "Natasha Lomas",
           "TechCrunch"
          ],
          [
           604,
           "article",
           "science",
           "unknown",
           "Live Science: The Most Interesting Articles"
          ],
          [
           605,
           "article",
           "entertainment",
           "Annabel Streets",
           "The Guardian"
          ],
          [
           606,
           "article",
           "entertainment",
           "Chris Plante",
           "Polygon"
          ],
          [
           607,
           "article",
           "technology",
           "David Pierce",
           "The Verge"
          ],
          [
           608,
           "article",
           "technology",
           "Natasha Lomas",
           "TechCrunch"
          ]
         ],
         "hovertemplate": "node_type=%{customdata[1]}<br>x=%{x}<br>y=%{y}<br>node_id=%{customdata[0]}<br>category=%{customdata[2]}<br>author=%{customdata[3]}<br>source=%{customdata[4]}<extra></extra>",
         "legendgroup": "article",
         "marker": {
          "color": "blue",
          "symbol": "circle"
         },
         "mode": "markers",
         "name": "article",
         "showlegend": true,
         "type": "scattergl",
         "x": [
          0.8019085,
          -0.17293726,
          0.66107094,
          -1.2810878,
          -0.775817,
          -1.1457931,
          -1.1038321,
          -0.30417028,
          -0.3680467,
          0.3221326,
          -0.098885335,
          0.6114136,
          -1.3231206,
          -0.84752786,
          0.5548173,
          0.7236937,
          0.14953656,
          0.10514181,
          0.23616175,
          0.4448635,
          -0.14863005,
          -0.4868478,
          -1.2353632,
          -0.9665318,
          0.5473517,
          0.24729171,
          0.22348598,
          0.5641442,
          -0.20672049,
          -0.20833258,
          0.32321072,
          -0.06186602,
          0.6945764,
          0.18481469,
          -0.60646635,
          -0.64747256,
          0.33005407,
          -0.605438,
          0.21926802,
          0.0722722,
          -1.3796021,
          -0.93280053,
          0.6592101,
          0.58251464,
          -1.2804195,
          -0.42760608,
          0.42872903,
          0.60856825,
          0.5770474,
          0.5178138,
          0.43688977,
          0.34082308,
          0.87406105,
          0.040129084,
          0.5384663,
          0.05338951,
          -0.7901941,
          -0.48802954,
          -0.5552945,
          -0.18110137,
          -0.49115607,
          -0.89261174,
          -0.52070856,
          -0.4575868,
          -0.3225704,
          0.29654416,
          0.80035204,
          0.37508723,
          0.8116536,
          0.59374064,
          0.44284272,
          -0.91013145,
          -0.26089057,
          0.017859379,
          -0.4344156,
          0.43877837,
          0.29311812,
          -0.082214735,
          0.3371286,
          -0.7460013,
          -0.4913466,
          0.7528153,
          0.76226175,
          0.49741322,
          0.53948444,
          0.34112057,
          0.1253115,
          -0.29251754,
          -0.5528353,
          -1.22541,
          0.4591083,
          1.0041293,
          -0.8567934,
          -1.7687168,
          0.25380227,
          0.64814174,
          0.6550439,
          -0.29520768,
          -0.2399059,
          0.64810663,
          -0.6603351,
          -1.5908924,
          -0.4448577,
          -1.3262128,
          0.68095535,
          -1.9302121,
          0.47953886,
          0.004966538,
          -0.6030791,
          -1.1007013,
          -1.1995124,
          0.031904034,
          -0.2333272,
          -1.4090503,
          -0.9359373,
          0.48528653,
          0.020883873,
          -0.016761115,
          -0.74079126,
          -0.88750136,
          -0.6380881,
          0.39271972,
          -0.047553472,
          0.0925805,
          0.60367346,
          0.8075286,
          0.12464917,
          0.4883478,
          0.3987185,
          -0.7049442,
          0.13563788,
          0.09993357,
          -0.75389963,
          -0.5131529,
          -0.4509366,
          0.72922456,
          -0.021467123,
          -0.53129214,
          0.53122395,
          0.42323485,
          -0.05720103,
          0.13085051,
          -1.3825691,
          -0.5354132,
          -0.72850424,
          -1.1619513,
          -0.7642853,
          -0.30801514,
          -0.0047627343,
          -0.3547309,
          -0.6930485,
          -1.3436223,
          -1.4031774,
          0.6318312,
          0.2528021,
          -1.3643839,
          -0.36529705,
          -0.45013517,
          0.30681095,
          0.19680612,
          0.020759137,
          0.6345614,
          0.5072738,
          0.30969253,
          0.4232973,
          0.28589448,
          -1.1926886,
          -1.5676763,
          -1.0483943,
          0.40268847,
          0.3965892,
          0.44714433,
          -1.0696663,
          0.8765545,
          -0.69040585,
          0.1016238,
          -0.89731437,
          -0.00087881956,
          -0.21220611,
          -0.46379772,
          -0.2091696,
          0.716763,
          0.084673464,
          -0.47393513,
          -1.3445966,
          0.19329694,
          -0.5379031,
          -0.6121736,
          0.49922225,
          0.685282,
          0.47215402,
          0.6218578,
          0.2383616,
          -0.13572177,
          1.9432685,
          0.22869623,
          0.41537544,
          -0.88210636,
          -0.8863534,
          0.5933815,
          -0.9564173,
          -0.8508578,
          -0.64541304,
          -0.5570105,
          -1.351477,
          0.73741144,
          -0.87972575,
          -0.67924947,
          -0.5186,
          -0.14782524,
          -1.452134,
          0.19830896,
          0.39528567,
          0.21783979,
          0.7778094,
          1.7427272,
          1.0186912,
          0.2871553,
          0.41894853,
          -1.6018276,
          -0.2490723,
          0.13583308,
          0.5939969,
          -0.5685606,
          -0.41266486,
          -0.5237817,
          0.4410982,
          2.2927666,
          0.08825318,
          0.46780804,
          0.25489506,
          -1.2001,
          -0.52624905,
          0.3369491,
          0.5483572,
          0.5781697,
          0.27278996,
          0.7007282,
          0.71866894,
          0.571831,
          -0.71007544,
          0.85548884,
          -0.6634927,
          0.3195166,
          -0.42791262,
          -0.20978177,
          -0.99254763,
          0.29795402,
          0.36379167,
          -1.3202325,
          0.6819909,
          0.6360769,
          1.0212282,
          0.7883886,
          -0.32869738,
          1.054531,
          0.60841215,
          0.21854213,
          -1.432044,
          -1.1525162,
          -2.2735982,
          0.6698475,
          -0.07730383,
          0.3228637,
          -0.55734557,
          0.018427558,
          1.8174835,
          0.594351,
          0.70965695,
          -0.1956243,
          0.41333005,
          0.34106147,
          0.15109429,
          -0.57590085,
          -0.8402684,
          -0.8478311,
          -0.6514323,
          -1.6282827,
          1.0400974,
          -0.2628107,
          -0.22577925,
          -1.2407155,
          -0.6994062,
          0.34941784,
          1.2824476,
          0.6266351,
          0.36016002,
          0.24635084,
          -1.3649633,
          -0.5841106,
          -0.5327235,
          0.47230864,
          0.8022333,
          0.303557,
          -0.6586033,
          -0.4349107,
          -1.1668156,
          -0.08341122,
          -0.25769937,
          0.73599,
          -1.7169027,
          0.82576287,
          -2.346487,
          0.3283991,
          0.21698545,
          0.5578031,
          0.9876864,
          -0.23363839,
          0.25300762,
          0.58566344,
          0.44330987,
          -0.70157814,
          0.23606813,
          0.31392434,
          -1.2754072,
          -0.81236213,
          -0.4371689,
          -1.1536683,
          0.054859117,
          0.77434146,
          0.5683376,
          -0.051833916,
          0.061427154,
          0.8235664,
          -0.39358535,
          0.19090416,
          1.407589,
          0.251176,
          -0.22501831,
          0.50446695,
          -1.1524284,
          -0.62148684,
          0.8837113,
          0.5219405,
          0.56536514,
          0.102611184,
          0.6589273,
          -0.003044087,
          0.64834034,
          0.322714,
          -1.4067768,
          -0.8006591,
          -0.1961184,
          -0.731067,
          -0.9574842,
          0.42758852,
          0.27610752,
          -0.19501269,
          -0.34685528,
          -0.71041775,
          0.24395075,
          0.5697512,
          -1.5461265,
          -0.99959415,
          0.48795468,
          0.53731084,
          -0.38036004,
          -0.18595895,
          0.3626711,
          -0.61226314,
          0.17191109,
          0.31766623,
          -1.256438,
          1.210521,
          0.46871918,
          0.20846382,
          -1.0698918,
          0.5792434,
          -0.864822,
          1.0370151,
          -0.9314671,
          -0.7971219,
          -0.109354235,
          0.44016016,
          0.10406699,
          0.8239724,
          -1.2987949,
          -0.5658982,
          -0.42429,
          -1.3526771,
          0.57238,
          0.53660053,
          0.4596365,
          0.4590122,
          0.43973285,
          0.43731433,
          -1.7308213,
          0.45019233,
          0.0053696535,
          0.32261133,
          0.6078842,
          -0.08350039,
          0.35761306,
          0.48205155,
          -1.2127479,
          -2.0412557,
          0.7003838,
          0.024291934,
          -0.0018775171,
          -0.4100546,
          -0.6183094,
          -0.15478201,
          0.10130507,
          0.95449686,
          0.7922826,
          0.5662631,
          -0.46710375,
          -1.0227741,
          -0.42460588,
          -2.5464485,
          0.33443534,
          -1.0201077,
          -0.6181021,
          0.3385991,
          -2.1358764,
          0.26979753,
          -0.51791805,
          0.6316393,
          0.5654551,
          -0.12683313,
          0.14451285,
          0.50293154,
          -0.7562813,
          -1.2975454,
          0.69173497,
          -1.1059859,
          -0.7224175,
          1.0931717,
          -0.028465476,
          -1.199103,
          0.30071875,
          0.6861884,
          -1.169674,
          -0.8912764,
          0.2824602,
          0.12751679,
          0.5095897,
          -1.2486535,
          -1.4347813,
          -0.54687786,
          -0.60742104,
          -1.0495584,
          0.5003811,
          -0.7357115,
          -0.31074858,
          -1.1513532,
          -0.49922138,
          -1.227416,
          0.5878287,
          -0.98801666,
          0.08473301,
          -0.6735621,
          0.033511102,
          -0.14754964,
          1.4183267,
          0.23512775,
          0.3455395,
          0.25911608,
          0.318564,
          0.64621365,
          0.27956244,
          -0.1256323,
          -0.19766192,
          0.5114702,
          0.7490774,
          0.6161461,
          0.45485952,
          0.23250021,
          0.38285583,
          -0.13494264,
          1.0186416,
          0.37573975,
          0.033024427,
          1.0386289,
          -1.1863315,
          -1.4094454,
          -1.3116544,
          0.06417551,
          -0.9644539,
          1.7279742,
          -0.8650299,
          -0.76492554,
          -1.5611535,
          -0.46213856,
          -0.4874514,
          -0.54733616,
          0.47671822,
          -0.4654574,
          0.05041832,
          -0.641272,
          -0.719346,
          0.9541839,
          -0.6865499,
          -0.8618197,
          -0.6308161,
          -0.6023932,
          0.6496272,
          -0.9773221,
          1.1355072,
          -0.3566895,
          -0.6740512,
          1.2846754,
          -0.012623469,
          0.7407035,
          -0.4065644,
          0.1531842,
          0.6432236,
          0.20333584,
          0.57143354,
          -0.2295416,
          0.4104359,
          0.53222346,
          -0.83343554,
          1.6886319,
          0.61145204,
          -1.3381656,
          0.5549483,
          0.03475646,
          0.6889648,
          0.5743646,
          0.5933108,
          1.0813628,
          -0.97877187,
          0.37128064,
          0.12439373,
          0.8295058,
          0.587896,
          0.6561066,
          0.4355513,
          -0.34253308,
          0.5175793,
          -1.0922909,
          0.8192973,
          -0.24052534,
          -0.438244,
          -0.3302025,
          0.37593916,
          0.4627509,
          -0.6694097,
          0.42640486,
          0.7155421,
          -1.7224514,
          -1.2365321,
          -0.782385,
          -1.4925511,
          -0.11909236,
          -1.6728387,
          0.6869211,
          0.60195065,
          0.26210532,
          0.114459135,
          0.28444478,
          -1.2607564,
          -0.6356003,
          -0.8241385,
          0.31908205,
          1.0458794,
          1.1301616,
          0.60255903,
          -0.61747247,
          0.31978613,
          -0.8804441,
          -0.1553167,
          0.36271885,
          0.61743706,
          0.7860266,
          0.20494214,
          0.47017524,
          -1.1389885,
          -0.4023852,
          0.6185242,
          -1.186918,
          0.27716553,
          1.1021293,
          0.68965286,
          0.49808475,
          0.64080036,
          -1.4485117,
          0.095649295,
          0.34459543,
          -0.062333725,
          0.59287333,
          -0.062291615,
          -1.2465062,
          0.87922555,
          0.20953076,
          0.2829441,
          0.6166714,
          -0.78477186,
          -0.90370953,
          0.119817965,
          0.15833804,
          0.32190263,
          0.2838478,
          -0.23855492,
          0.94975734,
          0.28112146,
          0.24898955,
          0.40177205,
          -0.063310415,
          0.7314287,
          0.10807983,
          -0.14097607,
          0.13773564,
          -0.13165674,
          -0.18723029,
          -0.08891211,
          0.49296075,
          0.90960985
         ],
         "xaxis": "x",
         "y": [
          -1.7219554,
          -1.7401764,
          0.09763867,
          -0.6513279,
          0.14800921,
          -0.6576068,
          -0.70050806,
          1.0006851,
          0.49004263,
          1.7500409,
          -1.4415071,
          -0.22011521,
          -1.2177794,
          -1.4009777,
          0.8597173,
          0.29940492,
          0.23060982,
          1.2703446,
          1.3628826,
          -0.46888164,
          -1.1664815,
          -0.9960592,
          -0.29480246,
          -0.9833393,
          -0.24033396,
          -0.9785535,
          -1.0316169,
          -0.51880866,
          -1.1940589,
          -1.4510536,
          1.0156608,
          -1.3492129,
          -0.12754957,
          -1.3052069,
          0.31051424,
          0.19577286,
          0.85697645,
          0.84282476,
          -1.5197927,
          -1.2569969,
          -0.5433918,
          -0.2154517,
          0.456493,
          0.8719956,
          -1.8041075,
          -1.3018018,
          -0.40553015,
          0.87920725,
          0.8925444,
          -0.15995272,
          -0.062278003,
          -0.121114984,
          -0.8954299,
          -0.32375094,
          0.9737204,
          -0.07240059,
          0.14945503,
          0.53277624,
          0.20846744,
          0.21316034,
          0.86790663,
          -0.6369011,
          0.83068657,
          0.99845845,
          0.9759664,
          1.7562684,
          1.1102736,
          1.1416694,
          -0.44223773,
          -1.2960246,
          1.5116329,
          -0.77557045,
          0.51978374,
          -1.2951536,
          -1.8489386,
          0.4106396,
          0.13786693,
          0.3196611,
          0.2507316,
          -0.79396904,
          1.1525398,
          -0.7533215,
          -2.2986424,
          -0.2019421,
          -0.7182458,
          -0.38276526,
          -1.0028293,
          -1.8422517,
          0.515521,
          -1.3463024,
          -0.18485282,
          -0.5287099,
          -1.3479073,
          -1.181323,
          0.55142784,
          -1.7534521,
          0.3962572,
          -1.254604,
          -1.6729052,
          -0.6242841,
          0.42782182,
          -1.0102626,
          0.27915442,
          -0.7720483,
          0.7323157,
          -0.6791703,
          0.5280415,
          -1.3348358,
          -0.48012927,
          -1.0919238,
          -0.95060164,
          -1.8558892,
          -1.3595097,
          -0.79884326,
          -0.331944,
          0.6294435,
          -1.1284256,
          -1.1942263,
          -0.4292996,
          -0.101762325,
          -0.112968825,
          0.87270844,
          -0.6729115,
          1.4166427,
          -0.09983666,
          0.38711187,
          -1.0393084,
          0.15208995,
          -1.4177908,
          1.0729096,
          -0.20107526,
          -1.4006729,
          -0.10963656,
          1.2077429,
          -1.0364225,
          0.2893351,
          -0.6409015,
          -0.7977819,
          0.93497396,
          0.532594,
          -1.4132781,
          -1.3953217,
          -0.92914987,
          0.8822814,
          -0.08082612,
          -0.8503582,
          0.09416907,
          -1.0351484,
          -1.1721171,
          0.64137095,
          0.7575214,
          -0.8174547,
          -0.8041533,
          -0.15310271,
          1.0736496,
          -1.1581695,
          -1.3508815,
          0.80825055,
          1.2745615,
          1.4732811,
          -1.4490861,
          0.117553495,
          0.98520416,
          -0.24605651,
          -0.33401665,
          0.89789796,
          -1.1548768,
          -0.2290444,
          -0.9840887,
          -0.34662774,
          0.06677934,
          1.3670762,
          -0.91738,
          -0.41762164,
          -1.0548575,
          -1.0239724,
          -0.34712908,
          -0.28397548,
          -1.1105354,
          0.8605269,
          0.57472944,
          -0.698612,
          -1.3677977,
          0.91469836,
          -0.9017468,
          0.030427754,
          -1.047108,
          1.2899158,
          -0.592862,
          1.4027313,
          0.948236,
          0.94810325,
          1.0798175,
          -1.0274497,
          -0.58865345,
          -1.3998787,
          -0.15007633,
          0.07357099,
          0.13507226,
          0.79857486,
          -0.064622425,
          -0.33361936,
          -0.4824561,
          -1.1058378,
          -1.1909516,
          -0.3756311,
          -1.2723131,
          -0.19250849,
          0.5704915,
          0.9909833,
          -1.1109296,
          -1.0457976,
          -0.67023164,
          -0.1319367,
          -2.1594062,
          -1.3487338,
          1.0621233,
          -0.5022246,
          1.04224,
          -1.2869133,
          1.048759,
          -0.8035158,
          0.31825247,
          -1.9304917,
          0.92785877,
          0.95547414,
          0.37531933,
          -1.0978838,
          1.1648486,
          0.36666238,
          -0.2907201,
          -0.99622023,
          0.37958866,
          -0.87391,
          -0.033156015,
          0.15004537,
          0.36328068,
          0.79517174,
          0.23585905,
          0.49654412,
          -0.36089864,
          -0.47859943,
          -0.99017596,
          -0.80297315,
          0.40353507,
          0.38363066,
          -0.42315578,
          -0.7426841,
          -0.27772924,
          -0.9375112,
          0.5443956,
          -1.8284332,
          0.1892827,
          -0.5346482,
          -1.0843326,
          -0.55231476,
          -0.58608216,
          -0.07531963,
          -0.9550152,
          -0.6967819,
          -0.9789838,
          -2.3873243,
          -1.0528704,
          -0.32107055,
          0.7944909,
          -0.10485297,
          -2.1221056,
          1.0662245,
          -0.43150952,
          -1.175904,
          1.229933,
          -0.33043864,
          -1.187794,
          -0.28654954,
          -1.1834351,
          -0.1812693,
          0.80050415,
          -0.80438375,
          -1.1754732,
          -1.0557249,
          -1.1876591,
          -0.82198817,
          -0.4186206,
          0.23965576,
          -0.30447707,
          -1.7610403,
          -1.2185211,
          -1.6863731,
          -0.5452029,
          -0.6438862,
          0.80335075,
          -0.13081102,
          -2.1569793,
          1.34341,
          0.28039795,
          -1.1721847,
          -0.61466074,
          1.0098884,
          -1.3737348,
          0.6157314,
          -0.8498823,
          -0.6707245,
          0.43373054,
          1.157204,
          -0.32696995,
          0.40177798,
          -0.3625488,
          0.40818992,
          -0.97448665,
          1.6338141,
          0.25360507,
          0.20254867,
          -1.7777483,
          -0.09452181,
          -0.009889882,
          -0.5894477,
          0.66550577,
          -0.2821462,
          -1.1813262,
          -0.30385426,
          0.20528136,
          -1.4965008,
          0.24440649,
          -2.677361,
          -1.1806421,
          -0.2879316,
          0.2614823,
          0.6874603,
          1.174568,
          -1.837556,
          -1.1493386,
          0.84282684,
          -1.2539068,
          0.9829172,
          0.59810084,
          -1.1984484,
          -0.19176911,
          -1.6010966,
          0.39025345,
          -0.10802692,
          -1.3481812,
          -1.038827,
          1.0400333,
          0.7694105,
          -0.85507786,
          1.1038662,
          0.14574757,
          -1.3787717,
          -0.9560154,
          -1.0688634,
          -0.1924071,
          -1.6071186,
          -1.1923333,
          -0.7433191,
          0.79783785,
          0.07627945,
          0.93222475,
          -1.2872015,
          1.3506668,
          -0.49599177,
          2.1505961,
          -1.6913987,
          -0.7030816,
          0.30635643,
          0.7696543,
          -0.22934538,
          -1.2070265,
          0.97405547,
          -0.27431098,
          0.16640313,
          -1.1586863,
          -0.9697788,
          -1.5183312,
          -1.6630557,
          -1.121681,
          1.0967757,
          -0.689619,
          -1.8582946,
          0.207852,
          -0.28079444,
          0.9665139,
          0.92250276,
          0.6179688,
          -0.022895478,
          -1.6666104,
          0.90010756,
          -0.6961506,
          -1.9408654,
          -0.9872308,
          1.1568427,
          1.1937106,
          -1.2046797,
          -0.57851744,
          -0.31183872,
          -0.5525948,
          -1.2502601,
          1.0476288,
          -1.805166,
          -1.3568002,
          -0.69190705,
          1.3729932,
          -1.4094257,
          -1.3697547,
          0.023986438,
          -0.023586003,
          -0.49686697,
          0.18446974,
          -1.0614767,
          0.5383012,
          -0.7755748,
          -0.95644784,
          -0.9189795,
          2.0631938,
          0.60077995,
          -1.2779917,
          -0.42584667,
          -0.29961807,
          0.23722064,
          0.20268145,
          -1.8154035,
          -1.1842676,
          -1.7613723,
          -0.44413862,
          -0.9535515,
          0.26653707,
          -1.0589936,
          1.2414519,
          0.25041044,
          0.46200487,
          -1.0211449,
          -1.8782196,
          0.701752,
          -0.515466,
          0.1910795,
          1.2377497,
          1.2091042,
          -0.17111273,
          -0.7185928,
          -0.81978077,
          0.5992387,
          -0.9326251,
          -0.8314736,
          1.3691443,
          -1.0784315,
          0.9615719,
          -0.99497247,
          -0.19197834,
          -0.51843005,
          1.0381068,
          -0.20038222,
          -1.3137742,
          -0.59195334,
          -0.24529907,
          -0.8767491,
          -0.6835398,
          -0.44359192,
          1.0323384,
          -0.30820128,
          -1.5018619,
          1.3637149,
          -0.13622019,
          -1.0545433,
          -1.151596,
          1.0485415,
          0.9354723,
          1.0089223,
          1.1795222,
          -1.6801628,
          0.32276788,
          -1.1522083,
          1.0027747,
          -0.56120753,
          -1.1055787,
          -0.49303797,
          -0.74146473,
          -0.6333305,
          -0.955148,
          -0.99806416,
          -0.0099722175,
          -1.314133,
          -0.9047949,
          -1.1110437,
          -0.54335624,
          0.9185133,
          0.92062515,
          -1.9346136,
          0.5493204,
          -0.079587415,
          -1.2042192,
          0.5257423,
          -0.9194732,
          -0.47844604,
          -1.0070128,
          -1.1757804,
          0.55607253,
          -0.088633135,
          0.8140335,
          -0.115187235,
          -1.2533363,
          -0.82246417,
          0.07628754,
          -2.0988948,
          -1.2859405,
          0.894769,
          0.9196677,
          -1.8238919,
          1.021415,
          -1.1542436,
          0.43539017,
          -1.3554608,
          -1.5667294,
          0.9321458,
          -0.43520376,
          0.30884287,
          0.2992118,
          -0.66933006,
          0.9669142,
          -1.0464509,
          0.57022315,
          -1.4068782,
          0.17825873,
          0.6463741,
          -0.8893939,
          1.1010419,
          -1.3130705,
          -0.3274631,
          0.41802448,
          -1.4382986,
          0.47578353,
          -1.7852545,
          1.2954656,
          -0.7213644,
          -0.21436167,
          -0.8960747,
          0.9757081,
          1.2487662,
          0.3431858,
          0.24389201,
          0.029343393,
          0.8288043,
          0.86391705,
          -1.2901263,
          -1.3060665,
          -1.4363691,
          -0.6787965,
          -0.8821281,
          -1.5746199,
          -0.35292444,
          1.1499296,
          -0.3652713,
          -1.3396589,
          0.09109619,
          -0.53069067,
          0.7878309,
          -0.23754784,
          2.1433578,
          -0.105561405,
          1.1594093,
          -0.22889234,
          -0.9668338,
          1.3462957,
          -0.8225575,
          -0.8805002,
          0.22100289,
          1.0408368,
          -0.42360508,
          -0.39491975,
          -0.49747556,
          0.030763386,
          -1.1209629,
          -0.41415536,
          -1.0094303,
          1.4746133,
          -0.29449117,
          -1.8584999,
          0.9267036,
          0.011896235,
          -1.5231316,
          -0.9288075,
          1.0477078,
          -1.2554607,
          -0.44685543,
          -0.99170786,
          -0.5037532,
          0.7880452,
          1.2706596,
          0.84133554,
          0.00045225507,
          0.04916322,
          -0.17137581,
          -1.1144791,
          0.7485978,
          -0.009405734,
          0.30027485,
          -0.9381159,
          0.72699547,
          1.3109778,
          0.31973046,
          -0.4966964,
          -1.705125,
          0.14514497,
          -0.7764663,
          -1.6238513,
          -0.96656626,
          -1.0548841,
          -1.2014786,
          -0.27898532,
          1.0084559,
          1.061935
         ],
         "yaxis": "y"
        },
        {
         "customdata": [
          [
           "unknown",
           "author",
           "unknown",
           "unknown",
           "unknown"
          ],
          [
           "Stan Choe",
           "author",
           "unknown",
           "unknown",
           "unknown"
          ],
          [
           "Colum Dell, Yardbarker",
           "author",
           "unknown",
           "unknown",
           "unknown"
          ],
          [
           "Yardbarker",
           "author",
           "unknown",
           "unknown",
           "unknown"
          ],
          [
           "Dan Treacy",
           "author",
           "unknown",
           "unknown",
           "unknown"
          ],
          [
           "Ian Valentino",
           "author",
           "unknown",
           "unknown",
           "unknown"
          ],
          [
           "Rob Miech",
           "author",
           "unknown",
           "unknown",
           "unknown"
          ],
          [
           "Arunima Bhanot",
           "author",
           "unknown",
           "unknown",
           "unknown"
          ],
          [
           "Morgan Little",
           "author",
           "unknown",
           "unknown",
           "unknown"
          ],
          [
           "Jacquelyn Melinek",
           "author",
           "unknown",
           "unknown",
           "unknown"
          ],
          [
           "Kyle Wiggers",
           "author",
           "unknown",
           "unknown",
           "unknown"
          ],
          [
           "Robert Calcutt",
           "author",
           "unknown",
           "unknown",
           "unknown"
          ],
          [
           "Will Unwin",
           "author",
           "unknown",
           "unknown",
           "unknown"
          ],
          [
           "David Pierce",
           "author",
           "unknown",
           "unknown",
           "unknown"
          ],
          [
           "Rebecca Bellan",
           "author",
           "unknown",
           "unknown",
           "unknown"
          ],
          [
           "Jeffrey Parkin",
           "author",
           "unknown",
           "unknown",
           "unknown"
          ],
          [
           "Johnny Yu",
           "author",
           "unknown",
           "unknown",
           "unknown"
          ],
          [
           "Laura Hampson and Meredith Clark",
           "author",
           "unknown",
           "unknown",
           "unknown"
          ],
          [
           "Dilvin Yasa",
           "author",
           "unknown",
           "unknown",
           "unknown"
          ],
          [
           "Amber Raiken",
           "author",
           "unknown",
           "unknown",
           "unknown"
          ],
          [
           "Christy Doran",
           "author",
           "unknown",
           "unknown",
           "unknown"
          ],
          [
           "Catherine Shu",
           "author",
           "unknown",
           "unknown",
           "unknown"
          ],
          [
           "Natasha Lomas",
           "author",
           "unknown",
           "unknown",
           "unknown"
          ],
          [
           "Sarah Perez",
           "author",
           "unknown",
           "unknown",
           "unknown"
          ],
          [
           "Cade Metz, Karen Weise, Nico Grant and Mike Isaac",
           "author",
           "unknown",
           "unknown",
           "unknown"
          ],
          [
           "Ingrid Lunden",
           "author",
           "unknown",
           "unknown",
           "unknown"
          ],
          [
           "Ben Weiss",
           "author",
           "unknown",
           "unknown",
           "unknown"
          ],
          [
           "Tim Biggs",
           "author",
           "unknown",
           "unknown",
           "unknown"
          ],
          [
           "David Suggs",
           "author",
           "unknown",
           "unknown",
           "unknown"
          ],
          [
           "Bryan Murphy",
           "author",
           "unknown",
           "unknown",
           "unknown"
          ],
          [
           "Kyle Irving",
           "author",
           "unknown",
           "unknown",
           "unknown"
          ],
          [
           "Romain Dillet",
           "author",
           "unknown",
           "unknown",
           "unknown"
          ],
          [
           "Vinnie Iyer",
           "author",
           "unknown",
           "unknown",
           "unknown"
          ],
          [
           "Kyle Bonn",
           "author",
           "unknown",
           "unknown",
           "unknown"
          ],
          [
           "Haje Jan Kamps",
           "author",
           "unknown",
           "unknown",
           "unknown"
          ],
          [
           "Nell Geraets",
           "author",
           "unknown",
           "unknown",
           "unknown"
          ],
          [
           "Chelsea Ritschel",
           "author",
           "unknown",
           "unknown",
           "unknown"
          ],
          [
           "Alyssa Stringer",
           "author",
           "unknown",
           "unknown",
           "unknown"
          ],
          [
           "Jessica Conditt",
           "author",
           "unknown",
           "unknown",
           "unknown"
          ],
          [
           "Engadget",
           "author",
           "unknown",
           "unknown",
           "unknown"
          ],
          [
           "Laura Snapes",
           "author",
           "unknown",
           "unknown",
           "unknown"
          ],
          [
           "Elizabeth Lopatto",
           "author",
           "unknown",
           "unknown",
           "unknown"
          ],
          [
           "Paul Sawers",
           "author",
           "unknown",
           "unknown",
           "unknown"
          ],
          [
           "Pete Volk",
           "author",
           "unknown",
           "unknown",
           "unknown"
          ],
          [
           "Nick Brinkerhoff",
           "author",
           "unknown",
           "unknown",
           "unknown"
          ],
          [
           "Dave Richard",
           "author",
           "unknown",
           "unknown",
           "unknown"
          ],
          [
           "Shanna McCarriston",
           "author",
           "unknown",
           "unknown",
           "unknown"
          ],
          [
           "Martin Derbyshire",
           "author",
           "unknown",
           "unknown",
           "unknown"
          ],
          [
           "Sam Eggleston",
           "author",
           "unknown",
           "unknown",
           "unknown"
          ],
          [
           "James Wallace",
           "author",
           "unknown",
           "unknown",
           "unknown"
          ],
          [
           "Rob Smyth",
           "author",
           "unknown",
           "unknown",
           "unknown"
          ],
          [
           "",
           "author",
           "unknown",
           "unknown",
           "unknown"
          ],
          [
           "Sheena Vasani",
           "author",
           "unknown",
           "unknown",
           "unknown"
          ],
          [
           "CBS Sports Staff",
           "author",
           "unknown",
           "unknown",
           "unknown"
          ],
          [
           "Martin Harris",
           "author",
           "unknown",
           "unknown",
           "unknown"
          ],
          [
           "Roi Weinberger",
           "author",
           "unknown",
           "unknown",
           "unknown"
          ],
          [
           "STAN CHOE",
           "author",
           "unknown",
           "unknown",
           "unknown"
          ],
          [
           "Christine Hall",
           "author",
           "unknown",
           "unknown",
           "unknown"
          ],
          [
           "Sam Rutherford",
           "author",
           "unknown",
           "unknown",
           "unknown"
          ],
          [
           "Assaf Gilead",
           "author",
           "unknown",
           "unknown",
           "unknown"
          ],
          [
           "Bill Bender",
           "author",
           "unknown",
           "unknown",
           "unknown"
          ],
          [
           "Edward Sutelan",
           "author",
           "unknown",
           "unknown",
           "unknown"
          ],
          [
           "Tasha Robinson",
           "author",
           "unknown",
           "unknown",
           "unknown"
          ],
          [
           "Mintu Tomar",
           "author",
           "unknown",
           "unknown",
           "unknown"
          ],
          [
           "Rebecca Owen",
           "author",
           "unknown",
           "unknown",
           "unknown"
          ],
          [
           "Murray Stassen",
           "author",
           "unknown",
           "unknown",
           "unknown"
          ],
          [
           "Jamie Jackson",
           "author",
           "unknown",
           "unknown",
           "unknown"
          ],
          [
           "Antonio G. Di Benedetto",
           "author",
           "unknown",
           "unknown",
           "unknown"
          ],
          [
           "Amy Skorheim",
           "author",
           "unknown",
           "unknown",
           "unknown"
          ],
          [
           "Andy Hunter",
           "author",
           "unknown",
           "unknown",
           "unknown"
          ],
          [
           "Reuters",
           "author",
           "unknown",
           "unknown",
           "unknown"
          ],
          [
           "Natalie Weiner",
           "author",
           "unknown",
           "unknown",
           "unknown"
          ],
          [
           "Paolo Confino",
           "author",
           "unknown",
           "unknown",
           "unknown"
          ],
          [
           "Devin Coldewey",
           "author",
           "unknown",
           "unknown",
           "unknown"
          ],
          [
           "Andrew Tarantola",
           "author",
           "unknown",
           "unknown",
           "unknown"
          ],
          [
           "Ed Aarons at Stamford Bridge",
           "author",
           "unknown",
           "unknown",
           "unknown"
          ],
          [
           "Tony Mejia",
           "author",
           "unknown",
           "unknown",
           "unknown"
          ],
          [
           "Morgan Sung",
           "author",
           "unknown",
           "unknown",
           "unknown"
          ],
          [
           "David Hytner",
           "author",
           "unknown",
           "unknown",
           "unknown"
          ],
          [
           "Will Daniel",
           "author",
           "unknown",
           "unknown",
           "unknown"
          ],
          [
           "Cody Benjamin",
           "author",
           "unknown",
           "unknown",
           "unknown"
          ],
          [
           "Nick Musial",
           "author",
           "unknown",
           "unknown",
           "unknown"
          ],
          [
           "Amanda Chicago Lewis",
           "author",
           "unknown",
           "unknown",
           "unknown"
          ],
          [
           "Anthony Franco, MLB Trade Rumors",
           "author",
           "unknown",
           "unknown",
           "unknown"
          ],
          [
           "Ryan Gilliam",
           "author",
           "unknown",
           "unknown",
           "unknown"
          ],
          [
           "Hezi Sternlicht",
           "author",
           "unknown",
           "unknown",
           "unknown"
          ],
          [
           "Mia Sato",
           "author",
           "unknown",
           "unknown",
           "unknown"
          ],
          [
           "Brad Cox",
           "author",
           "unknown",
           "unknown",
           "unknown"
          ],
          [
           "Serina DeSalvio, Texas A&M University",
           "author",
           "unknown",
           "unknown",
           "unknown"
          ],
          [
           "The Roar",
           "author",
           "unknown",
           "unknown",
           "unknown"
          ],
          [
           "zee business",
           "author",
           "unknown",
           "unknown",
           "unknown"
          ],
          [
           "Topher L. McDougal, The Conversation",
           "author",
           "unknown",
           "unknown",
           "unknown"
          ],
          [
           "Erika Hayasaki",
           "author",
           "unknown",
           "unknown",
           "unknown"
          ],
          [
           "Brian Campbell",
           "author",
           "unknown",
           "unknown",
           "unknown"
          ],
          [
           "Paige Hagy",
           "author",
           "unknown",
           "unknown",
           "unknown"
          ],
          [
           "Maria Rugenstein, Mark Zelinka, Kristopher B. Karnauskas, Paulo Ceppi and Timothy Andrews",
           "author",
           "unknown",
           "unknown",
           "unknown"
          ],
          [
           "News",
           "author",
           "unknown",
           "unknown",
           "unknown"
          ],
          [
           "Travis Pulver",
           "author",
           "unknown",
           "unknown",
           "unknown"
          ],
          [
           "Heath Cummings",
           "author",
           "unknown",
           "unknown",
           "unknown"
          ],
          [
           "Sarah Berry",
           "author",
           "unknown",
           "unknown",
           "unknown"
          ],
          [
           "Associated Press",
           "author",
           "unknown",
           "unknown",
           "unknown"
          ],
          [
           "James Gregory",
           "author",
           "unknown",
           "unknown",
           "unknown"
          ],
          [
           "Andy Hunter at Anfield",
           "author",
           "unknown",
           "unknown",
           "unknown"
          ],
          [
           "Craig Mathieson",
           "author",
           "unknown",
           "unknown",
           "unknown"
          ],
          [
           "Derek Decloet, Bloomberg",
           "author",
           "unknown",
           "unknown",
           "unknown"
          ],
          [
           "Ron Miller",
           "author",
           "unknown",
           "unknown",
           "unknown"
          ],
          [
           "Alex Wilhelm",
           "author",
           "unknown",
           "unknown",
           "unknown"
          ],
          [
           "Toussaint Egan",
           "author",
           "unknown",
           "unknown",
           "unknown"
          ],
          [
           "Connor Andrews",
           "author",
           "unknown",
           "unknown",
           "unknown"
          ],
          [
           "Jonathan Burnett",
           "author",
           "unknown",
           "unknown",
           "unknown"
          ],
          [
           "wwos",
           "author",
           "unknown",
           "unknown",
           "unknown"
          ],
          [
           "Sean Hollister",
           "author",
           "unknown",
           "unknown",
           "unknown"
          ],
          [
           "Sarah-Jane Collins",
           "author",
           "unknown",
           "unknown",
           "unknown"
          ],
          [
           "Tony Harper",
           "author",
           "unknown",
           "unknown",
           "unknown"
          ],
          [
           "Lindsey Bahr, The Associated Press",
           "author",
           "unknown",
           "unknown",
           "unknown"
          ],
          [
           "Meredith Clark",
           "author",
           "unknown",
           "unknown",
           "unknown"
          ],
          [
           "Josh Edwards",
           "author",
           "unknown",
           "unknown",
           "unknown"
          ],
          [
           "Rita Liao",
           "author",
           "unknown",
           "unknown",
           "unknown"
          ],
          [
           "Suzanne Wrack at Hampden Park",
           "author",
           "unknown",
           "unknown",
           "unknown"
          ],
          [
           "Priyank Mithani",
           "author",
           "unknown",
           "unknown",
           "unknown"
          ],
          [
           "Dominic Booth",
           "author",
           "unknown",
           "unknown",
           "unknown"
          ],
          [
           "David Swan",
           "author",
           "unknown",
           "unknown",
           "unknown"
          ],
          [
           "Tim Stevens",
           "author",
           "unknown",
           "unknown",
           "unknown"
          ],
          [
           "IoT.Business.News",
           "author",
           "unknown",
           "unknown",
           "unknown"
          ],
          [
           "Abe Beame",
           "author",
           "unknown",
           "unknown",
           "unknown"
          ],
          [
           "Sudeep Sinha",
           "author",
           "unknown",
           "unknown",
           "unknown"
          ],
          [
           "Sloan Piva",
           "author",
           "unknown",
           "unknown",
           "unknown"
          ],
          [
           "Sporting News Betting",
           "author",
           "unknown",
           "unknown",
           "unknown"
          ],
          [
           "Ben Miller",
           "author",
           "unknown",
           "unknown",
           "unknown"
          ],
          [
           "Jennifer Pattison Tuohy",
           "author",
           "unknown",
           "unknown",
           "unknown"
          ],
          [
           "Jonathan Liew at Wembley",
           "author",
           "unknown",
           "unknown",
           "unknown"
          ],
          [
           "Joanna Guelas",
           "author",
           "unknown",
           "unknown",
           "unknown"
          ],
          [
           "Jack Snape",
           "author",
           "unknown",
           "unknown",
           "unknown"
          ],
          [
           "Tim Ingham",
           "author",
           "unknown",
           "unknown",
           "unknown"
          ],
          [
           "Mike Mahardy",
           "author",
           "unknown",
           "unknown",
           "unknown"
          ],
          [
           "Jagmeet Singh",
           "author",
           "unknown",
           "unknown",
           "unknown"
          ],
          [
           "Anat-Daniely Lev",
           "author",
           "unknown",
           "unknown",
           "unknown"
          ],
          [
           "Mirette Magdy, Bloomberg",
           "author",
           "unknown",
           "unknown",
           "unknown"
          ],
          [
           "Richard Jolly",
           "author",
           "unknown",
           "unknown",
           "unknown"
          ],
          [
           "Peter Ryan",
           "author",
           "unknown",
           "unknown",
           "unknown"
          ],
          [
           "Robert Moran",
           "author",
           "unknown",
           "unknown",
           "unknown"
          ],
          [
           "Jeff Dunn,Valentina Palladino,Amy Skorheim",
           "author",
           "unknown",
           "unknown",
           "unknown"
          ],
          [
           "Lisa Mascaro, Farnoush Amiri, Stephen Groves, Kevin Freking, The Associated Press",
           "author",
           "unknown",
           "unknown",
           "unknown"
          ],
          [
           "Emily Dozier",
           "author",
           "unknown",
           "unknown",
           "unknown"
          ],
          [
           "Michael Benson",
           "author",
           "unknown",
           "unknown",
           "unknown"
          ],
          [
           "Katie Malone",
           "author",
           "unknown",
           "unknown",
           "unknown"
          ],
          [
           "Matt Burns",
           "author",
           "unknown",
           "unknown",
           "unknown"
          ],
          [
           "Kieran Francis",
           "author",
           "unknown",
           "unknown",
           "unknown"
          ],
          [
           "Cameron Faulkner",
           "author",
           "unknown",
           "unknown",
           "unknown"
          ],
          [
           "Victoria Song",
           "author",
           "unknown",
           "unknown",
           "unknown"
          ],
          [
           "Jonathan Liew at Old Trafford",
           "author",
           "unknown",
           "unknown",
           "unknown"
          ],
          [
           "Anna Heim",
           "author",
           "unknown",
           "unknown",
           "unknown"
          ],
          [
           "Andreas Hale",
           "author",
           "unknown",
           "unknown",
           "unknown"
          ],
          [
           "Shi En Kim",
           "author",
           "unknown",
           "unknown",
           "unknown"
          ],
          [
           "Mike DeCourcy",
           "author",
           "unknown",
           "unknown",
           "unknown"
          ],
          [
           "Adriana Morga, The Associated Press",
           "author",
           "unknown",
           "unknown",
           "unknown"
          ],
          [
           "Taylor Hatmaker",
           "author",
           "unknown",
           "unknown",
           "unknown"
          ],
          [
           "Dean Straka",
           "author",
           "unknown",
           "unknown",
           "unknown"
          ],
          [
           "Moumita Dutta",
           "author",
           "unknown",
           "unknown",
           "unknown"
          ],
          [
           "Maria Temming",
           "author",
           "unknown",
           "unknown",
           "unknown"
          ],
          [
           "David Keyton, Christina Larson, Rodrique Ngowi, The Associated Press",
           "author",
           "unknown",
           "unknown",
           "unknown"
          ],
          [
           "Isobel Lewis",
           "author",
           "unknown",
           "unknown",
           "unknown"
          ],
          [
           "Amy Beth Hanson, The Associated Press",
           "author",
           "unknown",
           "unknown",
           "unknown"
          ],
          [
           "Daniel Tencer",
           "author",
           "unknown",
           "unknown",
           "unknown"
          ],
          [
           "Tom Gray",
           "author",
           "unknown",
           "unknown",
           "unknown"
          ],
          [
           "Chirag Radhyan",
           "author",
           "unknown",
           "unknown",
           "unknown"
          ],
          [
           "Jake Lambourne",
           "author",
           "unknown",
           "unknown",
           "unknown"
          ],
          [
           "Daniel Dockery",
           "author",
           "unknown",
           "unknown",
           "unknown"
          ],
          [
           "Dushyant Singh",
           "author",
           "unknown",
           "unknown",
           "unknown"
          ],
          [
           "Jacqueline Maley",
           "author",
           "unknown",
           "unknown",
           "unknown"
          ],
          [
           "Walter Marsh",
           "author",
           "unknown",
           "unknown",
           "unknown"
          ],
          [
           "Laura Allen",
           "author",
           "unknown",
           "unknown",
           "unknown"
          ],
          [
           "Robert Lea",
           "author",
           "unknown",
           "unknown",
           "unknown"
          ],
          [
           "Kris Holt",
           "author",
           "unknown",
           "unknown",
           "unknown"
          ],
          [
           "Tyler Sullivan",
           "author",
           "unknown",
           "unknown",
           "unknown"
          ],
          [
           "Gilbert McGregor",
           "author",
           "unknown",
           "unknown",
           "unknown"
          ],
          [
           "Nicole Clark",
           "author",
           "unknown",
           "unknown",
           "unknown"
          ],
          [
           "Ansuman Abhisek",
           "author",
           "unknown",
           "unknown",
           "unknown"
          ],
          [
           "Rita Nazareth and Sinéad Carew",
           "author",
           "unknown",
           "unknown",
           "unknown"
          ],
          [
           "Uma Gurav",
           "author",
           "unknown",
           "unknown",
           "unknown"
          ],
          [
           "Ivan Mehta",
           "author",
           "unknown",
           "unknown",
           "unknown"
          ],
          [
           "Puja Molpariya",
           "author",
           "unknown",
           "unknown",
           "unknown"
          ],
          [
           "BusinessWorld",
           "author",
           "unknown",
           "unknown",
           "unknown"
          ],
          [
           "Swati Bhatia",
           "author",
           "unknown",
           "unknown",
           "unknown"
          ],
          [
           "Alice Newcome-Beill",
           "author",
           "unknown",
           "unknown",
           "unknown"
          ],
          [
           "Maanya Sachdeva",
           "author",
           "unknown",
           "unknown",
           "unknown"
          ],
          [
           "Harri Weber",
           "author",
           "unknown",
           "unknown",
           "unknown"
          ],
          [
           "Andrew J. Hawkins",
           "author",
           "unknown",
           "unknown",
           "unknown"
          ],
          [
           "Matt Jancer",
           "author",
           "unknown",
           "unknown",
           "unknown"
          ],
          [
           "Brendan Murray, Tara Patel, Bloomberg",
           "author",
           "unknown",
           "unknown",
           "unknown"
          ],
          [
           "Faiza Saqib and Amber Raiken",
           "author",
           "unknown",
           "unknown",
           "unknown"
          ],
          [
           "Charles Pulliam-Moore",
           "author",
           "unknown",
           "unknown",
           "unknown"
          ],
          [
           "Matt O'Brien, The Associated Press",
           "author",
           "unknown",
           "unknown",
           "unknown"
          ],
          [
           "Johana Bhuiyan",
           "author",
           "unknown",
           "unknown",
           "unknown"
          ],
          [
           "Kirsten Korosec",
           "author",
           "unknown",
           "unknown",
           "unknown"
          ],
          [
           "Joanna Whitehead",
           "author",
           "unknown",
           "unknown",
           "unknown"
          ],
          [
           "Josh Erickson, Pro Hockey Rumors",
           "author",
           "unknown",
           "unknown",
           "unknown"
          ],
          [
           "Tom Naghten",
           "author",
           "unknown",
           "unknown",
           "unknown"
          ],
          [
           "Pete Prisco",
           "author",
           "unknown",
           "unknown",
           "unknown"
          ],
          [
           "Jakso James",
           "author",
           "unknown",
           "unknown",
           "unknown"
          ],
          [
           "Robin Buller in Oakland, California",
           "author",
           "unknown",
           "unknown",
           "unknown"
          ],
          [
           "Alicia Haddick",
           "author",
           "unknown",
           "unknown",
           "unknown"
          ],
          [
           "Wenlei Ma",
           "author",
           "unknown",
           "unknown",
           "unknown"
          ],
          [
           "Shaikh Aerajuddin",
           "author",
           "unknown",
           "unknown",
           "unknown"
          ],
          [
           "Chris Plante",
           "author",
           "unknown",
           "unknown",
           "unknown"
          ],
          [
           "Nick Igbokwe",
           "author",
           "unknown",
           "unknown",
           "unknown"
          ],
          [
           "Damian Mannion",
           "author",
           "unknown",
           "unknown",
           "unknown"
          ],
          [
           "Barney Ronay at Old Trafford",
           "author",
           "unknown",
           "unknown",
           "unknown"
          ],
          [
           "Simon Burnton at the Brian Lara Stadium",
           "author",
           "unknown",
           "unknown",
           "unknown"
          ],
          [
           "Isaac Thorn",
           "author",
           "unknown",
           "unknown",
           "unknown"
          ],
          [
           "Lisa Mascaro, Farnoush Amiri, Stephen Groves, The Associated Press",
           "author",
           "unknown",
           "unknown",
           "unknown"
          ],
          [
           "Grayson Morley",
           "author",
           "unknown",
           "unknown",
           "unknown"
          ],
          [
           "Jesse Hassenger",
           "author",
           "unknown",
           "unknown",
           "unknown"
          ],
          [
           "Autumn Wright",
           "author",
           "unknown",
           "unknown",
           "unknown"
          ],
          [
           "Bradley van Paridon",
           "author",
           "unknown",
           "unknown",
           "unknown"
          ],
          [
           "Petrana Radulovic",
           "author",
           "unknown",
           "unknown",
           "unknown"
          ],
          [
           "Joel Sritharan",
           "author",
           "unknown",
           "unknown",
           "unknown"
          ],
          [
           "Ellie Muir",
           "author",
           "unknown",
           "unknown",
           "unknown"
          ],
          [
           "Barbara Krasnoff",
           "author",
           "unknown",
           "unknown",
           "unknown"
          ],
          [
           "Jeff Dunn",
           "author",
           "unknown",
           "unknown",
           "unknown"
          ],
          [
           "Vishakha Deshpande",
           "author",
           "unknown",
           "unknown",
           "unknown"
          ],
          [
           "Melissa Murphy, The Associated Press",
           "author",
           "unknown",
           "unknown",
           "unknown"
          ],
          [
           "Ela Levi-Weinreb",
           "author",
           "unknown",
           "unknown",
           "unknown"
          ],
          [
           "Luke McLaughlin at OL Stadium",
           "author",
           "unknown",
           "unknown",
           "unknown"
          ],
          [
           "Kanishka Prakash",
           "author",
           "unknown",
           "unknown",
           "unknown"
          ],
          [
           "James Trew",
           "author",
           "unknown",
           "unknown",
           "unknown"
          ],
          [
           "Jake Coyle, The Associated Press",
           "author",
           "unknown",
           "unknown",
           "unknown"
          ],
          [
           "Brian Heater",
           "author",
           "unknown",
           "unknown",
           "unknown"
          ],
          [
           "Shrabana Sengupta",
           "author",
           "unknown",
           "unknown",
           "unknown"
          ],
          [
           "Robin McKie, Science Editor",
           "author",
           "unknown",
           "unknown",
           "unknown"
          ],
          [
           "Saurabh Saini",
           "author",
           "unknown",
           "unknown",
           "unknown"
          ],
          [
           "Mary Ann Azevedo",
           "author",
           "unknown",
           "unknown",
           "unknown"
          ],
          [
           "Kris Johnson",
           "author",
           "unknown",
           "unknown",
           "unknown"
          ],
          [
           "Saleah Blancaflor",
           "author",
           "unknown",
           "unknown",
           "unknown"
          ],
          [
           "Tina Hesman Saey",
           "author",
           "unknown",
           "unknown",
           "unknown"
          ],
          [
           "Yardbarker Staff",
           "author",
           "unknown",
           "unknown",
           "unknown"
          ],
          [
           "Nilavro Ghosh",
           "author",
           "unknown",
           "unknown",
           "unknown"
          ],
          [
           "Crissy Froyd",
           "author",
           "unknown",
           "unknown",
           "unknown"
          ],
          [
           "Ian Chadband",
           "author",
           "unknown",
           "unknown",
           "unknown"
          ],
          [
           "Zach Rabiroff",
           "author",
           "unknown",
           "unknown",
           "unknown"
          ],
          [
           "Joshua Rivera",
           "author",
           "unknown",
           "unknown",
           "unknown"
          ],
          [
           "Sarah Thwaites",
           "author",
           "unknown",
           "unknown",
           "unknown"
          ],
          [
           "Tage Kene-Okafor",
           "author",
           "unknown",
           "unknown",
           "unknown"
          ],
          [
           "sascha.pare@futurenet.com (Sascha Pare)",
           "author",
           "unknown",
           "unknown",
           "unknown"
          ],
          [
           "Ariel Shapiro",
           "author",
           "unknown",
           "unknown",
           "unknown"
          ],
          [
           "Kayti Burt",
           "author",
           "unknown",
           "unknown",
           "unknown"
          ],
          [
           "Jesús Victorino",
           "author",
           "unknown",
           "unknown",
           "unknown"
          ],
          [
           "Joseph Hostetler",
           "author",
           "unknown",
           "unknown",
           "unknown"
          ],
          [
           "Kat Tretina",
           "author",
           "unknown",
           "unknown",
           "unknown"
          ],
          [
           "Jacob Camenker",
           "author",
           "unknown",
           "unknown",
           "unknown"
          ],
          [
           "Aidan Wohl, GoAZCATS.com",
           "author",
           "unknown",
           "unknown",
           "unknown"
          ],
          [
           "Sid Lowe at the Ramón Sánchez Pizjuán Stadium",
           "author",
           "unknown",
           "unknown",
           "unknown"
          ],
          [
           "Ava Benny-Morrison, Bloomberg",
           "author",
           "unknown",
           "unknown",
           "unknown"
          ],
          [
           "Sydney Lake",
           "author",
           "unknown",
           "unknown",
           "unknown"
          ],
          [
           "Ryan Fagan",
           "author",
           "unknown",
           "unknown",
           "unknown"
          ],
          [
           "Veerendra Vikram Singh",
           "author",
           "unknown",
           "unknown",
           "unknown"
          ],
          [
           "Rita Nazareth",
           "author",
           "unknown",
           "unknown",
           "unknown"
          ],
          [
           "Ela Levi-Weinrib",
           "author",
           "unknown",
           "unknown",
           "unknown"
          ],
          [
           "Steven Taranto",
           "author",
           "unknown",
           "unknown",
           "unknown"
          ],
          [
           "Amanda Silberling",
           "author",
           "unknown",
           "unknown",
           "unknown"
          ],
          [
           "Parnab Bhattacharya",
           "author",
           "unknown",
           "unknown",
           "unknown"
          ],
          [
           "Carrie Andrews",
           "author",
           "unknown",
           "unknown",
           "unknown"
          ],
          [
           "Jon Porter",
           "author",
           "unknown",
           "unknown",
           "unknown"
          ],
          [
           "Matthew Reynolds",
           "author",
           "unknown",
           "unknown",
           "unknown"
          ],
          [
           "Jana Randow, Bloomberg",
           "author",
           "unknown",
           "unknown",
           "unknown"
          ],
          [
           "Igor Bonifacic",
           "author",
           "unknown",
           "unknown",
           "unknown"
          ],
          [
           "Howard Mustoe",
           "author",
           "unknown",
           "unknown",
           "unknown"
          ],
          [
           "Hunter Felt",
           "author",
           "unknown",
           "unknown",
           "unknown"
          ],
          [
           "Cass Marshall",
           "author",
           "unknown",
           "unknown",
           "unknown"
          ],
          [
           "Scott Gilbertson",
           "author",
           "unknown",
           "unknown",
           "unknown"
          ],
          [
           "Wes Goldberg, RealGM",
           "author",
           "unknown",
           "unknown",
           "unknown"
          ],
          [
           "Gyan Yankovich",
           "author",
           "unknown",
           "unknown",
           "unknown"
          ],
          [
           "Jessica Conditt,Aaron Souppouris",
           "author",
           "unknown",
           "unknown",
           "unknown"
          ],
          [
           "Eric Ravenscraft",
           "author",
           "unknown",
           "unknown",
           "unknown"
          ],
          [
           "Michael R. Sisak, The Associated Press",
           "author",
           "unknown",
           "unknown",
           "unknown"
          ],
          [
           "Tom Maloney",
           "author",
           "unknown",
           "unknown",
           "unknown"
          ],
          [
           "Luke Baker",
           "author",
           "unknown",
           "unknown",
           "unknown"
          ],
          [
           "Nilay Patel",
           "author",
           "unknown",
           "unknown",
           "unknown"
          ],
          [
           "Mike Meehall Wood",
           "author",
           "unknown",
           "unknown",
           "unknown"
          ],
          [
           "Patricia Hernandez",
           "author",
           "unknown",
           "unknown",
           "unknown"
          ],
          [
           "Simon Peach",
           "author",
           "unknown",
           "unknown",
           "unknown"
          ],
          [
           "Kazuma Hashimoto",
           "author",
           "unknown",
           "unknown",
           "unknown"
          ],
          [
           "Matt Lutovsky",
           "author",
           "unknown",
           "unknown",
           "unknown"
          ],
          [
           "Chris Wilson",
           "author",
           "unknown",
           "unknown",
           "unknown"
          ],
          [
           "Trina Paul",
           "author",
           "unknown",
           "unknown",
           "unknown"
          ],
          [
           "Kaleigh Werner",
           "author",
           "unknown",
           "unknown",
           "unknown"
          ],
          [
           "Michael Idato",
           "author",
           "unknown",
           "unknown",
           "unknown"
          ],
          [
           "Natalie Wilson",
           "author",
           "unknown",
           "unknown",
           "unknown"
          ],
          [
           "Brenda Stolyar",
           "author",
           "unknown",
           "unknown",
           "unknown"
          ],
          [
           "Brent Brookhouse",
           "author",
           "unknown",
           "unknown",
           "unknown"
          ],
          [
           "Richard Jinman",
           "author",
           "unknown",
           "unknown",
           "unknown"
          ],
          [
           "Barry Divola",
           "author",
           "unknown",
           "unknown",
           "unknown"
          ],
          [
           "Jason Steger",
           "author",
           "unknown",
           "unknown",
           "unknown"
          ],
          [
           "Christaline Meyers",
           "author",
           "unknown",
           "unknown",
           "unknown"
          ],
          [
           "Susana Polo",
           "author",
           "unknown",
           "unknown",
           "unknown"
          ],
          [
           "Matt Patches",
           "author",
           "unknown",
           "unknown",
           "unknown"
          ],
          [
           "Charlie Hall",
           "author",
           "unknown",
           "unknown",
           "unknown"
          ],
          [
           "Mike Butcher",
           "author",
           "unknown",
           "unknown",
           "unknown"
          ],
          [
           "Justine Calma",
           "author",
           "unknown",
           "unknown",
           "unknown"
          ],
          [
           "Annabel Streets",
           "author",
           "unknown",
           "unknown",
           "unknown"
          ]
         ],
         "hovertemplate": "node_type=%{customdata[1]}<br>x=%{x}<br>y=%{y}<br>node_id=%{customdata[0]}<br>category=%{customdata[2]}<br>author=%{customdata[3]}<br>source=%{customdata[4]}<extra></extra>",
         "legendgroup": "author",
         "marker": {
          "color": "red",
          "symbol": "circle"
         },
         "mode": "markers",
         "name": "author",
         "showlegend": true,
         "type": "scattergl",
         "x": [
          0.27549598,
          -0.23142464,
          -1.2810878,
          -0.7478485,
          -0.42927387,
          -1.1457931,
          -1.1038321,
          -0.30417028,
          0.3221326,
          0.2509387,
          0.41418707,
          -1.3231206,
          -0.84752786,
          0.4859357,
          0.51817536,
          0.14953656,
          0.10514181,
          0.23616175,
          -0.14863005,
          0.06764711,
          -0.57157004,
          0.30352116,
          0.33647233,
          0.26043284,
          0.5641442,
          0.25396433,
          -0.06186602,
          0.6945764,
          -0.64449376,
          -0.36796734,
          -0.5888207,
          0.2233534,
          -0.9758974,
          -0.42560503,
          0.5324473,
          -1.2804195,
          0.07796601,
          0.48776734,
          0.35477403,
          -0.7478485,
          0.87406105,
          0.33919242,
          0.5384663,
          0.27311555,
          -0.6215348,
          -0.43718135,
          -0.18110137,
          -0.54027593,
          -0.51781684,
          -0.4575868,
          -0.3225704,
          0.19221927,
          0.5754239,
          -0.91013145,
          -0.26089057,
          0.017859379,
          -0.4344156,
          0.43877837,
          -0.082214735,
          0.3371286,
          -0.6516381,
          -0.28137127,
          0.38218004,
          0.76226175,
          0.53948444,
          0.4780358,
          -1.0868767,
          0.4181808,
          0.70217294,
          -0.97199994,
          -1.5179719,
          0.6550439,
          -0.29520768,
          0.1876856,
          0.3668098,
          -1.5908924,
          -1.3262128,
          0.30597997,
          -1.1007013,
          -0.2333272,
          -1.4090503,
          -0.67186266,
          0.48528653,
          -0.74079126,
          -0.009787727,
          0.8075286,
          0.4883478,
          -0.7049442,
          0.09993357,
          -0.5037006,
          -0.3623064,
          0.72922456,
          -0.021467123,
          -0.45276362,
          0.53122395,
          0.42323485,
          -0.70951754,
          -0.75948954,
          -0.7642853,
          -0.30801514,
          -0.6930485,
          -0.97918504,
          -1.4031774,
          0.2528021,
          -0.36529705,
          0.020759137,
          0.6345614,
          0.27229193,
          -1.1926886,
          -1.5676763,
          -1.0483943,
          0.47338772,
          0.44714433,
          -0.5428527,
          0.8765545,
          0.033564214,
          -0.46379772,
          0.716763,
          -1.3445966,
          -0.5379031,
          -0.6121736,
          0.685282,
          0.47215402,
          0.6218578,
          0.2383616,
          1.9432685,
          -0.8353675,
          -0.64541304,
          -1.351477,
          0.73741144,
          -0.87972575,
          -0.14782524,
          -1.452134,
          0.41274968,
          0.21783979,
          1.0186912,
          0.2871553,
          0.41894853,
          -1.1188784,
          -0.2490723,
          0.13583308,
          0.5939969,
          -0.5685606,
          -0.42076704,
          0.08825318,
          0.46780804,
          0.25489506,
          -0.52624905,
          0.2616603,
          0.5508899,
          -0.6634927,
          0.3195166,
          -0.20978177,
          0.29795402,
          -1.3202325,
          0.6360769,
          0.3142761,
          -0.94101226,
          -2.2735982,
          0.6698475,
          -0.07730383,
          0.018427558,
          -0.1956243,
          0.32726803,
          -0.57590085,
          -0.8402684,
          -1.6282827,
          -0.2628107,
          -0.9745779,
          0.34941784,
          1.2824476,
          0.6266351,
          0.36016002,
          0.24635084,
          -0.5841106,
          -0.5327235,
          0.071128674,
          -0.08341122,
          -0.25769937,
          -1.7169027,
          0.82576287,
          -2.346487,
          0.45729578,
          -0.23363839,
          0.25300762,
          0.44330987,
          0.2733016,
          0.4474185,
          0.5683376,
          -0.051833916,
          0.8235664,
          0.50446695,
          0.51456213,
          0.6589273,
          0.23834053,
          0.322714,
          -1.4067768,
          -0.8006591,
          -0.731067,
          -0.9574842,
          0.42758852,
          0.27610752,
          -0.19501269,
          -0.71041775,
          0.24598283,
          -1.256438,
          -1.0698918,
          -0.9314671,
          -0.7971219,
          -1.2987949,
          -0.5658982,
          0.4590122,
          0.45019233,
          0.32261133,
          -0.08350039,
          0.28508702,
          -2.0412557,
          0.024291934,
          0.582114,
          0.8092212,
          -2.5464485,
          -0.6181021,
          0.3385991,
          -2.1358764,
          -0.51791805,
          0.6316393,
          -0.12683313,
          0.44719017,
          -1.2975454,
          1.0931717,
          -1.199103,
          0.30071875,
          -1.169674,
          0.12751679,
          0.5095897,
          -1.2486535,
          -0.7357115,
          -0.98801666,
          -0.6735621,
          0.033511102,
          -0.14754964,
          1.4183267,
          0.3455395,
          0.64621365,
          -0.1256323,
          -0.19766192,
          0.45485952,
          1.0186416,
          0.37573975,
          -0.6368991,
          -1.4094454,
          -1.3116544,
          0.06417551,
          1.7279742,
          -0.8650299,
          -0.76492554,
          -0.54733616,
          0.47671822,
          -0.4654574,
          -0.101630084,
          -0.719346,
          0.27773017,
          1.1355072,
          -0.3566895,
          0.7407035,
          0.1531842,
          0.6432236,
          -0.83343554,
          0.21855241,
          0.5933108,
          -0.97877187,
          0.37128064,
          0.12439373,
          0.6561066,
          -0.34253308,
          0.5175793,
          -0.6694097,
          0.42640486,
          -1.7224514,
          -0.11909236,
          -1.6728387,
          0.114459135,
          -1.2607564,
          0.3268289,
          1.1301616,
          -0.61747247,
          0.31978613,
          1.1021293,
          0.66791326,
          -1.4485117,
          0.095649295,
          0.34459543,
          -0.062291615,
          0.20953076,
          0.2829441,
          0.6166714,
          0.15833804,
          0.40177205,
          -0.14097607,
          -0.18723029
         ],
         "xaxis": "x",
         "y": [
          0.06189339,
          -1.502941,
          -0.6513279,
          -1.9089283,
          0.338908,
          -0.6576068,
          -0.70050806,
          1.0006851,
          1.7500409,
          -0.19249284,
          0.28738144,
          -1.2177794,
          -1.4009777,
          0.8666513,
          0.72540903,
          0.23060982,
          1.2703446,
          1.3628826,
          -1.1664815,
          -0.19492285,
          -0.6595308,
          -0.8137923,
          -0.07552187,
          -0.4170745,
          -0.51880866,
          -0.1912651,
          -1.3492129,
          -0.12754957,
          -0.13939303,
          0.76784617,
          0.29253417,
          -0.9203061,
          -0.45167953,
          0.21456279,
          0.8614934,
          -1.8041075,
          -0.61270696,
          0.560892,
          -0.090233706,
          -1.9089283,
          -0.8954299,
          0.37628725,
          0.9737204,
          0.5467351,
          0.13264035,
          0.48870826,
          0.21316034,
          0.30461395,
          -0.09176809,
          0.99845845,
          0.9759664,
          0.115047246,
          0.2859434,
          -0.77557045,
          0.51978374,
          -1.2951536,
          -1.8489386,
          0.4106396,
          0.3196611,
          0.2507316,
          -0.46446106,
          0.7155971,
          -0.14045008,
          -2.2986424,
          -0.7182458,
          0.50788903,
          -1.2270787,
          0.003975463,
          0.15842104,
          -1.2865087,
          -1.2074556,
          0.3962572,
          -1.254604,
          -0.33501762,
          -0.53859,
          -1.0102626,
          -0.7720483,
          -0.039191835,
          -1.0919238,
          -1.3595097,
          -0.79884326,
          0.22165462,
          0.6294435,
          -0.4292996,
          -0.19569191,
          0.38711187,
          0.15208995,
          1.0729096,
          -1.4006729,
          -0.034479372,
          -0.037211165,
          0.2893351,
          -0.6409015,
          -0.5097532,
          0.93497396,
          0.532594,
          -0.77659166,
          -0.28397155,
          0.09416907,
          -1.0351484,
          0.7575214,
          -0.45560798,
          -0.8041533,
          1.0736496,
          -1.3508815,
          -1.4490861,
          0.117553495,
          0.49303913,
          -1.1548768,
          -0.2290444,
          -0.9840887,
          0.38770944,
          1.3670762,
          -0.34361783,
          -0.41762164,
          -0.5845265,
          0.8605269,
          -0.698612,
          -0.9017468,
          -1.047108,
          1.2899158,
          1.4027313,
          0.948236,
          0.94810325,
          1.0798175,
          -0.58865345,
          -0.19930711,
          -0.4824561,
          -1.1909516,
          -0.3756311,
          -1.2723131,
          0.9909833,
          -1.1109296,
          0.18196046,
          -0.1319367,
          1.0621233,
          -0.5022246,
          1.04224,
          -1.111967,
          1.048759,
          -0.8035158,
          0.31825247,
          -1.9304917,
          0.6044154,
          1.1648486,
          0.36666238,
          -0.2907201,
          0.37958866,
          -0.70580226,
          0.2441722,
          -0.99017596,
          -0.80297315,
          0.38363066,
          -0.7426841,
          -0.9375112,
          -1.8284332,
          -0.45990512,
          -0.7998786,
          -0.9789838,
          -2.3873243,
          -1.0528704,
          -0.10485297,
          -1.175904,
          -0.38568294,
          -0.28654954,
          -1.1834351,
          -0.80438375,
          -1.0557249,
          -0.827744,
          0.23965576,
          -0.30447707,
          -1.7610403,
          -1.2185211,
          -1.6863731,
          -0.6438862,
          0.80335075,
          -0.66881204,
          1.0098884,
          -1.3737348,
          -0.8498823,
          -0.6707245,
          0.43373054,
          -0.036945686,
          0.40818992,
          -0.97448665,
          0.25360507,
          -0.5620325,
          0.44355506,
          0.20528136,
          -1.4965008,
          -2.677361,
          -1.837556,
          -1.3154668,
          -0.19176911,
          -0.54761904,
          -0.10802692,
          -1.3481812,
          -1.038827,
          0.7694105,
          -0.85507786,
          1.1038662,
          0.14574757,
          -1.3787717,
          -1.0688634,
          0.44250366,
          -0.7030816,
          -1.2070265,
          -1.1586863,
          -0.9697788,
          -0.689619,
          -1.8582946,
          -0.022895478,
          -1.9408654,
          1.1568427,
          -1.2046797,
          0.36171448,
          -1.2502601,
          -1.805166,
          0.591624,
          0.46632355,
          -0.7755748,
          2.0631938,
          0.60077995,
          -1.2779917,
          -0.29961807,
          0.23722064,
          -1.8154035,
          0.4743622,
          -0.9535515,
          0.25041044,
          -1.0211449,
          -1.8782196,
          -0.515466,
          1.2091042,
          -0.17111273,
          -0.7185928,
          -1.0784315,
          -0.20038222,
          -0.59195334,
          -0.24529907,
          -0.8767491,
          -0.6835398,
          1.0323384,
          1.3637149,
          -1.0545433,
          -1.151596,
          1.1795222,
          1.0027747,
          -0.56120753,
          -0.26708722,
          -0.6333305,
          -0.955148,
          -0.99806416,
          -1.314133,
          -0.9047949,
          -1.1110437,
          -1.9346136,
          0.5493204,
          -0.079587415,
          -1.1553234,
          -0.9194732,
          -0.5102792,
          -1.2533363,
          -0.82246417,
          0.894769,
          -1.8238919,
          1.021415,
          -0.43520376,
          -0.27196294,
          0.17825873,
          -0.8893939,
          1.1010419,
          -1.3130705,
          -1.4382986,
          -1.7852545,
          1.2954656,
          0.029343393,
          0.8288043,
          -1.2901263,
          -0.8821281,
          -1.5746199,
          -1.3396589,
          -0.53069067,
          1.2929224,
          1.1594093,
          -0.9668338,
          1.3462957,
          -0.29449117,
          0.124722704,
          -1.5231316,
          -0.9288075,
          1.0477078,
          -0.99170786,
          1.2706596,
          0.84133554,
          0.00045225507,
          0.7485978,
          -0.4966964,
          -1.6238513,
          -1.2014786
         ],
         "yaxis": "y"
        },
        {
         "customdata": [
          [
           "Mashable",
           "source",
           "unknown",
           "unknown",
           "unknown"
          ],
          [
           "The Sydney Morning Herald",
           "source",
           "unknown",
           "unknown",
           "unknown"
          ],
          [
           "Cnbc | World Business News Leader",
           "source",
           "unknown",
           "unknown",
           "unknown"
          ],
          [
           "Sporting News",
           "source",
           "unknown",
           "unknown",
           "unknown"
          ],
          [
           "Essentially Sports",
           "source",
           "unknown",
           "unknown",
           "unknown"
          ],
          [
           "The New York Times",
           "source",
           "unknown",
           "unknown",
           "unknown"
          ],
          [
           "TechCrunch",
           "source",
           "unknown",
           "unknown",
           "unknown"
          ],
          [
           "TalkSport",
           "source",
           "unknown",
           "unknown",
           "unknown"
          ],
          [
           "The Guardian",
           "source",
           "unknown",
           "unknown",
           "unknown"
          ],
          [
           "The Verge",
           "source",
           "unknown",
           "unknown",
           "unknown"
          ],
          [
           "Polygon",
           "source",
           "unknown",
           "unknown",
           "unknown"
          ],
          [
           "The Independent - Life and Style",
           "source",
           "unknown",
           "unknown",
           "unknown"
          ],
          [
           "FOX News - Entertainment",
           "source",
           "unknown",
           "unknown",
           "unknown"
          ],
          [
           "The Age",
           "source",
           "unknown",
           "unknown",
           "unknown"
          ],
          [
           "The Roar | Sports Writers Blog",
           "source",
           "unknown",
           "unknown",
           "unknown"
          ],
          [
           "Fortune",
           "source",
           "unknown",
           "unknown",
           "unknown"
          ],
          [
           "CBSSports.com",
           "source",
           "unknown",
           "unknown",
           "unknown"
          ],
          [
           "FOX News - Health",
           "source",
           "unknown",
           "unknown",
           "unknown"
          ],
          [
           "FOX News - Lifestyle",
           "source",
           "unknown",
           "unknown",
           "unknown"
          ],
          [
           "Globes English | Israel Business Arena",
           "source",
           "unknown",
           "unknown",
           "unknown"
          ],
          [
           "Hacker News",
           "source",
           "unknown",
           "unknown",
           "unknown"
          ],
          [
           "Eos: Earth And Space Science News",
           "source",
           "unknown",
           "unknown",
           "unknown"
          ],
          [
           "Music Business Worldwide",
           "source",
           "unknown",
           "unknown",
           "unknown"
          ],
          [
           "Sky Sports",
           "source",
           "unknown",
           "unknown",
           "unknown"
          ],
          [
           "Business Line",
           "source",
           "unknown",
           "unknown",
           "unknown"
          ],
          [
           "Scitechdaily | Science Space And Technology News 2017",
           "source",
           "unknown",
           "unknown",
           "unknown"
          ],
          [
           "Zee Business",
           "source",
           "unknown",
           "unknown",
           "unknown"
          ],
          [
           "Business Today | Latest Stock Market And Economy News India",
           "source",
           "unknown",
           "unknown",
           "unknown"
          ],
          [
           "Sport Grill",
           "source",
           "unknown",
           "unknown",
           "unknown"
          ],
          [
           "Wide World Of Sports",
           "source",
           "unknown",
           "unknown",
           "unknown"
          ],
          [
           "Financial Times",
           "source",
           "unknown",
           "unknown",
           "unknown"
          ],
          [
           "Iot Business News",
           "source",
           "unknown",
           "unknown",
           "unknown"
          ],
          [
           "BBC News - Technology",
           "source",
           "unknown",
           "unknown",
           "unknown"
          ],
          [
           "The Independent - Sports",
           "source",
           "unknown",
           "unknown",
           "unknown"
          ],
          [
           "Yahoo News",
           "source",
           "unknown",
           "unknown",
           "unknown"
          ],
          [
           "Live Science: The Most Interesting Articles",
           "source",
           "unknown",
           "unknown",
           "unknown"
          ],
          [
           "Science News For Students",
           "source",
           "unknown",
           "unknown",
           "unknown"
          ],
          [
           "BBC News - Entertainment & Arts",
           "source",
           "unknown",
           "unknown",
           "unknown"
          ],
          [
           "Insidesport",
           "source",
           "unknown",
           "unknown",
           "unknown"
          ],
          [
           "Advanced Science News",
           "source",
           "unknown",
           "unknown",
           "unknown"
          ],
          [
           "Revyuh Media",
           "source",
           "unknown",
           "unknown",
           "unknown"
          ],
          [
           "Business World",
           "source",
           "unknown",
           "unknown",
           "unknown"
          ],
          [
           "Wired",
           "source",
           "unknown",
           "unknown",
           "unknown"
          ],
          [
           "Seeking Alpha",
           "source",
           "unknown",
           "unknown",
           "unknown"
          ],
          [
           "Sportskeeda",
           "source",
           "unknown",
           "unknown",
           "unknown"
          ],
          [
           "Rivals",
           "source",
           "unknown",
           "unknown",
           "unknown"
          ],
          [
           "The Independent - Travel",
           "source",
           "unknown",
           "unknown",
           "unknown"
          ]
         ],
         "hovertemplate": "node_type=%{customdata[1]}<br>x=%{x}<br>y=%{y}<br>node_id=%{customdata[0]}<br>category=%{customdata[2]}<br>author=%{customdata[3]}<br>source=%{customdata[4]}<extra></extra>",
         "legendgroup": "source",
         "marker": {
          "color": "green",
          "symbol": "circle"
         },
         "mode": "markers",
         "name": "source",
         "showlegend": true,
         "type": "scattergl",
         "x": [
          0.49558085,
          0.06561646,
          0.44856876,
          -0.4361627,
          -0.34741157,
          -0.29794317,
          0.34420747,
          -0.7585751,
          -0.42969242,
          0.4063013,
          0.22669092,
          0.11852818,
          0.29644132,
          0.17863154,
          -0.5509466,
          0.15147218,
          -0.42520544,
          0.35845083,
          0.26212114,
          0.38012463,
          0.29311812,
          0.36893335,
          0.3995414,
          -1.023763,
          0.38988414,
          0.09993357,
          -0.3623064,
          -0.4509366,
          -0.97918504,
          -1.0483943,
          0.084673464,
          0.6218578,
          0.7778094,
          -0.978141,
          0.4051481,
          0.30739567,
          0.24035257,
          -0.15893665,
          -0.73311394,
          0.22066675,
          -2.346487,
          0.45729578,
          0.5807407,
          0.38115296,
          -1.256438,
          -1.4094454,
          0.4063314
         ],
         "xaxis": "x",
         "y": [
          -1.1683977,
          -0.43433407,
          0.5316527,
          0.13947733,
          -0.40129533,
          0.28015557,
          0.06313694,
          -0.68308765,
          -0.61052907,
          0.3864555,
          0.18249466,
          -0.23106012,
          -0.47421485,
          0.14365304,
          -0.4652908,
          -0.44496638,
          -0.056348216,
          0.4816436,
          0.16982272,
          0.32743856,
          0.13786693,
          -0.07826975,
          0.09502671,
          -0.9257474,
          -0.16678067,
          -1.4006729,
          -0.037211165,
          -1.0364225,
          -0.45560798,
          -0.9840887,
          -1.3677977,
          0.94810325,
          -2.1594062,
          -0.97208434,
          -0.5642591,
          0.117386,
          -0.87107795,
          -0.81252813,
          -0.55322975,
          -0.12709671,
          0.43373054,
          -0.036945686,
          0.063610554,
          -0.46815977,
          -0.7030816,
          -0.6333305,
          0.66994315
         ],
         "yaxis": "y"
        },
        {
         "customdata": [
          [
           "entertainment",
           "category",
           "unknown",
           "unknown",
           "unknown"
          ],
          [
           "business",
           "category",
           "unknown",
           "unknown",
           "unknown"
          ],
          [
           "sports",
           "category",
           "unknown",
           "unknown",
           "unknown"
          ],
          [
           "technology",
           "category",
           "unknown",
           "unknown",
           "unknown"
          ],
          [
           "health",
           "category",
           "unknown",
           "unknown",
           "unknown"
          ],
          [
           "science",
           "category",
           "unknown",
           "unknown",
           "unknown"
          ]
         ],
         "hovertemplate": "node_type=%{customdata[1]}<br>x=%{x}<br>y=%{y}<br>node_id=%{customdata[0]}<br>category=%{customdata[2]}<br>author=%{customdata[3]}<br>source=%{customdata[4]}<extra></extra>",
         "legendgroup": "category",
         "marker": {
          "color": "orange",
          "symbol": "circle"
         },
         "mode": "markers",
         "name": "category",
         "showlegend": true,
         "type": "scattergl",
         "x": [
          0.21830048,
          0.25300917,
          -0.4557686,
          0.37612328,
          0.35845083,
          0.27788785
         ],
         "xaxis": "x",
         "y": [
          0.068621404,
          -0.13612498,
          -0.12690274,
          0.18234846,
          0.4816436,
          -0.12947321
         ],
         "yaxis": "y"
        },
        {
         "customdata": [
          [
           "0_chunk_0",
           "chunk",
           "entertainment",
           "unknown",
           "Mashable"
          ],
          [
           "0_chunk_1",
           "chunk",
           "entertainment",
           "unknown",
           "Mashable"
          ],
          [
           "1_chunk_0",
           "chunk",
           "business",
           "Stan Choe",
           "The Sydney Morning Herald"
          ],
          [
           "1_chunk_1",
           "chunk",
           "business",
           "Stan Choe",
           "The Sydney Morning Herald"
          ],
          [
           "2_chunk_0",
           "chunk",
           "business",
           "unknown",
           "Cnbc | World Business News Leader"
          ],
          [
           "2_chunk_1",
           "chunk",
           "business",
           "unknown",
           "Cnbc | World Business News Leader"
          ],
          [
           "2_chunk_2",
           "chunk",
           "business",
           "unknown",
           "Cnbc | World Business News Leader"
          ],
          [
           "3_chunk_0",
           "chunk",
           "sports",
           "Colum Dell, Yardbarker",
           "Yardbarker"
          ],
          [
           "3_chunk_1",
           "chunk",
           "sports",
           "Colum Dell, Yardbarker",
           "Yardbarker"
          ],
          [
           "4_chunk_0",
           "chunk",
           "sports",
           "Dan Treacy",
           "Sporting News"
          ],
          [
           "4_chunk_1",
           "chunk",
           "sports",
           "Dan Treacy",
           "Sporting News"
          ],
          [
           "4_chunk_2",
           "chunk",
           "sports",
           "Dan Treacy",
           "Sporting News"
          ],
          [
           "4_chunk_3",
           "chunk",
           "sports",
           "Dan Treacy",
           "Sporting News"
          ],
          [
           "5_chunk_0",
           "chunk",
           "sports",
           "Ian Valentino",
           "Sporting News"
          ],
          [
           "5_chunk_1",
           "chunk",
           "sports",
           "Ian Valentino",
           "Sporting News"
          ],
          [
           "6_chunk_0",
           "chunk",
           "sports",
           "Rob Miech",
           "Sporting News"
          ],
          [
           "6_chunk_1",
           "chunk",
           "sports",
           "Rob Miech",
           "Sporting News"
          ],
          [
           "7_chunk_0",
           "chunk",
           "sports",
           "Arunima Bhanot",
           "Essentially Sports"
          ],
          [
           "7_chunk_1",
           "chunk",
           "sports",
           "Arunima Bhanot",
           "Essentially Sports"
          ],
          [
           "8_chunk_0",
           "chunk",
           "sports",
           "The New York Times",
           "The New York Times"
          ],
          [
           "8_chunk_1",
           "chunk",
           "sports",
           "The New York Times",
           "The New York Times"
          ],
          [
           "8_chunk_2",
           "chunk",
           "sports",
           "The New York Times",
           "The New York Times"
          ],
          [
           "8_chunk_3",
           "chunk",
           "sports",
           "The New York Times",
           "The New York Times"
          ],
          [
           "9_chunk_0",
           "chunk",
           "technology",
           "Morgan Little",
           "TechCrunch"
          ],
          [
           "9_chunk_1",
           "chunk",
           "technology",
           "Morgan Little",
           "TechCrunch"
          ],
          [
           "10_chunk_0",
           "chunk",
           "technology",
           "Jacquelyn Melinek",
           "TechCrunch"
          ],
          [
           "10_chunk_1",
           "chunk",
           "technology",
           "Jacquelyn Melinek",
           "TechCrunch"
          ],
          [
           "11_chunk_0",
           "chunk",
           "technology",
           "Kyle Wiggers",
           "TechCrunch"
          ],
          [
           "11_chunk_1",
           "chunk",
           "technology",
           "Kyle Wiggers",
           "TechCrunch"
          ],
          [
           "12_chunk_0",
           "chunk",
           "sports",
           "Robert Calcutt",
           "TalkSport"
          ],
          [
           "12_chunk_1",
           "chunk",
           "sports",
           "Robert Calcutt",
           "TalkSport"
          ],
          [
           "13_chunk_0",
           "chunk",
           "sports",
           "Will Unwin",
           "The Guardian"
          ],
          [
           "13_chunk_1",
           "chunk",
           "sports",
           "Will Unwin",
           "The Guardian"
          ],
          [
           "14_chunk_0",
           "chunk",
           "technology",
           "David Pierce",
           "The Verge"
          ],
          [
           "14_chunk_1",
           "chunk",
           "technology",
           "David Pierce",
           "The Verge"
          ],
          [
           "15_chunk_0",
           "chunk",
           "technology",
           "Rebecca Bellan",
           "TechCrunch"
          ],
          [
           "15_chunk_1",
           "chunk",
           "technology",
           "Rebecca Bellan",
           "TechCrunch"
          ],
          [
           "16_chunk_0",
           "chunk",
           "entertainment",
           "Jeffrey Parkin",
           "Polygon"
          ],
          [
           "16_chunk_1",
           "chunk",
           "entertainment",
           "Jeffrey Parkin",
           "Polygon"
          ],
          [
           "16_chunk_2",
           "chunk",
           "entertainment",
           "Jeffrey Parkin",
           "Polygon"
          ],
          [
           "17_chunk_0",
           "chunk",
           "entertainment",
           "Johnny Yu",
           "Polygon"
          ],
          [
           "17_chunk_1",
           "chunk",
           "entertainment",
           "Johnny Yu",
           "Polygon"
          ],
          [
           "18_chunk_0",
           "chunk",
           "entertainment",
           "Laura Hampson and Meredith Clark",
           "The Independent - Life and Style"
          ],
          [
           "18_chunk_1",
           "chunk",
           "entertainment",
           "Laura Hampson and Meredith Clark",
           "The Independent - Life and Style"
          ],
          [
           "19_chunk_0",
           "chunk",
           "entertainment",
           "unknown",
           "FOX News - Entertainment"
          ],
          [
           "19_chunk_1",
           "chunk",
           "entertainment",
           "unknown",
           "FOX News - Entertainment"
          ],
          [
           "20_chunk_0",
           "chunk",
           "entertainment",
           "Dilvin Yasa",
           "The Age"
          ],
          [
           "20_chunk_1",
           "chunk",
           "entertainment",
           "Dilvin Yasa",
           "The Age"
          ],
          [
           "21_chunk_0",
           "chunk",
           "entertainment",
           "Amber Raiken",
           "The Independent - Life and Style"
          ],
          [
           "21_chunk_1",
           "chunk",
           "entertainment",
           "Amber Raiken",
           "The Independent - Life and Style"
          ],
          [
           "22_chunk_0",
           "chunk",
           "sports",
           "Christy Doran",
           "The Roar | Sports Writers Blog"
          ],
          [
           "22_chunk_1",
           "chunk",
           "sports",
           "Christy Doran",
           "The Roar | Sports Writers Blog"
          ],
          [
           "23_chunk_0",
           "chunk",
           "sports",
           "Christy Doran",
           "The Roar | Sports Writers Blog"
          ],
          [
           "23_chunk_1",
           "chunk",
           "sports",
           "Christy Doran",
           "The Roar | Sports Writers Blog"
          ],
          [
           "24_chunk_0",
           "chunk",
           "technology",
           "Catherine Shu",
           "TechCrunch"
          ],
          [
           "24_chunk_1",
           "chunk",
           "technology",
           "Catherine Shu",
           "TechCrunch"
          ],
          [
           "25_chunk_0",
           "chunk",
           "technology",
           "Natasha Lomas",
           "TechCrunch"
          ],
          [
           "25_chunk_1",
           "chunk",
           "technology",
           "Natasha Lomas",
           "TechCrunch"
          ],
          [
           "25_chunk_2",
           "chunk",
           "technology",
           "Natasha Lomas",
           "TechCrunch"
          ],
          [
           "26_chunk_0",
           "chunk",
           "technology",
           "Sarah Perez",
           "TechCrunch"
          ],
          [
           "26_chunk_1",
           "chunk",
           "technology",
           "Sarah Perez",
           "TechCrunch"
          ],
          [
           "26_chunk_2",
           "chunk",
           "technology",
           "Sarah Perez",
           "TechCrunch"
          ],
          [
           "27_chunk_0",
           "chunk",
           "business",
           "Cade Metz, Karen Weise, Nico Grant and Mike Isaac",
           "The Age"
          ],
          [
           "27_chunk_1",
           "chunk",
           "business",
           "Cade Metz, Karen Weise, Nico Grant and Mike Isaac",
           "The Age"
          ],
          [
           "27_chunk_2",
           "chunk",
           "business",
           "Cade Metz, Karen Weise, Nico Grant and Mike Isaac",
           "The Age"
          ],
          [
           "27_chunk_3",
           "chunk",
           "business",
           "Cade Metz, Karen Weise, Nico Grant and Mike Isaac",
           "The Age"
          ],
          [
           "27_chunk_4",
           "chunk",
           "business",
           "Cade Metz, Karen Weise, Nico Grant and Mike Isaac",
           "The Age"
          ],
          [
           "28_chunk_0",
           "chunk",
           "business",
           "Stan Choe",
           "The Sydney Morning Herald"
          ],
          [
           "28_chunk_1",
           "chunk",
           "business",
           "Stan Choe",
           "The Sydney Morning Herald"
          ],
          [
           "29_chunk_0",
           "chunk",
           "business",
           "Stan Choe",
           "The Age"
          ],
          [
           "29_chunk_1",
           "chunk",
           "business",
           "Stan Choe",
           "The Age"
          ],
          [
           "30_chunk_0",
           "chunk",
           "technology",
           "Ingrid Lunden",
           "TechCrunch"
          ],
          [
           "30_chunk_1",
           "chunk",
           "technology",
           "Ingrid Lunden",
           "TechCrunch"
          ],
          [
           "31_chunk_0",
           "chunk",
           "business",
           "Ben Weiss",
           "Fortune"
          ],
          [
           "31_chunk_1",
           "chunk",
           "business",
           "Ben Weiss",
           "Fortune"
          ],
          [
           "32_chunk_0",
           "chunk",
           "technology",
           "Tim Biggs",
           "The Age"
          ],
          [
           "32_chunk_1",
           "chunk",
           "technology",
           "Tim Biggs",
           "The Age"
          ],
          [
           "33_chunk_0",
           "chunk",
           "technology",
           "Sarah Perez",
           "TechCrunch"
          ],
          [
           "33_chunk_1",
           "chunk",
           "technology",
           "Sarah Perez",
           "TechCrunch"
          ],
          [
           "34_chunk_0",
           "chunk",
           "sports",
           "David Suggs",
           "Sporting News"
          ],
          [
           "34_chunk_1",
           "chunk",
           "sports",
           "David Suggs",
           "Sporting News"
          ],
          [
           "34_chunk_2",
           "chunk",
           "sports",
           "David Suggs",
           "Sporting News"
          ],
          [
           "35_chunk_0",
           "chunk",
           "sports",
           "Bryan Murphy",
           "Sporting News"
          ],
          [
           "35_chunk_1",
           "chunk",
           "sports",
           "Bryan Murphy",
           "Sporting News"
          ],
          [
           "35_chunk_2",
           "chunk",
           "sports",
           "Bryan Murphy",
           "Sporting News"
          ],
          [
           "35_chunk_3",
           "chunk",
           "sports",
           "Bryan Murphy",
           "Sporting News"
          ],
          [
           "35_chunk_4",
           "chunk",
           "sports",
           "Bryan Murphy",
           "Sporting News"
          ],
          [
           "36_chunk_0",
           "chunk",
           "entertainment",
           "Amber Raiken",
           "The Independent - Life and Style"
          ],
          [
           "36_chunk_1",
           "chunk",
           "entertainment",
           "Amber Raiken",
           "The Independent - Life and Style"
          ],
          [
           "36_chunk_2",
           "chunk",
           "entertainment",
           "Amber Raiken",
           "The Independent - Life and Style"
          ],
          [
           "37_chunk_0",
           "chunk",
           "sports",
           "Kyle Irving",
           "Sporting News"
          ],
          [
           "37_chunk_1",
           "chunk",
           "sports",
           "Kyle Irving",
           "Sporting News"
          ],
          [
           "37_chunk_2",
           "chunk",
           "sports",
           "Kyle Irving",
           "Sporting News"
          ],
          [
           "38_chunk_0",
           "chunk",
           "technology",
           "Romain Dillet",
           "TechCrunch"
          ],
          [
           "38_chunk_1",
           "chunk",
           "technology",
           "Romain Dillet",
           "TechCrunch"
          ],
          [
           "39_chunk_0",
           "chunk",
           "technology",
           "Natasha Lomas",
           "TechCrunch"
          ],
          [
           "39_chunk_1",
           "chunk",
           "technology",
           "Natasha Lomas",
           "TechCrunch"
          ],
          [
           "40_chunk_0",
           "chunk",
           "sports",
           "Vinnie Iyer",
           "Sporting News"
          ],
          [
           "40_chunk_1",
           "chunk",
           "sports",
           "Vinnie Iyer",
           "Sporting News"
          ],
          [
           "41_chunk_0",
           "chunk",
           "sports",
           "Kyle Bonn",
           "Sporting News"
          ],
          [
           "41_chunk_1",
           "chunk",
           "sports",
           "Kyle Bonn",
           "Sporting News"
          ],
          [
           "41_chunk_2",
           "chunk",
           "sports",
           "Kyle Bonn",
           "Sporting News"
          ],
          [
           "41_chunk_3",
           "chunk",
           "sports",
           "Kyle Bonn",
           "Sporting News"
          ],
          [
           "41_chunk_4",
           "chunk",
           "sports",
           "Kyle Bonn",
           "Sporting News"
          ],
          [
           "42_chunk_0",
           "chunk",
           "technology",
           "Sarah Perez",
           "TechCrunch"
          ],
          [
           "42_chunk_1",
           "chunk",
           "technology",
           "Sarah Perez",
           "TechCrunch"
          ],
          [
           "43_chunk_0",
           "chunk",
           "technology",
           "Haje Jan Kamps",
           "TechCrunch"
          ],
          [
           "43_chunk_1",
           "chunk",
           "technology",
           "Haje Jan Kamps",
           "TechCrunch"
          ],
          [
           "44_chunk_0",
           "chunk",
           "entertainment",
           "Nell Geraets",
           "The Age"
          ],
          [
           "44_chunk_1",
           "chunk",
           "entertainment",
           "Nell Geraets",
           "The Age"
          ],
          [
           "45_chunk_0",
           "chunk",
           "entertainment",
           "Amber Raiken",
           "The Independent - Life and Style"
          ],
          [
           "45_chunk_1",
           "chunk",
           "entertainment",
           "Amber Raiken",
           "The Independent - Life and Style"
          ],
          [
           "46_chunk_0",
           "chunk",
           "entertainment",
           "Chelsea Ritschel",
           "The Independent - Life and Style"
          ],
          [
           "46_chunk_1",
           "chunk",
           "entertainment",
           "Chelsea Ritschel",
           "The Independent - Life and Style"
          ],
          [
           "47_chunk_0",
           "chunk",
           "technology",
           "Kyle Wiggers",
           "TechCrunch"
          ],
          [
           "47_chunk_1",
           "chunk",
           "technology",
           "Kyle Wiggers",
           "TechCrunch"
          ],
          [
           "48_chunk_0",
           "chunk",
           "technology",
           "Alyssa Stringer",
           "TechCrunch"
          ],
          [
           "48_chunk_1",
           "chunk",
           "technology",
           "Alyssa Stringer",
           "TechCrunch"
          ],
          [
           "48_chunk_2",
           "chunk",
           "technology",
           "Alyssa Stringer",
           "TechCrunch"
          ],
          [
           "48_chunk_3",
           "chunk",
           "technology",
           "Alyssa Stringer",
           "TechCrunch"
          ],
          [
           "48_chunk_4",
           "chunk",
           "technology",
           "Alyssa Stringer",
           "TechCrunch"
          ],
          [
           "48_chunk_5",
           "chunk",
           "technology",
           "Alyssa Stringer",
           "TechCrunch"
          ],
          [
           "48_chunk_6",
           "chunk",
           "technology",
           "Alyssa Stringer",
           "TechCrunch"
          ],
          [
           "48_chunk_7",
           "chunk",
           "technology",
           "Alyssa Stringer",
           "TechCrunch"
          ],
          [
           "48_chunk_8",
           "chunk",
           "technology",
           "Alyssa Stringer",
           "TechCrunch"
          ],
          [
           "48_chunk_9",
           "chunk",
           "technology",
           "Alyssa Stringer",
           "TechCrunch"
          ],
          [
           "49_chunk_0",
           "chunk",
           "technology",
           "Alyssa Stringer",
           "TechCrunch"
          ],
          [
           "49_chunk_1",
           "chunk",
           "technology",
           "Alyssa Stringer",
           "TechCrunch"
          ],
          [
           "49_chunk_2",
           "chunk",
           "technology",
           "Alyssa Stringer",
           "TechCrunch"
          ],
          [
           "49_chunk_3",
           "chunk",
           "technology",
           "Alyssa Stringer",
           "TechCrunch"
          ],
          [
           "49_chunk_4",
           "chunk",
           "technology",
           "Alyssa Stringer",
           "TechCrunch"
          ],
          [
           "49_chunk_5",
           "chunk",
           "technology",
           "Alyssa Stringer",
           "TechCrunch"
          ],
          [
           "49_chunk_6",
           "chunk",
           "technology",
           "Alyssa Stringer",
           "TechCrunch"
          ],
          [
           "49_chunk_7",
           "chunk",
           "technology",
           "Alyssa Stringer",
           "TechCrunch"
          ],
          [
           "50_chunk_0",
           "chunk",
           "technology",
           "Jessica Conditt",
           "Engadget"
          ],
          [
           "50_chunk_1",
           "chunk",
           "technology",
           "Jessica Conditt",
           "Engadget"
          ],
          [
           "50_chunk_2",
           "chunk",
           "technology",
           "Jessica Conditt",
           "Engadget"
          ],
          [
           "51_chunk_0",
           "chunk",
           "entertainment",
           "Amber Raiken",
           "The Independent - Life and Style"
          ],
          [
           "51_chunk_1",
           "chunk",
           "entertainment",
           "Amber Raiken",
           "The Independent - Life and Style"
          ],
          [
           "51_chunk_2",
           "chunk",
           "entertainment",
           "Amber Raiken",
           "The Independent - Life and Style"
          ],
          [
           "52_chunk_0",
           "chunk",
           "entertainment",
           "Laura Snapes",
           "The Guardian"
          ],
          [
           "52_chunk_1",
           "chunk",
           "entertainment",
           "Laura Snapes",
           "The Guardian"
          ],
          [
           "52_chunk_2",
           "chunk",
           "entertainment",
           "Laura Snapes",
           "The Guardian"
          ],
          [
           "52_chunk_3",
           "chunk",
           "entertainment",
           "Laura Snapes",
           "The Guardian"
          ],
          [
           "53_chunk_0",
           "chunk",
           "technology",
           "Elizabeth Lopatto",
           "The Verge"
          ],
          [
           "53_chunk_1",
           "chunk",
           "technology",
           "Elizabeth Lopatto",
           "The Verge"
          ],
          [
           "53_chunk_2",
           "chunk",
           "technology",
           "Elizabeth Lopatto",
           "The Verge"
          ],
          [
           "54_chunk_0",
           "chunk",
           "technology",
           "Paul Sawers",
           "TechCrunch"
          ],
          [
           "54_chunk_1",
           "chunk",
           "technology",
           "Paul Sawers",
           "TechCrunch"
          ],
          [
           "55_chunk_0",
           "chunk",
           "entertainment",
           "Pete Volk",
           "Polygon"
          ],
          [
           "55_chunk_1",
           "chunk",
           "entertainment",
           "Pete Volk",
           "Polygon"
          ],
          [
           "55_chunk_2",
           "chunk",
           "entertainment",
           "Pete Volk",
           "Polygon"
          ],
          [
           "56_chunk_0",
           "chunk",
           "sports",
           "Nick Brinkerhoff",
           "Sporting News"
          ],
          [
           "56_chunk_1",
           "chunk",
           "sports",
           "Nick Brinkerhoff",
           "Sporting News"
          ],
          [
           "57_chunk_0",
           "chunk",
           "sports",
           "Dave Richard",
           "CBSSports.com"
          ],
          [
           "57_chunk_1",
           "chunk",
           "sports",
           "Dave Richard",
           "CBSSports.com"
          ],
          [
           "57_chunk_2",
           "chunk",
           "sports",
           "Dave Richard",
           "CBSSports.com"
          ],
          [
           "57_chunk_3",
           "chunk",
           "sports",
           "Dave Richard",
           "CBSSports.com"
          ],
          [
           "57_chunk_4",
           "chunk",
           "sports",
           "Dave Richard",
           "CBSSports.com"
          ],
          [
           "57_chunk_5",
           "chunk",
           "sports",
           "Dave Richard",
           "CBSSports.com"
          ],
          [
           "57_chunk_6",
           "chunk",
           "sports",
           "Dave Richard",
           "CBSSports.com"
          ],
          [
           "58_chunk_0",
           "chunk",
           "sports",
           "Dave Richard",
           "CBSSports.com"
          ],
          [
           "58_chunk_1",
           "chunk",
           "sports",
           "Dave Richard",
           "CBSSports.com"
          ],
          [
           "58_chunk_2",
           "chunk",
           "sports",
           "Dave Richard",
           "CBSSports.com"
          ],
          [
           "58_chunk_3",
           "chunk",
           "sports",
           "Dave Richard",
           "CBSSports.com"
          ],
          [
           "58_chunk_4",
           "chunk",
           "sports",
           "Dave Richard",
           "CBSSports.com"
          ],
          [
           "58_chunk_5",
           "chunk",
           "sports",
           "Dave Richard",
           "CBSSports.com"
          ],
          [
           "58_chunk_6",
           "chunk",
           "sports",
           "Dave Richard",
           "CBSSports.com"
          ],
          [
           "58_chunk_7",
           "chunk",
           "sports",
           "Dave Richard",
           "CBSSports.com"
          ],
          [
           "58_chunk_8",
           "chunk",
           "sports",
           "Dave Richard",
           "CBSSports.com"
          ],
          [
           "58_chunk_9",
           "chunk",
           "sports",
           "Dave Richard",
           "CBSSports.com"
          ],
          [
           "58_chunk_10",
           "chunk",
           "sports",
           "Dave Richard",
           "CBSSports.com"
          ],
          [
           "58_chunk_11",
           "chunk",
           "sports",
           "Dave Richard",
           "CBSSports.com"
          ],
          [
           "58_chunk_12",
           "chunk",
           "sports",
           "Dave Richard",
           "CBSSports.com"
          ],
          [
           "59_chunk_0",
           "chunk",
           "sports",
           "Shanna McCarriston",
           "CBSSports.com"
          ],
          [
           "59_chunk_1",
           "chunk",
           "sports",
           "Shanna McCarriston",
           "CBSSports.com"
          ],
          [
           "59_chunk_2",
           "chunk",
           "sports",
           "Shanna McCarriston",
           "CBSSports.com"
          ],
          [
           "60_chunk_0",
           "chunk",
           "sports",
           "Martin Derbyshire",
           "Sporting News"
          ],
          [
           "60_chunk_1",
           "chunk",
           "sports",
           "Martin Derbyshire",
           "Sporting News"
          ],
          [
           "61_chunk_0",
           "chunk",
           "sports",
           "Sam Eggleston",
           "Sporting News"
          ],
          [
           "61_chunk_1",
           "chunk",
           "sports",
           "Sam Eggleston",
           "Sporting News"
          ],
          [
           "61_chunk_2",
           "chunk",
           "sports",
           "Sam Eggleston",
           "Sporting News"
          ],
          [
           "61_chunk_3",
           "chunk",
           "sports",
           "Sam Eggleston",
           "Sporting News"
          ],
          [
           "62_chunk_0",
           "chunk",
           "sports",
           "Sam Eggleston",
           "Sporting News"
          ],
          [
           "62_chunk_1",
           "chunk",
           "sports",
           "Sam Eggleston",
           "Sporting News"
          ],
          [
           "63_chunk_0",
           "chunk",
           "sports",
           "James Wallace",
           "The Guardian"
          ],
          [
           "63_chunk_1",
           "chunk",
           "sports",
           "James Wallace",
           "The Guardian"
          ],
          [
           "63_chunk_2",
           "chunk",
           "sports",
           "James Wallace",
           "The Guardian"
          ],
          [
           "64_chunk_0",
           "chunk",
           "sports",
           "Rob Smyth",
           "The Guardian"
          ],
          [
           "64_chunk_1",
           "chunk",
           "sports",
           "Rob Smyth",
           "The Guardian"
          ],
          [
           "64_chunk_2",
           "chunk",
           "sports",
           "Rob Smyth",
           "The Guardian"
          ],
          [
           "65_chunk_0",
           "chunk",
           "health",
           "unknown",
           "FOX News - Health"
          ],
          [
           "65_chunk_1",
           "chunk",
           "health",
           "unknown",
           "FOX News - Health"
          ],
          [
           "66_chunk_0",
           "chunk",
           "health",
           "unknown",
           "FOX News - Health"
          ],
          [
           "66_chunk_1",
           "chunk",
           "health",
           "unknown",
           "FOX News - Health"
          ],
          [
           "67_chunk_0",
           "chunk",
           "entertainment",
           "unknown",
           "FOX News - Lifestyle"
          ],
          [
           "67_chunk_1",
           "chunk",
           "entertainment",
           "unknown",
           "FOX News - Lifestyle"
          ],
          [
           "68_chunk_0",
           "chunk",
           "entertainment",
           "",
           "The Independent - Life and Style"
          ],
          [
           "68_chunk_1",
           "chunk",
           "entertainment",
           "",
           "The Independent - Life and Style"
          ],
          [
           "69_chunk_0",
           "chunk",
           "technology",
           "Sheena Vasani",
           "The Verge"
          ],
          [
           "69_chunk_1",
           "chunk",
           "technology",
           "Sheena Vasani",
           "The Verge"
          ],
          [
           "70_chunk_0",
           "chunk",
           "entertainment",
           "Amber Raiken",
           "The Independent - Life and Style"
          ],
          [
           "70_chunk_1",
           "chunk",
           "entertainment",
           "Amber Raiken",
           "The Independent - Life and Style"
          ],
          [
           "71_chunk_0",
           "chunk",
           "sports",
           "CBS Sports Staff",
           "CBSSports.com"
          ],
          [
           "71_chunk_1",
           "chunk",
           "sports",
           "CBS Sports Staff",
           "CBSSports.com"
          ],
          [
           "71_chunk_2",
           "chunk",
           "sports",
           "CBS Sports Staff",
           "CBSSports.com"
          ],
          [
           "71_chunk_3",
           "chunk",
           "sports",
           "CBS Sports Staff",
           "CBSSports.com"
          ],
          [
           "72_chunk_0",
           "chunk",
           "sports",
           "Martin Harris",
           "Sporting News"
          ],
          [
           "72_chunk_1",
           "chunk",
           "sports",
           "Martin Harris",
           "Sporting News"
          ],
          [
           "72_chunk_2",
           "chunk",
           "sports",
           "Martin Harris",
           "Sporting News"
          ],
          [
           "72_chunk_3",
           "chunk",
           "sports",
           "Martin Harris",
           "Sporting News"
          ],
          [
           "72_chunk_4",
           "chunk",
           "sports",
           "Martin Harris",
           "Sporting News"
          ],
          [
           "73_chunk_0",
           "chunk",
           "business",
           "Roi Weinberger",
           "Globes English | Israel Business Arena"
          ],
          [
           "73_chunk_1",
           "chunk",
           "business",
           "Roi Weinberger",
           "Globes English | Israel Business Arena"
          ],
          [
           "74_chunk_0",
           "chunk",
           "business",
           "STAN CHOE",
           "The Age"
          ],
          [
           "74_chunk_1",
           "chunk",
           "business",
           "STAN CHOE",
           "The Age"
          ],
          [
           "75_chunk_0",
           "chunk",
           "technology",
           "Christine Hall",
           "TechCrunch"
          ],
          [
           "75_chunk_1",
           "chunk",
           "technology",
           "Christine Hall",
           "TechCrunch"
          ],
          [
           "75_chunk_2",
           "chunk",
           "technology",
           "Christine Hall",
           "TechCrunch"
          ],
          [
           "76_chunk_0",
           "chunk",
           "technology",
           "unknown",
           "Hacker News"
          ],
          [
           "76_chunk_1",
           "chunk",
           "technology",
           "unknown",
           "Hacker News"
          ],
          [
           "76_chunk_2",
           "chunk",
           "technology",
           "unknown",
           "Hacker News"
          ],
          [
           "76_chunk_3",
           "chunk",
           "technology",
           "unknown",
           "Hacker News"
          ],
          [
           "77_chunk_0",
           "chunk",
           "technology",
           "Sam Rutherford",
           "Engadget"
          ],
          [
           "77_chunk_1",
           "chunk",
           "technology",
           "Sam Rutherford",
           "Engadget"
          ],
          [
           "78_chunk_0",
           "chunk",
           "business",
           "Assaf Gilead",
           "Globes English | Israel Business Arena"
          ],
          [
           "78_chunk_1",
           "chunk",
           "business",
           "Assaf Gilead",
           "Globes English | Israel Business Arena"
          ],
          [
           "78_chunk_2",
           "chunk",
           "business",
           "Assaf Gilead",
           "Globes English | Israel Business Arena"
          ],
          [
           "78_chunk_3",
           "chunk",
           "business",
           "Assaf Gilead",
           "Globes English | Israel Business Arena"
          ],
          [
           "78_chunk_4",
           "chunk",
           "business",
           "Assaf Gilead",
           "Globes English | Israel Business Arena"
          ],
          [
           "79_chunk_0",
           "chunk",
           "sports",
           "Bill Bender",
           "Sporting News"
          ],
          [
           "79_chunk_1",
           "chunk",
           "sports",
           "Bill Bender",
           "Sporting News"
          ],
          [
           "79_chunk_2",
           "chunk",
           "sports",
           "Bill Bender",
           "Sporting News"
          ],
          [
           "80_chunk_0",
           "chunk",
           "sports",
           "Edward Sutelan",
           "Sporting News"
          ],
          [
           "81_chunk_0",
           "chunk",
           "entertainment",
           "Tasha Robinson",
           "Polygon"
          ],
          [
           "81_chunk_1",
           "chunk",
           "entertainment",
           "Tasha Robinson",
           "Polygon"
          ],
          [
           "81_chunk_2",
           "chunk",
           "entertainment",
           "Tasha Robinson",
           "Polygon"
          ],
          [
           "82_chunk_0",
           "chunk",
           "sports",
           "Mintu Tomar",
           "Essentially Sports"
          ],
          [
           "82_chunk_1",
           "chunk",
           "sports",
           "Mintu Tomar",
           "Essentially Sports"
          ],
          [
           "83_chunk_0",
           "chunk",
           "technology",
           "Elizabeth Lopatto",
           "The Verge"
          ],
          [
           "83_chunk_1",
           "chunk",
           "technology",
           "Elizabeth Lopatto",
           "The Verge"
          ],
          [
           "84_chunk_0",
           "chunk",
           "science",
           "Rebecca Owen",
           "Eos: Earth And Space Science News"
          ],
          [
           "84_chunk_1",
           "chunk",
           "science",
           "Rebecca Owen",
           "Eos: Earth And Space Science News"
          ],
          [
           "85_chunk_0",
           "chunk",
           "business",
           "Murray Stassen",
           "Music Business Worldwide"
          ],
          [
           "85_chunk_1",
           "chunk",
           "business",
           "Murray Stassen",
           "Music Business Worldwide"
          ],
          [
           "85_chunk_2",
           "chunk",
           "business",
           "Murray Stassen",
           "Music Business Worldwide"
          ],
          [
           "85_chunk_3",
           "chunk",
           "business",
           "Murray Stassen",
           "Music Business Worldwide"
          ],
          [
           "86_chunk_0",
           "chunk",
           "technology",
           "Elizabeth Lopatto",
           "The Verge"
          ],
          [
           "86_chunk_1",
           "chunk",
           "technology",
           "Elizabeth Lopatto",
           "The Verge"
          ],
          [
           "86_chunk_2",
           "chunk",
           "technology",
           "Elizabeth Lopatto",
           "The Verge"
          ],
          [
           "87_chunk_0",
           "chunk",
           "business",
           "Stan Choe",
           "The Sydney Morning Herald"
          ],
          [
           "87_chunk_1",
           "chunk",
           "business",
           "Stan Choe",
           "The Sydney Morning Herald"
          ],
          [
           "88_chunk_0",
           "chunk",
           "sports",
           "Kyle Bonn",
           "Sporting News"
          ],
          [
           "88_chunk_1",
           "chunk",
           "sports",
           "Kyle Bonn",
           "Sporting News"
          ],
          [
           "88_chunk_2",
           "chunk",
           "sports",
           "Kyle Bonn",
           "Sporting News"
          ],
          [
           "88_chunk_3",
           "chunk",
           "sports",
           "Kyle Bonn",
           "Sporting News"
          ],
          [
           "88_chunk_4",
           "chunk",
           "sports",
           "Kyle Bonn",
           "Sporting News"
          ],
          [
           "89_chunk_0",
           "chunk",
           "business",
           "Jamie Jackson",
           "The Guardian"
          ],
          [
           "89_chunk_1",
           "chunk",
           "business",
           "Jamie Jackson",
           "The Guardian"
          ],
          [
           "90_chunk_0",
           "chunk",
           "technology",
           "Antonio G. Di Benedetto",
           "The Verge"
          ],
          [
           "90_chunk_1",
           "chunk",
           "technology",
           "Antonio G. Di Benedetto",
           "The Verge"
          ],
          [
           "90_chunk_2",
           "chunk",
           "technology",
           "Antonio G. Di Benedetto",
           "The Verge"
          ],
          [
           "91_chunk_0",
           "chunk",
           "technology",
           "Amy Skorheim",
           "Engadget"
          ],
          [
           "91_chunk_1",
           "chunk",
           "technology",
           "Amy Skorheim",
           "Engadget"
          ],
          [
           "91_chunk_2",
           "chunk",
           "technology",
           "Amy Skorheim",
           "Engadget"
          ],
          [
           "92_chunk_0",
           "chunk",
           "sports",
           "Andy Hunter",
           "The Guardian"
          ],
          [
           "92_chunk_1",
           "chunk",
           "sports",
           "Andy Hunter",
           "The Guardian"
          ],
          [
           "93_chunk_0",
           "chunk",
           "sports",
           "Reuters",
           "The Guardian"
          ],
          [
           "93_chunk_1",
           "chunk",
           "sports",
           "Reuters",
           "The Guardian"
          ],
          [
           "94_chunk_0",
           "chunk",
           "entertainment",
           "Pete Volk",
           "Polygon"
          ],
          [
           "94_chunk_1",
           "chunk",
           "entertainment",
           "Pete Volk",
           "Polygon"
          ],
          [
           "94_chunk_2",
           "chunk",
           "entertainment",
           "Pete Volk",
           "Polygon"
          ],
          [
           "94_chunk_3",
           "chunk",
           "entertainment",
           "Pete Volk",
           "Polygon"
          ],
          [
           "94_chunk_4",
           "chunk",
           "entertainment",
           "Pete Volk",
           "Polygon"
          ],
          [
           "94_chunk_5",
           "chunk",
           "entertainment",
           "Pete Volk",
           "Polygon"
          ],
          [
           "94_chunk_6",
           "chunk",
           "entertainment",
           "Pete Volk",
           "Polygon"
          ],
          [
           "94_chunk_7",
           "chunk",
           "entertainment",
           "Pete Volk",
           "Polygon"
          ],
          [
           "94_chunk_8",
           "chunk",
           "entertainment",
           "Pete Volk",
           "Polygon"
          ],
          [
           "94_chunk_9",
           "chunk",
           "entertainment",
           "Pete Volk",
           "Polygon"
          ],
          [
           "94_chunk_10",
           "chunk",
           "entertainment",
           "Pete Volk",
           "Polygon"
          ],
          [
           "94_chunk_11",
           "chunk",
           "entertainment",
           "Pete Volk",
           "Polygon"
          ],
          [
           "94_chunk_12",
           "chunk",
           "entertainment",
           "Pete Volk",
           "Polygon"
          ],
          [
           "94_chunk_13",
           "chunk",
           "entertainment",
           "Pete Volk",
           "Polygon"
          ],
          [
           "95_chunk_0",
           "chunk",
           "entertainment",
           "Amber Raiken",
           "The Independent - Life and Style"
          ],
          [
           "95_chunk_1",
           "chunk",
           "entertainment",
           "Amber Raiken",
           "The Independent - Life and Style"
          ],
          [
           "96_chunk_0",
           "chunk",
           "technology",
           "Natalie Weiner",
           "The Verge"
          ],
          [
           "96_chunk_1",
           "chunk",
           "technology",
           "Natalie Weiner",
           "The Verge"
          ],
          [
           "96_chunk_2",
           "chunk",
           "technology",
           "Natalie Weiner",
           "The Verge"
          ],
          [
           "97_chunk_0",
           "chunk",
           "business",
           "Paolo Confino",
           "Fortune"
          ],
          [
           "97_chunk_1",
           "chunk",
           "business",
           "Paolo Confino",
           "Fortune"
          ],
          [
           "98_chunk_0",
           "chunk",
           "technology",
           "Devin Coldewey",
           "TechCrunch"
          ],
          [
           "98_chunk_1",
           "chunk",
           "technology",
           "Devin Coldewey",
           "TechCrunch"
          ],
          [
           "99_chunk_0",
           "chunk",
           "technology",
           "Andrew Tarantola",
           "Engadget"
          ],
          [
           "99_chunk_1",
           "chunk",
           "technology",
           "Andrew Tarantola",
           "Engadget"
          ],
          [
           "99_chunk_2",
           "chunk",
           "technology",
           "Andrew Tarantola",
           "Engadget"
          ],
          [
           "100_chunk_0",
           "chunk",
           "sports",
           "Kyle Bonn",
           "Sporting News"
          ],
          [
           "100_chunk_1",
           "chunk",
           "sports",
           "Kyle Bonn",
           "Sporting News"
          ],
          [
           "100_chunk_2",
           "chunk",
           "sports",
           "Kyle Bonn",
           "Sporting News"
          ],
          [
           "101_chunk_0",
           "chunk",
           "sports",
           "Ed Aarons at Stamford Bridge",
           "The Guardian"
          ],
          [
           "101_chunk_1",
           "chunk",
           "sports",
           "Ed Aarons at Stamford Bridge",
           "The Guardian"
          ],
          [
           "102_chunk_0",
           "chunk",
           "sports",
           "The New York Times",
           "The New York Times"
          ],
          [
           "102_chunk_1",
           "chunk",
           "sports",
           "The New York Times",
           "The New York Times"
          ],
          [
           "102_chunk_2",
           "chunk",
           "sports",
           "The New York Times",
           "The New York Times"
          ],
          [
           "102_chunk_3",
           "chunk",
           "sports",
           "The New York Times",
           "The New York Times"
          ],
          [
           "103_chunk_0",
           "chunk",
           "sports",
           "Tony Mejia",
           "Sporting News"
          ],
          [
           "103_chunk_1",
           "chunk",
           "sports",
           "Tony Mejia",
           "Sporting News"
          ],
          [
           "104_chunk_0",
           "chunk",
           "technology",
           "Amy Skorheim",
           "Engadget"
          ],
          [
           "104_chunk_1",
           "chunk",
           "technology",
           "Amy Skorheim",
           "Engadget"
          ],
          [
           "104_chunk_2",
           "chunk",
           "technology",
           "Amy Skorheim",
           "Engadget"
          ],
          [
           "105_chunk_0",
           "chunk",
           "sports",
           "Kyle Bonn",
           "Sporting News"
          ],
          [
           "105_chunk_1",
           "chunk",
           "sports",
           "Kyle Bonn",
           "Sporting News"
          ],
          [
           "106_chunk_0",
           "chunk",
           "technology",
           "Morgan Sung",
           "TechCrunch"
          ],
          [
           "106_chunk_1",
           "chunk",
           "technology",
           "Morgan Sung",
           "TechCrunch"
          ],
          [
           "106_chunk_2",
           "chunk",
           "technology",
           "Morgan Sung",
           "TechCrunch"
          ],
          [
           "106_chunk_3",
           "chunk",
           "technology",
           "Morgan Sung",
           "TechCrunch"
          ],
          [
           "107_chunk_0",
           "chunk",
           "technology",
           "Natasha Lomas",
           "TechCrunch"
          ],
          [
           "107_chunk_1",
           "chunk",
           "technology",
           "Natasha Lomas",
           "TechCrunch"
          ],
          [
           "108_chunk_0",
           "chunk",
           "sports",
           "The New York Times",
           "The New York Times"
          ],
          [
           "108_chunk_1",
           "chunk",
           "sports",
           "The New York Times",
           "The New York Times"
          ],
          [
           "108_chunk_2",
           "chunk",
           "sports",
           "The New York Times",
           "The New York Times"
          ],
          [
           "108_chunk_3",
           "chunk",
           "sports",
           "The New York Times",
           "The New York Times"
          ],
          [
           "109_chunk_0",
           "chunk",
           "sports",
           "David Hytner",
           "The Guardian"
          ],
          [
           "109_chunk_1",
           "chunk",
           "sports",
           "David Hytner",
           "The Guardian"
          ],
          [
           "110_chunk_0",
           "chunk",
           "sports",
           "unknown",
           "Sky Sports"
          ],
          [
           "110_chunk_1",
           "chunk",
           "sports",
           "unknown",
           "Sky Sports"
          ],
          [
           "111_chunk_0",
           "chunk",
           "business",
           "unknown",
           "Business Line"
          ],
          [
           "111_chunk_1",
           "chunk",
           "business",
           "unknown",
           "Business Line"
          ],
          [
           "112_chunk_0",
           "chunk",
           "business",
           "Will Daniel",
           "Fortune"
          ],
          [
           "112_chunk_1",
           "chunk",
           "business",
           "Will Daniel",
           "Fortune"
          ],
          [
           "113_chunk_0",
           "chunk",
           "sports",
           "Cody Benjamin",
           "CBSSports.com"
          ],
          [
           "113_chunk_1",
           "chunk",
           "sports",
           "Cody Benjamin",
           "CBSSports.com"
          ],
          [
           "114_chunk_0",
           "chunk",
           "sports",
           "Nick Musial",
           "Sporting News"
          ],
          [
           "114_chunk_1",
           "chunk",
           "sports",
           "Nick Musial",
           "Sporting News"
          ],
          [
           "114_chunk_2",
           "chunk",
           "sports",
           "Nick Musial",
           "Sporting News"
          ],
          [
           "115_chunk_0",
           "chunk",
           "technology",
           "Amanda Chicago Lewis",
           "The Verge"
          ],
          [
           "115_chunk_1",
           "chunk",
           "technology",
           "Amanda Chicago Lewis",
           "The Verge"
          ],
          [
           "115_chunk_2",
           "chunk",
           "technology",
           "Amanda Chicago Lewis",
           "The Verge"
          ],
          [
           "115_chunk_3",
           "chunk",
           "technology",
           "Amanda Chicago Lewis",
           "The Verge"
          ],
          [
           "115_chunk_4",
           "chunk",
           "technology",
           "Amanda Chicago Lewis",
           "The Verge"
          ],
          [
           "115_chunk_5",
           "chunk",
           "technology",
           "Amanda Chicago Lewis",
           "The Verge"
          ],
          [
           "115_chunk_6",
           "chunk",
           "technology",
           "Amanda Chicago Lewis",
           "The Verge"
          ],
          [
           "115_chunk_7",
           "chunk",
           "technology",
           "Amanda Chicago Lewis",
           "The Verge"
          ],
          [
           "115_chunk_8",
           "chunk",
           "technology",
           "Amanda Chicago Lewis",
           "The Verge"
          ],
          [
           "115_chunk_9",
           "chunk",
           "technology",
           "Amanda Chicago Lewis",
           "The Verge"
          ],
          [
           "115_chunk_10",
           "chunk",
           "technology",
           "Amanda Chicago Lewis",
           "The Verge"
          ],
          [
           "116_chunk_0",
           "chunk",
           "technology",
           "Kyle Wiggers",
           "TechCrunch"
          ],
          [
           "116_chunk_1",
           "chunk",
           "technology",
           "Kyle Wiggers",
           "TechCrunch"
          ],
          [
           "117_chunk_0",
           "chunk",
           "technology",
           "Devin Coldewey",
           "TechCrunch"
          ],
          [
           "117_chunk_1",
           "chunk",
           "technology",
           "Devin Coldewey",
           "TechCrunch"
          ],
          [
           "118_chunk_0",
           "chunk",
           "sports",
           "Anthony Franco, MLB Trade Rumors",
           "Yardbarker"
          ],
          [
           "118_chunk_1",
           "chunk",
           "sports",
           "Anthony Franco, MLB Trade Rumors",
           "Yardbarker"
          ],
          [
           "118_chunk_2",
           "chunk",
           "sports",
           "Anthony Franco, MLB Trade Rumors",
           "Yardbarker"
          ],
          [
           "118_chunk_3",
           "chunk",
           "sports",
           "Anthony Franco, MLB Trade Rumors",
           "Yardbarker"
          ],
          [
           "118_chunk_4",
           "chunk",
           "sports",
           "Anthony Franco, MLB Trade Rumors",
           "Yardbarker"
          ],
          [
           "118_chunk_5",
           "chunk",
           "sports",
           "Anthony Franco, MLB Trade Rumors",
           "Yardbarker"
          ],
          [
           "119_chunk_0",
           "chunk",
           "sports",
           "Vinnie Iyer",
           "Sporting News"
          ],
          [
           "119_chunk_1",
           "chunk",
           "sports",
           "Vinnie Iyer",
           "Sporting News"
          ],
          [
           "119_chunk_2",
           "chunk",
           "sports",
           "Vinnie Iyer",
           "Sporting News"
          ],
          [
           "120_chunk_0",
           "chunk",
           "sports",
           "Edward Sutelan",
           "Sporting News"
          ],
          [
           "120_chunk_1",
           "chunk",
           "sports",
           "Edward Sutelan",
           "Sporting News"
          ],
          [
           "120_chunk_2",
           "chunk",
           "sports",
           "Edward Sutelan",
           "Sporting News"
          ],
          [
           "120_chunk_3",
           "chunk",
           "sports",
           "Edward Sutelan",
           "Sporting News"
          ],
          [
           "120_chunk_4",
           "chunk",
           "sports",
           "Edward Sutelan",
           "Sporting News"
          ],
          [
           "121_chunk_0",
           "chunk",
           "technology",
           "Elizabeth Lopatto",
           "The Verge"
          ],
          [
           "121_chunk_1",
           "chunk",
           "technology",
           "Elizabeth Lopatto",
           "The Verge"
          ],
          [
           "121_chunk_2",
           "chunk",
           "technology",
           "Elizabeth Lopatto",
           "The Verge"
          ],
          [
           "122_chunk_0",
           "chunk",
           "entertainment",
           "Ryan Gilliam",
           "Polygon"
          ],
          [
           "122_chunk_1",
           "chunk",
           "entertainment",
           "Ryan Gilliam",
           "Polygon"
          ],
          [
           "122_chunk_2",
           "chunk",
           "entertainment",
           "Ryan Gilliam",
           "Polygon"
          ],
          [
           "123_chunk_0",
           "chunk",
           "entertainment",
           "Ryan Gilliam",
           "Polygon"
          ],
          [
           "123_chunk_1",
           "chunk",
           "entertainment",
           "Ryan Gilliam",
           "Polygon"
          ],
          [
           "124_chunk_0",
           "chunk",
           "technology",
           "Morgan Sung",
           "TechCrunch"
          ],
          [
           "124_chunk_1",
           "chunk",
           "technology",
           "Morgan Sung",
           "TechCrunch"
          ],
          [
           "125_chunk_0",
           "chunk",
           "business",
           "Hezi Sternlicht",
           "Globes English | Israel Business Arena"
          ],
          [
           "125_chunk_1",
           "chunk",
           "business",
           "Hezi Sternlicht",
           "Globes English | Israel Business Arena"
          ],
          [
           "126_chunk_0",
           "chunk",
           "technology",
           "Kyle Wiggers",
           "TechCrunch"
          ],
          [
           "126_chunk_1",
           "chunk",
           "technology",
           "Kyle Wiggers",
           "TechCrunch"
          ],
          [
           "127_chunk_0",
           "chunk",
           "technology",
           "Mia Sato",
           "The Verge"
          ],
          [
           "127_chunk_1",
           "chunk",
           "technology",
           "Mia Sato",
           "The Verge"
          ],
          [
           "127_chunk_2",
           "chunk",
           "technology",
           "Mia Sato",
           "The Verge"
          ],
          [
           "128_chunk_0",
           "chunk",
           "entertainment",
           "unknown",
           "FOX News - Lifestyle"
          ],
          [
           "128_chunk_1",
           "chunk",
           "entertainment",
           "unknown",
           "FOX News - Lifestyle"
          ],
          [
           "129_chunk_0",
           "chunk",
           "sports",
           "Brad Cox",
           "Sporting News"
          ],
          [
           "129_chunk_1",
           "chunk",
           "sports",
           "Brad Cox",
           "Sporting News"
          ],
          [
           "130_chunk_0",
           "chunk",
           "entertainment",
           "unknown",
           "FOX News - Lifestyle"
          ],
          [
           "130_chunk_1",
           "chunk",
           "entertainment",
           "unknown",
           "FOX News - Lifestyle"
          ],
          [
           "130_chunk_2",
           "chunk",
           "entertainment",
           "unknown",
           "FOX News - Lifestyle"
          ],
          [
           "131_chunk_0",
           "chunk",
           "science",
           "Serina DeSalvio, Texas A&M University",
           "Scitechdaily | Science Space And Technology News 2017"
          ],
          [
           "131_chunk_1",
           "chunk",
           "science",
           "Serina DeSalvio, Texas A&M University",
           "Scitechdaily | Science Space And Technology News 2017"
          ],
          [
           "132_chunk_0",
           "chunk",
           "sports",
           "The Roar",
           "The Roar | Sports Writers Blog"
          ],
          [
           "132_chunk_1",
           "chunk",
           "sports",
           "The Roar",
           "The Roar | Sports Writers Blog"
          ],
          [
           "133_chunk_0",
           "chunk",
           "business",
           "zee business",
           "Zee Business"
          ],
          [
           "133_chunk_1",
           "chunk",
           "business",
           "zee business",
           "Zee Business"
          ],
          [
           "134_chunk_0",
           "chunk",
           "business",
           "unknown",
           "Business Today | Latest Stock Market And Economy News India"
          ],
          [
           "134_chunk_1",
           "chunk",
           "business",
           "unknown",
           "Business Today | Latest Stock Market And Economy News India"
          ],
          [
           "135_chunk_0",
           "chunk",
           "business",
           "Topher L. McDougal, The Conversation",
           "Fortune"
          ],
          [
           "135_chunk_1",
           "chunk",
           "business",
           "Topher L. McDougal, The Conversation",
           "Fortune"
          ],
          [
           "136_chunk_0",
           "chunk",
           "technology",
           "Erika Hayasaki",
           "The Verge"
          ],
          [
           "136_chunk_1",
           "chunk",
           "technology",
           "Erika Hayasaki",
           "The Verge"
          ],
          [
           "136_chunk_2",
           "chunk",
           "technology",
           "Erika Hayasaki",
           "The Verge"
          ],
          [
           "136_chunk_3",
           "chunk",
           "technology",
           "Erika Hayasaki",
           "The Verge"
          ],
          [
           "136_chunk_4",
           "chunk",
           "technology",
           "Erika Hayasaki",
           "The Verge"
          ],
          [
           "136_chunk_5",
           "chunk",
           "technology",
           "Erika Hayasaki",
           "The Verge"
          ],
          [
           "136_chunk_6",
           "chunk",
           "technology",
           "Erika Hayasaki",
           "The Verge"
          ],
          [
           "136_chunk_7",
           "chunk",
           "technology",
           "Erika Hayasaki",
           "The Verge"
          ],
          [
           "136_chunk_8",
           "chunk",
           "technology",
           "Erika Hayasaki",
           "The Verge"
          ],
          [
           "136_chunk_9",
           "chunk",
           "technology",
           "Erika Hayasaki",
           "The Verge"
          ],
          [
           "136_chunk_10",
           "chunk",
           "technology",
           "Erika Hayasaki",
           "The Verge"
          ],
          [
           "136_chunk_11",
           "chunk",
           "technology",
           "Erika Hayasaki",
           "The Verge"
          ],
          [
           "136_chunk_12",
           "chunk",
           "technology",
           "Erika Hayasaki",
           "The Verge"
          ],
          [
           "136_chunk_13",
           "chunk",
           "technology",
           "Erika Hayasaki",
           "The Verge"
          ],
          [
           "136_chunk_14",
           "chunk",
           "technology",
           "Erika Hayasaki",
           "The Verge"
          ],
          [
           "137_chunk_0",
           "chunk",
           "sports",
           "Brian Campbell",
           "CBSSports.com"
          ],
          [
           "137_chunk_1",
           "chunk",
           "sports",
           "Brian Campbell",
           "CBSSports.com"
          ],
          [
           "137_chunk_2",
           "chunk",
           "sports",
           "Brian Campbell",
           "CBSSports.com"
          ],
          [
           "138_chunk_0",
           "chunk",
           "business",
           "Paige Hagy",
           "Fortune"
          ],
          [
           "138_chunk_1",
           "chunk",
           "business",
           "Paige Hagy",
           "Fortune"
          ],
          [
           "139_chunk_0",
           "chunk",
           "science",
           "Maria Rugenstein, Mark Zelinka, Kristopher B. Karnauskas, Paulo Ceppi and Timothy Andrews",
           "Eos: Earth And Space Science News"
          ],
          [
           "139_chunk_1",
           "chunk",
           "science",
           "Maria Rugenstein, Mark Zelinka, Kristopher B. Karnauskas, Paulo Ceppi and Timothy Andrews",
           "Eos: Earth And Space Science News"
          ],
          [
           "139_chunk_2",
           "chunk",
           "science",
           "Maria Rugenstein, Mark Zelinka, Kristopher B. Karnauskas, Paulo Ceppi and Timothy Andrews",
           "Eos: Earth And Space Science News"
          ],
          [
           "139_chunk_3",
           "chunk",
           "science",
           "Maria Rugenstein, Mark Zelinka, Kristopher B. Karnauskas, Paulo Ceppi and Timothy Andrews",
           "Eos: Earth And Space Science News"
          ],
          [
           "139_chunk_4",
           "chunk",
           "science",
           "Maria Rugenstein, Mark Zelinka, Kristopher B. Karnauskas, Paulo Ceppi and Timothy Andrews",
           "Eos: Earth And Space Science News"
          ],
          [
           "140_chunk_0",
           "chunk",
           "technology",
           "Natasha Lomas",
           "TechCrunch"
          ],
          [
           "140_chunk_1",
           "chunk",
           "technology",
           "Natasha Lomas",
           "TechCrunch"
          ],
          [
           "140_chunk_2",
           "chunk",
           "technology",
           "Natasha Lomas",
           "TechCrunch"
          ],
          [
           "141_chunk_0",
           "chunk",
           "technology",
           "Sarah Perez",
           "TechCrunch"
          ],
          [
           "141_chunk_1",
           "chunk",
           "technology",
           "Sarah Perez",
           "TechCrunch"
          ],
          [
           "142_chunk_0",
           "chunk",
           "sports",
           "News",
           "The Roar | Sports Writers Blog"
          ],
          [
           "142_chunk_1",
           "chunk",
           "sports",
           "News",
           "The Roar | Sports Writers Blog"
          ],
          [
           "143_chunk_0",
           "chunk",
           "sports",
           "Dan Treacy",
           "Sporting News"
          ],
          [
           "143_chunk_1",
           "chunk",
           "sports",
           "Dan Treacy",
           "Sporting News"
          ],
          [
           "143_chunk_2",
           "chunk",
           "sports",
           "Dan Treacy",
           "Sporting News"
          ],
          [
           "144_chunk_0",
           "chunk",
           "sports",
           "Dan Treacy",
           "Sporting News"
          ],
          [
           "144_chunk_1",
           "chunk",
           "sports",
           "Dan Treacy",
           "Sporting News"
          ],
          [
           "144_chunk_2",
           "chunk",
           "sports",
           "Dan Treacy",
           "Sporting News"
          ],
          [
           "144_chunk_3",
           "chunk",
           "sports",
           "Dan Treacy",
           "Sporting News"
          ],
          [
           "145_chunk_0",
           "chunk",
           "sports",
           "Travis Pulver",
           "Sporting News"
          ],
          [
           "145_chunk_1",
           "chunk",
           "sports",
           "Travis Pulver",
           "Sporting News"
          ],
          [
           "146_chunk_0",
           "chunk",
           "sports",
           "Heath Cummings",
           "CBSSports.com"
          ],
          [
           "146_chunk_1",
           "chunk",
           "sports",
           "Heath Cummings",
           "CBSSports.com"
          ],
          [
           "147_chunk_0",
           "chunk",
           "entertainment",
           "Sarah Berry",
           "The Age"
          ],
          [
           "147_chunk_1",
           "chunk",
           "entertainment",
           "Sarah Berry",
           "The Age"
          ],
          [
           "148_chunk_0",
           "chunk",
           "entertainment",
           "unknown",
           "FOX News - Lifestyle"
          ],
          [
           "148_chunk_1",
           "chunk",
           "entertainment",
           "unknown",
           "FOX News - Lifestyle"
          ],
          [
           "149_chunk_0",
           "chunk",
           "sports",
           "Dave Richard",
           "CBSSports.com"
          ],
          [
           "149_chunk_1",
           "chunk",
           "sports",
           "Dave Richard",
           "CBSSports.com"
          ],
          [
           "149_chunk_2",
           "chunk",
           "sports",
           "Dave Richard",
           "CBSSports.com"
          ],
          [
           "149_chunk_3",
           "chunk",
           "sports",
           "Dave Richard",
           "CBSSports.com"
          ],
          [
           "149_chunk_4",
           "chunk",
           "sports",
           "Dave Richard",
           "CBSSports.com"
          ],
          [
           "149_chunk_5",
           "chunk",
           "sports",
           "Dave Richard",
           "CBSSports.com"
          ],
          [
           "149_chunk_6",
           "chunk",
           "sports",
           "Dave Richard",
           "CBSSports.com"
          ],
          [
           "149_chunk_7",
           "chunk",
           "sports",
           "Dave Richard",
           "CBSSports.com"
          ],
          [
           "149_chunk_8",
           "chunk",
           "sports",
           "Dave Richard",
           "CBSSports.com"
          ],
          [
           "149_chunk_9",
           "chunk",
           "sports",
           "Dave Richard",
           "CBSSports.com"
          ],
          [
           "149_chunk_10",
           "chunk",
           "sports",
           "Dave Richard",
           "CBSSports.com"
          ],
          [
           "149_chunk_11",
           "chunk",
           "sports",
           "Dave Richard",
           "CBSSports.com"
          ],
          [
           "149_chunk_12",
           "chunk",
           "sports",
           "Dave Richard",
           "CBSSports.com"
          ],
          [
           "150_chunk_0",
           "chunk",
           "sports",
           "Associated Press",
           "The Guardian"
          ],
          [
           "150_chunk_1",
           "chunk",
           "sports",
           "Associated Press",
           "The Guardian"
          ],
          [
           "151_chunk_0",
           "chunk",
           "sports",
           "James Gregory",
           "Sport Grill"
          ],
          [
           "151_chunk_1",
           "chunk",
           "sports",
           "James Gregory",
           "Sport Grill"
          ],
          [
           "152_chunk_0",
           "chunk",
           "sports",
           "Andy Hunter at Anfield",
           "The Guardian"
          ],
          [
           "152_chunk_1",
           "chunk",
           "sports",
           "Andy Hunter at Anfield",
           "The Guardian"
          ],
          [
           "153_chunk_0",
           "chunk",
           "technology",
           "Natasha Lomas",
           "TechCrunch"
          ],
          [
           "153_chunk_1",
           "chunk",
           "technology",
           "Natasha Lomas",
           "TechCrunch"
          ],
          [
           "154_chunk_0",
           "chunk",
           "entertainment",
           "Craig Mathieson",
           "The Sydney Morning Herald"
          ],
          [
           "154_chunk_1",
           "chunk",
           "entertainment",
           "Craig Mathieson",
           "The Sydney Morning Herald"
          ],
          [
           "154_chunk_2",
           "chunk",
           "entertainment",
           "Craig Mathieson",
           "The Sydney Morning Herald"
          ],
          [
           "154_chunk_3",
           "chunk",
           "entertainment",
           "Craig Mathieson",
           "The Sydney Morning Herald"
          ],
          [
           "155_chunk_0",
           "chunk",
           "sports",
           "The New York Times",
           "The New York Times"
          ],
          [
           "155_chunk_1",
           "chunk",
           "sports",
           "The New York Times",
           "The New York Times"
          ],
          [
           "156_chunk_0",
           "chunk",
           "business",
           "Derek Decloet, Bloomberg",
           "Fortune"
          ],
          [
           "156_chunk_1",
           "chunk",
           "business",
           "Derek Decloet, Bloomberg",
           "Fortune"
          ],
          [
           "157_chunk_0",
           "chunk",
           "sports",
           "Kyle Bonn",
           "Sporting News"
          ],
          [
           "157_chunk_1",
           "chunk",
           "sports",
           "Kyle Bonn",
           "Sporting News"
          ],
          [
           "157_chunk_2",
           "chunk",
           "sports",
           "Kyle Bonn",
           "Sporting News"
          ],
          [
           "157_chunk_3",
           "chunk",
           "sports",
           "Kyle Bonn",
           "Sporting News"
          ],
          [
           "157_chunk_4",
           "chunk",
           "sports",
           "Kyle Bonn",
           "Sporting News"
          ],
          [
           "157_chunk_5",
           "chunk",
           "sports",
           "Kyle Bonn",
           "Sporting News"
          ],
          [
           "158_chunk_0",
           "chunk",
           "health",
           "unknown",
           "FOX News - Health"
          ],
          [
           "158_chunk_1",
           "chunk",
           "health",
           "unknown",
           "FOX News - Health"
          ],
          [
           "159_chunk_0",
           "chunk",
           "entertainment",
           "Amber Raiken",
           "The Independent - Life and Style"
          ],
          [
           "160_chunk_0",
           "chunk",
           "technology",
           "Ron Miller",
           "TechCrunch"
          ],
          [
           "160_chunk_1",
           "chunk",
           "technology",
           "Ron Miller",
           "TechCrunch"
          ],
          [
           "161_chunk_0",
           "chunk",
           "technology",
           "Alex Wilhelm",
           "TechCrunch"
          ],
          [
           "161_chunk_1",
           "chunk",
           "technology",
           "Alex Wilhelm",
           "TechCrunch"
          ],
          [
           "161_chunk_2",
           "chunk",
           "technology",
           "Alex Wilhelm",
           "TechCrunch"
          ],
          [
           "162_chunk_0",
           "chunk",
           "technology",
           "Elizabeth Lopatto",
           "The Verge"
          ],
          [
           "162_chunk_1",
           "chunk",
           "technology",
           "Elizabeth Lopatto",
           "The Verge"
          ],
          [
           "163_chunk_0",
           "chunk",
           "health",
           "unknown",
           "FOX News - Health"
          ],
          [
           "163_chunk_1",
           "chunk",
           "health",
           "unknown",
           "FOX News - Health"
          ],
          [
           "163_chunk_2",
           "chunk",
           "health",
           "unknown",
           "FOX News - Health"
          ],
          [
           "164_chunk_0",
           "chunk",
           "technology",
           "Natasha Lomas",
           "TechCrunch"
          ],
          [
           "164_chunk_1",
           "chunk",
           "technology",
           "Natasha Lomas",
           "TechCrunch"
          ],
          [
           "164_chunk_2",
           "chunk",
           "technology",
           "Natasha Lomas",
           "TechCrunch"
          ],
          [
           "165_chunk_0",
           "chunk",
           "entertainment",
           "Toussaint Egan",
           "Polygon"
          ],
          [
           "165_chunk_1",
           "chunk",
           "entertainment",
           "Toussaint Egan",
           "Polygon"
          ],
          [
           "165_chunk_2",
           "chunk",
           "entertainment",
           "Toussaint Egan",
           "Polygon"
          ],
          [
           "165_chunk_3",
           "chunk",
           "entertainment",
           "Toussaint Egan",
           "Polygon"
          ],
          [
           "165_chunk_4",
           "chunk",
           "entertainment",
           "Toussaint Egan",
           "Polygon"
          ],
          [
           "165_chunk_5",
           "chunk",
           "entertainment",
           "Toussaint Egan",
           "Polygon"
          ],
          [
           "165_chunk_6",
           "chunk",
           "entertainment",
           "Toussaint Egan",
           "Polygon"
          ],
          [
           "165_chunk_7",
           "chunk",
           "entertainment",
           "Toussaint Egan",
           "Polygon"
          ],
          [
           "165_chunk_8",
           "chunk",
           "entertainment",
           "Toussaint Egan",
           "Polygon"
          ],
          [
           "165_chunk_9",
           "chunk",
           "entertainment",
           "Toussaint Egan",
           "Polygon"
          ],
          [
           "166_chunk_0",
           "chunk",
           "sports",
           "Connor Andrews",
           "TalkSport"
          ],
          [
           "166_chunk_1",
           "chunk",
           "sports",
           "Connor Andrews",
           "TalkSport"
          ],
          [
           "167_chunk_0",
           "chunk",
           "sports",
           "Jonathan Burnett",
           "Sporting News"
          ],
          [
           "167_chunk_1",
           "chunk",
           "sports",
           "Jonathan Burnett",
           "Sporting News"
          ],
          [
           "168_chunk_0",
           "chunk",
           "sports",
           "wwos",
           "Wide World Of Sports"
          ],
          [
           "168_chunk_1",
           "chunk",
           "sports",
           "wwos",
           "Wide World Of Sports"
          ],
          [
           "169_chunk_0",
           "chunk",
           "technology",
           "Jessica Conditt",
           "Engadget"
          ],
          [
           "169_chunk_1",
           "chunk",
           "technology",
           "Jessica Conditt",
           "Engadget"
          ],
          [
           "170_chunk_0",
           "chunk",
           "technology",
           "Sean Hollister",
           "The Verge"
          ],
          [
           "170_chunk_1",
           "chunk",
           "technology",
           "Sean Hollister",
           "The Verge"
          ],
          [
           "170_chunk_2",
           "chunk",
           "technology",
           "Sean Hollister",
           "The Verge"
          ],
          [
           "170_chunk_3",
           "chunk",
           "technology",
           "Sean Hollister",
           "The Verge"
          ],
          [
           "170_chunk_4",
           "chunk",
           "technology",
           "Sean Hollister",
           "The Verge"
          ],
          [
           "171_chunk_0",
           "chunk",
           "entertainment",
           "Sarah-Jane Collins",
           "The Age"
          ],
          [
           "171_chunk_1",
           "chunk",
           "entertainment",
           "Sarah-Jane Collins",
           "The Age"
          ],
          [
           "172_chunk_0",
           "chunk",
           "sports",
           "Tony Harper",
           "The Roar | Sports Writers Blog"
          ],
          [
           "172_chunk_1",
           "chunk",
           "sports",
           "Tony Harper",
           "The Roar | Sports Writers Blog"
          ],
          [
           "173_chunk_0",
           "chunk",
           "business",
           "Lindsey Bahr, The Associated Press",
           "Fortune"
          ],
          [
           "173_chunk_1",
           "chunk",
           "business",
           "Lindsey Bahr, The Associated Press",
           "Fortune"
          ],
          [
           "174_chunk_0",
           "chunk",
           "entertainment",
           "Amber Raiken",
           "The Independent - Life and Style"
          ],
          [
           "174_chunk_1",
           "chunk",
           "entertainment",
           "Amber Raiken",
           "The Independent - Life and Style"
          ],
          [
           "175_chunk_0",
           "chunk",
           "technology",
           "Elizabeth Lopatto",
           "The Verge"
          ],
          [
           "175_chunk_1",
           "chunk",
           "technology",
           "Elizabeth Lopatto",
           "The Verge"
          ],
          [
           "175_chunk_2",
           "chunk",
           "technology",
           "Elizabeth Lopatto",
           "The Verge"
          ],
          [
           "176_chunk_0",
           "chunk",
           "sports",
           "Christy Doran",
           "The Roar | Sports Writers Blog"
          ],
          [
           "176_chunk_1",
           "chunk",
           "sports",
           "Christy Doran",
           "The Roar | Sports Writers Blog"
          ],
          [
           "177_chunk_0",
           "chunk",
           "entertainment",
           "unknown",
           "FOX News - Entertainment"
          ],
          [
           "177_chunk_1",
           "chunk",
           "entertainment",
           "unknown",
           "FOX News - Entertainment"
          ],
          [
           "177_chunk_2",
           "chunk",
           "entertainment",
           "unknown",
           "FOX News - Entertainment"
          ],
          [
           "178_chunk_0",
           "chunk",
           "entertainment",
           "Meredith Clark",
           "The Independent - Life and Style"
          ],
          [
           "178_chunk_1",
           "chunk",
           "entertainment",
           "Meredith Clark",
           "The Independent - Life and Style"
          ],
          [
           "179_chunk_0",
           "chunk",
           "sports",
           "Josh Edwards",
           "CBSSports.com"
          ],
          [
           "179_chunk_1",
           "chunk",
           "sports",
           "Josh Edwards",
           "CBSSports.com"
          ],
          [
           "180_chunk_0",
           "chunk",
           "sports",
           "Dan Treacy",
           "Sporting News"
          ],
          [
           "180_chunk_1",
           "chunk",
           "sports",
           "Dan Treacy",
           "Sporting News"
          ],
          [
           "180_chunk_2",
           "chunk",
           "sports",
           "Dan Treacy",
           "Sporting News"
          ],
          [
           "180_chunk_3",
           "chunk",
           "sports",
           "Dan Treacy",
           "Sporting News"
          ],
          [
           "180_chunk_4",
           "chunk",
           "sports",
           "Dan Treacy",
           "Sporting News"
          ],
          [
           "180_chunk_5",
           "chunk",
           "sports",
           "Dan Treacy",
           "Sporting News"
          ],
          [
           "181_chunk_0",
           "chunk",
           "technology",
           "Rita Liao",
           "TechCrunch"
          ],
          [
           "181_chunk_1",
           "chunk",
           "technology",
           "Rita Liao",
           "TechCrunch"
          ],
          [
           "181_chunk_2",
           "chunk",
           "technology",
           "Rita Liao",
           "TechCrunch"
          ],
          [
           "182_chunk_0",
           "chunk",
           "business",
           "unknown",
           "Financial Times"
          ],
          [
           "182_chunk_1",
           "chunk",
           "business",
           "unknown",
           "Financial Times"
          ],
          [
           "183_chunk_0",
           "chunk",
           "sports",
           "Nick Brinkerhoff",
           "Sporting News"
          ],
          [
           "183_chunk_1",
           "chunk",
           "sports",
           "Nick Brinkerhoff",
           "Sporting News"
          ],
          [
           "184_chunk_0",
           "chunk",
           "sports",
           "Suzanne Wrack at Hampden Park",
           "The Guardian"
          ],
          [
           "184_chunk_1",
           "chunk",
           "sports",
           "Suzanne Wrack at Hampden Park",
           "The Guardian"
          ],
          [
           "185_chunk_0",
           "chunk",
           "entertainment",
           "Toussaint Egan",
           "Polygon"
          ],
          [
           "185_chunk_1",
           "chunk",
           "entertainment",
           "Toussaint Egan",
           "Polygon"
          ],
          [
           "185_chunk_2",
           "chunk",
           "entertainment",
           "Toussaint Egan",
           "Polygon"
          ],
          [
           "186_chunk_0",
           "chunk",
           "sports",
           "Priyank Mithani",
           "Essentially Sports"
          ],
          [
           "186_chunk_1",
           "chunk",
           "sports",
           "Priyank Mithani",
           "Essentially Sports"
          ],
          [
           "187_chunk_0",
           "chunk",
           "sports",
           "Dominic Booth",
           "Sporting News"
          ],
          [
           "187_chunk_1",
           "chunk",
           "sports",
           "Dominic Booth",
           "Sporting News"
          ],
          [
           "188_chunk_0",
           "chunk",
           "technology",
           "Sarah Perez",
           "TechCrunch"
          ],
          [
           "188_chunk_1",
           "chunk",
           "technology",
           "Sarah Perez",
           "TechCrunch"
          ],
          [
           "189_chunk_0",
           "chunk",
           "technology",
           "David Swan",
           "The Age"
          ],
          [
           "189_chunk_1",
           "chunk",
           "technology",
           "David Swan",
           "The Age"
          ],
          [
           "190_chunk_0",
           "chunk",
           "technology",
           "Tim Stevens",
           "The Verge"
          ],
          [
           "190_chunk_1",
           "chunk",
           "technology",
           "Tim Stevens",
           "The Verge"
          ],
          [
           "190_chunk_2",
           "chunk",
           "technology",
           "Tim Stevens",
           "The Verge"
          ],
          [
           "191_chunk_0",
           "chunk",
           "business",
           "IoT.Business.News",
           "Iot Business News"
          ],
          [
           "191_chunk_1",
           "chunk",
           "business",
           "IoT.Business.News",
           "Iot Business News"
          ],
          [
           "191_chunk_2",
           "chunk",
           "business",
           "IoT.Business.News",
           "Iot Business News"
          ],
          [
           "192_chunk_0",
           "chunk",
           "entertainment",
           "Abe Beame",
           "Polygon"
          ],
          [
           "192_chunk_1",
           "chunk",
           "entertainment",
           "Abe Beame",
           "Polygon"
          ],
          [
           "192_chunk_2",
           "chunk",
           "entertainment",
           "Abe Beame",
           "Polygon"
          ],
          [
           "193_chunk_0",
           "chunk",
           "entertainment",
           "Meredith Clark",
           "The Independent - Life and Style"
          ],
          [
           "193_chunk_1",
           "chunk",
           "entertainment",
           "Meredith Clark",
           "The Independent - Life and Style"
          ],
          [
           "194_chunk_0",
           "chunk",
           "sports",
           "Sudeep Sinha",
           "Essentially Sports"
          ],
          [
           "194_chunk_1",
           "chunk",
           "sports",
           "Sudeep Sinha",
           "Essentially Sports"
          ],
          [
           "195_chunk_0",
           "chunk",
           "technology",
           "Sarah Perez",
           "TechCrunch"
          ],
          [
           "195_chunk_1",
           "chunk",
           "technology",
           "Sarah Perez",
           "TechCrunch"
          ],
          [
           "196_chunk_0",
           "chunk",
           "technology",
           "Romain Dillet",
           "TechCrunch"
          ],
          [
           "196_chunk_1",
           "chunk",
           "technology",
           "Romain Dillet",
           "TechCrunch"
          ],
          [
           "196_chunk_2",
           "chunk",
           "technology",
           "Romain Dillet",
           "TechCrunch"
          ],
          [
           "197_chunk_0",
           "chunk",
           "sports",
           "Nick Musial",
           "Sporting News"
          ],
          [
           "197_chunk_1",
           "chunk",
           "sports",
           "Nick Musial",
           "Sporting News"
          ],
          [
           "198_chunk_0",
           "chunk",
           "sports",
           "Sloan Piva",
           "Sporting News"
          ],
          [
           "198_chunk_1",
           "chunk",
           "sports",
           "Sloan Piva",
           "Sporting News"
          ],
          [
           "198_chunk_2",
           "chunk",
           "sports",
           "Sloan Piva",
           "Sporting News"
          ],
          [
           "199_chunk_0",
           "chunk",
           "technology",
           "Haje Jan Kamps",
           "TechCrunch"
          ],
          [
           "199_chunk_1",
           "chunk",
           "technology",
           "Haje Jan Kamps",
           "TechCrunch"
          ],
          [
           "200_chunk_0",
           "chunk",
           "sports",
           "Kyle Irving",
           "Sporting News"
          ],
          [
           "200_chunk_1",
           "chunk",
           "sports",
           "Kyle Irving",
           "Sporting News"
          ],
          [
           "200_chunk_2",
           "chunk",
           "sports",
           "Kyle Irving",
           "Sporting News"
          ],
          [
           "201_chunk_0",
           "chunk",
           "sports",
           "Martin Derbyshire",
           "Sporting News"
          ],
          [
           "201_chunk_1",
           "chunk",
           "sports",
           "Martin Derbyshire",
           "Sporting News"
          ],
          [
           "201_chunk_2",
           "chunk",
           "sports",
           "Martin Derbyshire",
           "Sporting News"
          ],
          [
           "202_chunk_0",
           "chunk",
           "sports",
           "Sporting News Betting",
           "Sporting News"
          ],
          [
           "202_chunk_1",
           "chunk",
           "sports",
           "Sporting News Betting",
           "Sporting News"
          ],
          [
           "203_chunk_0",
           "chunk",
           "sports",
           "Kyle Bonn",
           "Sporting News"
          ],
          [
           "203_chunk_1",
           "chunk",
           "sports",
           "Kyle Bonn",
           "Sporting News"
          ],
          [
           "204_chunk_0",
           "chunk",
           "sports",
           "Ben Miller",
           "Sporting News"
          ],
          [
           "204_chunk_1",
           "chunk",
           "sports",
           "Ben Miller",
           "Sporting News"
          ],
          [
           "205_chunk_0",
           "chunk",
           "technology",
           "Jennifer Pattison Tuohy",
           "The Verge"
          ],
          [
           "205_chunk_1",
           "chunk",
           "technology",
           "Jennifer Pattison Tuohy",
           "The Verge"
          ],
          [
           "205_chunk_2",
           "chunk",
           "technology",
           "Jennifer Pattison Tuohy",
           "The Verge"
          ],
          [
           "206_chunk_0",
           "chunk",
           "sports",
           "Jonathan Liew at Wembley",
           "The Guardian"
          ],
          [
           "206_chunk_1",
           "chunk",
           "sports",
           "Jonathan Liew at Wembley",
           "The Guardian"
          ],
          [
           "207_chunk_0",
           "chunk",
           "sports",
           "Sam Eggleston",
           "Sporting News"
          ],
          [
           "207_chunk_1",
           "chunk",
           "sports",
           "Sam Eggleston",
           "Sporting News"
          ],
          [
           "207_chunk_2",
           "chunk",
           "sports",
           "Sam Eggleston",
           "Sporting News"
          ],
          [
           "208_chunk_0",
           "chunk",
           "sports",
           "",
           "The Age"
          ],
          [
           "208_chunk_1",
           "chunk",
           "sports",
           "",
           "The Age"
          ],
          [
           "208_chunk_2",
           "chunk",
           "sports",
           "",
           "The Age"
          ],
          [
           "208_chunk_3",
           "chunk",
           "sports",
           "",
           "The Age"
          ],
          [
           "209_chunk_0",
           "chunk",
           "sports",
           "Joanna Guelas",
           "The Age"
          ],
          [
           "209_chunk_1",
           "chunk",
           "sports",
           "Joanna Guelas",
           "The Age"
          ],
          [
           "209_chunk_2",
           "chunk",
           "sports",
           "Joanna Guelas",
           "The Age"
          ],
          [
           "210_chunk_0",
           "chunk",
           "sports",
           "Jack Snape",
           "The Guardian"
          ],
          [
           "210_chunk_1",
           "chunk",
           "sports",
           "Jack Snape",
           "The Guardian"
          ],
          [
           "211_chunk_0",
           "chunk",
           "business",
           "Tim Ingham",
           "Music Business Worldwide"
          ],
          [
           "211_chunk_1",
           "chunk",
           "business",
           "Tim Ingham",
           "Music Business Worldwide"
          ],
          [
           "211_chunk_2",
           "chunk",
           "business",
           "Tim Ingham",
           "Music Business Worldwide"
          ],
          [
           "212_chunk_0",
           "chunk",
           "business",
           "Tim Ingham",
           "Music Business Worldwide"
          ],
          [
           "212_chunk_1",
           "chunk",
           "business",
           "Tim Ingham",
           "Music Business Worldwide"
          ],
          [
           "212_chunk_2",
           "chunk",
           "business",
           "Tim Ingham",
           "Music Business Worldwide"
          ],
          [
           "212_chunk_3",
           "chunk",
           "business",
           "Tim Ingham",
           "Music Business Worldwide"
          ],
          [
           "212_chunk_4",
           "chunk",
           "business",
           "Tim Ingham",
           "Music Business Worldwide"
          ],
          [
           "212_chunk_5",
           "chunk",
           "business",
           "Tim Ingham",
           "Music Business Worldwide"
          ],
          [
           "213_chunk_0",
           "chunk",
           "entertainment",
           "Mike Mahardy",
           "Polygon"
          ],
          [
           "213_chunk_1",
           "chunk",
           "entertainment",
           "Mike Mahardy",
           "Polygon"
          ],
          [
           "213_chunk_2",
           "chunk",
           "entertainment",
           "Mike Mahardy",
           "Polygon"
          ],
          [
           "213_chunk_3",
           "chunk",
           "entertainment",
           "Mike Mahardy",
           "Polygon"
          ],
          [
           "213_chunk_4",
           "chunk",
           "entertainment",
           "Mike Mahardy",
           "Polygon"
          ],
          [
           "213_chunk_5",
           "chunk",
           "entertainment",
           "Mike Mahardy",
           "Polygon"
          ],
          [
           "213_chunk_6",
           "chunk",
           "entertainment",
           "Mike Mahardy",
           "Polygon"
          ],
          [
           "213_chunk_7",
           "chunk",
           "entertainment",
           "Mike Mahardy",
           "Polygon"
          ],
          [
           "213_chunk_8",
           "chunk",
           "entertainment",
           "Mike Mahardy",
           "Polygon"
          ],
          [
           "213_chunk_9",
           "chunk",
           "entertainment",
           "Mike Mahardy",
           "Polygon"
          ],
          [
           "213_chunk_10",
           "chunk",
           "entertainment",
           "Mike Mahardy",
           "Polygon"
          ],
          [
           "213_chunk_11",
           "chunk",
           "entertainment",
           "Mike Mahardy",
           "Polygon"
          ],
          [
           "213_chunk_12",
           "chunk",
           "entertainment",
           "Mike Mahardy",
           "Polygon"
          ],
          [
           "213_chunk_13",
           "chunk",
           "entertainment",
           "Mike Mahardy",
           "Polygon"
          ],
          [
           "213_chunk_14",
           "chunk",
           "entertainment",
           "Mike Mahardy",
           "Polygon"
          ],
          [
           "214_chunk_0",
           "chunk",
           "technology",
           "unknown",
           "BBC News - Technology"
          ],
          [
           "214_chunk_1",
           "chunk",
           "technology",
           "unknown",
           "BBC News - Technology"
          ],
          [
           "215_chunk_0",
           "chunk",
           "business",
           "unknown",
           "Cnbc | World Business News Leader"
          ],
          [
           "215_chunk_1",
           "chunk",
           "business",
           "unknown",
           "Cnbc | World Business News Leader"
          ],
          [
           "216_chunk_0",
           "chunk",
           "technology",
           "Jagmeet Singh",
           "TechCrunch"
          ],
          [
           "216_chunk_1",
           "chunk",
           "technology",
           "Jagmeet Singh",
           "TechCrunch"
          ],
          [
           "217_chunk_0",
           "chunk",
           "business",
           "Anat-Daniely Lev",
           "Globes English | Israel Business Arena"
          ],
          [
           "217_chunk_1",
           "chunk",
           "business",
           "Anat-Daniely Lev",
           "Globes English | Israel Business Arena"
          ],
          [
           "217_chunk_2",
           "chunk",
           "business",
           "Anat-Daniely Lev",
           "Globes English | Israel Business Arena"
          ],
          [
           "218_chunk_0",
           "chunk",
           "business",
           "Mirette Magdy, Bloomberg",
           "Fortune"
          ],
          [
           "218_chunk_1",
           "chunk",
           "business",
           "Mirette Magdy, Bloomberg",
           "Fortune"
          ],
          [
           "219_chunk_0",
           "chunk",
           "sports",
           "Richard Jolly",
           "The Independent - Sports"
          ],
          [
           "219_chunk_1",
           "chunk",
           "sports",
           "Richard Jolly",
           "The Independent - Sports"
          ],
          [
           "220_chunk_0",
           "chunk",
           "sports",
           "Peter Ryan",
           "The Sydney Morning Herald"
          ],
          [
           "220_chunk_1",
           "chunk",
           "sports",
           "Peter Ryan",
           "The Sydney Morning Herald"
          ],
          [
           "220_chunk_2",
           "chunk",
           "sports",
           "Peter Ryan",
           "The Sydney Morning Herald"
          ],
          [
           "221_chunk_0",
           "chunk",
           "entertainment",
           "Robert Moran",
           "The Age"
          ],
          [
           "221_chunk_1",
           "chunk",
           "entertainment",
           "Robert Moran",
           "The Age"
          ],
          [
           "221_chunk_2",
           "chunk",
           "entertainment",
           "Robert Moran",
           "The Age"
          ],
          [
           "222_chunk_0",
           "chunk",
           "technology",
           "Jeff Dunn,Valentina Palladino,Amy Skorheim",
           "Engadget"
          ],
          [
           "222_chunk_1",
           "chunk",
           "technology",
           "Jeff Dunn,Valentina Palladino,Amy Skorheim",
           "Engadget"
          ],
          [
           "222_chunk_2",
           "chunk",
           "technology",
           "Jeff Dunn,Valentina Palladino,Amy Skorheim",
           "Engadget"
          ],
          [
           "222_chunk_3",
           "chunk",
           "technology",
           "Jeff Dunn,Valentina Palladino,Amy Skorheim",
           "Engadget"
          ],
          [
           "222_chunk_4",
           "chunk",
           "technology",
           "Jeff Dunn,Valentina Palladino,Amy Skorheim",
           "Engadget"
          ],
          [
           "222_chunk_5",
           "chunk",
           "technology",
           "Jeff Dunn,Valentina Palladino,Amy Skorheim",
           "Engadget"
          ],
          [
           "222_chunk_6",
           "chunk",
           "technology",
           "Jeff Dunn,Valentina Palladino,Amy Skorheim",
           "Engadget"
          ],
          [
           "222_chunk_7",
           "chunk",
           "technology",
           "Jeff Dunn,Valentina Palladino,Amy Skorheim",
           "Engadget"
          ],
          [
           "222_chunk_8",
           "chunk",
           "technology",
           "Jeff Dunn,Valentina Palladino,Amy Skorheim",
           "Engadget"
          ],
          [
           "222_chunk_9",
           "chunk",
           "technology",
           "Jeff Dunn,Valentina Palladino,Amy Skorheim",
           "Engadget"
          ],
          [
           "223_chunk_0",
           "chunk",
           "business",
           "Lisa Mascaro, Farnoush Amiri, Stephen Groves, Kevin Freking, The Associated Press",
           "Fortune"
          ],
          [
           "223_chunk_1",
           "chunk",
           "business",
           "Lisa Mascaro, Farnoush Amiri, Stephen Groves, Kevin Freking, The Associated Press",
           "Fortune"
          ],
          [
           "224_chunk_0",
           "chunk",
           "sports",
           "Bill Bender",
           "Sporting News"
          ],
          [
           "224_chunk_1",
           "chunk",
           "sports",
           "Bill Bender",
           "Sporting News"
          ],
          [
           "225_chunk_0",
           "chunk",
           "sports",
           "Emily Dozier",
           "Sporting News"
          ],
          [
           "225_chunk_1",
           "chunk",
           "sports",
           "Emily Dozier",
           "Sporting News"
          ],
          [
           "226_chunk_0",
           "chunk",
           "business",
           "unknown",
           "Cnbc | World Business News Leader"
          ],
          [
           "226_chunk_1",
           "chunk",
           "business",
           "unknown",
           "Cnbc | World Business News Leader"
          ],
          [
           "226_chunk_2",
           "chunk",
           "business",
           "unknown",
           "Cnbc | World Business News Leader"
          ],
          [
           "227_chunk_0",
           "chunk",
           "entertainment",
           "unknown",
           "FOX News - Entertainment"
          ],
          [
           "228_chunk_0",
           "chunk",
           "sports",
           "Michael Benson",
           "TalkSport"
          ],
          [
           "228_chunk_1",
           "chunk",
           "sports",
           "Michael Benson",
           "TalkSport"
          ],
          [
           "229_chunk_0",
           "chunk",
           "technology",
           "Katie Malone",
           "Engadget"
          ],
          [
           "229_chunk_1",
           "chunk",
           "technology",
           "Katie Malone",
           "Engadget"
          ],
          [
           "229_chunk_2",
           "chunk",
           "technology",
           "Katie Malone",
           "Engadget"
          ],
          [
           "229_chunk_3",
           "chunk",
           "technology",
           "Katie Malone",
           "Engadget"
          ],
          [
           "230_chunk_0",
           "chunk",
           "technology",
           "Matt Burns",
           "TechCrunch"
          ],
          [
           "230_chunk_1",
           "chunk",
           "technology",
           "Matt Burns",
           "TechCrunch"
          ],
          [
           "230_chunk_2",
           "chunk",
           "technology",
           "Matt Burns",
           "TechCrunch"
          ],
          [
           "231_chunk_0",
           "chunk",
           "sports",
           "Kyle Bonn",
           "Sporting News"
          ],
          [
           "231_chunk_1",
           "chunk",
           "sports",
           "Kyle Bonn",
           "Sporting News"
          ],
          [
           "232_chunk_0",
           "chunk",
           "sports",
           "Kieran Francis",
           "Sporting News"
          ],
          [
           "232_chunk_1",
           "chunk",
           "sports",
           "Kieran Francis",
           "Sporting News"
          ],
          [
           "232_chunk_2",
           "chunk",
           "sports",
           "Kieran Francis",
           "Sporting News"
          ],
          [
           "233_chunk_0",
           "chunk",
           "science",
           "unknown",
           "Yahoo News"
          ],
          [
           "233_chunk_1",
           "chunk",
           "science",
           "unknown",
           "Yahoo News"
          ],
          [
           "233_chunk_2",
           "chunk",
           "science",
           "unknown",
           "Yahoo News"
          ],
          [
           "233_chunk_3",
           "chunk",
           "science",
           "unknown",
           "Yahoo News"
          ],
          [
           "234_chunk_0",
           "chunk",
           "technology",
           "Andrew Tarantola",
           "Engadget"
          ],
          [
           "234_chunk_1",
           "chunk",
           "technology",
           "Andrew Tarantola",
           "Engadget"
          ],
          [
           "234_chunk_2",
           "chunk",
           "technology",
           "Andrew Tarantola",
           "Engadget"
          ],
          [
           "235_chunk_0",
           "chunk",
           "technology",
           "Antonio G. Di Benedetto",
           "The Verge"
          ],
          [
           "235_chunk_1",
           "chunk",
           "technology",
           "Antonio G. Di Benedetto",
           "The Verge"
          ],
          [
           "235_chunk_2",
           "chunk",
           "technology",
           "Antonio G. Di Benedetto",
           "The Verge"
          ],
          [
           "236_chunk_0",
           "chunk",
           "entertainment",
           "Cameron Faulkner",
           "Polygon"
          ],
          [
           "236_chunk_1",
           "chunk",
           "entertainment",
           "Cameron Faulkner",
           "Polygon"
          ],
          [
           "236_chunk_2",
           "chunk",
           "entertainment",
           "Cameron Faulkner",
           "Polygon"
          ],
          [
           "237_chunk_0",
           "chunk",
           "technology",
           "Rebecca Bellan",
           "TechCrunch"
          ],
          [
           "237_chunk_1",
           "chunk",
           "technology",
           "Rebecca Bellan",
           "TechCrunch"
          ],
          [
           "238_chunk_0",
           "chunk",
           "science",
           "unknown",
           "Live Science: The Most Interesting Articles"
          ],
          [
           "238_chunk_1",
           "chunk",
           "science",
           "unknown",
           "Live Science: The Most Interesting Articles"
          ],
          [
           "238_chunk_2",
           "chunk",
           "science",
           "unknown",
           "Live Science: The Most Interesting Articles"
          ],
          [
           "239_chunk_0",
           "chunk",
           "business",
           "unknown",
           "Business Line"
          ],
          [
           "239_chunk_1",
           "chunk",
           "business",
           "unknown",
           "Business Line"
          ],
          [
           "239_chunk_2",
           "chunk",
           "business",
           "unknown",
           "Business Line"
          ],
          [
           "240_chunk_0",
           "chunk",
           "sports",
           "The Roar",
           "The Roar | Sports Writers Blog"
          ],
          [
           "240_chunk_1",
           "chunk",
           "sports",
           "The Roar",
           "The Roar | Sports Writers Blog"
          ],
          [
           "240_chunk_2",
           "chunk",
           "sports",
           "The Roar",
           "The Roar | Sports Writers Blog"
          ],
          [
           "240_chunk_3",
           "chunk",
           "sports",
           "The Roar",
           "The Roar | Sports Writers Blog"
          ],
          [
           "240_chunk_4",
           "chunk",
           "sports",
           "The Roar",
           "The Roar | Sports Writers Blog"
          ],
          [
           "241_chunk_0",
           "chunk",
           "technology",
           "Victoria Song",
           "The Verge"
          ],
          [
           "241_chunk_1",
           "chunk",
           "technology",
           "Victoria Song",
           "The Verge"
          ],
          [
           "241_chunk_2",
           "chunk",
           "technology",
           "Victoria Song",
           "The Verge"
          ],
          [
           "242_chunk_0",
           "chunk",
           "sports",
           "Jonathan Liew at Old Trafford",
           "The Guardian"
          ],
          [
           "242_chunk_1",
           "chunk",
           "sports",
           "Jonathan Liew at Old Trafford",
           "The Guardian"
          ],
          [
           "243_chunk_0",
           "chunk",
           "technology",
           "Anna Heim",
           "TechCrunch"
          ],
          [
           "243_chunk_1",
           "chunk",
           "technology",
           "Anna Heim",
           "TechCrunch"
          ],
          [
           "243_chunk_2",
           "chunk",
           "technology",
           "Anna Heim",
           "TechCrunch"
          ],
          [
           "244_chunk_0",
           "chunk",
           "sports",
           "The Roar",
           "The Roar | Sports Writers Blog"
          ],
          [
           "244_chunk_1",
           "chunk",
           "sports",
           "The Roar",
           "The Roar | Sports Writers Blog"
          ],
          [
           "244_chunk_2",
           "chunk",
           "sports",
           "The Roar",
           "The Roar | Sports Writers Blog"
          ],
          [
           "244_chunk_3",
           "chunk",
           "sports",
           "The Roar",
           "The Roar | Sports Writers Blog"
          ],
          [
           "244_chunk_4",
           "chunk",
           "sports",
           "The Roar",
           "The Roar | Sports Writers Blog"
          ],
          [
           "244_chunk_5",
           "chunk",
           "sports",
           "The Roar",
           "The Roar | Sports Writers Blog"
          ],
          [
           "244_chunk_6",
           "chunk",
           "sports",
           "The Roar",
           "The Roar | Sports Writers Blog"
          ],
          [
           "244_chunk_7",
           "chunk",
           "sports",
           "The Roar",
           "The Roar | Sports Writers Blog"
          ],
          [
           "244_chunk_8",
           "chunk",
           "sports",
           "The Roar",
           "The Roar | Sports Writers Blog"
          ],
          [
           "245_chunk_0",
           "chunk",
           "sports",
           "Andreas Hale",
           "Sporting News"
          ],
          [
           "245_chunk_1",
           "chunk",
           "sports",
           "Andreas Hale",
           "Sporting News"
          ],
          [
           "245_chunk_2",
           "chunk",
           "sports",
           "Andreas Hale",
           "Sporting News"
          ],
          [
           "246_chunk_0",
           "chunk",
           "business",
           "zee business",
           "Zee Business"
          ],
          [
           "246_chunk_1",
           "chunk",
           "business",
           "zee business",
           "Zee Business"
          ],
          [
           "246_chunk_2",
           "chunk",
           "business",
           "zee business",
           "Zee Business"
          ],
          [
           "247_chunk_0",
           "chunk",
           "science",
           "Shi En Kim",
           "Science News For Students"
          ],
          [
           "247_chunk_1",
           "chunk",
           "science",
           "Shi En Kim",
           "Science News For Students"
          ],
          [
           "247_chunk_2",
           "chunk",
           "science",
           "Shi En Kim",
           "Science News For Students"
          ],
          [
           "248_chunk_0",
           "chunk",
           "technology",
           "Natasha Lomas",
           "TechCrunch"
          ],
          [
           "248_chunk_1",
           "chunk",
           "technology",
           "Natasha Lomas",
           "TechCrunch"
          ],
          [
           "248_chunk_2",
           "chunk",
           "technology",
           "Natasha Lomas",
           "TechCrunch"
          ],
          [
           "248_chunk_3",
           "chunk",
           "technology",
           "Natasha Lomas",
           "TechCrunch"
          ],
          [
           "249_chunk_0",
           "chunk",
           "sports",
           "Mike DeCourcy",
           "Sporting News"
          ],
          [
           "249_chunk_1",
           "chunk",
           "sports",
           "Mike DeCourcy",
           "Sporting News"
          ],
          [
           "250_chunk_0",
           "chunk",
           "technology",
           "Engadget",
           "Engadget"
          ],
          [
           "250_chunk_1",
           "chunk",
           "technology",
           "Engadget",
           "Engadget"
          ],
          [
           "250_chunk_2",
           "chunk",
           "technology",
           "Engadget",
           "Engadget"
          ],
          [
           "250_chunk_3",
           "chunk",
           "technology",
           "Engadget",
           "Engadget"
          ],
          [
           "251_chunk_0",
           "chunk",
           "business",
           "Adriana Morga, The Associated Press",
           "Fortune"
          ],
          [
           "251_chunk_1",
           "chunk",
           "business",
           "Adriana Morga, The Associated Press",
           "Fortune"
          ],
          [
           "252_chunk_0",
           "chunk",
           "business",
           "unknown",
           "Business Line"
          ],
          [
           "252_chunk_1",
           "chunk",
           "business",
           "unknown",
           "Business Line"
          ],
          [
           "253_chunk_0",
           "chunk",
           "business",
           "unknown",
           "Business Line"
          ],
          [
           "253_chunk_1",
           "chunk",
           "business",
           "unknown",
           "Business Line"
          ],
          [
           "254_chunk_0",
           "chunk",
           "entertainment",
           "Amber Raiken",
           "The Independent - Life and Style"
          ],
          [
           "254_chunk_1",
           "chunk",
           "entertainment",
           "Amber Raiken",
           "The Independent - Life and Style"
          ],
          [
           "255_chunk_0",
           "chunk",
           "entertainment",
           "unknown",
           "FOX News - Entertainment"
          ],
          [
           "255_chunk_1",
           "chunk",
           "entertainment",
           "unknown",
           "FOX News - Entertainment"
          ],
          [
           "256_chunk_0",
           "chunk",
           "technology",
           "Taylor Hatmaker",
           "TechCrunch"
          ],
          [
           "256_chunk_1",
           "chunk",
           "technology",
           "Taylor Hatmaker",
           "TechCrunch"
          ],
          [
           "257_chunk_0",
           "chunk",
           "entertainment",
           "unknown",
           "BBC News - Entertainment & Arts"
          ],
          [
           "257_chunk_1",
           "chunk",
           "entertainment",
           "unknown",
           "BBC News - Entertainment & Arts"
          ],
          [
           "257_chunk_2",
           "chunk",
           "entertainment",
           "unknown",
           "BBC News - Entertainment & Arts"
          ],
          [
           "257_chunk_3",
           "chunk",
           "entertainment",
           "unknown",
           "BBC News - Entertainment & Arts"
          ],
          [
           "257_chunk_4",
           "chunk",
           "entertainment",
           "unknown",
           "BBC News - Entertainment & Arts"
          ],
          [
           "258_chunk_0",
           "chunk",
           "sports",
           "Bill Bender",
           "Sporting News"
          ],
          [
           "258_chunk_1",
           "chunk",
           "sports",
           "Bill Bender",
           "Sporting News"
          ],
          [
           "259_chunk_0",
           "chunk",
           "sports",
           "Dean Straka",
           "CBSSports.com"
          ],
          [
           "259_chunk_1",
           "chunk",
           "sports",
           "Dean Straka",
           "CBSSports.com"
          ],
          [
           "260_chunk_0",
           "chunk",
           "sports",
           "Moumita Dutta",
           "Insidesport"
          ],
          [
           "260_chunk_1",
           "chunk",
           "sports",
           "Moumita Dutta",
           "Insidesport"
          ],
          [
           "261_chunk_0",
           "chunk",
           "science",
           "Maria Temming",
           "Science News For Students"
          ],
          [
           "261_chunk_1",
           "chunk",
           "science",
           "Maria Temming",
           "Science News For Students"
          ],
          [
           "262_chunk_0",
           "chunk",
           "business",
           "David Keyton, Christina Larson, Rodrique Ngowi, The Associated Press",
           "Fortune"
          ],
          [
           "262_chunk_1",
           "chunk",
           "business",
           "David Keyton, Christina Larson, Rodrique Ngowi, The Associated Press",
           "Fortune"
          ],
          [
           "263_chunk_0",
           "chunk",
           "business",
           "Tim Ingham",
           "Music Business Worldwide"
          ],
          [
           "263_chunk_1",
           "chunk",
           "business",
           "Tim Ingham",
           "Music Business Worldwide"
          ],
          [
           "263_chunk_2",
           "chunk",
           "business",
           "Tim Ingham",
           "Music Business Worldwide"
          ],
          [
           "264_chunk_0",
           "chunk",
           "sports",
           "Sam Eggleston",
           "Sporting News"
          ],
          [
           "264_chunk_1",
           "chunk",
           "sports",
           "Sam Eggleston",
           "Sporting News"
          ],
          [
           "264_chunk_2",
           "chunk",
           "sports",
           "Sam Eggleston",
           "Sporting News"
          ],
          [
           "265_chunk_0",
           "chunk",
           "entertainment",
           "Isobel Lewis",
           "The Independent - Life and Style"
          ],
          [
           "265_chunk_1",
           "chunk",
           "entertainment",
           "Isobel Lewis",
           "The Independent - Life and Style"
          ],
          [
           "265_chunk_2",
           "chunk",
           "entertainment",
           "Isobel Lewis",
           "The Independent - Life and Style"
          ],
          [
           "266_chunk_0",
           "chunk",
           "entertainment",
           "Meredith Clark",
           "The Independent - Life and Style"
          ],
          [
           "267_chunk_0",
           "chunk",
           "technology",
           "Ingrid Lunden",
           "TechCrunch"
          ],
          [
           "267_chunk_1",
           "chunk",
           "technology",
           "Ingrid Lunden",
           "TechCrunch"
          ],
          [
           "268_chunk_0",
           "chunk",
           "technology",
           "Kyle Wiggers",
           "TechCrunch"
          ],
          [
           "268_chunk_1",
           "chunk",
           "technology",
           "Kyle Wiggers",
           "TechCrunch"
          ],
          [
           "269_chunk_0",
           "chunk",
           "business",
           "Amy Beth Hanson, The Associated Press",
           "Fortune"
          ],
          [
           "269_chunk_1",
           "chunk",
           "business",
           "Amy Beth Hanson, The Associated Press",
           "Fortune"
          ],
          [
           "270_chunk_0",
           "chunk",
           "entertainment",
           "unknown",
           "FOX News - Lifestyle"
          ],
          [
           "270_chunk_1",
           "chunk",
           "entertainment",
           "unknown",
           "FOX News - Lifestyle"
          ],
          [
           "271_chunk_0",
           "chunk",
           "business",
           "Daniel Tencer",
           "Music Business Worldwide"
          ],
          [
           "271_chunk_1",
           "chunk",
           "business",
           "Daniel Tencer",
           "Music Business Worldwide"
          ],
          [
           "271_chunk_2",
           "chunk",
           "business",
           "Daniel Tencer",
           "Music Business Worldwide"
          ],
          [
           "271_chunk_3",
           "chunk",
           "business",
           "Daniel Tencer",
           "Music Business Worldwide"
          ],
          [
           "272_chunk_0",
           "chunk",
           "technology",
           "Taylor Hatmaker",
           "TechCrunch"
          ],
          [
           "272_chunk_1",
           "chunk",
           "technology",
           "Taylor Hatmaker",
           "TechCrunch"
          ],
          [
           "273_chunk_0",
           "chunk",
           "sports",
           "Tom Gray",
           "Sporting News"
          ],
          [
           "273_chunk_1",
           "chunk",
           "sports",
           "Tom Gray",
           "Sporting News"
          ],
          [
           "273_chunk_2",
           "chunk",
           "sports",
           "Tom Gray",
           "Sporting News"
          ],
          [
           "274_chunk_0",
           "chunk",
           "sports",
           "Chirag Radhyan",
           "Essentially Sports"
          ],
          [
           "274_chunk_1",
           "chunk",
           "sports",
           "Chirag Radhyan",
           "Essentially Sports"
          ],
          [
           "275_chunk_0",
           "chunk",
           "sports",
           "Dan Treacy",
           "Sporting News"
          ],
          [
           "275_chunk_1",
           "chunk",
           "sports",
           "Dan Treacy",
           "Sporting News"
          ],
          [
           "275_chunk_2",
           "chunk",
           "sports",
           "Dan Treacy",
           "Sporting News"
          ],
          [
           "276_chunk_0",
           "chunk",
           "sports",
           "Nick Brinkerhoff",
           "Sporting News"
          ],
          [
           "276_chunk_1",
           "chunk",
           "sports",
           "Nick Brinkerhoff",
           "Sporting News"
          ],
          [
           "277_chunk_0",
           "chunk",
           "sports",
           "Jake Lambourne",
           "TalkSport"
          ],
          [
           "277_chunk_1",
           "chunk",
           "sports",
           "Jake Lambourne",
           "TalkSport"
          ],
          [
           "278_chunk_0",
           "chunk",
           "technology",
           "Sarah Perez",
           "TechCrunch"
          ],
          [
           "278_chunk_1",
           "chunk",
           "technology",
           "Sarah Perez",
           "TechCrunch"
          ],
          [
           "279_chunk_0",
           "chunk",
           "entertainment",
           "Daniel Dockery",
           "Polygon"
          ],
          [
           "279_chunk_1",
           "chunk",
           "entertainment",
           "Daniel Dockery",
           "Polygon"
          ],
          [
           "280_chunk_0",
           "chunk",
           "entertainment",
           "Chelsea Ritschel",
           "The Independent - Life and Style"
          ],
          [
           "280_chunk_1",
           "chunk",
           "entertainment",
           "Chelsea Ritschel",
           "The Independent - Life and Style"
          ],
          [
           "281_chunk_0",
           "chunk",
           "sports",
           "Dushyant Singh",
           "Essentially Sports"
          ],
          [
           "281_chunk_1",
           "chunk",
           "sports",
           "Dushyant Singh",
           "Essentially Sports"
          ],
          [
           "282_chunk_0",
           "chunk",
           "sports",
           "David Suggs",
           "Sporting News"
          ],
          [
           "282_chunk_1",
           "chunk",
           "sports",
           "David Suggs",
           "Sporting News"
          ],
          [
           "282_chunk_2",
           "chunk",
           "sports",
           "David Suggs",
           "Sporting News"
          ],
          [
           "283_chunk_0",
           "chunk",
           "entertainment",
           "Jacqueline Maley",
           "The Age"
          ],
          [
           "283_chunk_1",
           "chunk",
           "entertainment",
           "Jacqueline Maley",
           "The Age"
          ],
          [
           "283_chunk_2",
           "chunk",
           "entertainment",
           "Jacqueline Maley",
           "The Age"
          ],
          [
           "283_chunk_3",
           "chunk",
           "entertainment",
           "Jacqueline Maley",
           "The Age"
          ],
          [
           "283_chunk_4",
           "chunk",
           "entertainment",
           "Jacqueline Maley",
           "The Age"
          ],
          [
           "284_chunk_0",
           "chunk",
           "entertainment",
           "Walter Marsh",
           "The Guardian"
          ],
          [
           "284_chunk_1",
           "chunk",
           "entertainment",
           "Walter Marsh",
           "The Guardian"
          ],
          [
           "285_chunk_0",
           "chunk",
           "science",
           "Laura Allen",
           "Science News For Students"
          ],
          [
           "285_chunk_1",
           "chunk",
           "science",
           "Laura Allen",
           "Science News For Students"
          ],
          [
           "286_chunk_0",
           "chunk",
           "science",
           "Robert Lea",
           "Advanced Science News"
          ],
          [
           "286_chunk_1",
           "chunk",
           "science",
           "Robert Lea",
           "Advanced Science News"
          ],
          [
           "287_chunk_0",
           "chunk",
           "technology",
           "Kris Holt",
           "Engadget"
          ],
          [
           "287_chunk_1",
           "chunk",
           "technology",
           "Kris Holt",
           "Engadget"
          ],
          [
           "288_chunk_0",
           "chunk",
           "sports",
           "Nick Brinkerhoff",
           "Sporting News"
          ],
          [
           "288_chunk_1",
           "chunk",
           "sports",
           "Nick Brinkerhoff",
           "Sporting News"
          ],
          [
           "289_chunk_0",
           "chunk",
           "sports",
           "Tyler Sullivan",
           "CBSSports.com"
          ],
          [
           "289_chunk_1",
           "chunk",
           "sports",
           "Tyler Sullivan",
           "CBSSports.com"
          ],
          [
           "290_chunk_0",
           "chunk",
           "sports",
           "Gilbert McGregor",
           "Sporting News"
          ],
          [
           "290_chunk_1",
           "chunk",
           "sports",
           "Gilbert McGregor",
           "Sporting News"
          ],
          [
           "290_chunk_2",
           "chunk",
           "sports",
           "Gilbert McGregor",
           "Sporting News"
          ],
          [
           "291_chunk_0",
           "chunk",
           "technology",
           "Sheena Vasani",
           "The Verge"
          ],
          [
           "291_chunk_1",
           "chunk",
           "technology",
           "Sheena Vasani",
           "The Verge"
          ],
          [
           "291_chunk_2",
           "chunk",
           "technology",
           "Sheena Vasani",
           "The Verge"
          ],
          [
           "291_chunk_3",
           "chunk",
           "technology",
           "Sheena Vasani",
           "The Verge"
          ],
          [
           "291_chunk_4",
           "chunk",
           "technology",
           "Sheena Vasani",
           "The Verge"
          ],
          [
           "292_chunk_0",
           "chunk",
           "entertainment",
           "Nicole Clark",
           "Polygon"
          ],
          [
           "292_chunk_1",
           "chunk",
           "entertainment",
           "Nicole Clark",
           "Polygon"
          ],
          [
           "293_chunk_0",
           "chunk",
           "technology",
           "Elizabeth Lopatto",
           "The Verge"
          ],
          [
           "293_chunk_1",
           "chunk",
           "technology",
           "Elizabeth Lopatto",
           "The Verge"
          ],
          [
           "294_chunk_0",
           "chunk",
           "sports",
           "Edward Sutelan",
           "Sporting News"
          ],
          [
           "294_chunk_1",
           "chunk",
           "sports",
           "Edward Sutelan",
           "Sporting News"
          ],
          [
           "294_chunk_2",
           "chunk",
           "sports",
           "Edward Sutelan",
           "Sporting News"
          ],
          [
           "294_chunk_3",
           "chunk",
           "sports",
           "Edward Sutelan",
           "Sporting News"
          ],
          [
           "294_chunk_4",
           "chunk",
           "sports",
           "Edward Sutelan",
           "Sporting News"
          ],
          [
           "294_chunk_5",
           "chunk",
           "sports",
           "Edward Sutelan",
           "Sporting News"
          ],
          [
           "295_chunk_0",
           "chunk",
           "entertainment",
           "Amber Raiken",
           "The Independent - Life and Style"
          ],
          [
           "295_chunk_1",
           "chunk",
           "entertainment",
           "Amber Raiken",
           "The Independent - Life and Style"
          ],
          [
           "296_chunk_0",
           "chunk",
           "sports",
           "Nick Brinkerhoff",
           "Sporting News"
          ],
          [
           "296_chunk_1",
           "chunk",
           "sports",
           "Nick Brinkerhoff",
           "Sporting News"
          ],
          [
           "297_chunk_0",
           "chunk",
           "sports",
           "Ansuman Abhisek",
           "Essentially Sports"
          ],
          [
           "297_chunk_1",
           "chunk",
           "sports",
           "Ansuman Abhisek",
           "Essentially Sports"
          ],
          [
           "298_chunk_0",
           "chunk",
           "business",
           "Rita Nazareth and Sinéad Carew",
           "The Sydney Morning Herald"
          ],
          [
           "298_chunk_1",
           "chunk",
           "business",
           "Rita Nazareth and Sinéad Carew",
           "The Sydney Morning Herald"
          ],
          [
           "299_chunk_0",
           "chunk",
           "technology",
           "Sean Hollister",
           "The Verge"
          ],
          [
           "299_chunk_1",
           "chunk",
           "technology",
           "Sean Hollister",
           "The Verge"
          ],
          [
           "300_chunk_0",
           "chunk",
           "sports",
           "Uma Gurav",
           "TalkSport"
          ],
          [
           "300_chunk_1",
           "chunk",
           "sports",
           "Uma Gurav",
           "TalkSport"
          ],
          [
           "301_chunk_0",
           "chunk",
           "technology",
           "Ivan Mehta",
           "TechCrunch"
          ],
          [
           "301_chunk_1",
           "chunk",
           "technology",
           "Ivan Mehta",
           "TechCrunch"
          ],
          [
           "302_chunk_0",
           "chunk",
           "business",
           "Puja Molpariya",
           "Revyuh Media"
          ],
          [
           "302_chunk_1",
           "chunk",
           "business",
           "Puja Molpariya",
           "Revyuh Media"
          ],
          [
           "303_chunk_0",
           "chunk",
           "entertainment",
           "unknown",
           "FOX News - Lifestyle"
          ],
          [
           "303_chunk_1",
           "chunk",
           "entertainment",
           "unknown",
           "FOX News - Lifestyle"
          ],
          [
           "304_chunk_0",
           "chunk",
           "technology",
           "Devin Coldewey",
           "TechCrunch"
          ],
          [
           "304_chunk_1",
           "chunk",
           "technology",
           "Devin Coldewey",
           "TechCrunch"
          ],
          [
           "304_chunk_2",
           "chunk",
           "technology",
           "Devin Coldewey",
           "TechCrunch"
          ],
          [
           "305_chunk_0",
           "chunk",
           "technology",
           "Elizabeth Lopatto",
           "The Verge"
          ],
          [
           "305_chunk_1",
           "chunk",
           "technology",
           "Elizabeth Lopatto",
           "The Verge"
          ],
          [
           "305_chunk_2",
           "chunk",
           "technology",
           "Elizabeth Lopatto",
           "The Verge"
          ],
          [
           "306_chunk_0",
           "chunk",
           "business",
           "BusinessWorld",
           "Business World"
          ],
          [
           "306_chunk_1",
           "chunk",
           "business",
           "BusinessWorld",
           "Business World"
          ],
          [
           "307_chunk_0",
           "chunk",
           "sports",
           "Swati Bhatia",
           "Insidesport"
          ],
          [
           "307_chunk_1",
           "chunk",
           "sports",
           "Swati Bhatia",
           "Insidesport"
          ],
          [
           "307_chunk_2",
           "chunk",
           "sports",
           "Swati Bhatia",
           "Insidesport"
          ],
          [
           "307_chunk_3",
           "chunk",
           "sports",
           "Swati Bhatia",
           "Insidesport"
          ],
          [
           "308_chunk_0",
           "chunk",
           "entertainment",
           "Alice Newcome-Beill",
           "Polygon"
          ],
          [
           "308_chunk_1",
           "chunk",
           "entertainment",
           "Alice Newcome-Beill",
           "Polygon"
          ],
          [
           "309_chunk_0",
           "chunk",
           "health",
           "unknown",
           "FOX News - Health"
          ],
          [
           "309_chunk_1",
           "chunk",
           "health",
           "unknown",
           "FOX News - Health"
          ],
          [
           "310_chunk_0",
           "chunk",
           "entertainment",
           "Maanya Sachdeva",
           "The Independent - Life and Style"
          ],
          [
           "310_chunk_1",
           "chunk",
           "entertainment",
           "Maanya Sachdeva",
           "The Independent - Life and Style"
          ],
          [
           "311_chunk_0",
           "chunk",
           "sports",
           "Nick Brinkerhoff",
           "Sporting News"
          ],
          [
           "311_chunk_1",
           "chunk",
           "sports",
           "Nick Brinkerhoff",
           "Sporting News"
          ],
          [
           "312_chunk_0",
           "chunk",
           "technology",
           "Andrew Tarantola",
           "Engadget"
          ],
          [
           "312_chunk_1",
           "chunk",
           "technology",
           "Andrew Tarantola",
           "Engadget"
          ],
          [
           "313_chunk_0",
           "chunk",
           "technology",
           "Andrew Tarantola",
           "Engadget"
          ],
          [
           "313_chunk_1",
           "chunk",
           "technology",
           "Andrew Tarantola",
           "Engadget"
          ],
          [
           "313_chunk_2",
           "chunk",
           "technology",
           "Andrew Tarantola",
           "Engadget"
          ],
          [
           "314_chunk_0",
           "chunk",
           "sports",
           "Sloan Piva",
           "Sporting News"
          ],
          [
           "314_chunk_1",
           "chunk",
           "sports",
           "Sloan Piva",
           "Sporting News"
          ],
          [
           "315_chunk_0",
           "chunk",
           "sports",
           "Kyle Bonn",
           "Sporting News"
          ],
          [
           "315_chunk_1",
           "chunk",
           "sports",
           "Kyle Bonn",
           "Sporting News"
          ],
          [
           "315_chunk_2",
           "chunk",
           "sports",
           "Kyle Bonn",
           "Sporting News"
          ],
          [
           "316_chunk_0",
           "chunk",
           "sports",
           "The New York Times",
           "The New York Times"
          ],
          [
           "316_chunk_1",
           "chunk",
           "sports",
           "The New York Times",
           "The New York Times"
          ],
          [
           "316_chunk_2",
           "chunk",
           "sports",
           "The New York Times",
           "The New York Times"
          ],
          [
           "316_chunk_3",
           "chunk",
           "sports",
           "The New York Times",
           "The New York Times"
          ],
          [
           "316_chunk_4",
           "chunk",
           "sports",
           "The New York Times",
           "The New York Times"
          ],
          [
           "317_chunk_0",
           "chunk",
           "sports",
           "Sloan Piva",
           "Sporting News"
          ],
          [
           "317_chunk_1",
           "chunk",
           "sports",
           "Sloan Piva",
           "Sporting News"
          ],
          [
           "317_chunk_2",
           "chunk",
           "sports",
           "Sloan Piva",
           "Sporting News"
          ],
          [
           "318_chunk_0",
           "chunk",
           "technology",
           "Harri Weber",
           "TechCrunch"
          ],
          [
           "318_chunk_1",
           "chunk",
           "technology",
           "Harri Weber",
           "TechCrunch"
          ],
          [
           "319_chunk_0",
           "chunk",
           "technology",
           "Andrew J. Hawkins",
           "The Verge"
          ],
          [
           "319_chunk_1",
           "chunk",
           "technology",
           "Andrew J. Hawkins",
           "The Verge"
          ],
          [
           "320_chunk_0",
           "chunk",
           "technology",
           "Matt Jancer",
           "Wired"
          ],
          [
           "320_chunk_1",
           "chunk",
           "technology",
           "Matt Jancer",
           "Wired"
          ],
          [
           "320_chunk_2",
           "chunk",
           "technology",
           "Matt Jancer",
           "Wired"
          ],
          [
           "320_chunk_3",
           "chunk",
           "technology",
           "Matt Jancer",
           "Wired"
          ],
          [
           "320_chunk_4",
           "chunk",
           "technology",
           "Matt Jancer",
           "Wired"
          ],
          [
           "320_chunk_5",
           "chunk",
           "technology",
           "Matt Jancer",
           "Wired"
          ],
          [
           "321_chunk_0",
           "chunk",
           "business",
           "Brendan Murray, Tara Patel, Bloomberg",
           "Fortune"
          ],
          [
           "321_chunk_1",
           "chunk",
           "business",
           "Brendan Murray, Tara Patel, Bloomberg",
           "Fortune"
          ],
          [
           "322_chunk_0",
           "chunk",
           "sports",
           "The New York Times",
           "The New York Times"
          ],
          [
           "322_chunk_1",
           "chunk",
           "sports",
           "The New York Times",
           "The New York Times"
          ],
          [
           "322_chunk_2",
           "chunk",
           "sports",
           "The New York Times",
           "The New York Times"
          ],
          [
           "322_chunk_3",
           "chunk",
           "sports",
           "The New York Times",
           "The New York Times"
          ],
          [
           "323_chunk_0",
           "chunk",
           "entertainment",
           "Faiza Saqib and Amber Raiken",
           "The Independent - Life and Style"
          ],
          [
           "323_chunk_1",
           "chunk",
           "entertainment",
           "Faiza Saqib and Amber Raiken",
           "The Independent - Life and Style"
          ],
          [
           "324_chunk_0",
           "chunk",
           "entertainment",
           "Amber Raiken",
           "The Independent - Life and Style"
          ],
          [
           "324_chunk_1",
           "chunk",
           "entertainment",
           "Amber Raiken",
           "The Independent - Life and Style"
          ],
          [
           "325_chunk_0",
           "chunk",
           "science",
           "unknown",
           "Live Science: The Most Interesting Articles"
          ],
          [
           "325_chunk_1",
           "chunk",
           "science",
           "unknown",
           "Live Science: The Most Interesting Articles"
          ],
          [
           "325_chunk_2",
           "chunk",
           "science",
           "unknown",
           "Live Science: The Most Interesting Articles"
          ],
          [
           "326_chunk_0",
           "chunk",
           "entertainment",
           "unknown",
           "FOX News - Lifestyle"
          ],
          [
           "326_chunk_1",
           "chunk",
           "entertainment",
           "unknown",
           "FOX News - Lifestyle"
          ],
          [
           "327_chunk_0",
           "chunk",
           "entertainment",
           "Tasha Robinson",
           "Polygon"
          ],
          [
           "327_chunk_1",
           "chunk",
           "entertainment",
           "Tasha Robinson",
           "Polygon"
          ],
          [
           "327_chunk_2",
           "chunk",
           "entertainment",
           "Tasha Robinson",
           "Polygon"
          ],
          [
           "327_chunk_3",
           "chunk",
           "entertainment",
           "Tasha Robinson",
           "Polygon"
          ],
          [
           "328_chunk_0",
           "chunk",
           "sports",
           "Edward Sutelan",
           "Sporting News"
          ],
          [
           "328_chunk_1",
           "chunk",
           "sports",
           "Edward Sutelan",
           "Sporting News"
          ],
          [
           "329_chunk_0",
           "chunk",
           "technology",
           "Charles Pulliam-Moore",
           "The Verge"
          ],
          [
           "329_chunk_1",
           "chunk",
           "technology",
           "Charles Pulliam-Moore",
           "The Verge"
          ],
          [
           "330_chunk_0",
           "chunk",
           "sports",
           "Jamie Jackson",
           "The Guardian"
          ],
          [
           "330_chunk_1",
           "chunk",
           "sports",
           "Jamie Jackson",
           "The Guardian"
          ],
          [
           "331_chunk_0",
           "chunk",
           "sports",
           "Nick Brinkerhoff",
           "Sporting News"
          ],
          [
           "331_chunk_1",
           "chunk",
           "sports",
           "Nick Brinkerhoff",
           "Sporting News"
          ],
          [
           "332_chunk_0",
           "chunk",
           "business",
           "Matt O'Brien, The Associated Press",
           "Fortune"
          ],
          [
           "332_chunk_1",
           "chunk",
           "business",
           "Matt O'Brien, The Associated Press",
           "Fortune"
          ],
          [
           "333_chunk_0",
           "chunk",
           "technology",
           "Devin Coldewey",
           "TechCrunch"
          ],
          [
           "333_chunk_1",
           "chunk",
           "technology",
           "Devin Coldewey",
           "TechCrunch"
          ],
          [
           "334_chunk_0",
           "chunk",
           "technology",
           "Kyle Wiggers",
           "TechCrunch"
          ],
          [
           "334_chunk_1",
           "chunk",
           "technology",
           "Kyle Wiggers",
           "TechCrunch"
          ],
          [
           "335_chunk_0",
           "chunk",
           "technology",
           "Natasha Lomas",
           "TechCrunch"
          ],
          [
           "335_chunk_1",
           "chunk",
           "technology",
           "Natasha Lomas",
           "TechCrunch"
          ],
          [
           "336_chunk_0",
           "chunk",
           "technology",
           "Johana Bhuiyan",
           "The Guardian"
          ],
          [
           "336_chunk_1",
           "chunk",
           "technology",
           "Johana Bhuiyan",
           "The Guardian"
          ],
          [
           "337_chunk_0",
           "chunk",
           "technology",
           "Kirsten Korosec",
           "TechCrunch"
          ],
          [
           "337_chunk_1",
           "chunk",
           "technology",
           "Kirsten Korosec",
           "TechCrunch"
          ],
          [
           "338_chunk_0",
           "chunk",
           "business",
           "unknown",
           "Seeking Alpha"
          ],
          [
           "338_chunk_1",
           "chunk",
           "business",
           "unknown",
           "Seeking Alpha"
          ],
          [
           "339_chunk_0",
           "chunk",
           "entertainment",
           "Joanna Whitehead",
           "The Independent - Life and Style"
          ],
          [
           "339_chunk_1",
           "chunk",
           "entertainment",
           "Joanna Whitehead",
           "The Independent - Life and Style"
          ],
          [
           "340_chunk_0",
           "chunk",
           "sports",
           "Josh Erickson, Pro Hockey Rumors",
           "Yardbarker"
          ],
          [
           "340_chunk_1",
           "chunk",
           "sports",
           "Josh Erickson, Pro Hockey Rumors",
           "Yardbarker"
          ],
          [
           "341_chunk_0",
           "chunk",
           "sports",
           "Tom Naghten",
           "Sporting News"
          ],
          [
           "341_chunk_1",
           "chunk",
           "sports",
           "Tom Naghten",
           "Sporting News"
          ],
          [
           "342_chunk_0",
           "chunk",
           "sports",
           "Tony Harper",
           "The Roar | Sports Writers Blog"
          ],
          [
           "342_chunk_1",
           "chunk",
           "sports",
           "Tony Harper",
           "The Roar | Sports Writers Blog"
          ],
          [
           "343_chunk_0",
           "chunk",
           "sports",
           "Pete Prisco",
           "CBSSports.com"
          ],
          [
           "343_chunk_1",
           "chunk",
           "sports",
           "Pete Prisco",
           "CBSSports.com"
          ],
          [
           "344_chunk_0",
           "chunk",
           "sports",
           "Jakso James",
           "Essentially Sports"
          ],
          [
           "344_chunk_1",
           "chunk",
           "sports",
           "Jakso James",
           "Essentially Sports"
          ],
          [
           "345_chunk_0",
           "chunk",
           "technology",
           "Robin Buller in Oakland, California",
           "The Guardian"
          ],
          [
           "345_chunk_1",
           "chunk",
           "technology",
           "Robin Buller in Oakland, California",
           "The Guardian"
          ],
          [
           "346_chunk_0",
           "chunk",
           "technology",
           "Alicia Haddick",
           "The Verge"
          ],
          [
           "346_chunk_1",
           "chunk",
           "technology",
           "Alicia Haddick",
           "The Verge"
          ],
          [
           "346_chunk_2",
           "chunk",
           "technology",
           "Alicia Haddick",
           "The Verge"
          ],
          [
           "347_chunk_0",
           "chunk",
           "entertainment",
           "Wenlei Ma",
           "The Guardian"
          ],
          [
           "347_chunk_1",
           "chunk",
           "entertainment",
           "Wenlei Ma",
           "The Guardian"
          ],
          [
           "348_chunk_0",
           "chunk",
           "entertainment",
           "unknown",
           "FOX News - Entertainment"
          ],
          [
           "348_chunk_1",
           "chunk",
           "entertainment",
           "unknown",
           "FOX News - Entertainment"
          ],
          [
           "349_chunk_0",
           "chunk",
           "sports",
           "Shaikh Aerajuddin",
           "Essentially Sports"
          ],
          [
           "349_chunk_1",
           "chunk",
           "sports",
           "Shaikh Aerajuddin",
           "Essentially Sports"
          ],
          [
           "350_chunk_0",
           "chunk",
           "technology",
           "Antonio G. Di Benedetto",
           "The Verge"
          ],
          [
           "350_chunk_1",
           "chunk",
           "technology",
           "Antonio G. Di Benedetto",
           "The Verge"
          ],
          [
           "350_chunk_2",
           "chunk",
           "technology",
           "Antonio G. Di Benedetto",
           "The Verge"
          ],
          [
           "350_chunk_3",
           "chunk",
           "technology",
           "Antonio G. Di Benedetto",
           "The Verge"
          ],
          [
           "350_chunk_4",
           "chunk",
           "technology",
           "Antonio G. Di Benedetto",
           "The Verge"
          ],
          [
           "351_chunk_0",
           "chunk",
           "technology",
           "Antonio G. Di Benedetto",
           "The Verge"
          ],
          [
           "351_chunk_1",
           "chunk",
           "technology",
           "Antonio G. Di Benedetto",
           "The Verge"
          ],
          [
           "351_chunk_2",
           "chunk",
           "technology",
           "Antonio G. Di Benedetto",
           "The Verge"
          ],
          [
           "352_chunk_0",
           "chunk",
           "sports",
           "Reuters",
           "The Guardian"
          ],
          [
           "352_chunk_1",
           "chunk",
           "sports",
           "Reuters",
           "The Guardian"
          ],
          [
           "353_chunk_0",
           "chunk",
           "sports",
           "Bill Bender",
           "Sporting News"
          ],
          [
           "353_chunk_1",
           "chunk",
           "sports",
           "Bill Bender",
           "Sporting News"
          ],
          [
           "354_chunk_0",
           "chunk",
           "entertainment",
           "Chris Plante",
           "Polygon"
          ],
          [
           "354_chunk_1",
           "chunk",
           "entertainment",
           "Chris Plante",
           "Polygon"
          ],
          [
           "355_chunk_0",
           "chunk",
           "technology",
           "Sean Hollister",
           "The Verge"
          ],
          [
           "355_chunk_1",
           "chunk",
           "technology",
           "Sean Hollister",
           "The Verge"
          ],
          [
           "355_chunk_2",
           "chunk",
           "technology",
           "Sean Hollister",
           "The Verge"
          ],
          [
           "356_chunk_0",
           "chunk",
           "sports",
           "Bryan Murphy",
           "Sporting News"
          ],
          [
           "356_chunk_1",
           "chunk",
           "sports",
           "Bryan Murphy",
           "Sporting News"
          ],
          [
           "357_chunk_0",
           "chunk",
           "business",
           "",
           "The Sydney Morning Herald"
          ],
          [
           "357_chunk_1",
           "chunk",
           "business",
           "",
           "The Sydney Morning Herald"
          ],
          [
           "358_chunk_0",
           "chunk",
           "entertainment",
           "Meredith Clark",
           "The Independent - Life and Style"
          ],
          [
           "358_chunk_1",
           "chunk",
           "entertainment",
           "Meredith Clark",
           "The Independent - Life and Style"
          ],
          [
           "359_chunk_0",
           "chunk",
           "sports",
           "Sam Eggleston",
           "Sporting News"
          ],
          [
           "359_chunk_1",
           "chunk",
           "sports",
           "Sam Eggleston",
           "Sporting News"
          ],
          [
           "359_chunk_2",
           "chunk",
           "sports",
           "Sam Eggleston",
           "Sporting News"
          ],
          [
           "360_chunk_0",
           "chunk",
           "entertainment",
           "Amber Raiken",
           "The Independent - Life and Style"
          ],
          [
           "361_chunk_0",
           "chunk",
           "business",
           "Daniel Tencer",
           "Music Business Worldwide"
          ],
          [
           "361_chunk_1",
           "chunk",
           "business",
           "Daniel Tencer",
           "Music Business Worldwide"
          ],
          [
           "362_chunk_0",
           "chunk",
           "sports",
           "Nick Igbokwe",
           "Sportskeeda"
          ],
          [
           "362_chunk_1",
           "chunk",
           "sports",
           "Nick Igbokwe",
           "Sportskeeda"
          ],
          [
           "363_chunk_0",
           "chunk",
           "business",
           "Daniel Tencer",
           "Music Business Worldwide"
          ],
          [
           "363_chunk_1",
           "chunk",
           "business",
           "Daniel Tencer",
           "Music Business Worldwide"
          ],
          [
           "364_chunk_0",
           "chunk",
           "technology",
           "Victoria Song",
           "The Verge"
          ],
          [
           "364_chunk_1",
           "chunk",
           "technology",
           "Victoria Song",
           "The Verge"
          ],
          [
           "364_chunk_2",
           "chunk",
           "technology",
           "Victoria Song",
           "The Verge"
          ],
          [
           "364_chunk_3",
           "chunk",
           "technology",
           "Victoria Song",
           "The Verge"
          ],
          [
           "364_chunk_4",
           "chunk",
           "technology",
           "Victoria Song",
           "The Verge"
          ],
          [
           "365_chunk_0",
           "chunk",
           "technology",
           "Devin Coldewey",
           "TechCrunch"
          ],
          [
           "365_chunk_1",
           "chunk",
           "technology",
           "Devin Coldewey",
           "TechCrunch"
          ],
          [
           "365_chunk_2",
           "chunk",
           "technology",
           "Devin Coldewey",
           "TechCrunch"
          ],
          [
           "366_chunk_0",
           "chunk",
           "sports",
           "Damian Mannion",
           "TalkSport"
          ],
          [
           "366_chunk_1",
           "chunk",
           "sports",
           "Damian Mannion",
           "TalkSport"
          ],
          [
           "367_chunk_0",
           "chunk",
           "technology",
           "Rebecca Bellan",
           "TechCrunch"
          ],
          [
           "367_chunk_1",
           "chunk",
           "technology",
           "Rebecca Bellan",
           "TechCrunch"
          ],
          [
           "368_chunk_0",
           "chunk",
           "sports",
           "Sam Eggleston",
           "Sporting News"
          ],
          [
           "368_chunk_1",
           "chunk",
           "sports",
           "Sam Eggleston",
           "Sporting News"
          ],
          [
           "368_chunk_2",
           "chunk",
           "sports",
           "Sam Eggleston",
           "Sporting News"
          ],
          [
           "369_chunk_0",
           "chunk",
           "technology",
           "Sheena Vasani",
           "The Verge"
          ],
          [
           "369_chunk_1",
           "chunk",
           "technology",
           "Sheena Vasani",
           "The Verge"
          ],
          [
           "369_chunk_2",
           "chunk",
           "technology",
           "Sheena Vasani",
           "The Verge"
          ],
          [
           "369_chunk_3",
           "chunk",
           "technology",
           "Sheena Vasani",
           "The Verge"
          ],
          [
           "369_chunk_4",
           "chunk",
           "technology",
           "Sheena Vasani",
           "The Verge"
          ],
          [
           "370_chunk_0",
           "chunk",
           "sports",
           "Barney Ronay at Old Trafford",
           "The Guardian"
          ],
          [
           "370_chunk_1",
           "chunk",
           "sports",
           "Barney Ronay at Old Trafford",
           "The Guardian"
          ],
          [
           "371_chunk_0",
           "chunk",
           "sports",
           "Simon Burnton at the Brian Lara Stadium",
           "The Guardian"
          ],
          [
           "371_chunk_1",
           "chunk",
           "sports",
           "Simon Burnton at the Brian Lara Stadium",
           "The Guardian"
          ],
          [
           "372_chunk_0",
           "chunk",
           "technology",
           "Ingrid Lunden",
           "TechCrunch"
          ],
          [
           "372_chunk_1",
           "chunk",
           "technology",
           "Ingrid Lunden",
           "TechCrunch"
          ],
          [
           "373_chunk_0",
           "chunk",
           "business",
           "unknown",
           "Seeking Alpha"
          ],
          [
           "373_chunk_1",
           "chunk",
           "business",
           "unknown",
           "Seeking Alpha"
          ],
          [
           "374_chunk_0",
           "chunk",
           "technology",
           "Jacquelyn Melinek",
           "TechCrunch"
          ],
          [
           "374_chunk_1",
           "chunk",
           "technology",
           "Jacquelyn Melinek",
           "TechCrunch"
          ],
          [
           "375_chunk_0",
           "chunk",
           "business",
           "unknown",
           "Cnbc | World Business News Leader"
          ],
          [
           "375_chunk_1",
           "chunk",
           "business",
           "unknown",
           "Cnbc | World Business News Leader"
          ],
          [
           "376_chunk_0",
           "chunk",
           "sports",
           "Isaac Thorn",
           "Sporting News"
          ],
          [
           "376_chunk_1",
           "chunk",
           "sports",
           "Isaac Thorn",
           "Sporting News"
          ],
          [
           "377_chunk_0",
           "chunk",
           "business",
           "Lisa Mascaro, Farnoush Amiri, Stephen Groves, The Associated Press",
           "Fortune"
          ],
          [
           "377_chunk_1",
           "chunk",
           "business",
           "Lisa Mascaro, Farnoush Amiri, Stephen Groves, The Associated Press",
           "Fortune"
          ],
          [
           "378_chunk_0",
           "chunk",
           "sports",
           "Edward Sutelan",
           "Sporting News"
          ],
          [
           "378_chunk_1",
           "chunk",
           "sports",
           "Edward Sutelan",
           "Sporting News"
          ],
          [
           "378_chunk_2",
           "chunk",
           "sports",
           "Edward Sutelan",
           "Sporting News"
          ],
          [
           "378_chunk_3",
           "chunk",
           "sports",
           "Edward Sutelan",
           "Sporting News"
          ],
          [
           "378_chunk_4",
           "chunk",
           "sports",
           "Edward Sutelan",
           "Sporting News"
          ],
          [
           "379_chunk_0",
           "chunk",
           "sports",
           "Kyle Bonn",
           "Sporting News"
          ],
          [
           "379_chunk_1",
           "chunk",
           "sports",
           "Kyle Bonn",
           "Sporting News"
          ],
          [
           "380_chunk_0",
           "chunk",
           "business",
           "Murray Stassen",
           "Music Business Worldwide"
          ],
          [
           "380_chunk_1",
           "chunk",
           "business",
           "Murray Stassen",
           "Music Business Worldwide"
          ],
          [
           "380_chunk_2",
           "chunk",
           "business",
           "Murray Stassen",
           "Music Business Worldwide"
          ],
          [
           "381_chunk_0",
           "chunk",
           "business",
           "Tim Ingham",
           "Music Business Worldwide"
          ],
          [
           "381_chunk_1",
           "chunk",
           "business",
           "Tim Ingham",
           "Music Business Worldwide"
          ],
          [
           "381_chunk_2",
           "chunk",
           "business",
           "Tim Ingham",
           "Music Business Worldwide"
          ],
          [
           "382_chunk_0",
           "chunk",
           "entertainment",
           "Pete Volk",
           "Polygon"
          ],
          [
           "382_chunk_1",
           "chunk",
           "entertainment",
           "Pete Volk",
           "Polygon"
          ],
          [
           "383_chunk_0",
           "chunk",
           "entertainment",
           "Grayson Morley",
           "Polygon"
          ],
          [
           "383_chunk_1",
           "chunk",
           "entertainment",
           "Grayson Morley",
           "Polygon"
          ],
          [
           "384_chunk_0",
           "chunk",
           "technology",
           "Sarah Perez",
           "TechCrunch"
          ],
          [
           "384_chunk_1",
           "chunk",
           "technology",
           "Sarah Perez",
           "TechCrunch"
          ],
          [
           "385_chunk_0",
           "chunk",
           "business",
           "unknown",
           "Cnbc | World Business News Leader"
          ],
          [
           "385_chunk_1",
           "chunk",
           "business",
           "unknown",
           "Cnbc | World Business News Leader"
          ],
          [
           "386_chunk_0",
           "chunk",
           "sports",
           "Nick Brinkerhoff",
           "Sporting News"
          ],
          [
           "386_chunk_1",
           "chunk",
           "sports",
           "Nick Brinkerhoff",
           "Sporting News"
          ],
          [
           "387_chunk_0",
           "chunk",
           "entertainment",
           "Jesse Hassenger",
           "Polygon"
          ],
          [
           "387_chunk_1",
           "chunk",
           "entertainment",
           "Jesse Hassenger",
           "Polygon"
          ],
          [
           "388_chunk_0",
           "chunk",
           "entertainment",
           "unknown",
           "FOX News - Lifestyle"
          ],
          [
           "388_chunk_1",
           "chunk",
           "entertainment",
           "unknown",
           "FOX News - Lifestyle"
          ],
          [
           "389_chunk_0",
           "chunk",
           "entertainment",
           "Autumn Wright",
           "Polygon"
          ],
          [
           "389_chunk_1",
           "chunk",
           "entertainment",
           "Autumn Wright",
           "Polygon"
          ],
          [
           "390_chunk_0",
           "chunk",
           "health",
           "unknown",
           "FOX News - Health"
          ],
          [
           "390_chunk_1",
           "chunk",
           "health",
           "unknown",
           "FOX News - Health"
          ],
          [
           "391_chunk_0",
           "chunk",
           "science",
           "Bradley van Paridon",
           "Advanced Science News"
          ],
          [
           "391_chunk_1",
           "chunk",
           "science",
           "Bradley van Paridon",
           "Advanced Science News"
          ],
          [
           "392_chunk_0",
           "chunk",
           "entertainment",
           "Petrana Radulovic",
           "Polygon"
          ],
          [
           "392_chunk_1",
           "chunk",
           "entertainment",
           "Petrana Radulovic",
           "Polygon"
          ],
          [
           "392_chunk_2",
           "chunk",
           "entertainment",
           "Petrana Radulovic",
           "Polygon"
          ],
          [
           "392_chunk_3",
           "chunk",
           "entertainment",
           "Petrana Radulovic",
           "Polygon"
          ],
          [
           "392_chunk_4",
           "chunk",
           "entertainment",
           "Petrana Radulovic",
           "Polygon"
          ],
          [
           "393_chunk_0",
           "chunk",
           "entertainment",
           "unknown",
           "FOX News - Lifestyle"
          ],
          [
           "393_chunk_1",
           "chunk",
           "entertainment",
           "unknown",
           "FOX News - Lifestyle"
          ],
          [
           "394_chunk_0",
           "chunk",
           "sports",
           "Vinnie Iyer",
           "Sporting News"
          ],
          [
           "394_chunk_1",
           "chunk",
           "sports",
           "Vinnie Iyer",
           "Sporting News"
          ],
          [
           "395_chunk_0",
           "chunk",
           "sports",
           "Joel Sritharan",
           "Sporting News"
          ],
          [
           "395_chunk_1",
           "chunk",
           "sports",
           "Joel Sritharan",
           "Sporting News"
          ],
          [
           "396_chunk_0",
           "chunk",
           "technology",
           "Natasha Lomas",
           "TechCrunch"
          ],
          [
           "396_chunk_1",
           "chunk",
           "technology",
           "Natasha Lomas",
           "TechCrunch"
          ],
          [
           "397_chunk_0",
           "chunk",
           "entertainment",
           "Ellie Muir",
           "The Independent - Life and Style"
          ],
          [
           "397_chunk_1",
           "chunk",
           "entertainment",
           "Ellie Muir",
           "The Independent - Life and Style"
          ],
          [
           "398_chunk_0",
           "chunk",
           "technology",
           "Ingrid Lunden",
           "TechCrunch"
          ],
          [
           "398_chunk_1",
           "chunk",
           "technology",
           "Ingrid Lunden",
           "TechCrunch"
          ],
          [
           "399_chunk_0",
           "chunk",
           "entertainment",
           "Ryan Gilliam",
           "Polygon"
          ],
          [
           "399_chunk_1",
           "chunk",
           "entertainment",
           "Ryan Gilliam",
           "Polygon"
          ],
          [
           "400_chunk_0",
           "chunk",
           "sports",
           "The New York Times",
           "The New York Times"
          ],
          [
           "400_chunk_1",
           "chunk",
           "sports",
           "The New York Times",
           "The New York Times"
          ],
          [
           "401_chunk_0",
           "chunk",
           "technology",
           "Morgan Sung",
           "TechCrunch"
          ],
          [
           "401_chunk_1",
           "chunk",
           "technology",
           "Morgan Sung",
           "TechCrunch"
          ],
          [
           "401_chunk_2",
           "chunk",
           "technology",
           "Morgan Sung",
           "TechCrunch"
          ],
          [
           "402_chunk_0",
           "chunk",
           "technology",
           "Sarah Perez",
           "TechCrunch"
          ],
          [
           "402_chunk_1",
           "chunk",
           "technology",
           "Sarah Perez",
           "TechCrunch"
          ],
          [
           "403_chunk_0",
           "chunk",
           "technology",
           "Barbara Krasnoff",
           "The Verge"
          ],
          [
           "403_chunk_1",
           "chunk",
           "technology",
           "Barbara Krasnoff",
           "The Verge"
          ],
          [
           "403_chunk_2",
           "chunk",
           "technology",
           "Barbara Krasnoff",
           "The Verge"
          ],
          [
           "404_chunk_0",
           "chunk",
           "technology",
           "Jeff Dunn",
           "Engadget"
          ],
          [
           "404_chunk_1",
           "chunk",
           "technology",
           "Jeff Dunn",
           "Engadget"
          ],
          [
           "404_chunk_2",
           "chunk",
           "technology",
           "Jeff Dunn",
           "Engadget"
          ],
          [
           "404_chunk_3",
           "chunk",
           "technology",
           "Jeff Dunn",
           "Engadget"
          ],
          [
           "404_chunk_4",
           "chunk",
           "technology",
           "Jeff Dunn",
           "Engadget"
          ],
          [
           "405_chunk_0",
           "chunk",
           "technology",
           "Morgan Sung",
           "TechCrunch"
          ],
          [
           "405_chunk_1",
           "chunk",
           "technology",
           "Morgan Sung",
           "TechCrunch"
          ],
          [
           "406_chunk_0",
           "chunk",
           "sports",
           "The Roar",
           "The Roar | Sports Writers Blog"
          ],
          [
           "406_chunk_1",
           "chunk",
           "sports",
           "The Roar",
           "The Roar | Sports Writers Blog"
          ],
          [
           "406_chunk_2",
           "chunk",
           "sports",
           "The Roar",
           "The Roar | Sports Writers Blog"
          ],
          [
           "406_chunk_3",
           "chunk",
           "sports",
           "The Roar",
           "The Roar | Sports Writers Blog"
          ],
          [
           "407_chunk_0",
           "chunk",
           "sports",
           "Tony Harper",
           "The Roar | Sports Writers Blog"
          ],
          [
           "407_chunk_1",
           "chunk",
           "sports",
           "Tony Harper",
           "The Roar | Sports Writers Blog"
          ],
          [
           "408_chunk_0",
           "chunk",
           "sports",
           "Dan Treacy",
           "Sporting News"
          ],
          [
           "408_chunk_1",
           "chunk",
           "sports",
           "Dan Treacy",
           "Sporting News"
          ],
          [
           "408_chunk_2",
           "chunk",
           "sports",
           "Dan Treacy",
           "Sporting News"
          ],
          [
           "408_chunk_3",
           "chunk",
           "sports",
           "Dan Treacy",
           "Sporting News"
          ],
          [
           "409_chunk_0",
           "chunk",
           "sports",
           "Vishakha Deshpande",
           "Sporting News"
          ],
          [
           "409_chunk_1",
           "chunk",
           "sports",
           "Vishakha Deshpande",
           "Sporting News"
          ],
          [
           "410_chunk_0",
           "chunk",
           "business",
           "BusinessWorld",
           "Business World"
          ],
          [
           "410_chunk_1",
           "chunk",
           "business",
           "BusinessWorld",
           "Business World"
          ],
          [
           "410_chunk_2",
           "chunk",
           "business",
           "BusinessWorld",
           "Business World"
          ],
          [
           "411_chunk_0",
           "chunk",
           "sports",
           "Dean Straka",
           "CBSSports.com"
          ],
          [
           "411_chunk_1",
           "chunk",
           "sports",
           "Dean Straka",
           "CBSSports.com"
          ],
          [
           "412_chunk_0",
           "chunk",
           "business",
           "Melissa Murphy, The Associated Press",
           "Fortune"
          ],
          [
           "413_chunk_0",
           "chunk",
           "business",
           "Ela Levi-Weinreb",
           "Globes English | Israel Business Arena"
          ],
          [
           "413_chunk_1",
           "chunk",
           "business",
           "Ela Levi-Weinreb",
           "Globes English | Israel Business Arena"
          ],
          [
           "413_chunk_2",
           "chunk",
           "business",
           "Ela Levi-Weinreb",
           "Globes English | Israel Business Arena"
          ],
          [
           "413_chunk_3",
           "chunk",
           "business",
           "Ela Levi-Weinreb",
           "Globes English | Israel Business Arena"
          ],
          [
           "414_chunk_0",
           "chunk",
           "sports",
           "Luke McLaughlin at OL Stadium",
           "The Guardian"
          ],
          [
           "414_chunk_1",
           "chunk",
           "sports",
           "Luke McLaughlin at OL Stadium",
           "The Guardian"
          ],
          [
           "415_chunk_0",
           "chunk",
           "technology",
           "Kyle Wiggers",
           "TechCrunch"
          ],
          [
           "415_chunk_1",
           "chunk",
           "technology",
           "Kyle Wiggers",
           "TechCrunch"
          ],
          [
           "415_chunk_2",
           "chunk",
           "technology",
           "Kyle Wiggers",
           "TechCrunch"
          ],
          [
           "416_chunk_0",
           "chunk",
           "sports",
           "Kanishka Prakash",
           "Essentially Sports"
          ],
          [
           "416_chunk_1",
           "chunk",
           "sports",
           "Kanishka Prakash",
           "Essentially Sports"
          ],
          [
           "417_chunk_0",
           "chunk",
           "technology",
           "James Trew",
           "Engadget"
          ],
          [
           "417_chunk_1",
           "chunk",
           "technology",
           "James Trew",
           "Engadget"
          ],
          [
           "417_chunk_2",
           "chunk",
           "technology",
           "James Trew",
           "Engadget"
          ],
          [
           "418_chunk_0",
           "chunk",
           "business",
           "unknown",
           "Business Line"
          ],
          [
           "418_chunk_1",
           "chunk",
           "business",
           "unknown",
           "Business Line"
          ],
          [
           "418_chunk_2",
           "chunk",
           "business",
           "unknown",
           "Business Line"
          ],
          [
           "419_chunk_0",
           "chunk",
           "business",
           "Jake Coyle, The Associated Press",
           "Fortune"
          ],
          [
           "419_chunk_1",
           "chunk",
           "business",
           "Jake Coyle, The Associated Press",
           "Fortune"
          ],
          [
           "420_chunk_0",
           "chunk",
           "technology",
           "Brian Heater",
           "TechCrunch"
          ],
          [
           "420_chunk_1",
           "chunk",
           "technology",
           "Brian Heater",
           "TechCrunch"
          ],
          [
           "421_chunk_0",
           "chunk",
           "business",
           "Matt O'Brien, The Associated Press",
           "Fortune"
          ],
          [
           "421_chunk_1",
           "chunk",
           "business",
           "Matt O'Brien, The Associated Press",
           "Fortune"
          ],
          [
           "422_chunk_0",
           "chunk",
           "sports",
           "Dan Treacy",
           "Sporting News"
          ],
          [
           "422_chunk_1",
           "chunk",
           "sports",
           "Dan Treacy",
           "Sporting News"
          ],
          [
           "422_chunk_2",
           "chunk",
           "sports",
           "Dan Treacy",
           "Sporting News"
          ],
          [
           "422_chunk_3",
           "chunk",
           "sports",
           "Dan Treacy",
           "Sporting News"
          ],
          [
           "422_chunk_4",
           "chunk",
           "sports",
           "Dan Treacy",
           "Sporting News"
          ],
          [
           "423_chunk_0",
           "chunk",
           "sports",
           "Shrabana Sengupta",
           "Essentially Sports"
          ],
          [
           "423_chunk_1",
           "chunk",
           "sports",
           "Shrabana Sengupta",
           "Essentially Sports"
          ],
          [
           "424_chunk_0",
           "chunk",
           "technology",
           "Antonio G. Di Benedetto",
           "The Verge"
          ],
          [
           "424_chunk_1",
           "chunk",
           "technology",
           "Antonio G. Di Benedetto",
           "The Verge"
          ],
          [
           "424_chunk_2",
           "chunk",
           "technology",
           "Antonio G. Di Benedetto",
           "The Verge"
          ],
          [
           "425_chunk_0",
           "chunk",
           "sports",
           "Richard Jolly",
           "The Independent - Sports"
          ],
          [
           "425_chunk_1",
           "chunk",
           "sports",
           "Richard Jolly",
           "The Independent - Sports"
          ],
          [
           "426_chunk_0",
           "chunk",
           "sports",
           "Edward Sutelan",
           "Sporting News"
          ],
          [
           "426_chunk_1",
           "chunk",
           "sports",
           "Edward Sutelan",
           "Sporting News"
          ],
          [
           "427_chunk_0",
           "chunk",
           "science",
           "Robin McKie, Science Editor",
           "The Guardian"
          ],
          [
           "427_chunk_1",
           "chunk",
           "science",
           "Robin McKie, Science Editor",
           "The Guardian"
          ],
          [
           "428_chunk_0",
           "chunk",
           "entertainment",
           "Nicole Clark",
           "Polygon"
          ],
          [
           "428_chunk_1",
           "chunk",
           "entertainment",
           "Nicole Clark",
           "Polygon"
          ],
          [
           "428_chunk_2",
           "chunk",
           "entertainment",
           "Nicole Clark",
           "Polygon"
          ],
          [
           "429_chunk_0",
           "chunk",
           "sports",
           "Saurabh Saini",
           "Essentially Sports"
          ],
          [
           "429_chunk_1",
           "chunk",
           "sports",
           "Saurabh Saini",
           "Essentially Sports"
          ],
          [
           "430_chunk_0",
           "chunk",
           "technology",
           "Mary Ann Azevedo",
           "TechCrunch"
          ],
          [
           "430_chunk_1",
           "chunk",
           "technology",
           "Mary Ann Azevedo",
           "TechCrunch"
          ],
          [
           "431_chunk_0",
           "chunk",
           "technology",
           "Victoria Song",
           "The Verge"
          ],
          [
           "431_chunk_1",
           "chunk",
           "technology",
           "Victoria Song",
           "The Verge"
          ],
          [
           "431_chunk_2",
           "chunk",
           "technology",
           "Victoria Song",
           "The Verge"
          ],
          [
           "432_chunk_0",
           "chunk",
           "sports",
           "Kris Johnson",
           "Sporting News"
          ],
          [
           "432_chunk_1",
           "chunk",
           "sports",
           "Kris Johnson",
           "Sporting News"
          ],
          [
           "433_chunk_0",
           "chunk",
           "sports",
           "Travis Pulver",
           "Sporting News"
          ],
          [
           "433_chunk_1",
           "chunk",
           "sports",
           "Travis Pulver",
           "Sporting News"
          ],
          [
           "433_chunk_2",
           "chunk",
           "sports",
           "Travis Pulver",
           "Sporting News"
          ],
          [
           "434_chunk_0",
           "chunk",
           "entertainment",
           "Petrana Radulovic",
           "Polygon"
          ],
          [
           "434_chunk_1",
           "chunk",
           "entertainment",
           "Petrana Radulovic",
           "Polygon"
          ],
          [
           "435_chunk_0",
           "chunk",
           "entertainment",
           "Saleah Blancaflor",
           "Polygon"
          ],
          [
           "435_chunk_1",
           "chunk",
           "entertainment",
           "Saleah Blancaflor",
           "Polygon"
          ],
          [
           "436_chunk_0",
           "chunk",
           "science",
           "Tina Hesman Saey",
           "Science News For Students"
          ],
          [
           "436_chunk_1",
           "chunk",
           "science",
           "Tina Hesman Saey",
           "Science News For Students"
          ],
          [
           "437_chunk_0",
           "chunk",
           "sports",
           "Yardbarker Staff",
           "Yardbarker"
          ],
          [
           "437_chunk_1",
           "chunk",
           "sports",
           "Yardbarker Staff",
           "Yardbarker"
          ],
          [
           "438_chunk_0",
           "chunk",
           "sports",
           "The Roar",
           "The Roar | Sports Writers Blog"
          ],
          [
           "438_chunk_1",
           "chunk",
           "sports",
           "The Roar",
           "The Roar | Sports Writers Blog"
          ],
          [
           "439_chunk_0",
           "chunk",
           "sports",
           "Edward Sutelan",
           "Sporting News"
          ],
          [
           "439_chunk_1",
           "chunk",
           "sports",
           "Edward Sutelan",
           "Sporting News"
          ],
          [
           "439_chunk_2",
           "chunk",
           "sports",
           "Edward Sutelan",
           "Sporting News"
          ],
          [
           "439_chunk_3",
           "chunk",
           "sports",
           "Edward Sutelan",
           "Sporting News"
          ],
          [
           "439_chunk_4",
           "chunk",
           "sports",
           "Edward Sutelan",
           "Sporting News"
          ],
          [
           "440_chunk_0",
           "chunk",
           "sports",
           "News",
           "The Roar | Sports Writers Blog"
          ],
          [
           "440_chunk_1",
           "chunk",
           "sports",
           "News",
           "The Roar | Sports Writers Blog"
          ],
          [
           "441_chunk_0",
           "chunk",
           "sports",
           "Dushyant Singh",
           "Essentially Sports"
          ],
          [
           "441_chunk_1",
           "chunk",
           "sports",
           "Dushyant Singh",
           "Essentially Sports"
          ],
          [
           "442_chunk_0",
           "chunk",
           "business",
           "unknown",
           "Cnbc | World Business News Leader"
          ],
          [
           "442_chunk_1",
           "chunk",
           "business",
           "unknown",
           "Cnbc | World Business News Leader"
          ],
          [
           "443_chunk_0",
           "chunk",
           "sports",
           "Nilavro Ghosh",
           "Essentially Sports"
          ],
          [
           "443_chunk_1",
           "chunk",
           "sports",
           "Nilavro Ghosh",
           "Essentially Sports"
          ],
          [
           "444_chunk_0",
           "chunk",
           "sports",
           "Kyle Bonn",
           "Sporting News"
          ],
          [
           "444_chunk_1",
           "chunk",
           "sports",
           "Kyle Bonn",
           "Sporting News"
          ],
          [
           "445_chunk_0",
           "chunk",
           "sports",
           "Richard Jolly",
           "The Independent - Sports"
          ],
          [
           "445_chunk_1",
           "chunk",
           "sports",
           "Richard Jolly",
           "The Independent - Sports"
          ],
          [
           "446_chunk_0",
           "chunk",
           "sports",
           "Brian Campbell",
           "CBSSports.com"
          ],
          [
           "446_chunk_1",
           "chunk",
           "sports",
           "Brian Campbell",
           "CBSSports.com"
          ],
          [
           "446_chunk_2",
           "chunk",
           "sports",
           "Brian Campbell",
           "CBSSports.com"
          ],
          [
           "447_chunk_0",
           "chunk",
           "sports",
           "David Suggs",
           "Sporting News"
          ],
          [
           "447_chunk_1",
           "chunk",
           "sports",
           "David Suggs",
           "Sporting News"
          ],
          [
           "448_chunk_0",
           "chunk",
           "technology",
           "Ingrid Lunden",
           "TechCrunch"
          ],
          [
           "448_chunk_1",
           "chunk",
           "technology",
           "Ingrid Lunden",
           "TechCrunch"
          ],
          [
           "449_chunk_0",
           "chunk",
           "sports",
           "Crissy Froyd",
           "Sporting News"
          ],
          [
           "449_chunk_1",
           "chunk",
           "sports",
           "Crissy Froyd",
           "Sporting News"
          ],
          [
           "450_chunk_0",
           "chunk",
           "technology",
           "Ingrid Lunden",
           "TechCrunch"
          ],
          [
           "450_chunk_1",
           "chunk",
           "technology",
           "Ingrid Lunden",
           "TechCrunch"
          ],
          [
           "451_chunk_0",
           "chunk",
           "sports",
           "Ian Chadband",
           "The Age"
          ],
          [
           "451_chunk_1",
           "chunk",
           "sports",
           "Ian Chadband",
           "The Age"
          ],
          [
           "451_chunk_2",
           "chunk",
           "sports",
           "Ian Chadband",
           "The Age"
          ],
          [
           "452_chunk_0",
           "chunk",
           "entertainment",
           "Zach Rabiroff",
           "Polygon"
          ],
          [
           "452_chunk_1",
           "chunk",
           "entertainment",
           "Zach Rabiroff",
           "Polygon"
          ],
          [
           "452_chunk_2",
           "chunk",
           "entertainment",
           "Zach Rabiroff",
           "Polygon"
          ],
          [
           "453_chunk_0",
           "chunk",
           "entertainment",
           "Joshua Rivera",
           "Polygon"
          ],
          [
           "453_chunk_1",
           "chunk",
           "entertainment",
           "Joshua Rivera",
           "Polygon"
          ],
          [
           "454_chunk_0",
           "chunk",
           "entertainment",
           "Sarah Thwaites",
           "Polygon"
          ],
          [
           "454_chunk_1",
           "chunk",
           "entertainment",
           "Sarah Thwaites",
           "Polygon"
          ],
          [
           "455_chunk_0",
           "chunk",
           "business",
           "Daniel Tencer",
           "Music Business Worldwide"
          ],
          [
           "455_chunk_1",
           "chunk",
           "business",
           "Daniel Tencer",
           "Music Business Worldwide"
          ],
          [
           "455_chunk_2",
           "chunk",
           "business",
           "Daniel Tencer",
           "Music Business Worldwide"
          ],
          [
           "456_chunk_0",
           "chunk",
           "technology",
           "Tage Kene-Okafor",
           "TechCrunch"
          ],
          [
           "456_chunk_1",
           "chunk",
           "technology",
           "Tage Kene-Okafor",
           "TechCrunch"
          ],
          [
           "457_chunk_0",
           "chunk",
           "technology",
           "Natasha Lomas",
           "TechCrunch"
          ],
          [
           "457_chunk_1",
           "chunk",
           "technology",
           "Natasha Lomas",
           "TechCrunch"
          ],
          [
           "457_chunk_2",
           "chunk",
           "technology",
           "Natasha Lomas",
           "TechCrunch"
          ],
          [
           "457_chunk_3",
           "chunk",
           "technology",
           "Natasha Lomas",
           "TechCrunch"
          ],
          [
           "458_chunk_0",
           "chunk",
           "technology",
           "Catherine Shu",
           "TechCrunch"
          ],
          [
           "458_chunk_1",
           "chunk",
           "technology",
           "Catherine Shu",
           "TechCrunch"
          ],
          [
           "459_chunk_0",
           "chunk",
           "science",
           "sascha.pare@futurenet.com (Sascha Pare)",
           "Live Science: The Most Interesting Articles"
          ],
          [
           "459_chunk_1",
           "chunk",
           "science",
           "sascha.pare@futurenet.com (Sascha Pare)",
           "Live Science: The Most Interesting Articles"
          ],
          [
           "460_chunk_0",
           "chunk",
           "science",
           "unknown",
           "Live Science: The Most Interesting Articles"
          ],
          [
           "460_chunk_1",
           "chunk",
           "science",
           "unknown",
           "Live Science: The Most Interesting Articles"
          ],
          [
           "460_chunk_2",
           "chunk",
           "science",
           "unknown",
           "Live Science: The Most Interesting Articles"
          ],
          [
           "461_chunk_0",
           "chunk",
           "technology",
           "Ariel Shapiro",
           "The Verge"
          ],
          [
           "461_chunk_1",
           "chunk",
           "technology",
           "Ariel Shapiro",
           "The Verge"
          ],
          [
           "462_chunk_0",
           "chunk",
           "entertainment",
           "Kayti Burt",
           "Polygon"
          ],
          [
           "462_chunk_1",
           "chunk",
           "entertainment",
           "Kayti Burt",
           "Polygon"
          ],
          [
           "463_chunk_0",
           "chunk",
           "business",
           "BusinessWorld",
           "Business World"
          ],
          [
           "463_chunk_1",
           "chunk",
           "business",
           "BusinessWorld",
           "Business World"
          ],
          [
           "464_chunk_0",
           "chunk",
           "business",
           "Tim Ingham",
           "Music Business Worldwide"
          ],
          [
           "464_chunk_1",
           "chunk",
           "business",
           "Tim Ingham",
           "Music Business Worldwide"
          ],
          [
           "465_chunk_0",
           "chunk",
           "technology",
           "Jacquelyn Melinek",
           "TechCrunch"
          ],
          [
           "465_chunk_1",
           "chunk",
           "technology",
           "Jacquelyn Melinek",
           "TechCrunch"
          ],
          [
           "466_chunk_0",
           "chunk",
           "science",
           "Jesús Victorino",
           "Advanced Science News"
          ],
          [
           "466_chunk_1",
           "chunk",
           "science",
           "Jesús Victorino",
           "Advanced Science News"
          ],
          [
           "467_chunk_0",
           "chunk",
           "health",
           "unknown",
           "FOX News - Health"
          ],
          [
           "467_chunk_1",
           "chunk",
           "health",
           "unknown",
           "FOX News - Health"
          ],
          [
           "468_chunk_0",
           "chunk",
           "technology",
           "Morgan Sung",
           "TechCrunch"
          ],
          [
           "468_chunk_1",
           "chunk",
           "technology",
           "Morgan Sung",
           "TechCrunch"
          ],
          [
           "468_chunk_2",
           "chunk",
           "technology",
           "Morgan Sung",
           "TechCrunch"
          ],
          [
           "468_chunk_3",
           "chunk",
           "technology",
           "Morgan Sung",
           "TechCrunch"
          ],
          [
           "469_chunk_0",
           "chunk",
           "technology",
           "Morgan Sung",
           "TechCrunch"
          ],
          [
           "469_chunk_1",
           "chunk",
           "technology",
           "Morgan Sung",
           "TechCrunch"
          ],
          [
           "470_chunk_0",
           "chunk",
           "business",
           "Joseph Hostetler",
           "Fortune"
          ],
          [
           "470_chunk_1",
           "chunk",
           "business",
           "Joseph Hostetler",
           "Fortune"
          ],
          [
           "471_chunk_0",
           "chunk",
           "business",
           "Kat Tretina",
           "Fortune"
          ],
          [
           "471_chunk_1",
           "chunk",
           "business",
           "Kat Tretina",
           "Fortune"
          ],
          [
           "471_chunk_2",
           "chunk",
           "business",
           "Kat Tretina",
           "Fortune"
          ],
          [
           "472_chunk_0",
           "chunk",
           "science",
           "unknown",
           "Live Science: The Most Interesting Articles"
          ],
          [
           "472_chunk_1",
           "chunk",
           "science",
           "unknown",
           "Live Science: The Most Interesting Articles"
          ],
          [
           "473_chunk_0",
           "chunk",
           "technology",
           "Sheena Vasani",
           "The Verge"
          ],
          [
           "473_chunk_1",
           "chunk",
           "technology",
           "Sheena Vasani",
           "The Verge"
          ],
          [
           "474_chunk_0",
           "chunk",
           "sports",
           "Jacob Camenker",
           "Sporting News"
          ],
          [
           "474_chunk_1",
           "chunk",
           "sports",
           "Jacob Camenker",
           "Sporting News"
          ],
          [
           "475_chunk_0",
           "chunk",
           "sports",
           "Aidan Wohl, GoAZCATS.com",
           "Rivals"
          ],
          [
           "475_chunk_1",
           "chunk",
           "sports",
           "Aidan Wohl, GoAZCATS.com",
           "Rivals"
          ],
          [
           "476_chunk_0",
           "chunk",
           "sports",
           "Sid Lowe at the Ramón Sánchez Pizjuán Stadium",
           "The Guardian"
          ],
          [
           "476_chunk_1",
           "chunk",
           "sports",
           "Sid Lowe at the Ramón Sánchez Pizjuán Stadium",
           "The Guardian"
          ],
          [
           "477_chunk_0",
           "chunk",
           "business",
           "Ava Benny-Morrison, Bloomberg",
           "Fortune"
          ],
          [
           "477_chunk_1",
           "chunk",
           "business",
           "Ava Benny-Morrison, Bloomberg",
           "Fortune"
          ],
          [
           "477_chunk_2",
           "chunk",
           "business",
           "Ava Benny-Morrison, Bloomberg",
           "Fortune"
          ],
          [
           "478_chunk_0",
           "chunk",
           "sports",
           "James Gregory",
           "Sport Grill"
          ],
          [
           "478_chunk_1",
           "chunk",
           "sports",
           "James Gregory",
           "Sport Grill"
          ],
          [
           "479_chunk_0",
           "chunk",
           "business",
           "Sydney Lake",
           "Fortune"
          ],
          [
           "479_chunk_1",
           "chunk",
           "business",
           "Sydney Lake",
           "Fortune"
          ],
          [
           "480_chunk_0",
           "chunk",
           "sports",
           "Ryan Fagan",
           "Sporting News"
          ],
          [
           "480_chunk_1",
           "chunk",
           "sports",
           "Ryan Fagan",
           "Sporting News"
          ],
          [
           "481_chunk_0",
           "chunk",
           "sports",
           "Veerendra Vikram Singh",
           "Essentially Sports"
          ],
          [
           "481_chunk_1",
           "chunk",
           "sports",
           "Veerendra Vikram Singh",
           "Essentially Sports"
          ],
          [
           "482_chunk_0",
           "chunk",
           "business",
           "zee business",
           "Zee Business"
          ],
          [
           "482_chunk_1",
           "chunk",
           "business",
           "zee business",
           "Zee Business"
          ],
          [
           "483_chunk_0",
           "chunk",
           "sports",
           "Bryan Murphy",
           "Sporting News"
          ],
          [
           "483_chunk_1",
           "chunk",
           "sports",
           "Bryan Murphy",
           "Sporting News"
          ],
          [
           "483_chunk_2",
           "chunk",
           "sports",
           "Bryan Murphy",
           "Sporting News"
          ],
          [
           "483_chunk_3",
           "chunk",
           "sports",
           "Bryan Murphy",
           "Sporting News"
          ],
          [
           "484_chunk_0",
           "chunk",
           "sports",
           "Emily Dozier",
           "Sporting News"
          ],
          [
           "484_chunk_1",
           "chunk",
           "sports",
           "Emily Dozier",
           "Sporting News"
          ],
          [
           "485_chunk_0",
           "chunk",
           "business",
           "Rita Nazareth",
           "The Sydney Morning Herald"
          ],
          [
           "485_chunk_1",
           "chunk",
           "business",
           "Rita Nazareth",
           "The Sydney Morning Herald"
          ],
          [
           "486_chunk_0",
           "chunk",
           "business",
           "Ela Levi-Weinrib",
           "Globes English | Israel Business Arena"
          ],
          [
           "486_chunk_1",
           "chunk",
           "business",
           "Ela Levi-Weinrib",
           "Globes English | Israel Business Arena"
          ],
          [
           "486_chunk_2",
           "chunk",
           "business",
           "Ela Levi-Weinrib",
           "Globes English | Israel Business Arena"
          ],
          [
           "486_chunk_3",
           "chunk",
           "business",
           "Ela Levi-Weinrib",
           "Globes English | Israel Business Arena"
          ],
          [
           "487_chunk_0",
           "chunk",
           "sports",
           "Steven Taranto",
           "CBSSports.com"
          ],
          [
           "487_chunk_1",
           "chunk",
           "sports",
           "Steven Taranto",
           "CBSSports.com"
          ],
          [
           "488_chunk_0",
           "chunk",
           "technology",
           "Amanda Silberling",
           "TechCrunch"
          ],
          [
           "488_chunk_1",
           "chunk",
           "technology",
           "Amanda Silberling",
           "TechCrunch"
          ],
          [
           "489_chunk_0",
           "chunk",
           "sports",
           "Dan Treacy",
           "Sporting News"
          ],
          [
           "489_chunk_1",
           "chunk",
           "sports",
           "Dan Treacy",
           "Sporting News"
          ],
          [
           "489_chunk_2",
           "chunk",
           "sports",
           "Dan Treacy",
           "Sporting News"
          ],
          [
           "489_chunk_3",
           "chunk",
           "sports",
           "Dan Treacy",
           "Sporting News"
          ],
          [
           "490_chunk_0",
           "chunk",
           "sports",
           "Parnab Bhattacharya",
           "Essentially Sports"
          ],
          [
           "490_chunk_1",
           "chunk",
           "sports",
           "Parnab Bhattacharya",
           "Essentially Sports"
          ],
          [
           "491_chunk_0",
           "chunk",
           "technology",
           "Victoria Song",
           "The Verge"
          ],
          [
           "491_chunk_1",
           "chunk",
           "technology",
           "Victoria Song",
           "The Verge"
          ],
          [
           "491_chunk_2",
           "chunk",
           "technology",
           "Victoria Song",
           "The Verge"
          ],
          [
           "492_chunk_0",
           "chunk",
           "sports",
           "Christy Doran",
           "The Roar | Sports Writers Blog"
          ],
          [
           "492_chunk_1",
           "chunk",
           "sports",
           "Christy Doran",
           "The Roar | Sports Writers Blog"
          ],
          [
           "493_chunk_0",
           "chunk",
           "sports",
           "Christy Doran",
           "The Roar | Sports Writers Blog"
          ],
          [
           "493_chunk_1",
           "chunk",
           "sports",
           "Christy Doran",
           "The Roar | Sports Writers Blog"
          ],
          [
           "494_chunk_0",
           "chunk",
           "sports",
           "Sloan Piva",
           "Sporting News"
          ],
          [
           "494_chunk_1",
           "chunk",
           "sports",
           "Sloan Piva",
           "Sporting News"
          ],
          [
           "494_chunk_2",
           "chunk",
           "sports",
           "Sloan Piva",
           "Sporting News"
          ],
          [
           "495_chunk_0",
           "chunk",
           "sports",
           "Kyle Irving",
           "Sporting News"
          ],
          [
           "495_chunk_1",
           "chunk",
           "sports",
           "Kyle Irving",
           "Sporting News"
          ],
          [
           "495_chunk_2",
           "chunk",
           "sports",
           "Kyle Irving",
           "Sporting News"
          ],
          [
           "495_chunk_3",
           "chunk",
           "sports",
           "Kyle Irving",
           "Sporting News"
          ],
          [
           "496_chunk_0",
           "chunk",
           "technology",
           "Carrie Andrews",
           "TechCrunch"
          ],
          [
           "496_chunk_1",
           "chunk",
           "technology",
           "Carrie Andrews",
           "TechCrunch"
          ],
          [
           "497_chunk_0",
           "chunk",
           "sports",
           "Sam Eggleston",
           "Sporting News"
          ],
          [
           "497_chunk_1",
           "chunk",
           "sports",
           "Sam Eggleston",
           "Sporting News"
          ],
          [
           "498_chunk_0",
           "chunk",
           "technology",
           "Jon Porter",
           "The Verge"
          ],
          [
           "498_chunk_1",
           "chunk",
           "technology",
           "Jon Porter",
           "The Verge"
          ],
          [
           "499_chunk_0",
           "chunk",
           "entertainment",
           "Matthew Reynolds",
           "Polygon"
          ],
          [
           "499_chunk_1",
           "chunk",
           "entertainment",
           "Matthew Reynolds",
           "Polygon"
          ],
          [
           "500_chunk_0",
           "chunk",
           "sports",
           "Jacob Camenker",
           "Sporting News"
          ],
          [
           "500_chunk_1",
           "chunk",
           "sports",
           "Jacob Camenker",
           "Sporting News"
          ],
          [
           "501_chunk_0",
           "chunk",
           "entertainment",
           "unknown",
           "FOX News - Lifestyle"
          ],
          [
           "501_chunk_1",
           "chunk",
           "entertainment",
           "unknown",
           "FOX News - Lifestyle"
          ],
          [
           "502_chunk_0",
           "chunk",
           "entertainment",
           "Meredith Clark",
           "The Independent - Life and Style"
          ],
          [
           "502_chunk_1",
           "chunk",
           "entertainment",
           "Meredith Clark",
           "The Independent - Life and Style"
          ],
          [
           "503_chunk_0",
           "chunk",
           "business",
           "Jana Randow, Bloomberg",
           "Fortune"
          ],
          [
           "503_chunk_1",
           "chunk",
           "business",
           "Jana Randow, Bloomberg",
           "Fortune"
          ],
          [
           "504_chunk_0",
           "chunk",
           "sports",
           "The New York Times",
           "The New York Times"
          ],
          [
           "504_chunk_1",
           "chunk",
           "sports",
           "The New York Times",
           "The New York Times"
          ],
          [
           "505_chunk_0",
           "chunk",
           "technology",
           "Igor Bonifacic",
           "Engadget"
          ],
          [
           "505_chunk_1",
           "chunk",
           "technology",
           "Igor Bonifacic",
           "Engadget"
          ],
          [
           "506_chunk_0",
           "chunk",
           "business",
           "Howard Mustoe",
           "The Sydney Morning Herald"
          ],
          [
           "506_chunk_1",
           "chunk",
           "business",
           "Howard Mustoe",
           "The Sydney Morning Herald"
          ],
          [
           "507_chunk_0",
           "chunk",
           "technology",
           "Sarah Perez",
           "TechCrunch"
          ],
          [
           "507_chunk_1",
           "chunk",
           "technology",
           "Sarah Perez",
           "TechCrunch"
          ],
          [
           "508_chunk_0",
           "chunk",
           "technology",
           "David Pierce",
           "The Verge"
          ],
          [
           "508_chunk_1",
           "chunk",
           "technology",
           "David Pierce",
           "The Verge"
          ],
          [
           "508_chunk_2",
           "chunk",
           "technology",
           "David Pierce",
           "The Verge"
          ],
          [
           "509_chunk_0",
           "chunk",
           "technology",
           "Amanda Silberling",
           "TechCrunch"
          ],
          [
           "509_chunk_1",
           "chunk",
           "technology",
           "Amanda Silberling",
           "TechCrunch"
          ],
          [
           "510_chunk_0",
           "chunk",
           "technology",
           "Ingrid Lunden",
           "TechCrunch"
          ],
          [
           "510_chunk_1",
           "chunk",
           "technology",
           "Ingrid Lunden",
           "TechCrunch"
          ],
          [
           "511_chunk_0",
           "chunk",
           "technology",
           "Brian Heater",
           "TechCrunch"
          ],
          [
           "511_chunk_1",
           "chunk",
           "technology",
           "Brian Heater",
           "TechCrunch"
          ],
          [
           "512_chunk_0",
           "chunk",
           "sports",
           "Hunter Felt",
           "The Guardian"
          ],
          [
           "512_chunk_1",
           "chunk",
           "sports",
           "Hunter Felt",
           "The Guardian"
          ],
          [
           "512_chunk_2",
           "chunk",
           "sports",
           "Hunter Felt",
           "The Guardian"
          ],
          [
           "513_chunk_0",
           "chunk",
           "entertainment",
           "",
           "The Independent - Travel"
          ],
          [
           "513_chunk_1",
           "chunk",
           "entertainment",
           "",
           "The Independent - Travel"
          ],
          [
           "514_chunk_0",
           "chunk",
           "technology",
           "Rebecca Bellan",
           "TechCrunch"
          ],
          [
           "514_chunk_1",
           "chunk",
           "technology",
           "Rebecca Bellan",
           "TechCrunch"
          ],
          [
           "514_chunk_2",
           "chunk",
           "technology",
           "Rebecca Bellan",
           "TechCrunch"
          ],
          [
           "515_chunk_0",
           "chunk",
           "sports",
           "Yardbarker",
           "Yardbarker"
          ],
          [
           "515_chunk_1",
           "chunk",
           "sports",
           "Yardbarker",
           "Yardbarker"
          ],
          [
           "516_chunk_0",
           "chunk",
           "technology",
           "Kyle Wiggers",
           "TechCrunch"
          ],
          [
           "516_chunk_1",
           "chunk",
           "technology",
           "Kyle Wiggers",
           "TechCrunch"
          ],
          [
           "517_chunk_0",
           "chunk",
           "entertainment",
           "Cass Marshall",
           "Polygon"
          ],
          [
           "517_chunk_1",
           "chunk",
           "entertainment",
           "Cass Marshall",
           "Polygon"
          ],
          [
           "518_chunk_0",
           "chunk",
           "health",
           "unknown",
           "FOX News - Health"
          ],
          [
           "518_chunk_1",
           "chunk",
           "health",
           "unknown",
           "FOX News - Health"
          ],
          [
           "519_chunk_0",
           "chunk",
           "entertainment",
           "Cameron Faulkner",
           "Polygon"
          ],
          [
           "519_chunk_1",
           "chunk",
           "entertainment",
           "Cameron Faulkner",
           "Polygon"
          ],
          [
           "520_chunk_0",
           "chunk",
           "technology",
           "Scott Gilbertson",
           "Wired"
          ],
          [
           "520_chunk_1",
           "chunk",
           "technology",
           "Scott Gilbertson",
           "Wired"
          ],
          [
           "520_chunk_2",
           "chunk",
           "technology",
           "Scott Gilbertson",
           "Wired"
          ],
          [
           "520_chunk_3",
           "chunk",
           "technology",
           "Scott Gilbertson",
           "Wired"
          ],
          [
           "520_chunk_4",
           "chunk",
           "technology",
           "Scott Gilbertson",
           "Wired"
          ],
          [
           "520_chunk_5",
           "chunk",
           "technology",
           "Scott Gilbertson",
           "Wired"
          ],
          [
           "520_chunk_6",
           "chunk",
           "technology",
           "Scott Gilbertson",
           "Wired"
          ],
          [
           "520_chunk_7",
           "chunk",
           "technology",
           "Scott Gilbertson",
           "Wired"
          ],
          [
           "520_chunk_8",
           "chunk",
           "technology",
           "Scott Gilbertson",
           "Wired"
          ],
          [
           "520_chunk_9",
           "chunk",
           "technology",
           "Scott Gilbertson",
           "Wired"
          ],
          [
           "520_chunk_10",
           "chunk",
           "technology",
           "Scott Gilbertson",
           "Wired"
          ],
          [
           "520_chunk_11",
           "chunk",
           "technology",
           "Scott Gilbertson",
           "Wired"
          ],
          [
           "520_chunk_12",
           "chunk",
           "technology",
           "Scott Gilbertson",
           "Wired"
          ],
          [
           "520_chunk_13",
           "chunk",
           "technology",
           "Scott Gilbertson",
           "Wired"
          ],
          [
           "520_chunk_14",
           "chunk",
           "technology",
           "Scott Gilbertson",
           "Wired"
          ],
          [
           "521_chunk_0",
           "chunk",
           "technology",
           "Sheena Vasani",
           "The Verge"
          ],
          [
           "521_chunk_1",
           "chunk",
           "technology",
           "Sheena Vasani",
           "The Verge"
          ],
          [
           "522_chunk_0",
           "chunk",
           "sports",
           "Wes Goldberg, RealGM",
           "Yardbarker"
          ],
          [
           "522_chunk_1",
           "chunk",
           "sports",
           "Wes Goldberg, RealGM",
           "Yardbarker"
          ],
          [
           "523_chunk_0",
           "chunk",
           "entertainment",
           "Gyan Yankovich",
           "The Age"
          ],
          [
           "523_chunk_1",
           "chunk",
           "entertainment",
           "Gyan Yankovich",
           "The Age"
          ],
          [
           "524_chunk_0",
           "chunk",
           "technology",
           "Jessica Conditt,Aaron Souppouris",
           "Engadget"
          ],
          [
           "524_chunk_1",
           "chunk",
           "technology",
           "Jessica Conditt,Aaron Souppouris",
           "Engadget"
          ],
          [
           "525_chunk_0",
           "chunk",
           "technology",
           "Natasha Lomas",
           "TechCrunch"
          ],
          [
           "525_chunk_1",
           "chunk",
           "technology",
           "Natasha Lomas",
           "TechCrunch"
          ],
          [
           "526_chunk_0",
           "chunk",
           "technology",
           "Brian Heater",
           "TechCrunch"
          ],
          [
           "526_chunk_1",
           "chunk",
           "technology",
           "Brian Heater",
           "TechCrunch"
          ],
          [
           "526_chunk_2",
           "chunk",
           "technology",
           "Brian Heater",
           "TechCrunch"
          ],
          [
           "526_chunk_3",
           "chunk",
           "technology",
           "Brian Heater",
           "TechCrunch"
          ],
          [
           "527_chunk_0",
           "chunk",
           "technology",
           "Eric Ravenscraft",
           "Wired"
          ],
          [
           "527_chunk_1",
           "chunk",
           "technology",
           "Eric Ravenscraft",
           "Wired"
          ],
          [
           "528_chunk_0",
           "chunk",
           "technology",
           "Brian Heater",
           "TechCrunch"
          ],
          [
           "528_chunk_1",
           "chunk",
           "technology",
           "Brian Heater",
           "TechCrunch"
          ],
          [
           "528_chunk_2",
           "chunk",
           "technology",
           "Brian Heater",
           "TechCrunch"
          ],
          [
           "528_chunk_3",
           "chunk",
           "technology",
           "Brian Heater",
           "TechCrunch"
          ],
          [
           "529_chunk_0",
           "chunk",
           "business",
           "Michael R. Sisak, The Associated Press",
           "Fortune"
          ],
          [
           "529_chunk_1",
           "chunk",
           "business",
           "Michael R. Sisak, The Associated Press",
           "Fortune"
          ],
          [
           "530_chunk_0",
           "chunk",
           "business",
           "Tom Maloney",
           "The Age"
          ],
          [
           "530_chunk_1",
           "chunk",
           "business",
           "Tom Maloney",
           "The Age"
          ],
          [
           "531_chunk_0",
           "chunk",
           "sports",
           "The New York Times",
           "The New York Times"
          ],
          [
           "531_chunk_1",
           "chunk",
           "sports",
           "The New York Times",
           "The New York Times"
          ],
          [
           "532_chunk_0",
           "chunk",
           "business",
           "zee business",
           "Zee Business"
          ],
          [
           "532_chunk_1",
           "chunk",
           "business",
           "zee business",
           "Zee Business"
          ],
          [
           "533_chunk_0",
           "chunk",
           "entertainment",
           "Ryan Gilliam",
           "Polygon"
          ],
          [
           "533_chunk_1",
           "chunk",
           "entertainment",
           "Ryan Gilliam",
           "Polygon"
          ],
          [
           "534_chunk_0",
           "chunk",
           "sports",
           "Kyle Bonn",
           "Sporting News"
          ],
          [
           "534_chunk_1",
           "chunk",
           "sports",
           "Kyle Bonn",
           "Sporting News"
          ],
          [
           "534_chunk_2",
           "chunk",
           "sports",
           "Kyle Bonn",
           "Sporting News"
          ],
          [
           "534_chunk_3",
           "chunk",
           "sports",
           "Kyle Bonn",
           "Sporting News"
          ],
          [
           "534_chunk_4",
           "chunk",
           "sports",
           "Kyle Bonn",
           "Sporting News"
          ],
          [
           "534_chunk_5",
           "chunk",
           "sports",
           "Kyle Bonn",
           "Sporting News"
          ],
          [
           "535_chunk_0",
           "chunk",
           "sports",
           "Kyle Bonn",
           "Sporting News"
          ],
          [
           "535_chunk_1",
           "chunk",
           "sports",
           "Kyle Bonn",
           "Sporting News"
          ],
          [
           "536_chunk_0",
           "chunk",
           "business",
           "unknown",
           "Cnbc | World Business News Leader"
          ],
          [
           "536_chunk_1",
           "chunk",
           "business",
           "unknown",
           "Cnbc | World Business News Leader"
          ],
          [
           "536_chunk_2",
           "chunk",
           "business",
           "unknown",
           "Cnbc | World Business News Leader"
          ],
          [
           "536_chunk_3",
           "chunk",
           "business",
           "unknown",
           "Cnbc | World Business News Leader"
          ],
          [
           "536_chunk_4",
           "chunk",
           "business",
           "unknown",
           "Cnbc | World Business News Leader"
          ],
          [
           "537_chunk_0",
           "chunk",
           "technology",
           "Kirsten Korosec",
           "TechCrunch"
          ],
          [
           "537_chunk_1",
           "chunk",
           "technology",
           "Kirsten Korosec",
           "TechCrunch"
          ],
          [
           "538_chunk_0",
           "chunk",
           "sports",
           "Luke Baker",
           "The Independent - Sports"
          ],
          [
           "538_chunk_1",
           "chunk",
           "sports",
           "Luke Baker",
           "The Independent - Sports"
          ],
          [
           "539_chunk_0",
           "chunk",
           "technology",
           "Nilay Patel",
           "The Verge"
          ],
          [
           "539_chunk_1",
           "chunk",
           "technology",
           "Nilay Patel",
           "The Verge"
          ],
          [
           "539_chunk_2",
           "chunk",
           "technology",
           "Nilay Patel",
           "The Verge"
          ],
          [
           "539_chunk_3",
           "chunk",
           "technology",
           "Nilay Patel",
           "The Verge"
          ],
          [
           "539_chunk_4",
           "chunk",
           "technology",
           "Nilay Patel",
           "The Verge"
          ],
          [
           "539_chunk_5",
           "chunk",
           "technology",
           "Nilay Patel",
           "The Verge"
          ],
          [
           "540_chunk_0",
           "chunk",
           "technology",
           "Sarah Perez",
           "TechCrunch"
          ],
          [
           "540_chunk_1",
           "chunk",
           "technology",
           "Sarah Perez",
           "TechCrunch"
          ],
          [
           "541_chunk_0",
           "chunk",
           "sports",
           "Mike Meehall Wood",
           "The Roar | Sports Writers Blog"
          ],
          [
           "541_chunk_1",
           "chunk",
           "sports",
           "Mike Meehall Wood",
           "The Roar | Sports Writers Blog"
          ],
          [
           "542_chunk_0",
           "chunk",
           "sports",
           "Andy Hunter",
           "The Guardian"
          ],
          [
           "542_chunk_1",
           "chunk",
           "sports",
           "Andy Hunter",
           "The Guardian"
          ],
          [
           "543_chunk_0",
           "chunk",
           "entertainment",
           "unknown",
           "BBC News - Entertainment & Arts"
          ],
          [
           "543_chunk_1",
           "chunk",
           "entertainment",
           "unknown",
           "BBC News - Entertainment & Arts"
          ],
          [
           "544_chunk_0",
           "chunk",
           "sports",
           "Sloan Piva",
           "Sporting News"
          ],
          [
           "544_chunk_1",
           "chunk",
           "sports",
           "Sloan Piva",
           "Sporting News"
          ],
          [
           "544_chunk_2",
           "chunk",
           "sports",
           "Sloan Piva",
           "Sporting News"
          ],
          [
           "545_chunk_0",
           "chunk",
           "entertainment",
           "Patricia Hernandez",
           "Polygon"
          ],
          [
           "545_chunk_1",
           "chunk",
           "entertainment",
           "Patricia Hernandez",
           "Polygon"
          ],
          [
           "545_chunk_2",
           "chunk",
           "entertainment",
           "Patricia Hernandez",
           "Polygon"
          ],
          [
           "545_chunk_3",
           "chunk",
           "entertainment",
           "Patricia Hernandez",
           "Polygon"
          ],
          [
           "546_chunk_0",
           "chunk",
           "sports",
           "Simon Peach",
           "The Independent - Sports"
          ],
          [
           "546_chunk_1",
           "chunk",
           "sports",
           "Simon Peach",
           "The Independent - Sports"
          ],
          [
           "547_chunk_0",
           "chunk",
           "technology",
           "Harri Weber",
           "TechCrunch"
          ],
          [
           "547_chunk_1",
           "chunk",
           "technology",
           "Harri Weber",
           "TechCrunch"
          ],
          [
           "548_chunk_0",
           "chunk",
           "technology",
           "Andrew J. Hawkins",
           "The Verge"
          ],
          [
           "548_chunk_1",
           "chunk",
           "technology",
           "Andrew J. Hawkins",
           "The Verge"
          ],
          [
           "549_chunk_0",
           "chunk",
           "technology",
           "Taylor Hatmaker",
           "TechCrunch"
          ],
          [
           "549_chunk_1",
           "chunk",
           "technology",
           "Taylor Hatmaker",
           "TechCrunch"
          ],
          [
           "550_chunk_0",
           "chunk",
           "entertainment",
           "Kazuma Hashimoto",
           "Polygon"
          ],
          [
           "550_chunk_1",
           "chunk",
           "entertainment",
           "Kazuma Hashimoto",
           "Polygon"
          ],
          [
           "551_chunk_0",
           "chunk",
           "technology",
           "Morgan Sung",
           "TechCrunch"
          ],
          [
           "551_chunk_1",
           "chunk",
           "technology",
           "Morgan Sung",
           "TechCrunch"
          ],
          [
           "551_chunk_2",
           "chunk",
           "technology",
           "Morgan Sung",
           "TechCrunch"
          ],
          [
           "552_chunk_0",
           "chunk",
           "sports",
           "Matt Lutovsky",
           "Sporting News"
          ],
          [
           "552_chunk_1",
           "chunk",
           "sports",
           "Matt Lutovsky",
           "Sporting News"
          ],
          [
           "553_chunk_0",
           "chunk",
           "sports",
           "Nick Musial",
           "Sporting News"
          ],
          [
           "553_chunk_1",
           "chunk",
           "sports",
           "Nick Musial",
           "Sporting News"
          ],
          [
           "554_chunk_0",
           "chunk",
           "sports",
           "Sam Eggleston",
           "Sporting News"
          ],
          [
           "554_chunk_1",
           "chunk",
           "sports",
           "Sam Eggleston",
           "Sporting News"
          ],
          [
           "554_chunk_2",
           "chunk",
           "sports",
           "Sam Eggleston",
           "Sporting News"
          ],
          [
           "555_chunk_0",
           "chunk",
           "entertainment",
           "Chris Wilson",
           "The Independent - Travel"
          ],
          [
           "555_chunk_1",
           "chunk",
           "entertainment",
           "Chris Wilson",
           "The Independent - Travel"
          ],
          [
           "556_chunk_0",
           "chunk",
           "science",
           "unknown",
           "Live Science: The Most Interesting Articles"
          ],
          [
           "556_chunk_1",
           "chunk",
           "science",
           "unknown",
           "Live Science: The Most Interesting Articles"
          ],
          [
           "557_chunk_0",
           "chunk",
           "business",
           "Trina Paul",
           "Fortune"
          ],
          [
           "557_chunk_1",
           "chunk",
           "business",
           "Trina Paul",
           "Fortune"
          ],
          [
           "558_chunk_0",
           "chunk",
           "entertainment",
           "unknown",
           "Mashable"
          ],
          [
           "558_chunk_1",
           "chunk",
           "entertainment",
           "unknown",
           "Mashable"
          ],
          [
           "558_chunk_2",
           "chunk",
           "entertainment",
           "unknown",
           "Mashable"
          ],
          [
           "559_chunk_0",
           "chunk",
           "entertainment",
           "Kaleigh Werner",
           "The Independent - Life and Style"
          ],
          [
           "559_chunk_1",
           "chunk",
           "entertainment",
           "Kaleigh Werner",
           "The Independent - Life and Style"
          ],
          [
           "560_chunk_0",
           "chunk",
           "entertainment",
           "Michael Idato",
           "The Sydney Morning Herald"
          ],
          [
           "560_chunk_1",
           "chunk",
           "entertainment",
           "Michael Idato",
           "The Sydney Morning Herald"
          ],
          [
           "561_chunk_0",
           "chunk",
           "sports",
           "News",
           "The Roar | Sports Writers Blog"
          ],
          [
           "561_chunk_1",
           "chunk",
           "sports",
           "News",
           "The Roar | Sports Writers Blog"
          ],
          [
           "562_chunk_0",
           "chunk",
           "entertainment",
           "unknown",
           "FOX News - Lifestyle"
          ],
          [
           "562_chunk_1",
           "chunk",
           "entertainment",
           "unknown",
           "FOX News - Lifestyle"
          ],
          [
           "563_chunk_0",
           "chunk",
           "entertainment",
           "Toussaint Egan",
           "Polygon"
          ],
          [
           "563_chunk_1",
           "chunk",
           "entertainment",
           "Toussaint Egan",
           "Polygon"
          ],
          [
           "563_chunk_2",
           "chunk",
           "entertainment",
           "Toussaint Egan",
           "Polygon"
          ],
          [
           "563_chunk_3",
           "chunk",
           "entertainment",
           "Toussaint Egan",
           "Polygon"
          ],
          [
           "563_chunk_4",
           "chunk",
           "entertainment",
           "Toussaint Egan",
           "Polygon"
          ],
          [
           "563_chunk_5",
           "chunk",
           "entertainment",
           "Toussaint Egan",
           "Polygon"
          ],
          [
           "563_chunk_6",
           "chunk",
           "entertainment",
           "Toussaint Egan",
           "Polygon"
          ],
          [
           "564_chunk_0",
           "chunk",
           "technology",
           "Natasha Lomas",
           "TechCrunch"
          ],
          [
           "564_chunk_1",
           "chunk",
           "technology",
           "Natasha Lomas",
           "TechCrunch"
          ],
          [
           "564_chunk_2",
           "chunk",
           "technology",
           "Natasha Lomas",
           "TechCrunch"
          ],
          [
           "565_chunk_0",
           "chunk",
           "science",
           "unknown",
           "Yahoo News"
          ],
          [
           "565_chunk_1",
           "chunk",
           "science",
           "unknown",
           "Yahoo News"
          ],
          [
           "566_chunk_0",
           "chunk",
           "science",
           "unknown",
           "Live Science: The Most Interesting Articles"
          ],
          [
           "566_chunk_1",
           "chunk",
           "science",
           "unknown",
           "Live Science: The Most Interesting Articles"
          ],
          [
           "566_chunk_2",
           "chunk",
           "science",
           "unknown",
           "Live Science: The Most Interesting Articles"
          ],
          [
           "566_chunk_3",
           "chunk",
           "science",
           "unknown",
           "Live Science: The Most Interesting Articles"
          ],
          [
           "567_chunk_0",
           "chunk",
           "technology",
           "Engadget",
           "Engadget"
          ],
          [
           "567_chunk_1",
           "chunk",
           "technology",
           "Engadget",
           "Engadget"
          ],
          [
           "567_chunk_2",
           "chunk",
           "technology",
           "Engadget",
           "Engadget"
          ],
          [
           "567_chunk_3",
           "chunk",
           "technology",
           "Engadget",
           "Engadget"
          ],
          [
           "568_chunk_0",
           "chunk",
           "sports",
           "Emily Dozier",
           "Sporting News"
          ],
          [
           "568_chunk_1",
           "chunk",
           "sports",
           "Emily Dozier",
           "Sporting News"
          ],
          [
           "569_chunk_0",
           "chunk",
           "entertainment",
           "unknown",
           "FOX News - Lifestyle"
          ],
          [
           "569_chunk_1",
           "chunk",
           "entertainment",
           "unknown",
           "FOX News - Lifestyle"
          ],
          [
           "570_chunk_0",
           "chunk",
           "entertainment",
           "unknown",
           "FOX News - Lifestyle"
          ],
          [
           "570_chunk_1",
           "chunk",
           "entertainment",
           "unknown",
           "FOX News - Lifestyle"
          ],
          [
           "571_chunk_0",
           "chunk",
           "sports",
           "unknown",
           "Sky Sports"
          ],
          [
           "571_chunk_1",
           "chunk",
           "sports",
           "unknown",
           "Sky Sports"
          ],
          [
           "572_chunk_0",
           "chunk",
           "entertainment",
           "Chris Wilson",
           "The Independent - Travel"
          ],
          [
           "572_chunk_1",
           "chunk",
           "entertainment",
           "Chris Wilson",
           "The Independent - Travel"
          ],
          [
           "572_chunk_2",
           "chunk",
           "entertainment",
           "Chris Wilson",
           "The Independent - Travel"
          ],
          [
           "573_chunk_0",
           "chunk",
           "entertainment",
           "Natalie Wilson",
           "The Independent - Travel"
          ],
          [
           "573_chunk_1",
           "chunk",
           "entertainment",
           "Natalie Wilson",
           "The Independent - Travel"
          ],
          [
           "574_chunk_0",
           "chunk",
           "entertainment",
           "Cameron Faulkner",
           "Polygon"
          ],
          [
           "574_chunk_1",
           "chunk",
           "entertainment",
           "Cameron Faulkner",
           "Polygon"
          ],
          [
           "575_chunk_0",
           "chunk",
           "technology",
           "Barbara Krasnoff",
           "The Verge"
          ],
          [
           "575_chunk_1",
           "chunk",
           "technology",
           "Barbara Krasnoff",
           "The Verge"
          ],
          [
           "575_chunk_2",
           "chunk",
           "technology",
           "Barbara Krasnoff",
           "The Verge"
          ],
          [
           "575_chunk_3",
           "chunk",
           "technology",
           "Barbara Krasnoff",
           "The Verge"
          ],
          [
           "575_chunk_4",
           "chunk",
           "technology",
           "Barbara Krasnoff",
           "The Verge"
          ],
          [
           "576_chunk_0",
           "chunk",
           "technology",
           "Brenda Stolyar",
           "Wired"
          ],
          [
           "576_chunk_1",
           "chunk",
           "technology",
           "Brenda Stolyar",
           "Wired"
          ],
          [
           "576_chunk_2",
           "chunk",
           "technology",
           "Brenda Stolyar",
           "Wired"
          ],
          [
           "576_chunk_3",
           "chunk",
           "technology",
           "Brenda Stolyar",
           "Wired"
          ],
          [
           "576_chunk_4",
           "chunk",
           "technology",
           "Brenda Stolyar",
           "Wired"
          ],
          [
           "576_chunk_5",
           "chunk",
           "technology",
           "Brenda Stolyar",
           "Wired"
          ],
          [
           "576_chunk_6",
           "chunk",
           "technology",
           "Brenda Stolyar",
           "Wired"
          ],
          [
           "576_chunk_7",
           "chunk",
           "technology",
           "Brenda Stolyar",
           "Wired"
          ],
          [
           "577_chunk_0",
           "chunk",
           "sports",
           "Brent Brookhouse",
           "CBSSports.com"
          ],
          [
           "577_chunk_1",
           "chunk",
           "sports",
           "Brent Brookhouse",
           "CBSSports.com"
          ],
          [
           "578_chunk_0",
           "chunk",
           "entertainment",
           "Richard Jinman",
           "The Sydney Morning Herald"
          ],
          [
           "578_chunk_1",
           "chunk",
           "entertainment",
           "Richard Jinman",
           "The Sydney Morning Herald"
          ],
          [
           "578_chunk_2",
           "chunk",
           "entertainment",
           "Richard Jinman",
           "The Sydney Morning Herald"
          ],
          [
           "579_chunk_0",
           "chunk",
           "entertainment",
           "Barry Divola",
           "The Age"
          ],
          [
           "579_chunk_1",
           "chunk",
           "entertainment",
           "Barry Divola",
           "The Age"
          ],
          [
           "580_chunk_0",
           "chunk",
           "technology",
           "Ingrid Lunden",
           "TechCrunch"
          ],
          [
           "580_chunk_1",
           "chunk",
           "technology",
           "Ingrid Lunden",
           "TechCrunch"
          ],
          [
           "581_chunk_0",
           "chunk",
           "business",
           "unknown",
           "Seeking Alpha"
          ],
          [
           "581_chunk_1",
           "chunk",
           "business",
           "unknown",
           "Seeking Alpha"
          ],
          [
           "582_chunk_0",
           "chunk",
           "entertainment",
           "Jason Steger",
           "The Sydney Morning Herald"
          ],
          [
           "582_chunk_1",
           "chunk",
           "entertainment",
           "Jason Steger",
           "The Sydney Morning Herald"
          ],
          [
           "583_chunk_0",
           "chunk",
           "sports",
           "Nick Brinkerhoff",
           "Sporting News"
          ],
          [
           "583_chunk_1",
           "chunk",
           "sports",
           "Nick Brinkerhoff",
           "Sporting News"
          ],
          [
           "584_chunk_0",
           "chunk",
           "technology",
           "Sheena Vasani",
           "The Verge"
          ],
          [
           "584_chunk_1",
           "chunk",
           "technology",
           "Sheena Vasani",
           "The Verge"
          ],
          [
           "585_chunk_0",
           "chunk",
           "sports",
           "Christaline Meyers",
           "Essentially Sports"
          ],
          [
           "585_chunk_1",
           "chunk",
           "sports",
           "Christaline Meyers",
           "Essentially Sports"
          ],
          [
           "586_chunk_0",
           "chunk",
           "entertainment",
           "Susana Polo",
           "Polygon"
          ],
          [
           "586_chunk_1",
           "chunk",
           "entertainment",
           "Susana Polo",
           "Polygon"
          ],
          [
           "586_chunk_2",
           "chunk",
           "entertainment",
           "Susana Polo",
           "Polygon"
          ],
          [
           "586_chunk_3",
           "chunk",
           "entertainment",
           "Susana Polo",
           "Polygon"
          ],
          [
           "587_chunk_0",
           "chunk",
           "entertainment",
           "Matt Patches",
           "Polygon"
          ],
          [
           "587_chunk_1",
           "chunk",
           "entertainment",
           "Matt Patches",
           "Polygon"
          ],
          [
           "588_chunk_0",
           "chunk",
           "sports",
           "Kyle Bonn",
           "Sporting News"
          ],
          [
           "588_chunk_1",
           "chunk",
           "sports",
           "Kyle Bonn",
           "Sporting News"
          ],
          [
           "588_chunk_2",
           "chunk",
           "sports",
           "Kyle Bonn",
           "Sporting News"
          ],
          [
           "589_chunk_0",
           "chunk",
           "sports",
           "Sam Eggleston",
           "Sporting News"
          ],
          [
           "589_chunk_1",
           "chunk",
           "sports",
           "Sam Eggleston",
           "Sporting News"
          ],
          [
           "589_chunk_2",
           "chunk",
           "sports",
           "Sam Eggleston",
           "Sporting News"
          ],
          [
           "590_chunk_0",
           "chunk",
           "health",
           "unknown",
           "FOX News - Health"
          ],
          [
           "590_chunk_1",
           "chunk",
           "health",
           "unknown",
           "FOX News - Health"
          ],
          [
           "591_chunk_0",
           "chunk",
           "entertainment",
           "Charlie Hall",
           "Polygon"
          ],
          [
           "591_chunk_1",
           "chunk",
           "entertainment",
           "Charlie Hall",
           "Polygon"
          ],
          [
           "591_chunk_2",
           "chunk",
           "entertainment",
           "Charlie Hall",
           "Polygon"
          ],
          [
           "591_chunk_3",
           "chunk",
           "entertainment",
           "Charlie Hall",
           "Polygon"
          ],
          [
           "591_chunk_4",
           "chunk",
           "entertainment",
           "Charlie Hall",
           "Polygon"
          ],
          [
           "591_chunk_5",
           "chunk",
           "entertainment",
           "Charlie Hall",
           "Polygon"
          ],
          [
           "591_chunk_6",
           "chunk",
           "entertainment",
           "Charlie Hall",
           "Polygon"
          ],
          [
           "592_chunk_0",
           "chunk",
           "entertainment",
           "Cass Marshall",
           "Polygon"
          ],
          [
           "592_chunk_1",
           "chunk",
           "entertainment",
           "Cass Marshall",
           "Polygon"
          ],
          [
           "593_chunk_0",
           "chunk",
           "technology",
           "Sarah Perez",
           "TechCrunch"
          ],
          [
           "593_chunk_1",
           "chunk",
           "technology",
           "Sarah Perez",
           "TechCrunch"
          ],
          [
           "594_chunk_0",
           "chunk",
           "health",
           "unknown",
           "FOX News - Health"
          ],
          [
           "594_chunk_1",
           "chunk",
           "health",
           "unknown",
           "FOX News - Health"
          ],
          [
           "595_chunk_0",
           "chunk",
           "technology",
           "Jeff Dunn",
           "Engadget"
          ],
          [
           "595_chunk_1",
           "chunk",
           "technology",
           "Jeff Dunn",
           "Engadget"
          ],
          [
           "595_chunk_2",
           "chunk",
           "technology",
           "Jeff Dunn",
           "Engadget"
          ],
          [
           "595_chunk_3",
           "chunk",
           "technology",
           "Jeff Dunn",
           "Engadget"
          ],
          [
           "596_chunk_0",
           "chunk",
           "entertainment",
           "unknown",
           "FOX News - Lifestyle"
          ],
          [
           "596_chunk_1",
           "chunk",
           "entertainment",
           "unknown",
           "FOX News - Lifestyle"
          ],
          [
           "597_chunk_0",
           "chunk",
           "entertainment",
           "Toussaint Egan",
           "Polygon"
          ],
          [
           "597_chunk_1",
           "chunk",
           "entertainment",
           "Toussaint Egan",
           "Polygon"
          ],
          [
           "597_chunk_2",
           "chunk",
           "entertainment",
           "Toussaint Egan",
           "Polygon"
          ],
          [
           "597_chunk_3",
           "chunk",
           "entertainment",
           "Toussaint Egan",
           "Polygon"
          ],
          [
           "597_chunk_4",
           "chunk",
           "entertainment",
           "Toussaint Egan",
           "Polygon"
          ],
          [
           "597_chunk_5",
           "chunk",
           "entertainment",
           "Toussaint Egan",
           "Polygon"
          ],
          [
           "597_chunk_6",
           "chunk",
           "entertainment",
           "Toussaint Egan",
           "Polygon"
          ],
          [
           "598_chunk_0",
           "chunk",
           "technology",
           "Mike Butcher",
           "TechCrunch"
          ],
          [
           "598_chunk_1",
           "chunk",
           "technology",
           "Mike Butcher",
           "TechCrunch"
          ],
          [
           "598_chunk_2",
           "chunk",
           "technology",
           "Mike Butcher",
           "TechCrunch"
          ],
          [
           "599_chunk_0",
           "chunk",
           "technology",
           "Carrie Andrews",
           "TechCrunch"
          ],
          [
           "599_chunk_1",
           "chunk",
           "technology",
           "Carrie Andrews",
           "TechCrunch"
          ],
          [
           "600_chunk_0",
           "chunk",
           "technology",
           "Brenda Stolyar",
           "Wired"
          ],
          [
           "600_chunk_1",
           "chunk",
           "technology",
           "Brenda Stolyar",
           "Wired"
          ],
          [
           "600_chunk_2",
           "chunk",
           "technology",
           "Brenda Stolyar",
           "Wired"
          ],
          [
           "600_chunk_3",
           "chunk",
           "technology",
           "Brenda Stolyar",
           "Wired"
          ],
          [
           "600_chunk_4",
           "chunk",
           "technology",
           "Brenda Stolyar",
           "Wired"
          ],
          [
           "601_chunk_0",
           "chunk",
           "business",
           "unknown",
           "Business Line"
          ],
          [
           "601_chunk_1",
           "chunk",
           "business",
           "unknown",
           "Business Line"
          ],
          [
           "602_chunk_0",
           "chunk",
           "technology",
           "Justine Calma",
           "The Verge"
          ],
          [
           "602_chunk_1",
           "chunk",
           "technology",
           "Justine Calma",
           "The Verge"
          ],
          [
           "603_chunk_0",
           "chunk",
           "technology",
           "Natasha Lomas",
           "TechCrunch"
          ],
          [
           "603_chunk_1",
           "chunk",
           "technology",
           "Natasha Lomas",
           "TechCrunch"
          ],
          [
           "604_chunk_0",
           "chunk",
           "science",
           "unknown",
           "Live Science: The Most Interesting Articles"
          ],
          [
           "604_chunk_1",
           "chunk",
           "science",
           "unknown",
           "Live Science: The Most Interesting Articles"
          ],
          [
           "605_chunk_0",
           "chunk",
           "entertainment",
           "Annabel Streets",
           "The Guardian"
          ],
          [
           "605_chunk_1",
           "chunk",
           "entertainment",
           "Annabel Streets",
           "The Guardian"
          ],
          [
           "606_chunk_0",
           "chunk",
           "entertainment",
           "Chris Plante",
           "Polygon"
          ],
          [
           "606_chunk_1",
           "chunk",
           "entertainment",
           "Chris Plante",
           "Polygon"
          ],
          [
           "606_chunk_2",
           "chunk",
           "entertainment",
           "Chris Plante",
           "Polygon"
          ],
          [
           "607_chunk_0",
           "chunk",
           "technology",
           "David Pierce",
           "The Verge"
          ],
          [
           "607_chunk_1",
           "chunk",
           "technology",
           "David Pierce",
           "The Verge"
          ],
          [
           "607_chunk_2",
           "chunk",
           "technology",
           "David Pierce",
           "The Verge"
          ],
          [
           "608_chunk_0",
           "chunk",
           "technology",
           "Natasha Lomas",
           "TechCrunch"
          ],
          [
           "608_chunk_1",
           "chunk",
           "technology",
           "Natasha Lomas",
           "TechCrunch"
          ]
         ],
         "hovertemplate": "node_type=%{customdata[1]}<br>x=%{x}<br>y=%{y}<br>node_id=%{customdata[0]}<br>category=%{customdata[2]}<br>author=%{customdata[3]}<br>source=%{customdata[4]}<extra></extra>",
         "legendgroup": "chunk",
         "marker": {
          "color": "purple",
          "symbol": "circle"
         },
         "mode": "markers",
         "name": "chunk",
         "showlegend": true,
         "type": "scattergl",
         "x": [
          1.6417065,
          0.79955107,
          1.1213393,
          -0.5343803,
          1.143065,
          1.821976,
          0.7802796,
          -1.004933,
          -1.881151,
          -0.81494474,
          -0.78130054,
          -0.8677337,
          -2.085292,
          -0.74619555,
          -1.7195888,
          -0.45904186,
          -1.8002088,
          -0.6076437,
          -0.39517057,
          -0.45863602,
          -0.98934835,
          -0.72636503,
          -1.0470797,
          0.3869788,
          0.20626186,
          1.1214299,
          -0.44185457,
          1.1209276,
          1.3546644,
          -1.3726591,
          -1.6562266,
          0.9621944,
          -1.6514254,
          0.761907,
          0.7470833,
          1.6840036,
          0.79778945,
          -0.17375174,
          -0.26710096,
          1.4519883,
          -0.006918076,
          -0.09637653,
          0.15669018,
          0.16889143,
          1.0889589,
          0.010728726,
          0.42562923,
          -0.34383902,
          -0.21857896,
          -1.1112354,
          -1.8669094,
          -1.3007406,
          -0.7750442,
          -1.4789723,
          0.8124435,
          1.2498982,
          1.2450387,
          0.98695344,
          -0.40744066,
          1.0711652,
          1.0131698,
          -0.03672826,
          0.93506706,
          0.8917026,
          1.672784,
          1.3496863,
          1.0221661,
          1.7337747,
          -0.80416846,
          1.3377801,
          -0.55976844,
          0.15061814,
          0.40541223,
          1.4233292,
          -0.46301666,
          0.7373822,
          1.1823093,
          0.8584371,
          0.20728289,
          -1.8813292,
          -0.6775344,
          -1.079591,
          -0.6044399,
          -0.65570605,
          -1.6017311,
          -0.7238852,
          -1.9179178,
          0.28809303,
          2.2019756,
          0.24632312,
          -0.8202629,
          -0.7365605,
          -1.4132789,
          1.2372643,
          0.019111844,
          1.3647047,
          -0.044467963,
          -0.8694401,
          -1.9348702,
          -1.5124614,
          -0.6939478,
          -1.2004584,
          -1.89097,
          -2.176328,
          0.7694259,
          0.97757906,
          0.9753579,
          1.109947,
          -1.567242,
          -1.4520084,
          0.6019454,
          -0.9637021,
          0.92322403,
          0.37564522,
          0.61431444,
          1.2808728,
          0.8311856,
          1.2155732,
          1.0154406,
          1.240035,
          1.0768008,
          0.9034952,
          1.5623355,
          1.2507457,
          0.54917675,
          0.79999864,
          0.8167429,
          1.0129404,
          0.34825376,
          0.9060376,
          1.2559872,
          1.4685422,
          1.282177,
          1.174593,
          0.22731341,
          0.6746168,
          1.6728966,
          -0.44686836,
          0.6231839,
          1.6354429,
          1.8054664,
          1.4776604,
          1.6418961,
          0.28616962,
          0.23629183,
          0.60996956,
          -0.6048835,
          1.0621252,
          0.74164027,
          -0.04604532,
          0.17954439,
          -0.6316076,
          -1.3354001,
          -0.7614619,
          -1.2913871,
          -1.3727759,
          -0.68212754,
          -0.73774534,
          -0.2183024,
          -0.7015306,
          -1.7982365,
          -2.1136985,
          -0.6347661,
          -0.59096134,
          -0.62135375,
          -1.4880522,
          -0.64940727,
          -1.666174,
          -1.7094022,
          -0.6490817,
          -0.80193144,
          -1.5020205,
          -0.73595154,
          -2.0336735,
          -0.6112241,
          0.02679783,
          -0.48088488,
          -0.75412303,
          -0.68098086,
          -2.0267334,
          -1.3795267,
          -0.6102646,
          -1.3670946,
          -0.47044083,
          -1.1348876,
          -0.85999566,
          -0.57689536,
          -0.9646468,
          -0.6347974,
          -0.50766283,
          -1.0771505,
          0.26943144,
          0.27869213,
          0.9221938,
          1.6688664,
          0.4320092,
          0.3557828,
          1.8162229,
          0.5321569,
          1.3957963,
          0.70046186,
          1.1842818,
          0.23195915,
          -0.64895487,
          -2.2004404,
          -1.8109648,
          -1.3893278,
          -0.5227061,
          -0.40488607,
          -0.27055848,
          -1.5783744,
          -0.62182534,
          1.251444,
          -0.19999494,
          0.5762709,
          -0.67475355,
          0.61186033,
          0.51292706,
          1.0647568,
          0.4223613,
          1.5928179,
          1.183619,
          -0.29914322,
          0.03712527,
          -0.395501,
          2.3166208,
          0.2208732,
          1.8975431,
          0.05072867,
          0.5440485,
          -1.4338052,
          -0.4385317,
          -1.1914327,
          -0.4913466,
          1.0770024,
          1.2208835,
          0.8967229,
          1.1614952,
          0.66529375,
          1.0600592,
          0.32352877,
          1.4475965,
          0.68692374,
          1.583329,
          0.8926576,
          2.067755,
          -0.32873496,
          0.39690438,
          0.8331265,
          -0.46795943,
          0.9063031,
          -0.59427786,
          -0.77135813,
          -0.7912843,
          -0.55220044,
          -1.185404,
          -1.5424116,
          -1.6904571,
          -1.421527,
          1.2009627,
          0.8572618,
          0.49821547,
          1.9033492,
          1.7761021,
          1.5653548,
          2.3562248,
          -1.523029,
          -2.1740532,
          -2.0610142,
          0.061137654,
          0.14472464,
          1.1762556,
          0.2306183,
          1.4090203,
          0.15666576,
          0.3224835,
          0.055060588,
          0.9131684,
          0.26715162,
          -0.08809925,
          -0.2212949,
          0.1662311,
          -1.0356983,
          1.2831069,
          0.592772,
          1.9484224,
          1.5795633,
          0.74646944,
          0.8449529,
          -0.6959344,
          0.49407294,
          -0.41735077,
          1.2913711,
          0.89105606,
          0.7192665,
          -1.3047106,
          -1.3992702,
          -0.6645474,
          -2.1419244,
          -1.9589663,
          -0.7220347,
          -0.25910425,
          -0.9310832,
          -1.3878382,
          -0.69966197,
          -1.891197,
          1.156501,
          1.0645937,
          1.1676869,
          -1.8707474,
          -2.2597086,
          0.8489511,
          1.0311612,
          0.8143747,
          1.5155395,
          0.9812348,
          -0.22528349,
          -1.9536772,
          -0.644889,
          -0.69536936,
          -1.5268886,
          -0.46461326,
          -1.6590658,
          -0.49266893,
          -1.9435952,
          0.8422527,
          -0.19605759,
          1.3011043,
          -0.5197678,
          -0.94700164,
          -1.952649,
          -0.4718688,
          -1.5457445,
          -1.9103537,
          0.47424418,
          0.6669586,
          1.2277117,
          2.2690191,
          0.5662395,
          0.8201187,
          0.92567456,
          0.66634154,
          1.4764091,
          0.75388277,
          -0.41561475,
          0.54177475,
          -0.1744693,
          0.6153386,
          -0.24773805,
          -0.40506777,
          -1.0925715,
          -0.8746383,
          -0.9541851,
          -0.9402027,
          -1.906813,
          -0.8446928,
          -0.8546384,
          -1.7846164,
          -1.9354515,
          -0.6661875,
          -0.64718485,
          -0.87050813,
          -1.654033,
          0.24378705,
          0.53282493,
          1.7210889,
          2.1275518,
          -0.039959542,
          -1.2092401,
          -0.031138921,
          -0.054537106,
          0.87456334,
          1.787741,
          1.4543152,
          1.7446374,
          0.50737613,
          0.1359079,
          0.85368615,
          1.6767051,
          0.64974505,
          1.3761742,
          0.4233,
          -0.9597559,
          -1.1424464,
          0.18597597,
          0.39813665,
          -0.016313054,
          0.70852256,
          0.024390336,
          -1.4526426,
          -0.9982964,
          -0.77615994,
          -0.6928023,
          0.20897372,
          -0.78053993,
          2.257502,
          0.6110207,
          -0.2429799,
          0.6852298,
          0.19218202,
          -0.83399296,
          0.74343956,
          -0.65561414,
          0.21710317,
          0.27057466,
          0.38430434,
          -0.77337587,
          0.44158942,
          0.2335286,
          -0.7019222,
          1.0063688,
          -1.0569782,
          0.06544644,
          -0.51575106,
          -1.5114391,
          1.5084208,
          0.6297188,
          1.1637686,
          0.6592914,
          1.5175142,
          0.859211,
          0.82935655,
          -0.7232982,
          1.8582672,
          -0.03134016,
          1.3416007,
          -0.081103064,
          -1.2871275,
          -1.9511267,
          -0.68792313,
          -0.7500275,
          -0.8681797,
          -0.91548187,
          -1.997932,
          -0.57071763,
          1.3947705,
          -0.8040174,
          -1.6959215,
          -1.389958,
          -0.78206,
          0.3040234,
          -0.7785619,
          0.29315042,
          -0.065863974,
          -0.6392918,
          -0.594386,
          -1.8890462,
          -0.037770204,
          -0.7391758,
          -0.5560793,
          -0.779186,
          -1.6856768,
          -0.49455673,
          -0.4122018,
          -0.61077285,
          -0.5359226,
          -1.6967808,
          -0.8817982,
          -1.1970735,
          -1.3308184,
          -1.9902062,
          -0.89522815,
          -2.042566,
          1.1755503,
          0.9948265,
          -0.10777438,
          0.23225553,
          0.120022155,
          -0.16584603,
          -1.5463489,
          -1.6124992,
          -0.42183656,
          -0.64975035,
          -1.1737084,
          -0.9697046,
          -0.8696453,
          -1.2345195,
          -0.76937014,
          2.313319,
          0.13687702,
          0.41020018,
          0.19680612,
          0.7858337,
          -0.106158495,
          2.3877068,
          0.8639117,
          0.86588633,
          0.57446843,
          1.703788,
          0.65680844,
          0.73279196,
          -0.0751618,
          0.7212765,
          1.3224102,
          1.299217,
          1.2821646,
          -0.02912581,
          0.14599562,
          0.2834219,
          0.21835361,
          1.667077,
          0.36015573,
          0.10351596,
          -0.117092766,
          0.084773466,
          -0.9592841,
          -1.5870761,
          -1.8764652,
          -1.8832893,
          -0.48328176,
          -1.5376326,
          0.8032774,
          0.4476271,
          0.73776644,
          1.6050252,
          1.580453,
          0.7701799,
          1.1419841,
          0.4495017,
          0.5795067,
          -0.23657624,
          -1.8396908,
          1.8267188,
          1.5556583,
          -0.31228155,
          -1.287579,
          0.55766743,
          1.040164,
          -0.8185177,
          -1.0922462,
          -1.2879086,
          0.17742035,
          0.42509934,
          -0.95253843,
          -0.50342214,
          -0.53625685,
          -0.5678541,
          -0.5991588,
          0.16158006,
          -0.3160178,
          -0.7595265,
          -0.083518304,
          -0.6981355,
          -1.3818834,
          1.310295,
          0.50533634,
          1.2767253,
          1.3313133,
          -0.08159335,
          -0.42927286,
          -1.1490202,
          -0.9008311,
          -1.9407568,
          -0.42212388,
          -0.030702071,
          1.6656129,
          -0.054484513,
          -0.9979709,
          -0.8980426,
          -1.0938232,
          1.1920149,
          0.31898433,
          1.0113035,
          1.2246485,
          -0.07570266,
          1.1458172,
          0.76347256,
          1.6585537,
          0.65252924,
          0.9438043,
          0.21590817,
          0.10639022,
          0.16732733,
          0.73128486,
          -0.53501093,
          2.0686483,
          2.2752001,
          1.4119933,
          0.13705054,
          1.3399359,
          0.82184154,
          0.13203973,
          -0.8687282,
          -1.6367832,
          -1.8913575,
          -0.795774,
          -1.2169341,
          1.4728783,
          0.895622,
          -0.82913667,
          -1.2179235,
          -1.9962702,
          -0.83499175,
          -0.88937145,
          -1.5705366,
          -0.7294323,
          -0.9916954,
          -0.1054562,
          -0.83978903,
          -1.4600768,
          -1.6843481,
          1.9259493,
          1.5608193,
          0.6316945,
          1.2395331,
          -1.4536144,
          -0.3884336,
          -0.7547823,
          -1.3975694,
          -1.064271,
          -1.1208906,
          -0.781179,
          -1.0890962,
          -0.2679799,
          -0.36615172,
          -0.60034966,
          -2.0694783,
          -1.7624372,
          1.7236844,
          1.9040673,
          -0.42237127,
          1.4048897,
          0.78864336,
          1.3319762,
          1.1833735,
          1.6055659,
          -0.37465265,
          1.7255304,
          -0.30393237,
          0.106176965,
          1.0093845,
          0.11971999,
          -0.06495784,
          0.09553763,
          1.3569171,
          0.80413455,
          -0.045797065,
          1.546413,
          -0.17222375,
          -0.113483675,
          0.84979445,
          0.13641223,
          1.3489553,
          0.660661,
          1.8883662,
          1.954644,
          1.4236139,
          1.3005762,
          0.9532072,
          2.1756926,
          -0.3408844,
          0.41117674,
          0.94877493,
          -2.1856136,
          -1.8186387,
          -0.38934588,
          -0.500824,
          -0.9511566,
          0.90798426,
          -0.028393714,
          -0.3428001,
          1.6540794,
          1.0146735,
          1.5879371,
          1.756571,
          1.7861645,
          1.4420626,
          0.04849979,
          1.2313085,
          1.3929976,
          0.5269743,
          0.9118721,
          -0.90803224,
          -0.539802,
          -1.2128805,
          -0.5503792,
          -1.2370106,
          1.0436268,
          0.39449054,
          0.8331877,
          2.2927666,
          -0.12082667,
          -0.05880707,
          1.0373724,
          1.2026016,
          0.5613836,
          0.9881706,
          1.0560205,
          0.48466915,
          0.111791424,
          -1.0307257,
          -1.5913744,
          -1.9682697,
          -0.6834231,
          -1.0362397,
          0.7878815,
          0.1839823,
          1.188339,
          -0.4574054,
          0.9976164,
          2.0764394,
          1.326811,
          1.2465483,
          1.1285939,
          1.4218245,
          -0.035848454,
          1.4739455,
          1.3546592,
          1.6702152,
          1.5206906,
          1.4696927,
          1.6045214,
          0.64481217,
          1.4973109,
          0.77181244,
          0.949741,
          1.6198132,
          -0.70830977,
          -1.5378138,
          -0.56007487,
          -1.8718601,
          1.617947,
          1.1610087,
          1.4659936,
          0.88974905,
          -1.5700384,
          1.8193939,
          0.99314034,
          -0.02622619,
          -2.031268,
          -1.6174685,
          -1.8445406,
          -0.8337737,
          -0.7412637,
          -0.9174061,
          -0.6651663,
          -1.0425227,
          -0.4951099,
          -0.5362404,
          -0.09108665,
          2.5007598,
          -1.2217025,
          -0.62575686,
          -2.2218258,
          0.97771454,
          0.68502784,
          0.1831904,
          0.92252487,
          0.6997757,
          0.9421841,
          -0.10829864,
          -1.2233948,
          -1.7977922,
          1.4486026,
          1.30329,
          0.7751662,
          1.323552,
          1.8132339,
          0.61229616,
          1.9707896,
          1.6289227,
          1.6387901,
          1.1684424,
          0.3270133,
          -0.9504505,
          1.4937732,
          1.1244487,
          0.8645983,
          1.2964555,
          0.32959655,
          -0.018494157,
          1.3360447,
          0.32348624,
          -0.92532533,
          -1.9479736,
          -1.719567,
          -0.7718804,
          -1.8447495,
          -2.442466,
          -2.4097703,
          1.0245732,
          0.5831316,
          0.3779565,
          -0.29320306,
          0.921325,
          1.2531457,
          -0.19886899,
          -0.7621083,
          -0.9607907,
          -0.9792369,
          0.40277278,
          0.15246017,
          -1.2009975,
          1.8174835,
          0.75004226,
          1.1706139,
          1.2168869,
          0.74437284,
          0.42425698,
          -0.47006834,
          0.530784,
          0.3970189,
          1.307931,
          1.5312932,
          0.82763886,
          0.03329683,
          1.5001444,
          -0.12526421,
          -0.6387396,
          -0.5723201,
          -1.8050492,
          -0.006708391,
          -1.3618903,
          -0.64565486,
          -1.1485146,
          -1.6466088,
          -0.84771097,
          -1.0364925,
          -1.0743244,
          -2.042606,
          1.2570542,
          1.1890286,
          -0.10164284,
          -0.5377812,
          -0.30493075,
          -0.5068989,
          -1.4561635,
          -1.8333282,
          -1.067482,
          -0.7955124,
          -1.3357897,
          0.2159694,
          0.84745944,
          0.14496538,
          1.0559763,
          0.27379853,
          1.9716511,
          0.7952107,
          1.5631227,
          0.59901386,
          1.1700652,
          0.51490396,
          1.0686686,
          0.24807574,
          -0.8231276,
          -1.9760323,
          -1.1044219,
          0.9769756,
          -0.86203325,
          -0.6616931,
          -1.2173535,
          0.81943005,
          0.9189502,
          1.724027,
          1.4358013,
          0.37298515,
          1.2062383,
          0.7742412,
          0.22048812,
          0.34776342,
          -0.6438423,
          -1.5214856,
          -0.71861297,
          -0.65608084,
          -0.5661107,
          -2.1688983,
          2.0558622,
          -1.1235528,
          -0.6288158,
          -1.849774,
          -0.27340376,
          -0.1395262,
          1.0903608,
          -0.6695863,
          1.3545195,
          0.7489865,
          -1.0919428,
          -2.1145473,
          1.6303085,
          1.6221195,
          0.6955561,
          -2.598348,
          0.38030925,
          0.23455699,
          1.1181037,
          0.55293685,
          -0.13106637,
          0.8375764,
          1.1346401,
          1.9363992,
          1.3951234,
          1.760644,
          -0.45683953,
          -0.40605187,
          -0.45222616,
          -0.9223406,
          1.0542582,
          0.49033508,
          0.57055604,
          0.75301075,
          0.30289993,
          1.1016986,
          -1.3403565,
          -0.4825517,
          1.0703971,
          -0.00021958072,
          0.8634387,
          0.6924097,
          -0.26143003,
          -1.3972718,
          -1.9425863,
          -1.9035109,
          -1.1280686,
          -1.7053989,
          -0.84713984,
          -0.6383971,
          -0.9077976,
          -0.77848107,
          -1.2434313,
          -1.0102757,
          -2.0338538,
          -1.8196353,
          0.8327296,
          -0.10240991,
          1.1588874,
          1.9824802,
          1.1633022,
          0.9747661,
          1.6599312,
          1.6117704,
          1.4525769,
          0.49700135,
          1.1790282,
          -0.27505362,
          -0.39459726,
          0.3172191,
          1.0336374,
          1.2680576,
          1.0907091,
          0.65647584,
          -0.5705793,
          -0.688035,
          1.0763619,
          0.8903586,
          -0.7039726,
          2.1989248,
          2.2080824,
          0.14018537,
          0.042544104,
          0.22611858,
          1.8545613,
          -0.41656804,
          -0.4162043,
          1.2819687,
          0.43163273,
          -0.87210256,
          -1.6724865,
          -0.87865156,
          -0.8667865,
          1.1812453,
          1.1596123,
          0.793105,
          0.60630596,
          1.6605631,
          0.71258545,
          1.0421557,
          -0.029764352,
          0.8122126,
          1.3775972,
          2.1520777,
          -0.34989518,
          0.6348536,
          1.9400256,
          0.32863164,
          1.186311,
          -1.8305892,
          -1.5964319,
          -0.12417308,
          -1.2212759,
          -0.496441,
          -0.244944,
          -0.89795566,
          -1.2069242,
          -0.9067249,
          -1.3336737,
          0.45737222,
          0.48066646,
          2.123856,
          0.28878045,
          0.115341656,
          0.48671073,
          -0.4711245,
          0.29421014,
          -1.1371065,
          -0.13523096,
          -1.1953826,
          0.9772213,
          1.1430004,
          0.035029236,
          0.2423219,
          0.055838365,
          1.3995527,
          1.4674814,
          0.7775633,
          -2.0381234,
          -1.8678043,
          -0.77344704,
          -1.5249541,
          0.31503037,
          0.8151667,
          1.6362039,
          0.22991003,
          0.75240034,
          -0.45534483,
          -0.76898015,
          0.91470194,
          -0.55081636,
          0.39535928,
          0.35486677,
          -1.1913248,
          -1.8025136,
          1.4823505,
          0.17191109,
          1.7901466,
          0.12240539,
          -0.8284431,
          -1.7957333,
          1.1110051,
          2.063338,
          0.29923624,
          0.46044886,
          1.5564228,
          1.0895686,
          0.53603756,
          0.7699762,
          0.48263553,
          -0.38502574,
          -1.0079021,
          -1.4537745,
          0.69720113,
          1.1453121,
          -1.4985654,
          -2.1302555,
          -0.8933199,
          1.6395396,
          1.50603,
          1.3038936,
          2.2734118,
          1.8296728,
          -0.5990448,
          -1.5575606,
          0.39344212,
          -1.6308558,
          1.4731873,
          -0.164566,
          1.2984414,
          0.3559622,
          0.9928816,
          -0.18363291,
          1.1625543,
          1.2439369,
          -0.61847407,
          -1.9217035,
          0.9521213,
          -0.9107719,
          -1.6971358,
          -0.59501076,
          -0.6379084,
          -0.70864993,
          -0.14138521,
          -1.5956935,
          -1.9082239,
          0.5585789,
          0.8339309,
          1.0202197,
          1.2360817,
          0.45188913,
          1.7258269,
          2.2060375,
          0.44038904,
          0.032456253,
          1.2885878,
          0.7962572,
          0.5133578,
          0.46764484,
          0.47883186,
          -1.86747,
          -2.0625572,
          1.0398417,
          0.39018416,
          0.6612889,
          -0.26250473,
          0.38331017,
          0.26436967,
          1.0390238,
          0.7864608,
          0.845201,
          -0.27667502,
          0.6127579,
          0.37483165,
          1.9636776,
          0.8695126,
          -0.51920563,
          0.805827,
          0.41876355,
          -0.54216826,
          -1.9714746,
          -2.4490323,
          -2.0975647,
          0.9084573,
          1.1269864,
          0.8521665,
          -0.11053048,
          1.4810846,
          -0.18091938,
          -0.39166743,
          -0.8364873,
          -0.96693474,
          -0.89200234,
          1.1842189,
          0.16845752,
          -0.43642864,
          1.2694224,
          0.1205029,
          1.5694891,
          1.9693598,
          1.5823467,
          1.2158504,
          1.2037207,
          1.5527123,
          1.8020791,
          1.1730338,
          0.42554942,
          1.2478447,
          -0.4785294,
          -0.7343896,
          -0.3627614,
          -1.8691906,
          -0.44475526,
          -1.4675369,
          -0.54008615,
          -0.5187463,
          -0.9082937,
          1.350501,
          -2.6917717,
          -2.5483918,
          1.2818241,
          0.8185266,
          -0.33359393,
          -0.7010029,
          -1.4748869,
          -0.6181021,
          0.05611315,
          0.34816518,
          0.13826317,
          1.8390464,
          -2.440688,
          -2.1494963,
          1.2884765,
          0.8835656,
          -0.33859983,
          -0.8417211,
          1.374086,
          1.5668473,
          1.4744335,
          1.4582726,
          2.2524354,
          1.2295705,
          0.97296643,
          0.8204846,
          -0.28243187,
          0.69213164,
          0.08205631,
          1.2417076,
          0.31271288,
          -0.3530663,
          -2.0226877,
          -2.1005244,
          -1.5735842,
          -1.7931664,
          -0.80558085,
          -1.7664704,
          1.6873401,
          0.65617007,
          0.88264966,
          -0.7650346,
          -1.5789626,
          -0.9839502,
          -0.8238199,
          2.2817693,
          0.75811946,
          -0.17827195,
          -0.23460583,
          -0.07597494,
          -0.78697586,
          -1.5928208,
          1.1720421,
          0.2771676,
          1.2187597,
          1.4037206,
          1.3452922,
          -0.4994798,
          -1.7409925,
          -1.1935338,
          -1.2853328,
          -1.930623,
          0.1655436,
          0.34000942,
          -0.6215844,
          0.1474682,
          0.53982055,
          1.2364728,
          -0.8182901,
          -1.8277378,
          -1.0270206,
          -2.008677,
          -0.5429238,
          -0.5715907,
          -0.7261018,
          -1.9320515,
          -1.1805718,
          -0.36779228,
          -1.1445113,
          -0.5993443,
          -1.5530046,
          0.46987066,
          0.8301998,
          -0.4540929,
          -1.1579616,
          -0.69173574,
          -0.24770361,
          -1.172389,
          -1.7313671,
          -0.22115211,
          -0.41976368,
          -1.5879626,
          -0.6385711,
          -1.8942186,
          0.6790531,
          1.1022723,
          -1.4216381,
          -1.7600702,
          1.1364828,
          -0.028477745,
          -0.81157064,
          -1.5390121,
          -0.69226176,
          -0.10906295,
          0.22208083,
          -0.93500763,
          0.13329943,
          -0.48972964,
          1.8870999,
          1.7282664,
          0.9788063,
          1.1607867,
          -0.2894193,
          0.8286073,
          -0.011929556,
          -0.093782425,
          0.4061682,
          2.049596,
          -0.17543215,
          1.1875634,
          0.3553909,
          0.8720704,
          0.8466457,
          0.5741033,
          0.9311196,
          0.23564339,
          0.41019484,
          -0.31667596,
          0.3225104,
          -0.5754271,
          0.7041517,
          0.90804124,
          0.9059204,
          1.1800106,
          0.8104884,
          1.4282461,
          0.46486038,
          0.87503,
          0.8243232,
          0.17819735,
          1.396049,
          0.5639133,
          1.2144046,
          0.65264755,
          0.9101719,
          -0.67335236,
          1.1069024,
          1.4365057,
          1.6926575,
          1.7816397,
          0.53424156,
          0.74480665,
          -0.14459515,
          1.6185224,
          1.7193245,
          -0.37378886,
          -1.7381387,
          -0.8245298,
          -1.9137458,
          -1.1586374,
          -1.8308973,
          0.3983983,
          0.8204762,
          -0.78422016,
          -1.724515,
          -0.73401856,
          2.0531945,
          1.8740318,
          -0.20776635,
          -1.4870017,
          -0.26604924,
          -1.3110584,
          -0.9073986,
          -2.1622791,
          -0.7108626,
          -0.5477725,
          -0.6597607,
          -1.0041023,
          -0.65364957,
          -1.0769662,
          -0.75157,
          -0.5925525,
          2.2877936,
          1.3510425,
          1.1210413,
          0.98088455,
          -1.0655252,
          -0.75103,
          0.51109475,
          0.03994285,
          -0.83594674,
          -0.87304014,
          -0.80268407,
          -1.8900727,
          -0.069111034,
          -1.1772053,
          1.6118371,
          1.9849192,
          1.3922426,
          -0.34813306,
          -1.0594977,
          -0.7201117,
          -1.2977592,
          -1.729137,
          -0.68764365,
          -0.7002525,
          -1.1274453,
          -1.0839722,
          -0.76429015,
          1.3154743,
          0.8879642,
          1.6460078,
          -1.3227558,
          -1.8414751,
          1.2304972,
          1.3806138,
          -0.122092105,
          -1.1358922,
          -0.49628872,
          -1.9138864,
          1.73656,
          1.100951,
          1.3175185,
          -0.2638031,
          1.2528048,
          1.147087,
          -0.50457555,
          -0.7640411,
          0.9471674,
          0.08401075,
          1.050205,
          1.1405493,
          0.91694546,
          0.12967703,
          1.33371,
          0.99694496,
          1.9096034,
          0.30377,
          -0.5580339,
          1.534266,
          0.268913,
          0.7964331,
          0.58119476,
          -0.9378692,
          -0.7646039,
          -1.7342708,
          2.1150203,
          2.1648257,
          1.3646253,
          1.5803002,
          1.498926,
          -0.9202689,
          -1.9469085,
          0.7829386,
          1.258327,
          1.3452811,
          -0.46776,
          0.9872364,
          0.8372068,
          1.4074255,
          0.65520614,
          1.9202074,
          1.1057409,
          1.078332,
          1.4062686,
          0.735062,
          1.3013982,
          0.92639506,
          1.7220739,
          1.3423084,
          1.5055315,
          1.6711408,
          0.55313605,
          1.6052746,
          1.0461285,
          1.4630456,
          1.6818227,
          1.183664,
          -0.6295713,
          -1.367136,
          0.61671644,
          0.17815626,
          0.8284269,
          0.0602602,
          1.0498159,
          1.5427198,
          0.78875834,
          1.1355232,
          0.9110322,
          2.101615,
          1.1763128,
          0.803069,
          0.87245286,
          0.8289644,
          0.8192632,
          0.73831755,
          0.7410374,
          -0.6118596,
          0.74988306,
          0.7237151,
          -0.7155899,
          -1.63685,
          2.0985506,
          0.70537746,
          -0.04761878,
          -0.88594955,
          -0.7239871,
          -0.7839778,
          -0.7412463,
          -1.0349998,
          -1.6973869,
          -1.1171405,
          -0.90956974,
          -0.37381932,
          0.29067516,
          0.82427794,
          1.0334643,
          0.1301116,
          2.2151365,
          1.1399922,
          0.37082785,
          -1.2726318,
          -0.6320609,
          -0.0051008686,
          1.4753449,
          1.5446355,
          1.1724398,
          0.9017195,
          0.4870546,
          0.91624933,
          0.8706565,
          -2.129634,
          -1.8690962,
          -1.5249274,
          -1.5371667,
          0.20110759,
          -1.2788724,
          -1.9022899,
          -2.0740764,
          -1.9907403,
          -0.2719655,
          0.17826901,
          0.9071907,
          -1.0484272,
          -2.1174731,
          -1.7103256,
          1.0821837,
          1.7548013,
          0.8540294,
          1.5630208,
          0.20379612,
          0.3767385,
          1.2814357,
          0.06770846,
          0.29450843,
          0.6535653,
          0.107783526,
          -0.8141229,
          -1.9550501,
          -0.78331864,
          -1.1154337,
          -0.62191874,
          -1.2331084,
          -1.9351833,
          0.39785117,
          0.17981292,
          0.8591185,
          2.1656022,
          1.4967638,
          1.4581071,
          1.5611234,
          1.1620392,
          0.5178881,
          -0.09942816,
          -1.2405199,
          0.37625402,
          0.21557145,
          -0.3163376,
          -1.4833319,
          0.46015215,
          -0.95279634,
          0.16633886,
          1.9053907,
          1.9013336,
          -0.29369488,
          0.3780925,
          1.9421909,
          0.20253725,
          1.3561306,
          0.84614897,
          1.066946,
          1.7891194,
          1.0245556,
          -0.105627336,
          0.6815567,
          1.386311,
          -0.64640737,
          1.0720054,
          1.3753322,
          1.0153832,
          0.65213156,
          -1.2015092,
          -1.7925247,
          0.3312523,
          -0.84152037,
          1.2276088,
          0.45852914,
          -0.89944834,
          -1.6464372,
          0.11569189,
          -0.006593032,
          0.43681228,
          1.8349543,
          1.1661121,
          1.4524834,
          0.6452642,
          0.50678873,
          0.6853609,
          1.5088809,
          1.2120211,
          1.251429,
          1.7213914,
          1.3956538,
          1.5140014,
          1.5682653,
          1.6324584,
          1.1421545,
          0.8983653,
          0.51754594,
          -2.2252555,
          -1.6801515,
          0.011073701,
          1.7470245,
          -1.0629057,
          0.36468977,
          0.33610946,
          0.70336515,
          -0.29256704,
          0.5066044,
          1.7799385,
          0.3178584,
          -0.29377863,
          -0.7723187,
          -1.9464715,
          1.1908624,
          1.4806688,
          0.12620498,
          0.0063768774,
          0.25744414,
          0.16675608,
          1.1702873,
          0.17784826,
          1.6007488,
          -0.026914548,
          -0.6511626,
          -0.5512158,
          -1.9537566,
          -0.75480324,
          -1.1519685,
          -1.6196957,
          0.59488773,
          0.038089678,
          0.8558909,
          -0.08745435,
          0.0024224103,
          0.15477078,
          -0.09720858,
          -0.21580842,
          0.3285182,
          1.3884419,
          0.16514634,
          0.39613724,
          0.15790312,
          0.269905,
          -0.57409894,
          1.350224,
          1.3385438,
          1.3166026,
          1.2891761,
          0.3154455,
          0.1939238,
          1.2140266,
          -0.4989836,
          0.08635926,
          2.1847544,
          1.1202894,
          0.21902415,
          0.095615976,
          1.2919163,
          0.85065836,
          0.5730763,
          0.7611148,
          -0.25878218,
          1.5441345,
          1.308831,
          1.2518944,
          1.1862034,
          1.3971653,
          0.9053037,
          -0.23123004,
          0.8055178,
          -0.32795328,
          1.058657,
          0.06623244,
          0.5807601,
          -0.5266079,
          1.2015189,
          -0.3574914,
          -0.04550686,
          0.07247854,
          -0.7023013,
          0.7292139,
          0.6069422,
          1.0639708,
          1.6315912,
          1.2235831
         ],
         "xaxis": "x",
         "y": [
          -1.1214381,
          -2.1707919,
          -1.0300745,
          -2.328183,
          0.790521,
          -0.9310961,
          0.6582294,
          1.1465323,
          -1.0784926,
          0.8749543,
          0.88400584,
          0.21602781,
          -0.8159743,
          0.9030176,
          -1.1782835,
          0.96629393,
          -1.1362127,
          1.3373692,
          1.1414739,
          0.8209507,
          1.1929997,
          -0.2736127,
          1.5775383,
          2.2171185,
          2.3116224,
          1.4104815,
          -2.4544735,
          -0.83378816,
          1.9619896,
          0.049685817,
          -1.6261739,
          -0.93413955,
          -1.6874698,
          0.79344517,
          0.8849825,
          -0.04212493,
          1.0047961,
          1.8180987,
          1.9232978,
          -0.9959014,
          1.3740549,
          2.0233817,
          2.0307033,
          1.5377158,
          -1.0925584,
          0.49627158,
          2.3067226,
          -1.8115212,
          1.1058549,
          -2.2301478,
          -0.2429057,
          0.04878027,
          1.5647159,
          -1.663234,
          -0.8224584,
          2.0564196,
          1.368295,
          -1.0405418,
          -2.3706381,
          0.4470279,
          -0.8520057,
          -2.2945204,
          -0.9147505,
          0.7388487,
          -1.6189901,
          1.239887,
          -0.9497643,
          0.93307424,
          -2.2098763,
          0.8160699,
          -2.2894351,
          1.0180255,
          1.2066193,
          1.4208809,
          -2.429476,
          0.7498487,
          -0.60682267,
          0.7520416,
          -2.1629136,
          -0.06868213,
          1.0326881,
          1.1659944,
          0.91986287,
          0.93122476,
          -0.16781706,
          0.85350317,
          -0.001202945,
          1.4397265,
          0.38842985,
          1.7094703,
          0.92222667,
          0.8483854,
          1.2829775,
          -0.5762341,
          -2.0901082,
          2.3921044,
          -2.3846104,
          0.89435905,
          -0.9587239,
          -0.0798936,
          1.0302342,
          1.0930315,
          0.3106361,
          -0.9792484,
          0.6328761,
          0.12317496,
          0.7695008,
          1.4320251,
          -2.155957,
          -2.0438523,
          -0.41132957,
          -2.0299022,
          -0.9910859,
          1.1305149,
          1.0061737,
          0.9080431,
          0.99064445,
          1.2286485,
          0.79082716,
          1.1073464,
          0.77511764,
          0.8473662,
          1.288034,
          1.1249528,
          0.9216212,
          1.122266,
          0.66086835,
          0.41492525,
          0.6616553,
          -0.7925864,
          -1.2716287,
          -1.2884184,
          -0.2536478,
          1.936029,
          0.54096264,
          0.65446246,
          -1.3944736,
          2.2421741,
          2.007025,
          -1.5825968,
          -1.3252883,
          -1.3137695,
          -1.0764931,
          1.8851666,
          0.7359357,
          1.4242058,
          -2.508706,
          0.8216368,
          2.2345943,
          1.9200242,
          1.9707294,
          -1.6058846,
          -0.12865917,
          0.9022319,
          0.6242037,
          0.108213425,
          0.9787045,
          0.8513586,
          1.0339448,
          0.86846316,
          0.005202747,
          -0.091672115,
          0.8090661,
          0.894893,
          0.9005183,
          0.059138,
          0.9368827,
          -0.13093877,
          -0.097126074,
          0.89566267,
          1.0224601,
          0.36124054,
          0.9490853,
          0.0508524,
          -0.36096233,
          1.6126528,
          0.93362457,
          0.980722,
          0.95397145,
          -0.11588928,
          -0.11943356,
          0.7329195,
          -1.5956111,
          0.80213314,
          1.0829101,
          1.111362,
          1.2318544,
          1.5350113,
          1.1286762,
          1.3271656,
          1.676496,
          2.0364368,
          2.1040847,
          2.1512492,
          1.1927696,
          1.3430754,
          1.806296,
          -1.2632126,
          2.1767247,
          0.6817632,
          -2.1183956,
          2.5451536,
          1.827295,
          -0.4664125,
          0.014790387,
          -0.17015877,
          -1.4230793,
          0.94083166,
          0.916166,
          0.36624387,
          -0.015797054,
          1.428137,
          1.1904999,
          -2.1910684,
          -1.3262033,
          -2.2857447,
          0.8010736,
          1.5455751,
          -0.78923,
          2.031638,
          1.3186258,
          1.5327154,
          -1.8456674,
          0.9055117,
          -0.009268402,
          -0.25312057,
          1.4758981,
          -1.4391174,
          2.4253826,
          1.2634914,
          -0.38774264,
          0.97605205,
          -1.6892735,
          1.1525398,
          -0.2252067,
          -0.84523827,
          -1.0885361,
          -2.1089132,
          -2.5725632,
          -0.8246417,
          2.0918293,
          -1.8220649,
          1.4027205,
          1.6118753,
          2.191606,
          -0.36180314,
          -2.197124,
          1.1066803,
          -1.0397818,
          -2.4659944,
          -1.8403318,
          -2.3009655,
          1.0990027,
          1.3053578,
          1.0838238,
          0.045645572,
          -0.030839624,
          -0.2915653,
          -1.8102083,
          0.6797721,
          0.81610245,
          -2.4033115,
          -0.9988407,
          0.8599427,
          -0.5407631,
          -0.7710876,
          -1.7370687,
          -0.5512359,
          -1.4368099,
          1.3728281,
          1.5063184,
          -0.8798653,
          1.6315112,
          -0.71716756,
          1.7508649,
          0.6373276,
          2.1422162,
          -1.0133476,
          1.3327589,
          2.2902453,
          1.844446,
          1.5212979,
          -1.8307037,
          -1.2912772,
          -2.1957963,
          -0.1771831,
          1.0283818,
          0.84559995,
          0.95131266,
          -1.9838578,
          -0.73405105,
          -2.3254325,
          -1.3491281,
          -0.7528448,
          0.80078036,
          1.3103611,
          0.019644646,
          1.1227328,
          0.73328364,
          -1.3805887,
          1.4137313,
          1.0314903,
          1.0624098,
          -1.5987293,
          0.7560771,
          -1.1162875,
          0.7314983,
          0.5368797,
          0.62519705,
          0.48812205,
          -0.91127044,
          1.7553738,
          1.8737646,
          1.3189303,
          -1.1275406,
          1.106613,
          -2.2661283,
          -0.33425528,
          1.3167799,
          1.4991124,
          -1.6728141,
          1.0210022,
          -1.6481048,
          0.7362742,
          -1.3403982,
          -1.278035,
          -2.3243787,
          1.7642223,
          -2.0379143,
          0.8749798,
          -1.1886517,
          0.8930196,
          0.15672284,
          -0.9147849,
          1.718853,
          1.7476391,
          1.612556,
          0.33248183,
          1.9040529,
          0.90705436,
          -0.6807083,
          1.0221965,
          0.26447558,
          1.1857065,
          -2.0895693,
          0.88446265,
          -2.0919995,
          0.7378895,
          -2.2351165,
          0.9015709,
          -0.32904157,
          -0.41364345,
          0.8122807,
          -0.39974552,
          -1.1465033,
          0.831993,
          0.92289084,
          -1.237965,
          -0.016336767,
          1.1001927,
          1.3067815,
          1.1410342,
          -1.595595,
          2.1677861,
          1.1492869,
          0.22034605,
          -1.2256596,
          1.9380667,
          -2.3493354,
          1.7900552,
          1.7836665,
          0.5983387,
          -0.38040334,
          2.0266664,
          0.123043746,
          0.9466112,
          -2.0653987,
          -0.939765,
          0.98193204,
          1.0588919,
          1.2841045,
          -2.0784674,
          1.3228878,
          1.3312893,
          1.967351,
          1.1477609,
          -2.5259974,
          1.5444608,
          -2.2605271,
          -0.2505767,
          1.4248767,
          1.740563,
          1.2265999,
          1.4929509,
          -1.6711159,
          0.48172617,
          1.5871092,
          -1.672142,
          2.0093327,
          2.0459304,
          -1.8783277,
          -0.6620656,
          -1.6905384,
          2.0564578,
          1.3462483,
          1.0384784,
          -1.8957394,
          1.2882543,
          1.4870654,
          -1.7966571,
          -0.89094377,
          -1.6598964,
          1.2126888,
          -0.6674472,
          -1.6017708,
          1.4147573,
          1.2436363,
          1.9149498,
          1.9252167,
          -1.6320726,
          1.4031506,
          1.4177679,
          -2.568698,
          1.3860965,
          -2.4409258,
          0.67833763,
          -2.2576618,
          1.1627518,
          -1.4277269,
          0.93801004,
          0.91799694,
          0.93410486,
          0.9417635,
          0.019951183,
          0.9230009,
          -2.458085,
          0.76589423,
          -1.3385096,
          -0.11105492,
          0.95715886,
          1.191684,
          -1.796329,
          1.8810564,
          -1.8900105,
          0.8621291,
          0.8625791,
          0.103688374,
          1.2349617,
          0.97406405,
          0.96021795,
          0.9212265,
          -0.102459334,
          0.9882495,
          0.98623025,
          0.9046624,
          0.8596621,
          -0.17571712,
          0.6927254,
          1.0598702,
          -0.02470857,
          -1.0862752,
          1.1535215,
          -1.2952896,
          1.1843712,
          -0.6679902,
          1.9474725,
          1.5240806,
          1.8722371,
          2.0808682,
          -0.3577225,
          -1.5200642,
          1.9567114,
          -2.1147704,
          1.2960435,
          1.1750842,
          1.4237711,
          0.44404563,
          1.2171156,
          1.2129263,
          1.9602277,
          1.5716717,
          1.4732811,
          0.7430771,
          -2.1618953,
          -0.6441006,
          0.7610486,
          0.85346884,
          1.5158083,
          1.2336638,
          0.9380141,
          0.8406146,
          -2.1800396,
          -1.6174186,
          1.8450023,
          -0.08742977,
          -0.36579603,
          1.5939033,
          1.8871902,
          1.3121163,
          1.2799344,
          -0.3996731,
          1.100078,
          1.5899272,
          1.8081082,
          1.7174281,
          1.0401952,
          -1.7698992,
          -0.04485882,
          -0.08577936,
          1.1416153,
          -1.6336308,
          -1.0892102,
          0.7984652,
          -1.0447665,
          0.83397216,
          2.4370618,
          0.7428681,
          -0.4517399,
          1.6704762,
          1.7232462,
          0.19722222,
          -1.4268348,
          -0.6702337,
          2.400198,
          1.6805272,
          -2.1637876,
          1.1477908,
          -1.183516,
          -2.2883139,
          -0.2147853,
          -0.15335621,
          1.6705943,
          1.504153,
          -2.2188714,
          1.7665571,
          -2.3810964,
          0.88695127,
          0.848507,
          2.3780563,
          1.1356369,
          0.7871631,
          1.2967578,
          0.83523756,
          -1.4726696,
          -1.1214743,
          0.89558786,
          -1.1036652,
          1.3016744,
          -2.0913754,
          0.98750705,
          1.1305627,
          1.4788841,
          -1.3514936,
          2.0988708,
          1.6073788,
          -1.3922532,
          0.80269915,
          -1.8806356,
          1.3398631,
          2.1012988,
          -1.3005068,
          0.43132383,
          2.637863,
          1.3731016,
          2.0480442,
          2.0291224,
          1.039944,
          1.6670045,
          0.95063096,
          1.0721009,
          1.9150982,
          0.45001233,
          1.6409813,
          1.8902578,
          -1.8872316,
          -0.6553422,
          -0.4581102,
          1.1420122,
          -2.133834,
          1.7642877,
          0.84661925,
          -2.0821693,
          0.94257045,
          -0.04909174,
          -0.115356885,
          0.7800257,
          0.74058574,
          1.0819373,
          0.7458037,
          0.8289634,
          0.36829925,
          -0.32625234,
          -0.00802124,
          0.9639354,
          -1.2842606,
          -0.23760945,
          -0.4957631,
          0.52186716,
          -1.7018641,
          1.7761831,
          -1.6605934,
          0.6932275,
          0.70369726,
          -2.2396643,
          2.5765252,
          -1.7380509,
          0.8944679,
          0.71197736,
          -1.4716069,
          1.1092991,
          -0.12883848,
          0.8850038,
          1.0339425,
          1.2363265,
          1.1294066,
          1.1325034,
          -0.28305346,
          -1.41341,
          -1.1117014,
          0.994457,
          -2.0580106,
          -1.4798604,
          0.9879793,
          -0.3283407,
          -1.1864326,
          1.4679803,
          -2.1636055,
          -1.3237299,
          0.639343,
          0.47864223,
          -0.9927366,
          -0.10585157,
          0.018173838,
          0.74730426,
          -1.6056087,
          -1.0967063,
          0.6823372,
          -1.4563808,
          0.5080743,
          1.4629756,
          -1.2347989,
          0.44260785,
          -2.090539,
          -2.5144472,
          -1.3163583,
          -1.468902,
          1.3059405,
          1.192505,
          1.653748,
          0.6328416,
          -2.3541095,
          1.7504673,
          1.7312049,
          -0.56931525,
          -1.618234,
          1.570106,
          1.0060574,
          1.8798872,
          -1.0906773,
          1.9105283,
          -1.3426872,
          0.68157095,
          0.7798474,
          0.7570149,
          1.1251686,
          -0.769492,
          0.66554457,
          0.36113334,
          0.85348475,
          -0.37788764,
          -2.6448429,
          -1.7100943,
          -2.2584193,
          0.98270583,
          1.5718063,
          0.99928015,
          1.4555655,
          -0.89909023,
          1.3051214,
          1.493085,
          -1.0978838,
          1.3398426,
          1.9367682,
          2.2823179,
          -1.7791713,
          0.9283254,
          0.7605104,
          1.0410527,
          0.6717415,
          -2.0010118,
          1.1732676,
          -1.6660181,
          0.33057767,
          1.0300688,
          1.3851948,
          -0.97134763,
          1.6988901,
          -0.9423965,
          -1.8927847,
          1.1827198,
          1.4899491,
          -1.0874366,
          0.5486308,
          -0.5006435,
          0.29175922,
          0.5787305,
          -0.23125729,
          0.66295505,
          1.702661,
          0.8221395,
          0.020788824,
          0.067252,
          1.7400283,
          -0.22684672,
          1.8801953,
          0.6844731,
          -1.90561,
          0.9566023,
          0.03352071,
          0.92954123,
          -1.4705471,
          0.83858293,
          -0.5161332,
          -1.0054754,
          1.2316235,
          -1.615749,
          -0.42485994,
          0.9514361,
          -1.9014287,
          0.15414947,
          1.4547668,
          0.5041844,
          1.7195336,
          1.4341482,
          1.1578568,
          1.3384737,
          1.3669375,
          -0.5849334,
          1.1762024,
          1.1455953,
          -0.5144533,
          -0.098205484,
          1.1182837,
          -1.009807,
          -0.53863937,
          1.0628961,
          -2.0181894,
          -0.81647396,
          0.99543965,
          1.62146,
          -2.4791386,
          0.44095138,
          -1.3838102,
          0.76496637,
          0.6818544,
          0.68898857,
          -0.37104604,
          -0.0412925,
          -2.1962233,
          0.04176842,
          1.2737305,
          -1.4204575,
          0.8582541,
          1.570895,
          -2.1191268,
          -0.27842,
          -0.7508425,
          0.5299362,
          -1.3358035,
          1.869003,
          1.8902773,
          -0.5358148,
          1.0812056,
          -2.2581704,
          0.36417088,
          -1.3801229,
          1.2002913,
          -1.1342868,
          -0.6966776,
          -1.0986854,
          -2.37489,
          -2.5747008,
          1.2068013,
          -1.7581724,
          0.9739456,
          0.7305571,
          -2.348921,
          0.8469641,
          0.8710751,
          0.9062379,
          1.5764359,
          1.6976221,
          -2.279028,
          -2.1221056,
          1.6130614,
          1.4700248,
          -1.1483247,
          0.9266811,
          2.002087,
          -1.91256,
          1.5400566,
          1.4405445,
          -0.38355228,
          1.6289873,
          2.224839,
          -2.1828787,
          1.4932367,
          -2.2209373,
          1.5622578,
          0.23714961,
          -1.592788,
          1.1808778,
          -1.9891539,
          0.909801,
          -0.2552246,
          -0.12297725,
          0.80623037,
          0.91528755,
          1.1780057,
          -1.1436933,
          -1.2144426,
          -1.3184296,
          1.9834671,
          -1.7141392,
          2.362967,
          -1.875129,
          1.1309069,
          -1.2363579,
          -0.05242704,
          1.0313724,
          -1.2979136,
          2.1008418,
          -0.78041124,
          2.4852796,
          -0.8676501,
          1.8780104,
          -0.72283846,
          1.7375249,
          -0.19151713,
          -2.1989074,
          1.129917,
          -1.9310585,
          0.51515937,
          -2.2866838,
          0.9244269,
          -0.9492619,
          0.73571813,
          -2.142378,
          0.8130324,
          0.77064604,
          1.2086635,
          1.5380716,
          1.8850893,
          -0.7682362,
          1.121386,
          -2.0466166,
          -2.1438205,
          -2.4453301,
          1.5309892,
          1.6783978,
          0.89493394,
          -0.1436943,
          0.88666636,
          0.9381841,
          0.9185577,
          -0.8151703,
          0.3304727,
          -2.210127,
          0.9210705,
          -1.0445341,
          1.2910584,
          1.0570698,
          0.59829444,
          -2.185898,
          0.5263244,
          0.65983033,
          1.3568939,
          -1.2208948,
          -1.2563928,
          0.5279986,
          1.848514,
          0.32321385,
          1.3418013,
          1.4554013,
          1.7527641,
          1.5824142,
          -2.2504423,
          1.2136968,
          1.3785931,
          -0.3465644,
          1.5982322,
          -0.9054667,
          0.7636305,
          -0.38367262,
          0.7884278,
          1.4533576,
          0.943505,
          -1.9652221,
          1.6257092,
          2.2441678,
          1.0922168,
          -0.22872192,
          -0.04160165,
          0.9324965,
          -1.3678231,
          -2.3226802,
          0.9089448,
          2.1927688,
          -2.4591274,
          0.53514427,
          0.14896426,
          1.0367731,
          1.6856741,
          -1.7226493,
          1.0318724,
          0.78715736,
          0.9601243,
          0.8494434,
          -0.09574208,
          0.927053,
          -0.055154476,
          -0.2805692,
          0.9143251,
          -2.1238363,
          0.4051151,
          -0.6125133,
          1.0580118,
          0.82552373,
          -0.6240182,
          0.96172297,
          0.7772439,
          -2.146723,
          0.7487258,
          -2.1721616,
          1.4387306,
          1.2518103,
          -0.027256176,
          -2.2725592,
          -2.6721609,
          -2.7627428,
          2.0862927,
          -1.8977412,
          2.0133886,
          1.6587837,
          -2.4438574,
          0.80187976,
          0.46446326,
          2.0675495,
          1.6020014,
          1.269054,
          -0.9564056,
          1.5179836,
          1.4214555,
          -1.6323092,
          -2.2884316,
          1.6023194,
          -1.6893765,
          0.9056954,
          0.8807106,
          -1.3838761,
          -1.4855375,
          1.2468355,
          1.0358422,
          0.44729894,
          0.6256174,
          2.1212773,
          -2.478558,
          2.3810306,
          -0.73747504,
          0.03276104,
          -2.248176,
          0.6976684,
          0.2510869,
          -0.5273929,
          1.6365074,
          -0.6924379,
          -1.6252425,
          1.3337961,
          -1.6739434,
          1.259717,
          1.2109948,
          0.8145318,
          0.8950595,
          1.241667,
          -1.5535786,
          1.2824668,
          1.2695339,
          -0.8675479,
          0.786443,
          0.9300727,
          2.0417366,
          -2.052344,
          1.2549882,
          -2.3072155,
          1.3804996,
          -1.8472729,
          0.5633146,
          -1.0993283,
          1.1555636,
          0.71565425,
          -2.4339492,
          -2.3713002,
          0.62033963,
          -2.1230009,
          -0.06043148,
          -1.5775312,
          1.2708457,
          -1.4588175,
          0.67568994,
          0.86921567,
          -1.0568777,
          0.49473625,
          0.94838905,
          1.0677869,
          0.9817576,
          0.8938745,
          -2.1727955,
          2.15748,
          1.5927593,
          0.9116134,
          -0.16662163,
          -1.8353391,
          2.1505961,
          -0.4426855,
          -2.2878737,
          0.8650202,
          -1.0240551,
          1.2311871,
          0.23226425,
          1.2098467,
          1.0270983,
          -0.5009681,
          1.5723625,
          1.0283936,
          0.69926876,
          1.1662781,
          -2.2658741,
          1.5010403,
          -1.8298267,
          1.0318679,
          1.6130486,
          -0.12591118,
          0.07372831,
          1.0553272,
          -0.41176128,
          0.77542037,
          0.6193769,
          0.2939827,
          0.30105874,
          1.8906964,
          -1.7564235,
          0.4171258,
          -1.4888216,
          2.2545402,
          -2.1944733,
          -1.4283974,
          -2.141073,
          1.2180698,
          -2.2354732,
          1.3065081,
          1.47546,
          0.8729965,
          -1.0626583,
          -1.5508556,
          -2.255477,
          -0.016955096,
          0.84942794,
          0.86231375,
          0.8341053,
          -0.48565626,
          0.36344054,
          -0.29403883,
          1.4273539,
          0.91420496,
          0.82949895,
          1.496156,
          1.058366,
          1.1273009,
          0.80784625,
          1.0313432,
          0.83666867,
          -0.46949798,
          -0.9655615,
          -2.1041927,
          0.96074116,
          0.89097595,
          -0.056896064,
          -0.9087572,
          -1.6214314,
          -2.392175,
          1.7545385,
          -1.7798828,
          2.38566,
          1.4265532,
          1.5617076,
          1.8231491,
          1.913502,
          -1.9099481,
          0.091391064,
          1.566724,
          -0.91748285,
          -0.82797897,
          -1.9030031,
          -0.92584366,
          2.4096103,
          0.9878028,
          -0.9654284,
          -0.9205649,
          -1.4896244,
          1.1931448,
          1.456473,
          -0.8271814,
          -2.2977366,
          1.0566956,
          -2.165311,
          1.5917015,
          -1.4816539,
          1.8320777,
          1.6572225,
          1.374193,
          -1.7004597,
          -2.1211247,
          0.48736683,
          -2.0537448,
          0.5790285,
          -0.66987747,
          0.70673364,
          0.65493524,
          0.70154196,
          -1.049476,
          -0.7754792,
          0.7569994,
          1.3584054,
          -1.3116425,
          0.9216944,
          1.0060394,
          1.0219398,
          -1.6272585,
          1.3545449,
          -1.6963748,
          0.9355783,
          1.0716555,
          1.1670635,
          -2.0720887,
          -0.5697563,
          -0.92022735,
          -0.79855406,
          0.87044924,
          -2.2400715,
          1.7898092,
          -1.5106136,
          2.0631938,
          2.3548331,
          1.5618317,
          1.5788652,
          -0.76530033,
          -1.0742089,
          -1.4319897,
          1.0474434,
          0.5487517,
          -2.4148042,
          0.87385,
          -1.9903109,
          0.47014877,
          1.6790056,
          -0.434017,
          -0.51857364,
          1.0338973,
          0.7281111,
          -1.3177943,
          -2.2924156,
          0.91620517,
          -2.1407306,
          -1.6052375,
          -2.1892405,
          0.9580909,
          -0.10292778,
          0.07954941,
          1.4186453,
          -1.6310253,
          0.97517556,
          -1.5239428,
          -0.40387982,
          0.55238444,
          0.7710409,
          1.0221213,
          -1.6887914,
          1.4934536,
          1.342833,
          0.3274349,
          1.644047,
          -0.27794644,
          0.6482066,
          0.974527,
          0.87876797,
          -1.6617252,
          -1.8324394,
          -2.2950487,
          0.7499967,
          0.20601413,
          0.806432,
          0.90759295,
          -0.90955937,
          0.91557705,
          0.991607,
          -0.014118216,
          1.6678641,
          1.1442708,
          1.9961464,
          2.1704843,
          1.2064762,
          -0.8529214,
          0.8748164,
          -1.1936588,
          1.1841348,
          -1.3439949,
          0.99187636,
          0.8850954,
          0.8755203,
          -0.028329419,
          1.0858357,
          1.171594,
          -1.8629057,
          1.1241422,
          -1.4210227,
          2.014253,
          1.6919624,
          1.777314,
          -1.7679825,
          1.0250403,
          1.0290768,
          1.3745242,
          -1.5383377,
          0.5362518,
          0.984708,
          -1.603394,
          1.0531003,
          -0.9707594,
          1.7146132,
          1.0308595,
          0.7662827,
          -0.16061756,
          0.77640307,
          -2.2605264,
          -0.56396365,
          0.23718889,
          -0.6575924,
          2.1792395,
          2.2272072,
          -1.8135213,
          1.5082754,
          -1.7558447,
          -0.79933167,
          -0.34091136,
          0.77242774,
          1.744178,
          -2.2888482,
          1.809061,
          1.1605742,
          2.5543282,
          1.4631083,
          -0.3216016,
          -2.3732464,
          -1.222132,
          -1.9579755,
          1.8779821,
          1.6726885,
          1.5088317,
          1.949559,
          -2.539369,
          0.5150018,
          -1.5439867,
          1.8267229,
          -1.9245954,
          1.958818,
          1.3229198,
          1.1510704,
          0.96061146,
          1.2853988,
          1.5461608,
          1.9514707,
          1.9137391,
          -1.0284125,
          -2.1146028,
          1.4722155,
          0.9675139,
          -1.708135,
          1.254735,
          1.0727872,
          -2.0723383,
          1.1500959,
          1.059402,
          0.1937892,
          0.95607847,
          -2.0055983,
          0.9042024,
          -1.8254532,
          0.85823196,
          -1.1681997,
          0.9085702,
          -1.2116716,
          0.9104231,
          -0.85778797,
          1.2437221,
          -1.5089214,
          1.5996289,
          -1.1096206,
          -2.2519288,
          -0.07582972,
          0.8848853,
          -1.311309,
          -1.429079,
          1.1115544,
          -1.7462823,
          1.9812888,
          -1.8459698,
          1.1618823,
          -0.8994323,
          0.9635783,
          0.934523,
          1.1335431,
          1.0835541,
          1.0611447,
          1.1931208,
          -2.5004678,
          -2.2969265,
          -0.27980387,
          1.8547944,
          1.8301308,
          1.4352703,
          -0.2746192,
          1.8906182,
          0.5379198,
          -1.8819548,
          0.945637,
          0.9537077,
          0.9362493,
          0.05998507,
          1.1350106,
          -1.625723,
          0.24412082,
          -0.20545934,
          -0.9469989,
          1.9059812,
          -1.6539584,
          2.0196893,
          -1.903934,
          0.5572713,
          0.839964,
          0.8222096,
          0.25437695,
          0.13426714,
          0.84095275,
          -2.1411064,
          0.8051432,
          1.512948,
          1.2273655,
          -0.16996425,
          -1.2104378,
          -1.4640982,
          1.7789795,
          -2.3517275,
          0.6170486,
          0.43720546,
          -1.8826466,
          -2.3626168,
          1.1288456,
          -2.0659626,
          1.0285956,
          1.1283462,
          0.9602919,
          1.1269703,
          -0.79382885,
          -2.3517306,
          1.1469287,
          2.0192397,
          1.2152474,
          -2.1609266,
          1.679653,
          0.873618,
          -0.16177571,
          0.73539215,
          -2.2332158,
          -1.3069496,
          -2.133344,
          1.0477667,
          0.96771175,
          0.88772243,
          -0.11799679,
          -1.213601,
          0.4087201,
          0.57027996,
          1.0307888,
          0.9917628,
          -0.37428528,
          0.9695764,
          -1.1393207,
          0.9197412,
          2.4028535,
          1.477161,
          -2.4482157,
          0.20268613,
          0.81669354,
          0.7423589,
          -2.0230637,
          -0.5511645,
          0.74043405,
          -0.94002444,
          0.72463864,
          0.8442704,
          -0.61500776,
          -0.60793006,
          -0.6476602,
          0.8989704,
          -0.25895977,
          -0.6293557,
          1.342206,
          0.9711322,
          1.0928746,
          0.92926115,
          0.61797255,
          0.7597945,
          1.0465904,
          -1.5839132,
          1.3207952,
          1.2520851,
          0.6307305,
          -2.2754447,
          1.2996585,
          -0.9032993,
          0.66799647,
          0.844484,
          0.11205438,
          -0.051625997,
          0.63837004,
          -2.0460742,
          -1.0867748,
          1.3326044,
          1.0405482,
          1.2799807,
          -1.1013956,
          -2.3145657,
          2.2186735,
          1.6087986,
          1.4998142,
          -1.2502999,
          -0.46520215,
          0.74768,
          1.9252207,
          -2.3669925,
          1.4110417,
          1.240363,
          1.2095976,
          1.6514379,
          1.2152632,
          1.5827453,
          2.1043427,
          1.2601259,
          -0.69015986,
          0.6015798,
          1.5540668,
          0.9533876,
          -0.09199926,
          -0.21585895,
          2.385647,
          -0.1842443,
          1.3906883,
          1.1231623,
          0.5656438,
          0.5745249,
          0.00046804638,
          0.896477,
          1.3684272,
          0.8727608,
          0.85884064,
          -0.6891168,
          -1.5596868,
          -0.15352622,
          -1.7631415,
          -0.6604488,
          -1.8863634,
          0.049471453,
          -0.28477404,
          -0.934546,
          -0.66423976,
          0.61832273,
          -1.3140954,
          -1.7423683,
          -1.666808,
          -1.6930918,
          -0.94859225,
          1.2573448,
          2.016194,
          1.8935266,
          0.22105466,
          -0.77247244,
          1.4886794,
          -2.1490746,
          0.852313,
          -1.0587003,
          0.9578374,
          0.8481405,
          -0.9281044,
          0.89000344,
          0.77827877,
          0.8815422,
          -0.16796137,
          -0.09623743,
          2.4627857,
          2.4835238,
          1.7378656,
          -0.28916928,
          1.4282241,
          1.2740619,
          0.6840512,
          0.7040681,
          -2.180211,
          1.1231549,
          -2.0226066,
          1.7730739,
          1.8095157,
          1.3691676,
          -1.6686012,
          0.96263814,
          -2.3836033,
          1.8615386,
          -0.906276,
          -0.33007336,
          2.0965261,
          1.8008554,
          -0.9385749,
          1.5141708,
          1.6888598,
          1.2553124,
          1.4329511,
          2.0109982,
          -0.9305641,
          2.0559373,
          0.60382533,
          -0.38235953,
          -1.9347137,
          0.8071094,
          -1.0672597,
          0.6851724,
          -2.1265244,
          0.3309693,
          0.23709023,
          1.435276,
          -1.7956563,
          -1.137172,
          1.7684953,
          1.1516873,
          -1.6116759,
          2.3354452,
          2.3672752,
          1.8659854,
          -0.7340038,
          1.643805,
          -1.6798785,
          -2.1918197,
          0.93727607,
          1.4721329,
          0.7481384,
          0.91009176,
          2.5150363,
          -1.0607952,
          0.67276806,
          0.8336149,
          -1.1199535,
          0.7087444,
          0.93715435,
          0.7715869,
          -1.9656719,
          -0.33434322,
          -1.8719332,
          1.4993069,
          -1.4517785,
          -2.1816895,
          1.3759,
          1.5384045,
          0.7622644,
          -2.0202537,
          0.8196004,
          -1.3459325,
          1.0811961,
          -1.6833787,
          0.9004485,
          -0.91892695,
          0.76936114,
          0.8523675,
          1.5387309,
          2.140029,
          0.8852746,
          1.2836802,
          -0.2866859,
          1.2769127,
          -0.3253522,
          2.06611,
          1.1341648,
          1.067781,
          -1.2092505,
          1.0189732,
          0.76170886,
          -1.2544175,
          1.1295434,
          -1.9317745,
          2.7576606,
          1.011322,
          0.8173737,
          0.98370653,
          2.007175,
          1.4365495,
          -0.7328892,
          -0.53207695,
          0.68279344,
          0.7066268,
          -0.10162869,
          1.3376056,
          -1.665835,
          0.7162822,
          0.7736573,
          0.6525104,
          0.6708315,
          1.6675024,
          1.4955845,
          -0.74971366,
          2.251891,
          1.383785,
          -0.16699831,
          -0.921523,
          1.1572052,
          1.1850014,
          -1.8777214,
          -0.45119625,
          1.3928604,
          -0.7473313,
          -2.1932757,
          -0.5413997,
          -0.7514997,
          0.7365822,
          0.67336583,
          0.8236782,
          2.0750356,
          -2.5797613,
          -0.4986312,
          -2.1450515,
          0.80864143,
          -1.8446288,
          1.2283909,
          -1.9547086,
          2.5335753,
          -1.8531797,
          0.8460272,
          0.5312413,
          -2.5177352,
          1.0256865,
          1.6249946,
          1.3842448,
          1.5753721,
          1.246493
         ],
         "yaxis": "y"
        }
       ],
       "layout": {
        "height": 1000,
        "legend": {
         "title": {
          "text": "node_type"
         },
         "tracegroupgap": 0
        },
        "template": {
         "data": {
          "bar": [
           {
            "error_x": {
             "color": "#2a3f5f"
            },
            "error_y": {
             "color": "#2a3f5f"
            },
            "marker": {
             "line": {
              "color": "#E5ECF6",
              "width": 0.5
             },
             "pattern": {
              "fillmode": "overlay",
              "size": 10,
              "solidity": 0.2
             }
            },
            "type": "bar"
           }
          ],
          "barpolar": [
           {
            "marker": {
             "line": {
              "color": "#E5ECF6",
              "width": 0.5
             },
             "pattern": {
              "fillmode": "overlay",
              "size": 10,
              "solidity": 0.2
             }
            },
            "type": "barpolar"
           }
          ],
          "carpet": [
           {
            "aaxis": {
             "endlinecolor": "#2a3f5f",
             "gridcolor": "white",
             "linecolor": "white",
             "minorgridcolor": "white",
             "startlinecolor": "#2a3f5f"
            },
            "baxis": {
             "endlinecolor": "#2a3f5f",
             "gridcolor": "white",
             "linecolor": "white",
             "minorgridcolor": "white",
             "startlinecolor": "#2a3f5f"
            },
            "type": "carpet"
           }
          ],
          "choropleth": [
           {
            "colorbar": {
             "outlinewidth": 0,
             "ticks": ""
            },
            "type": "choropleth"
           }
          ],
          "contour": [
           {
            "colorbar": {
             "outlinewidth": 0,
             "ticks": ""
            },
            "colorscale": [
             [
              0,
              "#0d0887"
             ],
             [
              0.1111111111111111,
              "#46039f"
             ],
             [
              0.2222222222222222,
              "#7201a8"
             ],
             [
              0.3333333333333333,
              "#9c179e"
             ],
             [
              0.4444444444444444,
              "#bd3786"
             ],
             [
              0.5555555555555556,
              "#d8576b"
             ],
             [
              0.6666666666666666,
              "#ed7953"
             ],
             [
              0.7777777777777778,
              "#fb9f3a"
             ],
             [
              0.8888888888888888,
              "#fdca26"
             ],
             [
              1,
              "#f0f921"
             ]
            ],
            "type": "contour"
           }
          ],
          "contourcarpet": [
           {
            "colorbar": {
             "outlinewidth": 0,
             "ticks": ""
            },
            "type": "contourcarpet"
           }
          ],
          "heatmap": [
           {
            "colorbar": {
             "outlinewidth": 0,
             "ticks": ""
            },
            "colorscale": [
             [
              0,
              "#0d0887"
             ],
             [
              0.1111111111111111,
              "#46039f"
             ],
             [
              0.2222222222222222,
              "#7201a8"
             ],
             [
              0.3333333333333333,
              "#9c179e"
             ],
             [
              0.4444444444444444,
              "#bd3786"
             ],
             [
              0.5555555555555556,
              "#d8576b"
             ],
             [
              0.6666666666666666,
              "#ed7953"
             ],
             [
              0.7777777777777778,
              "#fb9f3a"
             ],
             [
              0.8888888888888888,
              "#fdca26"
             ],
             [
              1,
              "#f0f921"
             ]
            ],
            "type": "heatmap"
           }
          ],
          "heatmapgl": [
           {
            "colorbar": {
             "outlinewidth": 0,
             "ticks": ""
            },
            "colorscale": [
             [
              0,
              "#0d0887"
             ],
             [
              0.1111111111111111,
              "#46039f"
             ],
             [
              0.2222222222222222,
              "#7201a8"
             ],
             [
              0.3333333333333333,
              "#9c179e"
             ],
             [
              0.4444444444444444,
              "#bd3786"
             ],
             [
              0.5555555555555556,
              "#d8576b"
             ],
             [
              0.6666666666666666,
              "#ed7953"
             ],
             [
              0.7777777777777778,
              "#fb9f3a"
             ],
             [
              0.8888888888888888,
              "#fdca26"
             ],
             [
              1,
              "#f0f921"
             ]
            ],
            "type": "heatmapgl"
           }
          ],
          "histogram": [
           {
            "marker": {
             "pattern": {
              "fillmode": "overlay",
              "size": 10,
              "solidity": 0.2
             }
            },
            "type": "histogram"
           }
          ],
          "histogram2d": [
           {
            "colorbar": {
             "outlinewidth": 0,
             "ticks": ""
            },
            "colorscale": [
             [
              0,
              "#0d0887"
             ],
             [
              0.1111111111111111,
              "#46039f"
             ],
             [
              0.2222222222222222,
              "#7201a8"
             ],
             [
              0.3333333333333333,
              "#9c179e"
             ],
             [
              0.4444444444444444,
              "#bd3786"
             ],
             [
              0.5555555555555556,
              "#d8576b"
             ],
             [
              0.6666666666666666,
              "#ed7953"
             ],
             [
              0.7777777777777778,
              "#fb9f3a"
             ],
             [
              0.8888888888888888,
              "#fdca26"
             ],
             [
              1,
              "#f0f921"
             ]
            ],
            "type": "histogram2d"
           }
          ],
          "histogram2dcontour": [
           {
            "colorbar": {
             "outlinewidth": 0,
             "ticks": ""
            },
            "colorscale": [
             [
              0,
              "#0d0887"
             ],
             [
              0.1111111111111111,
              "#46039f"
             ],
             [
              0.2222222222222222,
              "#7201a8"
             ],
             [
              0.3333333333333333,
              "#9c179e"
             ],
             [
              0.4444444444444444,
              "#bd3786"
             ],
             [
              0.5555555555555556,
              "#d8576b"
             ],
             [
              0.6666666666666666,
              "#ed7953"
             ],
             [
              0.7777777777777778,
              "#fb9f3a"
             ],
             [
              0.8888888888888888,
              "#fdca26"
             ],
             [
              1,
              "#f0f921"
             ]
            ],
            "type": "histogram2dcontour"
           }
          ],
          "mesh3d": [
           {
            "colorbar": {
             "outlinewidth": 0,
             "ticks": ""
            },
            "type": "mesh3d"
           }
          ],
          "parcoords": [
           {
            "line": {
             "colorbar": {
              "outlinewidth": 0,
              "ticks": ""
             }
            },
            "type": "parcoords"
           }
          ],
          "pie": [
           {
            "automargin": true,
            "type": "pie"
           }
          ],
          "scatter": [
           {
            "fillpattern": {
             "fillmode": "overlay",
             "size": 10,
             "solidity": 0.2
            },
            "type": "scatter"
           }
          ],
          "scatter3d": [
           {
            "line": {
             "colorbar": {
              "outlinewidth": 0,
              "ticks": ""
             }
            },
            "marker": {
             "colorbar": {
              "outlinewidth": 0,
              "ticks": ""
             }
            },
            "type": "scatter3d"
           }
          ],
          "scattercarpet": [
           {
            "marker": {
             "colorbar": {
              "outlinewidth": 0,
              "ticks": ""
             }
            },
            "type": "scattercarpet"
           }
          ],
          "scattergeo": [
           {
            "marker": {
             "colorbar": {
              "outlinewidth": 0,
              "ticks": ""
             }
            },
            "type": "scattergeo"
           }
          ],
          "scattergl": [
           {
            "marker": {
             "colorbar": {
              "outlinewidth": 0,
              "ticks": ""
             }
            },
            "type": "scattergl"
           }
          ],
          "scattermapbox": [
           {
            "marker": {
             "colorbar": {
              "outlinewidth": 0,
              "ticks": ""
             }
            },
            "type": "scattermapbox"
           }
          ],
          "scatterpolar": [
           {
            "marker": {
             "colorbar": {
              "outlinewidth": 0,
              "ticks": ""
             }
            },
            "type": "scatterpolar"
           }
          ],
          "scatterpolargl": [
           {
            "marker": {
             "colorbar": {
              "outlinewidth": 0,
              "ticks": ""
             }
            },
            "type": "scatterpolargl"
           }
          ],
          "scatterternary": [
           {
            "marker": {
             "colorbar": {
              "outlinewidth": 0,
              "ticks": ""
             }
            },
            "type": "scatterternary"
           }
          ],
          "surface": [
           {
            "colorbar": {
             "outlinewidth": 0,
             "ticks": ""
            },
            "colorscale": [
             [
              0,
              "#0d0887"
             ],
             [
              0.1111111111111111,
              "#46039f"
             ],
             [
              0.2222222222222222,
              "#7201a8"
             ],
             [
              0.3333333333333333,
              "#9c179e"
             ],
             [
              0.4444444444444444,
              "#bd3786"
             ],
             [
              0.5555555555555556,
              "#d8576b"
             ],
             [
              0.6666666666666666,
              "#ed7953"
             ],
             [
              0.7777777777777778,
              "#fb9f3a"
             ],
             [
              0.8888888888888888,
              "#fdca26"
             ],
             [
              1,
              "#f0f921"
             ]
            ],
            "type": "surface"
           }
          ],
          "table": [
           {
            "cells": {
             "fill": {
              "color": "#EBF0F8"
             },
             "line": {
              "color": "white"
             }
            },
            "header": {
             "fill": {
              "color": "#C8D4E3"
             },
             "line": {
              "color": "white"
             }
            },
            "type": "table"
           }
          ]
         },
         "layout": {
          "annotationdefaults": {
           "arrowcolor": "#2a3f5f",
           "arrowhead": 0,
           "arrowwidth": 1
          },
          "autotypenumbers": "strict",
          "coloraxis": {
           "colorbar": {
            "outlinewidth": 0,
            "ticks": ""
           }
          },
          "colorscale": {
           "diverging": [
            [
             0,
             "#8e0152"
            ],
            [
             0.1,
             "#c51b7d"
            ],
            [
             0.2,
             "#de77ae"
            ],
            [
             0.3,
             "#f1b6da"
            ],
            [
             0.4,
             "#fde0ef"
            ],
            [
             0.5,
             "#f7f7f7"
            ],
            [
             0.6,
             "#e6f5d0"
            ],
            [
             0.7,
             "#b8e186"
            ],
            [
             0.8,
             "#7fbc41"
            ],
            [
             0.9,
             "#4d9221"
            ],
            [
             1,
             "#276419"
            ]
           ],
           "sequential": [
            [
             0,
             "#0d0887"
            ],
            [
             0.1111111111111111,
             "#46039f"
            ],
            [
             0.2222222222222222,
             "#7201a8"
            ],
            [
             0.3333333333333333,
             "#9c179e"
            ],
            [
             0.4444444444444444,
             "#bd3786"
            ],
            [
             0.5555555555555556,
             "#d8576b"
            ],
            [
             0.6666666666666666,
             "#ed7953"
            ],
            [
             0.7777777777777778,
             "#fb9f3a"
            ],
            [
             0.8888888888888888,
             "#fdca26"
            ],
            [
             1,
             "#f0f921"
            ]
           ],
           "sequentialminus": [
            [
             0,
             "#0d0887"
            ],
            [
             0.1111111111111111,
             "#46039f"
            ],
            [
             0.2222222222222222,
             "#7201a8"
            ],
            [
             0.3333333333333333,
             "#9c179e"
            ],
            [
             0.4444444444444444,
             "#bd3786"
            ],
            [
             0.5555555555555556,
             "#d8576b"
            ],
            [
             0.6666666666666666,
             "#ed7953"
            ],
            [
             0.7777777777777778,
             "#fb9f3a"
            ],
            [
             0.8888888888888888,
             "#fdca26"
            ],
            [
             1,
             "#f0f921"
            ]
           ]
          },
          "colorway": [
           "#636efa",
           "#EF553B",
           "#00cc96",
           "#ab63fa",
           "#FFA15A",
           "#19d3f3",
           "#FF6692",
           "#B6E880",
           "#FF97FF",
           "#FECB52"
          ],
          "font": {
           "color": "#2a3f5f"
          },
          "geo": {
           "bgcolor": "white",
           "lakecolor": "white",
           "landcolor": "#E5ECF6",
           "showlakes": true,
           "showland": true,
           "subunitcolor": "white"
          },
          "hoverlabel": {
           "align": "left"
          },
          "hovermode": "closest",
          "mapbox": {
           "style": "light"
          },
          "paper_bgcolor": "white",
          "plot_bgcolor": "#E5ECF6",
          "polar": {
           "angularaxis": {
            "gridcolor": "white",
            "linecolor": "white",
            "ticks": ""
           },
           "bgcolor": "#E5ECF6",
           "radialaxis": {
            "gridcolor": "white",
            "linecolor": "white",
            "ticks": ""
           }
          },
          "scene": {
           "xaxis": {
            "backgroundcolor": "#E5ECF6",
            "gridcolor": "white",
            "gridwidth": 2,
            "linecolor": "white",
            "showbackground": true,
            "ticks": "",
            "zerolinecolor": "white"
           },
           "yaxis": {
            "backgroundcolor": "#E5ECF6",
            "gridcolor": "white",
            "gridwidth": 2,
            "linecolor": "white",
            "showbackground": true,
            "ticks": "",
            "zerolinecolor": "white"
           },
           "zaxis": {
            "backgroundcolor": "#E5ECF6",
            "gridcolor": "white",
            "gridwidth": 2,
            "linecolor": "white",
            "showbackground": true,
            "ticks": "",
            "zerolinecolor": "white"
           }
          },
          "shapedefaults": {
           "line": {
            "color": "#2a3f5f"
           }
          },
          "ternary": {
           "aaxis": {
            "gridcolor": "white",
            "linecolor": "white",
            "ticks": ""
           },
           "baxis": {
            "gridcolor": "white",
            "linecolor": "white",
            "ticks": ""
           },
           "bgcolor": "#E5ECF6",
           "caxis": {
            "gridcolor": "white",
            "linecolor": "white",
            "ticks": ""
           }
          },
          "title": {
           "x": 0.05
          },
          "xaxis": {
           "automargin": true,
           "gridcolor": "white",
           "linecolor": "white",
           "ticks": "",
           "title": {
            "standoff": 15
           },
           "zerolinecolor": "white",
           "zerolinewidth": 2
          },
          "yaxis": {
           "automargin": true,
           "gridcolor": "white",
           "linecolor": "white",
           "ticks": "",
           "title": {
            "standoff": 15
           },
           "zerolinecolor": "white",
           "zerolinewidth": 2
          }
         }
        },
        "title": {
         "text": "t-SNE Visualization of Node Embeddings"
        },
        "width": 1000,
        "xaxis": {
         "anchor": "y",
         "domain": [
          0,
          1
         ],
         "title": {
          "text": "x"
         }
        },
        "yaxis": {
         "anchor": "x",
         "domain": [
          0,
          1
         ],
         "title": {
          "text": "y"
         }
        }
       }
      }
     },
     "metadata": {},
     "output_type": "display_data"
    }
   ],
   "source": [
    "# -------------------------------\n",
    "# Step 1: Extract embeddings and node info from the graph\n",
    "# -------------------------------\n",
    "embedding_list = []  # List to store embedding vectors\n",
    "node_ids = []        # List to store node IDs\n",
    "node_types = []      # List to store node types (e.g., article, chunk, etc.)\n",
    "node_categories = [] \n",
    "node_authors = [] \n",
    "node_sources = [] \n",
    "\n",
    "# Iterate over all nodes in the graph G\n",
    "for node, data in G.nodes(data=True):\n",
    "    if \"embedding\" in data:\n",
    "        embedding_list.append(data[\"embedding\"])\n",
    "        node_ids.append(node)\n",
    "        node_types.append(data.get(\"type\", \"unknown\"))\n",
    "        node_categories.append(data.get(\"category\", \"unknown\"))\n",
    "        node_authors.append(data.get(\"author\", \"unknown\"))\n",
    "        node_sources.append(data.get(\"source\", \"unknown\"))\n",
    "\n",
    "\n",
    "# Check how many embeddings were extracted\n",
    "print(f\"Extracted embeddings from {len(embedding_list)} nodes.\")\n",
    "\n",
    "# -------------------------------\n",
    "# Step 2: Convert embeddings to a numpy array\n",
    "# -------------------------------\n",
    "embeddings_array = np.array(embedding_list)\n",
    "print(f\"Embeddings array shape: {embeddings_array.shape}\")\n",
    "\n",
    "# -------------------------------\n",
    "# Step 3: Apply t-SNE to reduce the embeddings to 2D\n",
    "# -------------------------------\n",
    "tsne = TSNE(n_components=2, random_state=42, perplexity=1000)\n",
    "embeddings_2d = tsne.fit_transform(embeddings_array)\n",
    "print(\"t-SNE transformation complete.\")\n",
    "\n",
    "# -------------------------------\n",
    "# Step 4: Create a DataFrame with the 2D coordinates and node information\n",
    "# -------------------------------\n",
    "df_tsne = pd.DataFrame(embeddings_2d, columns=['x', 'y'])\n",
    "df_tsne['node_id'] = node_ids\n",
    "df_tsne['node_type'] = node_types\n",
    "df_tsne['category'] = node_categories \n",
    "df_tsne['author'] = node_authors\n",
    "df_tsne['source'] = node_sources \n",
    "\n",
    "# -------------------------------\n",
    "# Step 5: Create an interactive scatter plot using Plotly\n",
    "# -------------------------------\n",
    "color_map = {\n",
    "    \"article\": \"blue\",\n",
    "    \"author\": \"red\",\n",
    "    \"source\": \"green\",\n",
    "    \"category\": \"orange\",\n",
    "    \"chunk\": \"purple\"\n",
    "}\n",
    "\n",
    "fig = px.scatter(\n",
    "    df_tsne,\n",
    "    x='x',\n",
    "    y='y',\n",
    "    color='node_type',\n",
    "    color_discrete_map=color_map,\n",
    "    hover_data=['node_id', 'node_type', 'category', 'author', 'source'],\n",
    "    title=\"t-SNE Visualization of Node Embeddings\",\n",
    "    width=1000,\n",
    "    height=1000\n",
    ")\n",
    "fig.show()\n"
   ]
  }
 ],
 "metadata": {
  "kernelspec": {
   "display_name": "Python 3",
   "language": "python",
   "name": "python3"
  },
  "language_info": {
   "codemirror_mode": {
    "name": "ipython",
    "version": 3
   },
   "file_extension": ".py",
   "mimetype": "text/x-python",
   "name": "python",
   "nbconvert_exporter": "python",
   "pygments_lexer": "ipython3",
   "version": "3.12.9"
  }
 },
 "nbformat": 4,
 "nbformat_minor": 2
}
