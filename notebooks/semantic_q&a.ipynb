{
 "cells": [
  {
   "cell_type": "markdown",
   "metadata": {},
   "source": [
    "## ChromaDB + Ollama"
   ]
  },
  {
   "cell_type": "code",
   "execution_count": 1,
   "metadata": {},
   "outputs": [],
   "source": [
    "#!pip install chromadb==0.5.23\n",
    "# !pip install ollama==0.4.7"
   ]
  },
  {
   "cell_type": "code",
   "execution_count": 29,
   "metadata": {},
   "outputs": [],
   "source": [
    "import os\n",
    "import sys\n",
    "import pickle\n",
    "import chromadb\n",
    "import torch\n",
    "from chromadb import Documents, EmbeddingFunction, Embeddings\n",
    "from ollama import Client\n",
    "import numpy as np\n",
    "from scipy.spatial.distance import cosine\n",
    "\n",
    "# Add \"src\" path to Python path\n",
    "sys.path.append(os.path.abspath(\"../src\"))\n",
    "\n",
    "# Import custom embedding function\n",
    "from embedding_utils import get_ollama_embedding\n",
    "from sage_utils import get_new_sage_embedding\n",
    "from graphsage import GraphSAGE\n"
   ]
  },
  {
   "cell_type": "code",
   "execution_count": 25,
   "metadata": {},
   "outputs": [],
   "source": [
    "# Load graph\n",
    "with open(\"../data/multihop_graph_w_sage100_embeddings.pkl\", \"rb\") as f:\n",
    "    G = pickle.load(f)\n",
    "\n",
    "# Load raw entities (for article summaries retrieval)\n",
    "with open('../data/multihop_dataset_raw_entities.pkl', 'rb') as f:\n",
    "    raw_entities = pickle.load(f)"
   ]
  },
  {
   "cell_type": "code",
   "execution_count": 3,
   "metadata": {},
   "outputs": [
    {
     "data": {
      "text/plain": [
       "dict_keys(['type', 'embedding', 'SAGE_embedding'])"
      ]
     },
     "execution_count": 3,
     "metadata": {},
     "output_type": "execute_result"
    }
   ],
   "source": [
    "G.nodes[\"Sam Altman_PER\"].keys()"
   ]
  },
  {
   "cell_type": "code",
   "execution_count": 4,
   "metadata": {},
   "outputs": [],
   "source": [
    "# Instantiate client\n",
    "chroma_client = chromadb.Client()"
   ]
  },
  {
   "cell_type": "code",
   "execution_count": 6,
   "metadata": {},
   "outputs": [],
   "source": [
    "#chroma_client.delete_collection(\"semantic_rag\")\n",
    "#chroma_client.delete_collection(\"SAGE_rag\")"
   ]
  },
  {
   "cell_type": "code",
   "execution_count": 5,
   "metadata": {},
   "outputs": [],
   "source": [
    "# Create a collection\n",
    "collection_semrag = chroma_client.create_collection(name=\"semantic_rag\")\n",
    "\n",
    "# Iterate over the nodes and filter those with type \"chunk\"\n",
    "for node_id in G.nodes:\n",
    "    node_data = G.nodes[node_id]\n",
    "    if node_data.get(\"type\") == \"chunk\":\n",
    "        doc_text = node_data.get(\"text\", \"\")\n",
    "        doc_embedding = node_data.get(\"embedding\", None)\n",
    "        \n",
    "        # Ensure that doc_embedding is a list (or array) of floats\n",
    "        # Add the node to the collection by specifying IDs, documents, and embeddings\n",
    "        collection_semrag.add(\n",
    "            ids=[str(node_id)],         # The ID will be the node's ID (converted to a string)\n",
    "            documents=[doc_text],         # The node's text\n",
    "            embeddings=[doc_embedding]    # The precomputed embedding you already have\n",
    "        )"
   ]
  },
  {
   "cell_type": "code",
   "execution_count": 6,
   "metadata": {},
   "outputs": [],
   "source": [
    "# Create a collection\n",
    "collection_SAGErag = chroma_client.create_collection(name=\"SAGE_naive_rag\")\n",
    "\n",
    "# Iterate over the nodes and filter those with type \"chunk\"\n",
    "for node_id in G.nodes:\n",
    "    node_data = G.nodes[node_id]\n",
    "    if node_data.get(\"type\") == \"chunk\":\n",
    "        doc_text = node_data.get(\"text\", \"\")\n",
    "        doc_embedding = node_data.get(\"SAGE_embedding\", None)\n",
    "        \n",
    "        # Ensure that doc_embedding is a list (or array) of floats\n",
    "        # Add the node to the collection by specifying IDs, documents, and embeddings\n",
    "        collection_SAGErag.add(\n",
    "            ids=[str(node_id)],         # The ID will be the node's ID (converted to a string)\n",
    "            documents=[doc_text],         # The node's text\n",
    "            embeddings=[doc_embedding]    # The precomputed embedding you already have\n",
    "        )"
   ]
  },
  {
   "cell_type": "code",
   "execution_count": 7,
   "metadata": {},
   "outputs": [],
   "source": [
    "# All nodes indexed\n",
    "\n",
    "# Create a collection\n",
    "collection_SAGEmixedrag = chroma_client.create_collection(name=\"SAGE_mixed_rag\")\n",
    "\n",
    "# Iterate over the nodes adding them to the collection\n",
    "for node_id in G.nodes:\n",
    "    node_data = G.nodes[node_id]\n",
    "    doc_embedding = node_data.get(\"SAGE_embedding\", None)\n",
    "        \n",
    "    # Ensure that doc_embedding is a list (or array) of floats\n",
    "    # Add the node to the collection by specifying IDs, and embeddings\n",
    "    collection_SAGEmixedrag.add(\n",
    "        ids=[str(node_id)],         # The ID will be the node's ID (converted to a string)\n",
    "        embeddings=[doc_embedding]    # The precomputed embedding you already have\n",
    "        )"
   ]
  },
  {
   "cell_type": "code",
   "execution_count": 8,
   "metadata": {},
   "outputs": [
    {
     "name": "stdout",
     "output_type": "stream",
     "text": [
      "Modelo cargado exitosamente\n"
     ]
    }
   ],
   "source": [
    "# Define el modelo (debe tener la misma arquitectura que el modelo guardado)\n",
    "model = GraphSAGE(in_channels=1024,   # Input features (BGE-M3 embeddings)\n",
    "    hidden_channels=512,  # First hidden layer (alto para máxima capacidad)\n",
    "    out_channels=256,   # Output embeddings (más ricos)\n",
    "    num_layers=2)  # Reemplaza con la clase de tu modelo\n",
    "model.load_state_dict(torch.load(\"../data/graphsage_100_model.pth\"))\n",
    "model.eval()  # Cambia el modelo a modo de evaluación\n",
    "\n",
    "print(\"Modelo cargado exitosamente\")\n"
   ]
  },
  {
   "cell_type": "code",
   "execution_count": 9,
   "metadata": {},
   "outputs": [],
   "source": [
    "# Set device for model inference\n",
    "device = torch.device(\"cuda\" if torch.cuda.is_available() else \"cpu\")\n",
    "\n",
    "# Move the model to the device\n",
    "model = model.to(device)"
   ]
  },
  {
   "cell_type": "code",
   "execution_count": 10,
   "metadata": {},
   "outputs": [],
   "source": [
    "# Suppose you have a query embedding 'query_embedding'\n",
    "query = \"Some query here\"\n",
    "query=\"Who is the individual associated with the cryptocurrency industry facing a criminal trial on fraud and conspiracy charges, as reported by both The Verge and TechCrunch, and is accused by prosecutors of committing fraud for personal gain?\"\n",
    "query_bgem3 = get_ollama_embedding(query)[\"embedding\"]\n",
    "query_sage = get_new_sage_embedding(model=model, new_feature=torch.tensor(query_bgem3, dtype=torch.float32).reshape(1024), device=device)"
   ]
  },
  {
   "cell_type": "code",
   "execution_count": 11,
   "metadata": {},
   "outputs": [],
   "source": [
    "query_sage = np.array(query_sage.cpu())"
   ]
  },
  {
   "cell_type": "code",
   "execution_count": 12,
   "metadata": {},
   "outputs": [
    {
     "name": "stdout",
     "output_type": "stream",
     "text": [
      "{'ids': [['31_chunk_1', '374_chunk_1', '10_chunk_1', '529_chunk_1', '53_chunk_2']], 'embeddings': None, 'documents': [['On Nov. 8, in the crypto exchange’s final few days, he tried to pull out his cash and crypto. How much? Almost $100,000, he said. And was he ever able to? “Never,” he told prosecutors.\\n\\nShortly afterward, as the trial neared late afternoon, the government called Adam Yedidia to the stand. A fast-talking graduate of MIT, he and Bankman-Fried were close friends in college, he said. And after Bankman-Fried left Jane Street, the high-frequency trading firm where the former billionaire got his start in finance after MIT, he persuaded Yedidia to join him as a trader at Alameda and then as a developer at FTX.\\n\\nWhen Yedidia first took the stand, Danielle Sassoon, one of the lead prosecutors, said that the college friend of Bankman-Fried had legal immunity during his testimony. Why did he make such a deal with the government, she asked.\\n\\n“I was concerned that I had unwittingly written code that contributed to a crime,” he said.\\n\\nSoon, however, the clock neared 4:30 p.m., and court adjourned for the day. Yedidia will continue his testimony on Thursday, followed by Matt Huang, a former partner at the high-powered venture capital firm Sequoia Capital, and then Gary Wang, a key Bankman-Fried lieutenant and one of the government’s star witnesses.', 'In late March the U.S. CFTC also filed a suit against Binance, Zhao and its Chief Compliance Officer Samuel Lim for allegedly breaking trading and derivatives rules.\\n\\nBinance has made headlines this past year for a range of reasons, including Zhao’s comments contributing to the collapse of FTX, which was once one of its top competitors. In April, Binance.US, its American sister company, broke off its $1.3 billion deal to buy crypto broker Voyager Digital’s assets due to a “hostile and uncertain regulatory climate.”\\n\\nIn August, Checkout.com cut ties with Binance over concerns about the crypto firm’s alleged issues with anti-money laundering, sanctions and compliance controls. At the time, Binance’s spokesperson said it does not agree with “Checkout’s purported basis for termination and are considering our options for legal action.”\\n\\nThe article has been updated to reflect the latest developments on charges against Binance and Zhao and include the former CEO’s statement.', 'The crypto industry as a whole suffered from FTX’s collapse, which was the first of many. BlockFi filed for Chapter 11 in November 2022, as did Genesis Global Trading in January.\\n\\nWhere we are today\\n\\nBankman-Fried will be represented by Cohen & Gresser, and Mark Cohen, a high-profile defense attorney and former federal prosecutor, will be the lead attorney. If that name sounds familiar, it might be because he also represented Ghislaine Maxwell in her sex trafficking trial related to Jeffrey Epstein. He requested an early release for Bankman-Fried but was denied.\\n\\nWith the trial beginning, we’re witnessing how FTX’s story ends. But what’s on our mind is what happens to the investors and creditors affected by the collapse? And what happens to the billions in crypto assets tied up in legal proceedings?', 'James’ lawsuit is one of several legal headaches for Trump as he campaigns for a return to the White House in 2024. He has been indicted four times in the last six months — accused in Georgia and Washington, D.C., of plotting to overturn his 2020 election loss, in Florida of hoarding classified documents, and in Manhattan of falsifying business records related to hush money paid on his behalf.\\n\\nThe Trump Organization was convicted of tax fraud last year in an unrelated criminal case for helping executives dodge taxes on extravagant perks such as Manhattan apartments and luxury cars. The company was fined $1.6 million. One of the executives, Trump’s longtime finance chief Allen Weisselberg, pleaded guilty and served five months in jail. He is a defendant in James’ lawsuit and gave sworn deposition testimony for the case in May.\\n\\nJames’ lawsuit does not carry the potential of prison time, but could complicate his ability to transact real estate deals. It could also stain his legacy as a developer.\\n\\nJames has asked Engoron to ban Trump and his three eldest children from ever again running a company based New York. She also wants Trump and the Trump Organization barred from entering into commercial real estate acquisitions for five years, among other sanctions. The $250 million in penalties she is seeking is the estimated worth of benefits derived from the alleged fraud, she said.\\n\\nJames, who campaigned for office as a Trump critic and watchdog, started scrutinizing his business practices in March 2019 after his former personal lawyer Michael Cohen testified to Congress that Trump exaggerated his wealth on financial statements provided to Deutsche Bank while trying to obtain financing to buy the NFL’s Buffalo Bills.\\n\\nJames’ office previously sued Trump for misusing his own charitable foundation to further his political and business interests. Trump was ordered to pay $2 million to an array of charities as a fine and the charity, the Trump Foundation, was shut down.', 'Besides the two obvious lies Bankman-Fried told on the stand — about Alameda Research’s name and about “allow_negative” — I have been struck by how little he seems to know about his own companies. Apparently, Singh, Wang, and Ellison were out there just doing whatever their little hearts desired. Because Bankman-Fried was a CEO, but definitely not the kind that pays any attention to money at his crypto trading firm and futures exchange.']], 'uris': None, 'data': None, 'metadatas': [[None, None, None, None, None]], 'distances': [[605.3785400390625, 634.1463012695312, 649.552001953125, 679.3035888671875, 732.6005859375]], 'included': [<IncludeEnum.distances: 'distances'>, <IncludeEnum.documents: 'documents'>, <IncludeEnum.metadatas: 'metadatas'>]}\n"
     ]
    }
   ],
   "source": [
    "# Query the collection (semantic)\n",
    "sem_results = collection_semrag.query(\n",
    "    query_embeddings=[query_bgem3],\n",
    "    n_results=5\n",
    ")\n",
    "\n",
    "print(sem_results)"
   ]
  },
  {
   "cell_type": "code",
   "execution_count": 13,
   "metadata": {},
   "outputs": [
    {
     "name": "stdout",
     "output_type": "stream",
     "text": [
      "{'ids': [['31_chunk_1', '175_chunk_0', '30_chunk_1', '53_chunk_2', '30_chunk_0']], 'embeddings': None, 'documents': [['On Nov. 8, in the crypto exchange’s final few days, he tried to pull out his cash and crypto. How much? Almost $100,000, he said. And was he ever able to? “Never,” he told prosecutors.\\n\\nShortly afterward, as the trial neared late afternoon, the government called Adam Yedidia to the stand. A fast-talking graduate of MIT, he and Bankman-Fried were close friends in college, he said. And after Bankman-Fried left Jane Street, the high-frequency trading firm where the former billionaire got his start in finance after MIT, he persuaded Yedidia to join him as a trader at Alameda and then as a developer at FTX.\\n\\nWhen Yedidia first took the stand, Danielle Sassoon, one of the lead prosecutors, said that the college friend of Bankman-Fried had legal immunity during his testimony. Why did he make such a deal with the government, she asked.\\n\\n“I was concerned that I had unwittingly written code that contributed to a crime,” he said.\\n\\nSoon, however, the clock neared 4:30 p.m., and court adjourned for the day. Yedidia will continue his testimony on Thursday, followed by Matt Huang, a former partner at the high-powered venture capital firm Sequoia Capital, and then Gary Wang, a key Bankman-Fried lieutenant and one of the government’s star witnesses.', 'The trial of Sam Bankman-Fried is likely to be more consequential than just whether the man himself is found guilty. Depending on what evidence is introduced during the trial, it could be rough for the entire crypto industry.\\n\\n“How much damage can this trial do to the already beaten-down reputation of the industry at this point?” asks Yesha Yadav, a law professor at Vanderbilt University. “This trial is going to be an excruciating moment for the industry because no one knows what kind of evidence might come out.”\\n\\nBankman-Fried, the founder of FTX and Alameda Research, is facing seven counts of criminal charges: two counts of wire fraud, and five counts of conspiracy charges. FTX was a failed cryptocurrency exchange founded in 2019. According to a now-deleted profile from FTX investors Sequoia Capital, FTX was founded because of Bankman-Fried’s frustration with other exchanges when he was running Alameda Research, his crypto trading firm. According to the SEC, FTX was a fraud “from the start,” diverting customers’ funds to Alameda.\\n\\nSam Bankman-Fried, the founder of failed cryptocurrency exchange FTX, is on trial for seven counts of wire fraud and conspiracy. FTX was a fraud “from the start,” the Securities and Exchange Commission alleges — with a “multi-billion-dollar deficiency caused by his own misappropriation of customer funds.” Follow along for all the latest news and regular updates from the trial.\\n\\n“Really just old-fashioned embezzlement.”\\n\\nWhat’s left of FTX is now being led by John J. Ray III — you may remember him as the guy who cleaned up Enron and who also said FTX is worse than Enron. Just before the trial began, the FTX lawyers filed suit against Bankman-Fried’s parents, saying they should give back millions of dollars they got from their kid. Ray has also referred to Bankman-Fried’s conduct as “really just old-fashioned embezzlement.”\\n\\nWe have some inkling of what the government will be arguing thanks to the filings prosecutors are making in this case. They argue that Bankman-Fried lied about consumer protection and that Bankman-Fried’s statements that FTX was “avoiding or managing conflicts of interest” and that “as a general principle FTX segregates customer assets from its own assets across our platforms” were lies, in a superseding indictment filed August 14th.\\n\\nThe indictment also says that there were special features in FTX’s code that “permitted Alameda to spend and withdraw unlimited amounts of money from FTX,” which were created at Bankman-Fried’s direction. That effectively exempted Alameda from the kinds of risk management other customers faced. At the same time, the government alleges, “Bankman-Fried publicly and repeatedly asserted that Alameda did not have privileged access to FTX.”\\n\\nBankman-Fried is accused of using “billions of dollars in misappropriated FTX customer deposits” to help buy more than $200 million of real estate for himself, make billions of dollars of investments for his own interest, and repay Alameda’s lenders, according to the indictment, Additionally, Bankman-Fried allegedly used more than $100 million of customer funds to make political contributions; prosecutors can show evidence of those contributions in this trial, even though they aren’t part of the charges brought. A second trial is scheduled for March 2024, with additional charges.\\n\\nBefore his fall, Bankman-Fried made himself out to be the Good Boy of crypto — the trustworthy face of a sometimes-shady industry. He was also very interested in publicity, sitting for many interviews both before and after the fall of FTX. The quick rise of FTX as an industry force was at least in part due to Bankman-Fried’s appetite for attention. Here are the hits:\\n\\nBankman-Fried gave interviews freely — and quickly rose to public prominence in the industry. Though FTX hadn’t been in the business as long as competing exchanges such as Coinbase, Kraken, or Gemini, Bankman-Fried positioned himself as an important, boyish face for crypto. (At one point, Bankman-Fried told a colleague at FTX that “I honestly think it’s negative EV [this may mean “expected value,” as in poker] for me to cut my hair. I think it’s important for people to think I look crazy.”)\\n\\nBecause he was so successful at this kind of public relations, his fall from grace was another mark against an industry that was already roiled by bankruptcies and scandals. Some additional trouble for the crypto industry is likely to come from one crucial element of the fraud trial — the part where the government must prove intent.\\n\\nThe first part of proving the government’s case is pretty simple and a little boring: prosecutors must show that certain transactions took place. Whatever records the Southern District of New York has for the transactions will be shown.\\n\\n“What conversations happened between him and his co-conspirators that are now cooperating against him?”', \"And lest you think Biden and the Democrats have their hands clean of SBF… think again: He also looked to back candidates on that side of the aisle. You never know when you might need a friend!\\n\\nThe hard crash\\n\\nAll of that activity, of course, came to a crashing end: The value of cryptocurrencies on FTX was not banked to much more than speculation and the promise of higher value, and so when those valuations fell, they fell very, very hard.\\n\\nWhat we already knew was that SBF has been denied bail; his name is mud (or much worse) among those who have lost money in Alameda or FTX; and those who might not have had positions in these still blame him for other crypto woes because he set off a ripple effect.\\n\\n“He doesn’t come off good at all here. You can tell he had no experience in management or handling such big undertakings. I think he was in way over his head,” Ayelet Noff, the CEO and founder of public relations firm Sliced Brand, which represents a number of cryptocurrency businesses, told TechCrunch. “I think he does a disservice to the whole community. He pushed back crypto adoption by at least a year or two. Each time one of these things happens it brings back the whole market. It’s two steps forward and one step back.”\\n\\nThe Michael Lewis interview is infuriating. SBF was a scumbag, and now we need to hear about his “tragic fall” in the MSM because Sam told them he was an “effective altruist” and people like Michael Lewis were so far up his ass they couldn’t tell truth from fiction. — Ryan Selkis 🪳 (@twobitidiot) October 2, 2023\\n\\nShameful that Michael Lewis is defending SBF. “They had a great real business. If no one had cast aspersions on the business, if there hadn’t been a run on customers deposits, they’d still be making tons of money” – Michael Lewis That's not true. They are not a bank, they're… pic.twitter.com/vRKBbgzITe — Dan Held (@danheld) October 2, 2023\\n\\nBut even so, Noff is defensive: She also believes crypto is no worse than the stock market, which can also be manipulated and mishandled.\\n\\n“Even when you identify corruption, I don’t think that means we don’t believe in the system in question,” she added.\\n\\nYet Lewis’s picture is a little less stark from the looks of the 60 Minutes episode. In fact, I’d say it’s not that clear at all if SBF is getting a kicking or a coat of polish in this interview when you consider Lewis’s celebration of SBF’s self-proclaimed (yet not quite proven) idealism, and the “Bankman-Fried-shaped hold in the world” that exists.\\n\\nYou could say that confused message is very apt for cryptocurrency, where the process by which it works is forever murky and often misrepresented, at least to most people.\\n\\nIf SBF didn’t intentionally aim to cynically defraud a bunch of people, in the long run he became one of the many who disastrously failed to manage the risk inherent in crypto speculation. That’s ultimately what happened with FTX, as financial discrepancies racked up between the exchange and its sister company Alameda Research (a trader itself on the platform). The failure is indisputable: The jury will now have to decide how criminal, and how far, his intentions were around that.\", 'Besides the two obvious lies Bankman-Fried told on the stand — about Alameda Research’s name and about “allow_negative” — I have been struck by how little he seems to know about his own companies. Apparently, Singh, Wang, and Ellison were out there just doing whatever their little hearts desired. Because Bankman-Fried was a CEO, but definitely not the kind that pays any attention to money at his crypto trading firm and futures exchange.', 'Come Tuesday, our eyes will be trained on the Manhattan Federal Court for the trial of Sam Bankman-Fried, the disgraced cryptocurrency entrepreneur accused of orchestrating “one of the biggest financial frauds in American history”: the multibillion-dollar collapse of FTX, the crypto exchange he founded and led.\\n\\nSBF, as he’s known, has pleaded not-guilty to some seven charges of fraud and conspiracy. But, as we wait to hear both his version and the government’s version of what happened, there will be another tale recounting how things played out: “Going Infinite,” a book by Michael Lewis chronicling the rise and fall of SBF, is set to debut on the first day of the trial.\\n\\nThe episode has fired up a lot of people, indignant at what they feel was too-easy treatment for someone who many believe brought down the whole crypto house.\\n\\n60 Minutes got rightly community noted here. How is it that SBF is _still_ getting super positive media coverage when the media has nothing good to say about the founders that have actually created things and brought value into the world? https://t.co/VPV1ORVHqf — tobi lutke (@tobi) October 2, 2023\\n\\nThe germination of “Going Infinite” sounds as unlikely as the story of SBF himself.\\n\\nIn an interview broadcast yesterday on 60 Minutes, Lewis, the famed chronicler of financial adventure and misadventure — his books include “Liar’s Poker,” “Moneyball” and “The Big Short” — said that he didn’t set out to write a book about SBF. Rather, Lewis claims he was introduced to him in early 2021 by a friend who wanted to back FTX. Before any financial commitment, that friend asked Lewis to meet the young billionaire — both lived in Berkeley — to “evaluate his character.”\\n\\nNo, we don’t find out who that friend is, nor do we find out if that particular investment was ever made — SBF did raise some $2 billion, including $1 billion in 2021, from backers that included Sequoia, Temasek, Tiger Global and dozens more.\\n\\nBut we do find out that another investment, of sorts, was made on that day: Lewis himself was so taken with the idea of SBF and his apparent brilliance that he came away with the decision to write about him.\\n\\n“Eighteen months earlier, he had nothing. Now he had $22.5 billion. He was the richest person in the world under 30 [and] he was going to spend it to save humanity from extinction,” he said. “My jaw was on the floor.”\\n\\nThe two proceeded to meet more than 100 times over the next two years. As SBF’s fame and his company’s bank account grew, 60 Minutes itself even got involved. The program shot (and it shows here) one segment with SBF talking as he shuffles cards with his leg twitching nervously behind his desk (why? we don’t find this out, either) as Lewis, with a flourish of his pen and a look of concentration on his face, dashes off notes on his yellow legal pad.\\n\\nLater in the show, you get other behind-the-scenes, unnerving glimpses of how the wizard operated behind the curtain. For instance, Lewis recounts how he was in the room when SBF made his first television appearance.\\n\\n“If you watch the clip, you’ll see his eyes going back and forth,” he said. “It’s because he’s trying to win his video game at the same time he’s on the air.”\\n\\n“If you watch the clip, you’ll see his eyes going back and forth. It’s because he’s trying to win his video game at the same time he’s on the air.” Michael Lewis\\n\\nFriendships and lucrative marketing deals followed, with sports icons like Tom Brady (who was paid $55 million) and Steph Curry ($35 million) to “lend FTX legitimacy and edge.” Even Anna Wintour, the icy fashion doyenne, was in contact: She reached out, over what must have been a hell of a Zoom meeting, to ask SBF — whose preferred get-up is/was wildly curly hair, t-shirts and cargo shorts — to sponsor her very fancy Met Costume Ball. Desperate times!\\n\\nAs trades on FTX climbed up to $15 billion/day, SBF, of course, also got tied up in the corridors of political power.\\n\\nLewis said that he met with the young crypto king ahead of him seeing Mitch McConnell to discuss how he could fund political candidates who were looking to offset Trump’s influence in the Republican Party. We find out that the gravitational pull of cargo shorts was a tough one to pull away from: The suit SBF brought to wear to the McConnell meeting was tightly balled up under his arm with his dress shoes falling out of the middle of the bundle. We’ve all been there, Sam. (Well, perhaps not Anna.)\\n\\nLewis also claimed that SBF had concocted a plan to buy off Trump, to get him not to run again for president.\\n\\n“Like how much would it take to get an answer?” Lewis recounted. “There was a number that was kicking around… this was $5 billion.” He said that Sam was never sure whether that figure came directly from Trump. And no, we don’t find out if he ever did wire anything to camp Trump. That would be a wonderful detail to get teased out in the trial, though.']], 'uris': None, 'data': None, 'metadatas': [[None, None, None, None, None]], 'distances': [[19.041818618774414, 21.75433921813965, 22.169174194335938, 22.378860473632812, 22.424026489257812]], 'included': [<IncludeEnum.distances: 'distances'>, <IncludeEnum.documents: 'documents'>, <IncludeEnum.metadatas: 'metadatas'>]}\n"
     ]
    }
   ],
   "source": [
    "# Query the collection (SAGE naive)\n",
    "SAGE_naive_results = collection_SAGErag.query(\n",
    "    query_embeddings=[query_sage],\n",
    "    n_results=5\n",
    ")\n",
    "\n",
    "print(SAGE_naive_results)"
   ]
  },
  {
   "cell_type": "code",
   "execution_count": null,
   "metadata": {},
   "outputs": [
    {
     "name": "stdout",
     "output_type": "stream",
     "text": [
      "{'ids': [['175', '30', '10', 'Jacquelyn Melinek', '31']], 'embeddings': None, 'documents': [[None, None, None, None, None]], 'uris': None, 'data': None, 'metadatas': [[None, None, None, None, None]], 'distances': [[17.60219383239746, 17.62687110900879, 17.770408630371094, 17.940692901611328, 18.134260177612305]], 'included': [<IncludeEnum.distances: 'distances'>, <IncludeEnum.documents: 'documents'>, <IncludeEnum.metadatas: 'metadatas'>]}\n"
     ]
    }
   ],
   "source": [
    "# Query the collection (SAGE mixed)\n",
    "SAGE_mixed_results = collection_SAGEmixedrag.query(\n",
    "    query_embeddings=[query_sage],\n",
    "    n_results=5\n",
    ")\n",
    "\n",
    "print(SAGE_mixed_results) "
   ]
  },
  {
   "cell_type": "code",
   "execution_count": 32,
   "metadata": {},
   "outputs": [],
   "source": [
    "def top_k_similar_nodes(G, node_ids, query_sage, k=5):\n",
    "    \"\"\"\n",
    "    Given a list of node IDs from a graph G, compute cosine similarity between\n",
    "    each node's 'SAGE_embedding' and a reference embedding 'query_sage'.\n",
    "    Returns the IDs of the top K most similar nodes.\n",
    "\n",
    "    Parameters:\n",
    "        G (networkx.Graph): The graph.\n",
    "        node_ids (list): List of node IDs to compare.\n",
    "        query_sage (list or np.array): Reference embedding.\n",
    "        k (int): Number of top similar nodes to return.\n",
    "\n",
    "    Returns:\n",
    "        List of top K node IDs with highest cosine similarity to query_sage.\n",
    "    \"\"\"\n",
    "    similarities = []\n",
    "\n",
    "    for node_id in node_ids:\n",
    "        embedding = G.nodes[node_id].get(\"SAGE_embedding\")\n",
    "        if embedding is not None:\n",
    "            # scipy's cosine() returns distance, so we subtract from 1 to get similarity\n",
    "            sim = 1 - cosine(query_sage, embedding)\n",
    "            similarities.append((node_id, sim))\n",
    "\n",
    "    # Sort by similarity descending and return top K node IDs\n",
    "    top_k = sorted(similarities, key=lambda x: x[1], reverse=True)[:k]\n",
    "    return [node_id for node_id, _ in top_k]"
   ]
  },
  {
   "cell_type": "code",
   "execution_count": 39,
   "metadata": {},
   "outputs": [],
   "source": [
    "hop_0 = SAGE_mixed_results['ids'][0]  "
   ]
  },
  {
   "cell_type": "code",
   "execution_count": 41,
   "metadata": {},
   "outputs": [],
   "source": [
    "hop_0_articles = []\n",
    "hop_0_chunks = []  \n",
    "hop_0_PER = []\n",
    "hop_0_LOC = []\n",
    "hop_0_ORG = []   \n",
    "\n",
    "for hop_0_node in hop_0:\n",
    "\n",
    "    try:\n",
    "        hop_0_node = int(hop_0_node)\n",
    "    except:\n",
    "        pass  \n",
    "    \n",
    "    node_type = G.nodes[hop_0_node][\"type\"]  \n",
    "    if node_type == 'article':\n",
    "        hop_0_articles.append(hop_0_node)\n",
    "    elif node_type == 'chunk':\n",
    "        hop_0_chunks.append(hop_0_node)\n",
    "    elif node_type == 'entity_PER':\n",
    "        hop_0_PER.append(hop_0_node)\n",
    "    elif node_type == 'entity_LOC':\n",
    "        hop_0_LOC.append(hop_0_node)\n",
    "    elif node_type == 'entity_ORG':\n",
    "        hop_0_ORG.append(hop_0_node)"
   ]
  },
  {
   "cell_type": "code",
   "execution_count": 42,
   "metadata": {},
   "outputs": [
    {
     "name": "stdout",
     "output_type": "stream",
     "text": [
      "175\n",
      "30\n",
      "10\n",
      "Jacquelyn Melinek\n",
      "31\n",
      "['Elizabeth Lopatto', 'The Verge', 'technology', '175_chunk_0', '175_chunk_1', '175_chunk_2', 'Sam Bankman - Fried_PER', 'SBF_ORG', 'FTX_ORG', 'Caroline Ellison_PER', 'Gary Wang_PER', 'Alameda_ORG', 'Binance_ORG', 'Ingrid Lunden', 'TechCrunch', 'technology', '30_chunk_0', '30_chunk_1', 'Sam Bankman - Fried_PER', 'SBF_ORG', 'FTX_ORG', 'Alameda Research_ORG', 'Sam Bankman_PER', 'Fried_PER', 'Michael Lewis_PER', 'Trump_PER', 'Biden_PER', 'Jacquelyn Melinek', 'TechCrunch', 'technology', '10_chunk_0', '10_chunk_1', 'SBF_ORG', 'FTX_ORG', 'Alameda Research_ORG', 'Caroline Ellison_PER', 'Gary Wang_PER', 'Alameda_ORG', 'Sam Bankman_PER', 'Fried_PER', 'FTT_ORG', 'Binance_ORG', 'U. S._LOC', 'BlockFi_ORG', 10, 374, 465, 'technology', 'TechCrunch', 'Ben Weiss', 'Fortune', 'business', '31_chunk_0', '31_chunk_1', 'Sam Bankman - Fried_PER', 'FTX_ORG', 'Alameda Research_ORG', 'Caroline Ellison_PER', 'Gary Wang_PER', 'Alameda_ORG', 'Bankman - Fried_PER', 'Marc - Antoine Julliard_PER', 'Adam Yedidia_PER', 'Matt Huang_PER']\n"
     ]
    }
   ],
   "source": [
    "hop_1 = [] \n",
    "for similar_node in hop_0:\n",
    "    print(similar_node)\n",
    "\n",
    "    try:\n",
    "        similar_node = int(similar_node)\n",
    "    except:\n",
    "        pass  \n",
    "    \n",
    "    for neighbor in list(G.neighbors(similar_node)):\n",
    "        hop_1.append(neighbor)\n",
    "\n",
    "print(hop_1)"
   ]
  },
  {
   "cell_type": "code",
   "execution_count": 43,
   "metadata": {},
   "outputs": [],
   "source": [
    "hop_1_articles = []\n",
    "hop_1_chunks = []  \n",
    "hop_1_PER = []\n",
    "hop_1_LOC = []\n",
    "hop_1_ORG = []   \n",
    "\n",
    "for hop_1_node in hop_1:\n",
    "    node_type = G.nodes[hop_1_node][\"type\"]  \n",
    "    if node_type == 'article':\n",
    "        hop_1_articles.append(hop_1_node)\n",
    "    elif node_type == 'chunk':\n",
    "        hop_1_chunks.append(hop_1_node)\n",
    "    elif node_type == 'entity_PER':\n",
    "        hop_1_PER.append(hop_1_node)\n",
    "    elif node_type == 'entity_LOC':\n",
    "        hop_1_LOC.append(hop_1_node)\n",
    "    elif node_type == 'entity_ORG':\n",
    "        hop_1_ORG.append(hop_1_node)"
   ]
  },
  {
   "cell_type": "code",
   "execution_count": 44,
   "metadata": {},
   "outputs": [],
   "source": [
    "hop_1_articles_f = top_k_similar_nodes(G, hop_1_articles, query_sage, k=2)\n",
    "hop_1_chunks_f = top_k_similar_nodes(G, hop_1_chunks, query_sage, k=2)\n",
    "hop_1_PER_f = top_k_similar_nodes(G, hop_1_PER, query_sage, k=2)\n",
    "hop_1_LOC_f = top_k_similar_nodes(G, hop_1_LOC, query_sage, k=2)\n",
    "hop_1_ORG_f = top_k_similar_nodes(G, hop_1_ORG, query_sage, k=2)"
   ]
  },
  {
   "cell_type": "code",
   "execution_count": 45,
   "metadata": {},
   "outputs": [
    {
     "name": "stdout",
     "output_type": "stream",
     "text": [
      "{10, 175, 374, 30, 31}\n",
      "{'175_chunk_0', '31_chunk_1'}\n",
      "{'Sam Bankman - Fried_PER'}\n",
      "{'U. S._LOC'}\n",
      "{'SBF_ORG'}\n"
     ]
    }
   ],
   "source": [
    "hop_01_articles = set(hop_1_articles_f + hop_0_articles)\n",
    "hop_01_chunks = set(hop_1_chunks_f + hop_0_chunks)\n",
    "hop_01_PER = set(hop_1_PER_f + hop_0_PER)\n",
    "hop_01_LOC = set(hop_1_LOC_f + hop_0_LOC)\n",
    "hop_01_ORG = set(hop_1_ORG_f + hop_0_ORG)\n",
    "\n",
    "print(hop_01_articles)\n",
    "print(hop_01_chunks)\n",
    "print(hop_01_PER)\n",
    "print(hop_01_LOC)\n",
    "print(hop_01_ORG)"
   ]
  },
  {
   "cell_type": "code",
   "execution_count": 47,
   "metadata": {},
   "outputs": [
    {
     "data": {
      "text/plain": [
       "'The trial of Sam Bankman-Fried is likely to be more consequential than just whether the man himself is found guilty. Depending on what evidence is introduced during the trial, it could be rough for the entire crypto industry.\\n\\n“How much damage can this trial do to the already beaten-down reputation of the industry at this point?” asks Yesha Yadav, a law professor at Vanderbilt University. “This trial is going to be an excruciating moment for the industry because no one knows what kind of evidence might come out.”\\n\\nBankman-Fried, the founder of FTX and Alameda Research, is facing seven counts of criminal charges: two counts of wire fraud, and five counts of conspiracy charges. FTX was a failed cryptocurrency exchange founded in 2019. According to a now-deleted profile from FTX investors Sequoia Capital, FTX was founded because of Bankman-Fried’s frustration with other exchanges when he was running Alameda Research, his crypto trading firm. According to the SEC, FTX was a fraud “from the start,” diverting customers’ funds to Alameda.\\n\\nSam Bankman-Fried, the founder of failed cryptocurrency exchange FTX, is on trial for seven counts of wire fraud and conspiracy. FTX was a fraud “from the start,” the Securities and Exchange Commission alleges — with a “multi-billion-dollar deficiency caused by his own misappropriation of customer funds.” Follow along for all the latest news and regular updates from the trial.\\n\\n“Really just old-fashioned embezzlement.”\\n\\nWhat’s left of FTX is now being led by John J. Ray III — you may remember him as the guy who cleaned up Enron and who also said FTX is worse than Enron. Just before the trial began, the FTX lawyers filed suit against Bankman-Fried’s parents, saying they should give back millions of dollars they got from their kid. Ray has also referred to Bankman-Fried’s conduct as “really just old-fashioned embezzlement.”\\n\\nWe have some inkling of what the government will be arguing thanks to the filings prosecutors are making in this case. They argue that Bankman-Fried lied about consumer protection and that Bankman-Fried’s statements that FTX was “avoiding or managing conflicts of interest” and that “as a general principle FTX segregates customer assets from its own assets across our platforms” were lies, in a superseding indictment filed August 14th.\\n\\nThe indictment also says that there were special features in FTX’s code that “permitted Alameda to spend and withdraw unlimited amounts of money from FTX,” which were created at Bankman-Fried’s direction. That effectively exempted Alameda from the kinds of risk management other customers faced. At the same time, the government alleges, “Bankman-Fried publicly and repeatedly asserted that Alameda did not have privileged access to FTX.”\\n\\nBankman-Fried is accused of using “billions of dollars in misappropriated FTX customer deposits” to help buy more than $200 million of real estate for himself, make billions of dollars of investments for his own interest, and repay Alameda’s lenders, according to the indictment, Additionally, Bankman-Fried allegedly used more than $100 million of customer funds to make political contributions; prosecutors can show evidence of those contributions in this trial, even though they aren’t part of the charges brought. A second trial is scheduled for March 2024, with additional charges.\\n\\nBefore his fall, Bankman-Fried made himself out to be the Good Boy of crypto — the trustworthy face of a sometimes-shady industry. He was also very interested in publicity, sitting for many interviews both before and after the fall of FTX. The quick rise of FTX as an industry force was at least in part due to Bankman-Fried’s appetite for attention. Here are the hits:\\n\\nBankman-Fried gave interviews freely — and quickly rose to public prominence in the industry. Though FTX hadn’t been in the business as long as competing exchanges such as Coinbase, Kraken, or Gemini, Bankman-Fried positioned himself as an important, boyish face for crypto. (At one point, Bankman-Fried told a colleague at FTX that “I honestly think it’s negative EV [this may mean “expected value,” as in poker] for me to cut my hair. I think it’s important for people to think I look crazy.”)\\n\\nBecause he was so successful at this kind of public relations, his fall from grace was another mark against an industry that was already roiled by bankruptcies and scandals. Some additional trouble for the crypto industry is likely to come from one crucial element of the fraud trial — the part where the government must prove intent.\\n\\nThe first part of proving the government’s case is pretty simple and a little boring: prosecutors must show that certain transactions took place. Whatever records the Southern District of New York has for the transactions will be shown.\\n\\n“What conversations happened between him and his co-conspirators that are now cooperating against him?”'"
      ]
     },
     "execution_count": 47,
     "metadata": {},
     "output_type": "execute_result"
    }
   ],
   "source": [
    "G.nodes['175_chunk_0']['text'] "
   ]
  },
  {
   "cell_type": "code",
   "execution_count": null,
   "metadata": {},
   "outputs": [],
   "source": [
    "retrieved_article_summaries = [] \n",
    "for article in hop_01_articles:\n",
    "    retrieved_article_summaries.append(raw_entities[article]['summary'])\n",
    "\n",
    "retrieved_text_chunks = []\n",
    "for chunk in hop_01_chunks:\n",
    "    retrieved_text_chunks.append(G.nodes[chunk]['text'])\n",
    "\n",
    "retrieved_entities = []\n",
    "for i in [hop_01_PER, hop_01_LOC, hop_01_ORG]:\n",
    "    for ret_entity in i:\n",
    "        retrieved_entities.append(ret_entity.split('_')[0])"
   ]
  },
  {
   "cell_type": "code",
   "execution_count": 52,
   "metadata": {},
   "outputs": [
    {
     "data": {
      "text/plain": [
       "['Sam Bankman-Fried’s (SBF) criminal trial began Tuesday, addressing seven counts of fraud and conspiracy related to the collapse of his crypto exchange, FTX. Founded in 2019, FTX quickly grew, reaching a $32 billion valuation before filing for bankruptcy in November 2022.\\n\\nFTX’s downfall stemmed from concerns about the financial relationship between FTX and its affiliated trading firm, Alameda Research, which held a significant amount of FTT, FTX’s native token. When Binance began withdrawing funds, a “bank run” ensued. \\n\\nFollowing the collapse, SBF resigned, and John J. Ray III was appointed CEO. SBF was arrested in the Bahamas and extradited to the U.S., facing charges that carry a potential 115-year prison sentence. Key figures, including former CTO Gary Wang and Alameda CEO Caroline Ellison, have pleaded guilty and will cooperate with prosecutors.\\n\\nThe collapse of FTX triggered broader issues within the crypto industry, contributing to the bankruptcy filings of BlockFi and Genesis Global Trading. The trial will address the fate of investors, creditors, and billions in crypto assets tied up in legal proceedings.',\n",
       " '## Key Takeaways from the FTX Trial Coverage:\\n\\nThis article paints a comprehensive picture of the potential fallout from the Sam Bankman-Fried (SBF) trial, going far beyond just his individual guilt or innocence. Here\\'s a breakdown of the key takeaways:\\n\\n**1. The Stakes are High - For the Entire Crypto Industry:**\\n\\n*   **Reputational Damage:** The trial isn\\'t just about SBF; it has the potential to severely damage public trust in the entire cryptocurrency industry.  The narrative could easily become \"crypto is a scam\" if SBF successfully throws others under the bus or reveals widespread questionable practices.\\n*   **Collateral Damage:**  Even if SBF is convicted, the trial could expose questionable due diligence practices by venture capitalists (like Sequoia Capital and Binance) and reveal potentially problematic industry norms.\\n*   **Increased Scrutiny:**  Regardless of the outcome, the trial will undoubtedly lead to increased regulatory scrutiny of the crypto space.\\n\\n**2. The Prosecution\\'s Strategy: Proving Intent**\\n\\n*   **Focus on SBF\\'s Knowledge & Lies:** The prosecution will focus on proving SBF *knew* his actions were wrong and actively *lied* about them.\\n*   **Leveraging SBF\\'s Own Words:**  Tweets, interviews, and even messages from group chats will be used against him.\\n*   **Key Witnesses:** Caroline Ellison (ex-girlfriend & Alameda CEO), Gary Wang, and Nishad Singh (FTX co-founders) are expected to provide damning testimony.\\n\\n**3. SBF\\'s Potential Defense & Risks**\\n\\n*   **Blaming Others:** SBF is likely to attempt to deflect blame, potentially pointing fingers at Binance, his lawyers, and even the industry as a whole.\\n*   **\"Everyone Was Doing It\" Argument:** He might try to portray his actions as standard practice within the crypto world.\\n*   **Constitutional Rights Arguments:** His lawyers are already raising concerns about his pretrial conditions (internet access) as potential grounds for appeal.\\n*   **Wild Card:** SBF is described as a risk-taker and unpredictable, making it difficult to anticipate his strategy.\\n\\n**4.  Key Areas of Potential Exposure for Others:**\\n\\n*   **Venture Capitalists (Sequoia, Binance):**  Their due diligence processes will be scrutinized.  Did they know about the misuse of customer funds? What did SBF tell them?\\n*   **Industry Peers:**  Group chat messages could reveal a culture of questionable practices or a willingness to overlook red flags.\\n*   **Legal Firms (Sullivan & Cromwell):** SBF might attempt to blame his lawyers for providing bad advice.\\n\\n\\n\\n**5. The Core Narrative:**\\n\\nThe article suggests the trial will be a battle over whether SBF was a naive, misguided entrepreneur or a deliberate fraudster.  The outcome will have significant repercussions for the future of cryptocurrency.\\n\\n\\n\\nIn essence, this isn’t just a trial about one man; it’s a potential turning point for the entire crypto industry, with the potential to either solidify its legitimacy or further erode public trust.',\n",
       " 'Changpeng Zhao, founder and CEO of Binance, the world’s largest cryptocurrency exchange, has stepped down and pleaded guilty to violating U.S. anti-money laundering laws and sanctions regulations. He will be replaced by Richard Teng, Binance’s former global head of regional markets.\\n\\nBinance has agreed to pay $4.3 billion to resolve investigations by the Department of Justice, the Financial Crimes Enforcement Network, the Office of Foreign Assets Control, and the Commodity Futures Trading Commission. The DOJ stated Binance admitted to anti-money laundering, unlicensed money transmitting, and sanctions violations.\\n\\nThe charges stem from Binance’s failure to register as a money services business, implement an anti-money laundering program, and comply with U.S. economic sanctions. Court documents reveal Zhao prioritized growth over compliance, telling employees it was “better to ask for forgiveness than permission.”\\n\\nAs part of the agreement, Zhao faces a potential $150 million fine and is prohibited from involvement in Binance’s operations for three years. Binance will appoint an independent compliance monitor and enhance its compliance program.\\n\\nThe action against Binance follows similar charges against Kraken, another major crypto exchange, and ongoing legal battles with the Securities and Exchange Commission and the CFTC. Binance has faced scrutiny over its operations, including its response to the collapse of FTX and concerns about anti-money laundering controls.',\n",
       " '## Summary of the Sam Bankman-Fried (SBF) Trial & Michael Lewis\\'s Coverage\\n\\nThis article summarizes the upcoming trial of Sam Bankman-Fried, founder of the collapsed cryptocurrency exchange FTX, accused of massive fraud. As the trial begins, a book by Michael Lewis, \"Going Infinite,\" detailing SBF\\'s rise and fall, is also being released. \\n\\n**Key takeaways:**\\n\\n* **The Allegations:** SBF faces multiple charges related to the multi-billion dollar collapse of FTX, accused of orchestrating one of the biggest financial frauds in recent history.\\n* **Lewis\\'s Book & Controversy:** The article highlights criticism of Lewis\\'s portrayal of SBF, with many believing he\\'s offering a sympathetic view of a fraudster. Lewis focuses on SBF\\'s self-proclaimed \"effective altruism\" and portrays him as a visionary who was ultimately undone by circumstances.\\n* **SBF\\'s Activities:** The article details SBF\\'s ambitious (and potentially illegal) activities, including plans to buy off both Trump and Biden, and his overall attempts to wield political influence.\\n* **The Core Issue:** The collapse of FTX stemmed from financial discrepancies between the exchange and its sister trading firm, Alameda Research, fueled by risky speculation and mismanagement.\\n* **The Trial\\'s Focus:** The jury will need to determine the extent of SBF\\'s criminal intent – whether his actions were intentional fraud or the result of reckless mismanagement. \\n\\n**Overall, the article paints a picture of a complex case with a controversial figure at its center, and raises questions about the narrative surrounding SBF and the future of cryptocurrency.** It suggests a potential conflict between sympathetic portrayals and the gravity of the alleged crimes.\\n\\n\\n\\n',\n",
       " 'The trial of Sam Bankman-Fried, former CEO of crypto exchange FTX, began with contrasting narratives presented by the prosecution and defense. Prosecutors allege Bankman-Fried stole billions from customers to fund a lavish lifestyle, political donations, and risky bets through his hedge fund, Alameda Research, and by concealing the flow of money. The defense argues Bankman-Fried acted in good faith as a startup founder building innovative companies, and that any failures were due to market risks and mismanagement by others, specifically Caroline Ellison, the former CEO of Alameda.\\n\\nThe prosecution’s first witnesses included Marc-Antoine Julliard, an investor who lost $100,000 on FTX, and Adam Yedidia, a former friend and colleague who testified he feared his code may have contributed to a crime. Further testimony is expected from Matt Huang and Gary Wang, another key former lieutenant.',\n",
       " 'The trial of Sam Bankman-Fried is likely to be more consequential than just whether the man himself is found guilty. Depending on what evidence is introduced during the trial, it could be rough for the entire crypto industry.\\n\\n“How much damage can this trial do to the already beaten-down reputation of the industry at this point?” asks Yesha Yadav, a law professor at Vanderbilt University. “This trial is going to be an excruciating moment for the industry because no one knows what kind of evidence might come out.”\\n\\nBankman-Fried, the founder of FTX and Alameda Research, is facing seven counts of criminal charges: two counts of wire fraud, and five counts of conspiracy charges. FTX was a failed cryptocurrency exchange founded in 2019. According to a now-deleted profile from FTX investors Sequoia Capital, FTX was founded because of Bankman-Fried’s frustration with other exchanges when he was running Alameda Research, his crypto trading firm. According to the SEC, FTX was a fraud “from the start,” diverting customers’ funds to Alameda.\\n\\nSam Bankman-Fried, the founder of failed cryptocurrency exchange FTX, is on trial for seven counts of wire fraud and conspiracy. FTX was a fraud “from the start,” the Securities and Exchange Commission alleges — with a “multi-billion-dollar deficiency caused by his own misappropriation of customer funds.” Follow along for all the latest news and regular updates from the trial.\\n\\n“Really just old-fashioned embezzlement.”\\n\\nWhat’s left of FTX is now being led by John J. Ray III — you may remember him as the guy who cleaned up Enron and who also said FTX is worse than Enron. Just before the trial began, the FTX lawyers filed suit against Bankman-Fried’s parents, saying they should give back millions of dollars they got from their kid. Ray has also referred to Bankman-Fried’s conduct as “really just old-fashioned embezzlement.”\\n\\nWe have some inkling of what the government will be arguing thanks to the filings prosecutors are making in this case. They argue that Bankman-Fried lied about consumer protection and that Bankman-Fried’s statements that FTX was “avoiding or managing conflicts of interest” and that “as a general principle FTX segregates customer assets from its own assets across our platforms” were lies, in a superseding indictment filed August 14th.\\n\\nThe indictment also says that there were special features in FTX’s code that “permitted Alameda to spend and withdraw unlimited amounts of money from FTX,” which were created at Bankman-Fried’s direction. That effectively exempted Alameda from the kinds of risk management other customers faced. At the same time, the government alleges, “Bankman-Fried publicly and repeatedly asserted that Alameda did not have privileged access to FTX.”\\n\\nBankman-Fried is accused of using “billions of dollars in misappropriated FTX customer deposits” to help buy more than $200 million of real estate for himself, make billions of dollars of investments for his own interest, and repay Alameda’s lenders, according to the indictment, Additionally, Bankman-Fried allegedly used more than $100 million of customer funds to make political contributions; prosecutors can show evidence of those contributions in this trial, even though they aren’t part of the charges brought. A second trial is scheduled for March 2024, with additional charges.\\n\\nBefore his fall, Bankman-Fried made himself out to be the Good Boy of crypto — the trustworthy face of a sometimes-shady industry. He was also very interested in publicity, sitting for many interviews both before and after the fall of FTX. The quick rise of FTX as an industry force was at least in part due to Bankman-Fried’s appetite for attention. Here are the hits:\\n\\nBankman-Fried gave interviews freely — and quickly rose to public prominence in the industry. Though FTX hadn’t been in the business as long as competing exchanges such as Coinbase, Kraken, or Gemini, Bankman-Fried positioned himself as an important, boyish face for crypto. (At one point, Bankman-Fried told a colleague at FTX that “I honestly think it’s negative EV [this may mean “expected value,” as in poker] for me to cut my hair. I think it’s important for people to think I look crazy.”)\\n\\nBecause he was so successful at this kind of public relations, his fall from grace was another mark against an industry that was already roiled by bankruptcies and scandals. Some additional trouble for the crypto industry is likely to come from one crucial element of the fraud trial — the part where the government must prove intent.\\n\\nThe first part of proving the government’s case is pretty simple and a little boring: prosecutors must show that certain transactions took place. Whatever records the Southern District of New York has for the transactions will be shown.\\n\\n“What conversations happened between him and his co-conspirators that are now cooperating against him?”',\n",
       " 'On Nov. 8, in the crypto exchange’s final few days, he tried to pull out his cash and crypto. How much? Almost $100,000, he said. And was he ever able to? “Never,” he told prosecutors.\\n\\nShortly afterward, as the trial neared late afternoon, the government called Adam Yedidia to the stand. A fast-talking graduate of MIT, he and Bankman-Fried were close friends in college, he said. And after Bankman-Fried left Jane Street, the high-frequency trading firm where the former billionaire got his start in finance after MIT, he persuaded Yedidia to join him as a trader at Alameda and then as a developer at FTX.\\n\\nWhen Yedidia first took the stand, Danielle Sassoon, one of the lead prosecutors, said that the college friend of Bankman-Fried had legal immunity during his testimony. Why did he make such a deal with the government, she asked.\\n\\n“I was concerned that I had unwittingly written code that contributed to a crime,” he said.\\n\\nSoon, however, the clock neared 4:30 p.m., and court adjourned for the day. Yedidia will continue his testimony on Thursday, followed by Matt Huang, a former partner at the high-powered venture capital firm Sequoia Capital, and then Gary Wang, a key Bankman-Fried lieutenant and one of the government’s star witnesses.']"
      ]
     },
     "execution_count": 52,
     "metadata": {},
     "output_type": "execute_result"
    }
   ],
   "source": [
    "mixed_retrieval_text_fragments = retrieved_article_summaries + retrieved_text_chunks\n",
    "mixed_retrieval_text_fragments"
   ]
  },
  {
   "cell_type": "code",
   "execution_count": 53,
   "metadata": {},
   "outputs": [
    {
     "data": {
      "text/plain": [
       "['Sam Bankman - Fried', 'U. S.', 'SBF']"
      ]
     },
     "execution_count": 53,
     "metadata": {},
     "output_type": "execute_result"
    }
   ],
   "source": [
    "mixed_retrieval_entities = retrieved_entities\n",
    "mixed_retrieval_entities"
   ]
  },
  {
   "cell_type": "code",
   "execution_count": 55,
   "metadata": {},
   "outputs": [
    {
     "name": "stdout",
     "output_type": "stream",
     "text": [
      "\n",
      "You are an expert assistant whose task is to answer the user's question using the provided relevant context. \n",
      "Use the context to support your answer and ensure that your response is clear, accurate, and concise.\n",
      "The context comprises diverse text fragments containing potentially relevant information, as well as different \n",
      "selected entities connected to the query.\n",
      "\n",
      "Text fragments:\n",
      "['Sam Bankman-Fried’s (SBF) criminal trial began Tuesday, addressing seven counts of fraud and conspiracy related to the collapse of his crypto exchange, FTX. Founded in 2019, FTX quickly grew, reaching a $32 billion valuation before filing for bankruptcy in November 2022.\\n\\nFTX’s downfall stemmed from concerns about the financial relationship between FTX and its affiliated trading firm, Alameda Research, which held a significant amount of FTT, FTX’s native token. When Binance began withdrawing funds, a “bank run” ensued. \\n\\nFollowing the collapse, SBF resigned, and John J. Ray III was appointed CEO. SBF was arrested in the Bahamas and extradited to the U.S., facing charges that carry a potential 115-year prison sentence. Key figures, including former CTO Gary Wang and Alameda CEO Caroline Ellison, have pleaded guilty and will cooperate with prosecutors.\\n\\nThe collapse of FTX triggered broader issues within the crypto industry, contributing to the bankruptcy filings of BlockFi and Genesis Global Trading. The trial will address the fate of investors, creditors, and billions in crypto assets tied up in legal proceedings.', '## Key Takeaways from the FTX Trial Coverage:\\n\\nThis article paints a comprehensive picture of the potential fallout from the Sam Bankman-Fried (SBF) trial, going far beyond just his individual guilt or innocence. Here\\'s a breakdown of the key takeaways:\\n\\n**1. The Stakes are High - For the Entire Crypto Industry:**\\n\\n*   **Reputational Damage:** The trial isn\\'t just about SBF; it has the potential to severely damage public trust in the entire cryptocurrency industry.  The narrative could easily become \"crypto is a scam\" if SBF successfully throws others under the bus or reveals widespread questionable practices.\\n*   **Collateral Damage:**  Even if SBF is convicted, the trial could expose questionable due diligence practices by venture capitalists (like Sequoia Capital and Binance) and reveal potentially problematic industry norms.\\n*   **Increased Scrutiny:**  Regardless of the outcome, the trial will undoubtedly lead to increased regulatory scrutiny of the crypto space.\\n\\n**2. The Prosecution\\'s Strategy: Proving Intent**\\n\\n*   **Focus on SBF\\'s Knowledge & Lies:** The prosecution will focus on proving SBF *knew* his actions were wrong and actively *lied* about them.\\n*   **Leveraging SBF\\'s Own Words:**  Tweets, interviews, and even messages from group chats will be used against him.\\n*   **Key Witnesses:** Caroline Ellison (ex-girlfriend & Alameda CEO), Gary Wang, and Nishad Singh (FTX co-founders) are expected to provide damning testimony.\\n\\n**3. SBF\\'s Potential Defense & Risks**\\n\\n*   **Blaming Others:** SBF is likely to attempt to deflect blame, potentially pointing fingers at Binance, his lawyers, and even the industry as a whole.\\n*   **\"Everyone Was Doing It\" Argument:** He might try to portray his actions as standard practice within the crypto world.\\n*   **Constitutional Rights Arguments:** His lawyers are already raising concerns about his pretrial conditions (internet access) as potential grounds for appeal.\\n*   **Wild Card:** SBF is described as a risk-taker and unpredictable, making it difficult to anticipate his strategy.\\n\\n**4.  Key Areas of Potential Exposure for Others:**\\n\\n*   **Venture Capitalists (Sequoia, Binance):**  Their due diligence processes will be scrutinized.  Did they know about the misuse of customer funds? What did SBF tell them?\\n*   **Industry Peers:**  Group chat messages could reveal a culture of questionable practices or a willingness to overlook red flags.\\n*   **Legal Firms (Sullivan & Cromwell):** SBF might attempt to blame his lawyers for providing bad advice.\\n\\n\\n\\n**5. The Core Narrative:**\\n\\nThe article suggests the trial will be a battle over whether SBF was a naive, misguided entrepreneur or a deliberate fraudster.  The outcome will have significant repercussions for the future of cryptocurrency.\\n\\n\\n\\nIn essence, this isn’t just a trial about one man; it’s a potential turning point for the entire crypto industry, with the potential to either solidify its legitimacy or further erode public trust.', 'Changpeng Zhao, founder and CEO of Binance, the world’s largest cryptocurrency exchange, has stepped down and pleaded guilty to violating U.S. anti-money laundering laws and sanctions regulations. He will be replaced by Richard Teng, Binance’s former global head of regional markets.\\n\\nBinance has agreed to pay $4.3 billion to resolve investigations by the Department of Justice, the Financial Crimes Enforcement Network, the Office of Foreign Assets Control, and the Commodity Futures Trading Commission. The DOJ stated Binance admitted to anti-money laundering, unlicensed money transmitting, and sanctions violations.\\n\\nThe charges stem from Binance’s failure to register as a money services business, implement an anti-money laundering program, and comply with U.S. economic sanctions. Court documents reveal Zhao prioritized growth over compliance, telling employees it was “better to ask for forgiveness than permission.”\\n\\nAs part of the agreement, Zhao faces a potential $150 million fine and is prohibited from involvement in Binance’s operations for three years. Binance will appoint an independent compliance monitor and enhance its compliance program.\\n\\nThe action against Binance follows similar charges against Kraken, another major crypto exchange, and ongoing legal battles with the Securities and Exchange Commission and the CFTC. Binance has faced scrutiny over its operations, including its response to the collapse of FTX and concerns about anti-money laundering controls.', '## Summary of the Sam Bankman-Fried (SBF) Trial & Michael Lewis\\'s Coverage\\n\\nThis article summarizes the upcoming trial of Sam Bankman-Fried, founder of the collapsed cryptocurrency exchange FTX, accused of massive fraud. As the trial begins, a book by Michael Lewis, \"Going Infinite,\" detailing SBF\\'s rise and fall, is also being released. \\n\\n**Key takeaways:**\\n\\n* **The Allegations:** SBF faces multiple charges related to the multi-billion dollar collapse of FTX, accused of orchestrating one of the biggest financial frauds in recent history.\\n* **Lewis\\'s Book & Controversy:** The article highlights criticism of Lewis\\'s portrayal of SBF, with many believing he\\'s offering a sympathetic view of a fraudster. Lewis focuses on SBF\\'s self-proclaimed \"effective altruism\" and portrays him as a visionary who was ultimately undone by circumstances.\\n* **SBF\\'s Activities:** The article details SBF\\'s ambitious (and potentially illegal) activities, including plans to buy off both Trump and Biden, and his overall attempts to wield political influence.\\n* **The Core Issue:** The collapse of FTX stemmed from financial discrepancies between the exchange and its sister trading firm, Alameda Research, fueled by risky speculation and mismanagement.\\n* **The Trial\\'s Focus:** The jury will need to determine the extent of SBF\\'s criminal intent – whether his actions were intentional fraud or the result of reckless mismanagement. \\n\\n**Overall, the article paints a picture of a complex case with a controversial figure at its center, and raises questions about the narrative surrounding SBF and the future of cryptocurrency.** It suggests a potential conflict between sympathetic portrayals and the gravity of the alleged crimes.\\n\\n\\n\\n', 'The trial of Sam Bankman-Fried, former CEO of crypto exchange FTX, began with contrasting narratives presented by the prosecution and defense. Prosecutors allege Bankman-Fried stole billions from customers to fund a lavish lifestyle, political donations, and risky bets through his hedge fund, Alameda Research, and by concealing the flow of money. The defense argues Bankman-Fried acted in good faith as a startup founder building innovative companies, and that any failures were due to market risks and mismanagement by others, specifically Caroline Ellison, the former CEO of Alameda.\\n\\nThe prosecution’s first witnesses included Marc-Antoine Julliard, an investor who lost $100,000 on FTX, and Adam Yedidia, a former friend and colleague who testified he feared his code may have contributed to a crime. Further testimony is expected from Matt Huang and Gary Wang, another key former lieutenant.', 'The trial of Sam Bankman-Fried is likely to be more consequential than just whether the man himself is found guilty. Depending on what evidence is introduced during the trial, it could be rough for the entire crypto industry.\\n\\n“How much damage can this trial do to the already beaten-down reputation of the industry at this point?” asks Yesha Yadav, a law professor at Vanderbilt University. “This trial is going to be an excruciating moment for the industry because no one knows what kind of evidence might come out.”\\n\\nBankman-Fried, the founder of FTX and Alameda Research, is facing seven counts of criminal charges: two counts of wire fraud, and five counts of conspiracy charges. FTX was a failed cryptocurrency exchange founded in 2019. According to a now-deleted profile from FTX investors Sequoia Capital, FTX was founded because of Bankman-Fried’s frustration with other exchanges when he was running Alameda Research, his crypto trading firm. According to the SEC, FTX was a fraud “from the start,” diverting customers’ funds to Alameda.\\n\\nSam Bankman-Fried, the founder of failed cryptocurrency exchange FTX, is on trial for seven counts of wire fraud and conspiracy. FTX was a fraud “from the start,” the Securities and Exchange Commission alleges — with a “multi-billion-dollar deficiency caused by his own misappropriation of customer funds.” Follow along for all the latest news and regular updates from the trial.\\n\\n“Really just old-fashioned embezzlement.”\\n\\nWhat’s left of FTX is now being led by John J. Ray III — you may remember him as the guy who cleaned up Enron and who also said FTX is worse than Enron. Just before the trial began, the FTX lawyers filed suit against Bankman-Fried’s parents, saying they should give back millions of dollars they got from their kid. Ray has also referred to Bankman-Fried’s conduct as “really just old-fashioned embezzlement.”\\n\\nWe have some inkling of what the government will be arguing thanks to the filings prosecutors are making in this case. They argue that Bankman-Fried lied about consumer protection and that Bankman-Fried’s statements that FTX was “avoiding or managing conflicts of interest” and that “as a general principle FTX segregates customer assets from its own assets across our platforms” were lies, in a superseding indictment filed August 14th.\\n\\nThe indictment also says that there were special features in FTX’s code that “permitted Alameda to spend and withdraw unlimited amounts of money from FTX,” which were created at Bankman-Fried’s direction. That effectively exempted Alameda from the kinds of risk management other customers faced. At the same time, the government alleges, “Bankman-Fried publicly and repeatedly asserted that Alameda did not have privileged access to FTX.”\\n\\nBankman-Fried is accused of using “billions of dollars in misappropriated FTX customer deposits” to help buy more than $200 million of real estate for himself, make billions of dollars of investments for his own interest, and repay Alameda’s lenders, according to the indictment, Additionally, Bankman-Fried allegedly used more than $100 million of customer funds to make political contributions; prosecutors can show evidence of those contributions in this trial, even though they aren’t part of the charges brought. A second trial is scheduled for March 2024, with additional charges.\\n\\nBefore his fall, Bankman-Fried made himself out to be the Good Boy of crypto — the trustworthy face of a sometimes-shady industry. He was also very interested in publicity, sitting for many interviews both before and after the fall of FTX. The quick rise of FTX as an industry force was at least in part due to Bankman-Fried’s appetite for attention. Here are the hits:\\n\\nBankman-Fried gave interviews freely — and quickly rose to public prominence in the industry. Though FTX hadn’t been in the business as long as competing exchanges such as Coinbase, Kraken, or Gemini, Bankman-Fried positioned himself as an important, boyish face for crypto. (At one point, Bankman-Fried told a colleague at FTX that “I honestly think it’s negative EV [this may mean “expected value,” as in poker] for me to cut my hair. I think it’s important for people to think I look crazy.”)\\n\\nBecause he was so successful at this kind of public relations, his fall from grace was another mark against an industry that was already roiled by bankruptcies and scandals. Some additional trouble for the crypto industry is likely to come from one crucial element of the fraud trial — the part where the government must prove intent.\\n\\nThe first part of proving the government’s case is pretty simple and a little boring: prosecutors must show that certain transactions took place. Whatever records the Southern District of New York has for the transactions will be shown.\\n\\n“What conversations happened between him and his co-conspirators that are now cooperating against him?”', 'On Nov. 8, in the crypto exchange’s final few days, he tried to pull out his cash and crypto. How much? Almost $100,000, he said. And was he ever able to? “Never,” he told prosecutors.\\n\\nShortly afterward, as the trial neared late afternoon, the government called Adam Yedidia to the stand. A fast-talking graduate of MIT, he and Bankman-Fried were close friends in college, he said. And after Bankman-Fried left Jane Street, the high-frequency trading firm where the former billionaire got his start in finance after MIT, he persuaded Yedidia to join him as a trader at Alameda and then as a developer at FTX.\\n\\nWhen Yedidia first took the stand, Danielle Sassoon, one of the lead prosecutors, said that the college friend of Bankman-Fried had legal immunity during his testimony. Why did he make such a deal with the government, she asked.\\n\\n“I was concerned that I had unwittingly written code that contributed to a crime,” he said.\\n\\nSoon, however, the clock neared 4:30 p.m., and court adjourned for the day. Yedidia will continue his testimony on Thursday, followed by Matt Huang, a former partner at the high-powered venture capital firm Sequoia Capital, and then Gary Wang, a key Bankman-Fried lieutenant and one of the government’s star witnesses.']\n",
      "\n",
      "Entities:\n",
      "['Sam Bankman - Fried', 'U. S.', 'SBF'] \n",
      "\n",
      "User Question:\n",
      "Who is the individual associated with the cryptocurrency industry facing a criminal trial on fraud and conspiracy charges, as reported by both The Verge and TechCrunch, and is accused by prosecutors of committing fraud for personal gain?\n",
      "\n",
      "Answer:\n",
      "\n"
     ]
    }
   ],
   "source": [
    "mixed_retrieval_prompt = f\"\"\"\n",
    "You are an expert assistant whose task is to answer the user's question using the provided relevant context. \n",
    "Use the context to support your answer and ensure that your response is clear, accurate, and concise.\n",
    "The context comprises diverse text fragments containing potentially relevant information, as well as different \n",
    "selected entities connected to the query.\n",
    "\n",
    "Text fragments:\n",
    "{mixed_retrieval_text_fragments}\n",
    "\n",
    "Entities:\n",
    "{mixed_retrieval_entities} \n",
    "\n",
    "User Question:\n",
    "{query}\n",
    "\n",
    "Answer:\n",
    "\"\"\"\n",
    "\n",
    "print(mixed_retrieval_prompt)"
   ]
  },
  {
   "cell_type": "code",
   "execution_count": 56,
   "metadata": {},
   "outputs": [
    {
     "name": "stdout",
     "output_type": "stream",
     "text": [
      "<think>\n",
      "Okay, so I need to figure out who the individual is that's associated with the cryptocurrency industry, facing criminal trial on fraud and conspiracy charges as reported by The Verge and TechCrunch, and accused by prosecutors of committing fraud for personal gain. Let me start by going through the information provided.\n",
      "\n",
      "First, looking at the entities listed: Sam Bankman-Fried, U.S., and SBF. SBF is likely an abbreviation for Sam Bankman-Fried. The user's question mentions \"the individual,\" so it's probably Sam Bankman-Fried. But I need to confirm this with the context given in the articles provided.\n",
      "\n",
      "Looking at the articles, they mention \"Sam Bankman-Fried\" multiple times. For example, in the first article excerpt, it says: \"Bankman-Fried is accused of using 'billions of dollars in misappropriated FTX customer deposits' to help buy more than $200 million of real estate for himself...\" and \"Additionally, Bankman-Fried allegedly used more than $100 million of customer funds to make political contributions; prosecutors can show evidence of those contributions in this trial...\" So clearly, the person in question is Sam Bankman-Fried, also referred to as SBF.\n",
      "\n",
      "The question also mentions that this is reported by both The Verge and TechCrunch. The provided context includes information from The Verge (since the user input has a section labeled \"The Verge\" in the quotes), and TechCrunch might be another source, but in the given data, the articles are from The Verge. However, since the user mentions both, perhaps in the actual scenario, the user is referring to the information given here which is from The Verge. Since the entities given are Sam Bankman-Fried and SBF, the answer should be Sam Bankman-Fried, commonly known as SBF.\n",
      "\n",
      "The charges are fraud and conspiracy, which are detailed in the articles. The prosecutors accuse him of using customer funds for personal gain like real estate, political contributions, and investments. The U.S. is mentioned as the jurisdiction here, given the Southern District of New York is involved in the trial.\n",
      "\n",
      "So, putting it all together, the individual is Sam Bankman-Fried, also known as SBF. The answer should state his full name and possibly the abbreviation, but since the user's entities list includes both \"Sam Bankman - Fried\" (maybe a typo with the hyphen) and SBF, the correct answer is Sam Bankman-Fried.\n",
      "</think>\n",
      "\n",
      "The individual associated with the cryptocurrency industry facing criminal trial on fraud and conspiracy charges, as reported by The Verge and TechCrunch, and accused by prosecutors of committing fraud for personal gain is **Sam Bankman-Fried (SBF)**. He is the founder of the now-collapsed crypto exchange FTX, and the charges stem from allegations that he misappropriated billions of customer funds for personal real estate purchases, political contributions, and other self-interested investments. The trial is taking place in the U.S., with prosecutors emphasizing his intentional deception about FTX's financial practices and Alameda Research's privileged access to customer assets.\n"
     ]
    }
   ],
   "source": [
    "client = Client(\n",
    "  host='http://localhost:11434',\n",
    "  #headers={'x-some-header': 'some-value'}\n",
    ")\n",
    "response = client.chat(model='hf.co/unsloth/QwQ-32B-GGUF:Q6_K', messages=[\n",
    "  {\n",
    "    'role': 'user',\n",
    "    'content': f\"\"\"{mixed_retrieval_prompt} \n",
    "\"\"\",\n",
    "  },\n",
    "])\n",
    "\n",
    "print(response['message']['content'])\n",
    "# or access fields directly from the response object\n",
    "# print(response.message.content)"
   ]
  },
  {
   "cell_type": "code",
   "execution_count": 17,
   "metadata": {},
   "outputs": [
    {
     "name": "stdout",
     "output_type": "stream",
     "text": [
      "<think>\n",
      "Okay, let's tackle this question. The user is asking about an individual in the crypto industry facing a criminal trial for fraud and conspiracy, specifically mentioned by The Verge and TechCrunch, and accused by prosecutors of fraud for personal gain.\n",
      "\n",
      "First, I need to look through the provided context to find relevant information. The context has several chunks. Let's go through each one.\n",
      "\n",
      "The first chunk talks about someone named Bankman-Fried. It mentions his trial, prosecutors, and how he couldn't retrieve $100k. There's a reference to Adam Yedidia testifying against him. The context also mentions FTX's collapse, which aligns with the crypto industry. \n",
      "\n",
      "Another chunk discusses Binance and Zhao, but the question is about someone facing fraud charges, so maybe not Zhao since the focus here is on Bankman-Fried's trial details. \n",
      "\n",
      "The third chunk mentions Bankman-Fried's defense attorney and the aftermath of FTX's collapse. The fourth chunk is about Trump, which seems unrelated. The fifth chunk refers to Bankman-Fried's lies under oath and his lack of oversight, reinforcing his role in the fraud.\n",
      "\n",
      "Putting this together, the key person here is Bankman-Fried. The context mentions his trial, the prosecutors' accusations, and his role as CEO of FTX, which collapsed due to fraud. The mention of the defense attorney and the legal proceedings supports that he's the one on trial. The other names like Zhao or Trump are either part of other cases or different companies. \n",
      "\n",
      "The user also mentioned The Verge and TechCrunch, but since the context provided doesn't list sources, I have to rely on the content. The answer should be Bankman-Fried as all the details point to him.\n",
      "</think>\n",
      "\n",
      "The individual in question is **Sam Bankman-Fried (SBF)**, the former CEO of the cryptocurrency exchange FTX. The context details his criminal trial, where prosecutors accuse him of fraud and conspiracy, including misappropriating customer funds for personal gain and lying under oath. Key points from the context supporting this include:\n",
      "\n",
      "1. **Trial Details**: His defense attorney, Mark Cohen, is mentioned, and the trial involves witnesses like Adam Yedidia (a former close associate) testifying about code contributing to alleged crimes.\n",
      "2. **Fraud Allegations**: The collapse of FTX is linked to his actions, with prosecutors highlighting his failure to return funds (e.g., $100,000 cited in the context) and his lack of oversight over company finances.\n",
      "3. **Legal Proceedings**: The context references ongoing testimony and charges tied to his role in defrauding investors and creditors, aligning with the \"fraud and conspiracy\" charges mentioned in the question.\n",
      "\n",
      "While the sources *The Verge* and *TechCrunch* are not explicitly named in the provided context, the details match widely reported cases against Bankman-Fried by these and other outlets.\n"
     ]
    }
   ],
   "source": [
    "client = Client(\n",
    "  host='http://localhost:11434',\n",
    "  #headers={'x-some-header': 'some-value'}\n",
    ")\n",
    "response = client.chat(model='hf.co/unsloth/QwQ-32B-GGUF:Q6_K', messages=[\n",
    "  {\n",
    "    'role': 'user',\n",
    "    'content': f\"\"\"\n",
    "You are an expert assistant whose task is to answer the user's question using the provided context. Use the context to support your answer and ensure that your response is clear, accurate, and concise.\n",
    "\n",
    "Context:\n",
    "{sem_results}\n",
    "\n",
    "User Question:\n",
    "{query}\n",
    "\n",
    "Answer:\n",
    "\"\"\",\n",
    "  },\n",
    "])\n",
    "\n",
    "print(response['message']['content'])\n",
    "# or access fields directly from the response object\n",
    "# print(response.message.content)"
   ]
  },
  {
   "cell_type": "code",
   "execution_count": 18,
   "metadata": {},
   "outputs": [
    {
     "name": "stdout",
     "output_type": "stream",
     "text": [
      "<think>\n",
      "Okay, let's tackle this question step by step. The user is asking about an individual in the cryptocurrency industry who's facing a criminal trial for fraud and conspiracy, as reported by The Verge and TechCrunch. The key points here are the individual's association with crypto, the specific charges (fraud and conspiracy), and the mention by both outlets.\n",
      "\n",
      "First, I'll look through the provided context from TechCrunch. The user mentioned both The Verge and TechCrunch, but since the context here is only from TechCrunch, I'll focus on that. \n",
      "\n",
      "Looking at the documents in the context:\n",
      "\n",
      "1. The first document talks about Klarna's IPO plans and the unicorn term, so probably not related.\n",
      "2. The second document mentions FTX's collapse, BlockFi, Genesis, and refers to Bankman-Fried. It says he's represented by Mark Cohen, who also handled Ghislaine Maxwell's case. The trial is starting, and the focus is on the investors and creditors affected. This seems relevant because FTX was a major crypto exchange, and Bankman-Fried was its CEO.\n",
      "3. The third document is about Binance and Zhao, but the charges here are from the CFTC, which are regulatory, not criminal fraud and conspiracy as per the question.\n",
      "4. The fourth and fifth documents discuss other topics like Take-Two Interactive and X's subscription model, so not related.\n",
      "\n",
      "So, the key section is the second document. It specifically mentions Bankman-Fried (Sam Bankman-Fried) facing trial with his lawyer Mark Cohen. The context states that FTX's collapse was a big event in crypto, and he's involved in criminal proceedings. The user's question mentions fraud and conspiracy charges, which align with the legal issues surrounding FTX's collapse. Since the context is from TechCrunch and the question references both TechCrunch and The Verge, but the answer must be based on the given context, the answer should be Sam Bankman-Fried.\n",
      "</think>\n",
      "\n",
      "The individual associated with the cryptocurrency industry facing criminal trial on fraud and conspiracy charges, as reported by TechCrunch, is **Sam Bankman-Fried**. He is the former CEO of FTX, which collapsed amid allegations of mismanagement and fraud. The context highlights his legal representation by Mark Cohen (also linked to Ghislaine Maxwell's defense) and notes the ongoing trial's focus on investors, creditors, and billions in crypto assets tied to the case. While the question mentions *The Verge*, the provided context from TechCrunch clearly identifies Bankman-Fried as the key figure involved in these charges.\n"
     ]
    }
   ],
   "source": [
    "client = Client(\n",
    "  host='http://localhost:11434',\n",
    "  #headers={'x-some-header': 'some-value'}\n",
    ")\n",
    "response = client.chat(model='hf.co/unsloth/QwQ-32B-GGUF:Q6_K', messages=[\n",
    "  {\n",
    "    'role': 'user',\n",
    "    'content': f\"\"\"\n",
    "You are an expert assistant whose task is to answer the user's question using the provided context. Use the context to support your answer and ensure that your response is clear, accurate, and concise.\n",
    "\n",
    "Context:\n",
    "{SAGE_results}\n",
    "\n",
    "User Question:\n",
    "{query}\n",
    "\n",
    "Answer:\n",
    "\"\"\",\n",
    "  },\n",
    "])\n",
    "\n",
    "print(response['message']['content'])\n",
    "# or access fields directly from the response object\n",
    "# print(response.message.content)"
   ]
  }
 ],
 "metadata": {
  "kernelspec": {
   "display_name": "graphsage",
   "language": "python",
   "name": "python3"
  },
  "language_info": {
   "codemirror_mode": {
    "name": "ipython",
    "version": 3
   },
   "file_extension": ".py",
   "mimetype": "text/x-python",
   "name": "python",
   "nbconvert_exporter": "python",
   "pygments_lexer": "ipython3",
   "version": "3.11.6"
  }
 },
 "nbformat": 4,
 "nbformat_minor": 2
}
