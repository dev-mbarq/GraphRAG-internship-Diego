{
 "cells": [
  {
   "cell_type": "markdown",
   "metadata": {},
   "source": [
    "## ChromaDB + Ollama"
   ]
  },
  {
   "cell_type": "code",
   "execution_count": 1,
   "metadata": {},
   "outputs": [
    {
     "name": "stdout",
     "output_type": "stream",
     "text": [
      "Requirement already satisfied: chromadb==0.5.23 in /home/diomedea/.pyenv/versions/3.11.6/envs/graphsage/lib/python3.11/site-packages (0.5.23)\n",
      "Requirement already satisfied: build>=1.0.3 in /home/diomedea/.pyenv/versions/3.11.6/envs/graphsage/lib/python3.11/site-packages (from chromadb==0.5.23) (1.2.2.post1)\n",
      "Requirement already satisfied: pydantic>=1.9 in /home/diomedea/.pyenv/versions/3.11.6/envs/graphsage/lib/python3.11/site-packages (from chromadb==0.5.23) (2.10.6)\n",
      "Requirement already satisfied: chroma-hnswlib==0.7.6 in /home/diomedea/.pyenv/versions/3.11.6/envs/graphsage/lib/python3.11/site-packages (from chromadb==0.5.23) (0.7.6)\n",
      "Requirement already satisfied: fastapi>=0.95.2 in /home/diomedea/.pyenv/versions/3.11.6/envs/graphsage/lib/python3.11/site-packages (from chromadb==0.5.23) (0.115.11)\n",
      "Requirement already satisfied: uvicorn>=0.18.3 in /home/diomedea/.pyenv/versions/3.11.6/envs/graphsage/lib/python3.11/site-packages (from uvicorn[standard]>=0.18.3->chromadb==0.5.23) (0.34.0)\n",
      "Requirement already satisfied: numpy>=1.22.5 in /home/diomedea/.pyenv/versions/3.11.6/envs/graphsage/lib/python3.11/site-packages (from chromadb==0.5.23) (1.26.4)\n",
      "Requirement already satisfied: posthog>=2.4.0 in /home/diomedea/.pyenv/versions/3.11.6/envs/graphsage/lib/python3.11/site-packages (from chromadb==0.5.23) (3.19.0)\n",
      "Requirement already satisfied: typing_extensions>=4.5.0 in /home/diomedea/.pyenv/versions/3.11.6/envs/graphsage/lib/python3.11/site-packages (from chromadb==0.5.23) (4.12.2)\n",
      "Requirement already satisfied: onnxruntime>=1.14.1 in /home/diomedea/.pyenv/versions/3.11.6/envs/graphsage/lib/python3.11/site-packages (from chromadb==0.5.23) (1.21.0)\n",
      "Requirement already satisfied: opentelemetry-api>=1.2.0 in /home/diomedea/.pyenv/versions/3.11.6/envs/graphsage/lib/python3.11/site-packages (from chromadb==0.5.23) (1.30.0)\n",
      "Requirement already satisfied: opentelemetry-exporter-otlp-proto-grpc>=1.2.0 in /home/diomedea/.pyenv/versions/3.11.6/envs/graphsage/lib/python3.11/site-packages (from chromadb==0.5.23) (1.30.0)\n",
      "Requirement already satisfied: opentelemetry-instrumentation-fastapi>=0.41b0 in /home/diomedea/.pyenv/versions/3.11.6/envs/graphsage/lib/python3.11/site-packages (from chromadb==0.5.23) (0.51b0)\n",
      "Requirement already satisfied: opentelemetry-sdk>=1.2.0 in /home/diomedea/.pyenv/versions/3.11.6/envs/graphsage/lib/python3.11/site-packages (from chromadb==0.5.23) (1.30.0)\n",
      "Requirement already satisfied: tokenizers<=0.20.3,>=0.13.2 in /home/diomedea/.pyenv/versions/3.11.6/envs/graphsage/lib/python3.11/site-packages (from chromadb==0.5.23) (0.20.3)\n",
      "Requirement already satisfied: pypika>=0.48.9 in /home/diomedea/.pyenv/versions/3.11.6/envs/graphsage/lib/python3.11/site-packages (from chromadb==0.5.23) (0.48.9)\n",
      "Requirement already satisfied: tqdm>=4.65.0 in /home/diomedea/.pyenv/versions/3.11.6/envs/graphsage/lib/python3.11/site-packages (from chromadb==0.5.23) (4.67.1)\n",
      "Requirement already satisfied: overrides>=7.3.1 in /home/diomedea/.pyenv/versions/3.11.6/envs/graphsage/lib/python3.11/site-packages (from chromadb==0.5.23) (7.7.0)\n",
      "Requirement already satisfied: importlib-resources in /home/diomedea/.pyenv/versions/3.11.6/envs/graphsage/lib/python3.11/site-packages (from chromadb==0.5.23) (6.5.2)\n",
      "Requirement already satisfied: grpcio>=1.58.0 in /home/diomedea/.pyenv/versions/3.11.6/envs/graphsage/lib/python3.11/site-packages (from chromadb==0.5.23) (1.70.0)\n",
      "Requirement already satisfied: bcrypt>=4.0.1 in /home/diomedea/.pyenv/versions/3.11.6/envs/graphsage/lib/python3.11/site-packages (from chromadb==0.5.23) (4.3.0)\n",
      "Requirement already satisfied: typer>=0.9.0 in /home/diomedea/.pyenv/versions/3.11.6/envs/graphsage/lib/python3.11/site-packages (from chromadb==0.5.23) (0.15.2)\n",
      "Requirement already satisfied: kubernetes>=28.1.0 in /home/diomedea/.pyenv/versions/3.11.6/envs/graphsage/lib/python3.11/site-packages (from chromadb==0.5.23) (32.0.1)\n",
      "Requirement already satisfied: tenacity>=8.2.3 in /home/diomedea/.pyenv/versions/3.11.6/envs/graphsage/lib/python3.11/site-packages (from chromadb==0.5.23) (9.0.0)\n",
      "Requirement already satisfied: PyYAML>=6.0.0 in /home/diomedea/.pyenv/versions/3.11.6/envs/graphsage/lib/python3.11/site-packages (from chromadb==0.5.23) (6.0.2)\n",
      "Requirement already satisfied: mmh3>=4.0.1 in /home/diomedea/.pyenv/versions/3.11.6/envs/graphsage/lib/python3.11/site-packages (from chromadb==0.5.23) (5.1.0)\n",
      "Requirement already satisfied: orjson>=3.9.12 in /home/diomedea/.pyenv/versions/3.11.6/envs/graphsage/lib/python3.11/site-packages (from chromadb==0.5.23) (3.10.15)\n",
      "Requirement already satisfied: httpx>=0.27.0 in /home/diomedea/.pyenv/versions/3.11.6/envs/graphsage/lib/python3.11/site-packages (from chromadb==0.5.23) (0.28.1)\n",
      "Requirement already satisfied: rich>=10.11.0 in /home/diomedea/.pyenv/versions/3.11.6/envs/graphsage/lib/python3.11/site-packages (from chromadb==0.5.23) (13.9.4)\n",
      "Requirement already satisfied: packaging>=19.1 in /home/diomedea/.pyenv/versions/3.11.6/envs/graphsage/lib/python3.11/site-packages (from build>=1.0.3->chromadb==0.5.23) (24.2)\n",
      "Requirement already satisfied: pyproject_hooks in /home/diomedea/.pyenv/versions/3.11.6/envs/graphsage/lib/python3.11/site-packages (from build>=1.0.3->chromadb==0.5.23) (1.2.0)\n",
      "Requirement already satisfied: starlette<0.47.0,>=0.40.0 in /home/diomedea/.pyenv/versions/3.11.6/envs/graphsage/lib/python3.11/site-packages (from fastapi>=0.95.2->chromadb==0.5.23) (0.46.1)\n",
      "Requirement already satisfied: anyio in /home/diomedea/.pyenv/versions/3.11.6/envs/graphsage/lib/python3.11/site-packages (from httpx>=0.27.0->chromadb==0.5.23) (4.8.0)\n",
      "Requirement already satisfied: certifi in /home/diomedea/.pyenv/versions/3.11.6/envs/graphsage/lib/python3.11/site-packages (from httpx>=0.27.0->chromadb==0.5.23) (2025.1.31)\n",
      "Requirement already satisfied: httpcore==1.* in /home/diomedea/.pyenv/versions/3.11.6/envs/graphsage/lib/python3.11/site-packages (from httpx>=0.27.0->chromadb==0.5.23) (1.0.7)\n",
      "Requirement already satisfied: idna in /home/diomedea/.pyenv/versions/3.11.6/envs/graphsage/lib/python3.11/site-packages (from httpx>=0.27.0->chromadb==0.5.23) (3.10)\n",
      "Requirement already satisfied: h11<0.15,>=0.13 in /home/diomedea/.pyenv/versions/3.11.6/envs/graphsage/lib/python3.11/site-packages (from httpcore==1.*->httpx>=0.27.0->chromadb==0.5.23) (0.14.0)\n",
      "Requirement already satisfied: six>=1.9.0 in /home/diomedea/.pyenv/versions/3.11.6/envs/graphsage/lib/python3.11/site-packages (from kubernetes>=28.1.0->chromadb==0.5.23) (1.17.0)\n",
      "Requirement already satisfied: python-dateutil>=2.5.3 in /home/diomedea/.pyenv/versions/3.11.6/envs/graphsage/lib/python3.11/site-packages (from kubernetes>=28.1.0->chromadb==0.5.23) (2.9.0.post0)\n",
      "Requirement already satisfied: google-auth>=1.0.1 in /home/diomedea/.pyenv/versions/3.11.6/envs/graphsage/lib/python3.11/site-packages (from kubernetes>=28.1.0->chromadb==0.5.23) (2.38.0)\n",
      "Requirement already satisfied: websocket-client!=0.40.0,!=0.41.*,!=0.42.*,>=0.32.0 in /home/diomedea/.pyenv/versions/3.11.6/envs/graphsage/lib/python3.11/site-packages (from kubernetes>=28.1.0->chromadb==0.5.23) (1.8.0)\n",
      "Requirement already satisfied: requests in /home/diomedea/.pyenv/versions/3.11.6/envs/graphsage/lib/python3.11/site-packages (from kubernetes>=28.1.0->chromadb==0.5.23) (2.32.3)\n",
      "Requirement already satisfied: requests-oauthlib in /home/diomedea/.pyenv/versions/3.11.6/envs/graphsage/lib/python3.11/site-packages (from kubernetes>=28.1.0->chromadb==0.5.23) (2.0.0)\n",
      "Requirement already satisfied: oauthlib>=3.2.2 in /home/diomedea/.pyenv/versions/3.11.6/envs/graphsage/lib/python3.11/site-packages (from kubernetes>=28.1.0->chromadb==0.5.23) (3.2.2)\n",
      "Requirement already satisfied: urllib3>=1.24.2 in /home/diomedea/.pyenv/versions/3.11.6/envs/graphsage/lib/python3.11/site-packages (from kubernetes>=28.1.0->chromadb==0.5.23) (2.3.0)\n",
      "Requirement already satisfied: durationpy>=0.7 in /home/diomedea/.pyenv/versions/3.11.6/envs/graphsage/lib/python3.11/site-packages (from kubernetes>=28.1.0->chromadb==0.5.23) (0.9)\n",
      "Requirement already satisfied: coloredlogs in /home/diomedea/.pyenv/versions/3.11.6/envs/graphsage/lib/python3.11/site-packages (from onnxruntime>=1.14.1->chromadb==0.5.23) (15.0.1)\n",
      "Requirement already satisfied: flatbuffers in /home/diomedea/.pyenv/versions/3.11.6/envs/graphsage/lib/python3.11/site-packages (from onnxruntime>=1.14.1->chromadb==0.5.23) (25.2.10)\n",
      "Requirement already satisfied: protobuf in /home/diomedea/.pyenv/versions/3.11.6/envs/graphsage/lib/python3.11/site-packages (from onnxruntime>=1.14.1->chromadb==0.5.23) (5.29.3)\n",
      "Requirement already satisfied: sympy in /home/diomedea/.pyenv/versions/3.11.6/envs/graphsage/lib/python3.11/site-packages (from onnxruntime>=1.14.1->chromadb==0.5.23) (1.13.1)\n",
      "Requirement already satisfied: deprecated>=1.2.6 in /home/diomedea/.pyenv/versions/3.11.6/envs/graphsage/lib/python3.11/site-packages (from opentelemetry-api>=1.2.0->chromadb==0.5.23) (1.2.18)\n",
      "Requirement already satisfied: importlib-metadata<=8.5.0,>=6.0 in /home/diomedea/.pyenv/versions/3.11.6/envs/graphsage/lib/python3.11/site-packages (from opentelemetry-api>=1.2.0->chromadb==0.5.23) (8.5.0)\n",
      "Requirement already satisfied: googleapis-common-protos~=1.52 in /home/diomedea/.pyenv/versions/3.11.6/envs/graphsage/lib/python3.11/site-packages (from opentelemetry-exporter-otlp-proto-grpc>=1.2.0->chromadb==0.5.23) (1.69.1)\n",
      "Requirement already satisfied: opentelemetry-exporter-otlp-proto-common==1.30.0 in /home/diomedea/.pyenv/versions/3.11.6/envs/graphsage/lib/python3.11/site-packages (from opentelemetry-exporter-otlp-proto-grpc>=1.2.0->chromadb==0.5.23) (1.30.0)\n",
      "Requirement already satisfied: opentelemetry-proto==1.30.0 in /home/diomedea/.pyenv/versions/3.11.6/envs/graphsage/lib/python3.11/site-packages (from opentelemetry-exporter-otlp-proto-grpc>=1.2.0->chromadb==0.5.23) (1.30.0)\n",
      "Requirement already satisfied: opentelemetry-instrumentation-asgi==0.51b0 in /home/diomedea/.pyenv/versions/3.11.6/envs/graphsage/lib/python3.11/site-packages (from opentelemetry-instrumentation-fastapi>=0.41b0->chromadb==0.5.23) (0.51b0)\n",
      "Requirement already satisfied: opentelemetry-instrumentation==0.51b0 in /home/diomedea/.pyenv/versions/3.11.6/envs/graphsage/lib/python3.11/site-packages (from opentelemetry-instrumentation-fastapi>=0.41b0->chromadb==0.5.23) (0.51b0)\n",
      "Requirement already satisfied: opentelemetry-semantic-conventions==0.51b0 in /home/diomedea/.pyenv/versions/3.11.6/envs/graphsage/lib/python3.11/site-packages (from opentelemetry-instrumentation-fastapi>=0.41b0->chromadb==0.5.23) (0.51b0)\n",
      "Requirement already satisfied: opentelemetry-util-http==0.51b0 in /home/diomedea/.pyenv/versions/3.11.6/envs/graphsage/lib/python3.11/site-packages (from opentelemetry-instrumentation-fastapi>=0.41b0->chromadb==0.5.23) (0.51b0)\n",
      "Requirement already satisfied: wrapt<2.0.0,>=1.0.0 in /home/diomedea/.pyenv/versions/3.11.6/envs/graphsage/lib/python3.11/site-packages (from opentelemetry-instrumentation==0.51b0->opentelemetry-instrumentation-fastapi>=0.41b0->chromadb==0.5.23) (1.17.2)\n",
      "Requirement already satisfied: asgiref~=3.0 in /home/diomedea/.pyenv/versions/3.11.6/envs/graphsage/lib/python3.11/site-packages (from opentelemetry-instrumentation-asgi==0.51b0->opentelemetry-instrumentation-fastapi>=0.41b0->chromadb==0.5.23) (3.8.1)\n",
      "Requirement already satisfied: monotonic>=1.5 in /home/diomedea/.pyenv/versions/3.11.6/envs/graphsage/lib/python3.11/site-packages (from posthog>=2.4.0->chromadb==0.5.23) (1.6)\n",
      "Requirement already satisfied: backoff>=1.10.0 in /home/diomedea/.pyenv/versions/3.11.6/envs/graphsage/lib/python3.11/site-packages (from posthog>=2.4.0->chromadb==0.5.23) (2.2.1)\n",
      "Requirement already satisfied: distro>=1.5.0 in /home/diomedea/.pyenv/versions/3.11.6/envs/graphsage/lib/python3.11/site-packages (from posthog>=2.4.0->chromadb==0.5.23) (1.9.0)\n",
      "Requirement already satisfied: annotated-types>=0.6.0 in /home/diomedea/.pyenv/versions/3.11.6/envs/graphsage/lib/python3.11/site-packages (from pydantic>=1.9->chromadb==0.5.23) (0.7.0)\n",
      "Requirement already satisfied: pydantic-core==2.27.2 in /home/diomedea/.pyenv/versions/3.11.6/envs/graphsage/lib/python3.11/site-packages (from pydantic>=1.9->chromadb==0.5.23) (2.27.2)\n",
      "Requirement already satisfied: markdown-it-py>=2.2.0 in /home/diomedea/.pyenv/versions/3.11.6/envs/graphsage/lib/python3.11/site-packages (from rich>=10.11.0->chromadb==0.5.23) (3.0.0)\n",
      "Requirement already satisfied: pygments<3.0.0,>=2.13.0 in /home/diomedea/.pyenv/versions/3.11.6/envs/graphsage/lib/python3.11/site-packages (from rich>=10.11.0->chromadb==0.5.23) (2.19.1)\n",
      "Requirement already satisfied: huggingface-hub<1.0,>=0.16.4 in /home/diomedea/.pyenv/versions/3.11.6/envs/graphsage/lib/python3.11/site-packages (from tokenizers<=0.20.3,>=0.13.2->chromadb==0.5.23) (0.29.2)\n",
      "Requirement already satisfied: click>=8.0.0 in /home/diomedea/.pyenv/versions/3.11.6/envs/graphsage/lib/python3.11/site-packages (from typer>=0.9.0->chromadb==0.5.23) (8.1.8)\n",
      "Requirement already satisfied: shellingham>=1.3.0 in /home/diomedea/.pyenv/versions/3.11.6/envs/graphsage/lib/python3.11/site-packages (from typer>=0.9.0->chromadb==0.5.23) (1.5.4)\n",
      "Requirement already satisfied: httptools>=0.6.3 in /home/diomedea/.pyenv/versions/3.11.6/envs/graphsage/lib/python3.11/site-packages (from uvicorn[standard]>=0.18.3->chromadb==0.5.23) (0.6.4)\n",
      "Requirement already satisfied: python-dotenv>=0.13 in /home/diomedea/.pyenv/versions/3.11.6/envs/graphsage/lib/python3.11/site-packages (from uvicorn[standard]>=0.18.3->chromadb==0.5.23) (1.0.1)\n",
      "Requirement already satisfied: uvloop!=0.15.0,!=0.15.1,>=0.14.0 in /home/diomedea/.pyenv/versions/3.11.6/envs/graphsage/lib/python3.11/site-packages (from uvicorn[standard]>=0.18.3->chromadb==0.5.23) (0.21.0)\n",
      "Requirement already satisfied: watchfiles>=0.13 in /home/diomedea/.pyenv/versions/3.11.6/envs/graphsage/lib/python3.11/site-packages (from uvicorn[standard]>=0.18.3->chromadb==0.5.23) (1.0.4)\n",
      "Requirement already satisfied: websockets>=10.4 in /home/diomedea/.pyenv/versions/3.11.6/envs/graphsage/lib/python3.11/site-packages (from uvicorn[standard]>=0.18.3->chromadb==0.5.23) (15.0.1)\n",
      "Requirement already satisfied: cachetools<6.0,>=2.0.0 in /home/diomedea/.pyenv/versions/3.11.6/envs/graphsage/lib/python3.11/site-packages (from google-auth>=1.0.1->kubernetes>=28.1.0->chromadb==0.5.23) (5.5.2)\n",
      "Requirement already satisfied: pyasn1-modules>=0.2.1 in /home/diomedea/.pyenv/versions/3.11.6/envs/graphsage/lib/python3.11/site-packages (from google-auth>=1.0.1->kubernetes>=28.1.0->chromadb==0.5.23) (0.4.1)\n",
      "Requirement already satisfied: rsa<5,>=3.1.4 in /home/diomedea/.pyenv/versions/3.11.6/envs/graphsage/lib/python3.11/site-packages (from google-auth>=1.0.1->kubernetes>=28.1.0->chromadb==0.5.23) (4.9)\n",
      "Requirement already satisfied: filelock in /home/diomedea/.pyenv/versions/3.11.6/envs/graphsage/lib/python3.11/site-packages (from huggingface-hub<1.0,>=0.16.4->tokenizers<=0.20.3,>=0.13.2->chromadb==0.5.23) (3.17.0)\n",
      "Requirement already satisfied: fsspec>=2023.5.0 in /home/diomedea/.pyenv/versions/3.11.6/envs/graphsage/lib/python3.11/site-packages (from huggingface-hub<1.0,>=0.16.4->tokenizers<=0.20.3,>=0.13.2->chromadb==0.5.23) (2025.2.0)\n",
      "Requirement already satisfied: zipp>=3.20 in /home/diomedea/.pyenv/versions/3.11.6/envs/graphsage/lib/python3.11/site-packages (from importlib-metadata<=8.5.0,>=6.0->opentelemetry-api>=1.2.0->chromadb==0.5.23) (3.21.0)\n",
      "Requirement already satisfied: mdurl~=0.1 in /home/diomedea/.pyenv/versions/3.11.6/envs/graphsage/lib/python3.11/site-packages (from markdown-it-py>=2.2.0->rich>=10.11.0->chromadb==0.5.23) (0.1.2)\n",
      "Requirement already satisfied: charset-normalizer<4,>=2 in /home/diomedea/.pyenv/versions/3.11.6/envs/graphsage/lib/python3.11/site-packages (from requests->kubernetes>=28.1.0->chromadb==0.5.23) (3.4.1)\n",
      "Requirement already satisfied: sniffio>=1.1 in /home/diomedea/.pyenv/versions/3.11.6/envs/graphsage/lib/python3.11/site-packages (from anyio->httpx>=0.27.0->chromadb==0.5.23) (1.3.1)\n",
      "Requirement already satisfied: humanfriendly>=9.1 in /home/diomedea/.pyenv/versions/3.11.6/envs/graphsage/lib/python3.11/site-packages (from coloredlogs->onnxruntime>=1.14.1->chromadb==0.5.23) (10.0)\n",
      "Requirement already satisfied: mpmath<1.4,>=1.1.0 in /home/diomedea/.pyenv/versions/3.11.6/envs/graphsage/lib/python3.11/site-packages (from sympy->onnxruntime>=1.14.1->chromadb==0.5.23) (1.3.0)\n",
      "Requirement already satisfied: pyasn1<0.7.0,>=0.4.6 in /home/diomedea/.pyenv/versions/3.11.6/envs/graphsage/lib/python3.11/site-packages (from pyasn1-modules>=0.2.1->google-auth>=1.0.1->kubernetes>=28.1.0->chromadb==0.5.23) (0.6.1)\n",
      "Requirement already satisfied: ollama==0.4.7 in /home/diomedea/.pyenv/versions/3.11.6/envs/graphsage/lib/python3.11/site-packages (0.4.7)\n",
      "Requirement already satisfied: httpx<0.29,>=0.27 in /home/diomedea/.pyenv/versions/3.11.6/envs/graphsage/lib/python3.11/site-packages (from ollama==0.4.7) (0.28.1)\n",
      "Requirement already satisfied: pydantic<3.0.0,>=2.9.0 in /home/diomedea/.pyenv/versions/3.11.6/envs/graphsage/lib/python3.11/site-packages (from ollama==0.4.7) (2.10.6)\n",
      "Requirement already satisfied: anyio in /home/diomedea/.pyenv/versions/3.11.6/envs/graphsage/lib/python3.11/site-packages (from httpx<0.29,>=0.27->ollama==0.4.7) (4.8.0)\n",
      "Requirement already satisfied: certifi in /home/diomedea/.pyenv/versions/3.11.6/envs/graphsage/lib/python3.11/site-packages (from httpx<0.29,>=0.27->ollama==0.4.7) (2025.1.31)\n",
      "Requirement already satisfied: httpcore==1.* in /home/diomedea/.pyenv/versions/3.11.6/envs/graphsage/lib/python3.11/site-packages (from httpx<0.29,>=0.27->ollama==0.4.7) (1.0.7)\n",
      "Requirement already satisfied: idna in /home/diomedea/.pyenv/versions/3.11.6/envs/graphsage/lib/python3.11/site-packages (from httpx<0.29,>=0.27->ollama==0.4.7) (3.10)\n",
      "Requirement already satisfied: h11<0.15,>=0.13 in /home/diomedea/.pyenv/versions/3.11.6/envs/graphsage/lib/python3.11/site-packages (from httpcore==1.*->httpx<0.29,>=0.27->ollama==0.4.7) (0.14.0)\n",
      "Requirement already satisfied: annotated-types>=0.6.0 in /home/diomedea/.pyenv/versions/3.11.6/envs/graphsage/lib/python3.11/site-packages (from pydantic<3.0.0,>=2.9.0->ollama==0.4.7) (0.7.0)\n",
      "Requirement already satisfied: pydantic-core==2.27.2 in /home/diomedea/.pyenv/versions/3.11.6/envs/graphsage/lib/python3.11/site-packages (from pydantic<3.0.0,>=2.9.0->ollama==0.4.7) (2.27.2)\n",
      "Requirement already satisfied: typing-extensions>=4.12.2 in /home/diomedea/.pyenv/versions/3.11.6/envs/graphsage/lib/python3.11/site-packages (from pydantic<3.0.0,>=2.9.0->ollama==0.4.7) (4.12.2)\n",
      "Requirement already satisfied: sniffio>=1.1 in /home/diomedea/.pyenv/versions/3.11.6/envs/graphsage/lib/python3.11/site-packages (from anyio->httpx<0.29,>=0.27->ollama==0.4.7) (1.3.1)\n"
     ]
    }
   ],
   "source": [
    "!pip install chromadb==0.5.23\n",
    "!pip install ollama==0.4.7"
   ]
  },
  {
   "cell_type": "code",
   "execution_count": 2,
   "metadata": {},
   "outputs": [],
   "source": [
    "import os\n",
    "import sys\n",
    "import pickle\n",
    "import chromadb\n",
    "import torch\n",
    "from chromadb import Documents, EmbeddingFunction, Embeddings\n",
    "from ollama import Client\n",
    "import numpy as np\n",
    "\n",
    "# Add \"src\" path to Python path\n",
    "sys.path.append(os.path.abspath(\"../src\"))\n",
    "\n",
    "# Import custom embedding function\n",
    "from embedding_utils import get_ollama_embedding\n",
    "from sage_utils import get_new_sage_embedding\n",
    "from graphsage import GraphSAGE\n"
   ]
  },
  {
   "cell_type": "code",
   "execution_count": 3,
   "metadata": {},
   "outputs": [],
   "source": [
    "# Load graph\n",
    "with open(\"../data/MultiHop_graph_w_sage100_embeddings.pkl\", \"rb\") as f:\n",
    "    G = pickle.load(f)"
   ]
  },
  {
   "cell_type": "code",
   "execution_count": 4,
   "metadata": {},
   "outputs": [
    {
     "data": {
      "text/plain": [
       "dict_keys(['type', 'category', 'source', 'author', 'text', 'embedding', 'SAGE_embedding'])"
      ]
     },
     "execution_count": 4,
     "metadata": {},
     "output_type": "execute_result"
    }
   ],
   "source": [
    "G.nodes[\"100_chunk_0\"].keys()"
   ]
  },
  {
   "cell_type": "code",
   "execution_count": 5,
   "metadata": {},
   "outputs": [],
   "source": [
    "# Instantiate client\n",
    "chroma_client = chromadb.Client()"
   ]
  },
  {
   "cell_type": "code",
   "execution_count": 6,
   "metadata": {},
   "outputs": [],
   "source": [
    "#chroma_client.delete_collection(\"semantic_rag\")\n",
    "#chroma_client.delete_collection(\"SAGE_rag\")"
   ]
  },
  {
   "cell_type": "code",
   "execution_count": 7,
   "metadata": {},
   "outputs": [],
   "source": [
    "# Create a collection\n",
    "collection_semrag = chroma_client.create_collection(name=\"semantic_rag\")\n",
    "\n",
    "# Iterate over the nodes and filter those with type \"chunk\"\n",
    "for node_id in G.nodes:\n",
    "    node_data = G.nodes[node_id]\n",
    "    if node_data.get(\"type\") == \"chunk\":\n",
    "        doc_text = node_data.get(\"text\", \"\")\n",
    "        doc_embedding = node_data.get(\"embedding\", None)\n",
    "        \n",
    "        # Ensure that doc_embedding is a list (or array) of floats\n",
    "        # Add the node to the collection by specifying IDs, documents, and embeddings\n",
    "        collection_semrag.add(\n",
    "            ids=[str(node_id)],         # The ID will be the node's ID (converted to a string)\n",
    "            documents=[doc_text],         # The node's text\n",
    "            embeddings=[doc_embedding]    # The precomputed embedding you already have\n",
    "        )"
   ]
  },
  {
   "cell_type": "code",
   "execution_count": 8,
   "metadata": {},
   "outputs": [],
   "source": [
    "# Create a collection\n",
    "collection_SAGErag = chroma_client.create_collection(name=\"SAGE_rag\")\n",
    "\n",
    "# Iterate over the nodes and filter those with type \"chunk\"\n",
    "for node_id in G.nodes:\n",
    "    node_data = G.nodes[node_id]\n",
    "    if node_data.get(\"type\") == \"chunk\":\n",
    "        doc_text = node_data.get(\"text\", \"\")\n",
    "        doc_embedding = node_data.get(\"SAGE_embedding\", None)\n",
    "        \n",
    "        # Ensure that doc_embedding is a list (or array) of floats\n",
    "        # Add the node to the collection by specifying IDs, documents, and embeddings\n",
    "        collection_SAGErag.add(\n",
    "            ids=[str(node_id)],         # The ID will be the node's ID (converted to a string)\n",
    "            documents=[doc_text],         # The node's text\n",
    "            embeddings=[doc_embedding]    # The precomputed embedding you already have\n",
    "        )"
   ]
  },
  {
   "cell_type": "code",
   "execution_count": 9,
   "metadata": {},
   "outputs": [
    {
     "name": "stdout",
     "output_type": "stream",
     "text": [
      "Modelo cargado exitosamente\n"
     ]
    }
   ],
   "source": [
    "# Define el modelo (debe tener la misma arquitectura que el modelo guardado)\n",
    "model = GraphSAGE(in_channels=1024,   # Input features (BGE-M3 embeddings)\n",
    "    hidden_channels=512,  # First hidden layer (alto para máxima capacidad)\n",
    "    out_channels=256,   # Output embeddings (más ricos)\n",
    "    num_layers=2)  # Reemplaza con la clase de tu modelo\n",
    "model.load_state_dict(torch.load(\"../data/graphsage_100_model.pth\"))\n",
    "model.eval()  # Cambia el modelo a modo de evaluación\n",
    "\n",
    "print(\"Modelo cargado exitosamente\")\n"
   ]
  },
  {
   "cell_type": "code",
   "execution_count": 10,
   "metadata": {},
   "outputs": [],
   "source": [
    "# Set device for model training\n",
    "device = torch.device(\"cuda\" if torch.cuda.is_available() else \"cpu\")\n",
    "\n",
    "# Move the model to the device\n",
    "model = model.to(device)"
   ]
  },
  {
   "cell_type": "code",
   "execution_count": 11,
   "metadata": {},
   "outputs": [],
   "source": [
    "# Suppose you have a query embedding 'query_embedding'\n",
    "query = \"Some query here\"\n",
    "query=\"Who is the individual associated with the cryptocurrency industry facing a criminal trial on fraud and conspiracy charges, as reported by both The Verge and TechCrunch, and is accused by prosecutors of committing fraud for personal gain?\"\n",
    "query_bgem3 = get_ollama_embedding(query)[\"embedding\"]\n",
    "query_sage = get_new_sage_embedding(model=model, new_feature=torch.tensor(query_bgem3, dtype=torch.float32).reshape(1024), device=device)"
   ]
  },
  {
   "cell_type": "code",
   "execution_count": 12,
   "metadata": {},
   "outputs": [],
   "source": [
    "query_sage = np.array(query_sage.cpu())"
   ]
  },
  {
   "cell_type": "code",
   "execution_count": 13,
   "metadata": {},
   "outputs": [
    {
     "name": "stdout",
     "output_type": "stream",
     "text": [
      "{'ids': [['31_chunk_1', '374_chunk_1', '10_chunk_1', '529_chunk_1', '53_chunk_2']], 'embeddings': None, 'documents': [['On Nov. 8, in the crypto exchange’s final few days, he tried to pull out his cash and crypto. How much? Almost $100,000, he said. And was he ever able to? “Never,” he told prosecutors.\\n\\nShortly afterward, as the trial neared late afternoon, the government called Adam Yedidia to the stand. A fast-talking graduate of MIT, he and Bankman-Fried were close friends in college, he said. And after Bankman-Fried left Jane Street, the high-frequency trading firm where the former billionaire got his start in finance after MIT, he persuaded Yedidia to join him as a trader at Alameda and then as a developer at FTX.\\n\\nWhen Yedidia first took the stand, Danielle Sassoon, one of the lead prosecutors, said that the college friend of Bankman-Fried had legal immunity during his testimony. Why did he make such a deal with the government, she asked.\\n\\n“I was concerned that I had unwittingly written code that contributed to a crime,” he said.\\n\\nSoon, however, the clock neared 4:30 p.m., and court adjourned for the day. Yedidia will continue his testimony on Thursday, followed by Matt Huang, a former partner at the high-powered venture capital firm Sequoia Capital, and then Gary Wang, a key Bankman-Fried lieutenant and one of the government’s star witnesses.', 'In late March the U.S. CFTC also filed a suit against Binance, Zhao and its Chief Compliance Officer Samuel Lim for allegedly breaking trading and derivatives rules.\\n\\nBinance has made headlines this past year for a range of reasons, including Zhao’s comments contributing to the collapse of FTX, which was once one of its top competitors. In April, Binance.US, its American sister company, broke off its $1.3 billion deal to buy crypto broker Voyager Digital’s assets due to a “hostile and uncertain regulatory climate.”\\n\\nIn August, Checkout.com cut ties with Binance over concerns about the crypto firm’s alleged issues with anti-money laundering, sanctions and compliance controls. At the time, Binance’s spokesperson said it does not agree with “Checkout’s purported basis for termination and are considering our options for legal action.”\\n\\nThe article has been updated to reflect the latest developments on charges against Binance and Zhao and include the former CEO’s statement.', 'The crypto industry as a whole suffered from FTX’s collapse, which was the first of many. BlockFi filed for Chapter 11 in November 2022, as did Genesis Global Trading in January.\\n\\nWhere we are today\\n\\nBankman-Fried will be represented by Cohen & Gresser, and Mark Cohen, a high-profile defense attorney and former federal prosecutor, will be the lead attorney. If that name sounds familiar, it might be because he also represented Ghislaine Maxwell in her sex trafficking trial related to Jeffrey Epstein. He requested an early release for Bankman-Fried but was denied.\\n\\nWith the trial beginning, we’re witnessing how FTX’s story ends. But what’s on our mind is what happens to the investors and creditors affected by the collapse? And what happens to the billions in crypto assets tied up in legal proceedings?', 'James’ lawsuit is one of several legal headaches for Trump as he campaigns for a return to the White House in 2024. He has been indicted four times in the last six months — accused in Georgia and Washington, D.C., of plotting to overturn his 2020 election loss, in Florida of hoarding classified documents, and in Manhattan of falsifying business records related to hush money paid on his behalf.\\n\\nThe Trump Organization was convicted of tax fraud last year in an unrelated criminal case for helping executives dodge taxes on extravagant perks such as Manhattan apartments and luxury cars. The company was fined $1.6 million. One of the executives, Trump’s longtime finance chief Allen Weisselberg, pleaded guilty and served five months in jail. He is a defendant in James’ lawsuit and gave sworn deposition testimony for the case in May.\\n\\nJames’ lawsuit does not carry the potential of prison time, but could complicate his ability to transact real estate deals. It could also stain his legacy as a developer.\\n\\nJames has asked Engoron to ban Trump and his three eldest children from ever again running a company based New York. She also wants Trump and the Trump Organization barred from entering into commercial real estate acquisitions for five years, among other sanctions. The $250 million in penalties she is seeking is the estimated worth of benefits derived from the alleged fraud, she said.\\n\\nJames, who campaigned for office as a Trump critic and watchdog, started scrutinizing his business practices in March 2019 after his former personal lawyer Michael Cohen testified to Congress that Trump exaggerated his wealth on financial statements provided to Deutsche Bank while trying to obtain financing to buy the NFL’s Buffalo Bills.\\n\\nJames’ office previously sued Trump for misusing his own charitable foundation to further his political and business interests. Trump was ordered to pay $2 million to an array of charities as a fine and the charity, the Trump Foundation, was shut down.', 'Besides the two obvious lies Bankman-Fried told on the stand — about Alameda Research’s name and about “allow_negative” — I have been struck by how little he seems to know about his own companies. Apparently, Singh, Wang, and Ellison were out there just doing whatever their little hearts desired. Because Bankman-Fried was a CEO, but definitely not the kind that pays any attention to money at his crypto trading firm and futures exchange.']], 'uris': None, 'data': None, 'metadatas': [[None, None, None, None, None]], 'distances': [[605.1851196289062, 634.144775390625, 649.9545288085938, 679.1190795898438, 732.1090698242188]], 'included': [<IncludeEnum.distances: 'distances'>, <IncludeEnum.documents: 'documents'>, <IncludeEnum.metadatas: 'metadatas'>]}\n"
     ]
    }
   ],
   "source": [
    "# Query the collection (semantic)\n",
    "sem_results = collection_semrag.query(\n",
    "    query_embeddings=[query_bgem3],\n",
    "    n_results=5\n",
    ")\n",
    "\n",
    "print(sem_results)"
   ]
  },
  {
   "cell_type": "code",
   "execution_count": 14,
   "metadata": {},
   "outputs": [
    {
     "name": "stdout",
     "output_type": "stream",
     "text": [
      "{'ids': [['116_chunk_1', '10_chunk_1', '374_chunk_1', '28_chunk_1', '195_chunk_1']], 'embeddings': None, 'documents': [['TechCrunch+\\n\\nTC+ subscribers get access to in-depth commentary, analysis and surveys — which you know if you’re already a subscriber. If you’re not, consider signing up. Here are a few highlights from this week:\\n\\nAnother superconductor disappointment: Tim writes that a new, supposedly room-temperature superconducting material isn’t what the scientific community hoped it would be. With the Nature-published paper detailing the material facing retraction, the odds of researchers discovering a room-temperature superconductor are looking even longer.\\n\\nKlarna inches toward an IPO: Mary Ann and Alex write that Swedish fintech Klarna is taking steps toward an eventual IPO. The company has initiated a process for a legal entity restructuring to set up a holding company in the U.K. as an important early step in its plans for an initial public offering, a Klarna spokesperson tells TechCrunch+.\\n\\nThe unicorn’s legacy isn’t over: It’s been 10 years since Cowboy Ventures’ founder Aileen Lee coined an incredibly catchy nickname for what were very rare startups at the time: Unicorns. TechCrunch+ spoke with Lee about how she feels about the term 10 years later, now that her venture firm is also a decade old.', 'The crypto industry as a whole suffered from FTX’s collapse, which was the first of many. BlockFi filed for Chapter 11 in November 2022, as did Genesis Global Trading in January.\\n\\nWhere we are today\\n\\nBankman-Fried will be represented by Cohen & Gresser, and Mark Cohen, a high-profile defense attorney and former federal prosecutor, will be the lead attorney. If that name sounds familiar, it might be because he also represented Ghislaine Maxwell in her sex trafficking trial related to Jeffrey Epstein. He requested an early release for Bankman-Fried but was denied.\\n\\nWith the trial beginning, we’re witnessing how FTX’s story ends. But what’s on our mind is what happens to the investors and creditors affected by the collapse? And what happens to the billions in crypto assets tied up in legal proceedings?', 'In late March the U.S. CFTC also filed a suit against Binance, Zhao and its Chief Compliance Officer Samuel Lim for allegedly breaking trading and derivatives rules.\\n\\nBinance has made headlines this past year for a range of reasons, including Zhao’s comments contributing to the collapse of FTX, which was once one of its top competitors. In April, Binance.US, its American sister company, broke off its $1.3 billion deal to buy crypto broker Voyager Digital’s assets due to a “hostile and uncertain regulatory climate.”\\n\\nIn August, Checkout.com cut ties with Binance over concerns about the crypto firm’s alleged issues with anti-money laundering, sanctions and compliance controls. At the time, Binance’s spokesperson said it does not agree with “Checkout’s purported basis for termination and are considering our options for legal action.”\\n\\nThe article has been updated to reflect the latest developments on charges against Binance and Zhao and include the former CEO’s statement.', 'On the losing end of Wall Street was Take-Two Interactive, which slipped 0.5 per cent after a trailer for its highly anticipated Grand Theft Auto VI video game said it’s coming in 2025. That was later than some analysts expected. Tweet of the day Quote of the day IAG chief executive Nick Hawkins said the behaviour of Peter Horton, the insurer’s group general counsel and company secretary, didn’t meet expectations set out in its employee code of ethics and conduct. “This includes the importance of being inclusive and respectful, and we will hold people to account if they fail to meet these expectations,” Hawkins said.', 'However, the timing of the bot-countering measure comes at a time when X is facing more competition than ever before. As Musk’s chaotic product and policy changes have taken root, some X users abandoned the platform for rivals or decreased their posting. A report this week from market intelligence firm Similarweb, for example, found that X’s web traffic and monthly active users on mobile had declined post-acquisition.\\n\\nUsers today have far more options for microblogging and public discourse, thanks to products from Twitter-like startups and tech companies such as Spill, Bluesky, Pebble, Countersocial, Spoutible, Hive and the open source platform Mastodon, as well as efforts from tech giants, like Meta’s new app Threads. Few of the other social apps currently charge a fee, unless it’s for premium features, like some of the third-party Mastodon apps do.\\n\\nIn addition to presenting friction at sign-up, other critics have argued a fee could exclude genuine users and increase the digital divide.\\n\\n“Even the differences in the cost of living in the Philippines and New Zealand, the ability to afford $1 is not the same in the two countries,” said Aditya Vashistha, an assistant professor of information science at Cornell University, who studies computing systems in the Global South. “Even if the rationale behind creating a paywall is right, such policies would broaden the digital divide, making it difficult for people in the Philippines to be part of a global community on X compared to those in New Zealand,” he said.\\n\\nStill, the idea of charging users a small fee to use a social platform is not a new idea. WhatsApp for years charged users a $1 annual fee up until 2016, as a means of monetization ahead of its creation of commercial services.\\n\\nGiven that X’s current tests are only an experiment, it’s not clear that the $1 fee will be a permanent requirement when the new subscription policy rolls out more broadly to other markets.']], 'uris': None, 'data': None, 'metadatas': [[None, None, None, None, None]], 'distances': [[27.425495147705078, 28.052640914916992, 29.18775749206543, 30.11866569519043, 30.18067169189453]], 'included': [<IncludeEnum.distances: 'distances'>, <IncludeEnum.documents: 'documents'>, <IncludeEnum.metadatas: 'metadatas'>]}\n"
     ]
    }
   ],
   "source": [
    "# Query the collection (SAGE)\n",
    "SAGE_results = collection_SAGErag.query(\n",
    "    query_embeddings=[query_sage],\n",
    "    n_results=5\n",
    ")\n",
    "\n",
    "print(SAGE_results)"
   ]
  },
  {
   "cell_type": "code",
   "execution_count": 15,
   "metadata": {},
   "outputs": [],
   "source": [
    "## Custom ebeddings with CHromaDB\n",
    "#from chromadb import Documents, EmbeddingFunction, Embeddings\n",
    "#\n",
    "#class MyEmbeddingFunction(EmbeddingFunction):\n",
    "#    def __call__(self, input: Documents) -> Embeddings:\n",
    "#        # embed the documents somehow\n",
    "#        return embeddings"
   ]
  },
  {
   "cell_type": "code",
   "execution_count": 16,
   "metadata": {},
   "outputs": [],
   "source": [
    "## Querying collection with custom embeddings\n",
    "#collection.query(\n",
    "#    query_embeddings=[[11.1, 12.1, 13.1],[1.1, 2.3, 3.2], ...],\n",
    "#    n_results=10,\n",
    "#    where={\"metadata_field\": \"is_equal_to_this\"},\n",
    "#    where_document={\"$contains\":\"search_string\"}\n",
    "#)"
   ]
  },
  {
   "cell_type": "code",
   "execution_count": 17,
   "metadata": {},
   "outputs": [
    {
     "name": "stdout",
     "output_type": "stream",
     "text": [
      "<think>\n",
      "Okay, let's tackle this question. The user is asking about an individual in the crypto industry facing a criminal trial for fraud and conspiracy, specifically mentioned by The Verge and TechCrunch, and accused by prosecutors of fraud for personal gain.\n",
      "\n",
      "First, I need to look through the provided context to find relevant information. The context has several chunks. Let's go through each one.\n",
      "\n",
      "The first chunk talks about someone named Bankman-Fried. It mentions his trial, prosecutors, and how he couldn't retrieve $100k. There's a reference to Adam Yedidia testifying against him. The context also mentions FTX's collapse, which aligns with the crypto industry. \n",
      "\n",
      "Another chunk discusses Binance and Zhao, but the question is about someone facing fraud charges, so maybe not Zhao since the focus here is on Bankman-Fried's trial details. \n",
      "\n",
      "The third chunk mentions Bankman-Fried's defense attorney and the aftermath of FTX's collapse. The fourth chunk is about Trump, which seems unrelated. The fifth chunk refers to Bankman-Fried's lies under oath and his lack of oversight, reinforcing his role in the fraud.\n",
      "\n",
      "Putting this together, the key person here is Bankman-Fried. The context mentions his trial, the prosecutors' accusations, and his role as CEO of FTX, which collapsed due to fraud. The mention of the defense attorney and the legal proceedings supports that he's the one on trial. The other names like Zhao or Trump are either part of other cases or different companies. \n",
      "\n",
      "The user also mentioned The Verge and TechCrunch, but since the context provided doesn't list sources, I have to rely on the content. The answer should be Bankman-Fried as all the details point to him.\n",
      "</think>\n",
      "\n",
      "The individual in question is **Sam Bankman-Fried (SBF)**, the former CEO of the cryptocurrency exchange FTX. The context details his criminal trial, where prosecutors accuse him of fraud and conspiracy, including misappropriating customer funds for personal gain and lying under oath. Key points from the context supporting this include:\n",
      "\n",
      "1. **Trial Details**: His defense attorney, Mark Cohen, is mentioned, and the trial involves witnesses like Adam Yedidia (a former close associate) testifying about code contributing to alleged crimes.\n",
      "2. **Fraud Allegations**: The collapse of FTX is linked to his actions, with prosecutors highlighting his failure to return funds (e.g., $100,000 cited in the context) and his lack of oversight over company finances.\n",
      "3. **Legal Proceedings**: The context references ongoing testimony and charges tied to his role in defrauding investors and creditors, aligning with the \"fraud and conspiracy\" charges mentioned in the question.\n",
      "\n",
      "While the sources *The Verge* and *TechCrunch* are not explicitly named in the provided context, the details match widely reported cases against Bankman-Fried by these and other outlets.\n"
     ]
    }
   ],
   "source": [
    "client = Client(\n",
    "  host='http://localhost:11434',\n",
    "  #headers={'x-some-header': 'some-value'}\n",
    ")\n",
    "response = client.chat(model='hf.co/unsloth/QwQ-32B-GGUF:Q6_K', messages=[\n",
    "  {\n",
    "    'role': 'user',\n",
    "    'content': f\"\"\"\n",
    "You are an expert assistant whose task is to answer the user's question using the provided context. Use the context to support your answer and ensure that your response is clear, accurate, and concise.\n",
    "\n",
    "Context:\n",
    "{sem_results}\n",
    "\n",
    "User Question:\n",
    "{query}\n",
    "\n",
    "Answer:\n",
    "\"\"\",\n",
    "  },\n",
    "])\n",
    "\n",
    "print(response['message']['content'])\n",
    "# or access fields directly from the response object\n",
    "# print(response.message.content)"
   ]
  },
  {
   "cell_type": "code",
   "execution_count": 18,
   "metadata": {},
   "outputs": [
    {
     "name": "stdout",
     "output_type": "stream",
     "text": [
      "<think>\n",
      "Okay, let's tackle this question step by step. The user is asking about an individual in the cryptocurrency industry who's facing a criminal trial for fraud and conspiracy, as reported by The Verge and TechCrunch. The key points here are the individual's association with crypto, the specific charges (fraud and conspiracy), and the mention by both outlets.\n",
      "\n",
      "First, I'll look through the provided context from TechCrunch. The user mentioned both The Verge and TechCrunch, but since the context here is only from TechCrunch, I'll focus on that. \n",
      "\n",
      "Looking at the documents in the context:\n",
      "\n",
      "1. The first document talks about Klarna's IPO plans and the unicorn term, so probably not related.\n",
      "2. The second document mentions FTX's collapse, BlockFi, Genesis, and refers to Bankman-Fried. It says he's represented by Mark Cohen, who also handled Ghislaine Maxwell's case. The trial is starting, and the focus is on the investors and creditors affected. This seems relevant because FTX was a major crypto exchange, and Bankman-Fried was its CEO.\n",
      "3. The third document is about Binance and Zhao, but the charges here are from the CFTC, which are regulatory, not criminal fraud and conspiracy as per the question.\n",
      "4. The fourth and fifth documents discuss other topics like Take-Two Interactive and X's subscription model, so not related.\n",
      "\n",
      "So, the key section is the second document. It specifically mentions Bankman-Fried (Sam Bankman-Fried) facing trial with his lawyer Mark Cohen. The context states that FTX's collapse was a big event in crypto, and he's involved in criminal proceedings. The user's question mentions fraud and conspiracy charges, which align with the legal issues surrounding FTX's collapse. Since the context is from TechCrunch and the question references both TechCrunch and The Verge, but the answer must be based on the given context, the answer should be Sam Bankman-Fried.\n",
      "</think>\n",
      "\n",
      "The individual associated with the cryptocurrency industry facing criminal trial on fraud and conspiracy charges, as reported by TechCrunch, is **Sam Bankman-Fried**. He is the former CEO of FTX, which collapsed amid allegations of mismanagement and fraud. The context highlights his legal representation by Mark Cohen (also linked to Ghislaine Maxwell's defense) and notes the ongoing trial's focus on investors, creditors, and billions in crypto assets tied to the case. While the question mentions *The Verge*, the provided context from TechCrunch clearly identifies Bankman-Fried as the key figure involved in these charges.\n"
     ]
    }
   ],
   "source": [
    "client = Client(\n",
    "  host='http://localhost:11434',\n",
    "  #headers={'x-some-header': 'some-value'}\n",
    ")\n",
    "response = client.chat(model='hf.co/unsloth/QwQ-32B-GGUF:Q6_K', messages=[\n",
    "  {\n",
    "    'role': 'user',\n",
    "    'content': f\"\"\"\n",
    "You are an expert assistant whose task is to answer the user's question using the provided context. Use the context to support your answer and ensure that your response is clear, accurate, and concise.\n",
    "\n",
    "Context:\n",
    "{SAGE_results}\n",
    "\n",
    "User Question:\n",
    "{query}\n",
    "\n",
    "Answer:\n",
    "\"\"\",\n",
    "  },\n",
    "])\n",
    "\n",
    "print(response['message']['content'])\n",
    "# or access fields directly from the response object\n",
    "# print(response.message.content)"
   ]
  }
 ],
 "metadata": {
  "kernelspec": {
   "display_name": "graphsage",
   "language": "python",
   "name": "python3"
  },
  "language_info": {
   "codemirror_mode": {
    "name": "ipython",
    "version": 3
   },
   "file_extension": ".py",
   "mimetype": "text/x-python",
   "name": "python",
   "nbconvert_exporter": "python",
   "pygments_lexer": "ipython3",
   "version": "3.11.6"
  }
 },
 "nbformat": 4,
 "nbformat_minor": 2
}
