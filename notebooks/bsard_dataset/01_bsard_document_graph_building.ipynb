{
 "cells": [
  {
   "cell_type": "markdown",
   "metadata": {},
   "source": [
    "## 0. Import dependencies"
   ]
  },
  {
   "cell_type": "code",
   "execution_count": 1,
   "metadata": {},
   "outputs": [],
   "source": [
    "import os\n",
    "import sys\n",
    "\n",
    "import pandas as pd\n",
    "\n",
    "\n",
    "# Determine the project root directory for relative imports\n",
    "try:\n",
    "    # This will work in scripts where __file__ is defined\n",
    "    current_dir = os.path.dirname(os.path.abspath(__file__))\n",
    "    # Assuming \"src\" is parallel to the script folder\n",
    "    project_root = os.path.abspath(os.path.join(current_dir, \"..\"))\n",
    "except NameError:\n",
    "    # In notebooks __file__ is not defined: assume we're in notebooks/riziv_dataset/\n",
    "    project_root = os.path.abspath(os.path.join(os.getcwd(), \"../..\"))\n",
    "\n",
    "src_path = os.path.join(project_root, \"src\")\n",
    "if src_path not in sys.path:\n",
    "    sys.path.append(src_path)\n",
    "\n",
    "# Local application imports"
   ]
  },
  {
   "cell_type": "markdown",
   "metadata": {},
   "source": [
    "## 1. Load data"
   ]
  },
  {
   "cell_type": "code",
   "execution_count": 2,
   "metadata": {},
   "outputs": [],
   "source": [
    "# Define the path to the BSARD dataset files\n",
    "BSARD_data_path = os.path.join(project_root, \"data\", \"BSARD_dataset\")\n",
    "\n",
    "bsard_corpus = pd.read_csv(os.path.join(BSARD_data_path, 'bsard_corpus.csv'))"
   ]
  },
  {
   "cell_type": "code",
   "execution_count": 5,
   "metadata": {},
   "outputs": [
    {
     "data": {
      "text/html": [
       "<div>\n",
       "<style scoped>\n",
       "    .dataframe tbody tr th:only-of-type {\n",
       "        vertical-align: middle;\n",
       "    }\n",
       "\n",
       "    .dataframe tbody tr th {\n",
       "        vertical-align: top;\n",
       "    }\n",
       "\n",
       "    .dataframe thead th {\n",
       "        text-align: right;\n",
       "    }\n",
       "</style>\n",
       "<table border=\"1\" class=\"dataframe\">\n",
       "  <thead>\n",
       "    <tr style=\"text-align: right;\">\n",
       "      <th></th>\n",
       "      <th>id</th>\n",
       "      <th>reference</th>\n",
       "      <th>article</th>\n",
       "      <th>law_type</th>\n",
       "      <th>code</th>\n",
       "      <th>book</th>\n",
       "      <th>part</th>\n",
       "      <th>act</th>\n",
       "      <th>chapter</th>\n",
       "      <th>section</th>\n",
       "      <th>subsection</th>\n",
       "      <th>description</th>\n",
       "    </tr>\n",
       "  </thead>\n",
       "  <tbody>\n",
       "    <tr>\n",
       "      <th>0</th>\n",
       "      <td>1</td>\n",
       "      <td>Art. 1.1.1, Code Bruxellois de l'Air, du Clima...</td>\n",
       "      <td>Le présent Code règle une matière visée à l'ar...</td>\n",
       "      <td>regional</td>\n",
       "      <td>Code Bruxellois de l'Air, du Climat et de la M...</td>\n",
       "      <td>Dispositions communes</td>\n",
       "      <td>NaN</td>\n",
       "      <td>Généralités</td>\n",
       "      <td>NaN</td>\n",
       "      <td>NaN</td>\n",
       "      <td>NaN</td>\n",
       "      <td>Dispositions communes, Généralités</td>\n",
       "    </tr>\n",
       "    <tr>\n",
       "      <th>1</th>\n",
       "      <td>2</td>\n",
       "      <td>Art. 1.1.2, Code Bruxellois de l'Air, du Clima...</td>\n",
       "      <td>Le présent Code transpose en Région de Bruxell...</td>\n",
       "      <td>regional</td>\n",
       "      <td>Code Bruxellois de l'Air, du Climat et de la M...</td>\n",
       "      <td>Dispositions communes</td>\n",
       "      <td>NaN</td>\n",
       "      <td>Généralités</td>\n",
       "      <td>NaN</td>\n",
       "      <td>NaN</td>\n",
       "      <td>NaN</td>\n",
       "      <td>Dispositions communes, Généralités</td>\n",
       "    </tr>\n",
       "    <tr>\n",
       "      <th>2</th>\n",
       "      <td>3</td>\n",
       "      <td>Art. 1.2.1, Code Bruxellois de l'Air, du Clima...</td>\n",
       "      <td>Le présent Code poursuit les objectifs suivant...</td>\n",
       "      <td>regional</td>\n",
       "      <td>Code Bruxellois de l'Air, du Climat et de la M...</td>\n",
       "      <td>Dispositions communes</td>\n",
       "      <td>NaN</td>\n",
       "      <td>Objectifs</td>\n",
       "      <td>NaN</td>\n",
       "      <td>NaN</td>\n",
       "      <td>NaN</td>\n",
       "      <td>Dispositions communes, Objectifs</td>\n",
       "    </tr>\n",
       "  </tbody>\n",
       "</table>\n",
       "</div>"
      ],
      "text/plain": [
       "   id                                          reference  \\\n",
       "0   1  Art. 1.1.1, Code Bruxellois de l'Air, du Clima...   \n",
       "1   2  Art. 1.1.2, Code Bruxellois de l'Air, du Clima...   \n",
       "2   3  Art. 1.2.1, Code Bruxellois de l'Air, du Clima...   \n",
       "\n",
       "                                             article  law_type  \\\n",
       "0  Le présent Code règle une matière visée à l'ar...  regional   \n",
       "1  Le présent Code transpose en Région de Bruxell...  regional   \n",
       "2  Le présent Code poursuit les objectifs suivant...  regional   \n",
       "\n",
       "                                                code                   book  \\\n",
       "0  Code Bruxellois de l'Air, du Climat et de la M...  Dispositions communes   \n",
       "1  Code Bruxellois de l'Air, du Climat et de la M...  Dispositions communes   \n",
       "2  Code Bruxellois de l'Air, du Climat et de la M...  Dispositions communes   \n",
       "\n",
       "  part          act chapter section subsection  \\\n",
       "0  NaN  Généralités     NaN     NaN        NaN   \n",
       "1  NaN  Généralités     NaN     NaN        NaN   \n",
       "2  NaN    Objectifs     NaN     NaN        NaN   \n",
       "\n",
       "                          description  \n",
       "0  Dispositions communes, Généralités  \n",
       "1  Dispositions communes, Généralités  \n",
       "2    Dispositions communes, Objectifs  "
      ]
     },
     "execution_count": 5,
     "metadata": {},
     "output_type": "execute_result"
    }
   ],
   "source": [
    "bsard_corpus.head(3)"
   ]
  },
  {
   "cell_type": "code",
   "execution_count": 7,
   "metadata": {},
   "outputs": [
    {
     "data": {
      "text/plain": [
       "code\n",
       "Code Réglementaire Wallon de l'Action sociale et de la Santé                 2618\n",
       "Code Judiciaire                                                              2285\n",
       "Code de Droit Economique                                                     2032\n",
       "Code Civil                                                                   1961\n",
       "Code du Bien-être au Travail                                                 1287\n",
       "Code des Sociétés et des Associations                                        1194\n",
       "Code de la Démocratie Locale et de la Décentralisation                       1159\n",
       "Code Wallon de l'Action sociale et de la Santé                               1032\n",
       "Code de la Navigation                                                         977\n",
       "Code de l'Eau intégré au Code Wallon de l'Environnement                       902\n",
       "Code Wallon du Développement Territorial                                      796\n",
       "Code d'Instruction Criminelle                                                 719\n",
       "Code Pénal                                                                    689\n",
       "Code de la Fonction Publique Wallonne                                         597\n",
       "Code Wallon de l'Agriculture                                                  461\n",
       "Code Bruxellois de l'Aménagement du Territoire                                401\n",
       "Code Wallon de l'Environnement                                                368\n",
       "Code Wallon de l'Enseignement Fondamental et de l'Enseignement Secondaire     310\n",
       "Code Pénal Social                                                             307\n",
       "Code Wallon de l'Habitation Durable                                           286\n",
       "Code Bruxellois du Logement                                                   279\n",
       "Code Forestier                                                                261\n",
       "Code Ferroviaire                                                              260\n",
       "Code Electoral                                                                218\n",
       "Code Bruxellois de l'Air, du Climat et de la Maîtrise de l'Energie            208\n",
       "La Constitution                                                               208\n",
       "Codes des Droits et Taxes Divers                                              191\n",
       "Code de Droit International Privé                                             135\n",
       "Code Wallon du Bien-être des animaux                                          108\n",
       "Code Electoral Communal Bruxellois                                            100\n",
       "Code Consulaire                                                               100\n",
       "Code Rural                                                                     87\n",
       "Code Pénal Militaire                                                           66\n",
       "Code de la Nationalité Belge                                                   31\n",
       "Name: count, dtype: int64"
      ]
     },
     "execution_count": 7,
     "metadata": {},
     "output_type": "execute_result"
    }
   ],
   "source": [
    "bsard_corpus[\"code\"].value_counts()"
   ]
  },
  {
   "cell_type": "code",
   "execution_count": 15,
   "metadata": {},
   "outputs": [
    {
     "data": {
      "text/plain": [
       "id                                                             2\n",
       "reference      Art. 1.1.2, Code Bruxellois de l'Air, du Clima...\n",
       "article        Le présent Code transpose en Région de Bruxell...\n",
       "law_type                                                regional\n",
       "code           Code Bruxellois de l'Air, du Climat et de la M...\n",
       "book                                       Dispositions communes\n",
       "part                                                         NaN\n",
       "act                                                  Généralités\n",
       "chapter                                                      NaN\n",
       "section                                                      NaN\n",
       "subsection                                                   NaN\n",
       "description                   Dispositions communes, Généralités\n",
       "Name: 1, dtype: object"
      ]
     },
     "execution_count": 15,
     "metadata": {},
     "output_type": "execute_result"
    }
   ],
   "source": [
    "bsard_corpus.iloc[1]"
   ]
  },
  {
   "cell_type": "code",
   "execution_count": 31,
   "metadata": {},
   "outputs": [
    {
     "data": {
      "text/plain": [
       "\"Art. 47, Code Wallon de l'Action sociale et de la Santé (Livre IV, Titre IV)\""
      ]
     },
     "execution_count": 31,
     "metadata": {},
     "output_type": "execute_result"
    }
   ],
   "source": [
    "bsard_corpus.iloc[9999]['reference']"
   ]
  },
  {
   "cell_type": "code",
   "execution_count": 9,
   "metadata": {},
   "outputs": [
    {
     "data": {
      "text/plain": [
       "chapter\n",
       "Agrément                                                                                                          256\n",
       "Dispositions générales                                                                                            228\n",
       "Hôpitaux psychiatriques                                                                                           206\n",
       "Subventionnement                                                                                                  198\n",
       "Les preuves.                                                                                                      155\n",
       "                                                                                                                 ... \n",
       "De la mutation temporaire.                                                                                          1\n",
       "De la permutation                                                                                                   1\n",
       "De la mutation.                                                                                                     1\n",
       "Des mandats.                                                                                                        1\n",
       "La communication de la désignation d'une personne de liaison en cas de détachement de travailleurs en belgique      1\n",
       "Name: count, Length: 1823, dtype: int64"
      ]
     },
     "execution_count": 9,
     "metadata": {},
     "output_type": "execute_result"
    }
   ],
   "source": [
    "bsard_corpus[\"chapter\"].value_counts()"
   ]
  },
  {
   "cell_type": "code",
   "execution_count": null,
   "metadata": {},
   "outputs": [],
   "source": []
  },
  {
   "cell_type": "markdown",
   "metadata": {},
   "source": [
    "## 2."
   ]
  },
  {
   "cell_type": "code",
   "execution_count": null,
   "metadata": {},
   "outputs": [],
   "source": [
    "bsard_corpus"
   ]
  },
  {
   "cell_type": "markdown",
   "metadata": {},
   "source": [
    "## 3."
   ]
  },
  {
   "cell_type": "code",
   "execution_count": null,
   "metadata": {},
   "outputs": [],
   "source": []
  }
 ],
 "metadata": {
  "kernelspec": {
   "display_name": "python311_graphsage",
   "language": "python",
   "name": "python3"
  },
  "language_info": {
   "codemirror_mode": {
    "name": "ipython",
    "version": 3
   },
   "file_extension": ".py",
   "mimetype": "text/x-python",
   "name": "python",
   "nbconvert_exporter": "python",
   "pygments_lexer": "ipython3",
   "version": "3.11.6"
  }
 },
 "nbformat": 4,
 "nbformat_minor": 2
}
