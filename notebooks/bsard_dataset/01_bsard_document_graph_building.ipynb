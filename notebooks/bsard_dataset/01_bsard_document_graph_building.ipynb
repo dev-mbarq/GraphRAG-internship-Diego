{
 "cells": [
  {
   "cell_type": "markdown",
   "metadata": {},
   "source": [
    "## 0. Import dependencies"
   ]
  },
  {
   "cell_type": "code",
   "execution_count": 1,
   "metadata": {},
   "outputs": [],
   "source": [
    "import os\n",
    "import sys\n",
    "\n",
    "import pandas as pd\n",
    "\n",
    "\n",
    "# Determine the project root directory for relative imports\n",
    "try:\n",
    "    # This will work in scripts where __file__ is defined\n",
    "    current_dir = os.path.dirname(os.path.abspath(__file__))\n",
    "    # Assuming \"src\" is parallel to the script folder\n",
    "    project_root = os.path.abspath(os.path.join(current_dir, \"..\"))\n",
    "except NameError:\n",
    "    # In notebooks __file__ is not defined: assume we're in notebooks/riziv_dataset/\n",
    "    project_root = os.path.abspath(os.path.join(os.getcwd(), \"../..\"))\n",
    "\n",
    "src_path = os.path.join(project_root, \"src\")\n",
    "if src_path not in sys.path:\n",
    "    sys.path.append(src_path)\n",
    "\n",
    "# Local application imports"
   ]
  },
  {
   "cell_type": "code",
   "execution_count": 2,
   "metadata": {},
   "outputs": [],
   "source": [
    "citation=\"Art. 12/1, Code Bruxellois de l'Aménagement du Territoire (Titre Ier, Chapitre VI)\""
   ]
  },
  {
   "cell_type": "code",
   "execution_count": 4,
   "metadata": {},
   "outputs": [],
   "source": [
    "prompt = \"\"\"You are a data‑cleaning assistant specialised in Belgian / French legal citations.\n",
    "\n",
    "## TASK\n",
    "For every *single* input string you receive, extract the following fields:\n",
    "\n",
    "• \"Article\"  – everything **before** the first comma.  \n",
    "• \"Act\"      – everything **after** the first comma but **before** the first \"(\" .  \n",
    "• \"Book\"     – full substring that begins with \"Livre\" (or \"Book\") inside the parentheses and ends with the numeral/letter that names the book.  \n",
    "• \"Title\"    – full substring that begins with \"Titre\" (or \"Title\") inside the parentheses and ends with the numeral/letter that names the title.  \n",
    "• \"Chapter\"  – full substring that begins with \"Chapitre\" (or \"Chapter\") and ends with the numeral/letter that names the chapter.  \n",
    "• \"Section\"  – full substring that begins with \"Section\" and ends with the numeral/letter that names the section.\n",
    "\n",
    "If a field is missing in the input, output `null` (not the string \"null\").\n",
    "\n",
    "## OUTPUT\n",
    "Return **one** line of pure JSON, with this exact schema and key order:\n",
    "\n",
    "{\n",
    "  \"Article\": <string>,\n",
    "  \"Act\": <string>,\n",
    "  \"Book\": <string | null>,\n",
    "  \"Title\": <string | null>,\n",
    "  \"Chapter\": <string | null>,\n",
    "  \"Section\": <string | null>\n",
    "}\n",
    "\n",
    "Do not add any surrounding markdown, explanation, or additional keys.\n",
    "\n",
    "## EXAMPLES\n",
    "### Example 1  \n",
    "Input:  \n",
    "Art. 2043quinquies, Code Civil (Titre XIV, Chapitre V)\n",
    "\n",
    "Output:\n",
    "{\n",
    "  \"Article\": \"Art. 2043quinquies\",\n",
    "  \"Act\": \"Code Civil\",\n",
    "  \"Book\": null,\n",
    "  \"Title\": \"Titre XIV\",\n",
    "  \"Chapter\": \"Chapitre V\",\n",
    "  \"Section\": null\n",
    "}\n",
    "\n",
    "### Example 2  \n",
    "Input:  \n",
    "Art. 64/1, Code Bruxellois de l'Aménagement du Territoire (Titre II, Chapitre V, Section VII)\n",
    "\n",
    "Output:\n",
    "{\n",
    "  \"Article\": \"Art. 64/1\",\n",
    "  \"Act\": \"Code Bruxellois de l'Aménagement du Territoire\",\n",
    "  \"Book\": null,\n",
    "  \"Title\": \"Titre II\",\n",
    "  \"Chapter\": \"Chapitre V\",\n",
    "  \"Section\": \"Section VII\"\n",
    "}\n",
    "\n",
    "### Example 3  \n",
    "Input:  \n",
    "Art. 2.2.2, Code Bruxellois de l'Air, du Climat et de la Maîtrise de l'Energie (Livre 2, Titre 2, Chapitre 1er, Section 2)\n",
    "\n",
    "Output:\n",
    "{\n",
    "  \"Article\": \"Art. 2.2.2\",\n",
    "  \"Act\": \"Code Bruxellois de l'Air, du Climat et de la Maîtrise de l'Energie\",\n",
    "  \"Book\": \"Livre 2\",\n",
    "  \"Title\": \"Titre 2\",\n",
    "  \"Chapter\": \"Chapitre 1er\",\n",
    "  \"Section\": \"Section 2\"\n",
    "}\n",
    "\n",
    "## EDGE RULES\n",
    "* Preserve accents and punctuation inside values exactly as they appear.  \n",
    "* Ignore spaces before/after commas and parentheses when extracting.  \n",
    "* Numerals can be Roman (XIV) or Arabic (2). Keep whatever form appears.  \n",
    "* Never invent data that is not present.\n",
    "\n",
    "Begin when ready – remember: one JSON object, no commentary.\n",
    "\"\"\"\n",
    "\n"
   ]
  },
  {
   "cell_type": "code",
   "execution_count": 5,
   "metadata": {},
   "outputs": [],
   "source": [
    "payload = {\n",
    "  \"model\": \"gemma3:1b-it-fp16\",\n",
    "  \"messages\": [\n",
    "    {\n",
    "      \"role\": \"system\",\n",
    "      \"content\": (\n",
    "        \"You are a data‑cleaning assistant. \"\n",
    "        \"Always respond with exactly one JSON object that conforms to the schema \"\n",
    "        \"provided in the `format` parameter. Do not output anything else.\"\n",
    "      )\n",
    "    },\n",
    "    {\n",
    "      # `prompt` is the multiline string we created earlier\n",
    "      \"role\": \"user\",\n",
    "      \"content\": prompt + (f\"## INPUT to analyze: {citation} \")\n",
    "    }\n",
    "  ],\n",
    "  \"stream\": False,\n",
    "  \"format\": {\n",
    "    \"type\": \"object\",\n",
    "    \"properties\": {\n",
    "      \"Article\":  { \"type\": [\"string\", \"null\"] },\n",
    "      \"Act\":      { \"type\": [\"string\", \"null\"] },\n",
    "      \"Book\":     { \"type\": [\"string\", \"null\"] },\n",
    "      \"Title\":    { \"type\": [\"string\", \"null\"] },\n",
    "      \"Chapter\":  { \"type\": [\"string\", \"null\"] },\n",
    "      \"Section\":  { \"type\": [\"string\", \"null\"] }\n",
    "    },\n",
    "    \"required\": [\n",
    "      \"Article\",\n",
    "      \"Act\",\n",
    "      \"Book\",\n",
    "      \"Title\",\n",
    "      \"Chapter\",\n",
    "      \"Section\"\n",
    "    ]\n",
    "  }\n",
    "}\n"
   ]
  },
  {
   "cell_type": "code",
   "execution_count": 11,
   "metadata": {},
   "outputs": [],
   "source": [
    "#http://localhost:11434\n",
    "\n",
    "import requests\n",
    "from pydantic import BaseModel\n",
    "\n",
    "# class ArticleData(BaseModel):\n",
    "\n",
    "    \n",
    "\n",
    "url = f\"http://localhost:11434/api/chat\"\n",
    "payload = payload\n",
    "\n",
    "try:\n",
    "    response = requests.post(url, json=payload)\n",
    "    response.raise_for_status()  # Raise an error for HTTP request failures\n",
    "    # return response.json()\n",
    "except requests.exceptions.RequestException as e:\n",
    "    print(f\"Error fetching embedding: {e}\")\n",
    "    # return None"
   ]
  },
  {
   "cell_type": "code",
   "execution_count": null,
   "metadata": {},
   "outputs": [],
   "source": [
    "\"Art. 12/1, Code Bruxellois de l'Aménagement du Territoire (Titre Ier, Chapitre VI)\""
   ]
  },
  {
   "cell_type": "code",
   "execution_count": 12,
   "metadata": {},
   "outputs": [
    {
     "data": {
      "text/plain": [
       "{'model': 'gemma3:1b-it-fp16',\n",
       " 'created_at': '2025-04-18T17:46:51.691135082Z',\n",
       " 'message': {'role': 'assistant',\n",
       "  'content': '{\"Article\": \"Art. 12/1\", \"Act\": \"Code Bruxellois de l\\'Aménagement du Territore\", \"Book\": \"Livre Ier\", \"Title\": \"Titre Ier\", \"Chapter\": \"Chapitre VI\", \"Section\": null}'},\n",
       " 'done_reason': 'stop',\n",
       " 'done': True,\n",
       " 'total_duration': 861403175,\n",
       " 'load_duration': 29834429,\n",
       " 'prompt_eval_count': 870,\n",
       " 'prompt_eval_duration': 134140925,\n",
       " 'eval_count': 64,\n",
       " 'eval_duration': 402537894}"
      ]
     },
     "execution_count": 12,
     "metadata": {},
     "output_type": "execute_result"
    }
   ],
   "source": [
    "response.json()"
   ]
  },
  {
   "cell_type": "markdown",
   "metadata": {},
   "source": [
    "## 1. Load data"
   ]
  },
  {
   "cell_type": "code",
   "execution_count": 2,
   "metadata": {},
   "outputs": [],
   "source": [
    "# Define the path to the BSARD dataset files\n",
    "BSARD_data_path = os.path.join(project_root, \"data\", \"BSARD_dataset\")\n",
    "\n",
    "bsard_corpus = pd.read_csv(os.path.join(BSARD_data_path, 'bsard_corpus.csv'))"
   ]
  },
  {
   "cell_type": "code",
   "execution_count": 5,
   "metadata": {},
   "outputs": [
    {
     "data": {
      "text/html": [
       "<div>\n",
       "<style scoped>\n",
       "    .dataframe tbody tr th:only-of-type {\n",
       "        vertical-align: middle;\n",
       "    }\n",
       "\n",
       "    .dataframe tbody tr th {\n",
       "        vertical-align: top;\n",
       "    }\n",
       "\n",
       "    .dataframe thead th {\n",
       "        text-align: right;\n",
       "    }\n",
       "</style>\n",
       "<table border=\"1\" class=\"dataframe\">\n",
       "  <thead>\n",
       "    <tr style=\"text-align: right;\">\n",
       "      <th></th>\n",
       "      <th>id</th>\n",
       "      <th>reference</th>\n",
       "      <th>article</th>\n",
       "      <th>law_type</th>\n",
       "      <th>code</th>\n",
       "      <th>book</th>\n",
       "      <th>part</th>\n",
       "      <th>act</th>\n",
       "      <th>chapter</th>\n",
       "      <th>section</th>\n",
       "      <th>subsection</th>\n",
       "      <th>description</th>\n",
       "    </tr>\n",
       "  </thead>\n",
       "  <tbody>\n",
       "    <tr>\n",
       "      <th>0</th>\n",
       "      <td>1</td>\n",
       "      <td>Art. 1.1.1, Code Bruxellois de l'Air, du Clima...</td>\n",
       "      <td>Le présent Code règle une matière visée à l'ar...</td>\n",
       "      <td>regional</td>\n",
       "      <td>Code Bruxellois de l'Air, du Climat et de la M...</td>\n",
       "      <td>Dispositions communes</td>\n",
       "      <td>NaN</td>\n",
       "      <td>Généralités</td>\n",
       "      <td>NaN</td>\n",
       "      <td>NaN</td>\n",
       "      <td>NaN</td>\n",
       "      <td>Dispositions communes, Généralités</td>\n",
       "    </tr>\n",
       "    <tr>\n",
       "      <th>1</th>\n",
       "      <td>2</td>\n",
       "      <td>Art. 1.1.2, Code Bruxellois de l'Air, du Clima...</td>\n",
       "      <td>Le présent Code transpose en Région de Bruxell...</td>\n",
       "      <td>regional</td>\n",
       "      <td>Code Bruxellois de l'Air, du Climat et de la M...</td>\n",
       "      <td>Dispositions communes</td>\n",
       "      <td>NaN</td>\n",
       "      <td>Généralités</td>\n",
       "      <td>NaN</td>\n",
       "      <td>NaN</td>\n",
       "      <td>NaN</td>\n",
       "      <td>Dispositions communes, Généralités</td>\n",
       "    </tr>\n",
       "    <tr>\n",
       "      <th>2</th>\n",
       "      <td>3</td>\n",
       "      <td>Art. 1.2.1, Code Bruxellois de l'Air, du Clima...</td>\n",
       "      <td>Le présent Code poursuit les objectifs suivant...</td>\n",
       "      <td>regional</td>\n",
       "      <td>Code Bruxellois de l'Air, du Climat et de la M...</td>\n",
       "      <td>Dispositions communes</td>\n",
       "      <td>NaN</td>\n",
       "      <td>Objectifs</td>\n",
       "      <td>NaN</td>\n",
       "      <td>NaN</td>\n",
       "      <td>NaN</td>\n",
       "      <td>Dispositions communes, Objectifs</td>\n",
       "    </tr>\n",
       "  </tbody>\n",
       "</table>\n",
       "</div>"
      ],
      "text/plain": [
       "   id                                          reference  \\\n",
       "0   1  Art. 1.1.1, Code Bruxellois de l'Air, du Clima...   \n",
       "1   2  Art. 1.1.2, Code Bruxellois de l'Air, du Clima...   \n",
       "2   3  Art. 1.2.1, Code Bruxellois de l'Air, du Clima...   \n",
       "\n",
       "                                             article  law_type  \\\n",
       "0  Le présent Code règle une matière visée à l'ar...  regional   \n",
       "1  Le présent Code transpose en Région de Bruxell...  regional   \n",
       "2  Le présent Code poursuit les objectifs suivant...  regional   \n",
       "\n",
       "                                                code                   book  \\\n",
       "0  Code Bruxellois de l'Air, du Climat et de la M...  Dispositions communes   \n",
       "1  Code Bruxellois de l'Air, du Climat et de la M...  Dispositions communes   \n",
       "2  Code Bruxellois de l'Air, du Climat et de la M...  Dispositions communes   \n",
       "\n",
       "  part          act chapter section subsection  \\\n",
       "0  NaN  Généralités     NaN     NaN        NaN   \n",
       "1  NaN  Généralités     NaN     NaN        NaN   \n",
       "2  NaN    Objectifs     NaN     NaN        NaN   \n",
       "\n",
       "                          description  \n",
       "0  Dispositions communes, Généralités  \n",
       "1  Dispositions communes, Généralités  \n",
       "2    Dispositions communes, Objectifs  "
      ]
     },
     "execution_count": 5,
     "metadata": {},
     "output_type": "execute_result"
    }
   ],
   "source": [
    "bsard_corpus.head(3)"
   ]
  },
  {
   "cell_type": "code",
   "execution_count": 7,
   "metadata": {},
   "outputs": [
    {
     "data": {
      "text/plain": [
       "code\n",
       "Code Réglementaire Wallon de l'Action sociale et de la Santé                 2618\n",
       "Code Judiciaire                                                              2285\n",
       "Code de Droit Economique                                                     2032\n",
       "Code Civil                                                                   1961\n",
       "Code du Bien-être au Travail                                                 1287\n",
       "Code des Sociétés et des Associations                                        1194\n",
       "Code de la Démocratie Locale et de la Décentralisation                       1159\n",
       "Code Wallon de l'Action sociale et de la Santé                               1032\n",
       "Code de la Navigation                                                         977\n",
       "Code de l'Eau intégré au Code Wallon de l'Environnement                       902\n",
       "Code Wallon du Développement Territorial                                      796\n",
       "Code d'Instruction Criminelle                                                 719\n",
       "Code Pénal                                                                    689\n",
       "Code de la Fonction Publique Wallonne                                         597\n",
       "Code Wallon de l'Agriculture                                                  461\n",
       "Code Bruxellois de l'Aménagement du Territoire                                401\n",
       "Code Wallon de l'Environnement                                                368\n",
       "Code Wallon de l'Enseignement Fondamental et de l'Enseignement Secondaire     310\n",
       "Code Pénal Social                                                             307\n",
       "Code Wallon de l'Habitation Durable                                           286\n",
       "Code Bruxellois du Logement                                                   279\n",
       "Code Forestier                                                                261\n",
       "Code Ferroviaire                                                              260\n",
       "Code Electoral                                                                218\n",
       "Code Bruxellois de l'Air, du Climat et de la Maîtrise de l'Energie            208\n",
       "La Constitution                                                               208\n",
       "Codes des Droits et Taxes Divers                                              191\n",
       "Code de Droit International Privé                                             135\n",
       "Code Wallon du Bien-être des animaux                                          108\n",
       "Code Electoral Communal Bruxellois                                            100\n",
       "Code Consulaire                                                               100\n",
       "Code Rural                                                                     87\n",
       "Code Pénal Militaire                                                           66\n",
       "Code de la Nationalité Belge                                                   31\n",
       "Name: count, dtype: int64"
      ]
     },
     "execution_count": 7,
     "metadata": {},
     "output_type": "execute_result"
    }
   ],
   "source": [
    "bsard_corpus[\"code\"].value_counts()"
   ]
  },
  {
   "cell_type": "code",
   "execution_count": 15,
   "metadata": {},
   "outputs": [
    {
     "data": {
      "text/plain": [
       "id                                                             2\n",
       "reference      Art. 1.1.2, Code Bruxellois de l'Air, du Clima...\n",
       "article        Le présent Code transpose en Région de Bruxell...\n",
       "law_type                                                regional\n",
       "code           Code Bruxellois de l'Air, du Climat et de la M...\n",
       "book                                       Dispositions communes\n",
       "part                                                         NaN\n",
       "act                                                  Généralités\n",
       "chapter                                                      NaN\n",
       "section                                                      NaN\n",
       "subsection                                                   NaN\n",
       "description                   Dispositions communes, Généralités\n",
       "Name: 1, dtype: object"
      ]
     },
     "execution_count": 15,
     "metadata": {},
     "output_type": "execute_result"
    }
   ],
   "source": [
    "bsard_corpus.iloc[1]"
   ]
  },
  {
   "cell_type": "code",
   "execution_count": 31,
   "metadata": {},
   "outputs": [
    {
     "data": {
      "text/plain": [
       "\"Art. 47, Code Wallon de l'Action sociale et de la Santé (Livre IV, Titre IV)\""
      ]
     },
     "execution_count": 31,
     "metadata": {},
     "output_type": "execute_result"
    }
   ],
   "source": [
    "bsard_corpus.iloc[9999]['reference']"
   ]
  },
  {
   "cell_type": "code",
   "execution_count": 9,
   "metadata": {},
   "outputs": [
    {
     "data": {
      "text/plain": [
       "chapter\n",
       "Agrément                                                                                                          256\n",
       "Dispositions générales                                                                                            228\n",
       "Hôpitaux psychiatriques                                                                                           206\n",
       "Subventionnement                                                                                                  198\n",
       "Les preuves.                                                                                                      155\n",
       "                                                                                                                 ... \n",
       "De la mutation temporaire.                                                                                          1\n",
       "De la permutation                                                                                                   1\n",
       "De la mutation.                                                                                                     1\n",
       "Des mandats.                                                                                                        1\n",
       "La communication de la désignation d'une personne de liaison en cas de détachement de travailleurs en belgique      1\n",
       "Name: count, Length: 1823, dtype: int64"
      ]
     },
     "execution_count": 9,
     "metadata": {},
     "output_type": "execute_result"
    }
   ],
   "source": [
    "bsard_corpus[\"chapter\"].value_counts()"
   ]
  },
  {
   "cell_type": "code",
   "execution_count": null,
   "metadata": {},
   "outputs": [],
   "source": []
  },
  {
   "cell_type": "markdown",
   "metadata": {},
   "source": [
    "## 2."
   ]
  },
  {
   "cell_type": "code",
   "execution_count": null,
   "metadata": {},
   "outputs": [],
   "source": [
    "bsard_corpus"
   ]
  },
  {
   "cell_type": "markdown",
   "metadata": {},
   "source": [
    "## 3."
   ]
  },
  {
   "cell_type": "code",
   "execution_count": null,
   "metadata": {},
   "outputs": [],
   "source": []
  }
 ],
 "metadata": {
  "kernelspec": {
   "display_name": "graphsage",
   "language": "python",
   "name": "python3"
  },
  "language_info": {
   "codemirror_mode": {
    "name": "ipython",
    "version": 3
   },
   "file_extension": ".py",
   "mimetype": "text/x-python",
   "name": "python",
   "nbconvert_exporter": "python",
   "pygments_lexer": "ipython3",
   "version": "3.11.6"
  }
 },
 "nbformat": 4,
 "nbformat_minor": 2
}
